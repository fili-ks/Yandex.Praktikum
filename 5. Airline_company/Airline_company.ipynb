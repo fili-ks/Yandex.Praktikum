{
 "cells": [
  {
   "cell_type": "markdown",
   "metadata": {},
   "source": [
    "# Аналитика в авиакомпании"
   ]
  },
  {
   "cell_type": "markdown",
   "metadata": {},
   "source": [
    "Представлены два набора данных, в которых содержатся результаты запросов из предыдущих заданий: <br>\n",
    "\n",
    "1. **/datasets/query_1.csv** В нём содержится информация о:<br>\n",
    "model — модели самолета<br>\n",
    "flights_amount — количество рейсов для каждой модели самолетов model в сентябре 2018 года<br>\n",
    "2. **/datasets/query_3.csv** В нём содержится информация о:<br>\n",
    "city — городах<br>\n",
    "average_flights — среднем количестве рейсов, прибывающих в город city за день в августе 2018 года<br>\n",
    "\n",
    "Для этих двух наборов данных нужно:<br>\n",
    "- импортировать файлы;<br>\n",
    "- изучить данные в них;<br>\n",
    "- проверить типы данных на корректность;<br>\n",
    "- выбрать топ-10 городов по количеству рейсов;<br>\n",
    "- построить графики: модели самолетов и количество рейсов, города и количество рейсов, топ-10 городов и количество рейсов;<br>\n",
    "- сделать выводы по каждому из графиков, пояснить результат.\n"
   ]
  },
  {
   "cell_type": "markdown",
   "metadata": {},
   "source": [
    "### Изучение данных"
   ]
  },
  {
   "cell_type": "code",
   "execution_count": 1,
   "metadata": {},
   "outputs": [],
   "source": [
    "import pandas as pd\n",
    "import matplotlib.pyplot as plt "
   ]
  },
  {
   "cell_type": "code",
   "execution_count": 2,
   "metadata": {},
   "outputs": [],
   "source": [
    "flights_model = pd.read_csv('/datasets/query_1.csv')\n",
    "flights_city = pd.read_csv('/datasets/query_3.csv')"
   ]
  },
  {
   "cell_type": "markdown",
   "metadata": {},
   "source": [
    "Посмотрим на данные в первом датасете:"
   ]
  },
  {
   "cell_type": "code",
   "execution_count": 3,
   "metadata": {
    "scrolled": true
   },
   "outputs": [
    {
     "data": {
      "text/html": [
       "<div>\n",
       "<style scoped>\n",
       "    .dataframe tbody tr th:only-of-type {\n",
       "        vertical-align: middle;\n",
       "    }\n",
       "\n",
       "    .dataframe tbody tr th {\n",
       "        vertical-align: top;\n",
       "    }\n",
       "\n",
       "    .dataframe thead th {\n",
       "        text-align: right;\n",
       "    }\n",
       "</style>\n",
       "<table border=\"1\" class=\"dataframe\">\n",
       "  <thead>\n",
       "    <tr style=\"text-align: right;\">\n",
       "      <th></th>\n",
       "      <th>model</th>\n",
       "      <th>flights_amount</th>\n",
       "    </tr>\n",
       "  </thead>\n",
       "  <tbody>\n",
       "    <tr>\n",
       "      <td>0</td>\n",
       "      <td>Airbus A319-100</td>\n",
       "      <td>607</td>\n",
       "    </tr>\n",
       "    <tr>\n",
       "      <td>1</td>\n",
       "      <td>Airbus A321-200</td>\n",
       "      <td>960</td>\n",
       "    </tr>\n",
       "    <tr>\n",
       "      <td>2</td>\n",
       "      <td>Boeing 737-300</td>\n",
       "      <td>630</td>\n",
       "    </tr>\n",
       "    <tr>\n",
       "      <td>3</td>\n",
       "      <td>Boeing 767-300</td>\n",
       "      <td>600</td>\n",
       "    </tr>\n",
       "    <tr>\n",
       "      <td>4</td>\n",
       "      <td>Boeing 777-300</td>\n",
       "      <td>300</td>\n",
       "    </tr>\n",
       "    <tr>\n",
       "      <td>5</td>\n",
       "      <td>Bombardier CRJ-200</td>\n",
       "      <td>4446</td>\n",
       "    </tr>\n",
       "    <tr>\n",
       "      <td>6</td>\n",
       "      <td>Cessna 208 Caravan</td>\n",
       "      <td>4557</td>\n",
       "    </tr>\n",
       "    <tr>\n",
       "      <td>7</td>\n",
       "      <td>Sukhoi SuperJet-100</td>\n",
       "      <td>4185</td>\n",
       "    </tr>\n",
       "  </tbody>\n",
       "</table>\n",
       "</div>"
      ],
      "text/plain": [
       "                 model  flights_amount\n",
       "0      Airbus A319-100             607\n",
       "1      Airbus A321-200             960\n",
       "2       Boeing 737-300             630\n",
       "3       Boeing 767-300             600\n",
       "4       Boeing 777-300             300\n",
       "5   Bombardier CRJ-200            4446\n",
       "6   Cessna 208 Caravan            4557\n",
       "7  Sukhoi SuperJet-100            4185"
      ]
     },
     "execution_count": 3,
     "metadata": {},
     "output_type": "execute_result"
    }
   ],
   "source": [
    "flights_model"
   ]
  },
  {
   "cell_type": "markdown",
   "metadata": {},
   "source": [
    "Есть тройка явных лидеров - **Bombardier CRJ-200** (пассажировместимостью от 40 до 50 человек), **Cessna 208 Caravan** (небольшой самолет на 9 человек) и **Sukhoi SuperJet-100** (предназначенный для перевозки от 87 до 108 пассажиров). <br>\n",
    "На последнем месте по количеству рейсов - **Boeing 777-300** (позволяет разместить до 550 пассажиров в одноклассной конфигурации, а максимальная дальность составляет чуть больше 11 тысяч км). <br>\n",
    "Данные по пассажировместимости из Википедии. <br>\n",
    "Можно предположить, что чаще всего летают небольшие самолеты из-за того, что скорее всего, они дешевле в обслуживании и потребляют меньше топлива, что является прекрасным вариантом для полетов внутри страны.\n",
    "Boeing 777-300 же может летать далеко, при этом перевозить большое количество пассажиров за раз."
   ]
  },
  {
   "cell_type": "code",
   "execution_count": 4,
   "metadata": {
    "scrolled": true
   },
   "outputs": [
    {
     "name": "stdout",
     "output_type": "stream",
     "text": [
      "<class 'pandas.core.frame.DataFrame'>\n",
      "RangeIndex: 8 entries, 0 to 7\n",
      "Data columns (total 2 columns):\n",
      "model             8 non-null object\n",
      "flights_amount    8 non-null int64\n",
      "dtypes: int64(1), object(1)\n",
      "memory usage: 256.0+ bytes\n"
     ]
    }
   ],
   "source": [
    "flights_model.info()"
   ]
  },
  {
   "cell_type": "markdown",
   "metadata": {},
   "source": [
    "Тип данных - корректный, пропущенных значений нет. Все в порядке."
   ]
  },
  {
   "cell_type": "code",
   "execution_count": 5,
   "metadata": {
    "scrolled": true
   },
   "outputs": [
    {
     "data": {
      "text/html": [
       "<div>\n",
       "<style scoped>\n",
       "    .dataframe tbody tr th:only-of-type {\n",
       "        vertical-align: middle;\n",
       "    }\n",
       "\n",
       "    .dataframe tbody tr th {\n",
       "        vertical-align: top;\n",
       "    }\n",
       "\n",
       "    .dataframe thead th {\n",
       "        text-align: right;\n",
       "    }\n",
       "</style>\n",
       "<table border=\"1\" class=\"dataframe\">\n",
       "  <thead>\n",
       "    <tr style=\"text-align: right;\">\n",
       "      <th></th>\n",
       "      <th>city</th>\n",
       "      <th>average_flights</th>\n",
       "    </tr>\n",
       "  </thead>\n",
       "  <tbody>\n",
       "    <tr>\n",
       "      <td>0</td>\n",
       "      <td>Абакан</td>\n",
       "      <td>3.870968</td>\n",
       "    </tr>\n",
       "    <tr>\n",
       "      <td>1</td>\n",
       "      <td>Анадырь</td>\n",
       "      <td>1.000000</td>\n",
       "    </tr>\n",
       "    <tr>\n",
       "      <td>2</td>\n",
       "      <td>Анапа</td>\n",
       "      <td>2.161290</td>\n",
       "    </tr>\n",
       "    <tr>\n",
       "      <td>3</td>\n",
       "      <td>Архангельск</td>\n",
       "      <td>5.354839</td>\n",
       "    </tr>\n",
       "    <tr>\n",
       "      <td>4</td>\n",
       "      <td>Астрахань</td>\n",
       "      <td>2.451613</td>\n",
       "    </tr>\n",
       "    <tr>\n",
       "      <td>...</td>\n",
       "      <td>...</td>\n",
       "      <td>...</td>\n",
       "    </tr>\n",
       "    <tr>\n",
       "      <td>96</td>\n",
       "      <td>Чита</td>\n",
       "      <td>1.580645</td>\n",
       "    </tr>\n",
       "    <tr>\n",
       "      <td>97</td>\n",
       "      <td>Элиста</td>\n",
       "      <td>4.870968</td>\n",
       "    </tr>\n",
       "    <tr>\n",
       "      <td>98</td>\n",
       "      <td>Южно-Сахалинск</td>\n",
       "      <td>4.290323</td>\n",
       "    </tr>\n",
       "    <tr>\n",
       "      <td>99</td>\n",
       "      <td>Якутск</td>\n",
       "      <td>2.741935</td>\n",
       "    </tr>\n",
       "    <tr>\n",
       "      <td>100</td>\n",
       "      <td>Ярославль</td>\n",
       "      <td>1.322581</td>\n",
       "    </tr>\n",
       "  </tbody>\n",
       "</table>\n",
       "<p>101 rows × 2 columns</p>\n",
       "</div>"
      ],
      "text/plain": [
       "               city  average_flights\n",
       "0            Абакан         3.870968\n",
       "1           Анадырь         1.000000\n",
       "2             Анапа         2.161290\n",
       "3       Архангельск         5.354839\n",
       "4         Астрахань         2.451613\n",
       "..              ...              ...\n",
       "96             Чита         1.580645\n",
       "97           Элиста         4.870968\n",
       "98   Южно-Сахалинск         4.290323\n",
       "99           Якутск         2.741935\n",
       "100       Ярославль         1.322581\n",
       "\n",
       "[101 rows x 2 columns]"
      ]
     },
     "execution_count": 5,
     "metadata": {},
     "output_type": "execute_result"
    }
   ],
   "source": [
    "flights_city"
   ]
  },
  {
   "cell_type": "code",
   "execution_count": 6,
   "metadata": {},
   "outputs": [
    {
     "name": "stdout",
     "output_type": "stream",
     "text": [
      "<class 'pandas.core.frame.DataFrame'>\n",
      "RangeIndex: 101 entries, 0 to 100\n",
      "Data columns (total 2 columns):\n",
      "city               101 non-null object\n",
      "average_flights    101 non-null float64\n",
      "dtypes: float64(1), object(1)\n",
      "memory usage: 1.7+ KB\n"
     ]
    }
   ],
   "source": [
    "flights_city.info()"
   ]
  },
  {
   "cell_type": "markdown",
   "metadata": {},
   "source": [
    "Единственное - для удобства можно округлить значения в average_flights:"
   ]
  },
  {
   "cell_type": "code",
   "execution_count": 7,
   "metadata": {},
   "outputs": [],
   "source": [
    "flights_city['average_flights'] = round(flights_city['average_flights'], 2)"
   ]
  },
  {
   "cell_type": "code",
   "execution_count": 8,
   "metadata": {},
   "outputs": [
    {
     "data": {
      "text/html": [
       "<div>\n",
       "<style scoped>\n",
       "    .dataframe tbody tr th:only-of-type {\n",
       "        vertical-align: middle;\n",
       "    }\n",
       "\n",
       "    .dataframe tbody tr th {\n",
       "        vertical-align: top;\n",
       "    }\n",
       "\n",
       "    .dataframe thead th {\n",
       "        text-align: right;\n",
       "    }\n",
       "</style>\n",
       "<table border=\"1\" class=\"dataframe\">\n",
       "  <thead>\n",
       "    <tr style=\"text-align: right;\">\n",
       "      <th></th>\n",
       "      <th>average_flights</th>\n",
       "    </tr>\n",
       "  </thead>\n",
       "  <tbody>\n",
       "    <tr>\n",
       "      <td>count</td>\n",
       "      <td>101.000000</td>\n",
       "    </tr>\n",
       "    <tr>\n",
       "      <td>mean</td>\n",
       "      <td>5.493663</td>\n",
       "    </tr>\n",
       "    <tr>\n",
       "      <td>std</td>\n",
       "      <td>13.119346</td>\n",
       "    </tr>\n",
       "    <tr>\n",
       "      <td>min</td>\n",
       "      <td>1.000000</td>\n",
       "    </tr>\n",
       "    <tr>\n",
       "      <td>25%</td>\n",
       "      <td>2.000000</td>\n",
       "    </tr>\n",
       "    <tr>\n",
       "      <td>50%</td>\n",
       "      <td>3.000000</td>\n",
       "    </tr>\n",
       "    <tr>\n",
       "      <td>75%</td>\n",
       "      <td>5.870000</td>\n",
       "    </tr>\n",
       "    <tr>\n",
       "      <td>max</td>\n",
       "      <td>129.770000</td>\n",
       "    </tr>\n",
       "  </tbody>\n",
       "</table>\n",
       "</div>"
      ],
      "text/plain": [
       "       average_flights\n",
       "count       101.000000\n",
       "mean          5.493663\n",
       "std          13.119346\n",
       "min           1.000000\n",
       "25%           2.000000\n",
       "50%           3.000000\n",
       "75%           5.870000\n",
       "max         129.770000"
      ]
     },
     "execution_count": 8,
     "metadata": {},
     "output_type": "execute_result"
    }
   ],
   "source": [
    "flights_city.describe()"
   ]
  },
  {
   "cell_type": "markdown",
   "metadata": {},
   "source": [
    "Максимальное количество рейсов в день - почти 130. Меньше всего - 1. <br>\n",
    "Среднее значение - 5 рейсов в день. "
   ]
  },
  {
   "cell_type": "markdown",
   "metadata": {},
   "source": [
    "Выберем топ-10 городов по количеству рейсов:"
   ]
  },
  {
   "cell_type": "code",
   "execution_count": 9,
   "metadata": {},
   "outputs": [
    {
     "data": {
      "text/html": [
       "<div>\n",
       "<style scoped>\n",
       "    .dataframe tbody tr th:only-of-type {\n",
       "        vertical-align: middle;\n",
       "    }\n",
       "\n",
       "    .dataframe tbody tr th {\n",
       "        vertical-align: top;\n",
       "    }\n",
       "\n",
       "    .dataframe thead th {\n",
       "        text-align: right;\n",
       "    }\n",
       "</style>\n",
       "<table border=\"1\" class=\"dataframe\">\n",
       "  <thead>\n",
       "    <tr style=\"text-align: right;\">\n",
       "      <th></th>\n",
       "      <th>city</th>\n",
       "      <th>average_flights</th>\n",
       "    </tr>\n",
       "  </thead>\n",
       "  <tbody>\n",
       "    <tr>\n",
       "      <td>43</td>\n",
       "      <td>Москва</td>\n",
       "      <td>129.77</td>\n",
       "    </tr>\n",
       "    <tr>\n",
       "      <td>70</td>\n",
       "      <td>Санкт-Петербург</td>\n",
       "      <td>31.16</td>\n",
       "    </tr>\n",
       "    <tr>\n",
       "      <td>54</td>\n",
       "      <td>Новосибирск</td>\n",
       "      <td>17.32</td>\n",
       "    </tr>\n",
       "    <tr>\n",
       "      <td>33</td>\n",
       "      <td>Красноярск</td>\n",
       "      <td>11.58</td>\n",
       "    </tr>\n",
       "    <tr>\n",
       "      <td>20</td>\n",
       "      <td>Екатеринбург</td>\n",
       "      <td>11.32</td>\n",
       "    </tr>\n",
       "    <tr>\n",
       "      <td>67</td>\n",
       "      <td>Ростов-на-Дону</td>\n",
       "      <td>10.19</td>\n",
       "    </tr>\n",
       "    <tr>\n",
       "      <td>63</td>\n",
       "      <td>Пермь</td>\n",
       "      <td>10.13</td>\n",
       "    </tr>\n",
       "    <tr>\n",
       "      <td>10</td>\n",
       "      <td>Брянск</td>\n",
       "      <td>10.00</td>\n",
       "    </tr>\n",
       "    <tr>\n",
       "      <td>74</td>\n",
       "      <td>Сочи</td>\n",
       "      <td>9.61</td>\n",
       "    </tr>\n",
       "    <tr>\n",
       "      <td>84</td>\n",
       "      <td>Ульяновск</td>\n",
       "      <td>9.58</td>\n",
       "    </tr>\n",
       "  </tbody>\n",
       "</table>\n",
       "</div>"
      ],
      "text/plain": [
       "               city  average_flights\n",
       "43           Москва           129.77\n",
       "70  Санкт-Петербург            31.16\n",
       "54      Новосибирск            17.32\n",
       "33       Красноярск            11.58\n",
       "20     Екатеринбург            11.32\n",
       "67   Ростов-на-Дону            10.19\n",
       "63            Пермь            10.13\n",
       "10           Брянск            10.00\n",
       "74             Сочи             9.61\n",
       "84        Ульяновск             9.58"
      ]
     },
     "execution_count": 9,
     "metadata": {},
     "output_type": "execute_result"
    }
   ],
   "source": [
    "top_10_cities = flights_city.sort_values(by = 'average_flights', ascending = False).head(10)\n",
    "top_10_cities"
   ]
  },
  {
   "cell_type": "markdown",
   "metadata": {},
   "source": [
    "На первом месте - Москва. Второе и третье делят Санкт-Петербург и Новосибирск. <br>\n",
    "Интересно видеть в десятке Брянск (город с населением 400 тысяч) и Ульяновск (рядом есть Казань с населением больше миллиона)."
   ]
  },
  {
   "cell_type": "markdown",
   "metadata": {},
   "source": [
    "####  Вывод: \n",
    "    "
   ]
  },
  {
   "cell_type": "markdown",
   "metadata": {},
   "source": [
    "Проверили данные на корректность, округлили данные в таблице со средним количеством рейсов по городам. <br>\n",
    "- Среди самолетов есть тройка явных лидеров - Bombardier CRJ-200, Cessna 208 Caravan  и Sukhoi SuperJet-100. <br>\n",
    "На последнем месте по количеству рейсов - Boeing 777-300. <br>\n",
    "- По среднему количеству рейсов в день с сильным отрывом лидирует Москва (129.77), второе и третье делят Санкт-Петербург и Новосибирск.\n"
   ]
  },
  {
   "cell_type": "markdown",
   "metadata": {},
   "source": [
    "### Построение графиков"
   ]
  },
  {
   "cell_type": "markdown",
   "metadata": {},
   "source": [
    "####    Модели самолетов и количество рейсов"
   ]
  },
  {
   "cell_type": "code",
   "execution_count": 10,
   "metadata": {},
   "outputs": [
    {
     "data": {
      "text/plain": [
       "Text(0.5, 1.0, 'Модели самолетов и количество рейсов')"
      ]
     },
     "execution_count": 10,
     "metadata": {},
     "output_type": "execute_result"
    },
    {
     "data": {
      "image/png": "[encoded data removed]",
      "text/plain": [
       "<Figure size 432x288 with 1 Axes>"
      ]
     },
     "metadata": {
      "needs_background": "light"
     },
     "output_type": "display_data"
    }
   ],
   "source": [
    "flights_model.plot(y = 'flights_amount', x = 'model', kind = 'bar', legend=None)\n",
    "plt.xlabel('Модель самолета')\n",
    "plt.ylabel('Количество рейсов')\n",
    "plt.title('Модели самолетов и количество рейсов')"
   ]
  },
  {
   "cell_type": "markdown",
   "metadata": {},
   "source": [
    "Тройка лидеров очевидна - Bombardier CRJ-200, Cessna 208 Caravan и Sukhoi SuperJet-100."
   ]
  },
  {
   "cell_type": "markdown",
   "metadata": {},
   "source": [
    "#### Города и количество рейсов"
   ]
  },
  {
   "cell_type": "markdown",
   "metadata": {},
   "source": [
    "Т.к. городов много, разделим график на два:"
   ]
  },
  {
   "cell_type": "code",
   "execution_count": 11,
   "metadata": {},
   "outputs": [
    {
     "data": {
      "text/plain": [
       "Text(0.5, 1.0, 'Города и количество рейсов')"
      ]
     },
     "execution_count": 11,
     "metadata": {},
     "output_type": "execute_result"
    },
    {
     "data": {
      "image/png": "[encoded data removed]",
      "text/plain": [
       "<Figure size 1080x360 with 1 Axes>"
      ]
     },
     "metadata": {
      "needs_background": "light"
     },
     "output_type": "display_data"
    }
   ],
   "source": [
    "flights_city.head(51).plot(y = 'average_flights', x = 'city', kind = 'bar', legend=None, figsize = (15, 5))\n",
    "plt.xlabel('Город')\n",
    "plt.ylabel('Среднее количество рейсов в день')\n",
    "plt.title('Города и количество рейсов')"
   ]
  },
  {
   "cell_type": "markdown",
   "metadata": {},
   "source": [
    "Москва ожидаемо выделяется среди других городов по количеству рейсов. "
   ]
  },
  {
   "cell_type": "code",
   "execution_count": 12,
   "metadata": {},
   "outputs": [
    {
     "data": {
      "text/plain": [
       "Text(0.5, 1.0, 'Города и количество рейсов')"
      ]
     },
     "execution_count": 12,
     "metadata": {},
     "output_type": "execute_result"
    },
    {
     "data": {
      "image/png": "[encoded data removed]",
      "text/plain": [
       "<Figure size 1080x360 with 1 Axes>"
      ]
     },
     "metadata": {
      "needs_background": "light"
     },
     "output_type": "display_data"
    }
   ],
   "source": [
    "flights_city.tail(50).plot(y = 'average_flights', x = 'city', kind = 'bar', legend=None, figsize = (15, 5))\n",
    "plt.xlabel('Город')\n",
    "plt.ylabel('Среднее количество рейсов')\n",
    "plt.title('Города и количество рейсов')"
   ]
  },
  {
   "cell_type": "markdown",
   "metadata": {},
   "source": [
    "А вот тут явный лидер - Санкт-Петербург, далее - Новосибирск. "
   ]
  },
  {
   "cell_type": "markdown",
   "metadata": {},
   "source": [
    "#### Топ-10 городов и количество рейсов"
   ]
  },
  {
   "cell_type": "code",
   "execution_count": 13,
   "metadata": {},
   "outputs": [
    {
     "data": {
      "text/plain": [
       "Text(0.5, 1.0, 'Топ-10 городов и количество рейсов')"
      ]
     },
     "execution_count": 13,
     "metadata": {},
     "output_type": "execute_result"
    },
    {
     "data": {
      "image/png": "[encoded data removed]",
      "text/plain": [
       "<Figure size 432x288 with 1 Axes>"
      ]
     },
     "metadata": {
      "needs_background": "light"
     },
     "output_type": "display_data"
    }
   ],
   "source": [
    "top_10_cities.tail(50).plot(y = 'average_flights', x = 'city', kind = 'bar', legend=None)\n",
    "plt.xlabel('Город')\n",
    "plt.ylabel('Среднее количество рейсов')\n",
    "plt.title('Топ-10 городов и количество рейсов')"
   ]
  },
  {
   "cell_type": "markdown",
   "metadata": {},
   "source": [
    "Москва даже на фоне десятки лидеров выделяется.  <br>\n",
    "На первом месте - Москва, следом идут Санкт-Петербург и Новосибирск.   <br>\n",
    "Все остальные города имеют примерно одинаковое количество рейсов. "
   ]
  },
  {
   "cell_type": "markdown",
   "metadata": {},
   "source": [
    "### Вывод"
   ]
  },
  {
   "cell_type": "markdown",
   "metadata": {},
   "source": [
    "Построили графики по количеству рейсов: <br>\n",
    "1. Самыми популярными моделями самолетов являются Bombardier CRJ-200 (пассажировместимостью от 40 до 50 человек), Cessna 208 Caravan (небольшой самолет на 9 человек) и Sukhoi SuperJet-100 (предназначенный для перевозки от 87 до 108 пассажиров).<br>\n",
    "На последнем месте по количеству рейсов - Boeing 777-300 (позволяет разместить до 550 пассажиров в одноклассной конфигурации, а максимальная дальность составляет чуть больше 11 тысяч км). <br>\n",
    "   Можно предположить, что чаще всего летают небольшие самолеты из-за того, что скорее всего, они дешевле в обслуживании и потребляют меньше топлива, что является прекрасным вариантом для полетов внутри страны. Boeing 777-300 же может летать далеко, при этом перевозить большое количество пассажиров за раз. <br>\n",
    "2. Самым популярной отправной точкой полетов является Москва (однозначный лидер по среднему количеству рейсов в день - почти 130 рейсов). На втором и третьем месте -  Санкт-Петербург и Новосибирск соответственно.\n"
   ]
  }
 ],
 "metadata": {
  "ExecuteTimeLog": [
   {
    "duration": 204,
    "start_time": "2021-09-03T11:08:58.180Z"
   },
   {
    "duration": 572,
    "start_time": "2021-09-03T11:09:01.153Z"
   },
   {
    "duration": 31,
    "start_time": "2021-09-03T11:09:03.544Z"
   },
   {
    "duration": 13,
    "start_time": "2021-09-03T11:09:11.710Z"
   },
   {
    "duration": 6,
    "start_time": "2021-09-03T11:09:20.168Z"
   },
   {
    "duration": 10,
    "start_time": "2021-09-03T11:09:33.128Z"
   },
   {
    "duration": 6,
    "start_time": "2021-09-03T11:09:44.674Z"
   },
   {
    "duration": 6,
    "start_time": "2021-09-03T11:10:59.411Z"
   },
   {
    "duration": 14,
    "start_time": "2021-09-03T11:11:12.917Z"
   },
   {
    "duration": 15,
    "start_time": "2021-09-03T11:15:45.483Z"
   },
   {
    "duration": 8,
    "start_time": "2021-09-03T11:15:54.649Z"
   },
   {
    "duration": 15,
    "start_time": "2021-09-03T11:16:05.679Z"
   },
   {
    "duration": 9,
    "start_time": "2021-09-03T11:16:16.025Z"
   },
   {
    "duration": 6,
    "start_time": "2021-09-03T11:16:45.289Z"
   },
   {
    "duration": 9,
    "start_time": "2021-09-03T11:16:50.511Z"
   },
   {
    "duration": 8,
    "start_time": "2021-09-03T11:16:56.860Z"
   },
   {
    "duration": 206,
    "start_time": "2021-09-03T11:17:50.785Z"
   },
   {
    "duration": 281,
    "start_time": "2021-09-03T11:19:05.785Z"
   },
   {
    "duration": 186,
    "start_time": "2021-09-03T11:20:12.867Z"
   },
   {
    "duration": 212,
    "start_time": "2021-09-03T11:20:44.046Z"
   },
   {
    "duration": 279,
    "start_time": "2021-09-03T11:20:55.155Z"
   },
   {
    "duration": 206,
    "start_time": "2021-09-03T11:22:54.281Z"
   },
   {
    "duration": 369,
    "start_time": "2021-09-03T11:23:44.020Z"
   },
   {
    "duration": 394,
    "start_time": "2021-09-03T11:23:54.380Z"
   },
   {
    "duration": 2,
    "start_time": "2021-09-03T11:24:29.633Z"
   },
   {
    "duration": 203,
    "start_time": "2021-09-03T11:24:33.355Z"
   },
   {
    "duration": 373,
    "start_time": "2021-09-03T11:25:22.232Z"
   },
   {
    "duration": 447,
    "start_time": "2021-09-03T11:25:47.155Z"
   },
   {
    "duration": 198,
    "start_time": "2021-09-03T11:25:51.926Z"
   },
   {
    "duration": 1489,
    "start_time": "2021-09-03T11:28:11.672Z"
   },
   {
    "duration": 399,
    "start_time": "2021-09-03T11:31:00.091Z"
   },
   {
    "duration": 1483,
    "start_time": "2021-09-03T11:31:10.248Z"
   },
   {
    "duration": 1543,
    "start_time": "2021-09-03T11:31:29.438Z"
   },
   {
    "duration": 1504,
    "start_time": "2021-09-03T11:31:37.336Z"
   },
   {
    "duration": 1530,
    "start_time": "2021-09-03T11:31:45.126Z"
   },
   {
    "duration": 657,
    "start_time": "2021-09-03T11:33:17.067Z"
   },
   {
    "duration": 632,
    "start_time": "2021-09-03T11:33:31.635Z"
   },
   {
    "duration": 866,
    "start_time": "2021-09-03T11:33:49.161Z"
   },
   {
    "duration": 909,
    "start_time": "2021-09-03T11:34:51.285Z"
   },
   {
    "duration": 954,
    "start_time": "2021-09-03T11:34:59.000Z"
   },
   {
    "duration": 57,
    "start_time": "2021-09-03T11:35:56.423Z"
   },
   {
    "duration": 3,
    "start_time": "2021-09-03T11:36:30.393Z"
   },
   {
    "duration": 235,
    "start_time": "2021-09-03T11:36:57.409Z"
   },
   {
    "duration": 187,
    "start_time": "2021-09-03T11:37:11.493Z"
   },
   {
    "duration": 5,
    "start_time": "2021-09-03T11:46:20.121Z"
   },
   {
    "duration": 836,
    "start_time": "2021-09-03T11:46:33.102Z"
   },
   {
    "duration": 1748,
    "start_time": "2021-09-03T11:53:18.615Z"
   },
   {
    "duration": 841,
    "start_time": "2021-09-03T11:53:58.422Z"
   },
   {
    "duration": 624,
    "start_time": "2021-09-03T11:54:26.948Z"
   },
   {
    "duration": 653,
    "start_time": "2021-09-04T15:06:45.663Z"
   },
   {
    "duration": 30,
    "start_time": "2021-09-04T15:06:48.993Z"
   },
   {
    "duration": 10,
    "start_time": "2021-09-04T15:07:09.096Z"
   },
   {
    "duration": 7,
    "start_time": "2021-09-04T15:07:11.851Z"
   },
   {
    "duration": 6,
    "start_time": "2021-09-04T15:08:48.886Z"
   },
   {
    "duration": 6,
    "start_time": "2021-09-04T15:20:14.430Z"
   },
   {
    "duration": 3,
    "start_time": "2021-09-04T15:21:52.991Z"
   },
   {
    "duration": 9,
    "start_time": "2021-09-04T15:21:55.571Z"
   },
   {
    "duration": 6,
    "start_time": "2021-09-04T15:22:00.133Z"
   },
   {
    "duration": 12,
    "start_time": "2021-09-04T15:22:05.890Z"
   },
   {
    "duration": 85,
    "start_time": "2021-09-04T15:23:33.866Z"
   },
   {
    "duration": 11,
    "start_time": "2021-09-04T15:23:44.413Z"
   },
   {
    "duration": 811,
    "start_time": "2021-09-04T15:31:01.765Z"
   },
   {
    "duration": 627,
    "start_time": "2021-09-04T15:31:09.777Z"
   },
   {
    "duration": 182,
    "start_time": "2021-09-04T15:31:59.659Z"
   },
   {
    "duration": 4,
    "start_time": "2021-09-04T15:42:05.380Z"
   },
   {
    "duration": 896,
    "start_time": "2021-09-04T16:59:33.846Z"
   },
   {
    "duration": 30,
    "start_time": "2021-09-04T16:59:34.744Z"
   },
   {
    "duration": 14,
    "start_time": "2021-09-04T16:59:34.777Z"
   },
   {
    "duration": 8,
    "start_time": "2021-09-04T16:59:34.794Z"
   },
   {
    "duration": 18,
    "start_time": "2021-09-04T16:59:34.804Z"
   },
   {
    "duration": 8,
    "start_time": "2021-09-04T16:59:34.824Z"
   },
   {
    "duration": 34,
    "start_time": "2021-09-04T16:59:34.835Z"
   },
   {
    "duration": 18,
    "start_time": "2021-09-04T16:59:34.871Z"
   },
   {
    "duration": 10,
    "start_time": "2021-09-04T16:59:34.893Z"
   },
   {
    "duration": 329,
    "start_time": "2021-09-04T16:59:34.906Z"
   },
   {
    "duration": 1309,
    "start_time": "2021-09-04T16:59:35.238Z"
   },
   {
    "duration": 1061,
    "start_time": "2021-09-04T16:59:36.550Z"
   },
   {
    "duration": 325,
    "start_time": "2021-09-04T16:59:37.613Z"
   }
  ],
  "kernelspec": {
   "display_name": "Python 3",
   "language": "python",
   "name": "python3"
  },
  "language_info": {
   "codemirror_mode": {
    "name": "ipython",
    "version": 3
   },
   "file_extension": ".py",
   "mimetype": "text/x-python",
   "name": "python",
   "nbconvert_exporter": "python",
   "pygments_lexer": "ipython3",
   "version": "3.8.10"
  },
  "toc": {
   "base_numbering": 1,
   "nav_menu": {},
   "number_sections": true,
   "sideBar": true,
   "skip_h1_title": true,
   "title_cell": "Table of Contents",
   "title_sidebar": "Contents",
   "toc_cell": false,
   "toc_position": {},
   "toc_section_display": true,
   "toc_window_display": false
  }
 },
 "nbformat": 4,
 "nbformat_minor": 2
}
