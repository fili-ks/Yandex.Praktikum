{
 "cells": [
  {
   "cell_type": "markdown",
   "metadata": {},
   "source": [
    "# Определение перспективного тарифа для телеком компании"
   ]
  },
  {
   "cell_type": "markdown",
   "metadata": {},
   "source": [
    "# Цель проекта"
   ]
  },
  {
   "cell_type": "markdown",
   "metadata": {},
   "source": [
    "Клиентам предлагают два тарифных плана: «Смарт» и «Ультра». <br>\n",
    "    Необходимо провести предварительный анализ тарифов и на основании полученных данных сделать вывод - какой тариф лучше. "
   ]
  },
  {
   "cell_type": "markdown",
   "metadata": {},
   "source": [
    "# Описание данных"
   ]
  },
  {
   "cell_type": "markdown",
   "metadata": {},
   "source": [
    "Имеются данные 500 пользователей «Мегалайна»: кто они, откуда, каким тарифом пользуются, сколько звонков и сообщений каждый отправил за 2018 год. \n",
    "\n",
    "\n",
    "Описание тарифов <br>\n",
    "**Тариф «Смарт»** <br>\n",
    "Ежемесячная плата: 550 рублей<br>\n",
    "Включено 500 минут разговора, 50 сообщений и 15 Гб интернет-трафика<br>\n",
    "Стоимость услуг сверх тарифного пакета: 1. минута разговора: 3 рубля («Мегалайн» всегда округляет вверх значения минут и мегабайтов. Если пользователь проговорил всего 1 секунду, в тарифе засчитывается целая минута); 2. сообщение: 3 рубля; 3. 1 Гб интернет-трафика: 200 рублей.<br>\n",
    "**Тариф «Ультра»**<br>\n",
    "Ежемесячная плата: 1950 рублей<br>\n",
    "Включено 3000 минут разговора, 1000 сообщений и 30 Гб интернет-трафика<br>\n",
    "Стоимость услуг сверх тарифного пакета: 1. минута разговора: 1 рубль; 2. сообщение: 1 рубль; 3. 1 Гб интернет-трафика: 150 рублей.\n"
   ]
  },
  {
   "cell_type": "markdown",
   "metadata": {},
   "source": [
    "**Описание таблиц**"
   ]
  },
  {
   "cell_type": "markdown",
   "metadata": {},
   "source": [
    "**Таблица users (информация о пользователях):**<br>\n",
    "\n",
    "user_id — уникальный идентификатор пользователя<br>\n",
    "first_name — имя пользователя<br>\n",
    "last_name — фамилия пользователя<br>\n",
    "age — возраст пользователя (годы)<br>\n",
    "reg_date — дата подключения тарифа (день, месяц, год)<br>\n",
    "churn_date — дата прекращения пользования тарифом (если значение пропущено, то тариф ещё действовал на момент выгрузки данных)<br>\n",
    "city — город проживания пользователя<br>\n",
    "tarif — название тарифного плана<br>\n",
    "\n",
    "**Таблица calls (информация о звонках):**<br>\n",
    "\n",
    "id — уникальный номер звонка<br>\n",
    "call_date — дата звонка<br>\n",
    "duration — длительность звонка в минутах<br>\n",
    "user_id — идентификатор пользователя, сделавшего звонок<br>\n",
    "\n",
    "**Таблица messages (информация о сообщениях):**<br>\n",
    "\n",
    "id — уникальный номер сообщения<br>\n",
    "message_date — дата сообщения<br>\n",
    "user_id — идентификатор пользователя, отправившего сообщение<br>\n",
    "\n",
    "**Таблица internet (информация об интернет-сессиях):**<br>\n",
    "id — уникальный номер сессии<br>\n",
    "mb_used — объём потраченного за сессию интернет-трафика (в мегабайтах)<br>\n",
    "session_date — дата интернет-сессии<br>\n",
    "user_id — идентификатор пользователя<br>\n",
    "\n",
    "**Таблица tariffs (информация о тарифах):**<br>\n",
    "\n",
    "tariff_name — название тарифа<br>\n",
    "rub_monthly_fee — ежемесячная абонентская плата в рублях<br>\n",
    "minutes_included — количество минут разговора в месяц, включённых в абонентскую плату<br>\n",
    "messages_included — количество сообщений в месяц, включённых в абонентскую плату<br>\n",
    "mb_per_month_included — объём интернет-трафика, включённого в абонентскую плату (в мегабайтах)<br>\n",
    "rub_per_minute — стоимость минуты разговора сверх тарифного пакета (например, если в тарифе 100 минут разговора в месяц, то со 101 минуты будет взиматься плата)<br>\n",
    "rub_per_message — стоимость отправки сообщения сверх тарифного пакета<br>\n",
    "rub_per_gb — стоимость дополнительного гигабайта интернет-трафика сверх тарифного пакета (1 гигабайт = 1024 мегабайта)<br>"
   ]
  },
  {
   "cell_type": "markdown",
   "metadata": {},
   "source": [
    "## Изучение данных из файла"
   ]
  },
  {
   "cell_type": "code",
   "execution_count": 1,
   "metadata": {},
   "outputs": [],
   "source": [
    "import pandas as pd\n",
    "import matplotlib.pyplot as plt \n",
    "import numpy as np\n",
    "import seaborn as sns\n",
    "from scipy import stats as st\n",
    "import math\n",
    "from functools import reduce\n",
    "# import warnings"
   ]
  },
  {
   "cell_type": "code",
   "execution_count": 2,
   "metadata": {},
   "outputs": [],
   "source": [
    "calls = pd.read_csv('/datasets/calls.csv')\n",
    "internet = pd.read_csv('/datasets/internet.csv')\n",
    "messages = pd.read_csv('/datasets/messages.csv')\n",
    "tariffs = pd.read_csv('/datasets/tariffs.csv')\n",
    "users = pd.read_csv('/datasets/users.csv')"
   ]
  },
  {
   "cell_type": "markdown",
   "metadata": {},
   "source": [
    "Информация о звонках:"
   ]
  },
  {
   "cell_type": "code",
   "execution_count": 3,
   "metadata": {},
   "outputs": [
    {
     "data": {
      "text/html": [
       "<div>\n",
       "<style scoped>\n",
       "    .dataframe tbody tr th:only-of-type {\n",
       "        vertical-align: middle;\n",
       "    }\n",
       "\n",
       "    .dataframe tbody tr th {\n",
       "        vertical-align: top;\n",
       "    }\n",
       "\n",
       "    .dataframe thead th {\n",
       "        text-align: right;\n",
       "    }\n",
       "</style>\n",
       "<table border=\"1\" class=\"dataframe\">\n",
       "  <thead>\n",
       "    <tr style=\"text-align: right;\">\n",
       "      <th></th>\n",
       "      <th>id</th>\n",
       "      <th>call_date</th>\n",
       "      <th>duration</th>\n",
       "      <th>user_id</th>\n",
       "    </tr>\n",
       "  </thead>\n",
       "  <tbody>\n",
       "    <tr>\n",
       "      <td>0</td>\n",
       "      <td>1000_0</td>\n",
       "      <td>2018-07-25</td>\n",
       "      <td>0.00</td>\n",
       "      <td>1000</td>\n",
       "    </tr>\n",
       "    <tr>\n",
       "      <td>1</td>\n",
       "      <td>1000_1</td>\n",
       "      <td>2018-08-17</td>\n",
       "      <td>0.00</td>\n",
       "      <td>1000</td>\n",
       "    </tr>\n",
       "    <tr>\n",
       "      <td>2</td>\n",
       "      <td>1000_2</td>\n",
       "      <td>2018-06-11</td>\n",
       "      <td>2.85</td>\n",
       "      <td>1000</td>\n",
       "    </tr>\n",
       "    <tr>\n",
       "      <td>3</td>\n",
       "      <td>1000_3</td>\n",
       "      <td>2018-09-21</td>\n",
       "      <td>13.80</td>\n",
       "      <td>1000</td>\n",
       "    </tr>\n",
       "    <tr>\n",
       "      <td>4</td>\n",
       "      <td>1000_4</td>\n",
       "      <td>2018-12-15</td>\n",
       "      <td>5.18</td>\n",
       "      <td>1000</td>\n",
       "    </tr>\n",
       "    <tr>\n",
       "      <td>...</td>\n",
       "      <td>...</td>\n",
       "      <td>...</td>\n",
       "      <td>...</td>\n",
       "      <td>...</td>\n",
       "    </tr>\n",
       "    <tr>\n",
       "      <td>202602</td>\n",
       "      <td>1499_215</td>\n",
       "      <td>2018-12-26</td>\n",
       "      <td>0.76</td>\n",
       "      <td>1499</td>\n",
       "    </tr>\n",
       "    <tr>\n",
       "      <td>202603</td>\n",
       "      <td>1499_216</td>\n",
       "      <td>2018-10-18</td>\n",
       "      <td>18.83</td>\n",
       "      <td>1499</td>\n",
       "    </tr>\n",
       "    <tr>\n",
       "      <td>202604</td>\n",
       "      <td>1499_217</td>\n",
       "      <td>2018-11-10</td>\n",
       "      <td>10.81</td>\n",
       "      <td>1499</td>\n",
       "    </tr>\n",
       "    <tr>\n",
       "      <td>202605</td>\n",
       "      <td>1499_218</td>\n",
       "      <td>2018-10-06</td>\n",
       "      <td>4.27</td>\n",
       "      <td>1499</td>\n",
       "    </tr>\n",
       "    <tr>\n",
       "      <td>202606</td>\n",
       "      <td>1499_219</td>\n",
       "      <td>2018-12-14</td>\n",
       "      <td>19.62</td>\n",
       "      <td>1499</td>\n",
       "    </tr>\n",
       "  </tbody>\n",
       "</table>\n",
       "<p>202607 rows × 4 columns</p>\n",
       "</div>"
      ],
      "text/plain": [
       "              id   call_date  duration  user_id\n",
       "0         1000_0  2018-07-25      0.00     1000\n",
       "1         1000_1  2018-08-17      0.00     1000\n",
       "2         1000_2  2018-06-11      2.85     1000\n",
       "3         1000_3  2018-09-21     13.80     1000\n",
       "4         1000_4  2018-12-15      5.18     1000\n",
       "...          ...         ...       ...      ...\n",
       "202602  1499_215  2018-12-26      0.76     1499\n",
       "202603  1499_216  2018-10-18     18.83     1499\n",
       "202604  1499_217  2018-11-10     10.81     1499\n",
       "202605  1499_218  2018-10-06      4.27     1499\n",
       "202606  1499_219  2018-12-14     19.62     1499\n",
       "\n",
       "[202607 rows x 4 columns]"
      ]
     },
     "execution_count": 3,
     "metadata": {},
     "output_type": "execute_result"
    }
   ],
   "source": [
    "calls"
   ]
  },
  {
   "cell_type": "code",
   "execution_count": 4,
   "metadata": {
    "scrolled": true
   },
   "outputs": [
    {
     "name": "stdout",
     "output_type": "stream",
     "text": [
      "<class 'pandas.core.frame.DataFrame'>\n",
      "RangeIndex: 202607 entries, 0 to 202606\n",
      "Data columns (total 4 columns):\n",
      "id           202607 non-null object\n",
      "call_date    202607 non-null object\n",
      "duration     202607 non-null float64\n",
      "user_id      202607 non-null int64\n",
      "dtypes: float64(1), int64(1), object(2)\n",
      "memory usage: 6.2+ MB\n"
     ]
    }
   ],
   "source": [
    "calls.info()"
   ]
  },
  {
   "cell_type": "markdown",
   "metadata": {},
   "source": [
    "Посмотрим на длительность звонков:"
   ]
  },
  {
   "cell_type": "code",
   "execution_count": 5,
   "metadata": {},
   "outputs": [
    {
     "data": {
      "text/plain": [
       "count    202607.000000\n",
       "mean          6.755887\n",
       "std           5.843365\n",
       "min           0.000000\n",
       "25%           1.300000\n",
       "50%           6.000000\n",
       "75%          10.700000\n",
       "max          38.000000\n",
       "Name: duration, dtype: float64"
      ]
     },
     "execution_count": 5,
     "metadata": {},
     "output_type": "execute_result"
    }
   ],
   "source": [
    "calls['duration'].describe()"
   ]
  },
  {
   "cell_type": "markdown",
   "metadata": {},
   "source": [
    "Как видим, есть нулевые значения - скорее всего, это пропущенные звонки. Пропущенных значений нет - уже неплохо.\n",
    "Надо будет перевести call_date в формат даты. <br>\n",
    "В среднем длительность звонка составляет 6 минут, а самый долгий разговор длился 38 минут. "
   ]
  },
  {
   "cell_type": "markdown",
   "metadata": {},
   "source": [
    "Информация об интернет-сессиях:"
   ]
  },
  {
   "cell_type": "code",
   "execution_count": 6,
   "metadata": {
    "scrolled": true
   },
   "outputs": [
    {
     "data": {
      "text/html": [
       "<div>\n",
       "<style scoped>\n",
       "    .dataframe tbody tr th:only-of-type {\n",
       "        vertical-align: middle;\n",
       "    }\n",
       "\n",
       "    .dataframe tbody tr th {\n",
       "        vertical-align: top;\n",
       "    }\n",
       "\n",
       "    .dataframe thead th {\n",
       "        text-align: right;\n",
       "    }\n",
       "</style>\n",
       "<table border=\"1\" class=\"dataframe\">\n",
       "  <thead>\n",
       "    <tr style=\"text-align: right;\">\n",
       "      <th></th>\n",
       "      <th>Unnamed: 0</th>\n",
       "      <th>id</th>\n",
       "      <th>mb_used</th>\n",
       "      <th>session_date</th>\n",
       "      <th>user_id</th>\n",
       "    </tr>\n",
       "  </thead>\n",
       "  <tbody>\n",
       "    <tr>\n",
       "      <td>0</td>\n",
       "      <td>0</td>\n",
       "      <td>1000_0</td>\n",
       "      <td>112.95</td>\n",
       "      <td>2018-11-25</td>\n",
       "      <td>1000</td>\n",
       "    </tr>\n",
       "    <tr>\n",
       "      <td>1</td>\n",
       "      <td>1</td>\n",
       "      <td>1000_1</td>\n",
       "      <td>1052.81</td>\n",
       "      <td>2018-09-07</td>\n",
       "      <td>1000</td>\n",
       "    </tr>\n",
       "    <tr>\n",
       "      <td>2</td>\n",
       "      <td>2</td>\n",
       "      <td>1000_2</td>\n",
       "      <td>1197.26</td>\n",
       "      <td>2018-06-25</td>\n",
       "      <td>1000</td>\n",
       "    </tr>\n",
       "    <tr>\n",
       "      <td>3</td>\n",
       "      <td>3</td>\n",
       "      <td>1000_3</td>\n",
       "      <td>550.27</td>\n",
       "      <td>2018-08-22</td>\n",
       "      <td>1000</td>\n",
       "    </tr>\n",
       "    <tr>\n",
       "      <td>4</td>\n",
       "      <td>4</td>\n",
       "      <td>1000_4</td>\n",
       "      <td>302.56</td>\n",
       "      <td>2018-09-24</td>\n",
       "      <td>1000</td>\n",
       "    </tr>\n",
       "    <tr>\n",
       "      <td>5</td>\n",
       "      <td>5</td>\n",
       "      <td>1000_5</td>\n",
       "      <td>399.97</td>\n",
       "      <td>2018-10-02</td>\n",
       "      <td>1000</td>\n",
       "    </tr>\n",
       "    <tr>\n",
       "      <td>6</td>\n",
       "      <td>6</td>\n",
       "      <td>1000_6</td>\n",
       "      <td>540.08</td>\n",
       "      <td>2018-09-07</td>\n",
       "      <td>1000</td>\n",
       "    </tr>\n",
       "    <tr>\n",
       "      <td>7</td>\n",
       "      <td>7</td>\n",
       "      <td>1000_7</td>\n",
       "      <td>415.70</td>\n",
       "      <td>2018-07-11</td>\n",
       "      <td>1000</td>\n",
       "    </tr>\n",
       "    <tr>\n",
       "      <td>8</td>\n",
       "      <td>8</td>\n",
       "      <td>1000_8</td>\n",
       "      <td>505.40</td>\n",
       "      <td>2018-10-08</td>\n",
       "      <td>1000</td>\n",
       "    </tr>\n",
       "    <tr>\n",
       "      <td>9</td>\n",
       "      <td>9</td>\n",
       "      <td>1000_9</td>\n",
       "      <td>345.54</td>\n",
       "      <td>2018-09-03</td>\n",
       "      <td>1000</td>\n",
       "    </tr>\n",
       "  </tbody>\n",
       "</table>\n",
       "</div>"
      ],
      "text/plain": [
       "   Unnamed: 0      id  mb_used session_date  user_id\n",
       "0           0  1000_0   112.95   2018-11-25     1000\n",
       "1           1  1000_1  1052.81   2018-09-07     1000\n",
       "2           2  1000_2  1197.26   2018-06-25     1000\n",
       "3           3  1000_3   550.27   2018-08-22     1000\n",
       "4           4  1000_4   302.56   2018-09-24     1000\n",
       "5           5  1000_5   399.97   2018-10-02     1000\n",
       "6           6  1000_6   540.08   2018-09-07     1000\n",
       "7           7  1000_7   415.70   2018-07-11     1000\n",
       "8           8  1000_8   505.40   2018-10-08     1000\n",
       "9           9  1000_9   345.54   2018-09-03     1000"
      ]
     },
     "execution_count": 6,
     "metadata": {},
     "output_type": "execute_result"
    }
   ],
   "source": [
    "internet.head(10)"
   ]
  },
  {
   "cell_type": "code",
   "execution_count": 7,
   "metadata": {
    "scrolled": true
   },
   "outputs": [
    {
     "name": "stdout",
     "output_type": "stream",
     "text": [
      "<class 'pandas.core.frame.DataFrame'>\n",
      "RangeIndex: 149396 entries, 0 to 149395\n",
      "Data columns (total 5 columns):\n",
      "Unnamed: 0      149396 non-null int64\n",
      "id              149396 non-null object\n",
      "mb_used         149396 non-null float64\n",
      "session_date    149396 non-null object\n",
      "user_id         149396 non-null int64\n",
      "dtypes: float64(1), int64(2), object(2)\n",
      "memory usage: 5.7+ MB\n"
     ]
    }
   ],
   "source": [
    "internet.info()"
   ]
  },
  {
   "cell_type": "code",
   "execution_count": 8,
   "metadata": {},
   "outputs": [
    {
     "data": {
      "text/plain": [
       "count    149396.000000\n",
       "mean        370.192426\n",
       "std         278.300951\n",
       "min           0.000000\n",
       "25%         138.187500\n",
       "50%         348.015000\n",
       "75%         559.552500\n",
       "max        1724.830000\n",
       "Name: mb_used, dtype: float64"
      ]
     },
     "execution_count": 8,
     "metadata": {},
     "output_type": "execute_result"
    }
   ],
   "source": [
    "internet['mb_used'].describe()"
   ]
  },
  {
   "cell_type": "markdown",
   "metadata": {},
   "source": [
    "Тут, как и в звонках, есть нулевые значения, пропущенных данных нет, можно удалить столбец 'Unnamed 0' и перевести дату в удобный формат. <br>\n",
    "Медианное значение - 348 мб, а максимальное - 1724 мб.  "
   ]
  },
  {
   "cell_type": "code",
   "execution_count": 9,
   "metadata": {},
   "outputs": [],
   "source": [
    "del internet['Unnamed: 0']"
   ]
  },
  {
   "cell_type": "markdown",
   "metadata": {},
   "source": [
    "Информация о сообщениях:"
   ]
  },
  {
   "cell_type": "code",
   "execution_count": 10,
   "metadata": {
    "scrolled": false
   },
   "outputs": [
    {
     "data": {
      "text/html": [
       "<div>\n",
       "<style scoped>\n",
       "    .dataframe tbody tr th:only-of-type {\n",
       "        vertical-align: middle;\n",
       "    }\n",
       "\n",
       "    .dataframe tbody tr th {\n",
       "        vertical-align: top;\n",
       "    }\n",
       "\n",
       "    .dataframe thead th {\n",
       "        text-align: right;\n",
       "    }\n",
       "</style>\n",
       "<table border=\"1\" class=\"dataframe\">\n",
       "  <thead>\n",
       "    <tr style=\"text-align: right;\">\n",
       "      <th></th>\n",
       "      <th>id</th>\n",
       "      <th>message_date</th>\n",
       "      <th>user_id</th>\n",
       "    </tr>\n",
       "  </thead>\n",
       "  <tbody>\n",
       "    <tr>\n",
       "      <td>0</td>\n",
       "      <td>1000_0</td>\n",
       "      <td>2018-06-27</td>\n",
       "      <td>1000</td>\n",
       "    </tr>\n",
       "    <tr>\n",
       "      <td>1</td>\n",
       "      <td>1000_1</td>\n",
       "      <td>2018-10-08</td>\n",
       "      <td>1000</td>\n",
       "    </tr>\n",
       "    <tr>\n",
       "      <td>2</td>\n",
       "      <td>1000_2</td>\n",
       "      <td>2018-08-04</td>\n",
       "      <td>1000</td>\n",
       "    </tr>\n",
       "    <tr>\n",
       "      <td>3</td>\n",
       "      <td>1000_3</td>\n",
       "      <td>2018-06-16</td>\n",
       "      <td>1000</td>\n",
       "    </tr>\n",
       "    <tr>\n",
       "      <td>4</td>\n",
       "      <td>1000_4</td>\n",
       "      <td>2018-12-05</td>\n",
       "      <td>1000</td>\n",
       "    </tr>\n",
       "    <tr>\n",
       "      <td>5</td>\n",
       "      <td>1000_5</td>\n",
       "      <td>2018-06-20</td>\n",
       "      <td>1000</td>\n",
       "    </tr>\n",
       "    <tr>\n",
       "      <td>6</td>\n",
       "      <td>1000_6</td>\n",
       "      <td>2018-11-19</td>\n",
       "      <td>1000</td>\n",
       "    </tr>\n",
       "    <tr>\n",
       "      <td>7</td>\n",
       "      <td>1000_7</td>\n",
       "      <td>2018-10-29</td>\n",
       "      <td>1000</td>\n",
       "    </tr>\n",
       "    <tr>\n",
       "      <td>8</td>\n",
       "      <td>1000_8</td>\n",
       "      <td>2018-06-25</td>\n",
       "      <td>1000</td>\n",
       "    </tr>\n",
       "    <tr>\n",
       "      <td>9</td>\n",
       "      <td>1000_9</td>\n",
       "      <td>2018-12-18</td>\n",
       "      <td>1000</td>\n",
       "    </tr>\n",
       "  </tbody>\n",
       "</table>\n",
       "</div>"
      ],
      "text/plain": [
       "       id message_date  user_id\n",
       "0  1000_0   2018-06-27     1000\n",
       "1  1000_1   2018-10-08     1000\n",
       "2  1000_2   2018-08-04     1000\n",
       "3  1000_3   2018-06-16     1000\n",
       "4  1000_4   2018-12-05     1000\n",
       "5  1000_5   2018-06-20     1000\n",
       "6  1000_6   2018-11-19     1000\n",
       "7  1000_7   2018-10-29     1000\n",
       "8  1000_8   2018-06-25     1000\n",
       "9  1000_9   2018-12-18     1000"
      ]
     },
     "execution_count": 10,
     "metadata": {},
     "output_type": "execute_result"
    }
   ],
   "source": [
    "messages.head(10)"
   ]
  },
  {
   "cell_type": "code",
   "execution_count": 11,
   "metadata": {},
   "outputs": [
    {
     "name": "stdout",
     "output_type": "stream",
     "text": [
      "<class 'pandas.core.frame.DataFrame'>\n",
      "RangeIndex: 123036 entries, 0 to 123035\n",
      "Data columns (total 3 columns):\n",
      "id              123036 non-null object\n",
      "message_date    123036 non-null object\n",
      "user_id         123036 non-null int64\n",
      "dtypes: int64(1), object(2)\n",
      "memory usage: 2.8+ MB\n"
     ]
    }
   ],
   "source": [
    "messages.info()"
   ]
  },
  {
   "cell_type": "markdown",
   "metadata": {},
   "source": [
    "Тут все неплохо - пропущенных значений нет, только формат даты изменить."
   ]
  },
  {
   "cell_type": "markdown",
   "metadata": {},
   "source": [
    "Тарифы:"
   ]
  },
  {
   "cell_type": "code",
   "execution_count": 12,
   "metadata": {},
   "outputs": [
    {
     "data": {
      "text/html": [
       "<div>\n",
       "<style scoped>\n",
       "    .dataframe tbody tr th:only-of-type {\n",
       "        vertical-align: middle;\n",
       "    }\n",
       "\n",
       "    .dataframe tbody tr th {\n",
       "        vertical-align: top;\n",
       "    }\n",
       "\n",
       "    .dataframe thead th {\n",
       "        text-align: right;\n",
       "    }\n",
       "</style>\n",
       "<table border=\"1\" class=\"dataframe\">\n",
       "  <thead>\n",
       "    <tr style=\"text-align: right;\">\n",
       "      <th></th>\n",
       "      <th>messages_included</th>\n",
       "      <th>mb_per_month_included</th>\n",
       "      <th>minutes_included</th>\n",
       "      <th>rub_monthly_fee</th>\n",
       "      <th>rub_per_gb</th>\n",
       "      <th>rub_per_message</th>\n",
       "      <th>rub_per_minute</th>\n",
       "      <th>tariff_name</th>\n",
       "    </tr>\n",
       "  </thead>\n",
       "  <tbody>\n",
       "    <tr>\n",
       "      <td>0</td>\n",
       "      <td>50</td>\n",
       "      <td>15360</td>\n",
       "      <td>500</td>\n",
       "      <td>550</td>\n",
       "      <td>200</td>\n",
       "      <td>3</td>\n",
       "      <td>3</td>\n",
       "      <td>smart</td>\n",
       "    </tr>\n",
       "    <tr>\n",
       "      <td>1</td>\n",
       "      <td>1000</td>\n",
       "      <td>30720</td>\n",
       "      <td>3000</td>\n",
       "      <td>1950</td>\n",
       "      <td>150</td>\n",
       "      <td>1</td>\n",
       "      <td>1</td>\n",
       "      <td>ultra</td>\n",
       "    </tr>\n",
       "  </tbody>\n",
       "</table>\n",
       "</div>"
      ],
      "text/plain": [
       "   messages_included  mb_per_month_included  minutes_included  \\\n",
       "0                 50                  15360               500   \n",
       "1               1000                  30720              3000   \n",
       "\n",
       "   rub_monthly_fee  rub_per_gb  rub_per_message  rub_per_minute tariff_name  \n",
       "0              550         200                3               3       smart  \n",
       "1             1950         150                1               1       ultra  "
      ]
     },
     "execution_count": 12,
     "metadata": {},
     "output_type": "execute_result"
    }
   ],
   "source": [
    "tariffs.head()"
   ]
  },
  {
   "cell_type": "code",
   "execution_count": 13,
   "metadata": {},
   "outputs": [
    {
     "name": "stdout",
     "output_type": "stream",
     "text": [
      "<class 'pandas.core.frame.DataFrame'>\n",
      "RangeIndex: 2 entries, 0 to 1\n",
      "Data columns (total 8 columns):\n",
      "messages_included        2 non-null int64\n",
      "mb_per_month_included    2 non-null int64\n",
      "minutes_included         2 non-null int64\n",
      "rub_monthly_fee          2 non-null int64\n",
      "rub_per_gb               2 non-null int64\n",
      "rub_per_message          2 non-null int64\n",
      "rub_per_minute           2 non-null int64\n",
      "tariff_name              2 non-null object\n",
      "dtypes: int64(7), object(1)\n",
      "memory usage: 256.0+ bytes\n"
     ]
    }
   ],
   "source": [
    "tariffs.info()"
   ]
  },
  {
   "cell_type": "markdown",
   "metadata": {},
   "source": [
    "На первый взгляд тут все хорошо."
   ]
  },
  {
   "cell_type": "markdown",
   "metadata": {},
   "source": [
    "И наконец информация о пользователях:"
   ]
  },
  {
   "cell_type": "code",
   "execution_count": 14,
   "metadata": {
    "scrolled": true
   },
   "outputs": [
    {
     "data": {
      "text/html": [
       "<div>\n",
       "<style scoped>\n",
       "    .dataframe tbody tr th:only-of-type {\n",
       "        vertical-align: middle;\n",
       "    }\n",
       "\n",
       "    .dataframe tbody tr th {\n",
       "        vertical-align: top;\n",
       "    }\n",
       "\n",
       "    .dataframe thead th {\n",
       "        text-align: right;\n",
       "    }\n",
       "</style>\n",
       "<table border=\"1\" class=\"dataframe\">\n",
       "  <thead>\n",
       "    <tr style=\"text-align: right;\">\n",
       "      <th></th>\n",
       "      <th>user_id</th>\n",
       "      <th>age</th>\n",
       "      <th>churn_date</th>\n",
       "      <th>city</th>\n",
       "      <th>first_name</th>\n",
       "      <th>last_name</th>\n",
       "      <th>reg_date</th>\n",
       "      <th>tariff</th>\n",
       "    </tr>\n",
       "  </thead>\n",
       "  <tbody>\n",
       "    <tr>\n",
       "      <td>0</td>\n",
       "      <td>1000</td>\n",
       "      <td>52</td>\n",
       "      <td>NaN</td>\n",
       "      <td>Краснодар</td>\n",
       "      <td>Рафаил</td>\n",
       "      <td>Верещагин</td>\n",
       "      <td>2018-05-25</td>\n",
       "      <td>ultra</td>\n",
       "    </tr>\n",
       "    <tr>\n",
       "      <td>1</td>\n",
       "      <td>1001</td>\n",
       "      <td>41</td>\n",
       "      <td>NaN</td>\n",
       "      <td>Москва</td>\n",
       "      <td>Иван</td>\n",
       "      <td>Ежов</td>\n",
       "      <td>2018-11-01</td>\n",
       "      <td>smart</td>\n",
       "    </tr>\n",
       "    <tr>\n",
       "      <td>2</td>\n",
       "      <td>1002</td>\n",
       "      <td>59</td>\n",
       "      <td>NaN</td>\n",
       "      <td>Стерлитамак</td>\n",
       "      <td>Евгений</td>\n",
       "      <td>Абрамович</td>\n",
       "      <td>2018-06-17</td>\n",
       "      <td>smart</td>\n",
       "    </tr>\n",
       "    <tr>\n",
       "      <td>3</td>\n",
       "      <td>1003</td>\n",
       "      <td>23</td>\n",
       "      <td>NaN</td>\n",
       "      <td>Москва</td>\n",
       "      <td>Белла</td>\n",
       "      <td>Белякова</td>\n",
       "      <td>2018-08-17</td>\n",
       "      <td>ultra</td>\n",
       "    </tr>\n",
       "    <tr>\n",
       "      <td>4</td>\n",
       "      <td>1004</td>\n",
       "      <td>68</td>\n",
       "      <td>NaN</td>\n",
       "      <td>Новокузнецк</td>\n",
       "      <td>Татьяна</td>\n",
       "      <td>Авдеенко</td>\n",
       "      <td>2018-05-14</td>\n",
       "      <td>ultra</td>\n",
       "    </tr>\n",
       "    <tr>\n",
       "      <td>...</td>\n",
       "      <td>...</td>\n",
       "      <td>...</td>\n",
       "      <td>...</td>\n",
       "      <td>...</td>\n",
       "      <td>...</td>\n",
       "      <td>...</td>\n",
       "      <td>...</td>\n",
       "      <td>...</td>\n",
       "    </tr>\n",
       "    <tr>\n",
       "      <td>495</td>\n",
       "      <td>1495</td>\n",
       "      <td>65</td>\n",
       "      <td>NaN</td>\n",
       "      <td>Иркутск</td>\n",
       "      <td>Авксентий</td>\n",
       "      <td>Фокин</td>\n",
       "      <td>2018-08-28</td>\n",
       "      <td>ultra</td>\n",
       "    </tr>\n",
       "    <tr>\n",
       "      <td>496</td>\n",
       "      <td>1496</td>\n",
       "      <td>36</td>\n",
       "      <td>NaN</td>\n",
       "      <td>Вологда</td>\n",
       "      <td>Трифон</td>\n",
       "      <td>Блохин</td>\n",
       "      <td>2018-01-27</td>\n",
       "      <td>smart</td>\n",
       "    </tr>\n",
       "    <tr>\n",
       "      <td>497</td>\n",
       "      <td>1497</td>\n",
       "      <td>32</td>\n",
       "      <td>NaN</td>\n",
       "      <td>Челябинск</td>\n",
       "      <td>Каролина</td>\n",
       "      <td>Агеева</td>\n",
       "      <td>2018-10-09</td>\n",
       "      <td>smart</td>\n",
       "    </tr>\n",
       "    <tr>\n",
       "      <td>498</td>\n",
       "      <td>1498</td>\n",
       "      <td>68</td>\n",
       "      <td>2018-10-25</td>\n",
       "      <td>Владикавказ</td>\n",
       "      <td>Всеволод</td>\n",
       "      <td>Акимчин</td>\n",
       "      <td>2018-07-19</td>\n",
       "      <td>smart</td>\n",
       "    </tr>\n",
       "    <tr>\n",
       "      <td>499</td>\n",
       "      <td>1499</td>\n",
       "      <td>35</td>\n",
       "      <td>NaN</td>\n",
       "      <td>Пермь</td>\n",
       "      <td>Гектор</td>\n",
       "      <td>Корнилов</td>\n",
       "      <td>2018-09-27</td>\n",
       "      <td>smart</td>\n",
       "    </tr>\n",
       "  </tbody>\n",
       "</table>\n",
       "<p>500 rows × 8 columns</p>\n",
       "</div>"
      ],
      "text/plain": [
       "     user_id  age  churn_date         city first_name  last_name    reg_date  \\\n",
       "0       1000   52         NaN    Краснодар     Рафаил  Верещагин  2018-05-25   \n",
       "1       1001   41         NaN       Москва       Иван       Ежов  2018-11-01   \n",
       "2       1002   59         NaN  Стерлитамак    Евгений  Абрамович  2018-06-17   \n",
       "3       1003   23         NaN       Москва      Белла   Белякова  2018-08-17   \n",
       "4       1004   68         NaN  Новокузнецк    Татьяна   Авдеенко  2018-05-14   \n",
       "..       ...  ...         ...          ...        ...        ...         ...   \n",
       "495     1495   65         NaN      Иркутск  Авксентий      Фокин  2018-08-28   \n",
       "496     1496   36         NaN      Вологда     Трифон     Блохин  2018-01-27   \n",
       "497     1497   32         NaN    Челябинск   Каролина     Агеева  2018-10-09   \n",
       "498     1498   68  2018-10-25  Владикавказ   Всеволод    Акимчин  2018-07-19   \n",
       "499     1499   35         NaN        Пермь     Гектор   Корнилов  2018-09-27   \n",
       "\n",
       "    tariff  \n",
       "0    ultra  \n",
       "1    smart  \n",
       "2    smart  \n",
       "3    ultra  \n",
       "4    ultra  \n",
       "..     ...  \n",
       "495  ultra  \n",
       "496  smart  \n",
       "497  smart  \n",
       "498  smart  \n",
       "499  smart  \n",
       "\n",
       "[500 rows x 8 columns]"
      ]
     },
     "execution_count": 14,
     "metadata": {},
     "output_type": "execute_result"
    }
   ],
   "source": [
    "users"
   ]
  },
  {
   "cell_type": "markdown",
   "metadata": {},
   "source": [
    "Для удобства изменим название столбца с названием тарифа:"
   ]
  },
  {
   "cell_type": "code",
   "execution_count": 15,
   "metadata": {},
   "outputs": [],
   "source": [
    "users = users.rename(columns = { 'tariff': 'tariff_name'})"
   ]
  },
  {
   "cell_type": "code",
   "execution_count": 16,
   "metadata": {},
   "outputs": [
    {
     "name": "stdout",
     "output_type": "stream",
     "text": [
      "<class 'pandas.core.frame.DataFrame'>\n",
      "RangeIndex: 500 entries, 0 to 499\n",
      "Data columns (total 8 columns):\n",
      "user_id        500 non-null int64\n",
      "age            500 non-null int64\n",
      "churn_date     38 non-null object\n",
      "city           500 non-null object\n",
      "first_name     500 non-null object\n",
      "last_name      500 non-null object\n",
      "reg_date       500 non-null object\n",
      "tariff_name    500 non-null object\n",
      "dtypes: int64(2), object(6)\n",
      "memory usage: 31.4+ KB\n"
     ]
    }
   ],
   "source": [
    "users.info()"
   ]
  },
  {
   "cell_type": "markdown",
   "metadata": {},
   "source": [
    "Тут есть пропуски в churn_date, но все под контролем - если значение пропущено, то тариф ещё действовал на момент выгрузки данных.\n"
   ]
  },
  {
   "cell_type": "markdown",
   "metadata": {},
   "source": [
    "И сразу проверим данные в колонке age:"
   ]
  },
  {
   "cell_type": "code",
   "execution_count": 17,
   "metadata": {
    "scrolled": false
   },
   "outputs": [
    {
     "data": {
      "text/plain": [
       "count    500.00000\n",
       "mean      46.58800\n",
       "std       16.66763\n",
       "min       18.00000\n",
       "25%       32.00000\n",
       "50%       46.00000\n",
       "75%       62.00000\n",
       "max       75.00000\n",
       "Name: age, dtype: float64"
      ]
     },
     "execution_count": 17,
     "metadata": {},
     "output_type": "execute_result"
    }
   ],
   "source": [
    "users['age'].describe()"
   ]
  },
  {
   "cell_type": "markdown",
   "metadata": {},
   "source": [
    "Все в порядке, аномальных значений нет. Самому молодому абоненту - 18 лет, а самому пожилому - 75. "
   ]
  },
  {
   "cell_type": "markdown",
   "metadata": {},
   "source": [
    "### Вывод"
   ]
  },
  {
   "cell_type": "markdown",
   "metadata": {},
   "source": [
    "Посмотрели на данные - какие данные есть, какой формат, есть ли пропущенные значения. В таблице calls и internet есть нулевые значения."
   ]
  },
  {
   "cell_type": "markdown",
   "metadata": {},
   "source": [
    "## Предобработка данных"
   ]
  },
  {
   "cell_type": "markdown",
   "metadata": {},
   "source": [
    "Переведем данные в правильный формат:"
   ]
  },
  {
   "cell_type": "code",
   "execution_count": 18,
   "metadata": {},
   "outputs": [],
   "source": [
    "calls['call_date'] = pd.to_datetime(calls['call_date'], format = '%Y-%m-%d')\n",
    "internet['session_date'] = pd.to_datetime(internet['session_date'], format = '%Y-%m-%d')\n",
    "messages['message_date'] = pd.to_datetime(messages['message_date'], format = '%Y-%m-%d')\n",
    "users['churn_date'] = pd.to_datetime(users['churn_date'], format = '%Y-%m-%d')\n",
    "users['reg_date'] = pd.to_datetime(users['reg_date'], format = '%Y-%m-%d')"
   ]
  },
  {
   "cell_type": "markdown",
   "metadata": {},
   "source": [
    "Т.к. дальше нам надо будет посчитать данные по месяцам, создадим отдельную колонку:"
   ]
  },
  {
   "cell_type": "code",
   "execution_count": 19,
   "metadata": {},
   "outputs": [],
   "source": [
    "calls['month'] = pd.DatetimeIndex(calls['call_date']).month\n",
    "internet['month'] = pd.DatetimeIndex(internet['session_date']).month \n",
    "messages['month'] = pd.DatetimeIndex(messages['message_date']).month \n",
    "users['reg_date_month'] = pd.DatetimeIndex(users['reg_date']).month \n",
    "users['churn_date_month'] = pd.DatetimeIndex(users['churn_date']).month "
   ]
  },
  {
   "cell_type": "markdown",
   "metadata": {},
   "source": [
    "На этапе предварительного изучения данных мы заметили, что в таблице со звонками были нулевые значения. Посмотрим, сколько их относительно всех данных:"
   ]
  },
  {
   "cell_type": "code",
   "execution_count": 20,
   "metadata": {
    "scrolled": true
   },
   "outputs": [
    {
     "name": "stdout",
     "output_type": "stream",
     "text": [
      "Всего нулевых значений: 19.55%\n"
     ]
    }
   ],
   "source": [
    "print('Всего нулевых значений: {:.2%}'.format(len(calls[calls['duration'] == 0])/len(calls)))"
   ]
  },
  {
   "cell_type": "markdown",
   "metadata": {},
   "source": [
    "Почти 20% звонков с нулевой длительностью. Это могут быть пропущенные звонки, которые сохраняются в системе как звонки с нулевой продолжительностью, либо какой-то сбой в системе, когда длительность звонков удалилась или не записалась. <br>\n",
    "Т.к. 20% данных - это довольно много для их бездумного удаления, оставим, как есть - с пометкой в общем выводе, что надо дополнительно проверить данные - не было ли сбоев в системе. "
   ]
  },
  {
   "cell_type": "markdown",
   "metadata": {},
   "source": [
    "Нулевые значения в таблице с данными об интернет-траффике:"
   ]
  },
  {
   "cell_type": "code",
   "execution_count": 21,
   "metadata": {},
   "outputs": [
    {
     "name": "stdout",
     "output_type": "stream",
     "text": [
      "Всего нулевых значений: 13.12%\n"
     ]
    }
   ],
   "source": [
    "print('Всего нулевых значений: {:.2%}'.format(len(internet[internet['mb_used'] == 0])/len(internet)))"
   ]
  },
  {
   "cell_type": "markdown",
   "metadata": {},
   "source": [
    "А тут 13% - меньше, чем нулевых значений в звонках, но все равно много. Удалять мы их не будем.\n",
    "Тут, скорее всего, тоже или сбой в системе - данные либо удалились, либо не записались, или система определяет неудачные сессии (или просто подключение к интернету без совершения как-либо действий) как полноценные сессии. \n"
   ]
  },
  {
   "cell_type": "markdown",
   "metadata": {},
   "source": [
    "Кроме это надо округлить продолжительность звонков и количество использованного траффика в большую сторону (т.к. - «Мегалайн» всегда округляет вверх значения минут):"
   ]
  },
  {
   "cell_type": "code",
   "execution_count": 22,
   "metadata": {},
   "outputs": [],
   "source": [
    "calls['duration'] = calls['duration'].apply(lambda x: math.ceil(x))"
   ]
  },
  {
   "cell_type": "markdown",
   "metadata": {},
   "source": [
    "### Вывод"
   ]
  },
  {
   "cell_type": "markdown",
   "metadata": {},
   "source": [
    "Привели данные к удобному формату, месяц вывели в отдельную колонку. Проверили соотношение нулевых данных в таблицах, сделали предположение, из-за чего такое могло произойти. <br>\n",
    "Округлили данные о длительности звонков."
   ]
  },
  {
   "cell_type": "markdown",
   "metadata": {},
   "source": [
    "## Расчёты и добавление результатов в таблицу"
   ]
  },
  {
   "cell_type": "markdown",
   "metadata": {},
   "source": [
    "**Посчитайте для каждого пользователя:  <br>\n",
    "количество сделанных звонков и израсходованных минут разговора по месяцам;<br>\n",
    "количество отправленных сообщений по месяцам;<br>\n",
    "объем израсходованного интернет-трафика по месяцам;<br>\n",
    "помесячную выручку с каждого пользователя.**"
   ]
  },
  {
   "cell_type": "markdown",
   "metadata": {},
   "source": [
    "Для каждого пользователя посчитаем количество сделанных звонков и израсходованных минут разговора по месяцам:"
   ]
  },
  {
   "cell_type": "code",
   "execution_count": 23,
   "metadata": {
    "scrolled": true
   },
   "outputs": [
    {
     "data": {
      "text/html": [
       "<div>\n",
       "<style scoped>\n",
       "    .dataframe tbody tr th:only-of-type {\n",
       "        vertical-align: middle;\n",
       "    }\n",
       "\n",
       "    .dataframe tbody tr th {\n",
       "        vertical-align: top;\n",
       "    }\n",
       "\n",
       "    .dataframe thead th {\n",
       "        text-align: right;\n",
       "    }\n",
       "</style>\n",
       "<table border=\"1\" class=\"dataframe\">\n",
       "  <thead>\n",
       "    <tr style=\"text-align: right;\">\n",
       "      <th></th>\n",
       "      <th>user_id</th>\n",
       "      <th>month</th>\n",
       "      <th>total_duration</th>\n",
       "      <th>cnt_calls</th>\n",
       "    </tr>\n",
       "  </thead>\n",
       "  <tbody>\n",
       "    <tr>\n",
       "      <td>0</td>\n",
       "      <td>1000</td>\n",
       "      <td>5</td>\n",
       "      <td>159</td>\n",
       "      <td>22</td>\n",
       "    </tr>\n",
       "    <tr>\n",
       "      <td>1</td>\n",
       "      <td>1000</td>\n",
       "      <td>6</td>\n",
       "      <td>172</td>\n",
       "      <td>43</td>\n",
       "    </tr>\n",
       "    <tr>\n",
       "      <td>2</td>\n",
       "      <td>1000</td>\n",
       "      <td>7</td>\n",
       "      <td>340</td>\n",
       "      <td>47</td>\n",
       "    </tr>\n",
       "    <tr>\n",
       "      <td>3</td>\n",
       "      <td>1000</td>\n",
       "      <td>8</td>\n",
       "      <td>408</td>\n",
       "      <td>52</td>\n",
       "    </tr>\n",
       "    <tr>\n",
       "      <td>4</td>\n",
       "      <td>1000</td>\n",
       "      <td>9</td>\n",
       "      <td>466</td>\n",
       "      <td>58</td>\n",
       "    </tr>\n",
       "    <tr>\n",
       "      <td>...</td>\n",
       "      <td>...</td>\n",
       "      <td>...</td>\n",
       "      <td>...</td>\n",
       "      <td>...</td>\n",
       "    </tr>\n",
       "    <tr>\n",
       "      <td>3169</td>\n",
       "      <td>1498</td>\n",
       "      <td>10</td>\n",
       "      <td>247</td>\n",
       "      <td>41</td>\n",
       "    </tr>\n",
       "    <tr>\n",
       "      <td>3170</td>\n",
       "      <td>1499</td>\n",
       "      <td>9</td>\n",
       "      <td>70</td>\n",
       "      <td>9</td>\n",
       "    </tr>\n",
       "    <tr>\n",
       "      <td>3171</td>\n",
       "      <td>1499</td>\n",
       "      <td>10</td>\n",
       "      <td>449</td>\n",
       "      <td>68</td>\n",
       "    </tr>\n",
       "    <tr>\n",
       "      <td>3172</td>\n",
       "      <td>1499</td>\n",
       "      <td>11</td>\n",
       "      <td>612</td>\n",
       "      <td>74</td>\n",
       "    </tr>\n",
       "    <tr>\n",
       "      <td>3173</td>\n",
       "      <td>1499</td>\n",
       "      <td>12</td>\n",
       "      <td>492</td>\n",
       "      <td>69</td>\n",
       "    </tr>\n",
       "  </tbody>\n",
       "</table>\n",
       "<p>3174 rows × 4 columns</p>\n",
       "</div>"
      ],
      "text/plain": [
       "      user_id  month  total_duration  cnt_calls\n",
       "0        1000      5             159         22\n",
       "1        1000      6             172         43\n",
       "2        1000      7             340         47\n",
       "3        1000      8             408         52\n",
       "4        1000      9             466         58\n",
       "...       ...    ...             ...        ...\n",
       "3169     1498     10             247         41\n",
       "3170     1499      9              70          9\n",
       "3171     1499     10             449         68\n",
       "3172     1499     11             612         74\n",
       "3173     1499     12             492         69\n",
       "\n",
       "[3174 rows x 4 columns]"
      ]
     },
     "execution_count": 23,
     "metadata": {},
     "output_type": "execute_result"
    }
   ],
   "source": [
    "calls_by_month = calls.groupby(['user_id', 'month']).agg({'duration' : 'sum', 'id' : 'count'}).reset_index()\n",
    "calls_by_month.columns = ['user_id', 'month', 'total_duration', 'cnt_calls']\n",
    "calls_by_month"
   ]
  },
  {
   "cell_type": "markdown",
   "metadata": {},
   "source": [
    "То же сделаем для подсчета сообщений за месяц:"
   ]
  },
  {
   "cell_type": "code",
   "execution_count": 24,
   "metadata": {},
   "outputs": [
    {
     "data": {
      "text/html": [
       "<div>\n",
       "<style scoped>\n",
       "    .dataframe tbody tr th:only-of-type {\n",
       "        vertical-align: middle;\n",
       "    }\n",
       "\n",
       "    .dataframe tbody tr th {\n",
       "        vertical-align: top;\n",
       "    }\n",
       "\n",
       "    .dataframe thead th {\n",
       "        text-align: right;\n",
       "    }\n",
       "</style>\n",
       "<table border=\"1\" class=\"dataframe\">\n",
       "  <thead>\n",
       "    <tr style=\"text-align: right;\">\n",
       "      <th></th>\n",
       "      <th>user_id</th>\n",
       "      <th>month</th>\n",
       "      <th>cnt_messages</th>\n",
       "    </tr>\n",
       "  </thead>\n",
       "  <tbody>\n",
       "    <tr>\n",
       "      <td>0</td>\n",
       "      <td>1000</td>\n",
       "      <td>5</td>\n",
       "      <td>22</td>\n",
       "    </tr>\n",
       "    <tr>\n",
       "      <td>1</td>\n",
       "      <td>1000</td>\n",
       "      <td>6</td>\n",
       "      <td>60</td>\n",
       "    </tr>\n",
       "    <tr>\n",
       "      <td>2</td>\n",
       "      <td>1000</td>\n",
       "      <td>7</td>\n",
       "      <td>75</td>\n",
       "    </tr>\n",
       "    <tr>\n",
       "      <td>3</td>\n",
       "      <td>1000</td>\n",
       "      <td>8</td>\n",
       "      <td>81</td>\n",
       "    </tr>\n",
       "    <tr>\n",
       "      <td>4</td>\n",
       "      <td>1000</td>\n",
       "      <td>9</td>\n",
       "      <td>57</td>\n",
       "    </tr>\n",
       "    <tr>\n",
       "      <td>...</td>\n",
       "      <td>...</td>\n",
       "      <td>...</td>\n",
       "      <td>...</td>\n",
       "    </tr>\n",
       "    <tr>\n",
       "      <td>2712</td>\n",
       "      <td>1498</td>\n",
       "      <td>10</td>\n",
       "      <td>42</td>\n",
       "    </tr>\n",
       "    <tr>\n",
       "      <td>2713</td>\n",
       "      <td>1499</td>\n",
       "      <td>9</td>\n",
       "      <td>11</td>\n",
       "    </tr>\n",
       "    <tr>\n",
       "      <td>2714</td>\n",
       "      <td>1499</td>\n",
       "      <td>10</td>\n",
       "      <td>48</td>\n",
       "    </tr>\n",
       "    <tr>\n",
       "      <td>2715</td>\n",
       "      <td>1499</td>\n",
       "      <td>11</td>\n",
       "      <td>59</td>\n",
       "    </tr>\n",
       "    <tr>\n",
       "      <td>2716</td>\n",
       "      <td>1499</td>\n",
       "      <td>12</td>\n",
       "      <td>66</td>\n",
       "    </tr>\n",
       "  </tbody>\n",
       "</table>\n",
       "<p>2717 rows × 3 columns</p>\n",
       "</div>"
      ],
      "text/plain": [
       "      user_id  month  cnt_messages\n",
       "0        1000      5            22\n",
       "1        1000      6            60\n",
       "2        1000      7            75\n",
       "3        1000      8            81\n",
       "4        1000      9            57\n",
       "...       ...    ...           ...\n",
       "2712     1498     10            42\n",
       "2713     1499      9            11\n",
       "2714     1499     10            48\n",
       "2715     1499     11            59\n",
       "2716     1499     12            66\n",
       "\n",
       "[2717 rows x 3 columns]"
      ]
     },
     "execution_count": 24,
     "metadata": {},
     "output_type": "execute_result"
    }
   ],
   "source": [
    "messages_by_month = messages.groupby(['user_id', 'month']).agg({'id': 'count'}).reset_index()\n",
    "messages_by_month.columns = ['user_id', 'month', 'cnt_messages']\n",
    "messages_by_month"
   ]
  },
  {
   "cell_type": "markdown",
   "metadata": {},
   "source": [
    "Объем израсходованного интернет-трафика по месяцам:\n"
   ]
  },
  {
   "cell_type": "code",
   "execution_count": 25,
   "metadata": {
    "scrolled": true
   },
   "outputs": [
    {
     "data": {
      "text/html": [
       "<div>\n",
       "<style scoped>\n",
       "    .dataframe tbody tr th:only-of-type {\n",
       "        vertical-align: middle;\n",
       "    }\n",
       "\n",
       "    .dataframe tbody tr th {\n",
       "        vertical-align: top;\n",
       "    }\n",
       "\n",
       "    .dataframe thead th {\n",
       "        text-align: right;\n",
       "    }\n",
       "</style>\n",
       "<table border=\"1\" class=\"dataframe\">\n",
       "  <thead>\n",
       "    <tr style=\"text-align: right;\">\n",
       "      <th></th>\n",
       "      <th>user_id</th>\n",
       "      <th>month</th>\n",
       "      <th>mb_used</th>\n",
       "    </tr>\n",
       "  </thead>\n",
       "  <tbody>\n",
       "    <tr>\n",
       "      <td>0</td>\n",
       "      <td>1000</td>\n",
       "      <td>5</td>\n",
       "      <td>2253.49</td>\n",
       "    </tr>\n",
       "    <tr>\n",
       "      <td>1</td>\n",
       "      <td>1000</td>\n",
       "      <td>6</td>\n",
       "      <td>23233.77</td>\n",
       "    </tr>\n",
       "    <tr>\n",
       "      <td>2</td>\n",
       "      <td>1000</td>\n",
       "      <td>7</td>\n",
       "      <td>14003.64</td>\n",
       "    </tr>\n",
       "    <tr>\n",
       "      <td>3</td>\n",
       "      <td>1000</td>\n",
       "      <td>8</td>\n",
       "      <td>14055.93</td>\n",
       "    </tr>\n",
       "    <tr>\n",
       "      <td>4</td>\n",
       "      <td>1000</td>\n",
       "      <td>9</td>\n",
       "      <td>14568.91</td>\n",
       "    </tr>\n",
       "    <tr>\n",
       "      <td>...</td>\n",
       "      <td>...</td>\n",
       "      <td>...</td>\n",
       "      <td>...</td>\n",
       "    </tr>\n",
       "    <tr>\n",
       "      <td>3198</td>\n",
       "      <td>1498</td>\n",
       "      <td>10</td>\n",
       "      <td>20579.36</td>\n",
       "    </tr>\n",
       "    <tr>\n",
       "      <td>3199</td>\n",
       "      <td>1499</td>\n",
       "      <td>9</td>\n",
       "      <td>1845.75</td>\n",
       "    </tr>\n",
       "    <tr>\n",
       "      <td>3200</td>\n",
       "      <td>1499</td>\n",
       "      <td>10</td>\n",
       "      <td>17788.51</td>\n",
       "    </tr>\n",
       "    <tr>\n",
       "      <td>3201</td>\n",
       "      <td>1499</td>\n",
       "      <td>11</td>\n",
       "      <td>17963.31</td>\n",
       "    </tr>\n",
       "    <tr>\n",
       "      <td>3202</td>\n",
       "      <td>1499</td>\n",
       "      <td>12</td>\n",
       "      <td>13055.58</td>\n",
       "    </tr>\n",
       "  </tbody>\n",
       "</table>\n",
       "<p>3203 rows × 3 columns</p>\n",
       "</div>"
      ],
      "text/plain": [
       "      user_id  month   mb_used\n",
       "0        1000      5   2253.49\n",
       "1        1000      6  23233.77\n",
       "2        1000      7  14003.64\n",
       "3        1000      8  14055.93\n",
       "4        1000      9  14568.91\n",
       "...       ...    ...       ...\n",
       "3198     1498     10  20579.36\n",
       "3199     1499      9   1845.75\n",
       "3200     1499     10  17788.51\n",
       "3201     1499     11  17963.31\n",
       "3202     1499     12  13055.58\n",
       "\n",
       "[3203 rows x 3 columns]"
      ]
     },
     "execution_count": 25,
     "metadata": {},
     "output_type": "execute_result"
    }
   ],
   "source": [
    "internet_by_month = internet.groupby(['user_id', 'month']).agg({'mb_used': 'sum'}).reset_index()\n",
    "internet_by_month"
   ]
  },
  {
   "cell_type": "markdown",
   "metadata": {},
   "source": [
    "Количество мегабайт также округлим в бОльшую сторону:"
   ]
  },
  {
   "cell_type": "code",
   "execution_count": 26,
   "metadata": {},
   "outputs": [
    {
     "data": {
      "text/html": [
       "<div>\n",
       "<style scoped>\n",
       "    .dataframe tbody tr th:only-of-type {\n",
       "        vertical-align: middle;\n",
       "    }\n",
       "\n",
       "    .dataframe tbody tr th {\n",
       "        vertical-align: top;\n",
       "    }\n",
       "\n",
       "    .dataframe thead th {\n",
       "        text-align: right;\n",
       "    }\n",
       "</style>\n",
       "<table border=\"1\" class=\"dataframe\">\n",
       "  <thead>\n",
       "    <tr style=\"text-align: right;\">\n",
       "      <th></th>\n",
       "      <th>user_id</th>\n",
       "      <th>month</th>\n",
       "      <th>mb_used</th>\n",
       "    </tr>\n",
       "  </thead>\n",
       "  <tbody>\n",
       "    <tr>\n",
       "      <td>0</td>\n",
       "      <td>1000</td>\n",
       "      <td>5</td>\n",
       "      <td>2254.0</td>\n",
       "    </tr>\n",
       "    <tr>\n",
       "      <td>1</td>\n",
       "      <td>1000</td>\n",
       "      <td>6</td>\n",
       "      <td>23234.0</td>\n",
       "    </tr>\n",
       "    <tr>\n",
       "      <td>2</td>\n",
       "      <td>1000</td>\n",
       "      <td>7</td>\n",
       "      <td>14004.0</td>\n",
       "    </tr>\n",
       "    <tr>\n",
       "      <td>3</td>\n",
       "      <td>1000</td>\n",
       "      <td>8</td>\n",
       "      <td>14056.0</td>\n",
       "    </tr>\n",
       "    <tr>\n",
       "      <td>4</td>\n",
       "      <td>1000</td>\n",
       "      <td>9</td>\n",
       "      <td>14569.0</td>\n",
       "    </tr>\n",
       "    <tr>\n",
       "      <td>...</td>\n",
       "      <td>...</td>\n",
       "      <td>...</td>\n",
       "      <td>...</td>\n",
       "    </tr>\n",
       "    <tr>\n",
       "      <td>3198</td>\n",
       "      <td>1498</td>\n",
       "      <td>10</td>\n",
       "      <td>20580.0</td>\n",
       "    </tr>\n",
       "    <tr>\n",
       "      <td>3199</td>\n",
       "      <td>1499</td>\n",
       "      <td>9</td>\n",
       "      <td>1846.0</td>\n",
       "    </tr>\n",
       "    <tr>\n",
       "      <td>3200</td>\n",
       "      <td>1499</td>\n",
       "      <td>10</td>\n",
       "      <td>17789.0</td>\n",
       "    </tr>\n",
       "    <tr>\n",
       "      <td>3201</td>\n",
       "      <td>1499</td>\n",
       "      <td>11</td>\n",
       "      <td>17964.0</td>\n",
       "    </tr>\n",
       "    <tr>\n",
       "      <td>3202</td>\n",
       "      <td>1499</td>\n",
       "      <td>12</td>\n",
       "      <td>13056.0</td>\n",
       "    </tr>\n",
       "  </tbody>\n",
       "</table>\n",
       "<p>3203 rows × 3 columns</p>\n",
       "</div>"
      ],
      "text/plain": [
       "      user_id  month  mb_used\n",
       "0        1000      5   2254.0\n",
       "1        1000      6  23234.0\n",
       "2        1000      7  14004.0\n",
       "3        1000      8  14056.0\n",
       "4        1000      9  14569.0\n",
       "...       ...    ...      ...\n",
       "3198     1498     10  20580.0\n",
       "3199     1499      9   1846.0\n",
       "3200     1499     10  17789.0\n",
       "3201     1499     11  17964.0\n",
       "3202     1499     12  13056.0\n",
       "\n",
       "[3203 rows x 3 columns]"
      ]
     },
     "execution_count": 26,
     "metadata": {},
     "output_type": "execute_result"
    }
   ],
   "source": [
    "internet_by_month['mb_used'] = np.ceil(internet_by_month['mb_used'])\n",
    "internet_by_month"
   ]
  },
  {
   "cell_type": "markdown",
   "metadata": {},
   "source": [
    "Объединим данные в одну таблицу:"
   ]
  },
  {
   "cell_type": "code",
   "execution_count": 27,
   "metadata": {},
   "outputs": [],
   "source": [
    "data_by_months = pd.merge(calls_by_month, messages_by_month, how = 'outer',  on = ['month', 'user_id'])"
   ]
  },
  {
   "cell_type": "code",
   "execution_count": 28,
   "metadata": {},
   "outputs": [],
   "source": [
    "data_by_months = pd.merge(data_by_months, internet_by_month, how = 'outer', on = ['month', 'user_id'])"
   ]
  },
  {
   "cell_type": "code",
   "execution_count": 29,
   "metadata": {
    "scrolled": true
   },
   "outputs": [
    {
     "data": {
      "text/html": [
       "<div>\n",
       "<style scoped>\n",
       "    .dataframe tbody tr th:only-of-type {\n",
       "        vertical-align: middle;\n",
       "    }\n",
       "\n",
       "    .dataframe tbody tr th {\n",
       "        vertical-align: top;\n",
       "    }\n",
       "\n",
       "    .dataframe thead th {\n",
       "        text-align: right;\n",
       "    }\n",
       "</style>\n",
       "<table border=\"1\" class=\"dataframe\">\n",
       "  <thead>\n",
       "    <tr style=\"text-align: right;\">\n",
       "      <th></th>\n",
       "      <th>user_id</th>\n",
       "      <th>month</th>\n",
       "      <th>total_duration</th>\n",
       "      <th>cnt_calls</th>\n",
       "      <th>cnt_messages</th>\n",
       "      <th>mb_used</th>\n",
       "    </tr>\n",
       "  </thead>\n",
       "  <tbody>\n",
       "    <tr>\n",
       "      <td>0</td>\n",
       "      <td>1000</td>\n",
       "      <td>5</td>\n",
       "      <td>159.0</td>\n",
       "      <td>22.0</td>\n",
       "      <td>22.0</td>\n",
       "      <td>2254.0</td>\n",
       "    </tr>\n",
       "    <tr>\n",
       "      <td>1</td>\n",
       "      <td>1000</td>\n",
       "      <td>6</td>\n",
       "      <td>172.0</td>\n",
       "      <td>43.0</td>\n",
       "      <td>60.0</td>\n",
       "      <td>23234.0</td>\n",
       "    </tr>\n",
       "    <tr>\n",
       "      <td>2</td>\n",
       "      <td>1000</td>\n",
       "      <td>7</td>\n",
       "      <td>340.0</td>\n",
       "      <td>47.0</td>\n",
       "      <td>75.0</td>\n",
       "      <td>14004.0</td>\n",
       "    </tr>\n",
       "    <tr>\n",
       "      <td>3</td>\n",
       "      <td>1000</td>\n",
       "      <td>8</td>\n",
       "      <td>408.0</td>\n",
       "      <td>52.0</td>\n",
       "      <td>81.0</td>\n",
       "      <td>14056.0</td>\n",
       "    </tr>\n",
       "    <tr>\n",
       "      <td>4</td>\n",
       "      <td>1000</td>\n",
       "      <td>9</td>\n",
       "      <td>466.0</td>\n",
       "      <td>58.0</td>\n",
       "      <td>57.0</td>\n",
       "      <td>14569.0</td>\n",
       "    </tr>\n",
       "    <tr>\n",
       "      <td>...</td>\n",
       "      <td>...</td>\n",
       "      <td>...</td>\n",
       "      <td>...</td>\n",
       "      <td>...</td>\n",
       "      <td>...</td>\n",
       "      <td>...</td>\n",
       "    </tr>\n",
       "    <tr>\n",
       "      <td>3209</td>\n",
       "      <td>1489</td>\n",
       "      <td>9</td>\n",
       "      <td>NaN</td>\n",
       "      <td>NaN</td>\n",
       "      <td>32.0</td>\n",
       "      <td>17207.0</td>\n",
       "    </tr>\n",
       "    <tr>\n",
       "      <td>3210</td>\n",
       "      <td>1489</td>\n",
       "      <td>10</td>\n",
       "      <td>NaN</td>\n",
       "      <td>NaN</td>\n",
       "      <td>21.0</td>\n",
       "      <td>19560.0</td>\n",
       "    </tr>\n",
       "    <tr>\n",
       "      <td>3211</td>\n",
       "      <td>1489</td>\n",
       "      <td>11</td>\n",
       "      <td>NaN</td>\n",
       "      <td>NaN</td>\n",
       "      <td>20.0</td>\n",
       "      <td>17492.0</td>\n",
       "    </tr>\n",
       "    <tr>\n",
       "      <td>3212</td>\n",
       "      <td>1489</td>\n",
       "      <td>12</td>\n",
       "      <td>NaN</td>\n",
       "      <td>NaN</td>\n",
       "      <td>35.0</td>\n",
       "      <td>17323.0</td>\n",
       "    </tr>\n",
       "    <tr>\n",
       "      <td>3213</td>\n",
       "      <td>1476</td>\n",
       "      <td>4</td>\n",
       "      <td>NaN</td>\n",
       "      <td>NaN</td>\n",
       "      <td>NaN</td>\n",
       "      <td>531.0</td>\n",
       "    </tr>\n",
       "  </tbody>\n",
       "</table>\n",
       "<p>3214 rows × 6 columns</p>\n",
       "</div>"
      ],
      "text/plain": [
       "      user_id  month  total_duration  cnt_calls  cnt_messages  mb_used\n",
       "0        1000      5           159.0       22.0          22.0   2254.0\n",
       "1        1000      6           172.0       43.0          60.0  23234.0\n",
       "2        1000      7           340.0       47.0          75.0  14004.0\n",
       "3        1000      8           408.0       52.0          81.0  14056.0\n",
       "4        1000      9           466.0       58.0          57.0  14569.0\n",
       "...       ...    ...             ...        ...           ...      ...\n",
       "3209     1489      9             NaN        NaN          32.0  17207.0\n",
       "3210     1489     10             NaN        NaN          21.0  19560.0\n",
       "3211     1489     11             NaN        NaN          20.0  17492.0\n",
       "3212     1489     12             NaN        NaN          35.0  17323.0\n",
       "3213     1476      4             NaN        NaN           NaN    531.0\n",
       "\n",
       "[3214 rows x 6 columns]"
      ]
     },
     "execution_count": 29,
     "metadata": {},
     "output_type": "execute_result"
    }
   ],
   "source": [
    "data_by_months"
   ]
  },
  {
   "cell_type": "code",
   "execution_count": 30,
   "metadata": {},
   "outputs": [
    {
     "data": {
      "text/plain": [
       "497"
      ]
     },
     "execution_count": 30,
     "metadata": {},
     "output_type": "execute_result"
    }
   ],
   "source": [
    "# data_by_months[data_by_months.isna().any(axis=1)]\n",
    "# data_by_months['total_duration'].isna().sum()\n",
    "# data_by_months['cnt_calls'].isna().sum()\n",
    "data_by_months['cnt_messages'].isna().sum()"
   ]
  },
  {
   "cell_type": "markdown",
   "metadata": {},
   "source": [
    "А вот тут уже появились пропущенные значения - скорее всего, пользователи просто предпочитают интернет звонкам или сообщения звонкам. "
   ]
  },
  {
   "cell_type": "markdown",
   "metadata": {},
   "source": [
    "Объединяем данные с таблицей users:"
   ]
  },
  {
   "cell_type": "code",
   "execution_count": 31,
   "metadata": {},
   "outputs": [
    {
     "data": {
      "text/html": [
       "<div>\n",
       "<style scoped>\n",
       "    .dataframe tbody tr th:only-of-type {\n",
       "        vertical-align: middle;\n",
       "    }\n",
       "\n",
       "    .dataframe tbody tr th {\n",
       "        vertical-align: top;\n",
       "    }\n",
       "\n",
       "    .dataframe thead th {\n",
       "        text-align: right;\n",
       "    }\n",
       "</style>\n",
       "<table border=\"1\" class=\"dataframe\">\n",
       "  <thead>\n",
       "    <tr style=\"text-align: right;\">\n",
       "      <th></th>\n",
       "      <th>user_id</th>\n",
       "      <th>month</th>\n",
       "      <th>total_duration</th>\n",
       "      <th>cnt_calls</th>\n",
       "      <th>cnt_messages</th>\n",
       "      <th>mb_used</th>\n",
       "      <th>age</th>\n",
       "      <th>churn_date</th>\n",
       "      <th>city</th>\n",
       "      <th>first_name</th>\n",
       "      <th>last_name</th>\n",
       "      <th>reg_date</th>\n",
       "      <th>tariff_name</th>\n",
       "      <th>reg_date_month</th>\n",
       "      <th>churn_date_month</th>\n",
       "    </tr>\n",
       "  </thead>\n",
       "  <tbody>\n",
       "    <tr>\n",
       "      <td>0</td>\n",
       "      <td>1000</td>\n",
       "      <td>5</td>\n",
       "      <td>159.0</td>\n",
       "      <td>22.0</td>\n",
       "      <td>22.0</td>\n",
       "      <td>2254.0</td>\n",
       "      <td>52</td>\n",
       "      <td>NaT</td>\n",
       "      <td>Краснодар</td>\n",
       "      <td>Рафаил</td>\n",
       "      <td>Верещагин</td>\n",
       "      <td>2018-05-25</td>\n",
       "      <td>ultra</td>\n",
       "      <td>5</td>\n",
       "      <td>NaN</td>\n",
       "    </tr>\n",
       "    <tr>\n",
       "      <td>1</td>\n",
       "      <td>1000</td>\n",
       "      <td>6</td>\n",
       "      <td>172.0</td>\n",
       "      <td>43.0</td>\n",
       "      <td>60.0</td>\n",
       "      <td>23234.0</td>\n",
       "      <td>52</td>\n",
       "      <td>NaT</td>\n",
       "      <td>Краснодар</td>\n",
       "      <td>Рафаил</td>\n",
       "      <td>Верещагин</td>\n",
       "      <td>2018-05-25</td>\n",
       "      <td>ultra</td>\n",
       "      <td>5</td>\n",
       "      <td>NaN</td>\n",
       "    </tr>\n",
       "    <tr>\n",
       "      <td>2</td>\n",
       "      <td>1000</td>\n",
       "      <td>7</td>\n",
       "      <td>340.0</td>\n",
       "      <td>47.0</td>\n",
       "      <td>75.0</td>\n",
       "      <td>14004.0</td>\n",
       "      <td>52</td>\n",
       "      <td>NaT</td>\n",
       "      <td>Краснодар</td>\n",
       "      <td>Рафаил</td>\n",
       "      <td>Верещагин</td>\n",
       "      <td>2018-05-25</td>\n",
       "      <td>ultra</td>\n",
       "      <td>5</td>\n",
       "      <td>NaN</td>\n",
       "    </tr>\n",
       "    <tr>\n",
       "      <td>3</td>\n",
       "      <td>1000</td>\n",
       "      <td>8</td>\n",
       "      <td>408.0</td>\n",
       "      <td>52.0</td>\n",
       "      <td>81.0</td>\n",
       "      <td>14056.0</td>\n",
       "      <td>52</td>\n",
       "      <td>NaT</td>\n",
       "      <td>Краснодар</td>\n",
       "      <td>Рафаил</td>\n",
       "      <td>Верещагин</td>\n",
       "      <td>2018-05-25</td>\n",
       "      <td>ultra</td>\n",
       "      <td>5</td>\n",
       "      <td>NaN</td>\n",
       "    </tr>\n",
       "    <tr>\n",
       "      <td>4</td>\n",
       "      <td>1000</td>\n",
       "      <td>9</td>\n",
       "      <td>466.0</td>\n",
       "      <td>58.0</td>\n",
       "      <td>57.0</td>\n",
       "      <td>14569.0</td>\n",
       "      <td>52</td>\n",
       "      <td>NaT</td>\n",
       "      <td>Краснодар</td>\n",
       "      <td>Рафаил</td>\n",
       "      <td>Верещагин</td>\n",
       "      <td>2018-05-25</td>\n",
       "      <td>ultra</td>\n",
       "      <td>5</td>\n",
       "      <td>NaN</td>\n",
       "    </tr>\n",
       "    <tr>\n",
       "      <td>...</td>\n",
       "      <td>...</td>\n",
       "      <td>...</td>\n",
       "      <td>...</td>\n",
       "      <td>...</td>\n",
       "      <td>...</td>\n",
       "      <td>...</td>\n",
       "      <td>...</td>\n",
       "      <td>...</td>\n",
       "      <td>...</td>\n",
       "      <td>...</td>\n",
       "      <td>...</td>\n",
       "      <td>...</td>\n",
       "      <td>...</td>\n",
       "      <td>...</td>\n",
       "      <td>...</td>\n",
       "    </tr>\n",
       "    <tr>\n",
       "      <td>3209</td>\n",
       "      <td>1489</td>\n",
       "      <td>9</td>\n",
       "      <td>NaN</td>\n",
       "      <td>NaN</td>\n",
       "      <td>32.0</td>\n",
       "      <td>17207.0</td>\n",
       "      <td>35</td>\n",
       "      <td>NaT</td>\n",
       "      <td>Санкт-Петербург</td>\n",
       "      <td>Павел</td>\n",
       "      <td>Гончаров</td>\n",
       "      <td>2018-08-15</td>\n",
       "      <td>smart</td>\n",
       "      <td>8</td>\n",
       "      <td>NaN</td>\n",
       "    </tr>\n",
       "    <tr>\n",
       "      <td>3210</td>\n",
       "      <td>1489</td>\n",
       "      <td>10</td>\n",
       "      <td>NaN</td>\n",
       "      <td>NaN</td>\n",
       "      <td>21.0</td>\n",
       "      <td>19560.0</td>\n",
       "      <td>35</td>\n",
       "      <td>NaT</td>\n",
       "      <td>Санкт-Петербург</td>\n",
       "      <td>Павел</td>\n",
       "      <td>Гончаров</td>\n",
       "      <td>2018-08-15</td>\n",
       "      <td>smart</td>\n",
       "      <td>8</td>\n",
       "      <td>NaN</td>\n",
       "    </tr>\n",
       "    <tr>\n",
       "      <td>3211</td>\n",
       "      <td>1489</td>\n",
       "      <td>11</td>\n",
       "      <td>NaN</td>\n",
       "      <td>NaN</td>\n",
       "      <td>20.0</td>\n",
       "      <td>17492.0</td>\n",
       "      <td>35</td>\n",
       "      <td>NaT</td>\n",
       "      <td>Санкт-Петербург</td>\n",
       "      <td>Павел</td>\n",
       "      <td>Гончаров</td>\n",
       "      <td>2018-08-15</td>\n",
       "      <td>smart</td>\n",
       "      <td>8</td>\n",
       "      <td>NaN</td>\n",
       "    </tr>\n",
       "    <tr>\n",
       "      <td>3212</td>\n",
       "      <td>1489</td>\n",
       "      <td>12</td>\n",
       "      <td>NaN</td>\n",
       "      <td>NaN</td>\n",
       "      <td>35.0</td>\n",
       "      <td>17323.0</td>\n",
       "      <td>35</td>\n",
       "      <td>NaT</td>\n",
       "      <td>Санкт-Петербург</td>\n",
       "      <td>Павел</td>\n",
       "      <td>Гончаров</td>\n",
       "      <td>2018-08-15</td>\n",
       "      <td>smart</td>\n",
       "      <td>8</td>\n",
       "      <td>NaN</td>\n",
       "    </tr>\n",
       "    <tr>\n",
       "      <td>3213</td>\n",
       "      <td>1476</td>\n",
       "      <td>4</td>\n",
       "      <td>NaN</td>\n",
       "      <td>NaN</td>\n",
       "      <td>NaN</td>\n",
       "      <td>531.0</td>\n",
       "      <td>50</td>\n",
       "      <td>NaT</td>\n",
       "      <td>Москва</td>\n",
       "      <td>Валентина</td>\n",
       "      <td>Семенова</td>\n",
       "      <td>2018-04-30</td>\n",
       "      <td>ultra</td>\n",
       "      <td>4</td>\n",
       "      <td>NaN</td>\n",
       "    </tr>\n",
       "  </tbody>\n",
       "</table>\n",
       "<p>3214 rows × 15 columns</p>\n",
       "</div>"
      ],
      "text/plain": [
       "      user_id  month  total_duration  cnt_calls  cnt_messages  mb_used  age  \\\n",
       "0        1000      5           159.0       22.0          22.0   2254.0   52   \n",
       "1        1000      6           172.0       43.0          60.0  23234.0   52   \n",
       "2        1000      7           340.0       47.0          75.0  14004.0   52   \n",
       "3        1000      8           408.0       52.0          81.0  14056.0   52   \n",
       "4        1000      9           466.0       58.0          57.0  14569.0   52   \n",
       "...       ...    ...             ...        ...           ...      ...  ...   \n",
       "3209     1489      9             NaN        NaN          32.0  17207.0   35   \n",
       "3210     1489     10             NaN        NaN          21.0  19560.0   35   \n",
       "3211     1489     11             NaN        NaN          20.0  17492.0   35   \n",
       "3212     1489     12             NaN        NaN          35.0  17323.0   35   \n",
       "3213     1476      4             NaN        NaN           NaN    531.0   50   \n",
       "\n",
       "     churn_date             city first_name  last_name   reg_date tariff_name  \\\n",
       "0           NaT        Краснодар     Рафаил  Верещагин 2018-05-25       ultra   \n",
       "1           NaT        Краснодар     Рафаил  Верещагин 2018-05-25       ultra   \n",
       "2           NaT        Краснодар     Рафаил  Верещагин 2018-05-25       ultra   \n",
       "3           NaT        Краснодар     Рафаил  Верещагин 2018-05-25       ultra   \n",
       "4           NaT        Краснодар     Рафаил  Верещагин 2018-05-25       ultra   \n",
       "...         ...              ...        ...        ...        ...         ...   \n",
       "3209        NaT  Санкт-Петербург      Павел   Гончаров 2018-08-15       smart   \n",
       "3210        NaT  Санкт-Петербург      Павел   Гончаров 2018-08-15       smart   \n",
       "3211        NaT  Санкт-Петербург      Павел   Гончаров 2018-08-15       smart   \n",
       "3212        NaT  Санкт-Петербург      Павел   Гончаров 2018-08-15       smart   \n",
       "3213        NaT           Москва  Валентина   Семенова 2018-04-30       ultra   \n",
       "\n",
       "      reg_date_month  churn_date_month  \n",
       "0                  5               NaN  \n",
       "1                  5               NaN  \n",
       "2                  5               NaN  \n",
       "3                  5               NaN  \n",
       "4                  5               NaN  \n",
       "...              ...               ...  \n",
       "3209               8               NaN  \n",
       "3210               8               NaN  \n",
       "3211               8               NaN  \n",
       "3212               8               NaN  \n",
       "3213               4               NaN  \n",
       "\n",
       "[3214 rows x 15 columns]"
      ]
     },
     "execution_count": 31,
     "metadata": {},
     "output_type": "execute_result"
    }
   ],
   "source": [
    "user_data_by_months = pd.merge(data_by_months, users, how = 'left', on = 'user_id')\n",
    "user_data_by_months"
   ]
  },
  {
   "cell_type": "markdown",
   "metadata": {},
   "source": [
    "И добавляем данные по тарифам:"
   ]
  },
  {
   "cell_type": "code",
   "execution_count": 32,
   "metadata": {},
   "outputs": [
    {
     "data": {
      "text/html": [
       "<div>\n",
       "<style scoped>\n",
       "    .dataframe tbody tr th:only-of-type {\n",
       "        vertical-align: middle;\n",
       "    }\n",
       "\n",
       "    .dataframe tbody tr th {\n",
       "        vertical-align: top;\n",
       "    }\n",
       "\n",
       "    .dataframe thead th {\n",
       "        text-align: right;\n",
       "    }\n",
       "</style>\n",
       "<table border=\"1\" class=\"dataframe\">\n",
       "  <thead>\n",
       "    <tr style=\"text-align: right;\">\n",
       "      <th></th>\n",
       "      <th>user_id</th>\n",
       "      <th>month</th>\n",
       "      <th>total_duration</th>\n",
       "      <th>cnt_calls</th>\n",
       "      <th>cnt_messages</th>\n",
       "      <th>mb_used</th>\n",
       "      <th>age</th>\n",
       "      <th>churn_date</th>\n",
       "      <th>city</th>\n",
       "      <th>first_name</th>\n",
       "      <th>...</th>\n",
       "      <th>tariff_name</th>\n",
       "      <th>reg_date_month</th>\n",
       "      <th>churn_date_month</th>\n",
       "      <th>messages_included</th>\n",
       "      <th>mb_per_month_included</th>\n",
       "      <th>minutes_included</th>\n",
       "      <th>rub_monthly_fee</th>\n",
       "      <th>rub_per_gb</th>\n",
       "      <th>rub_per_message</th>\n",
       "      <th>rub_per_minute</th>\n",
       "    </tr>\n",
       "  </thead>\n",
       "  <tbody>\n",
       "    <tr>\n",
       "      <td>0</td>\n",
       "      <td>1000</td>\n",
       "      <td>5</td>\n",
       "      <td>159.0</td>\n",
       "      <td>22.0</td>\n",
       "      <td>22.0</td>\n",
       "      <td>2254.0</td>\n",
       "      <td>52</td>\n",
       "      <td>NaT</td>\n",
       "      <td>Краснодар</td>\n",
       "      <td>Рафаил</td>\n",
       "      <td>...</td>\n",
       "      <td>ultra</td>\n",
       "      <td>5</td>\n",
       "      <td>NaN</td>\n",
       "      <td>1000</td>\n",
       "      <td>30720</td>\n",
       "      <td>3000</td>\n",
       "      <td>1950</td>\n",
       "      <td>150</td>\n",
       "      <td>1</td>\n",
       "      <td>1</td>\n",
       "    </tr>\n",
       "    <tr>\n",
       "      <td>1</td>\n",
       "      <td>1000</td>\n",
       "      <td>6</td>\n",
       "      <td>172.0</td>\n",
       "      <td>43.0</td>\n",
       "      <td>60.0</td>\n",
       "      <td>23234.0</td>\n",
       "      <td>52</td>\n",
       "      <td>NaT</td>\n",
       "      <td>Краснодар</td>\n",
       "      <td>Рафаил</td>\n",
       "      <td>...</td>\n",
       "      <td>ultra</td>\n",
       "      <td>5</td>\n",
       "      <td>NaN</td>\n",
       "      <td>1000</td>\n",
       "      <td>30720</td>\n",
       "      <td>3000</td>\n",
       "      <td>1950</td>\n",
       "      <td>150</td>\n",
       "      <td>1</td>\n",
       "      <td>1</td>\n",
       "    </tr>\n",
       "    <tr>\n",
       "      <td>2</td>\n",
       "      <td>1000</td>\n",
       "      <td>7</td>\n",
       "      <td>340.0</td>\n",
       "      <td>47.0</td>\n",
       "      <td>75.0</td>\n",
       "      <td>14004.0</td>\n",
       "      <td>52</td>\n",
       "      <td>NaT</td>\n",
       "      <td>Краснодар</td>\n",
       "      <td>Рафаил</td>\n",
       "      <td>...</td>\n",
       "      <td>ultra</td>\n",
       "      <td>5</td>\n",
       "      <td>NaN</td>\n",
       "      <td>1000</td>\n",
       "      <td>30720</td>\n",
       "      <td>3000</td>\n",
       "      <td>1950</td>\n",
       "      <td>150</td>\n",
       "      <td>1</td>\n",
       "      <td>1</td>\n",
       "    </tr>\n",
       "    <tr>\n",
       "      <td>3</td>\n",
       "      <td>1000</td>\n",
       "      <td>8</td>\n",
       "      <td>408.0</td>\n",
       "      <td>52.0</td>\n",
       "      <td>81.0</td>\n",
       "      <td>14056.0</td>\n",
       "      <td>52</td>\n",
       "      <td>NaT</td>\n",
       "      <td>Краснодар</td>\n",
       "      <td>Рафаил</td>\n",
       "      <td>...</td>\n",
       "      <td>ultra</td>\n",
       "      <td>5</td>\n",
       "      <td>NaN</td>\n",
       "      <td>1000</td>\n",
       "      <td>30720</td>\n",
       "      <td>3000</td>\n",
       "      <td>1950</td>\n",
       "      <td>150</td>\n",
       "      <td>1</td>\n",
       "      <td>1</td>\n",
       "    </tr>\n",
       "    <tr>\n",
       "      <td>4</td>\n",
       "      <td>1000</td>\n",
       "      <td>9</td>\n",
       "      <td>466.0</td>\n",
       "      <td>58.0</td>\n",
       "      <td>57.0</td>\n",
       "      <td>14569.0</td>\n",
       "      <td>52</td>\n",
       "      <td>NaT</td>\n",
       "      <td>Краснодар</td>\n",
       "      <td>Рафаил</td>\n",
       "      <td>...</td>\n",
       "      <td>ultra</td>\n",
       "      <td>5</td>\n",
       "      <td>NaN</td>\n",
       "      <td>1000</td>\n",
       "      <td>30720</td>\n",
       "      <td>3000</td>\n",
       "      <td>1950</td>\n",
       "      <td>150</td>\n",
       "      <td>1</td>\n",
       "      <td>1</td>\n",
       "    </tr>\n",
       "    <tr>\n",
       "      <td>...</td>\n",
       "      <td>...</td>\n",
       "      <td>...</td>\n",
       "      <td>...</td>\n",
       "      <td>...</td>\n",
       "      <td>...</td>\n",
       "      <td>...</td>\n",
       "      <td>...</td>\n",
       "      <td>...</td>\n",
       "      <td>...</td>\n",
       "      <td>...</td>\n",
       "      <td>...</td>\n",
       "      <td>...</td>\n",
       "      <td>...</td>\n",
       "      <td>...</td>\n",
       "      <td>...</td>\n",
       "      <td>...</td>\n",
       "      <td>...</td>\n",
       "      <td>...</td>\n",
       "      <td>...</td>\n",
       "      <td>...</td>\n",
       "      <td>...</td>\n",
       "    </tr>\n",
       "    <tr>\n",
       "      <td>3209</td>\n",
       "      <td>1489</td>\n",
       "      <td>9</td>\n",
       "      <td>NaN</td>\n",
       "      <td>NaN</td>\n",
       "      <td>32.0</td>\n",
       "      <td>17207.0</td>\n",
       "      <td>35</td>\n",
       "      <td>NaT</td>\n",
       "      <td>Санкт-Петербург</td>\n",
       "      <td>Павел</td>\n",
       "      <td>...</td>\n",
       "      <td>smart</td>\n",
       "      <td>8</td>\n",
       "      <td>NaN</td>\n",
       "      <td>50</td>\n",
       "      <td>15360</td>\n",
       "      <td>500</td>\n",
       "      <td>550</td>\n",
       "      <td>200</td>\n",
       "      <td>3</td>\n",
       "      <td>3</td>\n",
       "    </tr>\n",
       "    <tr>\n",
       "      <td>3210</td>\n",
       "      <td>1489</td>\n",
       "      <td>10</td>\n",
       "      <td>NaN</td>\n",
       "      <td>NaN</td>\n",
       "      <td>21.0</td>\n",
       "      <td>19560.0</td>\n",
       "      <td>35</td>\n",
       "      <td>NaT</td>\n",
       "      <td>Санкт-Петербург</td>\n",
       "      <td>Павел</td>\n",
       "      <td>...</td>\n",
       "      <td>smart</td>\n",
       "      <td>8</td>\n",
       "      <td>NaN</td>\n",
       "      <td>50</td>\n",
       "      <td>15360</td>\n",
       "      <td>500</td>\n",
       "      <td>550</td>\n",
       "      <td>200</td>\n",
       "      <td>3</td>\n",
       "      <td>3</td>\n",
       "    </tr>\n",
       "    <tr>\n",
       "      <td>3211</td>\n",
       "      <td>1489</td>\n",
       "      <td>11</td>\n",
       "      <td>NaN</td>\n",
       "      <td>NaN</td>\n",
       "      <td>20.0</td>\n",
       "      <td>17492.0</td>\n",
       "      <td>35</td>\n",
       "      <td>NaT</td>\n",
       "      <td>Санкт-Петербург</td>\n",
       "      <td>Павел</td>\n",
       "      <td>...</td>\n",
       "      <td>smart</td>\n",
       "      <td>8</td>\n",
       "      <td>NaN</td>\n",
       "      <td>50</td>\n",
       "      <td>15360</td>\n",
       "      <td>500</td>\n",
       "      <td>550</td>\n",
       "      <td>200</td>\n",
       "      <td>3</td>\n",
       "      <td>3</td>\n",
       "    </tr>\n",
       "    <tr>\n",
       "      <td>3212</td>\n",
       "      <td>1489</td>\n",
       "      <td>12</td>\n",
       "      <td>NaN</td>\n",
       "      <td>NaN</td>\n",
       "      <td>35.0</td>\n",
       "      <td>17323.0</td>\n",
       "      <td>35</td>\n",
       "      <td>NaT</td>\n",
       "      <td>Санкт-Петербург</td>\n",
       "      <td>Павел</td>\n",
       "      <td>...</td>\n",
       "      <td>smart</td>\n",
       "      <td>8</td>\n",
       "      <td>NaN</td>\n",
       "      <td>50</td>\n",
       "      <td>15360</td>\n",
       "      <td>500</td>\n",
       "      <td>550</td>\n",
       "      <td>200</td>\n",
       "      <td>3</td>\n",
       "      <td>3</td>\n",
       "    </tr>\n",
       "    <tr>\n",
       "      <td>3213</td>\n",
       "      <td>1476</td>\n",
       "      <td>4</td>\n",
       "      <td>NaN</td>\n",
       "      <td>NaN</td>\n",
       "      <td>NaN</td>\n",
       "      <td>531.0</td>\n",
       "      <td>50</td>\n",
       "      <td>NaT</td>\n",
       "      <td>Москва</td>\n",
       "      <td>Валентина</td>\n",
       "      <td>...</td>\n",
       "      <td>ultra</td>\n",
       "      <td>4</td>\n",
       "      <td>NaN</td>\n",
       "      <td>1000</td>\n",
       "      <td>30720</td>\n",
       "      <td>3000</td>\n",
       "      <td>1950</td>\n",
       "      <td>150</td>\n",
       "      <td>1</td>\n",
       "      <td>1</td>\n",
       "    </tr>\n",
       "  </tbody>\n",
       "</table>\n",
       "<p>3214 rows × 22 columns</p>\n",
       "</div>"
      ],
      "text/plain": [
       "      user_id  month  total_duration  cnt_calls  cnt_messages  mb_used  age  \\\n",
       "0        1000      5           159.0       22.0          22.0   2254.0   52   \n",
       "1        1000      6           172.0       43.0          60.0  23234.0   52   \n",
       "2        1000      7           340.0       47.0          75.0  14004.0   52   \n",
       "3        1000      8           408.0       52.0          81.0  14056.0   52   \n",
       "4        1000      9           466.0       58.0          57.0  14569.0   52   \n",
       "...       ...    ...             ...        ...           ...      ...  ...   \n",
       "3209     1489      9             NaN        NaN          32.0  17207.0   35   \n",
       "3210     1489     10             NaN        NaN          21.0  19560.0   35   \n",
       "3211     1489     11             NaN        NaN          20.0  17492.0   35   \n",
       "3212     1489     12             NaN        NaN          35.0  17323.0   35   \n",
       "3213     1476      4             NaN        NaN           NaN    531.0   50   \n",
       "\n",
       "     churn_date             city first_name  ... tariff_name reg_date_month  \\\n",
       "0           NaT        Краснодар     Рафаил  ...       ultra              5   \n",
       "1           NaT        Краснодар     Рафаил  ...       ultra              5   \n",
       "2           NaT        Краснодар     Рафаил  ...       ultra              5   \n",
       "3           NaT        Краснодар     Рафаил  ...       ultra              5   \n",
       "4           NaT        Краснодар     Рафаил  ...       ultra              5   \n",
       "...         ...              ...        ...  ...         ...            ...   \n",
       "3209        NaT  Санкт-Петербург      Павел  ...       smart              8   \n",
       "3210        NaT  Санкт-Петербург      Павел  ...       smart              8   \n",
       "3211        NaT  Санкт-Петербург      Павел  ...       smart              8   \n",
       "3212        NaT  Санкт-Петербург      Павел  ...       smart              8   \n",
       "3213        NaT           Москва  Валентина  ...       ultra              4   \n",
       "\n",
       "     churn_date_month  messages_included  mb_per_month_included  \\\n",
       "0                 NaN               1000                  30720   \n",
       "1                 NaN               1000                  30720   \n",
       "2                 NaN               1000                  30720   \n",
       "3                 NaN               1000                  30720   \n",
       "4                 NaN               1000                  30720   \n",
       "...               ...                ...                    ...   \n",
       "3209              NaN                 50                  15360   \n",
       "3210              NaN                 50                  15360   \n",
       "3211              NaN                 50                  15360   \n",
       "3212              NaN                 50                  15360   \n",
       "3213              NaN               1000                  30720   \n",
       "\n",
       "      minutes_included  rub_monthly_fee  rub_per_gb  rub_per_message  \\\n",
       "0                 3000             1950         150                1   \n",
       "1                 3000             1950         150                1   \n",
       "2                 3000             1950         150                1   \n",
       "3                 3000             1950         150                1   \n",
       "4                 3000             1950         150                1   \n",
       "...                ...              ...         ...              ...   \n",
       "3209               500              550         200                3   \n",
       "3210               500              550         200                3   \n",
       "3211               500              550         200                3   \n",
       "3212               500              550         200                3   \n",
       "3213              3000             1950         150                1   \n",
       "\n",
       "      rub_per_minute  \n",
       "0                  1  \n",
       "1                  1  \n",
       "2                  1  \n",
       "3                  1  \n",
       "4                  1  \n",
       "...              ...  \n",
       "3209               3  \n",
       "3210               3  \n",
       "3211               3  \n",
       "3212               3  \n",
       "3213               1  \n",
       "\n",
       "[3214 rows x 22 columns]"
      ]
     },
     "execution_count": 32,
     "metadata": {},
     "output_type": "execute_result"
    }
   ],
   "source": [
    "user_data_by_months = pd.merge(user_data_by_months, tariffs, how = 'left', on = 'tariff_name')\n",
    "user_data_by_months"
   ]
  },
  {
   "cell_type": "markdown",
   "metadata": {},
   "source": [
    "Посчитаем помесячную выручку с каждого пользователя.\n",
    "Посчитаем, сколько абоненты потратили на сообщения сверх нормы:"
   ]
  },
  {
   "cell_type": "code",
   "execution_count": 33,
   "metadata": {},
   "outputs": [
    {
     "data": {
      "text/plain": [
       "0       0.0\n",
       "1       0.0\n",
       "2       0.0\n",
       "3       0.0\n",
       "4       0.0\n",
       "       ... \n",
       "3209    0.0\n",
       "3210    0.0\n",
       "3211    0.0\n",
       "3212    0.0\n",
       "3213    NaN\n",
       "Name: over_messages, Length: 3214, dtype: float64"
      ]
     },
     "execution_count": 33,
     "metadata": {},
     "output_type": "execute_result"
    }
   ],
   "source": [
    "user_data_by_months['over_messages'] = (user_data_by_months['cnt_messages'] - user_data_by_months['messages_included'])*user_data_by_months['rub_per_message']\n",
    "user_data_by_months['over_messages'] = user_data_by_months['over_messages'].apply(lambda x: 0 if x < 0 else x)\n",
    "user_data_by_months['over_messages']"
   ]
  },
  {
   "cell_type": "markdown",
   "metadata": {},
   "source": [
    "То же - для \"лишних\" минут:"
   ]
  },
  {
   "cell_type": "code",
   "execution_count": 34,
   "metadata": {
    "scrolled": true
   },
   "outputs": [
    {
     "data": {
      "text/plain": [
       "0       0.0\n",
       "1       0.0\n",
       "2       0.0\n",
       "3       0.0\n",
       "4       0.0\n",
       "       ... \n",
       "3209    NaN\n",
       "3210    NaN\n",
       "3211    NaN\n",
       "3212    NaN\n",
       "3213    NaN\n",
       "Name: over_calls, Length: 3214, dtype: float64"
      ]
     },
     "execution_count": 34,
     "metadata": {},
     "output_type": "execute_result"
    }
   ],
   "source": [
    "user_data_by_months['over_calls'] = (user_data_by_months['total_duration'] - user_data_by_months['minutes_included'])*user_data_by_months['rub_per_minute']\n",
    "user_data_by_months['over_calls'] = user_data_by_months['over_calls'].apply(lambda x: 0 if x < 0 else x)\n",
    "user_data_by_months['over_calls']"
   ]
  },
  {
   "cell_type": "markdown",
   "metadata": {},
   "source": [
    "И для мегабайт (перевели в Гб):"
   ]
  },
  {
   "cell_type": "code",
   "execution_count": 35,
   "metadata": {
    "scrolled": false
   },
   "outputs": [
    {
     "data": {
      "text/plain": [
       "0         0.000000\n",
       "1         0.000000\n",
       "2         0.000000\n",
       "3         0.000000\n",
       "4         0.000000\n",
       "           ...    \n",
       "3209    360.742188\n",
       "3210    820.312500\n",
       "3211    416.406250\n",
       "3212    383.398438\n",
       "3213      0.000000\n",
       "Name: over_mb, Length: 3214, dtype: float64"
      ]
     },
     "execution_count": 35,
     "metadata": {},
     "output_type": "execute_result"
    }
   ],
   "source": [
    "user_data_by_months['over_mb'] = (user_data_by_months['mb_used'] - user_data_by_months['mb_per_month_included'])/1024*user_data_by_months['rub_per_gb']\n",
    "user_data_by_months['over_mb'] = user_data_by_months['over_mb'].apply(lambda x: 0 if x < 0 else x)\n",
    "user_data_by_months['over_mb']"
   ]
  },
  {
   "cell_type": "markdown",
   "metadata": {},
   "source": [
    "Посчитаем, сколько абонент всего тратит на связь:"
   ]
  },
  {
   "cell_type": "code",
   "execution_count": 36,
   "metadata": {},
   "outputs": [
    {
     "data": {
      "text/html": [
       "<div>\n",
       "<style scoped>\n",
       "    .dataframe tbody tr th:only-of-type {\n",
       "        vertical-align: middle;\n",
       "    }\n",
       "\n",
       "    .dataframe tbody tr th {\n",
       "        vertical-align: top;\n",
       "    }\n",
       "\n",
       "    .dataframe thead th {\n",
       "        text-align: right;\n",
       "    }\n",
       "</style>\n",
       "<table border=\"1\" class=\"dataframe\">\n",
       "  <thead>\n",
       "    <tr style=\"text-align: right;\">\n",
       "      <th></th>\n",
       "      <th>user_id</th>\n",
       "      <th>month</th>\n",
       "      <th>total_duration</th>\n",
       "      <th>cnt_calls</th>\n",
       "      <th>cnt_messages</th>\n",
       "      <th>mb_used</th>\n",
       "      <th>age</th>\n",
       "      <th>churn_date</th>\n",
       "      <th>city</th>\n",
       "      <th>first_name</th>\n",
       "      <th>...</th>\n",
       "      <th>mb_per_month_included</th>\n",
       "      <th>minutes_included</th>\n",
       "      <th>rub_monthly_fee</th>\n",
       "      <th>rub_per_gb</th>\n",
       "      <th>rub_per_message</th>\n",
       "      <th>rub_per_minute</th>\n",
       "      <th>over_messages</th>\n",
       "      <th>over_calls</th>\n",
       "      <th>over_mb</th>\n",
       "      <th>total_profit</th>\n",
       "    </tr>\n",
       "  </thead>\n",
       "  <tbody>\n",
       "    <tr>\n",
       "      <td>0</td>\n",
       "      <td>1000</td>\n",
       "      <td>5</td>\n",
       "      <td>159.0</td>\n",
       "      <td>22.0</td>\n",
       "      <td>22.0</td>\n",
       "      <td>2254.0</td>\n",
       "      <td>52</td>\n",
       "      <td>NaT</td>\n",
       "      <td>Краснодар</td>\n",
       "      <td>Рафаил</td>\n",
       "      <td>...</td>\n",
       "      <td>30720</td>\n",
       "      <td>3000</td>\n",
       "      <td>1950</td>\n",
       "      <td>150</td>\n",
       "      <td>1</td>\n",
       "      <td>1</td>\n",
       "      <td>0.0</td>\n",
       "      <td>0.0</td>\n",
       "      <td>0.000000</td>\n",
       "      <td>1950.0</td>\n",
       "    </tr>\n",
       "    <tr>\n",
       "      <td>1</td>\n",
       "      <td>1000</td>\n",
       "      <td>6</td>\n",
       "      <td>172.0</td>\n",
       "      <td>43.0</td>\n",
       "      <td>60.0</td>\n",
       "      <td>23234.0</td>\n",
       "      <td>52</td>\n",
       "      <td>NaT</td>\n",
       "      <td>Краснодар</td>\n",
       "      <td>Рафаил</td>\n",
       "      <td>...</td>\n",
       "      <td>30720</td>\n",
       "      <td>3000</td>\n",
       "      <td>1950</td>\n",
       "      <td>150</td>\n",
       "      <td>1</td>\n",
       "      <td>1</td>\n",
       "      <td>0.0</td>\n",
       "      <td>0.0</td>\n",
       "      <td>0.000000</td>\n",
       "      <td>1950.0</td>\n",
       "    </tr>\n",
       "    <tr>\n",
       "      <td>2</td>\n",
       "      <td>1000</td>\n",
       "      <td>7</td>\n",
       "      <td>340.0</td>\n",
       "      <td>47.0</td>\n",
       "      <td>75.0</td>\n",
       "      <td>14004.0</td>\n",
       "      <td>52</td>\n",
       "      <td>NaT</td>\n",
       "      <td>Краснодар</td>\n",
       "      <td>Рафаил</td>\n",
       "      <td>...</td>\n",
       "      <td>30720</td>\n",
       "      <td>3000</td>\n",
       "      <td>1950</td>\n",
       "      <td>150</td>\n",
       "      <td>1</td>\n",
       "      <td>1</td>\n",
       "      <td>0.0</td>\n",
       "      <td>0.0</td>\n",
       "      <td>0.000000</td>\n",
       "      <td>1950.0</td>\n",
       "    </tr>\n",
       "    <tr>\n",
       "      <td>3</td>\n",
       "      <td>1000</td>\n",
       "      <td>8</td>\n",
       "      <td>408.0</td>\n",
       "      <td>52.0</td>\n",
       "      <td>81.0</td>\n",
       "      <td>14056.0</td>\n",
       "      <td>52</td>\n",
       "      <td>NaT</td>\n",
       "      <td>Краснодар</td>\n",
       "      <td>Рафаил</td>\n",
       "      <td>...</td>\n",
       "      <td>30720</td>\n",
       "      <td>3000</td>\n",
       "      <td>1950</td>\n",
       "      <td>150</td>\n",
       "      <td>1</td>\n",
       "      <td>1</td>\n",
       "      <td>0.0</td>\n",
       "      <td>0.0</td>\n",
       "      <td>0.000000</td>\n",
       "      <td>1950.0</td>\n",
       "    </tr>\n",
       "    <tr>\n",
       "      <td>4</td>\n",
       "      <td>1000</td>\n",
       "      <td>9</td>\n",
       "      <td>466.0</td>\n",
       "      <td>58.0</td>\n",
       "      <td>57.0</td>\n",
       "      <td>14569.0</td>\n",
       "      <td>52</td>\n",
       "      <td>NaT</td>\n",
       "      <td>Краснодар</td>\n",
       "      <td>Рафаил</td>\n",
       "      <td>...</td>\n",
       "      <td>30720</td>\n",
       "      <td>3000</td>\n",
       "      <td>1950</td>\n",
       "      <td>150</td>\n",
       "      <td>1</td>\n",
       "      <td>1</td>\n",
       "      <td>0.0</td>\n",
       "      <td>0.0</td>\n",
       "      <td>0.000000</td>\n",
       "      <td>1950.0</td>\n",
       "    </tr>\n",
       "    <tr>\n",
       "      <td>...</td>\n",
       "      <td>...</td>\n",
       "      <td>...</td>\n",
       "      <td>...</td>\n",
       "      <td>...</td>\n",
       "      <td>...</td>\n",
       "      <td>...</td>\n",
       "      <td>...</td>\n",
       "      <td>...</td>\n",
       "      <td>...</td>\n",
       "      <td>...</td>\n",
       "      <td>...</td>\n",
       "      <td>...</td>\n",
       "      <td>...</td>\n",
       "      <td>...</td>\n",
       "      <td>...</td>\n",
       "      <td>...</td>\n",
       "      <td>...</td>\n",
       "      <td>...</td>\n",
       "      <td>...</td>\n",
       "      <td>...</td>\n",
       "      <td>...</td>\n",
       "    </tr>\n",
       "    <tr>\n",
       "      <td>3209</td>\n",
       "      <td>1489</td>\n",
       "      <td>9</td>\n",
       "      <td>NaN</td>\n",
       "      <td>NaN</td>\n",
       "      <td>32.0</td>\n",
       "      <td>17207.0</td>\n",
       "      <td>35</td>\n",
       "      <td>NaT</td>\n",
       "      <td>Санкт-Петербург</td>\n",
       "      <td>Павел</td>\n",
       "      <td>...</td>\n",
       "      <td>15360</td>\n",
       "      <td>500</td>\n",
       "      <td>550</td>\n",
       "      <td>200</td>\n",
       "      <td>3</td>\n",
       "      <td>3</td>\n",
       "      <td>0.0</td>\n",
       "      <td>NaN</td>\n",
       "      <td>360.742188</td>\n",
       "      <td>NaN</td>\n",
       "    </tr>\n",
       "    <tr>\n",
       "      <td>3210</td>\n",
       "      <td>1489</td>\n",
       "      <td>10</td>\n",
       "      <td>NaN</td>\n",
       "      <td>NaN</td>\n",
       "      <td>21.0</td>\n",
       "      <td>19560.0</td>\n",
       "      <td>35</td>\n",
       "      <td>NaT</td>\n",
       "      <td>Санкт-Петербург</td>\n",
       "      <td>Павел</td>\n",
       "      <td>...</td>\n",
       "      <td>15360</td>\n",
       "      <td>500</td>\n",
       "      <td>550</td>\n",
       "      <td>200</td>\n",
       "      <td>3</td>\n",
       "      <td>3</td>\n",
       "      <td>0.0</td>\n",
       "      <td>NaN</td>\n",
       "      <td>820.312500</td>\n",
       "      <td>NaN</td>\n",
       "    </tr>\n",
       "    <tr>\n",
       "      <td>3211</td>\n",
       "      <td>1489</td>\n",
       "      <td>11</td>\n",
       "      <td>NaN</td>\n",
       "      <td>NaN</td>\n",
       "      <td>20.0</td>\n",
       "      <td>17492.0</td>\n",
       "      <td>35</td>\n",
       "      <td>NaT</td>\n",
       "      <td>Санкт-Петербург</td>\n",
       "      <td>Павел</td>\n",
       "      <td>...</td>\n",
       "      <td>15360</td>\n",
       "      <td>500</td>\n",
       "      <td>550</td>\n",
       "      <td>200</td>\n",
       "      <td>3</td>\n",
       "      <td>3</td>\n",
       "      <td>0.0</td>\n",
       "      <td>NaN</td>\n",
       "      <td>416.406250</td>\n",
       "      <td>NaN</td>\n",
       "    </tr>\n",
       "    <tr>\n",
       "      <td>3212</td>\n",
       "      <td>1489</td>\n",
       "      <td>12</td>\n",
       "      <td>NaN</td>\n",
       "      <td>NaN</td>\n",
       "      <td>35.0</td>\n",
       "      <td>17323.0</td>\n",
       "      <td>35</td>\n",
       "      <td>NaT</td>\n",
       "      <td>Санкт-Петербург</td>\n",
       "      <td>Павел</td>\n",
       "      <td>...</td>\n",
       "      <td>15360</td>\n",
       "      <td>500</td>\n",
       "      <td>550</td>\n",
       "      <td>200</td>\n",
       "      <td>3</td>\n",
       "      <td>3</td>\n",
       "      <td>0.0</td>\n",
       "      <td>NaN</td>\n",
       "      <td>383.398438</td>\n",
       "      <td>NaN</td>\n",
       "    </tr>\n",
       "    <tr>\n",
       "      <td>3213</td>\n",
       "      <td>1476</td>\n",
       "      <td>4</td>\n",
       "      <td>NaN</td>\n",
       "      <td>NaN</td>\n",
       "      <td>NaN</td>\n",
       "      <td>531.0</td>\n",
       "      <td>50</td>\n",
       "      <td>NaT</td>\n",
       "      <td>Москва</td>\n",
       "      <td>Валентина</td>\n",
       "      <td>...</td>\n",
       "      <td>30720</td>\n",
       "      <td>3000</td>\n",
       "      <td>1950</td>\n",
       "      <td>150</td>\n",
       "      <td>1</td>\n",
       "      <td>1</td>\n",
       "      <td>NaN</td>\n",
       "      <td>NaN</td>\n",
       "      <td>0.000000</td>\n",
       "      <td>NaN</td>\n",
       "    </tr>\n",
       "  </tbody>\n",
       "</table>\n",
       "<p>3214 rows × 26 columns</p>\n",
       "</div>"
      ],
      "text/plain": [
       "      user_id  month  total_duration  cnt_calls  cnt_messages  mb_used  age  \\\n",
       "0        1000      5           159.0       22.0          22.0   2254.0   52   \n",
       "1        1000      6           172.0       43.0          60.0  23234.0   52   \n",
       "2        1000      7           340.0       47.0          75.0  14004.0   52   \n",
       "3        1000      8           408.0       52.0          81.0  14056.0   52   \n",
       "4        1000      9           466.0       58.0          57.0  14569.0   52   \n",
       "...       ...    ...             ...        ...           ...      ...  ...   \n",
       "3209     1489      9             NaN        NaN          32.0  17207.0   35   \n",
       "3210     1489     10             NaN        NaN          21.0  19560.0   35   \n",
       "3211     1489     11             NaN        NaN          20.0  17492.0   35   \n",
       "3212     1489     12             NaN        NaN          35.0  17323.0   35   \n",
       "3213     1476      4             NaN        NaN           NaN    531.0   50   \n",
       "\n",
       "     churn_date             city first_name  ... mb_per_month_included  \\\n",
       "0           NaT        Краснодар     Рафаил  ...                 30720   \n",
       "1           NaT        Краснодар     Рафаил  ...                 30720   \n",
       "2           NaT        Краснодар     Рафаил  ...                 30720   \n",
       "3           NaT        Краснодар     Рафаил  ...                 30720   \n",
       "4           NaT        Краснодар     Рафаил  ...                 30720   \n",
       "...         ...              ...        ...  ...                   ...   \n",
       "3209        NaT  Санкт-Петербург      Павел  ...                 15360   \n",
       "3210        NaT  Санкт-Петербург      Павел  ...                 15360   \n",
       "3211        NaT  Санкт-Петербург      Павел  ...                 15360   \n",
       "3212        NaT  Санкт-Петербург      Павел  ...                 15360   \n",
       "3213        NaT           Москва  Валентина  ...                 30720   \n",
       "\n",
       "     minutes_included rub_monthly_fee  rub_per_gb  rub_per_message  \\\n",
       "0                3000            1950         150                1   \n",
       "1                3000            1950         150                1   \n",
       "2                3000            1950         150                1   \n",
       "3                3000            1950         150                1   \n",
       "4                3000            1950         150                1   \n",
       "...               ...             ...         ...              ...   \n",
       "3209              500             550         200                3   \n",
       "3210              500             550         200                3   \n",
       "3211              500             550         200                3   \n",
       "3212              500             550         200                3   \n",
       "3213             3000            1950         150                1   \n",
       "\n",
       "      rub_per_minute  over_messages  over_calls     over_mb  total_profit  \n",
       "0                  1            0.0         0.0    0.000000        1950.0  \n",
       "1                  1            0.0         0.0    0.000000        1950.0  \n",
       "2                  1            0.0         0.0    0.000000        1950.0  \n",
       "3                  1            0.0         0.0    0.000000        1950.0  \n",
       "4                  1            0.0         0.0    0.000000        1950.0  \n",
       "...              ...            ...         ...         ...           ...  \n",
       "3209               3            0.0         NaN  360.742188           NaN  \n",
       "3210               3            0.0         NaN  820.312500           NaN  \n",
       "3211               3            0.0         NaN  416.406250           NaN  \n",
       "3212               3            0.0         NaN  383.398438           NaN  \n",
       "3213               1            NaN         NaN    0.000000           NaN  \n",
       "\n",
       "[3214 rows x 26 columns]"
      ]
     },
     "execution_count": 36,
     "metadata": {},
     "output_type": "execute_result"
    }
   ],
   "source": [
    "user_data_by_months['total_profit'] = user_data_by_months['over_calls'] + user_data_by_months['over_mb'] + user_data_by_months['over_messages'] + user_data_by_months['rub_monthly_fee']\n",
    "user_data_by_months"
   ]
  },
  {
   "cell_type": "markdown",
   "metadata": {},
   "source": [
    "### Вывод"
   ]
  },
  {
   "cell_type": "markdown",
   "metadata": {},
   "source": [
    "Для каждого абонента посчитали, сколько он тратит на связь в месяц. "
   ]
  },
  {
   "cell_type": "markdown",
   "metadata": {},
   "source": [
    "## Анализ данных"
   ]
  },
  {
   "cell_type": "markdown",
   "metadata": {},
   "source": [
    "Опишите поведение клиентов оператора, исходя из выборки. Сколько минут разговора, сколько сообщений и какой объём интернет-трафика требуется пользователям каждого тарифа в месяц? Посчитайте среднее количество, дисперсию и стандартное отклонение. Постройте гистограммы. Опишите распределения."
   ]
  },
  {
   "cell_type": "markdown",
   "metadata": {},
   "source": [
    "Посмотрим средние значения для каждого тарифа:"
   ]
  },
  {
   "cell_type": "code",
   "execution_count": 37,
   "metadata": {
    "scrolled": true
   },
   "outputs": [
    {
     "data": {
      "text/html": [
       "<div>\n",
       "<style scoped>\n",
       "    .dataframe tbody tr th:only-of-type {\n",
       "        vertical-align: middle;\n",
       "    }\n",
       "\n",
       "    .dataframe tbody tr th {\n",
       "        vertical-align: top;\n",
       "    }\n",
       "\n",
       "    .dataframe thead th {\n",
       "        text-align: right;\n",
       "    }\n",
       "</style>\n",
       "<table border=\"1\" class=\"dataframe\">\n",
       "  <thead>\n",
       "    <tr style=\"text-align: right;\">\n",
       "      <th></th>\n",
       "      <th>tariff_name</th>\n",
       "      <th>month</th>\n",
       "      <th>cnt_calls</th>\n",
       "      <th>cnt_messages</th>\n",
       "      <th>mb_used</th>\n",
       "      <th>total_duration</th>\n",
       "      <th>total_profit</th>\n",
       "    </tr>\n",
       "  </thead>\n",
       "  <tbody>\n",
       "    <tr>\n",
       "      <td>0</td>\n",
       "      <td>smart</td>\n",
       "      <td>1</td>\n",
       "      <td>28.0</td>\n",
       "      <td>20.0</td>\n",
       "      <td>8514.0</td>\n",
       "      <td>204.0</td>\n",
       "      <td>713.0</td>\n",
       "    </tr>\n",
       "    <tr>\n",
       "      <td>1</td>\n",
       "      <td>smart</td>\n",
       "      <td>2</td>\n",
       "      <td>40.0</td>\n",
       "      <td>28.0</td>\n",
       "      <td>11598.0</td>\n",
       "      <td>299.0</td>\n",
       "      <td>800.0</td>\n",
       "    </tr>\n",
       "    <tr>\n",
       "      <td>2</td>\n",
       "      <td>smart</td>\n",
       "      <td>3</td>\n",
       "      <td>54.0</td>\n",
       "      <td>36.0</td>\n",
       "      <td>15105.0</td>\n",
       "      <td>390.0</td>\n",
       "      <td>1078.0</td>\n",
       "    </tr>\n",
       "    <tr>\n",
       "      <td>3</td>\n",
       "      <td>smart</td>\n",
       "      <td>4</td>\n",
       "      <td>51.0</td>\n",
       "      <td>36.0</td>\n",
       "      <td>13463.0</td>\n",
       "      <td>367.0</td>\n",
       "      <td>932.0</td>\n",
       "    </tr>\n",
       "    <tr>\n",
       "      <td>4</td>\n",
       "      <td>smart</td>\n",
       "      <td>5</td>\n",
       "      <td>55.0</td>\n",
       "      <td>39.0</td>\n",
       "      <td>15806.0</td>\n",
       "      <td>387.0</td>\n",
       "      <td>1167.0</td>\n",
       "    </tr>\n",
       "    <tr>\n",
       "      <td>5</td>\n",
       "      <td>smart</td>\n",
       "      <td>6</td>\n",
       "      <td>56.0</td>\n",
       "      <td>39.0</td>\n",
       "      <td>15795.0</td>\n",
       "      <td>398.0</td>\n",
       "      <td>1154.0</td>\n",
       "    </tr>\n",
       "    <tr>\n",
       "      <td>6</td>\n",
       "      <td>smart</td>\n",
       "      <td>7</td>\n",
       "      <td>57.0</td>\n",
       "      <td>39.0</td>\n",
       "      <td>15744.0</td>\n",
       "      <td>408.0</td>\n",
       "      <td>1169.0</td>\n",
       "    </tr>\n",
       "    <tr>\n",
       "      <td>7</td>\n",
       "      <td>smart</td>\n",
       "      <td>8</td>\n",
       "      <td>59.0</td>\n",
       "      <td>39.0</td>\n",
       "      <td>16682.0</td>\n",
       "      <td>423.0</td>\n",
       "      <td>1292.0</td>\n",
       "    </tr>\n",
       "    <tr>\n",
       "      <td>8</td>\n",
       "      <td>smart</td>\n",
       "      <td>9</td>\n",
       "      <td>60.0</td>\n",
       "      <td>39.0</td>\n",
       "      <td>16304.0</td>\n",
       "      <td>430.0</td>\n",
       "      <td>1206.0</td>\n",
       "    </tr>\n",
       "    <tr>\n",
       "      <td>9</td>\n",
       "      <td>smart</td>\n",
       "      <td>10</td>\n",
       "      <td>60.0</td>\n",
       "      <td>39.0</td>\n",
       "      <td>16758.0</td>\n",
       "      <td>428.0</td>\n",
       "      <td>1305.0</td>\n",
       "    </tr>\n",
       "  </tbody>\n",
       "</table>\n",
       "</div>"
      ],
      "text/plain": [
       "  tariff_name  month  cnt_calls  cnt_messages  mb_used  total_duration  \\\n",
       "0       smart      1       28.0          20.0   8514.0           204.0   \n",
       "1       smart      2       40.0          28.0  11598.0           299.0   \n",
       "2       smart      3       54.0          36.0  15105.0           390.0   \n",
       "3       smart      4       51.0          36.0  13463.0           367.0   \n",
       "4       smart      5       55.0          39.0  15806.0           387.0   \n",
       "5       smart      6       56.0          39.0  15795.0           398.0   \n",
       "6       smart      7       57.0          39.0  15744.0           408.0   \n",
       "7       smart      8       59.0          39.0  16682.0           423.0   \n",
       "8       smart      9       60.0          39.0  16304.0           430.0   \n",
       "9       smart     10       60.0          39.0  16758.0           428.0   \n",
       "\n",
       "   total_profit  \n",
       "0         713.0  \n",
       "1         800.0  \n",
       "2        1078.0  \n",
       "3         932.0  \n",
       "4        1167.0  \n",
       "5        1154.0  \n",
       "6        1169.0  \n",
       "7        1292.0  \n",
       "8        1206.0  \n",
       "9        1305.0  "
      ]
     },
     "execution_count": 37,
     "metadata": {},
     "output_type": "execute_result"
    }
   ],
   "source": [
    "tariff_data = round(user_data_by_months.pivot_table(index = ['tariff_name', 'month'], values = ['total_duration', 'cnt_calls', 'cnt_messages', 'mb_used', 'total_profit']).reset_index())\n",
    "tariff_data.head(10)"
   ]
  },
  {
   "cell_type": "code",
   "execution_count": 38,
   "metadata": {},
   "outputs": [
    {
     "data": {
      "text/html": [
       "<div>\n",
       "<style scoped>\n",
       "    .dataframe tbody tr th:only-of-type {\n",
       "        vertical-align: middle;\n",
       "    }\n",
       "\n",
       "    .dataframe tbody tr th {\n",
       "        vertical-align: top;\n",
       "    }\n",
       "\n",
       "    .dataframe thead th {\n",
       "        text-align: right;\n",
       "    }\n",
       "</style>\n",
       "<table border=\"1\" class=\"dataframe\">\n",
       "  <thead>\n",
       "    <tr style=\"text-align: right;\">\n",
       "      <th></th>\n",
       "      <th>tariff_name</th>\n",
       "      <th>month</th>\n",
       "      <th>cnt_calls</th>\n",
       "      <th>cnt_messages</th>\n",
       "      <th>mb_used</th>\n",
       "      <th>total_duration</th>\n",
       "      <th>total_profit</th>\n",
       "    </tr>\n",
       "  </thead>\n",
       "  <tbody>\n",
       "    <tr>\n",
       "      <td>0</td>\n",
       "      <td>smart</td>\n",
       "      <td>6.0</td>\n",
       "      <td>54.0</td>\n",
       "      <td>36.0</td>\n",
       "      <td>15065.0</td>\n",
       "      <td>388.0</td>\n",
       "      <td>1130.0</td>\n",
       "    </tr>\n",
       "    <tr>\n",
       "      <td>1</td>\n",
       "      <td>ultra</td>\n",
       "      <td>6.0</td>\n",
       "      <td>71.0</td>\n",
       "      <td>55.0</td>\n",
       "      <td>18427.0</td>\n",
       "      <td>511.0</td>\n",
       "      <td>2021.0</td>\n",
       "    </tr>\n",
       "  </tbody>\n",
       "</table>\n",
       "</div>"
      ],
      "text/plain": [
       "  tariff_name  month  cnt_calls  cnt_messages  mb_used  total_duration  \\\n",
       "0       smart    6.0       54.0          36.0  15065.0           388.0   \n",
       "1       ultra    6.0       71.0          55.0  18427.0           511.0   \n",
       "\n",
       "   total_profit  \n",
       "0        1130.0  \n",
       "1        2021.0  "
      ]
     },
     "execution_count": 38,
     "metadata": {},
     "output_type": "execute_result"
    }
   ],
   "source": [
    "tariff_data_year = round(tariff_data.groupby('tariff_name').mean()).reset_index()\n",
    "tariff_data_year"
   ]
  },
  {
   "cell_type": "markdown",
   "metadata": {},
   "source": [
    "В среднем на тарифе Смарт и звонков больше (и их общая длительность), и сообщений, и количество потраченных мегабайт."
   ]
  },
  {
   "cell_type": "markdown",
   "metadata": {},
   "source": [
    "Для удобства разделим датафреймы на два:"
   ]
  },
  {
   "cell_type": "code",
   "execution_count": 39,
   "metadata": {
    "scrolled": true
   },
   "outputs": [],
   "source": [
    "smart_tariff = tariff_data[tariff_data['tariff_name']=='smart']\n",
    "ultra_tariff = tariff_data[tariff_data['tariff_name']=='ultra']\n",
    "# smart_tariff"
   ]
  },
  {
   "cell_type": "markdown",
   "metadata": {},
   "source": [
    "Дисперсия для тарифа Смарт:"
   ]
  },
  {
   "cell_type": "code",
   "execution_count": 40,
   "metadata": {},
   "outputs": [
    {
     "data": {
      "text/plain": [
       "month                  11.916667\n",
       "cnt_calls             102.076389\n",
       "cnt_messages           35.388889\n",
       "mb_used           6559311.409722\n",
       "total_duration       4847.909722\n",
       "total_profit        44107.250000\n",
       "dtype: object"
      ]
     },
     "execution_count": 40,
     "metadata": {},
     "output_type": "execute_result"
    }
   ],
   "source": [
    "np.var(smart_tariff).apply(lambda x: format(x, 'f'))"
   ]
  },
  {
   "cell_type": "markdown",
   "metadata": {},
   "source": [
    "Дисперсия для тарифа Ультра:"
   ]
  },
  {
   "cell_type": "code",
   "execution_count": 41,
   "metadata": {
    "scrolled": true
   },
   "outputs": [
    {
     "data": {
      "text/plain": [
       "month                  11.916667\n",
       "cnt_calls             125.520833\n",
       "cnt_messages          132.138889\n",
       "mb_used           7524844.243056\n",
       "total_duration       6593.138889\n",
       "total_profit         1899.000000\n",
       "dtype: object"
      ]
     },
     "execution_count": 41,
     "metadata": {},
     "output_type": "execute_result"
    }
   ],
   "source": [
    "np.var(ultra_tariff).apply(lambda x: format(x, 'f'))"
   ]
  },
  {
   "cell_type": "markdown",
   "metadata": {},
   "source": [
    "Среднее отклонение для тарифа Смарт:"
   ]
  },
  {
   "cell_type": "code",
   "execution_count": 42,
   "metadata": {},
   "outputs": [
    {
     "data": {
      "text/plain": [
       "month                3.452053\n",
       "cnt_calls           10.103286\n",
       "cnt_messages         5.948856\n",
       "mb_used           2561.115267\n",
       "total_duration      69.626932\n",
       "total_profit       210.017261\n",
       "dtype: object"
      ]
     },
     "execution_count": 42,
     "metadata": {},
     "output_type": "execute_result"
    }
   ],
   "source": [
    "np.std(smart_tariff).apply(lambda x: format(x, 'f'))"
   ]
  },
  {
   "cell_type": "markdown",
   "metadata": {},
   "source": [
    "Среднее отклонение для тарифа Ультра:"
   ]
  },
  {
   "cell_type": "code",
   "execution_count": 43,
   "metadata": {
    "scrolled": false
   },
   "outputs": [
    {
     "data": {
      "text/plain": [
       "month                3.452053\n",
       "cnt_calls           11.203608\n",
       "cnt_messages        11.495168\n",
       "mb_used           2743.144955\n",
       "total_duration      81.198146\n",
       "total_profit        43.577517\n",
       "dtype: object"
      ]
     },
     "execution_count": 43,
     "metadata": {},
     "output_type": "execute_result"
    }
   ],
   "source": [
    "np.std(ultra_tariff).apply(lambda x: format(x, 'f'))"
   ]
  },
  {
   "cell_type": "markdown",
   "metadata": {},
   "source": [
    "Напишем функцию для построения гистограмм:"
   ]
  },
  {
   "cell_type": "code",
   "execution_count": 44,
   "metadata": {},
   "outputs": [],
   "source": [
    "def plotting(column, title):\n",
    "    sns.set_style('darkgrid')\n",
    "    plt.figure(figsize=(15,5))\n",
    "    plt.title(title)\n",
    "    sns.distplot(smart_tariff[column], label='Тариф Smart', kde=False)\n",
    "    sns.distplot(ultra_tariff[column], label='Тариф Ultra', kde=False)\n",
    "    plt.legend()"
   ]
  },
  {
   "cell_type": "markdown",
   "metadata": {},
   "source": [
    "Распределение по кол-ву мегабайт:"
   ]
  },
  {
   "cell_type": "code",
   "execution_count": 45,
   "metadata": {
    "scrolled": true
   },
   "outputs": [
    {
     "data": {
      "image/png": "[encoded data removed]",
      "text/plain": [
       "<Figure size 1080x360 with 1 Axes>"
      ]
     },
     "metadata": {},
     "output_type": "display_data"
    }
   ],
   "source": [
    "plotting('mb_used', 'Распределение по кол-ву мегабайт')"
   ]
  },
  {
   "cell_type": "markdown",
   "metadata": {},
   "source": [
    "Распределение по кол-ву звонков:"
   ]
  },
  {
   "cell_type": "code",
   "execution_count": 46,
   "metadata": {
    "scrolled": true
   },
   "outputs": [
    {
     "data": {
      "image/png": "[encoded data removed]",
      "text/plain": [
       "<Figure size 1080x360 with 1 Axes>"
      ]
     },
     "metadata": {},
     "output_type": "display_data"
    }
   ],
   "source": [
    "plotting('cnt_calls', 'Распределение по кол-ву звонков')"
   ]
  },
  {
   "cell_type": "markdown",
   "metadata": {},
   "source": [
    "По кол-ву сообщений:"
   ]
  },
  {
   "cell_type": "code",
   "execution_count": 47,
   "metadata": {
    "scrolled": true
   },
   "outputs": [
    {
     "data": {
      "image/png": "[encoded data removed]",
      "text/plain": [
       "<Figure size 1080x360 with 1 Axes>"
      ]
     },
     "metadata": {},
     "output_type": "display_data"
    }
   ],
   "source": [
    "plotting('cnt_messages', 'Распределение по кол-ву сообщений')"
   ]
  },
  {
   "cell_type": "code",
   "execution_count": 48,
   "metadata": {},
   "outputs": [
    {
     "data": {
      "image/png": "[encoded data removed]",
      "text/plain": [
       "<Figure size 1080x360 with 1 Axes>"
      ]
     },
     "metadata": {},
     "output_type": "display_data"
    }
   ],
   "source": [
    "plotting('total_profit', 'Распределение по выручке')"
   ]
  },
  {
   "cell_type": "code",
   "execution_count": 49,
   "metadata": {},
   "outputs": [
    {
     "data": {
      "image/png": "[encoded data removed]",
      "text/plain": [
       "<Figure size 1080x360 with 1 Axes>"
      ]
     },
     "metadata": {},
     "output_type": "display_data"
    }
   ],
   "source": [
    "plotting('total_duration', 'Распределение по кол-ву минут')"
   ]
  },
  {
   "cell_type": "markdown",
   "metadata": {},
   "source": [
    "### Вывод"
   ]
  },
  {
   "cell_type": "markdown",
   "metadata": {},
   "source": [
    "Исходя из расчетов и гистрограмм можно сделать вывод, что: <br>\n",
    "    1. Среднее кол-во сообщений на тарифе Ультра (55 против 36) <br>\n",
    "    2. Среднее кол-во звонков также больше на тарифе Ультра (51 и 74) <br>\n",
    "    4. Тратят мегабайты также больше на тарифе Ультра (около 15 гб на Смарте и 18 - на тарифе Ультра)  "
   ]
  },
  {
   "cell_type": "markdown",
   "metadata": {},
   "source": [
    "Посмотрим общую выручку компании по тарифам:"
   ]
  },
  {
   "cell_type": "markdown",
   "metadata": {},
   "source": [
    "Ранее мы считали, сколько в среднем за год абоненты тратят на связь:"
   ]
  },
  {
   "cell_type": "code",
   "execution_count": 50,
   "metadata": {},
   "outputs": [
    {
     "data": {
      "text/html": [
       "<div>\n",
       "<style scoped>\n",
       "    .dataframe tbody tr th:only-of-type {\n",
       "        vertical-align: middle;\n",
       "    }\n",
       "\n",
       "    .dataframe tbody tr th {\n",
       "        vertical-align: top;\n",
       "    }\n",
       "\n",
       "    .dataframe thead th {\n",
       "        text-align: right;\n",
       "    }\n",
       "</style>\n",
       "<table border=\"1\" class=\"dataframe\">\n",
       "  <thead>\n",
       "    <tr style=\"text-align: right;\">\n",
       "      <th></th>\n",
       "      <th>tariff_name</th>\n",
       "      <th>month</th>\n",
       "      <th>cnt_calls</th>\n",
       "      <th>cnt_messages</th>\n",
       "      <th>mb_used</th>\n",
       "      <th>total_duration</th>\n",
       "      <th>total_profit</th>\n",
       "    </tr>\n",
       "  </thead>\n",
       "  <tbody>\n",
       "    <tr>\n",
       "      <td>0</td>\n",
       "      <td>smart</td>\n",
       "      <td>6.0</td>\n",
       "      <td>54.0</td>\n",
       "      <td>36.0</td>\n",
       "      <td>15065.0</td>\n",
       "      <td>388.0</td>\n",
       "      <td>1130.0</td>\n",
       "    </tr>\n",
       "    <tr>\n",
       "      <td>1</td>\n",
       "      <td>ultra</td>\n",
       "      <td>6.0</td>\n",
       "      <td>71.0</td>\n",
       "      <td>55.0</td>\n",
       "      <td>18427.0</td>\n",
       "      <td>511.0</td>\n",
       "      <td>2021.0</td>\n",
       "    </tr>\n",
       "  </tbody>\n",
       "</table>\n",
       "</div>"
      ],
      "text/plain": [
       "  tariff_name  month  cnt_calls  cnt_messages  mb_used  total_duration  \\\n",
       "0       smart    6.0       54.0          36.0  15065.0           388.0   \n",
       "1       ultra    6.0       71.0          55.0  18427.0           511.0   \n",
       "\n",
       "   total_profit  \n",
       "0        1130.0  \n",
       "1        2021.0  "
      ]
     },
     "execution_count": 50,
     "metadata": {},
     "output_type": "execute_result"
    }
   ],
   "source": [
    "tariff_data_year.head(10)"
   ]
  },
  {
   "cell_type": "markdown",
   "metadata": {},
   "source": [
    "Для удобства добавим сюда столбец с тарифной платой:"
   ]
  },
  {
   "cell_type": "code",
   "execution_count": 51,
   "metadata": {},
   "outputs": [],
   "source": [
    "tariff_data_year['rub_monthly_fee'] = tariffs['rub_monthly_fee']"
   ]
  },
  {
   "cell_type": "code",
   "execution_count": 52,
   "metadata": {},
   "outputs": [],
   "source": [
    "tariff_data_year['overpayment'] = round(1 - tariff_data_year['rub_monthly_fee']/tariff_data_year['total_profit'], 2)"
   ]
  },
  {
   "cell_type": "code",
   "execution_count": 53,
   "metadata": {
    "scrolled": true
   },
   "outputs": [
    {
     "data": {
      "text/html": [
       "<div>\n",
       "<style scoped>\n",
       "    .dataframe tbody tr th:only-of-type {\n",
       "        vertical-align: middle;\n",
       "    }\n",
       "\n",
       "    .dataframe tbody tr th {\n",
       "        vertical-align: top;\n",
       "    }\n",
       "\n",
       "    .dataframe thead th {\n",
       "        text-align: right;\n",
       "    }\n",
       "</style>\n",
       "<table border=\"1\" class=\"dataframe\">\n",
       "  <thead>\n",
       "    <tr style=\"text-align: right;\">\n",
       "      <th></th>\n",
       "      <th>tariff_name</th>\n",
       "      <th>month</th>\n",
       "      <th>cnt_calls</th>\n",
       "      <th>cnt_messages</th>\n",
       "      <th>mb_used</th>\n",
       "      <th>total_duration</th>\n",
       "      <th>total_profit</th>\n",
       "      <th>rub_monthly_fee</th>\n",
       "      <th>overpayment</th>\n",
       "    </tr>\n",
       "  </thead>\n",
       "  <tbody>\n",
       "    <tr>\n",
       "      <td>0</td>\n",
       "      <td>smart</td>\n",
       "      <td>6.0</td>\n",
       "      <td>54.0</td>\n",
       "      <td>36.0</td>\n",
       "      <td>15065.0</td>\n",
       "      <td>388.0</td>\n",
       "      <td>1130.0</td>\n",
       "      <td>550</td>\n",
       "      <td>0.51</td>\n",
       "    </tr>\n",
       "    <tr>\n",
       "      <td>1</td>\n",
       "      <td>ultra</td>\n",
       "      <td>6.0</td>\n",
       "      <td>71.0</td>\n",
       "      <td>55.0</td>\n",
       "      <td>18427.0</td>\n",
       "      <td>511.0</td>\n",
       "      <td>2021.0</td>\n",
       "      <td>1950</td>\n",
       "      <td>0.04</td>\n",
       "    </tr>\n",
       "  </tbody>\n",
       "</table>\n",
       "</div>"
      ],
      "text/plain": [
       "  tariff_name  month  cnt_calls  cnt_messages  mb_used  total_duration  \\\n",
       "0       smart    6.0       54.0          36.0  15065.0           388.0   \n",
       "1       ultra    6.0       71.0          55.0  18427.0           511.0   \n",
       "\n",
       "   total_profit  rub_monthly_fee  overpayment  \n",
       "0        1130.0              550         0.51  \n",
       "1        2021.0             1950         0.04  "
      ]
     },
     "execution_count": 53,
     "metadata": {},
     "output_type": "execute_result"
    }
   ],
   "source": [
    "tariff_data_year"
   ]
  },
  {
   "cell_type": "code",
   "execution_count": 54,
   "metadata": {},
   "outputs": [
    {
     "name": "stdout",
     "output_type": "stream",
     "text": [
      "Для тарифа smart  переплата в среднем составляет: 0.51\n",
      "Для тарифа ultra  переплата в среднем составляет: 0.04\n"
     ]
    }
   ],
   "source": [
    "for i, row in tariff_data_year.iterrows():\n",
    "    print('Для тарифа', row['tariff_name'], ' переплата в среднем составляет:', row['overpayment'])"
   ]
  },
  {
   "cell_type": "markdown",
   "metadata": {},
   "source": [
    "Казалось бы, для абонентов выгоднее брать тариф Ультра! Ведь средняя переплата там составляет всего 4%. <br>\n",
    "Но даже учитывая переплаты, абоненты все равно платят за тариф почти в два раза меньше. "
   ]
  },
  {
   "cell_type": "markdown",
   "metadata": {},
   "source": [
    "Посмотрим, сколько прибыли приносят эти тарифы для компании:"
   ]
  },
  {
   "cell_type": "code",
   "execution_count": 55,
   "metadata": {
    "scrolled": false
   },
   "outputs": [
    {
     "data": {
      "text/html": [
       "<div>\n",
       "<style scoped>\n",
       "    .dataframe tbody tr th:only-of-type {\n",
       "        vertical-align: middle;\n",
       "    }\n",
       "\n",
       "    .dataframe tbody tr th {\n",
       "        vertical-align: top;\n",
       "    }\n",
       "\n",
       "    .dataframe thead th {\n",
       "        text-align: right;\n",
       "    }\n",
       "</style>\n",
       "<table border=\"1\" class=\"dataframe\">\n",
       "  <thead>\n",
       "    <tr style=\"text-align: right;\">\n",
       "      <th></th>\n",
       "      <th>tariff_name</th>\n",
       "      <th>total_profit</th>\n",
       "    </tr>\n",
       "  </thead>\n",
       "  <tbody>\n",
       "    <tr>\n",
       "      <td>0</td>\n",
       "      <td>smart</td>\n",
       "      <td>2.358273e+06</td>\n",
       "    </tr>\n",
       "    <tr>\n",
       "      <td>1</td>\n",
       "      <td>ultra</td>\n",
       "      <td>1.534252e+06</td>\n",
       "    </tr>\n",
       "  </tbody>\n",
       "</table>\n",
       "</div>"
      ],
      "text/plain": [
       "  tariff_name  total_profit\n",
       "0       smart  2.358273e+06\n",
       "1       ultra  1.534252e+06"
      ]
     },
     "execution_count": 55,
     "metadata": {},
     "output_type": "execute_result"
    }
   ],
   "source": [
    "tariff_data_income = user_data_by_months.pivot_table(index = 'tariff_name', values = 'total_profit', aggfunc = 'sum').reset_index()\n",
    "tariff_data_income"
   ]
  },
  {
   "cell_type": "code",
   "execution_count": 56,
   "metadata": {},
   "outputs": [
    {
     "name": "stdout",
     "output_type": "stream",
     "text": [
      "1.5370826475765471\n"
     ]
    }
   ],
   "source": [
    "print(tariff_data_income.loc[0, 'total_profit']/tariff_data_income.loc[1, 'total_profit'])"
   ]
  },
  {
   "cell_type": "markdown",
   "metadata": {},
   "source": [
    "При этом прибыль от тарифа Смарт в полтора раза выше! "
   ]
  },
  {
   "cell_type": "markdown",
   "metadata": {},
   "source": [
    "### Вывод "
   ]
  },
  {
   "cell_type": "markdown",
   "metadata": {},
   "source": [
    "Проверили, что выгоднее: <br>\n",
    "    1. Для пользователей выгоднее тариф Ультра - переплата на нем составляет около 4%, в то время как на тарифе Смарт абоненты переплачивают в 2 раза!<br>\n",
    "    2. А вот для компании выгоднее продвигать тариф Смарт - он приносит компании в полтора раза больше денег."
   ]
  },
  {
   "cell_type": "markdown",
   "metadata": {},
   "source": [
    "Посчитаем, какой тариф популярнее:"
   ]
  },
  {
   "cell_type": "code",
   "execution_count": 57,
   "metadata": {},
   "outputs": [
    {
     "data": {
      "text/plain": [
       "tariff_name\n",
       "smart    351\n",
       "ultra    149\n",
       "Name: user_id, dtype: int64"
      ]
     },
     "execution_count": 57,
     "metadata": {},
     "output_type": "execute_result"
    }
   ],
   "source": [
    "users_tariff = pd.merge(users, tariffs, how = 'left', on = 'tariff_name')\n",
    "users_tariff.groupby('tariff_name')['user_id'].count()"
   ]
  },
  {
   "cell_type": "markdown",
   "metadata": {},
   "source": [
    "351 абонент на Смарте, и 149 - на тарифе Ультра."
   ]
  },
  {
   "cell_type": "markdown",
   "metadata": {},
   "source": [
    "Тариф Смарт популярнее скорее всего из-за того, что он более дешевый:"
   ]
  },
  {
   "cell_type": "code",
   "execution_count": 58,
   "metadata": {},
   "outputs": [
    {
     "data": {
      "text/html": [
       "<div>\n",
       "<style scoped>\n",
       "    .dataframe tbody tr th:only-of-type {\n",
       "        vertical-align: middle;\n",
       "    }\n",
       "\n",
       "    .dataframe tbody tr th {\n",
       "        vertical-align: top;\n",
       "    }\n",
       "\n",
       "    .dataframe thead th {\n",
       "        text-align: right;\n",
       "    }\n",
       "</style>\n",
       "<table border=\"1\" class=\"dataframe\">\n",
       "  <thead>\n",
       "    <tr style=\"text-align: right;\">\n",
       "      <th></th>\n",
       "      <th>tariff_name</th>\n",
       "      <th>rub_monthly_fee</th>\n",
       "    </tr>\n",
       "  </thead>\n",
       "  <tbody>\n",
       "    <tr>\n",
       "      <td>0</td>\n",
       "      <td>smart</td>\n",
       "      <td>550</td>\n",
       "    </tr>\n",
       "    <tr>\n",
       "      <td>1</td>\n",
       "      <td>ultra</td>\n",
       "      <td>1950</td>\n",
       "    </tr>\n",
       "  </tbody>\n",
       "</table>\n",
       "</div>"
      ],
      "text/plain": [
       "  tariff_name  rub_monthly_fee\n",
       "0       smart              550\n",
       "1       ultra             1950"
      ]
     },
     "execution_count": 58,
     "metadata": {},
     "output_type": "execute_result"
    }
   ],
   "source": [
    "tariffs[['tariff_name', 'rub_monthly_fee']]"
   ]
  },
  {
   "cell_type": "markdown",
   "metadata": {},
   "source": [
    "## Проверка гипотез"
   ]
  },
  {
   "cell_type": "markdown",
   "metadata": {},
   "source": [
    "#### Средняя выручка пользователей тарифов «Ультра» и «Смарт» различается"
   ]
  },
  {
   "cell_type": "markdown",
   "metadata": {},
   "source": [
    "Сформулируем нулевые гипотезы:\n",
    "\n",
    "- Нулевая гипотеза H₀: Средняя выручка пользователей тарифов Смарт и Ультра не различается\n",
    "- Альтернативная гипотеза H₁: Средняя выручка пользователей тарифов Смарт и Ультра различается"
   ]
  },
  {
   "cell_type": "code",
   "execution_count": 59,
   "metadata": {},
   "outputs": [
    {
     "data": {
      "text/html": [
       "<div>\n",
       "<style scoped>\n",
       "    .dataframe tbody tr th:only-of-type {\n",
       "        vertical-align: middle;\n",
       "    }\n",
       "\n",
       "    .dataframe tbody tr th {\n",
       "        vertical-align: top;\n",
       "    }\n",
       "\n",
       "    .dataframe thead th {\n",
       "        text-align: right;\n",
       "    }\n",
       "</style>\n",
       "<table border=\"1\" class=\"dataframe\">\n",
       "  <thead>\n",
       "    <tr style=\"text-align: right;\">\n",
       "      <th></th>\n",
       "      <th>tariff_name</th>\n",
       "      <th>month</th>\n",
       "      <th>cnt_calls</th>\n",
       "      <th>cnt_messages</th>\n",
       "      <th>mb_used</th>\n",
       "      <th>total_duration</th>\n",
       "      <th>total_profit</th>\n",
       "    </tr>\n",
       "  </thead>\n",
       "  <tbody>\n",
       "    <tr>\n",
       "      <td>0</td>\n",
       "      <td>smart</td>\n",
       "      <td>1</td>\n",
       "      <td>28.0</td>\n",
       "      <td>20.0</td>\n",
       "      <td>8514.0</td>\n",
       "      <td>204.0</td>\n",
       "      <td>713.0</td>\n",
       "    </tr>\n",
       "    <tr>\n",
       "      <td>1</td>\n",
       "      <td>smart</td>\n",
       "      <td>2</td>\n",
       "      <td>40.0</td>\n",
       "      <td>28.0</td>\n",
       "      <td>11598.0</td>\n",
       "      <td>299.0</td>\n",
       "      <td>800.0</td>\n",
       "    </tr>\n",
       "    <tr>\n",
       "      <td>2</td>\n",
       "      <td>smart</td>\n",
       "      <td>3</td>\n",
       "      <td>54.0</td>\n",
       "      <td>36.0</td>\n",
       "      <td>15105.0</td>\n",
       "      <td>390.0</td>\n",
       "      <td>1078.0</td>\n",
       "    </tr>\n",
       "    <tr>\n",
       "      <td>3</td>\n",
       "      <td>smart</td>\n",
       "      <td>4</td>\n",
       "      <td>51.0</td>\n",
       "      <td>36.0</td>\n",
       "      <td>13463.0</td>\n",
       "      <td>367.0</td>\n",
       "      <td>932.0</td>\n",
       "    </tr>\n",
       "    <tr>\n",
       "      <td>4</td>\n",
       "      <td>smart</td>\n",
       "      <td>5</td>\n",
       "      <td>55.0</td>\n",
       "      <td>39.0</td>\n",
       "      <td>15806.0</td>\n",
       "      <td>387.0</td>\n",
       "      <td>1167.0</td>\n",
       "    </tr>\n",
       "    <tr>\n",
       "      <td>5</td>\n",
       "      <td>smart</td>\n",
       "      <td>6</td>\n",
       "      <td>56.0</td>\n",
       "      <td>39.0</td>\n",
       "      <td>15795.0</td>\n",
       "      <td>398.0</td>\n",
       "      <td>1154.0</td>\n",
       "    </tr>\n",
       "    <tr>\n",
       "      <td>6</td>\n",
       "      <td>smart</td>\n",
       "      <td>7</td>\n",
       "      <td>57.0</td>\n",
       "      <td>39.0</td>\n",
       "      <td>15744.0</td>\n",
       "      <td>408.0</td>\n",
       "      <td>1169.0</td>\n",
       "    </tr>\n",
       "    <tr>\n",
       "      <td>7</td>\n",
       "      <td>smart</td>\n",
       "      <td>8</td>\n",
       "      <td>59.0</td>\n",
       "      <td>39.0</td>\n",
       "      <td>16682.0</td>\n",
       "      <td>423.0</td>\n",
       "      <td>1292.0</td>\n",
       "    </tr>\n",
       "    <tr>\n",
       "      <td>8</td>\n",
       "      <td>smart</td>\n",
       "      <td>9</td>\n",
       "      <td>60.0</td>\n",
       "      <td>39.0</td>\n",
       "      <td>16304.0</td>\n",
       "      <td>430.0</td>\n",
       "      <td>1206.0</td>\n",
       "    </tr>\n",
       "    <tr>\n",
       "      <td>9</td>\n",
       "      <td>smart</td>\n",
       "      <td>10</td>\n",
       "      <td>60.0</td>\n",
       "      <td>39.0</td>\n",
       "      <td>16758.0</td>\n",
       "      <td>428.0</td>\n",
       "      <td>1305.0</td>\n",
       "    </tr>\n",
       "    <tr>\n",
       "      <td>10</td>\n",
       "      <td>smart</td>\n",
       "      <td>11</td>\n",
       "      <td>62.0</td>\n",
       "      <td>40.0</td>\n",
       "      <td>16896.0</td>\n",
       "      <td>437.0</td>\n",
       "      <td>1279.0</td>\n",
       "    </tr>\n",
       "    <tr>\n",
       "      <td>11</td>\n",
       "      <td>smart</td>\n",
       "      <td>12</td>\n",
       "      <td>67.0</td>\n",
       "      <td>42.0</td>\n",
       "      <td>18114.0</td>\n",
       "      <td>480.0</td>\n",
       "      <td>1471.0</td>\n",
       "    </tr>\n",
       "  </tbody>\n",
       "</table>\n",
       "</div>"
      ],
      "text/plain": [
       "   tariff_name  month  cnt_calls  cnt_messages  mb_used  total_duration  \\\n",
       "0        smart      1       28.0          20.0   8514.0           204.0   \n",
       "1        smart      2       40.0          28.0  11598.0           299.0   \n",
       "2        smart      3       54.0          36.0  15105.0           390.0   \n",
       "3        smart      4       51.0          36.0  13463.0           367.0   \n",
       "4        smart      5       55.0          39.0  15806.0           387.0   \n",
       "5        smart      6       56.0          39.0  15795.0           398.0   \n",
       "6        smart      7       57.0          39.0  15744.0           408.0   \n",
       "7        smart      8       59.0          39.0  16682.0           423.0   \n",
       "8        smart      9       60.0          39.0  16304.0           430.0   \n",
       "9        smart     10       60.0          39.0  16758.0           428.0   \n",
       "10       smart     11       62.0          40.0  16896.0           437.0   \n",
       "11       smart     12       67.0          42.0  18114.0           480.0   \n",
       "\n",
       "    total_profit  \n",
       "0          713.0  \n",
       "1          800.0  \n",
       "2         1078.0  \n",
       "3          932.0  \n",
       "4         1167.0  \n",
       "5         1154.0  \n",
       "6         1169.0  \n",
       "7         1292.0  \n",
       "8         1206.0  \n",
       "9         1305.0  \n",
       "10        1279.0  \n",
       "11        1471.0  "
      ]
     },
     "execution_count": 59,
     "metadata": {},
     "output_type": "execute_result"
    }
   ],
   "source": [
    "smart_tariff = tariff_data[tariff_data['tariff_name']=='smart']\n",
    "ultra_tariff = tariff_data[tariff_data['tariff_name']=='ultra']\n",
    "\n",
    "smart_tariff"
   ]
  },
  {
   "cell_type": "code",
   "execution_count": 60,
   "metadata": {},
   "outputs": [
    {
     "name": "stdout",
     "output_type": "stream",
     "text": [
      "p-значение: 1.0864423647978654e-08\n",
      "Отвергаем нулевую гипотезу\n"
     ]
    }
   ],
   "source": [
    "#Выполним проверку гипотезы. Будем использовать метод ttest_ind\n",
    "\n",
    "alpha = .05\n",
    "\n",
    "results = st.ttest_ind(ultra_tariff['total_profit'], smart_tariff['total_profit'], equal_var=False)\n",
    "\n",
    "print('p-значение:', results.pvalue)\n",
    "\n",
    "\n",
    "if (results.pvalue < alpha):\n",
    "    print(\"Отвергаем нулевую гипотезу\")\n",
    "else:\n",
    "    print(\"Не получилось отвергнуть нулевую гипотезу\")"
   ]
  },
  {
   "cell_type": "markdown",
   "metadata": {},
   "source": [
    "#### Средняя выручка пользователей из Москвы отличается от выручки пользователей из других регионов;"
   ]
  },
  {
   "cell_type": "markdown",
   "metadata": {},
   "source": [
    "Сформулируем нулевые гипотезы :\n",
    "\n",
    "- Нулевая гипотеза H₀: Средняя выручка пользователей из Москвы не отличается от выручки пользователей из других регионов\n",
    "- Альтернативная гипотеза H₁: Средняя выручка пользователей ииз Москвы отличается от выручки пользователей из других регионов"
   ]
  },
  {
   "cell_type": "code",
   "execution_count": 61,
   "metadata": {},
   "outputs": [
    {
     "data": {
      "text/html": [
       "<div>\n",
       "<style scoped>\n",
       "    .dataframe tbody tr th:only-of-type {\n",
       "        vertical-align: middle;\n",
       "    }\n",
       "\n",
       "    .dataframe tbody tr th {\n",
       "        vertical-align: top;\n",
       "    }\n",
       "\n",
       "    .dataframe thead th {\n",
       "        text-align: right;\n",
       "    }\n",
       "</style>\n",
       "<table border=\"1\" class=\"dataframe\">\n",
       "  <thead>\n",
       "    <tr style=\"text-align: right;\">\n",
       "      <th></th>\n",
       "      <th>user_id</th>\n",
       "      <th>city</th>\n",
       "      <th>total_profit</th>\n",
       "    </tr>\n",
       "  </thead>\n",
       "  <tbody>\n",
       "    <tr>\n",
       "      <td>0</td>\n",
       "      <td>1000</td>\n",
       "      <td>Краснодар</td>\n",
       "      <td>1950.0</td>\n",
       "    </tr>\n",
       "    <tr>\n",
       "      <td>1</td>\n",
       "      <td>1002</td>\n",
       "      <td>Стерлитамак</td>\n",
       "      <td>954.0</td>\n",
       "    </tr>\n",
       "    <tr>\n",
       "      <td>2</td>\n",
       "      <td>1003</td>\n",
       "      <td>Москва</td>\n",
       "      <td>1950.0</td>\n",
       "    </tr>\n",
       "    <tr>\n",
       "      <td>3</td>\n",
       "      <td>1004</td>\n",
       "      <td>Новокузнецк</td>\n",
       "      <td>1950.0</td>\n",
       "    </tr>\n",
       "    <tr>\n",
       "      <td>4</td>\n",
       "      <td>1005</td>\n",
       "      <td>Набережные Челны</td>\n",
       "      <td>827.0</td>\n",
       "    </tr>\n",
       "    <tr>\n",
       "      <td>...</td>\n",
       "      <td>...</td>\n",
       "      <td>...</td>\n",
       "      <td>...</td>\n",
       "    </tr>\n",
       "    <tr>\n",
       "      <td>414</td>\n",
       "      <td>1495</td>\n",
       "      <td>Иркутск</td>\n",
       "      <td>2260.0</td>\n",
       "    </tr>\n",
       "    <tr>\n",
       "      <td>415</td>\n",
       "      <td>1496</td>\n",
       "      <td>Вологда</td>\n",
       "      <td>2278.0</td>\n",
       "    </tr>\n",
       "    <tr>\n",
       "      <td>416</td>\n",
       "      <td>1497</td>\n",
       "      <td>Челябинск</td>\n",
       "      <td>892.0</td>\n",
       "    </tr>\n",
       "    <tr>\n",
       "      <td>417</td>\n",
       "      <td>1498</td>\n",
       "      <td>Владикавказ</td>\n",
       "      <td>1578.0</td>\n",
       "    </tr>\n",
       "    <tr>\n",
       "      <td>418</td>\n",
       "      <td>1499</td>\n",
       "      <td>Пермь</td>\n",
       "      <td>899.0</td>\n",
       "    </tr>\n",
       "  </tbody>\n",
       "</table>\n",
       "<p>419 rows × 3 columns</p>\n",
       "</div>"
      ],
      "text/plain": [
       "     user_id              city  total_profit\n",
       "0       1000         Краснодар        1950.0\n",
       "1       1002       Стерлитамак         954.0\n",
       "2       1003            Москва        1950.0\n",
       "3       1004       Новокузнецк        1950.0\n",
       "4       1005  Набережные Челны         827.0\n",
       "..       ...               ...           ...\n",
       "414     1495           Иркутск        2260.0\n",
       "415     1496           Вологда        2278.0\n",
       "416     1497         Челябинск         892.0\n",
       "417     1498       Владикавказ        1578.0\n",
       "418     1499             Пермь         899.0\n",
       "\n",
       "[419 rows x 3 columns]"
      ]
     },
     "execution_count": 61,
     "metadata": {},
     "output_type": "execute_result"
    }
   ],
   "source": [
    "tariff_data_city = round(user_data_by_months.pivot_table(index = ['user_id', 'city'], values = 'total_profit').reset_index())\n",
    "tariff_data_city"
   ]
  },
  {
   "cell_type": "code",
   "execution_count": 62,
   "metadata": {},
   "outputs": [
    {
     "data": {
      "text/plain": [
       "1502.213649851632"
      ]
     },
     "execution_count": 62,
     "metadata": {},
     "output_type": "execute_result"
    }
   ],
   "source": [
    "tariff_data_moscow = tariff_data_city[tariff_data_city['city'] == 'Москва'].total_profit\n",
    "tariff_data_other_city = tariff_data_city[tariff_data_city['city'] != 'Москва'].total_profit\n",
    "tariff_data_other_city.mean()"
   ]
  },
  {
   "cell_type": "code",
   "execution_count": 63,
   "metadata": {},
   "outputs": [
    {
     "name": "stdout",
     "output_type": "stream",
     "text": [
      "p-значение: 0.7991100723504931\n",
      "Не получилось отвергнуть нулевую гипотезу\n"
     ]
    }
   ],
   "source": [
    "alpha = .05\n",
    "\n",
    "results = st.ttest_ind(tariff_data_moscow, tariff_data_other_city, equal_var=False)\n",
    "\n",
    "print('p-значение:', results.pvalue)\n",
    "\n",
    "\n",
    "if (results.pvalue < alpha):\n",
    "    print(\"Отвергаем нулевую гипотезу\")\n",
    "else:\n",
    "    print(\"Не получилось отвергнуть нулевую гипотезу\")"
   ]
  },
  {
   "cell_type": "markdown",
   "metadata": {},
   "source": [
    "### Вывод"
   ]
  },
  {
   "cell_type": "markdown",
   "metadata": {},
   "source": [
    "Проверили две гипотезы: <br>\n",
    "    1. Средняя выручка пользователей тарифов Смарт и Ультра действительно различается <br>\n",
    "    2. Средняя выручка пользователей из Москвы не отличается от выручки пользователей из других регионов"
   ]
  },
  {
   "cell_type": "markdown",
   "metadata": {},
   "source": [
    "## Общий вывод"
   ]
  },
  {
   "cell_type": "markdown",
   "metadata": {},
   "source": [
    "Проанализировали данные по двум тарифам: <br>\n",
    "\n",
    "**Общие сведения:** <br>\n",
    "Средняя продолжительность разговоров в месяц на тарифе Смарт составляет 388 минут, а на тарифе Ультра - 511. <br>\n",
    "Среднее кол-во сообщений на тарифе Смарт - 36, на тарифе Ультра  - 55. <br>\n",
    "Среднее кол-во звонков также больше на тарифе Ультра (51 и 74) <br>\n",
    "Тратят мегабайты также больше на тарифе Ультра (около 15 гб на Смарте и 18 - на тарифе Ультра)  <br>\n",
    "\n",
    "**Также проверили две гипотезы и сделали следующие выводы:**<br>\n",
    "\n",
    "1. Средняя выручка пользователей тарифов Смарт и Ультра действительно различается<br>\n",
    "2. Средняя выручка пользователей из Москвы не отличается от выручки пользователей из других регионов\n",
    "\n",
    "Кроме того, были обнаружены нулевые значения в таблицах (продолжительность звонков и количество потраченных мегабайт), что может свидетельствовать о возможных сбоях в системе. \n",
    "\n",
    "**Выводы о выгодности тарифов:**\n",
    "1. Несмотря на то, что переплата на тарифе Ультра составляет всего 4% против почти 50% на тарифе Смарт, абонентская плата на Смарте все равно выходит почти в два раза дешевле. <br>\n",
    "2. На первый взгляд, для компании более выгоден тариф Смарт - ведь он приносит в полтора раза больше прибыли. \n",
    "Но тарифом Ультра пользуется куда меньше людей (149 против 351)<br>\n",
    "\n",
    "Кажется, что не хватает среднего между этими двумя тарифами:\n",
    "1. Тарифа Ультра, конечно, почти всегда хватает, но он и стоит почти в 4 раза дороже, чем тариф Смарт (1950 против 550 рублей за тариф Смарт в месяц)\n",
    "2. Абонентам Смарта довольно часто не хватает включенных в тариф звонков, сообщений и трафика - в среднем абонент Смарта тратит на связь около тысячи рублей.\n",
    "3. Выходит, что Ультра - это слишком, а Смарт - недостаточно. <br>\n",
    "Не хватает золотой середины. Думаю, это может стать перспективным направлением. \n"
   ]
  }
 ],
 "metadata": {
  "ExecuteTimeLog": [
   {
    "duration": 106,
    "start_time": "2021-08-02T19:58:52.382Z"
   },
   {
    "duration": 945,
    "start_time": "2021-08-02T20:21:26.956Z"
   },
   {
    "duration": 4,
    "start_time": "2021-08-02T20:25:59.707Z"
   },
   {
    "duration": 536,
    "start_time": "2021-08-02T20:29:36.503Z"
   },
   {
    "duration": 31,
    "start_time": "2021-08-02T20:29:51.443Z"
   },
   {
    "duration": 27,
    "start_time": "2021-08-02T20:30:01.197Z"
   },
   {
    "duration": 15,
    "start_time": "2021-08-02T20:30:15.649Z"
   },
   {
    "duration": 27,
    "start_time": "2021-08-02T20:30:19.469Z"
   },
   {
    "duration": 11,
    "start_time": "2021-08-02T20:30:30.207Z"
   },
   {
    "duration": 48,
    "start_time": "2021-08-02T20:30:34.155Z"
   },
   {
    "duration": 29,
    "start_time": "2021-08-02T20:30:42.622Z"
   },
   {
    "duration": 16,
    "start_time": "2021-08-02T20:30:59.152Z"
   },
   {
    "duration": 90,
    "start_time": "2021-08-02T20:31:02.681Z"
   },
   {
    "duration": 374,
    "start_time": "2021-08-02T20:31:06.347Z"
   },
   {
    "duration": 9,
    "start_time": "2021-08-02T20:31:09.412Z"
   },
   {
    "duration": 14,
    "start_time": "2021-08-02T20:31:19.628Z"
   },
   {
    "duration": 16,
    "start_time": "2021-08-02T20:31:28.153Z"
   },
   {
    "duration": 13,
    "start_time": "2021-08-02T20:32:42.381Z"
   },
   {
    "duration": 26,
    "start_time": "2021-08-02T20:32:45.494Z"
   },
   {
    "duration": 16,
    "start_time": "2021-08-02T20:32:55.488Z"
   },
   {
    "duration": 12,
    "start_time": "2021-08-02T20:34:28.792Z"
   },
   {
    "duration": 12,
    "start_time": "2021-08-02T20:34:32.913Z"
   },
   {
    "duration": 25,
    "start_time": "2021-08-02T20:35:20.186Z"
   },
   {
    "duration": 10,
    "start_time": "2021-08-02T20:36:28.704Z"
   },
   {
    "duration": 12,
    "start_time": "2021-08-02T20:36:31.543Z"
   },
   {
    "duration": 21,
    "start_time": "2021-08-02T20:36:35.033Z"
   },
   {
    "duration": 15,
    "start_time": "2021-08-02T20:37:30.161Z"
   },
   {
    "duration": 9,
    "start_time": "2021-08-02T20:37:31.593Z"
   },
   {
    "duration": 26,
    "start_time": "2021-08-02T20:38:36.253Z"
   },
   {
    "duration": 8,
    "start_time": "2021-08-02T20:38:41.347Z"
   },
   {
    "duration": 407,
    "start_time": "2021-08-04T20:28:47.739Z"
   },
   {
    "duration": 837,
    "start_time": "2021-08-04T20:28:51.100Z"
   },
   {
    "duration": 497,
    "start_time": "2021-08-04T20:28:53.901Z"
   },
   {
    "duration": 83,
    "start_time": "2021-08-04T20:35:00.734Z"
   },
   {
    "duration": 102,
    "start_time": "2021-08-04T20:35:03.420Z"
   },
   {
    "duration": 164,
    "start_time": "2021-08-04T20:38:45.612Z"
   },
   {
    "duration": 397,
    "start_time": "2021-08-04T20:39:40.432Z"
   },
   {
    "duration": 366,
    "start_time": "2021-08-04T20:39:48.653Z"
   },
   {
    "duration": 24,
    "start_time": "2021-08-04T20:40:20.828Z"
   },
   {
    "duration": 127,
    "start_time": "2021-08-04T20:41:17.453Z"
   },
   {
    "duration": 133,
    "start_time": "2021-08-04T20:41:22.981Z"
   },
   {
    "duration": 410,
    "start_time": "2021-08-04T20:41:25.603Z"
   },
   {
    "duration": 418,
    "start_time": "2021-08-04T20:41:47.270Z"
   },
   {
    "duration": 808,
    "start_time": "2021-08-04T20:41:55.535Z"
   },
   {
    "duration": 470,
    "start_time": "2021-08-04T20:41:58.654Z"
   },
   {
    "duration": 207,
    "start_time": "2021-08-04T20:42:06.104Z"
   },
   {
    "duration": 498,
    "start_time": "2021-08-04T20:42:59.973Z"
   },
   {
    "duration": 988,
    "start_time": "2021-08-04T20:43:09.567Z"
   },
   {
    "duration": 485,
    "start_time": "2021-08-04T20:43:13.089Z"
   },
   {
    "duration": 373,
    "start_time": "2021-08-04T20:47:32.277Z"
   },
   {
    "duration": 2704,
    "start_time": "2021-08-04T20:56:38.113Z"
   },
   {
    "duration": 2444,
    "start_time": "2021-08-04T20:57:19.998Z"
   },
   {
    "duration": 59,
    "start_time": "2021-08-04T20:57:24.362Z"
   },
   {
    "duration": 19,
    "start_time": "2021-08-04T20:57:46.900Z"
   },
   {
    "duration": 34,
    "start_time": "2021-08-04T20:58:16.322Z"
   },
   {
    "duration": 26,
    "start_time": "2021-08-04T20:58:54.878Z"
   },
   {
    "duration": 7,
    "start_time": "2021-08-04T20:59:33.624Z"
   },
   {
    "duration": 8,
    "start_time": "2021-08-04T20:59:46.099Z"
   },
   {
    "duration": 353,
    "start_time": "2021-08-04T21:03:50.264Z"
   },
   {
    "duration": 32,
    "start_time": "2021-08-04T21:07:00.410Z"
   },
   {
    "duration": 47,
    "start_time": "2021-08-04T21:07:07.346Z"
   },
   {
    "duration": 24,
    "start_time": "2021-08-04T21:18:20.524Z"
   },
   {
    "duration": 21,
    "start_time": "2021-08-04T21:18:41.642Z"
   },
   {
    "duration": 6,
    "start_time": "2021-08-04T21:21:16.286Z"
   },
   {
    "duration": 6,
    "start_time": "2021-08-04T21:21:29.830Z"
   },
   {
    "duration": 7,
    "start_time": "2021-08-04T21:21:42.321Z"
   },
   {
    "duration": 869,
    "start_time": "2021-08-07T20:31:16.737Z"
   },
   {
    "duration": 536,
    "start_time": "2021-08-07T20:31:18.420Z"
   },
   {
    "duration": 20,
    "start_time": "2021-08-07T20:31:20.796Z"
   },
   {
    "duration": 12,
    "start_time": "2021-08-07T20:31:29.871Z"
   },
   {
    "duration": 22,
    "start_time": "2021-08-07T20:31:33.495Z"
   },
   {
    "duration": 13,
    "start_time": "2021-08-07T20:31:53.124Z"
   },
   {
    "duration": 29,
    "start_time": "2021-08-07T20:31:58.339Z"
   },
   {
    "duration": 12,
    "start_time": "2021-08-07T20:32:03.652Z"
   },
   {
    "duration": 24,
    "start_time": "2021-08-07T20:32:07.751Z"
   },
   {
    "duration": 15,
    "start_time": "2021-08-07T20:32:10.942Z"
   },
   {
    "duration": 9,
    "start_time": "2021-08-07T20:32:16.815Z"
   },
   {
    "duration": 18,
    "start_time": "2021-08-07T20:32:37.123Z"
   },
   {
    "duration": 10,
    "start_time": "2021-08-07T20:32:40.187Z"
   },
   {
    "duration": 4,
    "start_time": "2021-08-07T20:38:28.731Z"
   },
   {
    "duration": 537,
    "start_time": "2021-08-07T20:38:30.709Z"
   },
   {
    "duration": 65,
    "start_time": "2021-08-07T20:38:37.780Z"
   },
   {
    "duration": 28,
    "start_time": "2021-08-07T20:38:48.987Z"
   },
   {
    "duration": 29,
    "start_time": "2021-08-07T20:39:20.436Z"
   },
   {
    "duration": 16,
    "start_time": "2021-08-07T20:39:27.001Z"
   },
   {
    "duration": 8,
    "start_time": "2021-08-07T20:40:03.624Z"
   },
   {
    "duration": 8,
    "start_time": "2021-08-07T20:40:14.083Z"
   },
   {
    "duration": 8,
    "start_time": "2021-08-07T20:40:57.094Z"
   },
   {
    "duration": 11,
    "start_time": "2021-08-07T20:42:03.808Z"
   },
   {
    "duration": 80,
    "start_time": "2021-08-07T20:42:49.350Z"
   },
   {
    "duration": 8,
    "start_time": "2021-08-07T20:43:04.555Z"
   },
   {
    "duration": 8,
    "start_time": "2021-08-07T20:43:12.993Z"
   },
   {
    "duration": 529,
    "start_time": "2021-08-07T20:43:26.563Z"
   },
   {
    "duration": 7,
    "start_time": "2021-08-07T20:43:36.461Z"
   },
   {
    "duration": 7,
    "start_time": "2021-08-07T20:43:36.964Z"
   },
   {
    "duration": 58,
    "start_time": "2021-08-07T20:43:47.486Z"
   },
   {
    "duration": 7,
    "start_time": "2021-08-07T20:43:50.937Z"
   },
   {
    "duration": 70,
    "start_time": "2021-08-07T20:43:54.186Z"
   },
   {
    "duration": 7,
    "start_time": "2021-08-07T20:43:55.520Z"
   },
   {
    "duration": 5,
    "start_time": "2021-08-07T20:46:31.835Z"
   },
   {
    "duration": 463,
    "start_time": "2021-08-07T21:38:47.551Z"
   },
   {
    "duration": 7,
    "start_time": "2021-08-07T21:38:57.744Z"
   },
   {
    "duration": 98,
    "start_time": "2021-08-07T21:39:51.641Z"
   },
   {
    "duration": 11,
    "start_time": "2021-08-07T21:39:55.532Z"
   },
   {
    "duration": 33,
    "start_time": "2021-08-07T21:43:00.994Z"
   },
   {
    "duration": 30,
    "start_time": "2021-08-07T21:43:04.331Z"
   },
   {
    "duration": 79,
    "start_time": "2021-08-07T21:43:06.428Z"
   },
   {
    "duration": 9,
    "start_time": "2021-08-07T21:43:08.356Z"
   },
   {
    "duration": 675,
    "start_time": "2021-08-07T21:46:49.487Z"
   },
   {
    "duration": 652,
    "start_time": "2021-08-07T21:47:27.977Z"
   },
   {
    "duration": 644,
    "start_time": "2021-08-07T21:47:36.007Z"
   },
   {
    "duration": 660,
    "start_time": "2021-08-07T21:48:01.502Z"
   },
   {
    "duration": 677,
    "start_time": "2021-08-07T21:48:35.765Z"
   },
   {
    "duration": 32415,
    "start_time": "2021-08-07T21:49:32.738Z"
   },
   {
    "duration": 16551,
    "start_time": "2021-08-07T21:50:14.427Z"
   },
   {
    "duration": 4,
    "start_time": "2021-08-07T21:50:45.837Z"
   },
   {
    "duration": 308,
    "start_time": "2021-08-07T21:51:04.286Z"
   },
   {
    "duration": 51,
    "start_time": "2021-08-07T21:51:19.453Z"
   },
   {
    "duration": 52,
    "start_time": "2021-08-07T21:52:25.511Z"
   },
   {
    "duration": 7534,
    "start_time": "2021-08-07T21:54:37.960Z"
   },
   {
    "duration": 48,
    "start_time": "2021-08-07T21:56:34.141Z"
   },
   {
    "duration": 284,
    "start_time": "2021-08-07T21:56:42.510Z"
   },
   {
    "duration": 25,
    "start_time": "2021-08-07T21:57:33.713Z"
   },
   {
    "duration": 29,
    "start_time": "2021-08-07T21:57:43.238Z"
   },
   {
    "duration": 274,
    "start_time": "2021-08-07T21:59:00.763Z"
   },
   {
    "duration": 44,
    "start_time": "2021-08-07T21:59:08.648Z"
   },
   {
    "duration": 31,
    "start_time": "2021-08-07T22:03:48.117Z"
   },
   {
    "duration": 1110,
    "start_time": "2021-08-07T22:04:33.587Z"
   },
   {
    "duration": 1160,
    "start_time": "2021-08-07T22:04:38.741Z"
   },
   {
    "duration": 43,
    "start_time": "2021-08-07T22:05:20.512Z"
   },
   {
    "duration": 89,
    "start_time": "2021-08-07T22:05:39.547Z"
   },
   {
    "duration": 47,
    "start_time": "2021-08-07T22:05:48.092Z"
   },
   {
    "duration": 45,
    "start_time": "2021-08-07T22:05:55.600Z"
   },
   {
    "duration": 130,
    "start_time": "2021-08-07T22:08:01.603Z"
   },
   {
    "duration": 26,
    "start_time": "2021-08-07T22:08:09.253Z"
   },
   {
    "duration": 31,
    "start_time": "2021-08-07T22:08:45.725Z"
   },
   {
    "duration": 706,
    "start_time": "2021-08-07T22:26:11.119Z"
   },
   {
    "duration": 368,
    "start_time": "2021-08-07T22:26:26.076Z"
   },
   {
    "duration": 268,
    "start_time": "2021-08-07T22:27:54.729Z"
   },
   {
    "duration": 18,
    "start_time": "2021-08-07T22:28:22.232Z"
   },
   {
    "duration": 15,
    "start_time": "2021-08-07T22:28:27.356Z"
   },
   {
    "duration": 9,
    "start_time": "2021-08-07T22:28:33.458Z"
   },
   {
    "duration": 279,
    "start_time": "2021-08-07T22:29:23.155Z"
   },
   {
    "duration": 6796,
    "start_time": "2021-08-07T22:30:17.428Z"
   },
   {
    "duration": -45,
    "start_time": "2021-08-07T22:30:24.272Z"
   },
   {
    "duration": -48,
    "start_time": "2021-08-07T22:30:24.277Z"
   },
   {
    "duration": 517,
    "start_time": "2021-08-07T22:32:05.247Z"
   },
   {
    "duration": 95,
    "start_time": "2021-08-07T22:32:43.923Z"
   },
   {
    "duration": 74,
    "start_time": "2021-08-07T22:33:20.406Z"
   },
   {
    "duration": 34,
    "start_time": "2021-08-07T22:33:49.643Z"
   },
   {
    "duration": 33,
    "start_time": "2021-08-07T22:33:55.729Z"
   },
   {
    "duration": 33,
    "start_time": "2021-08-07T22:34:01.618Z"
   },
   {
    "duration": 11,
    "start_time": "2021-08-07T22:34:08.922Z"
   },
   {
    "duration": 25,
    "start_time": "2021-08-07T22:34:18.285Z"
   },
   {
    "duration": 43,
    "start_time": "2021-08-07T22:36:40.866Z"
   },
   {
    "duration": 30,
    "start_time": "2021-08-07T22:36:53.366Z"
   },
   {
    "duration": 46,
    "start_time": "2021-08-07T22:39:00.567Z"
   },
   {
    "duration": 43,
    "start_time": "2021-08-07T22:39:05.280Z"
   },
   {
    "duration": 21,
    "start_time": "2021-08-07T22:39:30.579Z"
   },
   {
    "duration": 32,
    "start_time": "2021-08-07T22:39:36.590Z"
   },
   {
    "duration": 24,
    "start_time": "2021-08-07T22:39:53.094Z"
   },
   {
    "duration": 402,
    "start_time": "2021-08-07T22:41:28.098Z"
   },
   {
    "duration": 303,
    "start_time": "2021-08-07T22:41:41.208Z"
   },
   {
    "duration": 17,
    "start_time": "2021-08-07T22:42:16.699Z"
   },
   {
    "duration": 362,
    "start_time": "2021-08-07T22:42:21.610Z"
   },
   {
    "duration": 110,
    "start_time": "2021-08-07T22:42:47.830Z"
   },
   {
    "duration": 13,
    "start_time": "2021-08-07T22:42:51.750Z"
   },
   {
    "duration": 25,
    "start_time": "2021-08-07T22:42:55.364Z"
   },
   {
    "duration": 17,
    "start_time": "2021-08-07T22:46:32.157Z"
   },
   {
    "duration": 76,
    "start_time": "2021-08-07T22:46:36.135Z"
   },
   {
    "duration": 79,
    "start_time": "2021-08-07T22:47:29.718Z"
   },
   {
    "duration": 80,
    "start_time": "2021-08-07T22:48:11.210Z"
   },
   {
    "duration": 79,
    "start_time": "2021-08-07T22:50:53.023Z"
   },
   {
    "duration": 276,
    "start_time": "2021-08-07T22:51:31.340Z"
   },
   {
    "duration": 730,
    "start_time": "2021-08-07T22:51:43.572Z"
   },
   {
    "duration": 143,
    "start_time": "2021-08-07T22:51:49.713Z"
   },
   {
    "duration": 277,
    "start_time": "2021-08-07T22:52:05.031Z"
   },
   {
    "duration": 93,
    "start_time": "2021-08-07T22:52:09.395Z"
   },
   {
    "duration": 69,
    "start_time": "2021-08-07T22:52:12.530Z"
   },
   {
    "duration": 44,
    "start_time": "2021-08-07T22:52:16.144Z"
   },
   {
    "duration": 27,
    "start_time": "2021-08-07T22:52:20.999Z"
   },
   {
    "duration": 317,
    "start_time": "2021-08-07T22:52:30.620Z"
   },
   {
    "duration": 14,
    "start_time": "2021-08-07T22:52:44.931Z"
   },
   {
    "duration": 15,
    "start_time": "2021-08-07T22:52:48.843Z"
   },
   {
    "duration": 31,
    "start_time": "2021-08-07T22:52:51.284Z"
   },
   {
    "duration": 68,
    "start_time": "2021-08-07T22:52:58.154Z"
   },
   {
    "duration": 340,
    "start_time": "2021-08-07T22:53:19.180Z"
   },
   {
    "duration": 694,
    "start_time": "2021-08-07T22:54:57.495Z"
   },
   {
    "duration": 254,
    "start_time": "2021-08-07T22:55:23.118Z"
   },
   {
    "duration": 276,
    "start_time": "2021-08-07T22:55:36.102Z"
   },
   {
    "duration": 29,
    "start_time": "2021-08-07T22:55:45.668Z"
   },
   {
    "duration": 326,
    "start_time": "2021-08-07T22:56:00.252Z"
   },
   {
    "duration": 7,
    "start_time": "2021-08-07T22:56:11.372Z"
   },
   {
    "duration": 42,
    "start_time": "2021-08-07T22:56:15.013Z"
   },
   {
    "duration": 65,
    "start_time": "2021-08-07T22:56:25.778Z"
   },
   {
    "duration": 44,
    "start_time": "2021-08-07T22:56:29.651Z"
   },
   {
    "duration": 24,
    "start_time": "2021-08-07T22:56:32.649Z"
   },
   {
    "duration": 14,
    "start_time": "2021-08-07T22:56:34.759Z"
   },
   {
    "duration": 13,
    "start_time": "2021-08-07T22:56:36.656Z"
   },
   {
    "duration": 32,
    "start_time": "2021-08-07T22:56:38.651Z"
   },
   {
    "duration": 50,
    "start_time": "2021-08-07T22:56:42.020Z"
   },
   {
    "duration": 13,
    "start_time": "2021-08-07T22:56:49.115Z"
   },
   {
    "duration": 74,
    "start_time": "2021-08-07T22:56:53.703Z"
   },
   {
    "duration": 1123,
    "start_time": "2021-08-07T22:57:40.859Z"
   },
   {
    "duration": 552,
    "start_time": "2021-08-07T22:57:41.986Z"
   },
   {
    "duration": 20,
    "start_time": "2021-08-07T22:57:42.541Z"
   },
   {
    "duration": 29,
    "start_time": "2021-08-07T22:57:42.564Z"
   },
   {
    "duration": 13,
    "start_time": "2021-08-07T22:57:42.596Z"
   },
   {
    "duration": 61,
    "start_time": "2021-08-07T22:57:42.611Z"
   },
   {
    "duration": 10,
    "start_time": "2021-08-07T22:57:42.675Z"
   },
   {
    "duration": 21,
    "start_time": "2021-08-07T22:57:42.689Z"
   },
   {
    "duration": 43,
    "start_time": "2021-08-07T22:57:42.713Z"
   },
   {
    "duration": 14,
    "start_time": "2021-08-07T22:57:42.759Z"
   },
   {
    "duration": 26,
    "start_time": "2021-08-07T22:57:42.776Z"
   },
   {
    "duration": 6,
    "start_time": "2021-08-07T22:57:42.805Z"
   },
   {
    "duration": 42,
    "start_time": "2021-08-07T22:57:42.814Z"
   },
   {
    "duration": 16,
    "start_time": "2021-08-07T22:57:42.859Z"
   },
   {
    "duration": 132,
    "start_time": "2021-08-07T22:57:42.878Z"
   },
   {
    "duration": 3,
    "start_time": "2021-08-07T22:57:43.013Z"
   },
   {
    "duration": 7,
    "start_time": "2021-08-07T22:57:43.018Z"
   },
   {
    "duration": 18,
    "start_time": "2021-08-07T22:57:43.028Z"
   },
   {
    "duration": 9,
    "start_time": "2021-08-07T22:57:43.053Z"
   },
   {
    "duration": 106,
    "start_time": "2021-08-07T22:57:43.065Z"
   },
   {
    "duration": 3,
    "start_time": "2021-08-07T22:57:43.174Z"
   },
   {
    "duration": 10,
    "start_time": "2021-08-07T22:57:43.180Z"
   },
   {
    "duration": 8,
    "start_time": "2021-08-07T22:57:43.195Z"
   },
   {
    "duration": 80,
    "start_time": "2021-08-07T22:57:43.206Z"
   },
   {
    "duration": 32,
    "start_time": "2021-08-07T22:57:43.288Z"
   },
   {
    "duration": 48,
    "start_time": "2021-08-07T22:57:43.323Z"
   },
   {
    "duration": 12,
    "start_time": "2021-08-07T22:57:43.374Z"
   },
   {
    "duration": 12,
    "start_time": "2021-08-07T22:57:43.389Z"
   },
   {
    "duration": 52,
    "start_time": "2021-08-07T22:57:43.404Z"
   },
   {
    "duration": 48,
    "start_time": "2021-08-07T22:57:43.458Z"
   },
   {
    "duration": 86,
    "start_time": "2021-08-07T22:57:43.508Z"
   },
   {
    "duration": 89,
    "start_time": "2021-08-07T22:57:43.596Z"
   },
   {
    "duration": 85,
    "start_time": "2021-08-07T23:03:21.546Z"
   },
   {
    "duration": 86,
    "start_time": "2021-08-07T23:03:32.998Z"
   },
   {
    "duration": 759,
    "start_time": "2021-08-07T23:04:32.046Z"
   },
   {
    "duration": 91,
    "start_time": "2021-08-07T23:04:45.768Z"
   },
   {
    "duration": 92,
    "start_time": "2021-08-07T23:05:08.713Z"
   },
   {
    "duration": 11,
    "start_time": "2021-08-07T23:05:27.229Z"
   },
   {
    "duration": 9,
    "start_time": "2021-08-07T23:05:35.053Z"
   },
   {
    "duration": 9,
    "start_time": "2021-08-07T23:09:20.407Z"
   },
   {
    "duration": 640,
    "start_time": "2021-08-08T19:13:06.095Z"
   },
   {
    "duration": 716,
    "start_time": "2021-08-08T19:13:11.114Z"
   },
   {
    "duration": 382,
    "start_time": "2021-08-08T19:13:11.832Z"
   },
   {
    "duration": 12,
    "start_time": "2021-08-08T19:13:12.217Z"
   },
   {
    "duration": 25,
    "start_time": "2021-08-08T19:13:12.231Z"
   },
   {
    "duration": 8,
    "start_time": "2021-08-08T19:13:12.258Z"
   },
   {
    "duration": 22,
    "start_time": "2021-08-08T19:13:12.268Z"
   },
   {
    "duration": 7,
    "start_time": "2021-08-08T19:13:12.292Z"
   },
   {
    "duration": 16,
    "start_time": "2021-08-08T19:13:12.301Z"
   },
   {
    "duration": 8,
    "start_time": "2021-08-08T19:13:12.319Z"
   },
   {
    "duration": 8,
    "start_time": "2021-08-08T19:13:12.329Z"
   },
   {
    "duration": 15,
    "start_time": "2021-08-08T19:13:12.338Z"
   },
   {
    "duration": 3,
    "start_time": "2021-08-08T19:13:12.355Z"
   },
   {
    "duration": 34,
    "start_time": "2021-08-08T19:13:12.360Z"
   },
   {
    "duration": 7,
    "start_time": "2021-08-08T19:13:12.396Z"
   },
   {
    "duration": 77,
    "start_time": "2021-08-08T19:13:12.404Z"
   },
   {
    "duration": 2,
    "start_time": "2021-08-08T19:13:12.483Z"
   },
   {
    "duration": 8,
    "start_time": "2021-08-08T19:13:12.486Z"
   },
   {
    "duration": 6,
    "start_time": "2021-08-08T19:13:12.496Z"
   },
   {
    "duration": 7,
    "start_time": "2021-08-08T19:13:12.503Z"
   },
   {
    "duration": 51,
    "start_time": "2021-08-08T19:13:12.512Z"
   },
   {
    "duration": 3,
    "start_time": "2021-08-08T19:13:12.565Z"
   },
   {
    "duration": 7,
    "start_time": "2021-08-08T19:13:12.569Z"
   },
   {
    "duration": 5,
    "start_time": "2021-08-08T19:13:12.579Z"
   },
   {
    "duration": 41,
    "start_time": "2021-08-08T19:13:12.591Z"
   },
   {
    "duration": 22,
    "start_time": "2021-08-08T19:13:12.634Z"
   },
   {
    "duration": 35,
    "start_time": "2021-08-08T19:13:12.658Z"
   },
   {
    "duration": 6,
    "start_time": "2021-08-08T19:13:12.695Z"
   },
   {
    "duration": 8,
    "start_time": "2021-08-08T19:13:12.703Z"
   },
   {
    "duration": 14,
    "start_time": "2021-08-08T19:13:12.713Z"
   },
   {
    "duration": 29,
    "start_time": "2021-08-08T19:13:12.729Z"
   },
   {
    "duration": 52,
    "start_time": "2021-08-08T19:13:12.760Z"
   },
   {
    "duration": 10,
    "start_time": "2021-08-08T19:13:12.814Z"
   },
   {
    "duration": 7,
    "start_time": "2021-08-08T19:18:46.678Z"
   },
   {
    "duration": 6,
    "start_time": "2021-08-08T19:19:30.774Z"
   },
   {
    "duration": 8,
    "start_time": "2021-08-08T19:19:40.988Z"
   },
   {
    "duration": 12,
    "start_time": "2021-08-08T19:21:31.013Z"
   },
   {
    "duration": 7,
    "start_time": "2021-08-08T19:22:35.571Z"
   },
   {
    "duration": 3,
    "start_time": "2021-08-08T19:24:17.323Z"
   },
   {
    "duration": 8,
    "start_time": "2021-08-08T19:24:43.526Z"
   },
   {
    "duration": 7,
    "start_time": "2021-08-08T19:24:59.500Z"
   },
   {
    "duration": 13,
    "start_time": "2021-08-08T19:28:09.559Z"
   },
   {
    "duration": 20,
    "start_time": "2021-08-08T19:28:17.378Z"
   },
   {
    "duration": 20,
    "start_time": "2021-08-08T19:28:32.112Z"
   },
   {
    "duration": 13,
    "start_time": "2021-08-08T19:29:56.994Z"
   },
   {
    "duration": 26,
    "start_time": "2021-08-08T19:30:03.485Z"
   },
   {
    "duration": 4,
    "start_time": "2021-08-08T19:42:36.020Z"
   },
   {
    "duration": 4,
    "start_time": "2021-08-08T19:43:41.035Z"
   },
   {
    "duration": 28,
    "start_time": "2021-08-08T19:43:53.721Z"
   },
   {
    "duration": 5,
    "start_time": "2021-08-08T19:44:23.546Z"
   },
   {
    "duration": 26,
    "start_time": "2021-08-08T19:44:26.690Z"
   },
   {
    "duration": 5,
    "start_time": "2021-08-08T19:44:53.019Z"
   },
   {
    "duration": 5,
    "start_time": "2021-08-08T19:47:21.792Z"
   },
   {
    "duration": 25,
    "start_time": "2021-08-08T19:48:52.263Z"
   },
   {
    "duration": 529,
    "start_time": "2021-08-08T19:49:35.583Z"
   },
   {
    "duration": 271,
    "start_time": "2021-08-08T19:49:48.851Z"
   },
   {
    "duration": 213,
    "start_time": "2021-08-08T19:49:56.868Z"
   },
   {
    "duration": 14,
    "start_time": "2021-08-08T19:50:02.098Z"
   },
   {
    "duration": 20,
    "start_time": "2021-08-08T19:50:05.827Z"
   },
   {
    "duration": 6,
    "start_time": "2021-08-08T19:51:43.499Z"
   },
   {
    "duration": 10,
    "start_time": "2021-08-08T19:51:47.391Z"
   },
   {
    "duration": 12,
    "start_time": "2021-08-08T19:51:58.988Z"
   },
   {
    "duration": 11,
    "start_time": "2021-08-08T19:52:36.485Z"
   },
   {
    "duration": 525,
    "start_time": "2021-08-08T19:55:30.925Z"
   },
   {
    "duration": 204,
    "start_time": "2021-08-08T19:57:45.650Z"
   },
   {
    "duration": 297,
    "start_time": "2021-08-08T19:58:07.029Z"
   },
   {
    "duration": 318,
    "start_time": "2021-08-08T19:58:56.761Z"
   },
   {
    "duration": 179,
    "start_time": "2021-08-08T20:02:06.436Z"
   },
   {
    "duration": 156,
    "start_time": "2021-08-08T20:02:24.182Z"
   },
   {
    "duration": 177,
    "start_time": "2021-08-08T20:02:37.457Z"
   },
   {
    "duration": 146,
    "start_time": "2021-08-08T20:02:41.706Z"
   },
   {
    "duration": 152,
    "start_time": "2021-08-08T20:02:52.576Z"
   },
   {
    "duration": 165,
    "start_time": "2021-08-08T20:03:05.842Z"
   },
   {
    "duration": 78,
    "start_time": "2021-08-08T20:03:18.261Z"
   },
   {
    "duration": 70,
    "start_time": "2021-08-08T20:03:25.363Z"
   },
   {
    "duration": 398,
    "start_time": "2021-08-08T20:03:30.650Z"
   },
   {
    "duration": 163,
    "start_time": "2021-08-08T20:03:42.037Z"
   },
   {
    "duration": 312,
    "start_time": "2021-08-08T20:03:50.390Z"
   },
   {
    "duration": 559,
    "start_time": "2021-08-08T20:04:29.183Z"
   },
   {
    "duration": 322,
    "start_time": "2021-08-08T20:04:41.394Z"
   },
   {
    "duration": 542,
    "start_time": "2021-08-08T20:04:48.263Z"
   },
   {
    "duration": 636,
    "start_time": "2021-08-08T20:04:56.410Z"
   },
   {
    "duration": 550,
    "start_time": "2021-08-08T20:05:04.136Z"
   },
   {
    "duration": 313,
    "start_time": "2021-08-08T20:05:09.829Z"
   },
   {
    "duration": 1132,
    "start_time": "2021-08-08T20:18:27.685Z"
   },
   {
    "duration": 1192,
    "start_time": "2021-08-08T20:18:37.555Z"
   },
   {
    "duration": 174,
    "start_time": "2021-08-08T20:19:09.254Z"
   },
   {
    "duration": 213,
    "start_time": "2021-08-08T20:19:46.293Z"
   },
   {
    "duration": 231,
    "start_time": "2021-08-08T20:20:10.738Z"
   },
   {
    "duration": 994,
    "start_time": "2021-08-08T20:20:21.791Z"
   },
   {
    "duration": 191,
    "start_time": "2021-08-08T20:20:41.190Z"
   },
   {
    "duration": 803,
    "start_time": "2021-08-08T20:21:38.412Z"
   },
   {
    "duration": 847,
    "start_time": "2021-08-08T20:21:45.334Z"
   },
   {
    "duration": 531,
    "start_time": "2021-08-08T20:26:25.315Z"
   },
   {
    "duration": 2,
    "start_time": "2021-08-08T20:31:14.866Z"
   },
   {
    "duration": 5,
    "start_time": "2021-08-08T20:31:33.078Z"
   },
   {
    "duration": 382,
    "start_time": "2021-08-08T20:31:45.851Z"
   },
   {
    "duration": 4,
    "start_time": "2021-08-08T20:32:34.097Z"
   },
   {
    "duration": 8,
    "start_time": "2021-08-08T20:32:49.317Z"
   },
   {
    "duration": 552,
    "start_time": "2021-08-08T20:34:25.840Z"
   },
   {
    "duration": 20,
    "start_time": "2021-08-08T20:34:49.165Z"
   },
   {
    "duration": 21,
    "start_time": "2021-08-08T20:35:00.418Z"
   },
   {
    "duration": 12,
    "start_time": "2021-08-08T20:35:07.330Z"
   },
   {
    "duration": 5,
    "start_time": "2021-08-08T20:35:10.590Z"
   },
   {
    "duration": 8,
    "start_time": "2021-08-08T20:35:12.603Z"
   },
   {
    "duration": 13,
    "start_time": "2021-08-08T20:35:21.968Z"
   },
   {
    "duration": 8,
    "start_time": "2021-08-08T20:36:00.729Z"
   },
   {
    "duration": 8,
    "start_time": "2021-08-08T20:36:43.445Z"
   },
   {
    "duration": 25,
    "start_time": "2021-08-08T20:37:20.717Z"
   },
   {
    "duration": 13,
    "start_time": "2021-08-08T20:37:38.431Z"
   },
   {
    "duration": 13,
    "start_time": "2021-08-08T20:37:42.084Z"
   },
   {
    "duration": 8,
    "start_time": "2021-08-08T20:37:47.507Z"
   },
   {
    "duration": 9,
    "start_time": "2021-08-08T20:37:50.328Z"
   },
   {
    "duration": 150,
    "start_time": "2021-08-08T20:39:06.943Z"
   },
   {
    "duration": 156,
    "start_time": "2021-08-08T20:39:19.040Z"
   },
   {
    "duration": 450,
    "start_time": "2021-08-08T20:39:42.313Z"
   },
   {
    "duration": 1334,
    "start_time": "2021-08-08T20:40:20.946Z"
   },
   {
    "duration": 165,
    "start_time": "2021-08-08T20:40:38.059Z"
   },
   {
    "duration": 5689,
    "start_time": "2021-08-08T20:41:28.113Z"
   },
   {
    "duration": 173,
    "start_time": "2021-08-08T20:46:29.445Z"
   },
   {
    "duration": 71,
    "start_time": "2021-08-08T20:46:55.053Z"
   },
   {
    "duration": 96,
    "start_time": "2021-08-08T20:46:58.675Z"
   },
   {
    "duration": 403,
    "start_time": "2021-08-08T20:47:02.004Z"
   },
   {
    "duration": 166,
    "start_time": "2021-08-08T20:47:16.217Z"
   },
   {
    "duration": 2012,
    "start_time": "2021-08-08T20:47:27.422Z"
   },
   {
    "duration": 366,
    "start_time": "2021-08-08T20:47:43.772Z"
   },
   {
    "duration": 1145,
    "start_time": "2021-08-08T20:48:13.971Z"
   },
   {
    "duration": 2113,
    "start_time": "2021-08-08T20:48:23.243Z"
   },
   {
    "duration": 1842,
    "start_time": "2021-08-08T20:49:03.128Z"
   },
   {
    "duration": 180,
    "start_time": "2021-08-08T20:49:30.567Z"
   },
   {
    "duration": 178,
    "start_time": "2021-08-08T20:49:58.128Z"
   },
   {
    "duration": 293,
    "start_time": "2021-08-08T20:50:09.755Z"
   },
   {
    "duration": 372,
    "start_time": "2021-08-08T20:50:20.742Z"
   },
   {
    "duration": 160,
    "start_time": "2021-08-08T20:50:58.121Z"
   },
   {
    "duration": 303,
    "start_time": "2021-08-08T20:51:12.962Z"
   },
   {
    "duration": 734,
    "start_time": "2021-08-08T20:52:06.629Z"
   },
   {
    "duration": 370,
    "start_time": "2021-08-08T20:52:16.614Z"
   },
   {
    "duration": 5,
    "start_time": "2021-08-08T20:54:43.433Z"
   },
   {
    "duration": 8,
    "start_time": "2021-08-08T20:56:03.166Z"
   },
   {
    "duration": 8,
    "start_time": "2021-08-08T20:56:19.199Z"
   },
   {
    "duration": 8,
    "start_time": "2021-08-08T20:56:22.217Z"
   },
   {
    "duration": 443,
    "start_time": "2021-08-08T20:59:05.738Z"
   },
   {
    "duration": 161,
    "start_time": "2021-08-08T20:59:33.397Z"
   },
   {
    "duration": 70,
    "start_time": "2021-08-08T21:00:33.149Z"
   },
   {
    "duration": 177,
    "start_time": "2021-08-08T21:00:47.888Z"
   },
   {
    "duration": 174,
    "start_time": "2021-08-08T21:01:45.181Z"
   },
   {
    "duration": 77,
    "start_time": "2021-08-08T21:02:14.119Z"
   },
   {
    "duration": 286,
    "start_time": "2021-08-08T21:02:28.342Z"
   },
   {
    "duration": 181,
    "start_time": "2021-08-08T21:04:11.443Z"
   },
   {
    "duration": 167,
    "start_time": "2021-08-08T21:04:23.191Z"
   },
   {
    "duration": 172,
    "start_time": "2021-08-08T21:05:34.403Z"
   },
   {
    "duration": 159,
    "start_time": "2021-08-08T21:05:43.593Z"
   },
   {
    "duration": 153,
    "start_time": "2021-08-08T21:05:47.407Z"
   },
   {
    "duration": 141,
    "start_time": "2021-08-08T21:05:52.088Z"
   },
   {
    "duration": 162,
    "start_time": "2021-08-08T21:06:38.247Z"
   },
   {
    "duration": 174,
    "start_time": "2021-08-08T21:06:50.292Z"
   },
   {
    "duration": 522,
    "start_time": "2021-08-08T21:09:24.762Z"
   },
   {
    "duration": 4,
    "start_time": "2021-08-08T21:13:41.243Z"
   },
   {
    "duration": 425,
    "start_time": "2021-08-08T21:13:44.451Z"
   },
   {
    "duration": 70,
    "start_time": "2021-08-08T21:14:23.020Z"
   },
   {
    "duration": 3,
    "start_time": "2021-08-08T21:14:27.189Z"
   },
   {
    "duration": 302,
    "start_time": "2021-08-08T21:14:30.657Z"
   },
   {
    "duration": 296,
    "start_time": "2021-08-08T21:14:51.629Z"
   },
   {
    "duration": 4,
    "start_time": "2021-08-08T21:15:16.408Z"
   },
   {
    "duration": 4,
    "start_time": "2021-08-08T21:15:52.102Z"
   },
   {
    "duration": 4,
    "start_time": "2021-08-08T21:15:57.762Z"
   },
   {
    "duration": 299,
    "start_time": "2021-08-08T21:16:22.053Z"
   },
   {
    "duration": 298,
    "start_time": "2021-08-08T21:16:51.114Z"
   },
   {
    "duration": 575,
    "start_time": "2021-08-08T21:17:24.672Z"
   },
   {
    "duration": 17,
    "start_time": "2021-08-08T21:18:07.943Z"
   },
   {
    "duration": 289,
    "start_time": "2021-08-08T21:20:47.136Z"
   },
   {
    "duration": 287,
    "start_time": "2021-08-08T21:21:12.813Z"
   },
   {
    "duration": 310,
    "start_time": "2021-08-08T21:21:28.331Z"
   },
   {
    "duration": 76,
    "start_time": "2021-08-08T21:24:31.825Z"
   },
   {
    "duration": 73,
    "start_time": "2021-08-08T21:25:41.937Z"
   },
   {
    "duration": 232,
    "start_time": "2021-08-08T22:02:56.711Z"
   },
   {
    "duration": 3,
    "start_time": "2021-08-08T22:03:31.222Z"
   },
   {
    "duration": 3,
    "start_time": "2021-08-08T22:03:32.178Z"
   },
   {
    "duration": 3,
    "start_time": "2021-08-08T22:03:33.226Z"
   },
   {
    "duration": 5,
    "start_time": "2021-08-08T22:03:37.229Z"
   },
   {
    "duration": 72,
    "start_time": "2021-08-08T22:05:12.508Z"
   },
   {
    "duration": 18,
    "start_time": "2021-08-08T22:07:22.227Z"
   },
   {
    "duration": 15,
    "start_time": "2021-08-08T22:07:39.744Z"
   },
   {
    "duration": 4,
    "start_time": "2021-08-08T22:09:53.344Z"
   },
   {
    "duration": 382,
    "start_time": "2021-08-08T22:10:18.688Z"
   },
   {
    "duration": 9,
    "start_time": "2021-08-08T22:10:59.280Z"
   },
   {
    "duration": 11,
    "start_time": "2021-08-08T22:11:23.603Z"
   },
   {
    "duration": 9,
    "start_time": "2021-08-08T22:11:28.053Z"
   },
   {
    "duration": 365,
    "start_time": "2021-08-08T22:11:35.401Z"
   },
   {
    "duration": 20,
    "start_time": "2021-08-08T22:11:57.362Z"
   },
   {
    "duration": 12,
    "start_time": "2021-08-08T22:12:05.783Z"
   },
   {
    "duration": 5,
    "start_time": "2021-08-08T22:12:10.911Z"
   },
   {
    "duration": 430,
    "start_time": "2021-08-08T22:12:15.165Z"
   },
   {
    "duration": 13,
    "start_time": "2021-08-08T22:12:27.444Z"
   },
   {
    "duration": 10,
    "start_time": "2021-08-08T22:12:44.551Z"
   },
   {
    "duration": 13,
    "start_time": "2021-08-08T22:12:55.212Z"
   },
   {
    "duration": 16,
    "start_time": "2021-08-08T22:13:44.768Z"
   },
   {
    "duration": 9,
    "start_time": "2021-08-08T22:13:47.310Z"
   },
   {
    "duration": 10,
    "start_time": "2021-08-08T22:14:11.810Z"
   },
   {
    "duration": 9,
    "start_time": "2021-08-08T22:14:16.914Z"
   },
   {
    "duration": 11,
    "start_time": "2021-08-08T22:14:40.237Z"
   },
   {
    "duration": 5,
    "start_time": "2021-08-08T22:14:42.917Z"
   },
   {
    "duration": 5,
    "start_time": "2021-08-08T22:15:51.439Z"
   },
   {
    "duration": 12,
    "start_time": "2021-08-08T22:16:01.601Z"
   },
   {
    "duration": 5,
    "start_time": "2021-08-08T22:16:05.624Z"
   },
   {
    "duration": 5,
    "start_time": "2021-08-08T22:16:07.860Z"
   },
   {
    "duration": 225,
    "start_time": "2021-08-08T22:17:13.019Z"
   },
   {
    "duration": 8,
    "start_time": "2021-08-08T22:17:16.575Z"
   },
   {
    "duration": 4,
    "start_time": "2021-08-08T22:17:24.048Z"
   },
   {
    "duration": 4,
    "start_time": "2021-08-08T22:17:26.254Z"
   },
   {
    "duration": 7,
    "start_time": "2021-08-08T22:17:45.246Z"
   },
   {
    "duration": 6,
    "start_time": "2021-08-08T22:18:50.889Z"
   },
   {
    "duration": 10,
    "start_time": "2021-08-08T22:20:29.502Z"
   },
   {
    "duration": 5,
    "start_time": "2021-08-08T22:20:31.976Z"
   },
   {
    "duration": 9,
    "start_time": "2021-08-08T22:20:42.509Z"
   },
   {
    "duration": 4,
    "start_time": "2021-08-08T22:20:46.401Z"
   },
   {
    "duration": 8,
    "start_time": "2021-08-08T22:20:58.659Z"
   },
   {
    "duration": 235,
    "start_time": "2021-08-08T22:22:27.815Z"
   },
   {
    "duration": 221,
    "start_time": "2021-08-08T22:22:31.225Z"
   },
   {
    "duration": 7,
    "start_time": "2021-08-08T22:22:35.934Z"
   },
   {
    "duration": 217,
    "start_time": "2021-08-08T22:22:42.420Z"
   },
   {
    "duration": 5,
    "start_time": "2021-08-08T22:22:47.708Z"
   },
   {
    "duration": 9,
    "start_time": "2021-08-08T22:23:21.512Z"
   },
   {
    "duration": 3020,
    "start_time": "2021-08-08T22:24:10.382Z"
   },
   {
    "duration": 11,
    "start_time": "2021-08-08T22:24:24.880Z"
   },
   {
    "duration": 6,
    "start_time": "2021-08-08T22:24:27.121Z"
   },
   {
    "duration": 8,
    "start_time": "2021-08-08T22:24:53.089Z"
   },
   {
    "duration": 5,
    "start_time": "2021-08-08T22:25:03.337Z"
   },
   {
    "duration": 1462,
    "start_time": "2021-08-09T16:30:47.196Z"
   },
   {
    "duration": 519,
    "start_time": "2021-08-09T16:30:49.498Z"
   },
   {
    "duration": 21,
    "start_time": "2021-08-09T16:30:52.564Z"
   },
   {
    "duration": 28,
    "start_time": "2021-08-09T16:30:55.416Z"
   },
   {
    "duration": 15,
    "start_time": "2021-08-09T16:30:58.949Z"
   },
   {
    "duration": 14,
    "start_time": "2021-08-09T16:31:05.748Z"
   },
   {
    "duration": 24,
    "start_time": "2021-08-09T16:31:08.900Z"
   },
   {
    "duration": 5,
    "start_time": "2021-08-09T16:31:15.972Z"
   },
   {
    "duration": 11,
    "start_time": "2021-08-09T16:31:45.158Z"
   },
   {
    "duration": 105,
    "start_time": "2021-08-09T16:31:57.797Z"
   },
   {
    "duration": 76,
    "start_time": "2021-08-09T16:32:08.349Z"
   },
   {
    "duration": 52,
    "start_time": "2021-08-09T16:33:58.507Z"
   },
   {
    "duration": 31,
    "start_time": "2021-08-09T16:34:07.713Z"
   },
   {
    "duration": 408,
    "start_time": "2021-08-09T16:39:13.684Z"
   },
   {
    "duration": 258,
    "start_time": "2021-08-09T16:39:37.922Z"
   },
   {
    "duration": 4,
    "start_time": "2021-08-09T16:40:57.110Z"
   },
   {
    "duration": 281,
    "start_time": "2021-08-09T16:41:07.130Z"
   },
   {
    "duration": 279,
    "start_time": "2021-08-09T16:41:20.154Z"
   },
   {
    "duration": 326,
    "start_time": "2021-08-09T16:41:32.088Z"
   },
   {
    "duration": 252,
    "start_time": "2021-08-09T16:42:28.413Z"
   },
   {
    "duration": 7,
    "start_time": "2021-08-09T16:47:46.008Z"
   },
   {
    "duration": 15,
    "start_time": "2021-08-09T16:47:59.138Z"
   },
   {
    "duration": 32,
    "start_time": "2021-08-09T16:51:22.968Z"
   },
   {
    "duration": 7,
    "start_time": "2021-08-09T16:52:25.304Z"
   },
   {
    "duration": 12,
    "start_time": "2021-08-09T16:52:54.278Z"
   },
   {
    "duration": 11,
    "start_time": "2021-08-09T16:52:57.841Z"
   },
   {
    "duration": 19,
    "start_time": "2021-08-09T16:53:02.264Z"
   },
   {
    "duration": 364,
    "start_time": "2021-08-09T16:53:11.398Z"
   },
   {
    "duration": 10,
    "start_time": "2021-08-09T16:53:14.588Z"
   },
   {
    "duration": 11,
    "start_time": "2021-08-09T16:53:16.075Z"
   },
   {
    "duration": 17,
    "start_time": "2021-08-09T16:53:18.455Z"
   },
   {
    "duration": 4,
    "start_time": "2021-08-09T16:54:08.619Z"
   },
   {
    "duration": 10,
    "start_time": "2021-08-09T16:54:12.718Z"
   },
   {
    "duration": 11,
    "start_time": "2021-08-09T16:54:14.808Z"
   },
   {
    "duration": 20,
    "start_time": "2021-08-09T16:54:16.842Z"
   },
   {
    "duration": 3,
    "start_time": "2021-08-09T16:54:26.496Z"
   },
   {
    "duration": 258,
    "start_time": "2021-08-09T16:54:28.932Z"
   },
   {
    "duration": 9,
    "start_time": "2021-08-09T16:54:33.676Z"
   },
   {
    "duration": 16,
    "start_time": "2021-08-09T16:54:37.258Z"
   },
   {
    "duration": 11,
    "start_time": "2021-08-09T16:54:46.120Z"
   },
   {
    "duration": 18,
    "start_time": "2021-08-09T16:54:48.242Z"
   },
   {
    "duration": 13,
    "start_time": "2021-08-09T16:56:26.539Z"
   },
   {
    "duration": 14,
    "start_time": "2021-08-09T16:56:37.733Z"
   },
   {
    "duration": 14,
    "start_time": "2021-08-09T16:56:46.019Z"
   },
   {
    "duration": 11,
    "start_time": "2021-08-09T16:57:09.964Z"
   },
   {
    "duration": 21,
    "start_time": "2021-08-09T16:57:11.682Z"
   },
   {
    "duration": 18,
    "start_time": "2021-08-09T16:57:36.868Z"
   },
   {
    "duration": 4,
    "start_time": "2021-08-09T16:58:19.594Z"
   },
   {
    "duration": 262,
    "start_time": "2021-08-09T16:58:22.074Z"
   },
   {
    "duration": 10,
    "start_time": "2021-08-09T16:58:30.294Z"
   },
   {
    "duration": 10,
    "start_time": "2021-08-09T16:58:32.472Z"
   },
   {
    "duration": 19,
    "start_time": "2021-08-09T16:58:35.707Z"
   },
   {
    "duration": 43,
    "start_time": "2021-08-09T16:58:40.688Z"
   },
   {
    "duration": 42,
    "start_time": "2021-08-09T16:59:33.830Z"
   },
   {
    "duration": 49,
    "start_time": "2021-08-09T16:59:43.554Z"
   },
   {
    "duration": 6980,
    "start_time": "2021-08-09T17:00:26.498Z"
   },
   {
    "duration": -48,
    "start_time": "2021-08-09T17:00:47.501Z"
   },
   {
    "duration": 14,
    "start_time": "2021-08-09T17:00:56.335Z"
   },
   {
    "duration": 100,
    "start_time": "2021-08-09T17:03:01.092Z"
   },
   {
    "duration": 13,
    "start_time": "2021-08-09T17:03:33.429Z"
   },
   {
    "duration": 12,
    "start_time": "2021-08-09T17:03:48.274Z"
   },
   {
    "duration": 7583,
    "start_time": "2021-08-09T17:04:29.904Z"
   },
   {
    "duration": 13,
    "start_time": "2021-08-09T17:04:51.883Z"
   },
   {
    "duration": 45,
    "start_time": "2021-08-09T17:04:58.536Z"
   },
   {
    "duration": 270,
    "start_time": "2021-08-09T17:05:20.228Z"
   },
   {
    "duration": 46,
    "start_time": "2021-08-09T17:05:33.583Z"
   },
   {
    "duration": 20,
    "start_time": "2021-08-09T17:05:46.686Z"
   },
   {
    "duration": 20,
    "start_time": "2021-08-09T17:05:54.916Z"
   },
   {
    "duration": 16,
    "start_time": "2021-08-09T17:06:02.051Z"
   },
   {
    "duration": 13,
    "start_time": "2021-08-09T17:06:05.272Z"
   },
   {
    "duration": 15,
    "start_time": "2021-08-09T17:06:09.205Z"
   },
   {
    "duration": 14,
    "start_time": "2021-08-09T17:06:11.748Z"
   },
   {
    "duration": 5,
    "start_time": "2021-08-09T17:06:49.443Z"
   },
   {
    "duration": 543,
    "start_time": "2021-08-09T17:06:51.812Z"
   },
   {
    "duration": 5,
    "start_time": "2021-08-09T17:09:04.086Z"
   },
   {
    "duration": 562,
    "start_time": "2021-08-09T17:09:06.923Z"
   },
   {
    "duration": 604,
    "start_time": "2021-08-09T17:09:10.926Z"
   },
   {
    "duration": 568,
    "start_time": "2021-08-09T17:09:21.028Z"
   },
   {
    "duration": 544,
    "start_time": "2021-08-09T17:09:27.384Z"
   },
   {
    "duration": 7437,
    "start_time": "2021-08-09T17:09:31.202Z"
   },
   {
    "duration": -114,
    "start_time": "2021-08-09T17:09:38.756Z"
   },
   {
    "duration": 620,
    "start_time": "2021-08-09T17:09:42.871Z"
   },
   {
    "duration": 611,
    "start_time": "2021-08-09T17:09:45.639Z"
   },
   {
    "duration": 23,
    "start_time": "2021-08-09T17:13:46.680Z"
   },
   {
    "duration": 14,
    "start_time": "2021-08-09T17:14:22.648Z"
   },
   {
    "duration": 5,
    "start_time": "2021-08-09T17:17:28.194Z"
   },
   {
    "duration": 16,
    "start_time": "2021-08-09T17:17:31.368Z"
   },
   {
    "duration": 300,
    "start_time": "2021-08-09T17:18:35.531Z"
   },
   {
    "duration": 6,
    "start_time": "2021-08-09T17:18:58.205Z"
   },
   {
    "duration": 5,
    "start_time": "2021-08-09T17:27:47.306Z"
   },
   {
    "duration": 15,
    "start_time": "2021-08-09T17:27:52.211Z"
   },
   {
    "duration": 5,
    "start_time": "2021-08-09T17:28:01.987Z"
   },
   {
    "duration": 15,
    "start_time": "2021-08-09T17:28:06.661Z"
   },
   {
    "duration": 84,
    "start_time": "2021-08-09T17:29:17.774Z"
   },
   {
    "duration": 261,
    "start_time": "2021-08-09T17:29:24.220Z"
   },
   {
    "duration": 5,
    "start_time": "2021-08-09T17:29:37.634Z"
   },
   {
    "duration": 5,
    "start_time": "2021-08-09T17:30:26.679Z"
   },
   {
    "duration": 5,
    "start_time": "2021-08-09T17:30:31.620Z"
   },
   {
    "duration": 7,
    "start_time": "2021-08-09T17:30:44.187Z"
   },
   {
    "duration": 7,
    "start_time": "2021-08-09T17:31:12.066Z"
   },
   {
    "duration": 7,
    "start_time": "2021-08-09T17:31:21.063Z"
   },
   {
    "duration": 6,
    "start_time": "2021-08-09T17:33:16.189Z"
   },
   {
    "duration": 18,
    "start_time": "2021-08-09T17:33:57.669Z"
   },
   {
    "duration": 18,
    "start_time": "2021-08-09T17:34:03.316Z"
   },
   {
    "duration": 18,
    "start_time": "2021-08-09T17:34:15.750Z"
   },
   {
    "duration": 11,
    "start_time": "2021-08-09T17:34:47.391Z"
   },
   {
    "duration": 10,
    "start_time": "2021-08-09T17:35:04.849Z"
   },
   {
    "duration": 9,
    "start_time": "2021-08-09T17:35:25.559Z"
   },
   {
    "duration": 11,
    "start_time": "2021-08-09T17:36:17.304Z"
   },
   {
    "duration": 314,
    "start_time": "2021-08-09T17:36:24.388Z"
   },
   {
    "duration": 9,
    "start_time": "2021-08-09T17:36:34.241Z"
   },
   {
    "duration": 4,
    "start_time": "2021-08-09T17:38:04.890Z"
   },
   {
    "duration": 5,
    "start_time": "2021-08-09T17:38:08.049Z"
   },
   {
    "duration": 15,
    "start_time": "2021-08-09T17:38:20.040Z"
   },
   {
    "duration": 6960,
    "start_time": "2021-08-09T17:38:56.172Z"
   },
   {
    "duration": -184,
    "start_time": "2021-08-09T17:39:03.320Z"
   },
   {
    "duration": 5,
    "start_time": "2021-08-09T17:39:13.885Z"
   },
   {
    "duration": 6326,
    "start_time": "2021-08-09T17:39:16.848Z"
   },
   {
    "duration": 5,
    "start_time": "2021-08-09T17:39:25.445Z"
   },
   {
    "duration": 15,
    "start_time": "2021-08-09T17:39:28.227Z"
   },
   {
    "duration": 6,
    "start_time": "2021-08-09T17:45:11.645Z"
   },
   {
    "duration": 15,
    "start_time": "2021-08-09T17:45:13.787Z"
   },
   {
    "duration": 5,
    "start_time": "2021-08-09T17:45:24.559Z"
   },
   {
    "duration": 16,
    "start_time": "2021-08-09T17:45:28.134Z"
   },
   {
    "duration": 5,
    "start_time": "2021-08-09T17:45:45.569Z"
   },
   {
    "duration": 16,
    "start_time": "2021-08-09T17:45:48.052Z"
   },
   {
    "duration": 5,
    "start_time": "2021-08-09T17:46:00.423Z"
   },
   {
    "duration": 17,
    "start_time": "2021-08-09T17:46:02.412Z"
   },
   {
    "duration": 5,
    "start_time": "2021-08-09T17:46:09.210Z"
   },
   {
    "duration": 16,
    "start_time": "2021-08-09T17:46:11.318Z"
   },
   {
    "duration": 96,
    "start_time": "2021-08-09T17:48:52.401Z"
   },
   {
    "duration": 87,
    "start_time": "2021-08-09T17:49:20.851Z"
   },
   {
    "duration": 95,
    "start_time": "2021-08-09T17:49:30.144Z"
   },
   {
    "duration": 256,
    "start_time": "2021-08-09T17:50:15.672Z"
   },
   {
    "duration": 9,
    "start_time": "2021-08-09T17:50:37.086Z"
   },
   {
    "duration": 279,
    "start_time": "2021-08-09T17:51:37.893Z"
   },
   {
    "duration": 287,
    "start_time": "2021-08-09T17:51:59.565Z"
   },
   {
    "duration": 314,
    "start_time": "2021-08-09T17:52:09.793Z"
   },
   {
    "duration": 318,
    "start_time": "2021-08-09T17:52:15.100Z"
   },
   {
    "duration": 13,
    "start_time": "2021-08-09T17:52:45.763Z"
   },
   {
    "duration": 7,
    "start_time": "2021-08-09T17:53:30.955Z"
   },
   {
    "duration": 260,
    "start_time": "2021-08-09T17:53:57.829Z"
   },
   {
    "duration": 270,
    "start_time": "2021-08-09T17:54:05.661Z"
   },
   {
    "duration": 256,
    "start_time": "2021-08-09T17:54:37.386Z"
   },
   {
    "duration": 250,
    "start_time": "2021-08-09T17:54:42.676Z"
   },
   {
    "duration": 258,
    "start_time": "2021-08-09T17:55:37.149Z"
   },
   {
    "duration": 310,
    "start_time": "2021-08-09T17:56:13.360Z"
   },
   {
    "duration": 288,
    "start_time": "2021-08-09T17:56:41.091Z"
   },
   {
    "duration": 296,
    "start_time": "2021-08-09T17:56:44.918Z"
   },
   {
    "duration": 259,
    "start_time": "2021-08-09T17:56:48.406Z"
   },
   {
    "duration": 249,
    "start_time": "2021-08-09T17:56:51.421Z"
   },
   {
    "duration": 266,
    "start_time": "2021-08-09T17:57:15.740Z"
   },
   {
    "duration": 264,
    "start_time": "2021-08-09T17:57:20.469Z"
   },
   {
    "duration": 260,
    "start_time": "2021-08-09T17:57:30.836Z"
   },
   {
    "duration": 5,
    "start_time": "2021-08-09T17:57:38.273Z"
   },
   {
    "duration": 9,
    "start_time": "2021-08-09T17:57:41.566Z"
   },
   {
    "duration": 271,
    "start_time": "2021-08-09T17:57:51.828Z"
   },
   {
    "duration": 257,
    "start_time": "2021-08-09T17:58:53.595Z"
   },
   {
    "duration": 268,
    "start_time": "2021-08-09T17:59:00.362Z"
   },
   {
    "duration": 6,
    "start_time": "2021-08-09T18:00:29.940Z"
   },
   {
    "duration": 12,
    "start_time": "2021-08-09T18:00:54.402Z"
   },
   {
    "duration": 262,
    "start_time": "2021-08-09T18:01:22.308Z"
   },
   {
    "duration": 5,
    "start_time": "2021-08-09T18:01:26.803Z"
   },
   {
    "duration": 5,
    "start_time": "2021-08-09T18:01:54.287Z"
   },
   {
    "duration": 5,
    "start_time": "2021-08-09T18:01:57.576Z"
   },
   {
    "duration": 278,
    "start_time": "2021-08-09T18:02:09.593Z"
   },
   {
    "duration": 6,
    "start_time": "2021-08-09T18:02:13.860Z"
   },
   {
    "duration": 7,
    "start_time": "2021-08-09T18:02:21.690Z"
   },
   {
    "duration": 21,
    "start_time": "2021-08-09T18:05:41.047Z"
   },
   {
    "duration": 4,
    "start_time": "2021-08-09T18:06:21.928Z"
   },
   {
    "duration": 23,
    "start_time": "2021-08-09T18:08:16.769Z"
   },
   {
    "duration": 334,
    "start_time": "2021-08-09T18:08:59.437Z"
   },
   {
    "duration": -23,
    "start_time": "2021-08-09T18:09:18.101Z"
   },
   {
    "duration": 272,
    "start_time": "2021-08-09T18:09:26.092Z"
   },
   {
    "duration": 7,
    "start_time": "2021-08-09T18:09:33.032Z"
   },
   {
    "duration": 9,
    "start_time": "2021-08-09T18:09:46.751Z"
   },
   {
    "duration": 21,
    "start_time": "2021-08-09T18:10:32.858Z"
   },
   {
    "duration": 4,
    "start_time": "2021-08-09T18:22:04.770Z"
   },
   {
    "duration": 7,
    "start_time": "2021-08-09T18:22:41.200Z"
   },
   {
    "duration": 7,
    "start_time": "2021-08-09T18:23:09.957Z"
   },
   {
    "duration": 6,
    "start_time": "2021-08-09T18:23:12.656Z"
   },
   {
    "duration": 7,
    "start_time": "2021-08-09T18:23:45.328Z"
   },
   {
    "duration": 5,
    "start_time": "2021-08-09T18:24:07.323Z"
   },
   {
    "duration": 6,
    "start_time": "2021-08-09T18:25:09.918Z"
   },
   {
    "duration": 6,
    "start_time": "2021-08-09T18:25:33.237Z"
   },
   {
    "duration": 8,
    "start_time": "2021-08-09T18:30:41.861Z"
   },
   {
    "duration": 103,
    "start_time": "2021-08-09T18:31:03.144Z"
   },
   {
    "duration": 96,
    "start_time": "2021-08-09T18:31:58.413Z"
   },
   {
    "duration": 253,
    "start_time": "2021-08-09T18:33:23.310Z"
   },
   {
    "duration": 7,
    "start_time": "2021-08-09T18:33:37.991Z"
   },
   {
    "duration": 7,
    "start_time": "2021-08-09T18:34:10.286Z"
   },
   {
    "duration": 7,
    "start_time": "2021-08-09T18:35:49.992Z"
   },
   {
    "duration": 8,
    "start_time": "2021-08-09T18:36:14.807Z"
   },
   {
    "duration": 6,
    "start_time": "2021-08-09T18:39:29.650Z"
   },
   {
    "duration": 23,
    "start_time": "2021-08-09T18:40:14.693Z"
   },
   {
    "duration": 6999,
    "start_time": "2021-08-09T18:40:17.499Z"
   },
   {
    "duration": 7,
    "start_time": "2021-08-09T18:40:30.631Z"
   },
   {
    "duration": 277,
    "start_time": "2021-08-09T18:40:34.027Z"
   },
   {
    "duration": 279,
    "start_time": "2021-08-09T18:40:48.557Z"
   },
   {
    "duration": 27,
    "start_time": "2021-08-09T18:40:55.843Z"
   },
   {
    "duration": 345,
    "start_time": "2021-08-09T18:40:59.263Z"
   },
   {
    "duration": 12,
    "start_time": "2021-08-09T18:41:12.461Z"
   },
   {
    "duration": 11,
    "start_time": "2021-08-09T18:41:17.140Z"
   },
   {
    "duration": 12,
    "start_time": "2021-08-09T18:41:49.744Z"
   },
   {
    "duration": 89,
    "start_time": "2021-08-09T18:42:02.617Z"
   },
   {
    "duration": 30,
    "start_time": "2021-08-09T18:45:42.860Z"
   },
   {
    "duration": 10,
    "start_time": "2021-08-09T18:45:46.929Z"
   },
   {
    "duration": 7,
    "start_time": "2021-08-09T18:45:49.463Z"
   },
   {
    "duration": 1543,
    "start_time": "2021-08-09T19:44:53.000Z"
   },
   {
    "duration": 502,
    "start_time": "2021-08-09T19:44:54.546Z"
   },
   {
    "duration": 21,
    "start_time": "2021-08-09T19:44:55.051Z"
   },
   {
    "duration": 55,
    "start_time": "2021-08-09T19:44:55.075Z"
   },
   {
    "duration": 12,
    "start_time": "2021-08-09T19:44:55.133Z"
   },
   {
    "duration": 25,
    "start_time": "2021-08-09T19:44:55.147Z"
   },
   {
    "duration": 25,
    "start_time": "2021-08-09T19:44:55.174Z"
   },
   {
    "duration": 20,
    "start_time": "2021-08-09T19:44:55.203Z"
   },
   {
    "duration": 11,
    "start_time": "2021-08-09T19:44:55.226Z"
   },
   {
    "duration": 11,
    "start_time": "2021-08-09T19:44:55.239Z"
   },
   {
    "duration": 51,
    "start_time": "2021-08-09T19:44:55.252Z"
   },
   {
    "duration": 6,
    "start_time": "2021-08-09T19:44:55.306Z"
   },
   {
    "duration": 13,
    "start_time": "2021-08-09T19:44:55.314Z"
   },
   {
    "duration": 12,
    "start_time": "2021-08-09T19:44:55.330Z"
   },
   {
    "duration": 146,
    "start_time": "2021-08-09T19:44:55.344Z"
   },
   {
    "duration": 77,
    "start_time": "2021-08-09T19:44:55.493Z"
   },
   {
    "duration": 57,
    "start_time": "2021-08-09T19:44:55.572Z"
   },
   {
    "duration": 16,
    "start_time": "2021-08-09T19:44:55.631Z"
   },
   {
    "duration": 73,
    "start_time": "2021-08-09T19:44:55.650Z"
   },
   {
    "duration": 31,
    "start_time": "2021-08-09T19:44:55.726Z"
   },
   {
    "duration": 38,
    "start_time": "2021-08-09T19:44:55.759Z"
   },
   {
    "duration": 13,
    "start_time": "2021-08-09T19:44:55.800Z"
   },
   {
    "duration": 10,
    "start_time": "2021-08-09T19:44:55.818Z"
   },
   {
    "duration": 16,
    "start_time": "2021-08-09T19:44:55.832Z"
   },
   {
    "duration": 507,
    "start_time": "2021-08-09T19:44:55.887Z"
   },
   {
    "duration": 4354,
    "start_time": "2021-08-09T19:44:52.042Z"
   },
   {
    "duration": 4352,
    "start_time": "2021-08-09T19:44:52.046Z"
   },
   {
    "duration": 4348,
    "start_time": "2021-08-09T19:44:52.051Z"
   },
   {
    "duration": 4346,
    "start_time": "2021-08-09T19:44:52.055Z"
   },
   {
    "duration": 4338,
    "start_time": "2021-08-09T19:44:52.064Z"
   },
   {
    "duration": 4334,
    "start_time": "2021-08-09T19:44:52.069Z"
   },
   {
    "duration": 4332,
    "start_time": "2021-08-09T19:44:52.073Z"
   },
   {
    "duration": 4329,
    "start_time": "2021-08-09T19:44:52.077Z"
   },
   {
    "duration": 4327,
    "start_time": "2021-08-09T19:44:52.080Z"
   },
   {
    "duration": 4326,
    "start_time": "2021-08-09T19:44:52.083Z"
   },
   {
    "duration": 4323,
    "start_time": "2021-08-09T19:44:52.087Z"
   },
   {
    "duration": 4320,
    "start_time": "2021-08-09T19:44:52.091Z"
   },
   {
    "duration": 4308,
    "start_time": "2021-08-09T19:44:52.105Z"
   },
   {
    "duration": 4304,
    "start_time": "2021-08-09T19:44:52.110Z"
   },
   {
    "duration": 4301,
    "start_time": "2021-08-09T19:44:52.114Z"
   },
   {
    "duration": 4300,
    "start_time": "2021-08-09T19:44:52.117Z"
   },
   {
    "duration": 4298,
    "start_time": "2021-08-09T19:44:52.120Z"
   },
   {
    "duration": 4295,
    "start_time": "2021-08-09T19:44:52.124Z"
   },
   {
    "duration": 4293,
    "start_time": "2021-08-09T19:44:52.128Z"
   },
   {
    "duration": 4291,
    "start_time": "2021-08-09T19:44:52.131Z"
   },
   {
    "duration": 4288,
    "start_time": "2021-08-09T19:44:52.136Z"
   },
   {
    "duration": 4286,
    "start_time": "2021-08-09T19:44:52.140Z"
   },
   {
    "duration": 4282,
    "start_time": "2021-08-09T19:44:52.145Z"
   },
   {
    "duration": 4279,
    "start_time": "2021-08-09T19:44:52.150Z"
   },
   {
    "duration": 4276,
    "start_time": "2021-08-09T19:44:52.155Z"
   },
   {
    "duration": 4272,
    "start_time": "2021-08-09T19:44:52.160Z"
   },
   {
    "duration": 4270,
    "start_time": "2021-08-09T19:44:52.165Z"
   },
   {
    "duration": 4268,
    "start_time": "2021-08-09T19:44:52.168Z"
   },
   {
    "duration": 4320,
    "start_time": "2021-08-09T19:44:52.171Z"
   },
   {
    "duration": 4317,
    "start_time": "2021-08-09T19:44:52.176Z"
   },
   {
    "duration": 339,
    "start_time": "2021-08-09T19:58:27.741Z"
   },
   {
    "duration": 48,
    "start_time": "2021-08-09T19:58:45.358Z"
   },
   {
    "duration": 55,
    "start_time": "2021-08-09T19:58:48.469Z"
   },
   {
    "duration": 18,
    "start_time": "2021-08-09T19:58:48.823Z"
   },
   {
    "duration": 12,
    "start_time": "2021-08-09T19:58:49.297Z"
   },
   {
    "duration": 13,
    "start_time": "2021-08-09T19:58:49.639Z"
   },
   {
    "duration": 66,
    "start_time": "2021-08-09T19:58:49.974Z"
   },
   {
    "duration": 64,
    "start_time": "2021-08-09T19:58:51.376Z"
   },
   {
    "duration": 32,
    "start_time": "2021-08-09T19:58:51.563Z"
   },
   {
    "duration": 8,
    "start_time": "2021-08-09T19:58:52.262Z"
   },
   {
    "duration": 15,
    "start_time": "2021-08-09T19:58:52.573Z"
   },
   {
    "duration": 12,
    "start_time": "2021-08-09T19:58:52.951Z"
   },
   {
    "duration": 18,
    "start_time": "2021-08-09T19:58:54.140Z"
   },
   {
    "duration": 13,
    "start_time": "2021-08-09T19:58:54.453Z"
   },
   {
    "duration": 6,
    "start_time": "2021-08-09T19:58:54.772Z"
   },
   {
    "duration": 630,
    "start_time": "2021-08-09T19:58:55.121Z"
   },
   {
    "duration": 638,
    "start_time": "2021-08-09T19:58:55.753Z"
   },
   {
    "duration": 628,
    "start_time": "2021-08-09T19:58:56.395Z"
   },
   {
    "duration": 602,
    "start_time": "2021-08-09T19:58:57.025Z"
   },
   {
    "duration": 692,
    "start_time": "2021-08-09T19:58:57.629Z"
   },
   {
    "duration": 14,
    "start_time": "2021-08-09T19:58:58.323Z"
   },
   {
    "duration": 6,
    "start_time": "2021-08-09T19:58:58.340Z"
   },
   {
    "duration": 41,
    "start_time": "2021-08-09T19:58:58.349Z"
   },
   {
    "duration": 17,
    "start_time": "2021-08-09T19:58:58.393Z"
   },
   {
    "duration": 7,
    "start_time": "2021-08-09T19:58:58.413Z"
   },
   {
    "duration": 23,
    "start_time": "2021-08-09T19:58:58.497Z"
   },
   {
    "duration": 5,
    "start_time": "2021-08-09T19:58:58.669Z"
   },
   {
    "duration": 21,
    "start_time": "2021-08-09T19:58:59.900Z"
   },
   {
    "duration": 14,
    "start_time": "2021-08-09T19:59:00.091Z"
   },
   {
    "duration": 29,
    "start_time": "2021-08-09T19:59:00.625Z"
   },
   {
    "duration": 9,
    "start_time": "2021-08-09T19:59:00.808Z"
   },
   {
    "duration": 10,
    "start_time": "2021-08-09T19:59:00.970Z"
   },
   {
    "duration": 26,
    "start_time": "2021-08-09T20:00:06.841Z"
   },
   {
    "duration": 3,
    "start_time": "2021-08-09T20:00:40.925Z"
   },
   {
    "duration": 25,
    "start_time": "2021-08-09T20:00:42.201Z"
   },
   {
    "duration": 315,
    "start_time": "2021-08-09T20:53:26.302Z"
   },
   {
    "duration": 1424,
    "start_time": "2021-08-09T20:53:35.486Z"
   },
   {
    "duration": 502,
    "start_time": "2021-08-09T20:53:37.522Z"
   },
   {
    "duration": 27,
    "start_time": "2021-08-09T20:53:45.451Z"
   },
   {
    "duration": 100,
    "start_time": "2021-08-09T20:53:48.760Z"
   },
   {
    "duration": 72,
    "start_time": "2021-08-09T20:53:51.005Z"
   },
   {
    "duration": 30,
    "start_time": "2021-08-09T20:54:59.188Z"
   },
   {
    "duration": 19,
    "start_time": "2021-08-09T21:01:16.721Z"
   },
   {
    "duration": 17,
    "start_time": "2021-08-09T21:02:28.641Z"
   },
   {
    "duration": 302,
    "start_time": "2021-08-09T21:10:31.469Z"
   },
   {
    "duration": 332,
    "start_time": "2021-08-09T21:10:43.057Z"
   },
   {
    "duration": 11,
    "start_time": "2021-08-09T21:13:31.845Z"
   },
   {
    "duration": 5,
    "start_time": "2021-08-09T21:19:31.582Z"
   },
   {
    "duration": 19,
    "start_time": "2021-08-09T21:19:34.921Z"
   },
   {
    "duration": 4,
    "start_time": "2021-08-09T21:25:02.411Z"
   },
   {
    "duration": 343,
    "start_time": "2021-08-09T21:25:10.489Z"
   },
   {
    "duration": 299,
    "start_time": "2021-08-09T21:25:17.027Z"
   },
   {
    "duration": 79,
    "start_time": "2021-08-09T21:25:26.068Z"
   },
   {
    "duration": 12,
    "start_time": "2021-08-09T21:25:29.337Z"
   },
   {
    "duration": 84,
    "start_time": "2021-08-09T21:26:13.028Z"
   },
   {
    "duration": 11,
    "start_time": "2021-08-09T21:26:15.623Z"
   },
   {
    "duration": 10,
    "start_time": "2021-08-09T21:40:04.329Z"
   },
   {
    "duration": 136,
    "start_time": "2021-08-09T21:50:06.775Z"
   },
   {
    "duration": 222,
    "start_time": "2021-08-09T21:50:25.621Z"
   },
   {
    "duration": 92,
    "start_time": "2021-08-09T21:51:20.726Z"
   },
   {
    "duration": 33,
    "start_time": "2021-08-09T21:52:31.979Z"
   },
   {
    "duration": 34,
    "start_time": "2021-08-09T21:52:35.749Z"
   },
   {
    "duration": 4,
    "start_time": "2021-08-09T21:53:04.323Z"
   },
   {
    "duration": 27,
    "start_time": "2021-08-09T21:53:52.665Z"
   },
   {
    "duration": 5,
    "start_time": "2021-08-09T21:53:57.041Z"
   },
   {
    "duration": 4,
    "start_time": "2021-08-09T21:54:43.751Z"
   },
   {
    "duration": 525,
    "start_time": "2021-08-09T21:54:47.103Z"
   },
   {
    "duration": 5,
    "start_time": "2021-08-09T21:54:57.275Z"
   },
   {
    "duration": 90,
    "start_time": "2021-08-09T21:55:03.417Z"
   },
   {
    "duration": 72,
    "start_time": "2021-08-09T21:55:05.643Z"
   },
   {
    "duration": 31,
    "start_time": "2021-08-09T21:55:12.650Z"
   },
   {
    "duration": 4,
    "start_time": "2021-08-09T21:55:16.593Z"
   },
   {
    "duration": 32,
    "start_time": "2021-08-09T21:55:21.548Z"
   },
   {
    "duration": 16,
    "start_time": "2021-08-09T21:55:28.554Z"
   },
   {
    "duration": 13,
    "start_time": "2021-08-09T21:57:58.008Z"
   },
   {
    "duration": 14,
    "start_time": "2021-08-09T21:58:00.617Z"
   },
   {
    "duration": 21,
    "start_time": "2021-08-09T21:58:05.491Z"
   },
   {
    "duration": 47,
    "start_time": "2021-08-09T21:58:20.578Z"
   },
   {
    "duration": 267,
    "start_time": "2021-08-09T21:58:47.208Z"
   },
   {
    "duration": 6,
    "start_time": "2021-08-09T21:59:01.921Z"
   },
   {
    "duration": 272,
    "start_time": "2021-08-09T21:59:11.584Z"
   },
   {
    "duration": 5,
    "start_time": "2021-08-09T21:59:30.109Z"
   },
   {
    "duration": 520,
    "start_time": "2021-08-09T21:59:32.529Z"
   },
   {
    "duration": 15,
    "start_time": "2021-08-09T21:59:37.428Z"
   },
   {
    "duration": 5,
    "start_time": "2021-08-09T21:59:44.415Z"
   },
   {
    "duration": 5,
    "start_time": "2021-08-09T21:59:50.692Z"
   },
   {
    "duration": 92,
    "start_time": "2021-08-09T21:59:55.992Z"
   },
   {
    "duration": 73,
    "start_time": "2021-08-09T21:59:58.205Z"
   },
   {
    "duration": 15,
    "start_time": "2021-08-09T22:00:01.098Z"
   },
   {
    "duration": 11,
    "start_time": "2021-08-09T22:00:03.974Z"
   },
   {
    "duration": 134,
    "start_time": "2021-08-09T22:00:08.571Z"
   },
   {
    "duration": 47,
    "start_time": "2021-08-09T22:01:04.528Z"
   },
   {
    "duration": 34,
    "start_time": "2021-08-09T22:01:08.942Z"
   },
   {
    "duration": 30,
    "start_time": "2021-08-09T22:01:12.059Z"
   },
   {
    "duration": 15,
    "start_time": "2021-08-09T22:01:15.102Z"
   },
   {
    "duration": 12,
    "start_time": "2021-08-09T22:01:20.328Z"
   },
   {
    "duration": 13,
    "start_time": "2021-08-09T22:01:22.471Z"
   },
   {
    "duration": 19,
    "start_time": "2021-08-09T22:01:25.246Z"
   },
   {
    "duration": 49,
    "start_time": "2021-08-09T22:01:28.235Z"
   },
   {
    "duration": 53,
    "start_time": "2021-08-09T22:01:32.930Z"
   },
   {
    "duration": 13,
    "start_time": "2021-08-09T22:01:42.390Z"
   },
   {
    "duration": 13,
    "start_time": "2021-08-09T22:01:49.264Z"
   },
   {
    "duration": 263,
    "start_time": "2021-08-09T22:03:31.572Z"
   },
   {
    "duration": 6281,
    "start_time": "2021-08-09T22:03:38.657Z"
   },
   {
    "duration": 13,
    "start_time": "2021-08-09T22:03:48.905Z"
   },
   {
    "duration": 48,
    "start_time": "2021-08-09T22:03:55.636Z"
   },
   {
    "duration": 36,
    "start_time": "2021-08-09T22:04:16.320Z"
   },
   {
    "duration": 34,
    "start_time": "2021-08-09T22:04:23.394Z"
   },
   {
    "duration": 24,
    "start_time": "2021-08-09T22:04:29.707Z"
   },
   {
    "duration": 7,
    "start_time": "2021-08-09T22:04:33.700Z"
   },
   {
    "duration": 15,
    "start_time": "2021-08-09T22:04:36.417Z"
   },
   {
    "duration": 13,
    "start_time": "2021-08-09T22:04:38.600Z"
   },
   {
    "duration": 5,
    "start_time": "2021-08-09T22:04:42.460Z"
   },
   {
    "duration": 555,
    "start_time": "2021-08-09T22:04:46.059Z"
   },
   {
    "duration": 535,
    "start_time": "2021-08-09T22:04:50.065Z"
   },
   {
    "duration": 550,
    "start_time": "2021-08-09T22:04:54.291Z"
   },
   {
    "duration": 534,
    "start_time": "2021-08-09T22:04:57.720Z"
   },
   {
    "duration": 15,
    "start_time": "2021-08-09T22:05:02.009Z"
   },
   {
    "duration": 4,
    "start_time": "2021-08-09T22:05:04.742Z"
   },
   {
    "duration": 6,
    "start_time": "2021-08-09T22:05:06.962Z"
   },
   {
    "duration": 15,
    "start_time": "2021-08-09T22:05:09.271Z"
   },
   {
    "duration": 8,
    "start_time": "2021-08-09T22:05:12.371Z"
   },
   {
    "duration": 21,
    "start_time": "2021-08-09T22:05:20.566Z"
   },
   {
    "duration": 5,
    "start_time": "2021-08-09T22:05:23.496Z"
   },
   {
    "duration": 20,
    "start_time": "2021-08-09T22:05:44.118Z"
   },
   {
    "duration": 7,
    "start_time": "2021-08-09T22:05:46.832Z"
   },
   {
    "duration": 97,
    "start_time": "2021-08-09T22:05:52.295Z"
   },
   {
    "duration": 9,
    "start_time": "2021-08-09T22:05:55.035Z"
   },
   {
    "duration": 6,
    "start_time": "2021-08-09T22:05:58.135Z"
   },
   {
    "duration": 22,
    "start_time": "2021-08-09T22:20:42.163Z"
   },
   {
    "duration": 14,
    "start_time": "2021-08-09T22:22:03.091Z"
   },
   {
    "duration": 43,
    "start_time": "2021-08-09T22:22:07.094Z"
   },
   {
    "duration": 35,
    "start_time": "2021-08-09T22:22:12.958Z"
   },
   {
    "duration": 22,
    "start_time": "2021-08-09T22:22:37.193Z"
   },
   {
    "duration": 9,
    "start_time": "2021-08-09T22:34:07.303Z"
   },
   {
    "duration": 12,
    "start_time": "2021-08-09T22:36:34.908Z"
   },
   {
    "duration": -109,
    "start_time": "2021-08-09T22:37:06.035Z"
   },
   {
    "duration": 7070,
    "start_time": "2021-08-09T22:37:13.806Z"
   },
   {
    "duration": 11,
    "start_time": "2021-08-09T22:37:31.940Z"
   },
   {
    "duration": 13,
    "start_time": "2021-08-09T22:51:41.304Z"
   },
   {
    "duration": 45,
    "start_time": "2021-08-09T22:51:45.653Z"
   },
   {
    "duration": 18,
    "start_time": "2021-08-09T22:52:17.381Z"
   },
   {
    "duration": 120,
    "start_time": "2021-08-09T22:52:38.418Z"
   },
   {
    "duration": 27,
    "start_time": "2021-08-09T22:53:08.360Z"
   },
   {
    "duration": 9,
    "start_time": "2021-08-09T22:53:14.727Z"
   },
   {
    "duration": 8,
    "start_time": "2021-08-09T22:53:24.278Z"
   },
   {
    "duration": 27,
    "start_time": "2021-08-09T22:53:46.949Z"
   },
   {
    "duration": 16,
    "start_time": "2021-08-09T22:53:58.530Z"
   },
   {
    "duration": 23,
    "start_time": "2021-08-09T22:54:20.563Z"
   },
   {
    "duration": 1539,
    "start_time": "2021-08-09T23:06:11.378Z"
   },
   {
    "duration": 518,
    "start_time": "2021-08-09T23:06:12.920Z"
   },
   {
    "duration": 20,
    "start_time": "2021-08-09T23:06:13.441Z"
   },
   {
    "duration": 29,
    "start_time": "2021-08-09T23:06:13.464Z"
   },
   {
    "duration": 21,
    "start_time": "2021-08-09T23:06:13.496Z"
   },
   {
    "duration": 41,
    "start_time": "2021-08-09T23:06:13.520Z"
   },
   {
    "duration": 32,
    "start_time": "2021-08-09T23:06:13.564Z"
   },
   {
    "duration": 17,
    "start_time": "2021-08-09T23:06:13.600Z"
   },
   {
    "duration": 4,
    "start_time": "2021-08-09T23:06:13.620Z"
   },
   {
    "duration": 12,
    "start_time": "2021-08-09T23:06:13.654Z"
   },
   {
    "duration": 18,
    "start_time": "2021-08-09T23:06:13.668Z"
   },
   {
    "duration": 13,
    "start_time": "2021-08-09T23:06:13.689Z"
   },
   {
    "duration": 10,
    "start_time": "2021-08-09T23:06:13.704Z"
   },
   {
    "duration": 53,
    "start_time": "2021-08-09T23:06:13.716Z"
   },
   {
    "duration": 7,
    "start_time": "2021-08-09T23:06:13.771Z"
   },
   {
    "duration": 11,
    "start_time": "2021-08-09T23:06:13.780Z"
   },
   {
    "duration": 12,
    "start_time": "2021-08-09T23:06:13.794Z"
   },
   {
    "duration": 130,
    "start_time": "2021-08-09T23:06:13.809Z"
   },
   {
    "duration": 80,
    "start_time": "2021-08-09T23:06:13.941Z"
   },
   {
    "duration": 30,
    "start_time": "2021-08-09T23:06:14.024Z"
   },
   {
    "duration": 14,
    "start_time": "2021-08-09T23:06:14.056Z"
   },
   {
    "duration": 151,
    "start_time": "2021-08-09T23:06:14.072Z"
   },
   {
    "duration": 52,
    "start_time": "2021-08-09T23:06:14.230Z"
   },
   {
    "duration": 32,
    "start_time": "2021-08-09T23:06:14.285Z"
   },
   {
    "duration": 51,
    "start_time": "2021-08-09T23:06:14.319Z"
   },
   {
    "duration": 14,
    "start_time": "2021-08-09T23:06:14.373Z"
   },
   {
    "duration": 20,
    "start_time": "2021-08-09T23:06:14.389Z"
   },
   {
    "duration": 14,
    "start_time": "2021-08-09T23:06:14.411Z"
   },
   {
    "duration": 20,
    "start_time": "2021-08-09T23:06:14.455Z"
   },
   {
    "duration": 47,
    "start_time": "2021-08-09T23:06:14.478Z"
   },
   {
    "duration": 79,
    "start_time": "2021-08-09T23:06:14.527Z"
   },
   {
    "duration": 18,
    "start_time": "2021-08-09T23:06:14.608Z"
   },
   {
    "duration": 36,
    "start_time": "2021-08-09T23:06:14.628Z"
   },
   {
    "duration": 14,
    "start_time": "2021-08-09T23:06:14.667Z"
   },
   {
    "duration": 71,
    "start_time": "2021-08-09T23:06:14.683Z"
   },
   {
    "duration": 35,
    "start_time": "2021-08-09T23:06:14.756Z"
   },
   {
    "duration": 21,
    "start_time": "2021-08-09T23:06:14.793Z"
   },
   {
    "duration": 6,
    "start_time": "2021-08-09T23:06:14.817Z"
   },
   {
    "duration": 39,
    "start_time": "2021-08-09T23:06:14.825Z"
   },
   {
    "duration": 10,
    "start_time": "2021-08-09T23:06:14.867Z"
   },
   {
    "duration": 15,
    "start_time": "2021-08-09T23:06:14.879Z"
   },
   {
    "duration": 14,
    "start_time": "2021-08-09T23:06:14.896Z"
   },
   {
    "duration": 42,
    "start_time": "2021-08-09T23:06:14.912Z"
   },
   {
    "duration": 573,
    "start_time": "2021-08-09T23:06:14.957Z"
   },
   {
    "duration": 545,
    "start_time": "2021-08-09T23:06:15.533Z"
   },
   {
    "duration": 589,
    "start_time": "2021-08-09T23:06:16.080Z"
   },
   {
    "duration": 557,
    "start_time": "2021-08-09T23:06:16.672Z"
   },
   {
    "duration": 552,
    "start_time": "2021-08-09T23:06:17.232Z"
   },
   {
    "duration": 14,
    "start_time": "2021-08-09T23:06:17.787Z"
   },
   {
    "duration": 9,
    "start_time": "2021-08-09T23:06:17.803Z"
   },
   {
    "duration": 13,
    "start_time": "2021-08-09T23:06:17.814Z"
   },
   {
    "duration": 37,
    "start_time": "2021-08-09T23:06:17.829Z"
   },
   {
    "duration": 8,
    "start_time": "2021-08-09T23:06:17.869Z"
   },
   {
    "duration": 30,
    "start_time": "2021-08-09T23:06:17.880Z"
   },
   {
    "duration": 5,
    "start_time": "2021-08-09T23:06:17.913Z"
   },
   {
    "duration": 46,
    "start_time": "2021-08-09T23:06:17.920Z"
   },
   {
    "duration": 24,
    "start_time": "2021-08-09T23:06:17.969Z"
   },
   {
    "duration": 41,
    "start_time": "2021-08-09T23:06:17.996Z"
   },
   {
    "duration": 22,
    "start_time": "2021-08-09T23:06:18.040Z"
   },
   {
    "duration": 40,
    "start_time": "2021-08-09T23:06:18.065Z"
   },
   {
    "duration": 9,
    "start_time": "2021-08-09T23:06:18.107Z"
   },
   {
    "duration": 22,
    "start_time": "2021-08-09T23:06:18.118Z"
   },
   {
    "duration": 84,
    "start_time": "2021-08-09T23:08:50.243Z"
   },
   {
    "duration": 18,
    "start_time": "2021-08-09T23:09:51.325Z"
   },
   {
    "duration": 10,
    "start_time": "2021-08-09T23:10:00.184Z"
   },
   {
    "duration": 20,
    "start_time": "2021-08-09T23:10:31.142Z"
   },
   {
    "duration": 6530,
    "start_time": "2021-08-09T23:11:40.373Z"
   },
   {
    "duration": 6,
    "start_time": "2021-08-09T23:11:52.346Z"
   },
   {
    "duration": 7,
    "start_time": "2021-08-09T23:12:06.801Z"
   },
   {
    "duration": 6,
    "start_time": "2021-08-09T23:12:20.631Z"
   },
   {
    "duration": 4,
    "start_time": "2021-08-09T23:12:56.928Z"
   },
   {
    "duration": 1451,
    "start_time": "2021-08-09T23:17:30.260Z"
   },
   {
    "duration": 511,
    "start_time": "2021-08-09T23:17:31.714Z"
   },
   {
    "duration": 22,
    "start_time": "2021-08-09T23:17:32.229Z"
   },
   {
    "duration": 51,
    "start_time": "2021-08-09T23:17:32.254Z"
   },
   {
    "duration": 24,
    "start_time": "2021-08-09T23:17:32.308Z"
   },
   {
    "duration": 21,
    "start_time": "2021-08-09T23:17:32.335Z"
   },
   {
    "duration": 35,
    "start_time": "2021-08-09T23:17:32.359Z"
   },
   {
    "duration": 18,
    "start_time": "2021-08-09T23:17:32.399Z"
   },
   {
    "duration": 5,
    "start_time": "2021-08-09T23:17:32.420Z"
   },
   {
    "duration": 32,
    "start_time": "2021-08-09T23:17:32.428Z"
   },
   {
    "duration": 32,
    "start_time": "2021-08-09T23:17:32.464Z"
   },
   {
    "duration": 20,
    "start_time": "2021-08-09T23:17:32.499Z"
   },
   {
    "duration": 36,
    "start_time": "2021-08-09T23:17:32.521Z"
   },
   {
    "duration": 38,
    "start_time": "2021-08-09T23:17:32.561Z"
   },
   {
    "duration": 26,
    "start_time": "2021-08-09T23:17:32.602Z"
   },
   {
    "duration": 24,
    "start_time": "2021-08-09T23:17:32.631Z"
   },
   {
    "duration": 29,
    "start_time": "2021-08-09T23:17:32.658Z"
   },
   {
    "duration": 107,
    "start_time": "2021-08-09T23:17:32.690Z"
   },
   {
    "duration": 87,
    "start_time": "2021-08-09T23:17:32.800Z"
   },
   {
    "duration": 20,
    "start_time": "2021-08-09T23:17:32.889Z"
   },
   {
    "duration": 17,
    "start_time": "2021-08-09T23:17:32.912Z"
   },
   {
    "duration": 146,
    "start_time": "2021-08-09T23:17:32.953Z"
   },
   {
    "duration": 57,
    "start_time": "2021-08-09T23:17:33.107Z"
   },
   {
    "duration": 34,
    "start_time": "2021-08-09T23:17:33.169Z"
   },
   {
    "duration": 56,
    "start_time": "2021-08-09T23:17:33.206Z"
   },
   {
    "duration": 15,
    "start_time": "2021-08-09T23:17:33.264Z"
   },
   {
    "duration": 34,
    "start_time": "2021-08-09T23:17:33.282Z"
   },
   {
    "duration": 33,
    "start_time": "2021-08-09T23:17:33.319Z"
   },
   {
    "duration": 29,
    "start_time": "2021-08-09T23:17:33.354Z"
   },
   {
    "duration": 14,
    "start_time": "2021-08-09T23:17:33.386Z"
   },
   {
    "duration": 63,
    "start_time": "2021-08-09T23:17:33.402Z"
   },
   {
    "duration": 52,
    "start_time": "2021-08-09T23:17:33.468Z"
   },
   {
    "duration": 33,
    "start_time": "2021-08-09T23:17:33.522Z"
   },
   {
    "duration": 13,
    "start_time": "2021-08-09T23:17:33.558Z"
   },
   {
    "duration": 35,
    "start_time": "2021-08-09T23:17:33.574Z"
   },
   {
    "duration": 57,
    "start_time": "2021-08-09T23:17:33.612Z"
   },
   {
    "duration": 35,
    "start_time": "2021-08-09T23:17:33.672Z"
   },
   {
    "duration": 51,
    "start_time": "2021-08-09T23:17:33.709Z"
   },
   {
    "duration": 6,
    "start_time": "2021-08-09T23:17:33.762Z"
   },
   {
    "duration": 23,
    "start_time": "2021-08-09T23:17:33.771Z"
   },
   {
    "duration": 21,
    "start_time": "2021-08-09T23:17:33.796Z"
   },
   {
    "duration": 26,
    "start_time": "2021-08-09T23:17:33.819Z"
   },
   {
    "duration": 32,
    "start_time": "2021-08-09T23:17:33.847Z"
   },
   {
    "duration": 18,
    "start_time": "2021-08-09T23:17:33.881Z"
   },
   {
    "duration": 582,
    "start_time": "2021-08-09T23:17:33.902Z"
   },
   {
    "duration": 567,
    "start_time": "2021-08-09T23:17:34.487Z"
   },
   {
    "duration": 563,
    "start_time": "2021-08-09T23:17:35.056Z"
   },
   {
    "duration": 552,
    "start_time": "2021-08-09T23:17:35.621Z"
   },
   {
    "duration": 548,
    "start_time": "2021-08-09T23:17:36.176Z"
   },
   {
    "duration": 14,
    "start_time": "2021-08-09T23:17:36.726Z"
   },
   {
    "duration": 15,
    "start_time": "2021-08-09T23:17:36.742Z"
   },
   {
    "duration": 15,
    "start_time": "2021-08-09T23:17:36.760Z"
   },
   {
    "duration": 33,
    "start_time": "2021-08-09T23:17:36.778Z"
   },
   {
    "duration": 22,
    "start_time": "2021-08-09T23:17:36.814Z"
   },
   {
    "duration": 30,
    "start_time": "2021-08-09T23:17:36.839Z"
   },
   {
    "duration": 6,
    "start_time": "2021-08-09T23:17:36.872Z"
   },
   {
    "duration": 19,
    "start_time": "2021-08-09T23:17:36.881Z"
   },
   {
    "duration": 11,
    "start_time": "2021-08-09T23:17:36.903Z"
   },
   {
    "duration": 23,
    "start_time": "2021-08-09T23:17:36.956Z"
   },
   {
    "duration": 10,
    "start_time": "2021-08-09T23:17:36.982Z"
   },
   {
    "duration": 70,
    "start_time": "2021-08-09T23:17:36.995Z"
   },
   {
    "duration": 9,
    "start_time": "2021-08-09T23:17:37.068Z"
   },
   {
    "duration": 9,
    "start_time": "2021-08-09T23:17:37.079Z"
   },
   {
    "duration": 1110,
    "start_time": "2021-08-10T07:24:32.758Z"
   },
   {
    "duration": 388,
    "start_time": "2021-08-10T07:24:33.870Z"
   },
   {
    "duration": 14,
    "start_time": "2021-08-10T07:24:34.260Z"
   },
   {
    "duration": 20,
    "start_time": "2021-08-10T07:24:34.276Z"
   },
   {
    "duration": 16,
    "start_time": "2021-08-10T07:24:34.298Z"
   },
   {
    "duration": 8,
    "start_time": "2021-08-10T07:24:34.315Z"
   },
   {
    "duration": 18,
    "start_time": "2021-08-10T07:24:34.325Z"
   },
   {
    "duration": 11,
    "start_time": "2021-08-10T07:24:34.345Z"
   },
   {
    "duration": 28,
    "start_time": "2021-08-10T07:24:34.358Z"
   },
   {
    "duration": 11,
    "start_time": "2021-08-10T07:24:34.388Z"
   },
   {
    "duration": 15,
    "start_time": "2021-08-10T07:24:34.401Z"
   },
   {
    "duration": 8,
    "start_time": "2021-08-10T07:24:34.417Z"
   },
   {
    "duration": 8,
    "start_time": "2021-08-10T07:24:34.427Z"
   },
   {
    "duration": 15,
    "start_time": "2021-08-10T07:24:34.437Z"
   },
   {
    "duration": 3,
    "start_time": "2021-08-10T07:24:34.454Z"
   },
   {
    "duration": 30,
    "start_time": "2021-08-10T07:24:34.458Z"
   },
   {
    "duration": 8,
    "start_time": "2021-08-10T07:24:34.490Z"
   },
   {
    "duration": 88,
    "start_time": "2021-08-10T07:24:34.500Z"
   },
   {
    "duration": 54,
    "start_time": "2021-08-10T07:24:34.590Z"
   },
   {
    "duration": 16,
    "start_time": "2021-08-10T07:24:34.645Z"
   },
   {
    "duration": 29,
    "start_time": "2021-08-10T07:24:34.662Z"
   },
   {
    "duration": 100,
    "start_time": "2021-08-10T07:24:34.693Z"
   },
   {
    "duration": 30,
    "start_time": "2021-08-10T07:24:34.798Z"
   },
   {
    "duration": 22,
    "start_time": "2021-08-10T07:24:34.831Z"
   },
   {
    "duration": 43,
    "start_time": "2021-08-10T07:24:34.855Z"
   },
   {
    "duration": 11,
    "start_time": "2021-08-10T07:24:34.900Z"
   },
   {
    "duration": 8,
    "start_time": "2021-08-10T07:24:34.913Z"
   },
   {
    "duration": 9,
    "start_time": "2021-08-10T07:24:34.923Z"
   },
   {
    "duration": 13,
    "start_time": "2021-08-10T07:24:34.934Z"
   },
   {
    "duration": 40,
    "start_time": "2021-08-10T07:24:34.948Z"
   },
   {
    "duration": 30,
    "start_time": "2021-08-10T07:24:34.990Z"
   },
   {
    "duration": 34,
    "start_time": "2021-08-10T07:24:35.022Z"
   },
   {
    "duration": 37,
    "start_time": "2021-08-10T07:24:35.058Z"
   },
   {
    "duration": 9,
    "start_time": "2021-08-10T07:24:35.097Z"
   },
   {
    "duration": 10,
    "start_time": "2021-08-10T07:24:35.107Z"
   },
   {
    "duration": 30,
    "start_time": "2021-08-10T07:24:35.118Z"
   },
   {
    "duration": 53,
    "start_time": "2021-08-10T07:24:35.150Z"
   },
   {
    "duration": 15,
    "start_time": "2021-08-10T07:24:35.205Z"
   },
   {
    "duration": 10,
    "start_time": "2021-08-10T07:24:35.222Z"
   },
   {
    "duration": 11,
    "start_time": "2021-08-10T07:24:35.233Z"
   },
   {
    "duration": 40,
    "start_time": "2021-08-10T07:24:35.246Z"
   },
   {
    "duration": 9,
    "start_time": "2021-08-10T07:24:35.288Z"
   },
   {
    "duration": 9,
    "start_time": "2021-08-10T07:24:35.299Z"
   },
   {
    "duration": 4,
    "start_time": "2021-08-10T07:24:35.310Z"
   },
   {
    "duration": 370,
    "start_time": "2021-08-10T07:24:35.316Z"
   },
   {
    "duration": 350,
    "start_time": "2021-08-10T07:24:35.688Z"
   },
   {
    "duration": 348,
    "start_time": "2021-08-10T07:24:36.039Z"
   },
   {
    "duration": 339,
    "start_time": "2021-08-10T07:24:36.388Z"
   },
   {
    "duration": 337,
    "start_time": "2021-08-10T07:24:36.728Z"
   },
   {
    "duration": 18,
    "start_time": "2021-08-10T07:24:37.066Z"
   },
   {
    "duration": 9,
    "start_time": "2021-08-10T07:24:37.087Z"
   },
   {
    "duration": 16,
    "start_time": "2021-08-10T07:24:37.098Z"
   },
   {
    "duration": 37,
    "start_time": "2021-08-10T07:24:37.116Z"
   },
   {
    "duration": 35,
    "start_time": "2021-08-10T07:24:37.155Z"
   },
   {
    "duration": 25,
    "start_time": "2021-08-10T07:24:37.192Z"
   },
   {
    "duration": 20,
    "start_time": "2021-08-10T07:24:37.219Z"
   },
   {
    "duration": 44,
    "start_time": "2021-08-10T07:24:37.241Z"
   },
   {
    "duration": 20,
    "start_time": "2021-08-10T07:24:37.287Z"
   },
   {
    "duration": 34,
    "start_time": "2021-08-10T07:24:37.308Z"
   },
   {
    "duration": 37,
    "start_time": "2021-08-10T07:24:37.344Z"
   },
   {
    "duration": 30,
    "start_time": "2021-08-10T07:24:37.383Z"
   },
   {
    "duration": 26,
    "start_time": "2021-08-10T07:24:37.414Z"
   },
   {
    "duration": 24,
    "start_time": "2021-08-10T07:24:37.442Z"
   }
  ],
  "kernelspec": {
   "display_name": "Python 3",
   "language": "python",
   "name": "python3"
  },
  "language_info": {
   "codemirror_mode": {
    "name": "ipython",
    "version": 3
   },
   "file_extension": ".py",
   "mimetype": "text/x-python",
   "name": "python",
   "nbconvert_exporter": "python",
   "pygments_lexer": "ipython3",
   "version": "3.8.10"
  },
  "toc": {
   "base_numbering": 1,
   "nav_menu": {},
   "number_sections": true,
   "sideBar": true,
   "skip_h1_title": true,
   "title_cell": "Table of Contents",
   "title_sidebar": "Contents",
   "toc_cell": false,
   "toc_position": {},
   "toc_section_display": true,
   "toc_window_display": false
  }
 },
 "nbformat": 4,
 "nbformat_minor": 2
}
