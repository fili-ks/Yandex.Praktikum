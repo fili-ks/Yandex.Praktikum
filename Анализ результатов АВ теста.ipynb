{
 "cells": [
  {
   "cell_type": "markdown",
   "metadata": {},
   "source": [
    "# Анализ результатов A/B теста "
   ]
  },
  {
   "cell_type": "markdown",
   "metadata": {},
   "source": [
    "### Описание проекта"
   ]
  },
  {
   "cell_type": "markdown",
   "metadata": {},
   "source": [
    "Вместе с отделом маркетинга мы подготовили список гипотез для увеличения выручки.\n",
    "Необходимо приоритизировать гипотезы, запустить A/B-тест и проанализировать результаты."
   ]
  },
  {
   "cell_type": "markdown",
   "metadata": {},
   "source": [
    "### Предобработка данных"
   ]
  },
  {
   "cell_type": "code",
   "execution_count": 1,
   "metadata": {},
   "outputs": [],
   "source": [
    "import pandas as pd\n",
    "import numpy as np\n",
    "import matplotlib.pyplot as plt\n",
    "import scipy.stats as stats\n",
    "import datetime as dt\n",
    "\n",
    "from pandas.plotting import register_matplotlib_converters\n",
    "register_matplotlib_converters()"
   ]
  },
  {
   "cell_type": "code",
   "execution_count": 2,
   "metadata": {},
   "outputs": [],
   "source": [
    "hypothesis = pd.read_csv('/datasets/hypothesis.csv')\n",
    "orders = pd.read_csv('/datasets/orders.csv')\n",
    "visitors = pd.read_csv('/datasets/visitors.csv')"
   ]
  },
  {
   "cell_type": "code",
   "execution_count": 3,
   "metadata": {},
   "outputs": [
    {
     "data": {
      "text/html": [
       "<div>\n",
       "<style scoped>\n",
       "    .dataframe tbody tr th:only-of-type {\n",
       "        vertical-align: middle;\n",
       "    }\n",
       "\n",
       "    .dataframe tbody tr th {\n",
       "        vertical-align: top;\n",
       "    }\n",
       "\n",
       "    .dataframe thead th {\n",
       "        text-align: right;\n",
       "    }\n",
       "</style>\n",
       "<table border=\"1\" class=\"dataframe\">\n",
       "  <thead>\n",
       "    <tr style=\"text-align: right;\">\n",
       "      <th></th>\n",
       "      <th>Hypothesis</th>\n",
       "      <th>Reach</th>\n",
       "      <th>Impact</th>\n",
       "      <th>Confidence</th>\n",
       "      <th>Efforts</th>\n",
       "    </tr>\n",
       "  </thead>\n",
       "  <tbody>\n",
       "    <tr>\n",
       "      <td>0</td>\n",
       "      <td>Добавить два новых канала привлечения трафика, что позволит привлекать на 30% больше пользователей</td>\n",
       "      <td>3</td>\n",
       "      <td>10</td>\n",
       "      <td>8</td>\n",
       "      <td>6</td>\n",
       "    </tr>\n",
       "    <tr>\n",
       "      <td>1</td>\n",
       "      <td>Запустить собственную службу доставки, что сократит срок доставки заказов</td>\n",
       "      <td>2</td>\n",
       "      <td>5</td>\n",
       "      <td>4</td>\n",
       "      <td>10</td>\n",
       "    </tr>\n",
       "    <tr>\n",
       "      <td>2</td>\n",
       "      <td>Добавить блоки рекомендаций товаров на сайт интернет магазина, чтобы повысить конверсию и средний чек заказа</td>\n",
       "      <td>8</td>\n",
       "      <td>3</td>\n",
       "      <td>7</td>\n",
       "      <td>3</td>\n",
       "    </tr>\n",
       "    <tr>\n",
       "      <td>3</td>\n",
       "      <td>Изменить структура категорий, что увеличит конверсию, т.к. пользователи быстрее найдут нужный товар</td>\n",
       "      <td>8</td>\n",
       "      <td>3</td>\n",
       "      <td>3</td>\n",
       "      <td>8</td>\n",
       "    </tr>\n",
       "    <tr>\n",
       "      <td>4</td>\n",
       "      <td>Изменить цвет фона главной страницы, чтобы увеличить вовлеченность пользователей</td>\n",
       "      <td>3</td>\n",
       "      <td>1</td>\n",
       "      <td>1</td>\n",
       "      <td>1</td>\n",
       "    </tr>\n",
       "  </tbody>\n",
       "</table>\n",
       "</div>"
      ],
      "text/plain": [
       "                                                                                                     Hypothesis  \\\n",
       "0            Добавить два новых канала привлечения трафика, что позволит привлекать на 30% больше пользователей   \n",
       "1                                     Запустить собственную службу доставки, что сократит срок доставки заказов   \n",
       "2  Добавить блоки рекомендаций товаров на сайт интернет магазина, чтобы повысить конверсию и средний чек заказа   \n",
       "3           Изменить структура категорий, что увеличит конверсию, т.к. пользователи быстрее найдут нужный товар   \n",
       "4                              Изменить цвет фона главной страницы, чтобы увеличить вовлеченность пользователей   \n",
       "\n",
       "   Reach  Impact  Confidence  Efforts  \n",
       "0      3      10           8        6  \n",
       "1      2       5           4       10  \n",
       "2      8       3           7        3  \n",
       "3      8       3           3        8  \n",
       "4      3       1           1        1  "
      ]
     },
     "execution_count": 3,
     "metadata": {},
     "output_type": "execute_result"
    }
   ],
   "source": [
    "pd.set_option('display.max_colwidth', 255)\n",
    "hypothesis.head()"
   ]
  },
  {
   "cell_type": "markdown",
   "metadata": {},
   "source": [
    "Датафрейм hypothesis содержит 9 гипотез по увеличению выручки интернет-магазина с указанными параметрами Reach, Impact, Confidence, Effort. "
   ]
  },
  {
   "cell_type": "markdown",
   "metadata": {},
   "source": [
    "- Hypothesis — краткое описание гипотезы;\n",
    "- Reach — охват пользователей по 10-балльной шкале;\n",
    "- Impact — влияние на пользователей по 10-балльной шкале;\n",
    "- Confidence — уверенность в гипотезе по 10-балльной шкале;\n",
    "- Efforts — затраты ресурсов на проверку гипотезы по 10-балльной шкале. Чем больше значение Efforts, тем дороже проверка гипотезы."
   ]
  },
  {
   "cell_type": "markdown",
   "metadata": {},
   "source": [
    "Для удобства приведем названия столбцов к единому регистру:"
   ]
  },
  {
   "cell_type": "code",
   "execution_count": 4,
   "metadata": {},
   "outputs": [],
   "source": [
    "hypothesis.columns = hypothesis.columns.str.lower()"
   ]
  },
  {
   "cell_type": "markdown",
   "metadata": {},
   "source": [
    "Результаты AB теста содержатся в датафреймах orders и visitors:"
   ]
  },
  {
   "cell_type": "code",
   "execution_count": 5,
   "metadata": {
    "scrolled": false
   },
   "outputs": [
    {
     "data": {
      "text/html": [
       "<div>\n",
       "<style scoped>\n",
       "    .dataframe tbody tr th:only-of-type {\n",
       "        vertical-align: middle;\n",
       "    }\n",
       "\n",
       "    .dataframe tbody tr th {\n",
       "        vertical-align: top;\n",
       "    }\n",
       "\n",
       "    .dataframe thead th {\n",
       "        text-align: right;\n",
       "    }\n",
       "</style>\n",
       "<table border=\"1\" class=\"dataframe\">\n",
       "  <thead>\n",
       "    <tr style=\"text-align: right;\">\n",
       "      <th></th>\n",
       "      <th>transactionId</th>\n",
       "      <th>visitorId</th>\n",
       "      <th>date</th>\n",
       "      <th>revenue</th>\n",
       "      <th>group</th>\n",
       "    </tr>\n",
       "  </thead>\n",
       "  <tbody>\n",
       "    <tr>\n",
       "      <td>0</td>\n",
       "      <td>3667963787</td>\n",
       "      <td>3312258926</td>\n",
       "      <td>2019-08-15</td>\n",
       "      <td>1650</td>\n",
       "      <td>B</td>\n",
       "    </tr>\n",
       "    <tr>\n",
       "      <td>1</td>\n",
       "      <td>2804400009</td>\n",
       "      <td>3642806036</td>\n",
       "      <td>2019-08-15</td>\n",
       "      <td>730</td>\n",
       "      <td>B</td>\n",
       "    </tr>\n",
       "    <tr>\n",
       "      <td>2</td>\n",
       "      <td>2961555356</td>\n",
       "      <td>4069496402</td>\n",
       "      <td>2019-08-15</td>\n",
       "      <td>400</td>\n",
       "      <td>A</td>\n",
       "    </tr>\n",
       "    <tr>\n",
       "      <td>3</td>\n",
       "      <td>3797467345</td>\n",
       "      <td>1196621759</td>\n",
       "      <td>2019-08-15</td>\n",
       "      <td>9759</td>\n",
       "      <td>B</td>\n",
       "    </tr>\n",
       "    <tr>\n",
       "      <td>4</td>\n",
       "      <td>2282983706</td>\n",
       "      <td>2322279887</td>\n",
       "      <td>2019-08-15</td>\n",
       "      <td>2308</td>\n",
       "      <td>B</td>\n",
       "    </tr>\n",
       "  </tbody>\n",
       "</table>\n",
       "</div>"
      ],
      "text/plain": [
       "   transactionId   visitorId        date  revenue group\n",
       "0     3667963787  3312258926  2019-08-15     1650     B\n",
       "1     2804400009  3642806036  2019-08-15      730     B\n",
       "2     2961555356  4069496402  2019-08-15      400     A\n",
       "3     3797467345  1196621759  2019-08-15     9759     B\n",
       "4     2282983706  2322279887  2019-08-15     2308     B"
      ]
     },
     "execution_count": 5,
     "metadata": {},
     "output_type": "execute_result"
    }
   ],
   "source": [
    "orders.head()"
   ]
  },
  {
   "cell_type": "markdown",
   "metadata": {},
   "source": [
    "В orders содержатся данные о сделанных заказах:"
   ]
  },
  {
   "cell_type": "markdown",
   "metadata": {},
   "source": [
    "- transactionId — идентификатор заказа;\n",
    "- visitorId — идентификатор пользователя, совершившего заказ;\n",
    "- date — дата, когда был совершён заказ;\n",
    "- revenue — выручка заказа;\n",
    "- group — группа A/B-теста, в которую попал заказ."
   ]
  },
  {
   "cell_type": "code",
   "execution_count": 6,
   "metadata": {},
   "outputs": [],
   "source": [
    "orders.columns = orders.columns.str.lower()"
   ]
  },
  {
   "cell_type": "code",
   "execution_count": 7,
   "metadata": {},
   "outputs": [
    {
     "name": "stdout",
     "output_type": "stream",
     "text": [
      "<class 'pandas.core.frame.DataFrame'>\n",
      "RangeIndex: 1197 entries, 0 to 1196\n",
      "Data columns (total 5 columns):\n",
      "transactionid    1197 non-null int64\n",
      "visitorid        1197 non-null int64\n",
      "date             1197 non-null object\n",
      "revenue          1197 non-null int64\n",
      "group            1197 non-null object\n",
      "dtypes: int64(3), object(2)\n",
      "memory usage: 46.9+ KB\n"
     ]
    }
   ],
   "source": [
    "orders.info()"
   ]
  },
  {
   "cell_type": "code",
   "execution_count": 8,
   "metadata": {
    "scrolled": false
   },
   "outputs": [
    {
     "data": {
      "text/html": [
       "<div>\n",
       "<style scoped>\n",
       "    .dataframe tbody tr th:only-of-type {\n",
       "        vertical-align: middle;\n",
       "    }\n",
       "\n",
       "    .dataframe tbody tr th {\n",
       "        vertical-align: top;\n",
       "    }\n",
       "\n",
       "    .dataframe thead th {\n",
       "        text-align: right;\n",
       "    }\n",
       "</style>\n",
       "<table border=\"1\" class=\"dataframe\">\n",
       "  <thead>\n",
       "    <tr style=\"text-align: right;\">\n",
       "      <th></th>\n",
       "      <th>visitorid</th>\n",
       "      <th>revenue</th>\n",
       "    </tr>\n",
       "    <tr>\n",
       "      <th>group</th>\n",
       "      <th></th>\n",
       "      <th></th>\n",
       "    </tr>\n",
       "  </thead>\n",
       "  <tbody>\n",
       "    <tr>\n",
       "      <td>A</td>\n",
       "      <td>503</td>\n",
       "      <td>4084803</td>\n",
       "    </tr>\n",
       "    <tr>\n",
       "      <td>B</td>\n",
       "      <td>586</td>\n",
       "      <td>5907760</td>\n",
       "    </tr>\n",
       "  </tbody>\n",
       "</table>\n",
       "</div>"
      ],
      "text/plain": [
       "       visitorid  revenue\n",
       "group                    \n",
       "A            503  4084803\n",
       "B            586  5907760"
      ]
     },
     "execution_count": 8,
     "metadata": {},
     "output_type": "execute_result"
    }
   ],
   "source": [
    "orders.groupby('group').agg({'visitorid' : 'nunique', 'revenue': 'sum'})"
   ]
  },
  {
   "cell_type": "markdown",
   "metadata": {},
   "source": [
    "В группе В больше пользователей и больше сумма выручки. На конверсию и средний чек это не влияет, все нормально. "
   ]
  },
  {
   "cell_type": "code",
   "execution_count": 9,
   "metadata": {},
   "outputs": [
    {
     "data": {
      "text/plain": [
       "group    58\n",
       "dtype: int64"
      ]
     },
     "execution_count": 9,
     "metadata": {},
     "output_type": "execute_result"
    }
   ],
   "source": [
    "orders.groupby('visitorid').agg({'group' : 'nunique'}).query('group == 2').count()"
   ]
  },
  {
   "cell_type": "markdown",
   "metadata": {},
   "source": [
    "58 человек попали в обе группы. Посмотрим, что в других таблицах, а потом примем решение, что можно с этим сделать."
   ]
  },
  {
   "cell_type": "markdown",
   "metadata": {},
   "source": [
    "Для удобства приведем поле date к нужному формату: "
   ]
  },
  {
   "cell_type": "code",
   "execution_count": 10,
   "metadata": {},
   "outputs": [],
   "source": [
    "orders['date'] = orders['date'].map(lambda x: dt.datetime.strptime(x, '%Y-%m-%d'))"
   ]
  },
  {
   "cell_type": "code",
   "execution_count": 11,
   "metadata": {},
   "outputs": [
    {
     "data": {
      "text/html": [
       "<div>\n",
       "<style scoped>\n",
       "    .dataframe tbody tr th:only-of-type {\n",
       "        vertical-align: middle;\n",
       "    }\n",
       "\n",
       "    .dataframe tbody tr th {\n",
       "        vertical-align: top;\n",
       "    }\n",
       "\n",
       "    .dataframe thead th {\n",
       "        text-align: right;\n",
       "    }\n",
       "</style>\n",
       "<table border=\"1\" class=\"dataframe\">\n",
       "  <thead>\n",
       "    <tr style=\"text-align: right;\">\n",
       "      <th></th>\n",
       "      <th>date</th>\n",
       "      <th>group</th>\n",
       "      <th>visitors</th>\n",
       "    </tr>\n",
       "  </thead>\n",
       "  <tbody>\n",
       "    <tr>\n",
       "      <td>0</td>\n",
       "      <td>2019-08-01</td>\n",
       "      <td>A</td>\n",
       "      <td>719</td>\n",
       "    </tr>\n",
       "    <tr>\n",
       "      <td>1</td>\n",
       "      <td>2019-08-02</td>\n",
       "      <td>A</td>\n",
       "      <td>619</td>\n",
       "    </tr>\n",
       "    <tr>\n",
       "      <td>2</td>\n",
       "      <td>2019-08-03</td>\n",
       "      <td>A</td>\n",
       "      <td>507</td>\n",
       "    </tr>\n",
       "    <tr>\n",
       "      <td>3</td>\n",
       "      <td>2019-08-04</td>\n",
       "      <td>A</td>\n",
       "      <td>717</td>\n",
       "    </tr>\n",
       "    <tr>\n",
       "      <td>4</td>\n",
       "      <td>2019-08-05</td>\n",
       "      <td>A</td>\n",
       "      <td>756</td>\n",
       "    </tr>\n",
       "  </tbody>\n",
       "</table>\n",
       "</div>"
      ],
      "text/plain": [
       "         date group  visitors\n",
       "0  2019-08-01     A       719\n",
       "1  2019-08-02     A       619\n",
       "2  2019-08-03     A       507\n",
       "3  2019-08-04     A       717\n",
       "4  2019-08-05     A       756"
      ]
     },
     "execution_count": 11,
     "metadata": {},
     "output_type": "execute_result"
    }
   ],
   "source": [
    "visitors.head()"
   ]
  },
  {
   "cell_type": "markdown",
   "metadata": {},
   "source": [
    "В visitors содержится информация о посетителях:"
   ]
  },
  {
   "cell_type": "markdown",
   "metadata": {},
   "source": [
    "- date — дата;\n",
    "- group — группа A/B-теста;\n",
    "- visitors — количество пользователей в указанную дату в указанной группе A/B-теста"
   ]
  },
  {
   "cell_type": "code",
   "execution_count": 12,
   "metadata": {},
   "outputs": [
    {
     "name": "stdout",
     "output_type": "stream",
     "text": [
      "<class 'pandas.core.frame.DataFrame'>\n",
      "RangeIndex: 62 entries, 0 to 61\n",
      "Data columns (total 3 columns):\n",
      "date        62 non-null object\n",
      "group       62 non-null object\n",
      "visitors    62 non-null int64\n",
      "dtypes: int64(1), object(2)\n",
      "memory usage: 1.6+ KB\n"
     ]
    }
   ],
   "source": [
    "visitors.info()"
   ]
  },
  {
   "cell_type": "code",
   "execution_count": 13,
   "metadata": {},
   "outputs": [],
   "source": [
    "visitors['date'] = visitors['date'].map(lambda x: dt.datetime.strptime(x, '%Y-%m-%d'))"
   ]
  },
  {
   "cell_type": "code",
   "execution_count": 14,
   "metadata": {
    "scrolled": true
   },
   "outputs": [
    {
     "data": {
      "text/html": [
       "<div>\n",
       "<style scoped>\n",
       "    .dataframe tbody tr th:only-of-type {\n",
       "        vertical-align: middle;\n",
       "    }\n",
       "\n",
       "    .dataframe tbody tr th {\n",
       "        vertical-align: top;\n",
       "    }\n",
       "\n",
       "    .dataframe thead th {\n",
       "        text-align: right;\n",
       "    }\n",
       "</style>\n",
       "<table border=\"1\" class=\"dataframe\">\n",
       "  <thead>\n",
       "    <tr style=\"text-align: right;\">\n",
       "      <th></th>\n",
       "      <th>visitors</th>\n",
       "    </tr>\n",
       "    <tr>\n",
       "      <th>group</th>\n",
       "      <th></th>\n",
       "    </tr>\n",
       "  </thead>\n",
       "  <tbody>\n",
       "    <tr>\n",
       "      <td>A</td>\n",
       "      <td>18736</td>\n",
       "    </tr>\n",
       "    <tr>\n",
       "      <td>B</td>\n",
       "      <td>18916</td>\n",
       "    </tr>\n",
       "  </tbody>\n",
       "</table>\n",
       "</div>"
      ],
      "text/plain": [
       "       visitors\n",
       "group          \n",
       "A         18736\n",
       "B         18916"
      ]
     },
     "execution_count": 14,
     "metadata": {},
     "output_type": "execute_result"
    }
   ],
   "source": [
    "visitors.groupby('group').agg({'visitors' : 'sum'})"
   ]
  },
  {
   "cell_type": "markdown",
   "metadata": {},
   "source": [
    "В группе В также больше количество посетителей."
   ]
  },
  {
   "cell_type": "markdown",
   "metadata": {},
   "source": [
    "Т.к. данные в visits агрегированные, то пользователей, попавших в обе группы мы исключить не можем."
   ]
  },
  {
   "cell_type": "markdown",
   "metadata": {},
   "source": [
    "#### Вывод"
   ]
  },
  {
   "cell_type": "markdown",
   "metadata": {},
   "source": [
    "Посмотрели данные, изменили формат данных (поле date), обнаружили, что 58 пользователей попало в обе группы. Но т.к. данные в таблице visits агрегированные, исключить этих пользователей мы не можем. "
   ]
  },
  {
   "cell_type": "markdown",
   "metadata": {},
   "source": [
    "### Приоритизация гипотез."
   ]
  },
  {
   "cell_type": "markdown",
   "metadata": {},
   "source": [
    "#### Примените фреймворк ICE для приоритизации гипотез. Отсортируйте их по убыванию приоритета."
   ]
  },
  {
   "cell_type": "code",
   "execution_count": 15,
   "metadata": {},
   "outputs": [],
   "source": [
    "hypothesis['ICE'] = round(( hypothesis['impact'] * hypothesis['confidence'] ) / hypothesis['efforts'], 2)"
   ]
  },
  {
   "cell_type": "code",
   "execution_count": 16,
   "metadata": {
    "scrolled": true
   },
   "outputs": [
    {
     "data": {
      "text/html": [
       "<div>\n",
       "<style scoped>\n",
       "    .dataframe tbody tr th:only-of-type {\n",
       "        vertical-align: middle;\n",
       "    }\n",
       "\n",
       "    .dataframe tbody tr th {\n",
       "        vertical-align: top;\n",
       "    }\n",
       "\n",
       "    .dataframe thead th {\n",
       "        text-align: right;\n",
       "    }\n",
       "</style>\n",
       "<table border=\"1\" class=\"dataframe\">\n",
       "  <thead>\n",
       "    <tr style=\"text-align: right;\">\n",
       "      <th></th>\n",
       "      <th>hypothesis</th>\n",
       "      <th>reach</th>\n",
       "      <th>impact</th>\n",
       "      <th>confidence</th>\n",
       "      <th>efforts</th>\n",
       "      <th>ICE</th>\n",
       "    </tr>\n",
       "  </thead>\n",
       "  <tbody>\n",
       "    <tr>\n",
       "      <td>8</td>\n",
       "      <td>Запустить акцию, дающую скидку на товар в день рождения</td>\n",
       "      <td>1</td>\n",
       "      <td>9</td>\n",
       "      <td>9</td>\n",
       "      <td>5</td>\n",
       "      <td>16.20</td>\n",
       "    </tr>\n",
       "    <tr>\n",
       "      <td>0</td>\n",
       "      <td>Добавить два новых канала привлечения трафика, что позволит привлекать на 30% больше пользователей</td>\n",
       "      <td>3</td>\n",
       "      <td>10</td>\n",
       "      <td>8</td>\n",
       "      <td>6</td>\n",
       "      <td>13.33</td>\n",
       "    </tr>\n",
       "    <tr>\n",
       "      <td>7</td>\n",
       "      <td>Добавить форму подписки на все основные страницы, чтобы собрать базу клиентов для email-рассылок</td>\n",
       "      <td>10</td>\n",
       "      <td>7</td>\n",
       "      <td>8</td>\n",
       "      <td>5</td>\n",
       "      <td>11.20</td>\n",
       "    </tr>\n",
       "    <tr>\n",
       "      <td>6</td>\n",
       "      <td>Показать на главной странице баннеры с актуальными акциями и распродажами, чтобы увеличить конверсию</td>\n",
       "      <td>5</td>\n",
       "      <td>3</td>\n",
       "      <td>8</td>\n",
       "      <td>3</td>\n",
       "      <td>8.00</td>\n",
       "    </tr>\n",
       "    <tr>\n",
       "      <td>2</td>\n",
       "      <td>Добавить блоки рекомендаций товаров на сайт интернет магазина, чтобы повысить конверсию и средний чек заказа</td>\n",
       "      <td>8</td>\n",
       "      <td>3</td>\n",
       "      <td>7</td>\n",
       "      <td>3</td>\n",
       "      <td>7.00</td>\n",
       "    </tr>\n",
       "    <tr>\n",
       "      <td>1</td>\n",
       "      <td>Запустить собственную службу доставки, что сократит срок доставки заказов</td>\n",
       "      <td>2</td>\n",
       "      <td>5</td>\n",
       "      <td>4</td>\n",
       "      <td>10</td>\n",
       "      <td>2.00</td>\n",
       "    </tr>\n",
       "    <tr>\n",
       "      <td>5</td>\n",
       "      <td>Добавить страницу отзывов клиентов о магазине, что позволит увеличить количество заказов</td>\n",
       "      <td>3</td>\n",
       "      <td>2</td>\n",
       "      <td>2</td>\n",
       "      <td>3</td>\n",
       "      <td>1.33</td>\n",
       "    </tr>\n",
       "    <tr>\n",
       "      <td>3</td>\n",
       "      <td>Изменить структура категорий, что увеличит конверсию, т.к. пользователи быстрее найдут нужный товар</td>\n",
       "      <td>8</td>\n",
       "      <td>3</td>\n",
       "      <td>3</td>\n",
       "      <td>8</td>\n",
       "      <td>1.12</td>\n",
       "    </tr>\n",
       "    <tr>\n",
       "      <td>4</td>\n",
       "      <td>Изменить цвет фона главной страницы, чтобы увеличить вовлеченность пользователей</td>\n",
       "      <td>3</td>\n",
       "      <td>1</td>\n",
       "      <td>1</td>\n",
       "      <td>1</td>\n",
       "      <td>1.00</td>\n",
       "    </tr>\n",
       "  </tbody>\n",
       "</table>\n",
       "</div>"
      ],
      "text/plain": [
       "                                                                                                     hypothesis  \\\n",
       "8                                                       Запустить акцию, дающую скидку на товар в день рождения   \n",
       "0            Добавить два новых канала привлечения трафика, что позволит привлекать на 30% больше пользователей   \n",
       "7              Добавить форму подписки на все основные страницы, чтобы собрать базу клиентов для email-рассылок   \n",
       "6          Показать на главной странице баннеры с актуальными акциями и распродажами, чтобы увеличить конверсию   \n",
       "2  Добавить блоки рекомендаций товаров на сайт интернет магазина, чтобы повысить конверсию и средний чек заказа   \n",
       "1                                     Запустить собственную службу доставки, что сократит срок доставки заказов   \n",
       "5                      Добавить страницу отзывов клиентов о магазине, что позволит увеличить количество заказов   \n",
       "3           Изменить структура категорий, что увеличит конверсию, т.к. пользователи быстрее найдут нужный товар   \n",
       "4                              Изменить цвет фона главной страницы, чтобы увеличить вовлеченность пользователей   \n",
       "\n",
       "   reach  impact  confidence  efforts    ICE  \n",
       "8      1       9           9        5  16.20  \n",
       "0      3      10           8        6  13.33  \n",
       "7     10       7           8        5  11.20  \n",
       "6      5       3           8        3   8.00  \n",
       "2      8       3           7        3   7.00  \n",
       "1      2       5           4       10   2.00  \n",
       "5      3       2           2        3   1.33  \n",
       "3      8       3           3        8   1.12  \n",
       "4      3       1           1        1   1.00  "
      ]
     },
     "execution_count": 16,
     "metadata": {},
     "output_type": "execute_result"
    }
   ],
   "source": [
    "hypothesis.sort_values(by = 'ICE', ascending = False)"
   ]
  },
  {
   "cell_type": "markdown",
   "metadata": {},
   "source": [
    "На первом месте по приоритету - \"**Запустить акцию, дающую скидку на товар в день рождения**\" <br>\n",
    "На последнем -\"**Изменить цвет фона главной страницы, чтобы увеличить вовлеченность пользователей**\""
   ]
  },
  {
   "cell_type": "markdown",
   "metadata": {},
   "source": [
    "####  Примените фреймворк RICE для приоритизации гипотез. Отсортируйте их по убыванию приоритета."
   ]
  },
  {
   "cell_type": "code",
   "execution_count": 17,
   "metadata": {},
   "outputs": [],
   "source": [
    "hypothesis['RICE'] = round((hypothesis['reach'] * hypothesis['impact'] * hypothesis['confidence'] ) /hypothesis['efforts'], 2)"
   ]
  },
  {
   "cell_type": "code",
   "execution_count": 18,
   "metadata": {},
   "outputs": [
    {
     "data": {
      "text/html": [
       "<div>\n",
       "<style scoped>\n",
       "    .dataframe tbody tr th:only-of-type {\n",
       "        vertical-align: middle;\n",
       "    }\n",
       "\n",
       "    .dataframe tbody tr th {\n",
       "        vertical-align: top;\n",
       "    }\n",
       "\n",
       "    .dataframe thead th {\n",
       "        text-align: right;\n",
       "    }\n",
       "</style>\n",
       "<table border=\"1\" class=\"dataframe\">\n",
       "  <thead>\n",
       "    <tr style=\"text-align: right;\">\n",
       "      <th></th>\n",
       "      <th>hypothesis</th>\n",
       "      <th>reach</th>\n",
       "      <th>impact</th>\n",
       "      <th>confidence</th>\n",
       "      <th>efforts</th>\n",
       "      <th>ICE</th>\n",
       "      <th>RICE</th>\n",
       "    </tr>\n",
       "  </thead>\n",
       "  <tbody>\n",
       "    <tr>\n",
       "      <td>7</td>\n",
       "      <td>Добавить форму подписки на все основные страницы, чтобы собрать базу клиентов для email-рассылок</td>\n",
       "      <td>10</td>\n",
       "      <td>7</td>\n",
       "      <td>8</td>\n",
       "      <td>5</td>\n",
       "      <td>11.20</td>\n",
       "      <td>112.0</td>\n",
       "    </tr>\n",
       "    <tr>\n",
       "      <td>2</td>\n",
       "      <td>Добавить блоки рекомендаций товаров на сайт интернет магазина, чтобы повысить конверсию и средний чек заказа</td>\n",
       "      <td>8</td>\n",
       "      <td>3</td>\n",
       "      <td>7</td>\n",
       "      <td>3</td>\n",
       "      <td>7.00</td>\n",
       "      <td>56.0</td>\n",
       "    </tr>\n",
       "    <tr>\n",
       "      <td>0</td>\n",
       "      <td>Добавить два новых канала привлечения трафика, что позволит привлекать на 30% больше пользователей</td>\n",
       "      <td>3</td>\n",
       "      <td>10</td>\n",
       "      <td>8</td>\n",
       "      <td>6</td>\n",
       "      <td>13.33</td>\n",
       "      <td>40.0</td>\n",
       "    </tr>\n",
       "    <tr>\n",
       "      <td>6</td>\n",
       "      <td>Показать на главной странице баннеры с актуальными акциями и распродажами, чтобы увеличить конверсию</td>\n",
       "      <td>5</td>\n",
       "      <td>3</td>\n",
       "      <td>8</td>\n",
       "      <td>3</td>\n",
       "      <td>8.00</td>\n",
       "      <td>40.0</td>\n",
       "    </tr>\n",
       "    <tr>\n",
       "      <td>8</td>\n",
       "      <td>Запустить акцию, дающую скидку на товар в день рождения</td>\n",
       "      <td>1</td>\n",
       "      <td>9</td>\n",
       "      <td>9</td>\n",
       "      <td>5</td>\n",
       "      <td>16.20</td>\n",
       "      <td>16.2</td>\n",
       "    </tr>\n",
       "    <tr>\n",
       "      <td>3</td>\n",
       "      <td>Изменить структура категорий, что увеличит конверсию, т.к. пользователи быстрее найдут нужный товар</td>\n",
       "      <td>8</td>\n",
       "      <td>3</td>\n",
       "      <td>3</td>\n",
       "      <td>8</td>\n",
       "      <td>1.12</td>\n",
       "      <td>9.0</td>\n",
       "    </tr>\n",
       "    <tr>\n",
       "      <td>1</td>\n",
       "      <td>Запустить собственную службу доставки, что сократит срок доставки заказов</td>\n",
       "      <td>2</td>\n",
       "      <td>5</td>\n",
       "      <td>4</td>\n",
       "      <td>10</td>\n",
       "      <td>2.00</td>\n",
       "      <td>4.0</td>\n",
       "    </tr>\n",
       "    <tr>\n",
       "      <td>5</td>\n",
       "      <td>Добавить страницу отзывов клиентов о магазине, что позволит увеличить количество заказов</td>\n",
       "      <td>3</td>\n",
       "      <td>2</td>\n",
       "      <td>2</td>\n",
       "      <td>3</td>\n",
       "      <td>1.33</td>\n",
       "      <td>4.0</td>\n",
       "    </tr>\n",
       "    <tr>\n",
       "      <td>4</td>\n",
       "      <td>Изменить цвет фона главной страницы, чтобы увеличить вовлеченность пользователей</td>\n",
       "      <td>3</td>\n",
       "      <td>1</td>\n",
       "      <td>1</td>\n",
       "      <td>1</td>\n",
       "      <td>1.00</td>\n",
       "      <td>3.0</td>\n",
       "    </tr>\n",
       "  </tbody>\n",
       "</table>\n",
       "</div>"
      ],
      "text/plain": [
       "                                                                                                     hypothesis  \\\n",
       "7              Добавить форму подписки на все основные страницы, чтобы собрать базу клиентов для email-рассылок   \n",
       "2  Добавить блоки рекомендаций товаров на сайт интернет магазина, чтобы повысить конверсию и средний чек заказа   \n",
       "0            Добавить два новых канала привлечения трафика, что позволит привлекать на 30% больше пользователей   \n",
       "6          Показать на главной странице баннеры с актуальными акциями и распродажами, чтобы увеличить конверсию   \n",
       "8                                                       Запустить акцию, дающую скидку на товар в день рождения   \n",
       "3           Изменить структура категорий, что увеличит конверсию, т.к. пользователи быстрее найдут нужный товар   \n",
       "1                                     Запустить собственную службу доставки, что сократит срок доставки заказов   \n",
       "5                      Добавить страницу отзывов клиентов о магазине, что позволит увеличить количество заказов   \n",
       "4                              Изменить цвет фона главной страницы, чтобы увеличить вовлеченность пользователей   \n",
       "\n",
       "   reach  impact  confidence  efforts    ICE   RICE  \n",
       "7     10       7           8        5  11.20  112.0  \n",
       "2      8       3           7        3   7.00   56.0  \n",
       "0      3      10           8        6  13.33   40.0  \n",
       "6      5       3           8        3   8.00   40.0  \n",
       "8      1       9           9        5  16.20   16.2  \n",
       "3      8       3           3        8   1.12    9.0  \n",
       "1      2       5           4       10   2.00    4.0  \n",
       "5      3       2           2        3   1.33    4.0  \n",
       "4      3       1           1        1   1.00    3.0  "
      ]
     },
     "execution_count": 18,
     "metadata": {},
     "output_type": "execute_result"
    }
   ],
   "source": [
    "hypothesis.sort_values(by = 'RICE', ascending = False)"
   ]
  },
  {
   "cell_type": "markdown",
   "metadata": {},
   "source": [
    "При применении RICE приоритеты сместились: на первом месте теперь \"**Добавить форму подписки на все основные страницы, чтобы собрать базу клиентов для email-рассылок**\". <br>\n",
    "На последнем все так же \"**Изменить цвет фона главной страницы, чтобы увеличить вовлеченность пользователей**\"\n"
   ]
  },
  {
   "cell_type": "markdown",
   "metadata": {},
   "source": [
    "Метод RICE, в отличие от метода ICE, включает в себя параметр Reach - скольких пользователей затронет изменение. С этим связано изменение приоритизации гипотез:<br>\n",
    "Запуск акции, дающую скидку на товар в день рождения (на первом месте по приоритизации методом ICE) затронет куда меньшее количество пользователей - 1 по шкале от 1 до 10, в то время как добавление формы подписки на все основные страницы, чтобы собрать базу клиентов для email-рассылок - затронет практически всех пользователей: параметр Reach данной гипотезы равен 10. "
   ]
  },
  {
   "cell_type": "markdown",
   "metadata": {},
   "source": [
    "#### Вывод"
   ]
  },
  {
   "cell_type": "markdown",
   "metadata": {},
   "source": [
    "Методами ICE и RICE провели приоритизацию гипотез: <br>\n",
    "- Метод  ICE: <br>\n",
    "На первом месте гипотеза о запуске акции, дающей скидку в день рождения, на последнем -изменение цвета фона главной страницы\n",
    "- Метод RICE: <br>\n",
    "На первом месте гипотеза о добавлении формы подписки на все основные страницы, чтобы собрать базу клиентов для email-рассылок, на последнем всё так же изменение цвета фона главной страницы\n",
    "       \n",
    "Разница в приоритизации этих двух методов заключается в том, что метод RICE, в отличие от метода ICE, учитывает количество пользователей, которых затронет это изменение. \n",
    "    "
   ]
  },
  {
   "cell_type": "markdown",
   "metadata": {},
   "source": [
    "### Анализ A/B-теста"
   ]
  },
  {
   "cell_type": "markdown",
   "metadata": {},
   "source": [
    "#### Постройте график кумулятивной выручки по группам."
   ]
  },
  {
   "cell_type": "markdown",
   "metadata": {},
   "source": [
    "Создадим массив уникальных пар значений дат и групп теста:"
   ]
  },
  {
   "cell_type": "code",
   "execution_count": 19,
   "metadata": {
    "scrolled": true
   },
   "outputs": [
    {
     "data": {
      "text/html": [
       "<div>\n",
       "<style scoped>\n",
       "    .dataframe tbody tr th:only-of-type {\n",
       "        vertical-align: middle;\n",
       "    }\n",
       "\n",
       "    .dataframe tbody tr th {\n",
       "        vertical-align: top;\n",
       "    }\n",
       "\n",
       "    .dataframe thead th {\n",
       "        text-align: right;\n",
       "    }\n",
       "</style>\n",
       "<table border=\"1\" class=\"dataframe\">\n",
       "  <thead>\n",
       "    <tr style=\"text-align: right;\">\n",
       "      <th></th>\n",
       "      <th>date</th>\n",
       "      <th>group</th>\n",
       "    </tr>\n",
       "  </thead>\n",
       "  <tbody>\n",
       "    <tr>\n",
       "      <td>0</td>\n",
       "      <td>2019-08-15</td>\n",
       "      <td>B</td>\n",
       "    </tr>\n",
       "    <tr>\n",
       "      <td>2</td>\n",
       "      <td>2019-08-15</td>\n",
       "      <td>A</td>\n",
       "    </tr>\n",
       "    <tr>\n",
       "      <td>45</td>\n",
       "      <td>2019-08-16</td>\n",
       "      <td>A</td>\n",
       "    </tr>\n",
       "    <tr>\n",
       "      <td>47</td>\n",
       "      <td>2019-08-16</td>\n",
       "      <td>B</td>\n",
       "    </tr>\n",
       "    <tr>\n",
       "      <td>55</td>\n",
       "      <td>2019-08-01</td>\n",
       "      <td>A</td>\n",
       "    </tr>\n",
       "    <tr>\n",
       "      <td>...</td>\n",
       "      <td>...</td>\n",
       "      <td>...</td>\n",
       "    </tr>\n",
       "    <tr>\n",
       "      <td>1068</td>\n",
       "      <td>2019-08-12</td>\n",
       "      <td>A</td>\n",
       "    </tr>\n",
       "    <tr>\n",
       "      <td>1114</td>\n",
       "      <td>2019-08-13</td>\n",
       "      <td>B</td>\n",
       "    </tr>\n",
       "    <tr>\n",
       "      <td>1116</td>\n",
       "      <td>2019-08-13</td>\n",
       "      <td>A</td>\n",
       "    </tr>\n",
       "    <tr>\n",
       "      <td>1149</td>\n",
       "      <td>2019-08-14</td>\n",
       "      <td>B</td>\n",
       "    </tr>\n",
       "    <tr>\n",
       "      <td>1150</td>\n",
       "      <td>2019-08-14</td>\n",
       "      <td>A</td>\n",
       "    </tr>\n",
       "  </tbody>\n",
       "</table>\n",
       "<p>62 rows × 2 columns</p>\n",
       "</div>"
      ],
      "text/plain": [
       "           date group\n",
       "0    2019-08-15     B\n",
       "2    2019-08-15     A\n",
       "45   2019-08-16     A\n",
       "47   2019-08-16     B\n",
       "55   2019-08-01     A\n",
       "...         ...   ...\n",
       "1068 2019-08-12     A\n",
       "1114 2019-08-13     B\n",
       "1116 2019-08-13     A\n",
       "1149 2019-08-14     B\n",
       "1150 2019-08-14     A\n",
       "\n",
       "[62 rows x 2 columns]"
      ]
     },
     "execution_count": 19,
     "metadata": {},
     "output_type": "execute_result"
    }
   ],
   "source": [
    "datesGroups = orders[['date', 'group']].drop_duplicates()\n",
    "datesGroups"
   ]
  },
  {
   "cell_type": "markdown",
   "metadata": {},
   "source": [
    "Соберём агрегированные кумулятивные по дням данные о заказах:"
   ]
  },
  {
   "cell_type": "code",
   "execution_count": 20,
   "metadata": {},
   "outputs": [],
   "source": [
    "ordersAggregated = datesGroups.apply(\n",
    "    lambda x: orders[np.logical_and(\n",
    "           orders['date'] <= x['date'], orders['group'] == x['group']\n",
    "    )].agg(\n",
    "        {'date' : 'max' \n",
    "         , 'group' : 'max'\n",
    "         , 'transactionid' : pd.Series.nunique\n",
    "         , 'visitorid' : pd.Series.nunique\n",
    "             , 'revenue' : 'sum'}), axis = 1\n",
    ").sort_values(by = ['date', 'group'])\n"
   ]
  },
  {
   "cell_type": "code",
   "execution_count": 21,
   "metadata": {
    "scrolled": true
   },
   "outputs": [
    {
     "data": {
      "text/html": [
       "<div>\n",
       "<style scoped>\n",
       "    .dataframe tbody tr th:only-of-type {\n",
       "        vertical-align: middle;\n",
       "    }\n",
       "\n",
       "    .dataframe tbody tr th {\n",
       "        vertical-align: top;\n",
       "    }\n",
       "\n",
       "    .dataframe thead th {\n",
       "        text-align: right;\n",
       "    }\n",
       "</style>\n",
       "<table border=\"1\" class=\"dataframe\">\n",
       "  <thead>\n",
       "    <tr style=\"text-align: right;\">\n",
       "      <th></th>\n",
       "      <th>date</th>\n",
       "      <th>group</th>\n",
       "      <th>transactionid</th>\n",
       "      <th>visitorid</th>\n",
       "      <th>revenue</th>\n",
       "    </tr>\n",
       "  </thead>\n",
       "  <tbody>\n",
       "    <tr>\n",
       "      <td>55</td>\n",
       "      <td>2019-08-01</td>\n",
       "      <td>A</td>\n",
       "      <td>24</td>\n",
       "      <td>20</td>\n",
       "      <td>148579</td>\n",
       "    </tr>\n",
       "    <tr>\n",
       "      <td>66</td>\n",
       "      <td>2019-08-01</td>\n",
       "      <td>B</td>\n",
       "      <td>21</td>\n",
       "      <td>20</td>\n",
       "      <td>101217</td>\n",
       "    </tr>\n",
       "    <tr>\n",
       "      <td>175</td>\n",
       "      <td>2019-08-02</td>\n",
       "      <td>A</td>\n",
       "      <td>44</td>\n",
       "      <td>38</td>\n",
       "      <td>242401</td>\n",
       "    </tr>\n",
       "    <tr>\n",
       "      <td>173</td>\n",
       "      <td>2019-08-02</td>\n",
       "      <td>B</td>\n",
       "      <td>45</td>\n",
       "      <td>43</td>\n",
       "      <td>266748</td>\n",
       "    </tr>\n",
       "    <tr>\n",
       "      <td>291</td>\n",
       "      <td>2019-08-03</td>\n",
       "      <td>A</td>\n",
       "      <td>68</td>\n",
       "      <td>62</td>\n",
       "      <td>354874</td>\n",
       "    </tr>\n",
       "    <tr>\n",
       "      <td>...</td>\n",
       "      <td>...</td>\n",
       "      <td>...</td>\n",
       "      <td>...</td>\n",
       "      <td>...</td>\n",
       "      <td>...</td>\n",
       "    </tr>\n",
       "    <tr>\n",
       "      <td>496</td>\n",
       "      <td>2019-08-29</td>\n",
       "      <td>B</td>\n",
       "      <td>596</td>\n",
       "      <td>544</td>\n",
       "      <td>5559398</td>\n",
       "    </tr>\n",
       "    <tr>\n",
       "      <td>730</td>\n",
       "      <td>2019-08-30</td>\n",
       "      <td>A</td>\n",
       "      <td>545</td>\n",
       "      <td>493</td>\n",
       "      <td>4022970</td>\n",
       "    </tr>\n",
       "    <tr>\n",
       "      <td>690</td>\n",
       "      <td>2019-08-30</td>\n",
       "      <td>B</td>\n",
       "      <td>620</td>\n",
       "      <td>567</td>\n",
       "      <td>5774631</td>\n",
       "    </tr>\n",
       "    <tr>\n",
       "      <td>958</td>\n",
       "      <td>2019-08-31</td>\n",
       "      <td>A</td>\n",
       "      <td>557</td>\n",
       "      <td>503</td>\n",
       "      <td>4084803</td>\n",
       "    </tr>\n",
       "    <tr>\n",
       "      <td>930</td>\n",
       "      <td>2019-08-31</td>\n",
       "      <td>B</td>\n",
       "      <td>640</td>\n",
       "      <td>586</td>\n",
       "      <td>5907760</td>\n",
       "    </tr>\n",
       "  </tbody>\n",
       "</table>\n",
       "<p>62 rows × 5 columns</p>\n",
       "</div>"
      ],
      "text/plain": [
       "          date group  transactionid  visitorid  revenue\n",
       "55  2019-08-01     A             24         20   148579\n",
       "66  2019-08-01     B             21         20   101217\n",
       "175 2019-08-02     A             44         38   242401\n",
       "173 2019-08-02     B             45         43   266748\n",
       "291 2019-08-03     A             68         62   354874\n",
       "..         ...   ...            ...        ...      ...\n",
       "496 2019-08-29     B            596        544  5559398\n",
       "730 2019-08-30     A            545        493  4022970\n",
       "690 2019-08-30     B            620        567  5774631\n",
       "958 2019-08-31     A            557        503  4084803\n",
       "930 2019-08-31     B            640        586  5907760\n",
       "\n",
       "[62 rows x 5 columns]"
      ]
     },
     "execution_count": 21,
     "metadata": {},
     "output_type": "execute_result"
    }
   ],
   "source": [
    "ordersAggregated"
   ]
  },
  {
   "cell_type": "markdown",
   "metadata": {},
   "source": [
    "Данные по визитам:"
   ]
  },
  {
   "cell_type": "code",
   "execution_count": 22,
   "metadata": {},
   "outputs": [],
   "source": [
    "visitorsAggregated = datesGroups.apply(\n",
    "    lambda x: visitors[np.logical_and(\n",
    "        visitors['date'] <= x['date'], visitors['group'] == x['group']\n",
    "                                     )].agg({'date' : 'max'\n",
    "                                             , 'group' : 'max'\n",
    "                                             , 'visitors' : 'sum'}\n",
    "                                           ), axis=1\n",
    ").sort_values(by=['date','group'])\n"
   ]
  },
  {
   "cell_type": "markdown",
   "metadata": {},
   "source": [
    "Данные по дням для разных групп теста:"
   ]
  },
  {
   "cell_type": "code",
   "execution_count": 23,
   "metadata": {},
   "outputs": [],
   "source": [
    "ordersADaily = (\n",
    "    orders[orders['group'] == 'A'][['date'\n",
    "                                    , 'transactionid'\n",
    "                                    , 'visitorid'\n",
    "                                    , 'revenue']]\n",
    "    .groupby('date', as_index=False)\n",
    "    .agg({'transactionid': pd.Series.nunique, 'revenue': 'sum'})\n",
    ")\n",
    "ordersADaily.columns = ['date', 'ordersPerDateA', 'revenuePerDateA']\n",
    "\n",
    "ordersBDaily = (\n",
    "    orders[orders['group'] == 'B'][['date'\n",
    "                                    , 'transactionid'\n",
    "                                    , 'visitorid'\n",
    "                                    , 'revenue']]\n",
    "    .groupby('date', as_index=False)\n",
    "    .agg({'transactionid': pd.Series.nunique, 'revenue': 'sum'})\n",
    ")\n",
    "ordersBDaily.columns = ['date', 'ordersPerDateB', 'revenuePerDateB']"
   ]
  },
  {
   "cell_type": "code",
   "execution_count": 24,
   "metadata": {},
   "outputs": [],
   "source": [
    "visitorsADaily = visitors[visitors['group'] == 'A'][['date', 'visitors']]\n",
    "visitorsADaily.columns = ['date', 'visitorsPerDateA']\n",
    "\n",
    "\n",
    "visitorsBDaily = visitors[visitors['group'] == 'B'][['date', 'visitors']]\n",
    "visitorsBDaily.columns = ['date', 'visitorsPerDateB']"
   ]
  },
  {
   "cell_type": "markdown",
   "metadata": {},
   "source": [
    "Объединяем агрегированные данные по заказам и визитам:"
   ]
  },
  {
   "cell_type": "code",
   "execution_count": 25,
   "metadata": {},
   "outputs": [],
   "source": [
    "cumulativeData = ordersAggregated.merge(visitorsAggregated\n",
    "                                        , left_on = ['date', 'group']\n",
    "                                        , right_on = ['date', 'group'])"
   ]
  },
  {
   "cell_type": "markdown",
   "metadata": {},
   "source": [
    "Для удобства переименуем колонки:"
   ]
  },
  {
   "cell_type": "code",
   "execution_count": 26,
   "metadata": {},
   "outputs": [],
   "source": [
    "cumulativeData.columns = ['date', 'group', 'orders', 'buyers', 'revenue', 'visitors']"
   ]
  },
  {
   "cell_type": "code",
   "execution_count": 27,
   "metadata": {
    "scrolled": true
   },
   "outputs": [
    {
     "data": {
      "text/html": [
       "<div>\n",
       "<style scoped>\n",
       "    .dataframe tbody tr th:only-of-type {\n",
       "        vertical-align: middle;\n",
       "    }\n",
       "\n",
       "    .dataframe tbody tr th {\n",
       "        vertical-align: top;\n",
       "    }\n",
       "\n",
       "    .dataframe thead th {\n",
       "        text-align: right;\n",
       "    }\n",
       "</style>\n",
       "<table border=\"1\" class=\"dataframe\">\n",
       "  <thead>\n",
       "    <tr style=\"text-align: right;\">\n",
       "      <th></th>\n",
       "      <th>date</th>\n",
       "      <th>group</th>\n",
       "      <th>orders</th>\n",
       "      <th>buyers</th>\n",
       "      <th>revenue</th>\n",
       "      <th>visitors</th>\n",
       "    </tr>\n",
       "  </thead>\n",
       "  <tbody>\n",
       "    <tr>\n",
       "      <td>0</td>\n",
       "      <td>2019-08-01</td>\n",
       "      <td>A</td>\n",
       "      <td>24</td>\n",
       "      <td>20</td>\n",
       "      <td>148579</td>\n",
       "      <td>719</td>\n",
       "    </tr>\n",
       "    <tr>\n",
       "      <td>1</td>\n",
       "      <td>2019-08-01</td>\n",
       "      <td>B</td>\n",
       "      <td>21</td>\n",
       "      <td>20</td>\n",
       "      <td>101217</td>\n",
       "      <td>713</td>\n",
       "    </tr>\n",
       "    <tr>\n",
       "      <td>2</td>\n",
       "      <td>2019-08-02</td>\n",
       "      <td>A</td>\n",
       "      <td>44</td>\n",
       "      <td>38</td>\n",
       "      <td>242401</td>\n",
       "      <td>1338</td>\n",
       "    </tr>\n",
       "    <tr>\n",
       "      <td>3</td>\n",
       "      <td>2019-08-02</td>\n",
       "      <td>B</td>\n",
       "      <td>45</td>\n",
       "      <td>43</td>\n",
       "      <td>266748</td>\n",
       "      <td>1294</td>\n",
       "    </tr>\n",
       "    <tr>\n",
       "      <td>4</td>\n",
       "      <td>2019-08-03</td>\n",
       "      <td>A</td>\n",
       "      <td>68</td>\n",
       "      <td>62</td>\n",
       "      <td>354874</td>\n",
       "      <td>1845</td>\n",
       "    </tr>\n",
       "  </tbody>\n",
       "</table>\n",
       "</div>"
      ],
      "text/plain": [
       "        date group  orders  buyers  revenue  visitors\n",
       "0 2019-08-01     A      24      20   148579       719\n",
       "1 2019-08-01     B      21      20   101217       713\n",
       "2 2019-08-02     A      44      38   242401      1338\n",
       "3 2019-08-02     B      45      43   266748      1294\n",
       "4 2019-08-03     A      68      62   354874      1845"
      ]
     },
     "execution_count": 27,
     "metadata": {},
     "output_type": "execute_result"
    }
   ],
   "source": [
    "cumulativeData.head()"
   ]
  },
  {
   "cell_type": "markdown",
   "metadata": {},
   "source": [
    "Данные по выручке для разных групп теста:"
   ]
  },
  {
   "cell_type": "code",
   "execution_count": 28,
   "metadata": {
    "scrolled": true
   },
   "outputs": [
    {
     "data": {
      "text/html": [
       "<div>\n",
       "<style scoped>\n",
       "    .dataframe tbody tr th:only-of-type {\n",
       "        vertical-align: middle;\n",
       "    }\n",
       "\n",
       "    .dataframe tbody tr th {\n",
       "        vertical-align: top;\n",
       "    }\n",
       "\n",
       "    .dataframe thead th {\n",
       "        text-align: right;\n",
       "    }\n",
       "</style>\n",
       "<table border=\"1\" class=\"dataframe\">\n",
       "  <thead>\n",
       "    <tr style=\"text-align: right;\">\n",
       "      <th></th>\n",
       "      <th>date</th>\n",
       "      <th>revenue</th>\n",
       "      <th>orders</th>\n",
       "    </tr>\n",
       "  </thead>\n",
       "  <tbody>\n",
       "    <tr>\n",
       "      <td>0</td>\n",
       "      <td>2019-08-01</td>\n",
       "      <td>148579</td>\n",
       "      <td>24</td>\n",
       "    </tr>\n",
       "    <tr>\n",
       "      <td>2</td>\n",
       "      <td>2019-08-02</td>\n",
       "      <td>242401</td>\n",
       "      <td>44</td>\n",
       "    </tr>\n",
       "    <tr>\n",
       "      <td>4</td>\n",
       "      <td>2019-08-03</td>\n",
       "      <td>354874</td>\n",
       "      <td>68</td>\n",
       "    </tr>\n",
       "    <tr>\n",
       "      <td>6</td>\n",
       "      <td>2019-08-04</td>\n",
       "      <td>425699</td>\n",
       "      <td>84</td>\n",
       "    </tr>\n",
       "    <tr>\n",
       "      <td>8</td>\n",
       "      <td>2019-08-05</td>\n",
       "      <td>549917</td>\n",
       "      <td>109</td>\n",
       "    </tr>\n",
       "  </tbody>\n",
       "</table>\n",
       "</div>"
      ],
      "text/plain": [
       "        date  revenue  orders\n",
       "0 2019-08-01   148579      24\n",
       "2 2019-08-02   242401      44\n",
       "4 2019-08-03   354874      68\n",
       "6 2019-08-04   425699      84\n",
       "8 2019-08-05   549917     109"
      ]
     },
     "execution_count": 28,
     "metadata": {},
     "output_type": "execute_result"
    }
   ],
   "source": [
    "cumulativeRevenueA = cumulativeData[cumulativeData['group']=='A'][['date','revenue', 'orders']]\n",
    "cumulativeRevenueB = cumulativeData[cumulativeData['group']=='B'][['date','revenue', 'orders']]\n",
    "\n",
    "cumulativeRevenueA.head()"
   ]
  },
  {
   "cell_type": "markdown",
   "metadata": {},
   "source": [
    "Построим график кумулятивной выручки по группам:"
   ]
  },
  {
   "cell_type": "code",
   "execution_count": 29,
   "metadata": {},
   "outputs": [
    {
     "data": {
      "image/png": "[encoded data removed]",
      "text/plain": [
       "<Figure size 432x288 with 1 Axes>"
      ]
     },
     "metadata": {
      "needs_background": "light"
     },
     "output_type": "display_data"
    }
   ],
   "source": [
    "plt.plot(cumulativeRevenueA['date'], cumulativeRevenueA['revenue'], label='A')\n",
    "plt.plot(cumulativeRevenueB['date'], cumulativeRevenueB['revenue'], label='B')\n",
    "plt.legend() \n",
    "plt.title('Изменение кумулятивной выручки по группам')\n",
    "plt.xlabel('Дата')\n",
    "plt.ylabel('Кумулятивная выручка')\n",
    "plt.xticks(rotation=45, ha='right');\n"
   ]
  },
  {
   "cell_type": "markdown",
   "metadata": {},
   "source": [
    "Как видно по графику, выручка в группе В резко начала увеличиваться по сравнению с выручкой группы А: рост выручки в этой группе был практически равномерным. "
   ]
  },
  {
   "cell_type": "markdown",
   "metadata": {},
   "source": [
    "#### Постройте график кумулятивного среднего чека по группам. Сделайте выводы и предположения"
   ]
  },
  {
   "cell_type": "markdown",
   "metadata": {},
   "source": [
    "Построим график кумулятивного среднего чека по группам, для этого разделим выручку на количество заказов:"
   ]
  },
  {
   "cell_type": "code",
   "execution_count": 30,
   "metadata": {
    "scrolled": true
   },
   "outputs": [
    {
     "data": {
      "image/png": "[encoded data removed]",
      "text/plain": [
       "<Figure size 432x288 with 1 Axes>"
      ]
     },
     "metadata": {
      "needs_background": "light"
     },
     "output_type": "display_data"
    }
   ],
   "source": [
    "plt.plot(cumulativeRevenueA['date'], cumulativeRevenueA['revenue']/cumulativeRevenueA['orders'], label='A')\n",
    "plt.plot(cumulativeRevenueB['date'], cumulativeRevenueB['revenue']/cumulativeRevenueB['orders'], label='B')\n",
    "plt.legend() \n",
    "plt.title('Изменение кумулятивного среднего чека по группам')\n",
    "plt.xlabel('Дата')\n",
    "plt.ylabel('Средний чек')\n",
    "plt.xticks(rotation=45, ha='right');"
   ]
  },
  {
   "cell_type": "markdown",
   "metadata": {},
   "source": [
    "Средний чек в группе А в начале показывал рост, но к середине теста начал постепенно незначительно снижаться - но в целом сильных изменений не претерпевал. <br>\n",
    "А вот в группе В этот показатель во второй половине экспримента показал резкий рост с постепенным снижением, но всё же показатели остались выше, чем в группе А."
   ]
  },
  {
   "cell_type": "markdown",
   "metadata": {},
   "source": [
    "#### Постройте график относительного изменения кумулятивного среднего чека группы B к группе A. Сделайте выводы и предположения."
   ]
  },
  {
   "cell_type": "markdown",
   "metadata": {},
   "source": [
    "Объединим данные по кумулятивной выручке для разных групп:"
   ]
  },
  {
   "cell_type": "code",
   "execution_count": 31,
   "metadata": {},
   "outputs": [],
   "source": [
    "mergedCumulativeRevenue = cumulativeRevenueA.merge(cumulativeRevenueB\n",
    "                                                   , left_on='date'\n",
    "                                                   , right_on='date'\n",
    "                                                   , how='left'\n",
    "                                                   , suffixes=['A', 'B']) \n"
   ]
  },
  {
   "cell_type": "markdown",
   "metadata": {},
   "source": [
    "Построим график относительного изменения кумулятивного среднего чека группы B к группе A:"
   ]
  },
  {
   "cell_type": "code",
   "execution_count": 32,
   "metadata": {},
   "outputs": [
    {
     "data": {
      "image/png": "[encoded data removed]",
      "text/plain": [
       "<Figure size 432x288 with 1 Axes>"
      ]
     },
     "metadata": {
      "needs_background": "light"
     },
     "output_type": "display_data"
    }
   ],
   "source": [
    "\n",
    "plt.plot(mergedCumulativeRevenue['date']\n",
    "         , (mergedCumulativeRevenue['revenueB']/mergedCumulativeRevenue['ordersB']) /\n",
    "         (mergedCumulativeRevenue['revenueA']/mergedCumulativeRevenue['ordersA'])-1)\n",
    "\n",
    "\n",
    "plt.title('Относительное изменение кумулятивного среднего чека группы B к группе A')\n",
    "plt.xlabel('Дата')\n",
    "plt.ylabel('Относительное различие')\n",
    "plt.axhline(y=0, color='black', linestyle='--')\n",
    "plt.xticks(rotation=45, ha='right');"
   ]
  },
  {
   "cell_type": "markdown",
   "metadata": {},
   "source": [
    "Группа B лишь в начале и середине эксперимента была хуже группы A по среднему чеку, но в целом средний чек в группе В выше."
   ]
  },
  {
   "cell_type": "markdown",
   "metadata": {},
   "source": [
    "#### Постройте график кумулятивной конверсии по группам. Сделайте выводы и предположения."
   ]
  },
  {
   "cell_type": "markdown",
   "metadata": {},
   "source": [
    "Посчитаем конверсию для двух групп: "
   ]
  },
  {
   "cell_type": "code",
   "execution_count": 33,
   "metadata": {},
   "outputs": [],
   "source": [
    "cumulativeData['conversion'] = cumulativeData['orders']/cumulativeData['visitors']\n",
    "cumulativeDataA = cumulativeData[cumulativeData['group']=='A']\n",
    "cumulativeDataB = cumulativeData[cumulativeData['group']=='B']\n"
   ]
  },
  {
   "cell_type": "markdown",
   "metadata": {},
   "source": [
    "Построим график кумулятивной конверсии по группам:"
   ]
  },
  {
   "cell_type": "code",
   "execution_count": 34,
   "metadata": {},
   "outputs": [
    {
     "data": {
      "image/png": "[encoded data removed]",
      "text/plain": [
       "<Figure size 432x288 with 1 Axes>"
      ]
     },
     "metadata": {
      "needs_background": "light"
     },
     "output_type": "display_data"
    }
   ],
   "source": [
    "plt.plot(cumulativeDataA['date'], cumulativeDataA['conversion'], label='A')\n",
    "plt.plot(cumulativeDataB['date'], cumulativeDataB['conversion'], label='B')\n",
    "plt.legend()\n",
    "plt.title('Относительное изменение кумулятивной конверсии группы B к группе A')\n",
    "plt.xlabel('Дата')\n",
    "plt.ylabel('Кумулятивная конверсия')\n",
    "\n",
    "plt.axis()\n",
    "plt.xticks(rotation=45, ha='right');"
   ]
  },
  {
   "cell_type": "markdown",
   "metadata": {},
   "source": [
    "В начале теста были колебания конверсии в обеих группах. Конверсия в группе А была лучше только в самом начале эксперимента. Далее конверсия в группе А начала снижаться, а в группе В, наоборот, расти. "
   ]
  },
  {
   "cell_type": "markdown",
   "metadata": {},
   "source": [
    "#### Постройте график относительного изменения кумулятивной конверсии группы B к группе A. Сделайте выводы и предположения."
   ]
  },
  {
   "cell_type": "markdown",
   "metadata": {},
   "source": [
    "Объединим данные по двум группам и построим график:"
   ]
  },
  {
   "cell_type": "code",
   "execution_count": 35,
   "metadata": {
    "scrolled": true
   },
   "outputs": [
    {
     "data": {
      "image/png": "[encoded data removed]",
      "text/plain": [
       "<Figure size 432x288 with 1 Axes>"
      ]
     },
     "metadata": {
      "needs_background": "light"
     },
     "output_type": "display_data"
    }
   ],
   "source": [
    "mergedCumulativeConversions = cumulativeDataA[['date'\n",
    "                                               , 'conversion']].merge(\n",
    "    cumulativeDataB[['date', 'conversion']]\n",
    "    , left_on = 'date'\n",
    "    , right_on = 'date'\n",
    "    , how='left'\n",
    "    , suffixes=['A', 'B'])\n",
    "\n",
    "plt.plot(mergedCumulativeConversions['date'], mergedCumulativeConversions['conversionB']/mergedCumulativeConversions['conversionA']-1)\n",
    "plt.title('Относительное изменение кумулятивного среднего чека группы B к группе A')\n",
    "plt.xlabel('Дата')\n",
    "plt.ylabel('Относительное различие')\n",
    "\n",
    "plt.axhline(y=0, color='black', linestyle='--')\n",
    "plt.axhline(y=0.2, color='grey', linestyle='--')\n",
    "plt.xticks(rotation=45, ha='right');\n"
   ]
  },
  {
   "cell_type": "markdown",
   "metadata": {},
   "source": [
    "Этот график подтверждает предыдущий вывод. Конверсия в группе А была выше только в начале эксперимента, далее показатели группы В были стабильно выше. "
   ]
  },
  {
   "cell_type": "markdown",
   "metadata": {},
   "source": [
    "#### Постройте точечный график количества заказов по пользователям. Сделайте выводы и предположения."
   ]
  },
  {
   "cell_type": "markdown",
   "metadata": {},
   "source": [
    "Посчитаем колиество заказов по пользователям и отсортируем их:"
   ]
  },
  {
   "cell_type": "code",
   "execution_count": 36,
   "metadata": {},
   "outputs": [
    {
     "data": {
      "text/html": [
       "<div>\n",
       "<style scoped>\n",
       "    .dataframe tbody tr th:only-of-type {\n",
       "        vertical-align: middle;\n",
       "    }\n",
       "\n",
       "    .dataframe tbody tr th {\n",
       "        vertical-align: top;\n",
       "    }\n",
       "\n",
       "    .dataframe thead th {\n",
       "        text-align: right;\n",
       "    }\n",
       "</style>\n",
       "<table border=\"1\" class=\"dataframe\">\n",
       "  <thead>\n",
       "    <tr style=\"text-align: right;\">\n",
       "      <th></th>\n",
       "      <th>visitorid</th>\n",
       "      <th>orders</th>\n",
       "    </tr>\n",
       "  </thead>\n",
       "  <tbody>\n",
       "    <tr>\n",
       "      <td>1023</td>\n",
       "      <td>4256040402</td>\n",
       "      <td>11</td>\n",
       "    </tr>\n",
       "    <tr>\n",
       "      <td>591</td>\n",
       "      <td>2458001652</td>\n",
       "      <td>11</td>\n",
       "    </tr>\n",
       "    <tr>\n",
       "      <td>569</td>\n",
       "      <td>2378935119</td>\n",
       "      <td>9</td>\n",
       "    </tr>\n",
       "    <tr>\n",
       "      <td>487</td>\n",
       "      <td>2038680547</td>\n",
       "      <td>8</td>\n",
       "    </tr>\n",
       "    <tr>\n",
       "      <td>44</td>\n",
       "      <td>199603092</td>\n",
       "      <td>5</td>\n",
       "    </tr>\n",
       "  </tbody>\n",
       "</table>\n",
       "</div>"
      ],
      "text/plain": [
       "       visitorid  orders\n",
       "1023  4256040402      11\n",
       "591   2458001652      11\n",
       "569   2378935119       9\n",
       "487   2038680547       8\n",
       "44     199603092       5"
      ]
     },
     "execution_count": 36,
     "metadata": {},
     "output_type": "execute_result"
    }
   ],
   "source": [
    "ordersByUsers = (\n",
    "    orders\n",
    "    .groupby('visitorid', as_index=False)\n",
    "    .agg({'transactionid': pd.Series.nunique})\n",
    ")\n",
    "\n",
    "ordersByUsers.columns = ['visitorid', 'orders']\n",
    "\n",
    "ordersByUsers.sort_values(by='orders', ascending=False).head()"
   ]
  },
  {
   "cell_type": "markdown",
   "metadata": {},
   "source": [
    "Построим точечный график:"
   ]
  },
  {
   "cell_type": "code",
   "execution_count": 37,
   "metadata": {
    "scrolled": true
   },
   "outputs": [
    {
     "data": {
      "image/png": "[encoded data removed]",
      "text/plain": [
       "<Figure size 432x288 with 1 Axes>"
      ]
     },
     "metadata": {
      "needs_background": "light"
     },
     "output_type": "display_data"
    }
   ],
   "source": [
    "x_values = pd.Series(range(0, len(ordersByUsers)))\n",
    "\n",
    "plt.scatter(x_values, ordersByUsers['orders']) \n",
    "plt.title('Количество заказов по пользователям')\n",
    "plt.xlabel('Пользователи')\n",
    "plt.ylabel('Количество заказов');"
   ]
  },
  {
   "cell_type": "markdown",
   "metadata": {},
   "source": [
    "Большинство покупателей заказывали только один раз. Но много пользователей с 2-4 заказами. Их точная доля не ясна — непонятно, считать их аномалиями или нет."
   ]
  },
  {
   "cell_type": "markdown",
   "metadata": {},
   "source": [
    "#### Посчитайте 95-й и 99-й перцентили количества заказов на пользователя. Выберите границу для определения аномальных пользователей."
   ]
  },
  {
   "cell_type": "code",
   "execution_count": 38,
   "metadata": {},
   "outputs": [
    {
     "name": "stdout",
     "output_type": "stream",
     "text": [
      "[1. 2. 4.]\n"
     ]
    }
   ],
   "source": [
    "print(np.percentile(ordersByUsers['orders'], [90, 95, 99])) "
   ]
  },
  {
   "cell_type": "markdown",
   "metadata": {},
   "source": [
    "Большинство покупателей заказывали только один раз. Не более 5% заказывают больше двух раз  и не более 1% заказывают чаще четырёх раз.\n",
    "Разумно выбрать 4 заказа на одного пользователя за нижнюю границу числа заказов, и отсеять аномальных пользователей по ней. "
   ]
  },
  {
   "cell_type": "markdown",
   "metadata": {},
   "source": [
    "#### Постройте точечный график стоимостей заказов. Сделайте выводы и предположения."
   ]
  },
  {
   "cell_type": "code",
   "execution_count": 39,
   "metadata": {},
   "outputs": [
    {
     "data": {
      "image/png": "[encoded data removed]",
      "text/plain": [
       "<Figure size 432x288 with 1 Axes>"
      ]
     },
     "metadata": {
      "needs_background": "light"
     },
     "output_type": "display_data"
    }
   ],
   "source": [
    "x_values = pd.Series(range(0, len(orders['revenue'])))\n",
    "\n",
    "\n",
    "plt.scatter(x_values, orders['revenue']) \n",
    "plt.title('Относительное изменение кумулятивного среднего чека группы B к группе A')\n",
    "plt.xlabel('Заказы')\n",
    "plt.ylabel('Средний чек');"
   ]
  },
  {
   "cell_type": "markdown",
   "metadata": {},
   "source": [
    "Заказов стоимостью 200 000 немного - в основном все заказы ниже этой сумме. Есть несколько выбросов выше. <br>\n",
    "Изменим диапазон значений по оси ОУ: "
   ]
  },
  {
   "cell_type": "code",
   "execution_count": 40,
   "metadata": {},
   "outputs": [
    {
     "data": {
      "text/plain": [
       "(0, 150000)"
      ]
     },
     "execution_count": 40,
     "metadata": {},
     "output_type": "execute_result"
    },
    {
     "data": {
      "image/png": "[encoded data removed]",
      "text/plain": [
       "<Figure size 432x288 with 1 Axes>"
      ]
     },
     "metadata": {
      "needs_background": "light"
     },
     "output_type": "display_data"
    }
   ],
   "source": [
    "plt.scatter(x_values, orders['revenue']) \n",
    "plt.title('Относительное изменение кумулятивного среднего чека группы B к группе A')\n",
    "plt.xlabel('Заказы')\n",
    "plt.ylabel('Средний чек')\n",
    "plt.ylim(0, 150000)"
   ]
  },
  {
   "cell_type": "markdown",
   "metadata": {},
   "source": [
    "Теперь видно: стоимость большинства заказов не превышает 60 000. Для определения аномальных заказов посчитаем 95 и 99 перцентили. "
   ]
  },
  {
   "cell_type": "markdown",
   "metadata": {},
   "source": [
    "#### Посчитайте 95-й и 99-й перцентили стоимости заказов. Выберите границу для определения аномальных заказов."
   ]
  },
  {
   "cell_type": "code",
   "execution_count": 41,
   "metadata": {},
   "outputs": [
    {
     "name": "stdout",
     "output_type": "stream",
     "text": [
      "[18168.  28000.  58233.2]\n"
     ]
    }
   ],
   "source": [
    "print(np.percentile(orders['revenue'], [90, 95, 99])) "
   ]
  },
  {
   "cell_type": "markdown",
   "metadata": {},
   "source": [
    "Не более 5% заказов дороже 28 000 рублей и не более 1% дороже 58233.2 рублей. <br>\n",
    "Примем за аномальных пользователей тех, кто совершил заказ дороже 35 000 рублей. Так мы уберём  от 1% до 5% пользователей с дорогими заказами. "
   ]
  },
  {
   "cell_type": "markdown",
   "metadata": {},
   "source": [
    "#### Посчитайте статистическую значимость различий в конверсии между группами по «сырым» данным. Сделайте выводы и предположения."
   ]
  },
  {
   "cell_type": "markdown",
   "metadata": {},
   "source": [
    "Посчитаем количество заказов по пользователям:"
   ]
  },
  {
   "cell_type": "code",
   "execution_count": 42,
   "metadata": {},
   "outputs": [],
   "source": [
    "ordersByUsersA = (\n",
    "    orders[orders['group'] == 'A']\n",
    "    .groupby('visitorid', as_index=False)\n",
    "    .agg({'transactionid': pd.Series.nunique})\n",
    ")\n",
    "ordersByUsersA.columns = ['userId', 'orders']\n",
    "\n",
    "ordersByUsersB = (\n",
    "    orders[orders['group'] == 'B']\n",
    "    .groupby('visitorid', as_index=False)\n",
    "    .agg({'transactionid': pd.Series.nunique})\n",
    ")\n",
    "ordersByUsersB.columns = ['userId', 'orders'] "
   ]
  },
  {
   "cell_type": "markdown",
   "metadata": {},
   "source": [
    "Объявим переменные sampleA и sampleB, в которых пользователям из разных групп будет соответствовать количество заказов. Тем, кто ничего не заказал, будут соответствовать нули: "
   ]
  },
  {
   "cell_type": "code",
   "execution_count": 43,
   "metadata": {},
   "outputs": [],
   "source": [
    "sampleA = pd.concat([ordersByUsersA['orders'],pd.Series(0, index=np.arange(visitorsADaily['visitorsPerDateA'].sum() - len(ordersByUsersA['orders'])), name='orders')],axis=0)\n",
    "\n",
    "sampleB = pd.concat([ordersByUsersB['orders'],pd.Series(0, index=np.arange(visitorsBDaily['visitorsPerDateB'].sum() - len(ordersByUsersB['orders'])), name='orders')],axis=0)"
   ]
  },
  {
   "cell_type": "markdown",
   "metadata": {},
   "source": [
    "Сформулируем нулевые гипотезы:\n",
    "\n",
    "- Нулевая гипотеза H₀: Конверсия групп А и В не различаются\n",
    "- Альтернативная гипотеза H₁: Конверсия групп А и В различается\n"
   ]
  },
  {
   "cell_type": "markdown",
   "metadata": {},
   "source": [
    "Посчитаем статистическую значимость различий в конверсии между группами:"
   ]
  },
  {
   "cell_type": "code",
   "execution_count": 44,
   "metadata": {},
   "outputs": [
    {
     "name": "stdout",
     "output_type": "stream",
     "text": [
      "Отвергаем нулевую гипотезу\n",
      "0.017\n",
      "0.138\n"
     ]
    }
   ],
   "source": [
    "alpha = 0.05\n",
    "p_value = stats.mannwhitneyu(sampleA, sampleB, alternative = 'two-sided')[1]\n",
    "\n",
    "\n",
    "if (p_value < alpha):\n",
    "    print(\"Отвергаем нулевую гипотезу\")\n",
    "else:\n",
    "    print(\"Не получилось отвергнуть нулевую гипотезу\")\n",
    "\n",
    "print(round(p_value , 3))\n",
    "print(\"{0:.3f}\".format(sampleB.mean()/sampleA.mean()-1))"
   ]
  },
  {
   "cell_type": "markdown",
   "metadata": {},
   "source": [
    "P-value меньше 0.05, что свидетельствует о статистически значимой разнице в конверсии между группами: нулевую гипотезу отвергаем. <br>\n",
    "Разница составляет 13,8%. "
   ]
  },
  {
   "cell_type": "markdown",
   "metadata": {},
   "source": [
    "#### Посчитайте статистическую значимость различий в среднем чеке заказа между группами по «сырым» данным. Сделайте выводы и предположения."
   ]
  },
  {
   "cell_type": "markdown",
   "metadata": {},
   "source": [
    "Сформулируем нулевые гипотезы:\n",
    "\n",
    "- Нулевая гипотеза H₀: Средний чек групп А и В не различается <br>\n",
    "- Альтернативная гипотеза H₁: Средний чек групп А и В различается"
   ]
  },
  {
   "cell_type": "code",
   "execution_count": 45,
   "metadata": {},
   "outputs": [
    {
     "name": "stdout",
     "output_type": "stream",
     "text": [
      "Не получилось отвергнуть нулевую гипотезу\n",
      "0.729\n",
      "0.259\n"
     ]
    }
   ],
   "source": [
    "alpha = 0.05\n",
    "p_value = stats.mannwhitneyu(orders[orders['group']=='A']['revenue']\n",
    "                             , orders[orders['group']=='B']['revenue']\n",
    "                             , alternative = 'two-sided')[1]\n",
    "\n",
    "\n",
    "if (p_value < alpha):\n",
    "    print(\"Отвергаем нулевую гипотезу\")\n",
    "else:\n",
    "    print(\"Не получилось отвергнуть нулевую гипотезу\")\n",
    "\n",
    "print(round(p_value , 3))\n",
    "print('{0:.3f}'.format(orders[orders['group']=='B']['revenue'].mean()/orders[orders['group']=='A']['revenue'].mean()-1)) "
   ]
  },
  {
   "cell_type": "markdown",
   "metadata": {},
   "source": [
    "P-value значительно больше 0.05. Отвергнуть нулевую гипотезу о том, что средний чек групп не различается, не удалось.  <br>\n",
    "При этом средний чек группы А значительно ниже среднего чека группы B. Разница составляет 25,9%.\n"
   ]
  },
  {
   "cell_type": "markdown",
   "metadata": {},
   "source": [
    "#### Посчитайте статистическую значимость различий в конверсии между группами по «очищенным» данным. Сделайте выводы и предположения."
   ]
  },
  {
   "cell_type": "markdown",
   "metadata": {},
   "source": [
    "Найденные ранее 95-й и 99-й перцентили средних чеков равны 28000 и  58233.2 рублям. А 95-й и 99-й перцентили количества заказов на одного пользователя равны 2 и 4 заказа на пользователя."
   ]
  },
  {
   "cell_type": "markdown",
   "metadata": {},
   "source": [
    "Примем за аномальных пользователей тех, кто совершил от 4 заказов или совершил заказ дороже 35 000 рублей. Так мы уберём 1% пользователей с наибольшим числом заказов и от 1% до 5% пользователей с дорогими заказами. Сделаем срезы пользователей с числом заказов больше 4 — usersWithManyOrders и пользователей, совершивших заказы дороже 35 000 — usersWithExpensiveOrders. Объединим их в таблице abnormalUsers."
   ]
  },
  {
   "cell_type": "code",
   "execution_count": 46,
   "metadata": {},
   "outputs": [
    {
     "name": "stdout",
     "output_type": "stream",
     "text": [
      "1099    148427295\n",
      "684     358944393\n",
      "648     382846391\n",
      "751     689129267\n",
      "1137    759473111\n",
      "dtype: int64\n",
      "(37,)\n"
     ]
    }
   ],
   "source": [
    "#пользователи с большим количеством заказов\n",
    "usersWithManyOrders = pd.concat(\n",
    "    [\n",
    "        ordersByUsersA[ordersByUsersA['orders'] > 4]['userId'],\n",
    "        ordersByUsersB[ordersByUsersB['orders'] > 4]['userId'],\n",
    "    ],\n",
    "    axis=0,\n",
    ")\n",
    "#пользователи с слишком дорогими заказами\n",
    "usersWithExpensiveOrders = orders[orders['revenue'] > 35000]['visitorid']\n",
    "\n",
    "abnormalUsers = (\n",
    "    pd.concat([usersWithManyOrders, usersWithExpensiveOrders], axis=0)\n",
    "    .drop_duplicates()\n",
    "    .sort_values()\n",
    ")\n",
    "\n",
    "print(abnormalUsers.head(5))\n",
    "print(abnormalUsers.shape)"
   ]
  },
  {
   "cell_type": "markdown",
   "metadata": {},
   "source": [
    "Всего 37 аномальных пользователей."
   ]
  },
  {
   "cell_type": "markdown",
   "metadata": {},
   "source": [
    "Узнаем, как их действия повлияли на результаты теста. Посчитаем статистическую значимость различий в конверсии между группами теста по очищенным данным. Сначала подготовим выборки количества заказов по пользователям по группам теста:"
   ]
  },
  {
   "cell_type": "code",
   "execution_count": 47,
   "metadata": {},
   "outputs": [],
   "source": [
    "sampleAFiltered = pd.concat(\n",
    "    [\n",
    "        ordersByUsersA[\n",
    "            np.logical_not(ordersByUsersA['userId'].isin(abnormalUsers))\n",
    "        ]['orders'],\n",
    "        pd.Series(\n",
    "            0,\n",
    "            index=np.arange(\n",
    "                visitorsADaily['visitorsPerDateA'].sum() - len(ordersByUsersA['orders'])\n",
    "            ),\n",
    "            name='orders',\n",
    "        ),\n",
    "    ],\n",
    "    axis=0,\n",
    ")\n",
    "\n",
    "sampleBFiltered = pd.concat(\n",
    "    [\n",
    "        ordersByUsersB[\n",
    "            np.logical_not(ordersByUsersB['userId'].isin(abnormalUsers))\n",
    "        ]['orders'],\n",
    "        pd.Series(\n",
    "            0,\n",
    "            index=np.arange(\n",
    "                visitorsBDaily['visitorsPerDateB'].sum() - len(ordersByUsersB['orders'])\n",
    "            ),\n",
    "            name='orders',\n",
    "        ),\n",
    "    ],\n",
    "    axis=0,\n",
    ") "
   ]
  },
  {
   "cell_type": "markdown",
   "metadata": {},
   "source": [
    "Сформулируем нулевые гипотезы:\n",
    "\n",
    "- Нулевая гипотеза H₀: Конверсия групп А и В не различается\n",
    "- Альтернативная гипотеза H₁: Конверсия групп А и В различается"
   ]
  },
  {
   "cell_type": "code",
   "execution_count": 48,
   "metadata": {},
   "outputs": [
    {
     "name": "stdout",
     "output_type": "stream",
     "text": [
      "Отвергаем нулевую гипотезу\n",
      "0.014\n",
      "0.157\n"
     ]
    }
   ],
   "source": [
    "p_value = stats.mannwhitneyu(sampleAFiltered, sampleBFiltered, alternative = 'two-sided')[1]\n",
    "\n",
    "if (p_value < alpha):\n",
    "    print(\"Отвергаем нулевую гипотезу\")\n",
    "else:\n",
    "    print(\"Не получилось отвергнуть нулевую гипотезу\")\n",
    "\n",
    "print(round(p_value , 3))\n",
    "print('{0:.3f}'.format(sampleBFiltered.mean()/sampleAFiltered.mean()-1)) "
   ]
  },
  {
   "cell_type": "markdown",
   "metadata": {},
   "source": [
    "p-value чуть уменьшился, но всё ещё меньше 0.05, что означает, что статистическая разница в конверсии есть и в отфильтрованных данных. <br>\n",
    "Конверсия в группе В выше. "
   ]
  },
  {
   "cell_type": "markdown",
   "metadata": {},
   "source": [
    "#### Посчитайте статистическую значимость различий в среднем чеке заказа между группами по «очищенным» данным. Сделайте выводы и предположения."
   ]
  },
  {
   "cell_type": "markdown",
   "metadata": {},
   "source": [
    "Сформулируем нулевые гипотезы:\n",
    "\n",
    "- Нулевая гипотеза H₀: Средний чек групп А и В не различается \n",
    "- Альтернативная гипотеза H₁: Средний чек групп А и В различается"
   ]
  },
  {
   "cell_type": "code",
   "execution_count": 49,
   "metadata": {},
   "outputs": [
    {
     "name": "stdout",
     "output_type": "stream",
     "text": [
      "Не получилось отвергнуть нулевую гипотезу\n",
      "0.765\n",
      "0.034\n"
     ]
    }
   ],
   "source": [
    "p_value = stats.mannwhitneyu(\n",
    "            orders[\n",
    "                np.logical_and(\n",
    "                    orders['group'] == 'A',\n",
    "                    np.logical_not(orders['visitorid'].isin(abnormalUsers)),\n",
    "                )\n",
    "            ]['revenue'],\n",
    "            orders[\n",
    "                np.logical_and(\n",
    "                    orders['group'] == 'B',\n",
    "                    np.logical_not(orders['visitorid'].isin(abnormalUsers)),\n",
    "                )\n",
    "            ]['revenue']\n",
    "            , alternative = 'two-sided'\n",
    "        )[1]\n",
    "\n",
    "\n",
    "if (p_value < alpha):\n",
    "    print(\"Отвергаем нулевую гипотезу\")\n",
    "else:\n",
    "    print(\"Не получилось отвергнуть нулевую гипотезу\")\n",
    "\n",
    "print(round(p_value , 3))\n",
    "\n",
    "\n",
    "print(\n",
    "    \"{0:.3f}\".format(\n",
    "        orders[\n",
    "            np.logical_and(\n",
    "                orders['group'] == 'B',\n",
    "                np.logical_not(orders['visitorid'].isin(abnormalUsers)),\n",
    "            )\n",
    "        ]['revenue'].mean()\n",
    "        / orders[\n",
    "            np.logical_and(\n",
    "                orders['group'] == 'A',\n",
    "                np.logical_not(orders['visitorid'].isin(abnormalUsers)),\n",
    "            )\n",
    "        ]['revenue'].mean()\n",
    "        - 1\n",
    "    )\n",
    ") "
   ]
  },
  {
   "cell_type": "markdown",
   "metadata": {},
   "source": [
    "Нет статистически значимого различия по среднему чеку между группами ни по «сырым», ни по данным после фильтрации аномалий: p-value больше 0.05. <br>\n",
    "Разница в среднем чеке по отфильтрованным данным составляет 3% (по \"сырым\" данным она была 25%)."
   ]
  },
  {
   "cell_type": "markdown",
   "metadata": {},
   "source": [
    "#### Вывод"
   ]
  },
  {
   "cell_type": "markdown",
   "metadata": {},
   "source": [
    "Построили графики изменения кумулятивной конверсии и среднего чека в группах А и В.  <br>\n",
    "Рассчитали статистическую значимость различий этих показателей между группами. <br>\n",
    "Для определения аномальных заказов посчитали 95 и 99 перцентили. <br>\n",
    "Сравнили статистическую значимость различий в \"сырых\" и отфильтрованных данных. "
   ]
  },
  {
   "cell_type": "markdown",
   "metadata": {},
   "source": [
    "### Общий вывод\n"
   ]
  },
  {
   "cell_type": "markdown",
   "metadata": {},
   "source": [
    "1. На этапе пред обработки данных обнаружили, что некоторые из пользователей попали в обе группы. Удалить из выборки их было нельзя, т.к. в таблице visits данные были агрегированны.\n",
    "\n",
    "2. Провели приоритизацию гипотез методами ICE и RICE: \n",
    "- Метод ICE:\n",
    "На первом месте гипотеза о запуске акции, дающей скидку в день рождения, на последнем -изменение цвета фона главной страницы\n",
    "- Метод RICE:\n",
    "На первом месте гипотеза о добавлении формы подписки на все основные страницы, чтобы собрать базу клиентов для email-рассылок, на последнем всё так же изменение цвета фона главной страницы\n",
    "Разница в приоритизации этих двух методов заключается в том, что метод RICE, в отличие от метода ICE, учитывает количество пользователей, которых затронет это изменение.\n",
    "3. Построили графики изменения кумулятивной конверсии и кумулятивного среднего чека в группах А и В. Данные показатели были выше в обоих случаях в группе В. \n",
    "4. Были рассчитаны 95 и 99 перцентили:\n",
    "- Большиство покупателей заказывает на сумму около 18168. Не более 5% заказов дороже 28 000 рублей и не более 1% дороже 58233.2 рублей.\n",
    "- Большинство покупателей заказывали только один раз. Не более 5% заказывают больше двух раз и не более 1% заказывают чаще четырёх раз.\n",
    "5. Рассчитали статистическую значимость различий этих показателей между группами по \"сырым\" и отфильтрованным данным: \n",
    "    - конверсия в группах в обоих случаях статистически различается (p-value меньше 0.05), разница составляет 13.8 (для \"сырых\" данных) и 15,7% (для отфильтрованных данных).\n",
    "    - статистически значимого различия по среднему чеку между группами ни по «сырым», ни по данным после фильтрации аномалий обнаружено не было: p-value больше 0.05.\n",
    "    \n",
    "На основании полученных данных можно сделать вывод об остановке теста: показатели в группе В были лучше. \n"
   ]
  }
 ],
 "metadata": {
  "ExecuteTimeLog": [
   {
    "duration": 928,
    "start_time": "2021-10-05T18:40:06.432Z"
   },
   {
    "duration": 21,
    "start_time": "2021-10-05T18:40:37.839Z"
   },
   {
    "duration": 29,
    "start_time": "2021-10-05T18:40:44.248Z"
   },
   {
    "duration": 57,
    "start_time": "2021-10-05T18:42:49.400Z"
   },
   {
    "duration": 11,
    "start_time": "2021-10-05T18:42:58.842Z"
   },
   {
    "duration": 9,
    "start_time": "2021-10-05T18:43:05.982Z"
   },
   {
    "duration": 26,
    "start_time": "2021-10-05T18:43:19.808Z"
   },
   {
    "duration": 11,
    "start_time": "2021-10-05T18:43:38.459Z"
   },
   {
    "duration": 12,
    "start_time": "2021-10-05T18:43:53.480Z"
   },
   {
    "duration": 15,
    "start_time": "2021-10-05T18:46:20.802Z"
   },
   {
    "duration": 9,
    "start_time": "2021-10-05T18:46:30.944Z"
   },
   {
    "duration": 8,
    "start_time": "2021-10-05T18:46:39.434Z"
   },
   {
    "duration": 11,
    "start_time": "2021-10-05T18:46:42.313Z"
   },
   {
    "duration": 11,
    "start_time": "2021-10-05T18:48:22.132Z"
   },
   {
    "duration": 13,
    "start_time": "2021-10-05T18:49:16.243Z"
   },
   {
    "duration": 11,
    "start_time": "2021-10-05T18:50:16.242Z"
   },
   {
    "duration": 3,
    "start_time": "2021-10-05T18:51:04.734Z"
   },
   {
    "duration": 9079,
    "start_time": "2021-10-05T18:53:49.776Z"
   },
   {
    "duration": 7,
    "start_time": "2021-10-05T18:56:19.796Z"
   },
   {
    "duration": 11,
    "start_time": "2021-10-05T18:56:27.484Z"
   },
   {
    "duration": 4,
    "start_time": "2021-10-05T18:56:31.905Z"
   },
   {
    "duration": 323,
    "start_time": "2021-10-05T18:56:34.167Z"
   },
   {
    "duration": 59,
    "start_time": "2021-10-05T18:58:44.707Z"
   },
   {
    "duration": 11,
    "start_time": "2021-10-05T18:58:46.663Z"
   },
   {
    "duration": 5,
    "start_time": "2021-10-05T19:00:04.276Z"
   },
   {
    "duration": 14,
    "start_time": "2021-10-05T19:00:06.425Z"
   },
   {
    "duration": 5,
    "start_time": "2021-10-05T19:02:02.355Z"
   },
   {
    "duration": 12,
    "start_time": "2021-10-05T19:02:04.071Z"
   },
   {
    "duration": 16,
    "start_time": "2021-10-05T19:02:10.206Z"
   },
   {
    "duration": 12,
    "start_time": "2021-10-05T19:02:20.353Z"
   },
   {
    "duration": 114,
    "start_time": "2021-10-05T19:02:38.178Z"
   },
   {
    "duration": 13,
    "start_time": "2021-10-05T19:02:49.830Z"
   },
   {
    "duration": 15,
    "start_time": "2021-10-05T19:03:08.139Z"
   },
   {
    "duration": 7,
    "start_time": "2021-10-05T19:04:28.974Z"
   },
   {
    "duration": 118,
    "start_time": "2021-10-05T19:04:37.124Z"
   },
   {
    "duration": 297,
    "start_time": "2021-10-05T19:04:46.167Z"
   },
   {
    "duration": 6,
    "start_time": "2021-10-05T19:04:51.402Z"
   },
   {
    "duration": 15,
    "start_time": "2021-10-05T19:04:59.664Z"
   },
   {
    "duration": 19,
    "start_time": "2021-10-05T19:16:21.699Z"
   },
   {
    "duration": 16,
    "start_time": "2021-10-05T19:16:24.748Z"
   },
   {
    "duration": 4,
    "start_time": "2021-10-05T19:16:58.624Z"
   },
   {
    "duration": 16,
    "start_time": "2021-10-05T19:17:00.662Z"
   },
   {
    "duration": 4,
    "start_time": "2021-10-05T19:17:17.043Z"
   },
   {
    "duration": 112,
    "start_time": "2021-10-05T19:18:11.822Z"
   },
   {
    "duration": 15,
    "start_time": "2021-10-05T19:19:05.343Z"
   },
   {
    "duration": 14,
    "start_time": "2021-10-05T19:21:40.050Z"
   },
   {
    "duration": 10,
    "start_time": "2021-10-05T19:21:59.190Z"
   },
   {
    "duration": 528,
    "start_time": "2021-10-05T19:22:06.934Z"
   },
   {
    "duration": 422,
    "start_time": "2021-10-05T19:28:48.543Z"
   },
   {
    "duration": 769,
    "start_time": "2021-10-07T17:42:15.163Z"
   },
   {
    "duration": 69,
    "start_time": "2021-10-07T17:42:17.917Z"
   },
   {
    "duration": 4,
    "start_time": "2021-10-07T17:42:20.497Z"
   },
   {
    "duration": 736,
    "start_time": "2021-10-07T17:42:28.099Z"
   },
   {
    "duration": 68,
    "start_time": "2021-10-07T17:42:28.838Z"
   },
   {
    "duration": 3,
    "start_time": "2021-10-07T17:42:28.909Z"
   },
   {
    "duration": 27,
    "start_time": "2021-10-07T17:42:28.914Z"
   },
   {
    "duration": 3,
    "start_time": "2021-10-07T17:42:28.944Z"
   },
   {
    "duration": 17,
    "start_time": "2021-10-07T17:42:28.950Z"
   },
   {
    "duration": 31,
    "start_time": "2021-10-07T17:42:28.969Z"
   },
   {
    "duration": 11,
    "start_time": "2021-10-07T17:42:29.005Z"
   },
   {
    "duration": 19,
    "start_time": "2021-10-07T17:42:29.019Z"
   },
   {
    "duration": 13,
    "start_time": "2021-10-07T17:42:29.041Z"
   },
   {
    "duration": 44,
    "start_time": "2021-10-07T17:42:29.056Z"
   },
   {
    "duration": 18,
    "start_time": "2021-10-07T17:42:29.103Z"
   },
   {
    "duration": 17,
    "start_time": "2021-10-07T17:42:29.123Z"
   },
   {
    "duration": 25,
    "start_time": "2021-10-07T17:42:29.143Z"
   },
   {
    "duration": 30,
    "start_time": "2021-10-07T17:42:29.171Z"
   },
   {
    "duration": 20,
    "start_time": "2021-10-07T17:42:29.203Z"
   },
   {
    "duration": 18,
    "start_time": "2021-10-07T17:47:49.756Z"
   },
   {
    "duration": 100,
    "start_time": "2021-10-07T17:49:41.046Z"
   },
   {
    "duration": 96,
    "start_time": "2021-10-07T17:50:15.611Z"
   },
   {
    "duration": 349,
    "start_time": "2021-10-07T17:50:22.423Z"
   },
   {
    "duration": 19,
    "start_time": "2021-10-07T17:50:34.835Z"
   },
   {
    "duration": 477,
    "start_time": "2021-10-07T17:50:58.027Z"
   },
   {
    "duration": 4,
    "start_time": "2021-10-07T17:51:18.918Z"
   },
   {
    "duration": 7502,
    "start_time": "2021-10-07T17:51:23.832Z"
   },
   {
    "duration": 7266,
    "start_time": "2021-10-07T17:51:47.788Z"
   },
   {
    "duration": -4,
    "start_time": "2021-10-07T17:51:55.060Z"
   },
   {
    "duration": 20,
    "start_time": "2021-10-07T17:51:57.338Z"
   },
   {
    "duration": 346,
    "start_time": "2021-10-07T17:52:06.754Z"
   },
   {
    "duration": 17,
    "start_time": "2021-10-07T17:52:12.427Z"
   },
   {
    "duration": 15,
    "start_time": "2021-10-07T17:53:41.480Z"
   },
   {
    "duration": 253,
    "start_time": "2021-10-07T17:53:54.247Z"
   },
   {
    "duration": 17,
    "start_time": "2021-10-07T17:54:30.810Z"
   },
   {
    "duration": 4,
    "start_time": "2021-10-07T17:54:36.666Z"
   },
   {
    "duration": 12,
    "start_time": "2021-10-07T17:54:52.992Z"
   },
   {
    "duration": 10,
    "start_time": "2021-10-07T17:55:37.852Z"
   },
   {
    "duration": 722,
    "start_time": "2021-10-07T17:55:44.851Z"
   },
   {
    "duration": 113,
    "start_time": "2021-10-07T17:56:09.598Z"
   },
   {
    "duration": 444,
    "start_time": "2021-10-07T17:57:16.738Z"
   },
   {
    "duration": 18,
    "start_time": "2021-10-07T17:57:48.946Z"
   },
   {
    "duration": 472,
    "start_time": "2021-10-07T18:10:49.280Z"
   },
   {
    "duration": 86,
    "start_time": "2021-10-07T18:23:42.314Z"
   },
   {
    "duration": 9,
    "start_time": "2021-10-07T18:23:46.104Z"
   },
   {
    "duration": 518,
    "start_time": "2021-10-07T18:23:48.243Z"
   },
   {
    "duration": 4,
    "start_time": "2021-10-07T18:26:28.476Z"
   },
   {
    "duration": 584,
    "start_time": "2021-10-07T18:26:30.233Z"
   },
   {
    "duration": 289,
    "start_time": "2021-10-07T18:27:35.837Z"
   },
   {
    "duration": 454,
    "start_time": "2021-10-07T18:27:54.278Z"
   },
   {
    "duration": 536,
    "start_time": "2021-10-07T18:28:22.530Z"
   },
   {
    "duration": 333,
    "start_time": "2021-10-07T18:35:41.770Z"
   },
   {
    "duration": 18,
    "start_time": "2021-10-07T18:35:49.352Z"
   },
   {
    "duration": 284,
    "start_time": "2021-10-07T18:37:00.970Z"
   },
   {
    "duration": 248,
    "start_time": "2021-10-07T18:37:14.071Z"
   },
   {
    "duration": 201,
    "start_time": "2021-10-07T18:37:30.310Z"
   },
   {
    "duration": 4,
    "start_time": "2021-10-07T18:37:32.951Z"
   },
   {
    "duration": 12,
    "start_time": "2021-10-07T18:37:34.938Z"
   },
   {
    "duration": 8,
    "start_time": "2021-10-07T18:37:38.373Z"
   },
   {
    "duration": 264,
    "start_time": "2021-10-07T18:37:51.503Z"
   },
   {
    "duration": 397,
    "start_time": "2021-10-07T18:38:12.869Z"
   },
   {
    "duration": 935,
    "start_time": "2021-10-09T19:22:49.229Z"
   },
   {
    "duration": 66,
    "start_time": "2021-10-09T19:22:50.168Z"
   },
   {
    "duration": 4,
    "start_time": "2021-10-09T19:22:50.237Z"
   },
   {
    "duration": 27,
    "start_time": "2021-10-09T19:22:50.244Z"
   },
   {
    "duration": 4,
    "start_time": "2021-10-09T19:22:50.274Z"
   },
   {
    "duration": 15,
    "start_time": "2021-10-09T19:22:50.280Z"
   },
   {
    "duration": 13,
    "start_time": "2021-10-09T19:22:50.298Z"
   },
   {
    "duration": 43,
    "start_time": "2021-10-09T19:22:50.315Z"
   },
   {
    "duration": 19,
    "start_time": "2021-10-09T19:22:50.363Z"
   },
   {
    "duration": 11,
    "start_time": "2021-10-09T19:22:50.384Z"
   },
   {
    "duration": 14,
    "start_time": "2021-10-09T19:22:50.397Z"
   },
   {
    "duration": 51,
    "start_time": "2021-10-09T19:22:50.414Z"
   },
   {
    "duration": 14,
    "start_time": "2021-10-09T19:22:50.468Z"
   },
   {
    "duration": 15,
    "start_time": "2021-10-09T19:22:50.486Z"
   },
   {
    "duration": 12,
    "start_time": "2021-10-09T19:22:50.503Z"
   },
   {
    "duration": 43,
    "start_time": "2021-10-09T19:22:50.518Z"
   },
   {
    "duration": 23,
    "start_time": "2021-10-09T19:22:50.565Z"
   },
   {
    "duration": 26,
    "start_time": "2021-10-09T19:22:50.591Z"
   },
   {
    "duration": 381,
    "start_time": "2021-10-09T19:22:50.620Z"
   },
   {
    "duration": 15,
    "start_time": "2021-10-09T19:22:51.003Z"
   },
   {
    "duration": 290,
    "start_time": "2021-10-09T19:22:51.020Z"
   },
   {
    "duration": 11,
    "start_time": "2021-10-09T19:22:51.313Z"
   },
   {
    "duration": 5,
    "start_time": "2021-10-09T19:22:51.329Z"
   },
   {
    "duration": 27,
    "start_time": "2021-10-09T19:22:51.337Z"
   },
   {
    "duration": 21,
    "start_time": "2021-10-09T19:22:51.368Z"
   },
   {
    "duration": 470,
    "start_time": "2021-10-09T19:22:51.391Z"
   },
   {
    "duration": 460,
    "start_time": "2021-10-09T19:22:51.864Z"
   },
   {
    "duration": 9,
    "start_time": "2021-10-09T19:22:52.326Z"
   },
   {
    "duration": 21,
    "start_time": "2021-10-09T19:22:52.338Z"
   },
   {
    "duration": 547,
    "start_time": "2021-10-09T19:22:52.363Z"
   },
   {
    "duration": 537,
    "start_time": "2021-10-09T19:22:52.912Z"
   },
   {
    "duration": 553,
    "start_time": "2021-10-09T19:22:53.452Z"
   },
   {
    "duration": 19,
    "start_time": "2021-10-09T19:22:54.007Z"
   },
   {
    "duration": 224,
    "start_time": "2021-10-09T19:22:54.029Z"
   },
   {
    "duration": 5,
    "start_time": "2021-10-09T19:22:54.256Z"
   },
   {
    "duration": 14,
    "start_time": "2021-10-09T19:22:54.264Z"
   },
   {
    "duration": 371,
    "start_time": "2021-10-09T19:22:54.281Z"
   },
   {
    "duration": 727,
    "start_time": "2021-10-09T19:34:43.211Z"
   },
   {
    "duration": 6,
    "start_time": "2021-10-09T19:34:54.265Z"
   },
   {
    "duration": 15,
    "start_time": "2021-10-09T19:35:44.941Z"
   },
   {
    "duration": 429,
    "start_time": "2021-10-09T19:40:52.945Z"
   },
   {
    "duration": 7,
    "start_time": "2021-10-09T19:41:42.222Z"
   },
   {
    "duration": 332,
    "start_time": "2021-10-09T19:43:47.674Z"
   },
   {
    "duration": 202,
    "start_time": "2021-10-09T19:44:27.665Z"
   },
   {
    "duration": 12,
    "start_time": "2021-10-09T19:47:38.385Z"
   },
   {
    "duration": 320,
    "start_time": "2021-10-09T19:48:07.410Z"
   },
   {
    "duration": 11,
    "start_time": "2021-10-09T19:49:04.058Z"
   },
   {
    "duration": 382,
    "start_time": "2021-10-09T19:49:58.833Z"
   },
   {
    "duration": 421,
    "start_time": "2021-10-09T19:50:34.178Z"
   },
   {
    "duration": 434,
    "start_time": "2021-10-09T19:50:39.565Z"
   },
   {
    "duration": 26,
    "start_time": "2021-10-09T19:51:27.951Z"
   },
   {
    "duration": 33,
    "start_time": "2021-10-09T19:51:55.346Z"
   },
   {
    "duration": 442,
    "start_time": "2021-10-09T19:51:57.605Z"
   },
   {
    "duration": 8069,
    "start_time": "2021-10-09T19:52:22.127Z"
   },
   {
    "duration": 343,
    "start_time": "2021-10-09T19:53:13.657Z"
   },
   {
    "duration": 344,
    "start_time": "2021-10-09T19:53:55.239Z"
   },
   {
    "duration": 324,
    "start_time": "2021-10-09T19:54:21.960Z"
   },
   {
    "duration": 317,
    "start_time": "2021-10-09T19:54:35.768Z"
   },
   {
    "duration": 385,
    "start_time": "2021-10-09T19:55:24.387Z"
   },
   {
    "duration": 1384,
    "start_time": "2021-10-09T19:55:45.624Z"
   },
   {
    "duration": 68,
    "start_time": "2021-10-09T19:55:47.011Z"
   },
   {
    "duration": 3,
    "start_time": "2021-10-09T19:55:47.082Z"
   },
   {
    "duration": 19,
    "start_time": "2021-10-09T19:55:47.087Z"
   },
   {
    "duration": 3,
    "start_time": "2021-10-09T19:55:47.109Z"
   },
   {
    "duration": 14,
    "start_time": "2021-10-09T19:55:47.114Z"
   },
   {
    "duration": 26,
    "start_time": "2021-10-09T19:55:47.132Z"
   },
   {
    "duration": 12,
    "start_time": "2021-10-09T19:55:47.163Z"
   },
   {
    "duration": 17,
    "start_time": "2021-10-09T19:55:47.178Z"
   },
   {
    "duration": 10,
    "start_time": "2021-10-09T19:55:47.197Z"
   },
   {
    "duration": 56,
    "start_time": "2021-10-09T19:55:47.209Z"
   },
   {
    "duration": 13,
    "start_time": "2021-10-09T19:55:47.269Z"
   },
   {
    "duration": 7,
    "start_time": "2021-10-09T19:55:47.285Z"
   },
   {
    "duration": 16,
    "start_time": "2021-10-09T19:55:47.294Z"
   },
   {
    "duration": 8,
    "start_time": "2021-10-09T19:55:47.312Z"
   },
   {
    "duration": 55,
    "start_time": "2021-10-09T19:55:47.322Z"
   },
   {
    "duration": 16,
    "start_time": "2021-10-09T19:55:47.380Z"
   },
   {
    "duration": 18,
    "start_time": "2021-10-09T19:55:47.398Z"
   },
   {
    "duration": 391,
    "start_time": "2021-10-09T19:55:47.419Z"
   },
   {
    "duration": 15,
    "start_time": "2021-10-09T19:55:47.813Z"
   },
   {
    "duration": 281,
    "start_time": "2021-10-09T19:55:47.830Z"
   },
   {
    "duration": 9,
    "start_time": "2021-10-09T19:55:48.117Z"
   },
   {
    "duration": 31,
    "start_time": "2021-10-09T19:55:48.129Z"
   },
   {
    "duration": 6,
    "start_time": "2021-10-09T19:55:48.164Z"
   },
   {
    "duration": 19,
    "start_time": "2021-10-09T19:55:48.172Z"
   },
   {
    "duration": 18,
    "start_time": "2021-10-09T19:55:48.194Z"
   },
   {
    "duration": 493,
    "start_time": "2021-10-09T19:55:48.214Z"
   },
   {
    "duration": 472,
    "start_time": "2021-10-09T19:55:48.709Z"
   },
   {
    "duration": 10,
    "start_time": "2021-10-09T19:55:49.184Z"
   },
   {
    "duration": 6,
    "start_time": "2021-10-09T19:55:49.197Z"
   },
   {
    "duration": 602,
    "start_time": "2021-10-09T19:55:49.205Z"
   },
   {
    "duration": 496,
    "start_time": "2021-10-09T19:55:49.809Z"
   },
   {
    "duration": 675,
    "start_time": "2021-10-09T19:55:50.307Z"
   },
   {
    "duration": 18,
    "start_time": "2021-10-09T19:55:50.984Z"
   },
   {
    "duration": 209,
    "start_time": "2021-10-09T19:55:51.004Z"
   },
   {
    "duration": 4,
    "start_time": "2021-10-09T19:55:51.216Z"
   },
   {
    "duration": 19,
    "start_time": "2021-10-09T19:55:51.222Z"
   },
   {
    "duration": 415,
    "start_time": "2021-10-09T19:55:51.243Z"
   },
   {
    "duration": 7,
    "start_time": "2021-10-09T19:55:51.663Z"
   },
   {
    "duration": 440,
    "start_time": "2021-10-09T19:55:51.674Z"
   },
   {
    "duration": 5,
    "start_time": "2021-10-09T19:55:52.117Z"
   },
   {
    "duration": 249,
    "start_time": "2021-10-09T19:55:52.124Z"
   },
   {
    "duration": 8,
    "start_time": "2021-10-09T19:55:52.375Z"
   },
   {
    "duration": 28,
    "start_time": "2021-10-09T19:55:52.386Z"
   },
   {
    "duration": 21,
    "start_time": "2021-10-09T19:55:52.416Z"
   },
   {
    "duration": 591,
    "start_time": "2021-10-09T19:55:52.458Z"
   },
   {
    "duration": 10,
    "start_time": "2021-10-09T20:04:36.438Z"
   },
   {
    "duration": 9,
    "start_time": "2021-10-09T20:04:49.481Z"
   },
   {
    "duration": 349,
    "start_time": "2021-10-09T20:04:53.389Z"
   },
   {
    "duration": 17,
    "start_time": "2021-10-09T20:05:11.105Z"
   },
   {
    "duration": 12,
    "start_time": "2021-10-09T20:06:31.579Z"
   },
   {
    "duration": 14,
    "start_time": "2021-10-09T20:10:43.369Z"
   },
   {
    "duration": 9059,
    "start_time": "2021-10-09T20:20:14.821Z"
   },
   {
    "duration": 8713,
    "start_time": "2021-10-09T20:20:54.221Z"
   },
   {
    "duration": 18,
    "start_time": "2021-10-09T20:21:16.677Z"
   },
   {
    "duration": 12,
    "start_time": "2021-10-09T20:21:25.707Z"
   },
   {
    "duration": 15,
    "start_time": "2021-10-09T20:21:33.075Z"
   },
   {
    "duration": 329,
    "start_time": "2021-10-09T20:22:25.443Z"
   },
   {
    "duration": 12,
    "start_time": "2021-10-09T20:23:19.913Z"
   },
   {
    "duration": 10,
    "start_time": "2021-10-09T20:23:40.146Z"
   },
   {
    "duration": 9139,
    "start_time": "2021-10-09T20:24:05.021Z"
   },
   {
    "duration": 20,
    "start_time": "2021-10-09T20:24:45.389Z"
   },
   {
    "duration": 12,
    "start_time": "2021-10-09T20:27:02.108Z"
   },
   {
    "duration": 9,
    "start_time": "2021-10-09T20:27:13.893Z"
   },
   {
    "duration": 20,
    "start_time": "2021-10-09T20:27:33.481Z"
   },
   {
    "duration": 3,
    "start_time": "2021-10-09T20:34:13.578Z"
   },
   {
    "duration": 71,
    "start_time": "2021-10-09T20:34:15.432Z"
   },
   {
    "duration": 11,
    "start_time": "2021-10-09T20:34:38.559Z"
   },
   {
    "duration": 4,
    "start_time": "2021-10-09T20:34:40.881Z"
   },
   {
    "duration": 4,
    "start_time": "2021-10-09T20:35:07.015Z"
   },
   {
    "duration": 12,
    "start_time": "2021-10-09T20:35:14.965Z"
   },
   {
    "duration": 4,
    "start_time": "2021-10-09T20:35:22.455Z"
   },
   {
    "duration": 9,
    "start_time": "2021-10-09T20:35:25.343Z"
   },
   {
    "duration": 14,
    "start_time": "2021-10-09T20:35:27.751Z"
   },
   {
    "duration": 12,
    "start_time": "2021-10-09T20:36:28.482Z"
   },
   {
    "duration": 8,
    "start_time": "2021-10-09T20:36:31.141Z"
   },
   {
    "duration": 12,
    "start_time": "2021-10-09T20:36:33.899Z"
   },
   {
    "duration": 327,
    "start_time": "2021-10-09T20:45:36.409Z"
   },
   {
    "duration": 348,
    "start_time": "2021-10-09T20:45:42.937Z"
   },
   {
    "duration": 108,
    "start_time": "2021-10-09T20:45:54.923Z"
   },
   {
    "duration": 116,
    "start_time": "2021-10-09T20:45:57.961Z"
   },
   {
    "duration": 12,
    "start_time": "2021-10-09T20:47:00.250Z"
   },
   {
    "duration": 12,
    "start_time": "2021-10-09T20:47:10.427Z"
   },
   {
    "duration": 10,
    "start_time": "2021-10-09T20:47:18.207Z"
   },
   {
    "duration": 22,
    "start_time": "2021-10-09T20:47:54.583Z"
   },
   {
    "duration": 16,
    "start_time": "2021-10-09T20:48:32.274Z"
   },
   {
    "duration": 314,
    "start_time": "2021-10-09T20:48:45.360Z"
   },
   {
    "duration": 22,
    "start_time": "2021-10-09T20:48:55.486Z"
   },
   {
    "duration": 20,
    "start_time": "2021-10-09T20:49:34.970Z"
   },
   {
    "duration": 15,
    "start_time": "2021-10-09T20:49:44.934Z"
   },
   {
    "duration": 16,
    "start_time": "2021-10-09T20:49:57.916Z"
   },
   {
    "duration": 106,
    "start_time": "2021-10-09T20:56:53.796Z"
   },
   {
    "duration": 1477,
    "start_time": "2021-10-09T21:00:07.351Z"
   },
   {
    "duration": 3,
    "start_time": "2021-10-09T21:00:19.525Z"
   },
   {
    "duration": 1475,
    "start_time": "2021-10-09T21:00:24.851Z"
   },
   {
    "duration": 1454,
    "start_time": "2021-10-09T21:00:53.296Z"
   },
   {
    "duration": 1571,
    "start_time": "2021-10-09T21:01:04.062Z"
   },
   {
    "duration": 2354,
    "start_time": "2021-10-09T21:01:09.369Z"
   },
   {
    "duration": 21,
    "start_time": "2021-10-09T21:01:32.503Z"
   },
   {
    "duration": 6,
    "start_time": "2021-10-09T21:02:26.843Z"
   },
   {
    "duration": 12,
    "start_time": "2021-10-09T21:02:29.358Z"
   },
   {
    "duration": 6,
    "start_time": "2021-10-09T21:12:50.222Z"
   },
   {
    "duration": 14,
    "start_time": "2021-10-09T21:12:52.354Z"
   },
   {
    "duration": 1353,
    "start_time": "2021-10-10T16:21:45.985Z"
   },
   {
    "duration": 59,
    "start_time": "2021-10-10T16:21:49.223Z"
   },
   {
    "duration": 16,
    "start_time": "2021-10-10T16:21:51.397Z"
   },
   {
    "duration": 5,
    "start_time": "2021-10-10T16:21:53.580Z"
   },
   {
    "duration": 11,
    "start_time": "2021-10-10T16:22:17.554Z"
   },
   {
    "duration": 4,
    "start_time": "2021-10-10T16:22:21.828Z"
   },
   {
    "duration": 1369,
    "start_time": "2021-10-10T16:22:28.367Z"
   },
   {
    "duration": 59,
    "start_time": "2021-10-10T16:22:29.739Z"
   },
   {
    "duration": 17,
    "start_time": "2021-10-10T16:22:29.801Z"
   },
   {
    "duration": 5,
    "start_time": "2021-10-10T16:22:29.820Z"
   },
   {
    "duration": 19,
    "start_time": "2021-10-10T16:22:29.827Z"
   },
   {
    "duration": 6,
    "start_time": "2021-10-10T16:22:29.849Z"
   },
   {
    "duration": 17,
    "start_time": "2021-10-10T16:22:29.857Z"
   },
   {
    "duration": 14,
    "start_time": "2021-10-10T16:22:29.877Z"
   },
   {
    "duration": 14,
    "start_time": "2021-10-10T16:22:29.893Z"
   },
   {
    "duration": 21,
    "start_time": "2021-10-10T16:22:29.909Z"
   },
   {
    "duration": 10,
    "start_time": "2021-10-10T16:22:29.967Z"
   },
   {
    "duration": 10,
    "start_time": "2021-10-10T16:22:29.979Z"
   },
   {
    "duration": 6,
    "start_time": "2021-10-10T16:22:29.991Z"
   },
   {
    "duration": 14,
    "start_time": "2021-10-10T16:22:29.999Z"
   },
   {
    "duration": 10,
    "start_time": "2021-10-10T16:22:30.016Z"
   },
   {
    "duration": 15,
    "start_time": "2021-10-10T16:22:30.067Z"
   },
   {
    "duration": 8,
    "start_time": "2021-10-10T16:22:30.085Z"
   },
   {
    "duration": 19,
    "start_time": "2021-10-10T16:22:30.096Z"
   },
   {
    "duration": 61,
    "start_time": "2021-10-10T16:22:30.118Z"
   },
   {
    "duration": 21,
    "start_time": "2021-10-10T16:22:30.182Z"
   },
   {
    "duration": 380,
    "start_time": "2021-10-10T16:22:30.205Z"
   },
   {
    "duration": 15,
    "start_time": "2021-10-10T16:22:30.588Z"
   },
   {
    "duration": 290,
    "start_time": "2021-10-10T16:22:30.608Z"
   },
   {
    "duration": 22,
    "start_time": "2021-10-10T16:22:30.901Z"
   },
   {
    "duration": 15,
    "start_time": "2021-10-10T16:22:30.925Z"
   },
   {
    "duration": 13,
    "start_time": "2021-10-10T16:22:30.943Z"
   },
   {
    "duration": 19,
    "start_time": "2021-10-10T16:22:30.959Z"
   },
   {
    "duration": 22,
    "start_time": "2021-10-10T16:22:30.981Z"
   },
   {
    "duration": 364,
    "start_time": "2021-10-10T16:22:31.006Z"
   },
   {
    "duration": 436,
    "start_time": "2021-10-10T16:22:31.372Z"
   },
   {
    "duration": 10,
    "start_time": "2021-10-10T16:22:31.811Z"
   },
   {
    "duration": 18,
    "start_time": "2021-10-10T16:22:31.824Z"
   },
   {
    "duration": 454,
    "start_time": "2021-10-10T16:22:31.845Z"
   },
   {
    "duration": 351,
    "start_time": "2021-10-10T16:22:32.301Z"
   },
   {
    "duration": 444,
    "start_time": "2021-10-10T16:22:32.655Z"
   },
   {
    "duration": 18,
    "start_time": "2021-10-10T16:22:33.102Z"
   },
   {
    "duration": 232,
    "start_time": "2021-10-10T16:22:33.123Z"
   },
   {
    "duration": 10,
    "start_time": "2021-10-10T16:22:33.357Z"
   },
   {
    "duration": 10,
    "start_time": "2021-10-10T16:22:33.370Z"
   },
   {
    "duration": 368,
    "start_time": "2021-10-10T16:22:33.383Z"
   },
   {
    "duration": 12,
    "start_time": "2021-10-10T16:22:33.754Z"
   },
   {
    "duration": 399,
    "start_time": "2021-10-10T16:22:33.769Z"
   },
   {
    "duration": 7,
    "start_time": "2021-10-10T16:22:34.170Z"
   },
   {
    "duration": 253,
    "start_time": "2021-10-10T16:22:34.179Z"
   },
   {
    "duration": 9,
    "start_time": "2021-10-10T16:22:34.434Z"
   },
   {
    "duration": 34,
    "start_time": "2021-10-10T16:22:34.445Z"
   },
   {
    "duration": 22,
    "start_time": "2021-10-10T16:22:34.482Z"
   },
   {
    "duration": 12,
    "start_time": "2021-10-10T16:22:34.506Z"
   },
   {
    "duration": 47,
    "start_time": "2021-10-10T16:22:34.520Z"
   },
   {
    "duration": 12,
    "start_time": "2021-10-10T16:22:34.570Z"
   },
   {
    "duration": 16,
    "start_time": "2021-10-10T16:22:34.584Z"
   },
   {
    "duration": 15,
    "start_time": "2021-10-10T16:22:34.602Z"
   },
   {
    "duration": 10,
    "start_time": "2021-10-10T16:22:34.619Z"
   },
   {
    "duration": 53,
    "start_time": "2021-10-10T16:22:34.631Z"
   },
   {
    "duration": 352,
    "start_time": "2021-10-10T16:24:38.868Z"
   },
   {
    "duration": 17,
    "start_time": "2021-10-10T16:24:55.080Z"
   },
   {
    "duration": 280,
    "start_time": "2021-10-10T16:25:33.113Z"
   },
   {
    "duration": 10,
    "start_time": "2021-10-10T16:26:14.032Z"
   },
   {
    "duration": 38,
    "start_time": "2021-10-10T16:27:30.256Z"
   },
   {
    "duration": 40,
    "start_time": "2021-10-10T16:27:51.642Z"
   },
   {
    "duration": 10,
    "start_time": "2021-10-10T16:27:53.996Z"
   },
   {
    "duration": 9,
    "start_time": "2021-10-10T16:28:32.408Z"
   },
   {
    "duration": 9,
    "start_time": "2021-10-10T16:28:40.901Z"
   },
   {
    "duration": 3,
    "start_time": "2021-10-10T16:29:04.651Z"
   },
   {
    "duration": 13,
    "start_time": "2021-10-10T16:29:06.665Z"
   },
   {
    "duration": 23,
    "start_time": "2021-10-10T16:29:59.434Z"
   },
   {
    "duration": 20,
    "start_time": "2021-10-10T16:30:03.097Z"
   },
   {
    "duration": 18,
    "start_time": "2021-10-10T16:30:09.854Z"
   },
   {
    "duration": 5,
    "start_time": "2021-10-10T16:30:42.853Z"
   },
   {
    "duration": 333,
    "start_time": "2021-10-10T16:31:08.372Z"
   },
   {
    "duration": 399,
    "start_time": "2021-10-10T16:33:24.445Z"
   },
   {
    "duration": 1332,
    "start_time": "2021-10-10T18:34:18.328Z"
   },
   {
    "duration": 71,
    "start_time": "2021-10-10T18:34:23.287Z"
   },
   {
    "duration": 1334,
    "start_time": "2021-10-10T18:34:55.831Z"
   },
   {
    "duration": 69,
    "start_time": "2021-10-10T18:34:57.167Z"
   },
   {
    "duration": 15,
    "start_time": "2021-10-10T18:34:57.239Z"
   },
   {
    "duration": 5,
    "start_time": "2021-10-10T18:34:57.257Z"
   },
   {
    "duration": 14,
    "start_time": "2021-10-10T18:34:57.264Z"
   },
   {
    "duration": 5,
    "start_time": "2021-10-10T18:34:57.281Z"
   },
   {
    "duration": 20,
    "start_time": "2021-10-10T18:34:57.289Z"
   },
   {
    "duration": 14,
    "start_time": "2021-10-10T18:34:57.315Z"
   },
   {
    "duration": 14,
    "start_time": "2021-10-10T18:34:57.332Z"
   },
   {
    "duration": 69,
    "start_time": "2021-10-10T18:34:57.348Z"
   },
   {
    "duration": 16,
    "start_time": "2021-10-10T18:34:57.421Z"
   },
   {
    "duration": 11,
    "start_time": "2021-10-10T18:34:57.440Z"
   },
   {
    "duration": 8,
    "start_time": "2021-10-10T18:34:57.454Z"
   },
   {
    "duration": 46,
    "start_time": "2021-10-10T18:34:57.465Z"
   },
   {
    "duration": 10,
    "start_time": "2021-10-10T18:34:57.513Z"
   },
   {
    "duration": 14,
    "start_time": "2021-10-10T18:34:57.525Z"
   },
   {
    "duration": 7,
    "start_time": "2021-10-10T18:34:57.542Z"
   },
   {
    "duration": 55,
    "start_time": "2021-10-10T18:34:57.551Z"
   },
   {
    "duration": 19,
    "start_time": "2021-10-10T18:34:57.608Z"
   },
   {
    "duration": 371,
    "start_time": "2021-10-10T18:34:57.630Z"
   },
   {
    "duration": 17,
    "start_time": "2021-10-10T18:34:58.003Z"
   },
   {
    "duration": 285,
    "start_time": "2021-10-10T18:34:58.022Z"
   },
   {
    "duration": 40,
    "start_time": "2021-10-10T18:34:58.313Z"
   },
   {
    "duration": 14,
    "start_time": "2021-10-10T18:34:58.356Z"
   },
   {
    "duration": 31,
    "start_time": "2021-10-10T18:34:58.372Z"
   },
   {
    "duration": 10,
    "start_time": "2021-10-10T18:34:58.406Z"
   },
   {
    "duration": 15,
    "start_time": "2021-10-10T18:34:58.418Z"
   },
   {
    "duration": 17,
    "start_time": "2021-10-10T18:34:58.435Z"
   },
   {
    "duration": 545,
    "start_time": "2021-10-10T18:34:58.455Z"
   },
   {
    "duration": 463,
    "start_time": "2021-10-10T18:34:59.003Z"
   },
   {
    "duration": 11,
    "start_time": "2021-10-10T18:34:59.469Z"
   },
   {
    "duration": 85,
    "start_time": "2021-10-10T18:34:59.482Z"
   },
   {
    "duration": -158,
    "start_time": "2021-10-10T18:34:59.728Z"
   },
   {
    "duration": -167,
    "start_time": "2021-10-10T18:34:59.738Z"
   },
   {
    "duration": -171,
    "start_time": "2021-10-10T18:34:59.744Z"
   },
   {
    "duration": -186,
    "start_time": "2021-10-10T18:34:59.760Z"
   },
   {
    "duration": -201,
    "start_time": "2021-10-10T18:34:59.776Z"
   },
   {
    "duration": -230,
    "start_time": "2021-10-10T18:34:59.807Z"
   },
   {
    "duration": -262,
    "start_time": "2021-10-10T18:34:59.840Z"
   },
   {
    "duration": -296,
    "start_time": "2021-10-10T18:34:59.875Z"
   },
   {
    "duration": -323,
    "start_time": "2021-10-10T18:34:59.904Z"
   },
   {
    "duration": -358,
    "start_time": "2021-10-10T18:34:59.940Z"
   },
   {
    "duration": -397,
    "start_time": "2021-10-10T18:34:59.980Z"
   },
   {
    "duration": -405,
    "start_time": "2021-10-10T18:34:59.990Z"
   },
   {
    "duration": -410,
    "start_time": "2021-10-10T18:34:59.996Z"
   },
   {
    "duration": -414,
    "start_time": "2021-10-10T18:35:00.001Z"
   },
   {
    "duration": -418,
    "start_time": "2021-10-10T18:35:00.006Z"
   },
   {
    "duration": -421,
    "start_time": "2021-10-10T18:35:00.011Z"
   },
   {
    "duration": -423,
    "start_time": "2021-10-10T18:35:00.015Z"
   },
   {
    "duration": -428,
    "start_time": "2021-10-10T18:35:00.022Z"
   },
   {
    "duration": -432,
    "start_time": "2021-10-10T18:35:00.027Z"
   },
   {
    "duration": -435,
    "start_time": "2021-10-10T18:35:00.031Z"
   },
   {
    "duration": -438,
    "start_time": "2021-10-10T18:35:00.036Z"
   },
   {
    "duration": -442,
    "start_time": "2021-10-10T18:35:00.041Z"
   },
   {
    "duration": 9,
    "start_time": "2021-10-10T18:35:50.281Z"
   },
   {
    "duration": 441,
    "start_time": "2021-10-10T18:36:37.481Z"
   },
   {
    "duration": 9,
    "start_time": "2021-10-10T18:37:37.786Z"
   },
   {
    "duration": 337,
    "start_time": "2021-10-10T18:38:05.296Z"
   },
   {
    "duration": 443,
    "start_time": "2021-10-10T18:39:14.661Z"
   },
   {
    "duration": 192,
    "start_time": "2021-10-10T18:40:13.196Z"
   },
   {
    "duration": 183,
    "start_time": "2021-10-10T18:40:42.435Z"
   },
   {
    "duration": 376,
    "start_time": "2021-10-10T18:41:01.452Z"
   },
   {
    "duration": 6,
    "start_time": "2021-10-10T18:41:23.861Z"
   },
   {
    "duration": 395,
    "start_time": "2021-10-10T18:41:41.724Z"
   },
   {
    "duration": 622,
    "start_time": "2021-10-10T18:41:56.851Z"
   },
   {
    "duration": 375,
    "start_time": "2021-10-10T18:42:02.325Z"
   },
   {
    "duration": 7,
    "start_time": "2021-10-10T18:42:17.219Z"
   },
   {
    "duration": 225,
    "start_time": "2021-10-10T18:43:38.807Z"
   },
   {
    "duration": 9,
    "start_time": "2021-10-10T18:44:04.868Z"
   },
   {
    "duration": 13,
    "start_time": "2021-10-10T18:44:49.967Z"
   },
   {
    "duration": 444,
    "start_time": "2021-10-10T18:45:49.966Z"
   },
   {
    "duration": 102,
    "start_time": "2021-10-10T18:46:26.810Z"
   },
   {
    "duration": 13,
    "start_time": "2021-10-10T18:48:40.158Z"
   },
   {
    "duration": 14,
    "start_time": "2021-10-10T18:48:50.638Z"
   },
   {
    "duration": 16,
    "start_time": "2021-10-10T18:48:58.087Z"
   },
   {
    "duration": 12,
    "start_time": "2021-10-10T18:49:40.488Z"
   },
   {
    "duration": 11,
    "start_time": "2021-10-10T18:49:43.241Z"
   },
   {
    "duration": 8,
    "start_time": "2021-10-10T18:51:13.160Z"
   },
   {
    "duration": 7,
    "start_time": "2021-10-10T18:51:27.599Z"
   },
   {
    "duration": 9,
    "start_time": "2021-10-10T19:03:06.572Z"
   },
   {
    "duration": 13,
    "start_time": "2021-10-10T19:03:28.698Z"
   },
   {
    "duration": 22,
    "start_time": "2021-10-10T19:05:14.473Z"
   },
   {
    "duration": 355,
    "start_time": "2021-10-10T19:08:44.418Z"
   },
   {
    "duration": 22,
    "start_time": "2021-10-10T19:09:07.695Z"
   },
   {
    "duration": 17,
    "start_time": "2021-10-10T19:09:18.419Z"
   },
   {
    "duration": 14,
    "start_time": "2021-10-10T19:12:56.919Z"
   },
   {
    "duration": 358,
    "start_time": "2021-10-10T19:14:08.773Z"
   },
   {
    "duration": 470,
    "start_time": "2021-10-10T19:20:23.380Z"
   },
   {
    "duration": 478,
    "start_time": "2021-10-10T19:25:17.450Z"
   },
   {
    "duration": 358,
    "start_time": "2021-10-10T19:26:26.324Z"
   },
   {
    "duration": 359,
    "start_time": "2021-10-10T19:28:07.864Z"
   },
   {
    "duration": 426,
    "start_time": "2021-10-10T19:29:08.528Z"
   },
   {
    "duration": 449,
    "start_time": "2021-10-10T19:29:58.391Z"
   },
   {
    "duration": 380,
    "start_time": "2021-10-10T19:31:27.535Z"
   },
   {
    "duration": 8,
    "start_time": "2021-10-10T19:33:29.212Z"
   },
   {
    "duration": 92,
    "start_time": "2021-10-10T19:37:54.360Z"
   },
   {
    "duration": 1402,
    "start_time": "2021-10-10T19:51:45.867Z"
   },
   {
    "duration": 68,
    "start_time": "2021-10-10T19:51:47.272Z"
   },
   {
    "duration": 17,
    "start_time": "2021-10-10T19:51:47.343Z"
   },
   {
    "duration": 5,
    "start_time": "2021-10-10T19:51:47.362Z"
   },
   {
    "duration": 16,
    "start_time": "2021-10-10T19:51:47.369Z"
   },
   {
    "duration": 12,
    "start_time": "2021-10-10T19:51:47.388Z"
   },
   {
    "duration": 9,
    "start_time": "2021-10-10T19:51:47.403Z"
   },
   {
    "duration": 17,
    "start_time": "2021-10-10T19:51:47.415Z"
   },
   {
    "duration": 15,
    "start_time": "2021-10-10T19:51:47.435Z"
   },
   {
    "duration": 57,
    "start_time": "2021-10-10T19:51:47.452Z"
   },
   {
    "duration": 12,
    "start_time": "2021-10-10T19:51:47.511Z"
   },
   {
    "duration": 9,
    "start_time": "2021-10-10T19:51:47.526Z"
   },
   {
    "duration": 6,
    "start_time": "2021-10-10T19:51:47.538Z"
   },
   {
    "duration": 15,
    "start_time": "2021-10-10T19:51:47.546Z"
   },
   {
    "duration": 42,
    "start_time": "2021-10-10T19:51:47.563Z"
   },
   {
    "duration": 19,
    "start_time": "2021-10-10T19:51:47.608Z"
   },
   {
    "duration": 11,
    "start_time": "2021-10-10T19:51:47.629Z"
   },
   {
    "duration": 16,
    "start_time": "2021-10-10T19:51:47.646Z"
   },
   {
    "duration": 47,
    "start_time": "2021-10-10T19:51:47.665Z"
   },
   {
    "duration": 370,
    "start_time": "2021-10-10T19:51:47.715Z"
   },
   {
    "duration": 21,
    "start_time": "2021-10-10T19:51:48.087Z"
   },
   {
    "duration": 274,
    "start_time": "2021-10-10T19:51:48.111Z"
   },
   {
    "duration": 46,
    "start_time": "2021-10-10T19:51:48.387Z"
   },
   {
    "duration": 10,
    "start_time": "2021-10-10T19:51:48.435Z"
   },
   {
    "duration": 11,
    "start_time": "2021-10-10T19:51:48.447Z"
   },
   {
    "duration": 12,
    "start_time": "2021-10-10T19:51:48.461Z"
   },
   {
    "duration": 38,
    "start_time": "2021-10-10T19:51:48.475Z"
   },
   {
    "duration": 18,
    "start_time": "2021-10-10T19:51:48.515Z"
   },
   {
    "duration": 368,
    "start_time": "2021-10-10T19:51:48.535Z"
   },
   {
    "duration": 342,
    "start_time": "2021-10-10T19:51:48.906Z"
   },
   {
    "duration": 8,
    "start_time": "2021-10-10T19:51:49.251Z"
   },
   {
    "duration": 462,
    "start_time": "2021-10-10T19:51:49.262Z"
   },
   {
    "duration": 9,
    "start_time": "2021-10-10T19:51:49.726Z"
   },
   {
    "duration": 372,
    "start_time": "2021-10-10T19:51:49.737Z"
   },
   {
    "duration": 433,
    "start_time": "2021-10-10T19:51:50.111Z"
   },
   {
    "duration": 214,
    "start_time": "2021-10-10T19:51:50.546Z"
   },
   {
    "duration": 421,
    "start_time": "2021-10-10T19:51:50.762Z"
   },
   {
    "duration": 16,
    "start_time": "2021-10-10T19:51:51.185Z"
   },
   {
    "duration": 413,
    "start_time": "2021-10-10T19:51:51.203Z"
   },
   {
    "duration": 6,
    "start_time": "2021-10-10T19:51:51.620Z"
   },
   {
    "duration": 229,
    "start_time": "2021-10-10T19:51:51.630Z"
   },
   {
    "duration": 10,
    "start_time": "2021-10-10T19:51:51.861Z"
   },
   {
    "duration": 29,
    "start_time": "2021-10-10T19:51:51.874Z"
   },
   {
    "duration": 15,
    "start_time": "2021-10-10T19:51:51.906Z"
   },
   {
    "duration": 16,
    "start_time": "2021-10-10T19:51:51.924Z"
   },
   {
    "duration": 17,
    "start_time": "2021-10-10T19:51:51.943Z"
   },
   {
    "duration": 47,
    "start_time": "2021-10-10T19:51:51.963Z"
   },
   {
    "duration": 23,
    "start_time": "2021-10-10T19:51:52.012Z"
   },
   {
    "duration": 1129,
    "start_time": "2021-10-11T02:20:49.126Z"
   },
   {
    "duration": 66,
    "start_time": "2021-10-11T02:20:50.257Z"
   },
   {
    "duration": 12,
    "start_time": "2021-10-11T02:20:50.325Z"
   },
   {
    "duration": 4,
    "start_time": "2021-10-11T02:20:50.339Z"
   },
   {
    "duration": 12,
    "start_time": "2021-10-11T02:20:50.345Z"
   },
   {
    "duration": 11,
    "start_time": "2021-10-11T02:20:50.359Z"
   },
   {
    "duration": 18,
    "start_time": "2021-10-11T02:20:50.371Z"
   },
   {
    "duration": 17,
    "start_time": "2021-10-11T02:20:50.391Z"
   },
   {
    "duration": 18,
    "start_time": "2021-10-11T02:20:50.412Z"
   },
   {
    "duration": 16,
    "start_time": "2021-10-11T02:20:50.433Z"
   },
   {
    "duration": 11,
    "start_time": "2021-10-11T02:20:50.450Z"
   },
   {
    "duration": 8,
    "start_time": "2021-10-11T02:20:50.463Z"
   },
   {
    "duration": 8,
    "start_time": "2021-10-11T02:20:50.473Z"
   },
   {
    "duration": 14,
    "start_time": "2021-10-11T02:20:50.483Z"
   },
   {
    "duration": 9,
    "start_time": "2021-10-11T02:20:50.499Z"
   },
   {
    "duration": 14,
    "start_time": "2021-10-11T02:20:50.509Z"
   },
   {
    "duration": 9,
    "start_time": "2021-10-11T02:20:50.524Z"
   },
   {
    "duration": 11,
    "start_time": "2021-10-11T02:20:50.550Z"
   },
   {
    "duration": 17,
    "start_time": "2021-10-11T02:20:50.563Z"
   },
   {
    "duration": 230,
    "start_time": "2021-10-11T02:20:50.582Z"
   },
   {
    "duration": 11,
    "start_time": "2021-10-11T02:20:50.814Z"
   },
   {
    "duration": 155,
    "start_time": "2021-10-11T02:20:50.827Z"
   },
   {
    "duration": 26,
    "start_time": "2021-10-11T02:20:50.984Z"
   },
   {
    "duration": 7,
    "start_time": "2021-10-11T02:20:51.011Z"
   },
   {
    "duration": 13,
    "start_time": "2021-10-11T02:20:51.019Z"
   },
   {
    "duration": 3,
    "start_time": "2021-10-11T02:20:51.050Z"
   },
   {
    "duration": 10,
    "start_time": "2021-10-11T02:20:51.056Z"
   },
   {
    "duration": 15,
    "start_time": "2021-10-11T02:20:51.067Z"
   },
   {
    "duration": 232,
    "start_time": "2021-10-11T02:20:51.084Z"
   },
   {
    "duration": 216,
    "start_time": "2021-10-11T02:20:51.318Z"
   },
   {
    "duration": 6,
    "start_time": "2021-10-11T02:20:51.535Z"
   },
   {
    "duration": 330,
    "start_time": "2021-10-11T02:20:51.550Z"
   },
   {
    "duration": 7,
    "start_time": "2021-10-11T02:20:51.882Z"
   },
   {
    "duration": 238,
    "start_time": "2021-10-11T02:20:51.891Z"
   },
   {
    "duration": 346,
    "start_time": "2021-10-11T02:20:52.131Z"
   },
   {
    "duration": 117,
    "start_time": "2021-10-11T02:20:52.479Z"
   },
   {
    "duration": 276,
    "start_time": "2021-10-11T02:20:52.597Z"
   },
   {
    "duration": 4,
    "start_time": "2021-10-11T02:20:52.875Z"
   },
   {
    "duration": 287,
    "start_time": "2021-10-11T02:20:52.881Z"
   },
   {
    "duration": 4,
    "start_time": "2021-10-11T02:20:53.170Z"
   },
   {
    "duration": 127,
    "start_time": "2021-10-11T02:20:53.175Z"
   },
   {
    "duration": 7,
    "start_time": "2021-10-11T02:20:53.303Z"
   },
   {
    "duration": 10,
    "start_time": "2021-10-11T02:20:53.312Z"
   },
   {
    "duration": 28,
    "start_time": "2021-10-11T02:20:53.324Z"
   },
   {
    "duration": 10,
    "start_time": "2021-10-11T02:20:53.354Z"
   },
   {
    "duration": 10,
    "start_time": "2021-10-11T02:20:53.366Z"
   },
   {
    "duration": 9,
    "start_time": "2021-10-11T02:20:53.378Z"
   },
   {
    "duration": 15,
    "start_time": "2021-10-11T02:20:53.388Z"
   },
   {
    "duration": 76,
    "start_time": "2021-10-11T02:33:24.900Z"
   },
   {
    "duration": 10,
    "start_time": "2021-10-11T02:33:27.883Z"
   },
   {
    "duration": 2612,
    "start_time": "2021-10-11T14:20:00.754Z"
   },
   {
    "duration": 94,
    "start_time": "2021-10-11T14:20:03.369Z"
   },
   {
    "duration": 14,
    "start_time": "2021-10-11T14:20:03.466Z"
   },
   {
    "duration": 7,
    "start_time": "2021-10-11T14:20:03.483Z"
   },
   {
    "duration": 15,
    "start_time": "2021-10-11T14:20:03.492Z"
   },
   {
    "duration": 6,
    "start_time": "2021-10-11T14:20:03.509Z"
   },
   {
    "duration": 14,
    "start_time": "2021-10-11T14:20:03.517Z"
   },
   {
    "duration": 14,
    "start_time": "2021-10-11T14:20:03.536Z"
   },
   {
    "duration": 21,
    "start_time": "2021-10-11T14:20:03.553Z"
   },
   {
    "duration": 22,
    "start_time": "2021-10-11T14:20:03.601Z"
   },
   {
    "duration": 13,
    "start_time": "2021-10-11T14:20:03.626Z"
   },
   {
    "duration": 13,
    "start_time": "2021-10-11T14:20:03.642Z"
   },
   {
    "duration": 8,
    "start_time": "2021-10-11T14:20:03.658Z"
   },
   {
    "duration": 12,
    "start_time": "2021-10-11T14:20:03.701Z"
   },
   {
    "duration": 26,
    "start_time": "2021-10-11T14:20:03.715Z"
   },
   {
    "duration": 234,
    "start_time": "2021-10-11T14:20:03.743Z"
   },
   {
    "duration": -382,
    "start_time": "2021-10-11T14:20:04.363Z"
   },
   {
    "duration": -385,
    "start_time": "2021-10-11T14:20:04.368Z"
   },
   {
    "duration": -388,
    "start_time": "2021-10-11T14:20:04.373Z"
   },
   {
    "duration": -392,
    "start_time": "2021-10-11T14:20:04.379Z"
   },
   {
    "duration": -395,
    "start_time": "2021-10-11T14:20:04.384Z"
   },
   {
    "duration": -396,
    "start_time": "2021-10-11T14:20:04.388Z"
   },
   {
    "duration": -399,
    "start_time": "2021-10-11T14:20:04.393Z"
   },
   {
    "duration": -417,
    "start_time": "2021-10-11T14:20:04.412Z"
   },
   {
    "duration": -419,
    "start_time": "2021-10-11T14:20:04.417Z"
   },
   {
    "duration": -421,
    "start_time": "2021-10-11T14:20:04.421Z"
   },
   {
    "duration": -424,
    "start_time": "2021-10-11T14:20:04.426Z"
   },
   {
    "duration": -427,
    "start_time": "2021-10-11T14:20:04.431Z"
   },
   {
    "duration": -447,
    "start_time": "2021-10-11T14:20:04.452Z"
   },
   {
    "duration": -452,
    "start_time": "2021-10-11T14:20:04.459Z"
   },
   {
    "duration": -457,
    "start_time": "2021-10-11T14:20:04.465Z"
   },
   {
    "duration": -463,
    "start_time": "2021-10-11T14:20:04.473Z"
   },
   {
    "duration": -468,
    "start_time": "2021-10-11T14:20:04.479Z"
   },
   {
    "duration": -471,
    "start_time": "2021-10-11T14:20:04.484Z"
   },
   {
    "duration": -474,
    "start_time": "2021-10-11T14:20:04.489Z"
   },
   {
    "duration": -478,
    "start_time": "2021-10-11T14:20:04.494Z"
   },
   {
    "duration": -481,
    "start_time": "2021-10-11T14:20:04.499Z"
   },
   {
    "duration": -485,
    "start_time": "2021-10-11T14:20:04.504Z"
   },
   {
    "duration": -488,
    "start_time": "2021-10-11T14:20:04.509Z"
   },
   {
    "duration": -492,
    "start_time": "2021-10-11T14:20:04.514Z"
   },
   {
    "duration": -495,
    "start_time": "2021-10-11T14:20:04.519Z"
   },
   {
    "duration": -499,
    "start_time": "2021-10-11T14:20:04.524Z"
   },
   {
    "duration": -503,
    "start_time": "2021-10-11T14:20:04.530Z"
   },
   {
    "duration": -507,
    "start_time": "2021-10-11T14:20:04.535Z"
   },
   {
    "duration": -526,
    "start_time": "2021-10-11T14:20:04.556Z"
   },
   {
    "duration": -531,
    "start_time": "2021-10-11T14:20:04.562Z"
   },
   {
    "duration": -537,
    "start_time": "2021-10-11T14:20:04.570Z"
   },
   {
    "duration": -541,
    "start_time": "2021-10-11T14:20:04.575Z"
   },
   {
    "duration": 14,
    "start_time": "2021-10-11T14:20:17.719Z"
   },
   {
    "duration": 6,
    "start_time": "2021-10-11T14:20:28.026Z"
   },
   {
    "duration": 16,
    "start_time": "2021-10-11T14:20:29.987Z"
   },
   {
    "duration": 467,
    "start_time": "2021-10-11T14:20:45.906Z"
   },
   {
    "duration": 266,
    "start_time": "2021-10-11T14:20:48.167Z"
   },
   {
    "duration": 1346,
    "start_time": "2021-10-11T14:22:37.514Z"
   },
   {
    "duration": 78,
    "start_time": "2021-10-11T14:22:38.863Z"
   },
   {
    "duration": 16,
    "start_time": "2021-10-11T14:22:38.944Z"
   },
   {
    "duration": 6,
    "start_time": "2021-10-11T14:22:38.962Z"
   },
   {
    "duration": 16,
    "start_time": "2021-10-11T14:22:38.970Z"
   },
   {
    "duration": 8,
    "start_time": "2021-10-11T14:22:38.988Z"
   },
   {
    "duration": 12,
    "start_time": "2021-10-11T14:22:38.998Z"
   },
   {
    "duration": 17,
    "start_time": "2021-10-11T14:22:39.014Z"
   },
   {
    "duration": 14,
    "start_time": "2021-10-11T14:22:39.034Z"
   },
   {
    "duration": 49,
    "start_time": "2021-10-11T14:22:39.051Z"
   },
   {
    "duration": 10,
    "start_time": "2021-10-11T14:22:39.103Z"
   },
   {
    "duration": 13,
    "start_time": "2021-10-11T14:22:39.115Z"
   },
   {
    "duration": 11,
    "start_time": "2021-10-11T14:22:39.131Z"
   },
   {
    "duration": 16,
    "start_time": "2021-10-11T14:22:39.145Z"
   },
   {
    "duration": 37,
    "start_time": "2021-10-11T14:22:39.163Z"
   },
   {
    "duration": 14,
    "start_time": "2021-10-11T14:22:39.203Z"
   },
   {
    "duration": 7,
    "start_time": "2021-10-11T14:22:39.219Z"
   },
   {
    "duration": 19,
    "start_time": "2021-10-11T14:22:39.228Z"
   },
   {
    "duration": 52,
    "start_time": "2021-10-11T14:22:39.249Z"
   },
   {
    "duration": 368,
    "start_time": "2021-10-11T14:22:39.304Z"
   },
   {
    "duration": 15,
    "start_time": "2021-10-11T14:22:39.674Z"
   },
   {
    "duration": 281,
    "start_time": "2021-10-11T14:22:39.691Z"
   },
   {
    "duration": 53,
    "start_time": "2021-10-11T14:22:39.977Z"
   },
   {
    "duration": 10,
    "start_time": "2021-10-11T14:22:40.033Z"
   },
   {
    "duration": 11,
    "start_time": "2021-10-11T14:22:40.045Z"
   },
   {
    "duration": 6,
    "start_time": "2021-10-11T14:22:40.059Z"
   },
   {
    "duration": 35,
    "start_time": "2021-10-11T14:22:40.067Z"
   },
   {
    "duration": 18,
    "start_time": "2021-10-11T14:22:40.105Z"
   },
   {
    "duration": 359,
    "start_time": "2021-10-11T14:22:40.125Z"
   },
   {
    "duration": 342,
    "start_time": "2021-10-11T14:22:40.486Z"
   },
   {
    "duration": 9,
    "start_time": "2021-10-11T14:22:40.830Z"
   },
   {
    "duration": 423,
    "start_time": "2021-10-11T14:22:40.841Z"
   },
   {
    "duration": 9,
    "start_time": "2021-10-11T14:22:41.266Z"
   },
   {
    "duration": 368,
    "start_time": "2021-10-11T14:22:41.277Z"
   },
   {
    "duration": 466,
    "start_time": "2021-10-11T14:22:41.647Z"
   },
   {
    "duration": 207,
    "start_time": "2021-10-11T14:22:42.116Z"
   },
   {
    "duration": 371,
    "start_time": "2021-10-11T14:22:42.326Z"
   },
   {
    "duration": 6,
    "start_time": "2021-10-11T14:22:42.699Z"
   },
   {
    "duration": 414,
    "start_time": "2021-10-11T14:22:42.707Z"
   },
   {
    "duration": 5,
    "start_time": "2021-10-11T14:22:43.124Z"
   },
   {
    "duration": 241,
    "start_time": "2021-10-11T14:22:43.131Z"
   },
   {
    "duration": 7,
    "start_time": "2021-10-11T14:22:43.375Z"
   },
   {
    "duration": 25,
    "start_time": "2021-10-11T14:22:43.384Z"
   },
   {
    "duration": 13,
    "start_time": "2021-10-11T14:22:43.411Z"
   },
   {
    "duration": 13,
    "start_time": "2021-10-11T14:22:43.426Z"
   },
   {
    "duration": 11,
    "start_time": "2021-10-11T14:22:43.441Z"
   },
   {
    "duration": 49,
    "start_time": "2021-10-11T14:22:43.454Z"
   },
   {
    "duration": 20,
    "start_time": "2021-10-11T14:22:43.505Z"
   },
   {
    "duration": 337,
    "start_time": "2021-10-11T14:24:42.752Z"
   },
   {
    "duration": 331,
    "start_time": "2021-10-11T14:25:11.320Z"
   },
   {
    "duration": 528,
    "start_time": "2021-10-11T14:25:17.206Z"
   },
   {
    "duration": 363,
    "start_time": "2021-10-11T14:25:23.546Z"
   },
   {
    "duration": 465,
    "start_time": "2021-10-11T14:25:28.462Z"
   },
   {
    "duration": 363,
    "start_time": "2021-10-11T16:34:31.254Z"
   },
   {
    "duration": 1347,
    "start_time": "2021-10-11T16:34:45.003Z"
   },
   {
    "duration": 68,
    "start_time": "2021-10-11T16:34:46.352Z"
   },
   {
    "duration": 15,
    "start_time": "2021-10-11T16:34:46.423Z"
   },
   {
    "duration": 4,
    "start_time": "2021-10-11T16:34:46.441Z"
   },
   {
    "duration": 15,
    "start_time": "2021-10-11T16:34:46.447Z"
   },
   {
    "duration": 5,
    "start_time": "2021-10-11T16:34:46.464Z"
   },
   {
    "duration": 12,
    "start_time": "2021-10-11T16:34:46.471Z"
   },
   {
    "duration": 14,
    "start_time": "2021-10-11T16:34:46.487Z"
   },
   {
    "duration": 15,
    "start_time": "2021-10-11T16:34:46.504Z"
   },
   {
    "duration": 49,
    "start_time": "2021-10-11T16:34:46.522Z"
   },
   {
    "duration": 15,
    "start_time": "2021-10-11T16:34:46.573Z"
   },
   {
    "duration": 12,
    "start_time": "2021-10-11T16:34:46.590Z"
   },
   {
    "duration": 8,
    "start_time": "2021-10-11T16:34:46.604Z"
   },
   {
    "duration": 16,
    "start_time": "2021-10-11T16:34:46.614Z"
   },
   {
    "duration": 40,
    "start_time": "2021-10-11T16:34:46.632Z"
   },
   {
    "duration": 16,
    "start_time": "2021-10-11T16:34:46.674Z"
   },
   {
    "duration": 9,
    "start_time": "2021-10-11T16:34:46.692Z"
   },
   {
    "duration": 19,
    "start_time": "2021-10-11T16:34:46.703Z"
   },
   {
    "duration": 49,
    "start_time": "2021-10-11T16:34:46.724Z"
   },
   {
    "duration": 352,
    "start_time": "2021-10-11T16:34:46.775Z"
   },
   {
    "duration": 16,
    "start_time": "2021-10-11T16:34:47.129Z"
   },
   {
    "duration": 282,
    "start_time": "2021-10-11T16:34:47.148Z"
   },
   {
    "duration": 50,
    "start_time": "2021-10-11T16:34:47.435Z"
   },
   {
    "duration": 13,
    "start_time": "2021-10-11T16:34:47.489Z"
   },
   {
    "duration": 11,
    "start_time": "2021-10-11T16:34:47.504Z"
   },
   {
    "duration": 5,
    "start_time": "2021-10-11T16:34:47.518Z"
   },
   {
    "duration": 42,
    "start_time": "2021-10-11T16:34:47.525Z"
   },
   {
    "duration": 19,
    "start_time": "2021-10-11T16:34:47.569Z"
   },
   {
    "duration": 387,
    "start_time": "2021-10-11T16:34:47.591Z"
   },
   {
    "duration": 376,
    "start_time": "2021-10-11T16:34:47.980Z"
   },
   {
    "duration": 9,
    "start_time": "2021-10-11T16:34:48.367Z"
   },
   {
    "duration": 452,
    "start_time": "2021-10-11T16:34:48.378Z"
   },
   {
    "duration": 9,
    "start_time": "2021-10-11T16:34:48.832Z"
   },
   {
    "duration": 380,
    "start_time": "2021-10-11T16:34:48.844Z"
   },
   {
    "duration": 475,
    "start_time": "2021-10-11T16:34:49.227Z"
   },
   {
    "duration": 241,
    "start_time": "2021-10-11T16:34:49.704Z"
   },
   {
    "duration": 414,
    "start_time": "2021-10-11T16:34:49.947Z"
   },
   {
    "duration": 6,
    "start_time": "2021-10-11T16:34:50.363Z"
   },
   {
    "duration": 13,
    "start_time": "2021-10-11T16:34:50.371Z"
   },
   {
    "duration": 90,
    "start_time": "2021-10-11T16:34:50.386Z"
   },
   {
    "duration": -12,
    "start_time": "2021-10-11T16:34:50.490Z"
   },
   {
    "duration": -20,
    "start_time": "2021-10-11T16:34:50.500Z"
   },
   {
    "duration": -32,
    "start_time": "2021-10-11T16:34:50.513Z"
   },
   {
    "duration": -41,
    "start_time": "2021-10-11T16:34:50.523Z"
   },
   {
    "duration": -49,
    "start_time": "2021-10-11T16:34:50.533Z"
   },
   {
    "duration": -58,
    "start_time": "2021-10-11T16:34:50.543Z"
   },
   {
    "duration": -66,
    "start_time": "2021-10-11T16:34:50.552Z"
   },
   {
    "duration": -71,
    "start_time": "2021-10-11T16:34:50.559Z"
   },
   {
    "duration": -80,
    "start_time": "2021-10-11T16:34:50.569Z"
   },
   {
    "duration": 383,
    "start_time": "2021-10-11T16:35:55.929Z"
   },
   {
    "duration": 262,
    "start_time": "2021-10-11T16:35:59.328Z"
   },
   {
    "duration": 268,
    "start_time": "2021-10-11T16:36:07.849Z"
   },
   {
    "duration": 82,
    "start_time": "2021-10-11T16:36:28.784Z"
   },
   {
    "duration": 401,
    "start_time": "2021-10-11T16:36:36.486Z"
   },
   {
    "duration": 436,
    "start_time": "2021-10-11T16:37:07.241Z"
   },
   {
    "duration": 578,
    "start_time": "2021-10-11T16:37:46.755Z"
   },
   {
    "duration": 607,
    "start_time": "2021-10-11T16:37:53.086Z"
   },
   {
    "duration": 403,
    "start_time": "2021-10-11T16:38:11.004Z"
   },
   {
    "duration": 388,
    "start_time": "2021-10-11T16:39:10.908Z"
   },
   {
    "duration": 407,
    "start_time": "2021-10-11T16:39:20.015Z"
   },
   {
    "duration": 401,
    "start_time": "2021-10-11T16:39:56.419Z"
   },
   {
    "duration": 461,
    "start_time": "2021-10-11T16:40:40.939Z"
   },
   {
    "duration": 480,
    "start_time": "2021-10-11T16:40:48.132Z"
   },
   {
    "duration": 6,
    "start_time": "2021-10-11T16:46:48.637Z"
   },
   {
    "duration": 336,
    "start_time": "2021-10-11T16:49:26.181Z"
   },
   {
    "duration": 309,
    "start_time": "2021-10-11T16:49:29.999Z"
   },
   {
    "duration": 1336,
    "start_time": "2021-10-11T16:49:39.499Z"
   },
   {
    "duration": 68,
    "start_time": "2021-10-11T16:49:40.838Z"
   },
   {
    "duration": 15,
    "start_time": "2021-10-11T16:49:40.910Z"
   },
   {
    "duration": 4,
    "start_time": "2021-10-11T16:49:40.929Z"
   },
   {
    "duration": 14,
    "start_time": "2021-10-11T16:49:40.936Z"
   },
   {
    "duration": 5,
    "start_time": "2021-10-11T16:49:40.952Z"
   },
   {
    "duration": 15,
    "start_time": "2021-10-11T16:49:40.959Z"
   },
   {
    "duration": 12,
    "start_time": "2021-10-11T16:49:40.978Z"
   },
   {
    "duration": 14,
    "start_time": "2021-10-11T16:49:40.993Z"
   },
   {
    "duration": 21,
    "start_time": "2021-10-11T16:49:41.009Z"
   },
   {
    "duration": 11,
    "start_time": "2021-10-11T16:49:41.067Z"
   },
   {
    "duration": 10,
    "start_time": "2021-10-11T16:49:41.080Z"
   },
   {
    "duration": 9,
    "start_time": "2021-10-11T16:49:41.092Z"
   },
   {
    "duration": 14,
    "start_time": "2021-10-11T16:49:41.103Z"
   },
   {
    "duration": 11,
    "start_time": "2021-10-11T16:49:41.119Z"
   },
   {
    "duration": 48,
    "start_time": "2021-10-11T16:49:41.132Z"
   },
   {
    "duration": 12,
    "start_time": "2021-10-11T16:49:41.182Z"
   },
   {
    "duration": 19,
    "start_time": "2021-10-11T16:49:41.197Z"
   },
   {
    "duration": 19,
    "start_time": "2021-10-11T16:49:41.218Z"
   },
   {
    "duration": 355,
    "start_time": "2021-10-11T16:49:41.268Z"
   },
   {
    "duration": 16,
    "start_time": "2021-10-11T16:49:41.625Z"
   },
   {
    "duration": 280,
    "start_time": "2021-10-11T16:49:41.644Z"
   },
   {
    "duration": 51,
    "start_time": "2021-10-11T16:49:41.930Z"
   },
   {
    "duration": 9,
    "start_time": "2021-10-11T16:49:41.984Z"
   },
   {
    "duration": 11,
    "start_time": "2021-10-11T16:49:41.996Z"
   },
   {
    "duration": 9,
    "start_time": "2021-10-11T16:49:42.009Z"
   },
   {
    "duration": 14,
    "start_time": "2021-10-11T16:49:42.020Z"
   },
   {
    "duration": 43,
    "start_time": "2021-10-11T16:49:42.037Z"
   },
   {
    "duration": 380,
    "start_time": "2021-10-11T16:49:42.082Z"
   },
   {
    "duration": 455,
    "start_time": "2021-10-11T16:49:42.467Z"
   },
   {
    "duration": 9,
    "start_time": "2021-10-11T16:49:42.924Z"
   },
   {
    "duration": 477,
    "start_time": "2021-10-11T16:49:42.936Z"
   },
   {
    "duration": 9,
    "start_time": "2021-10-11T16:49:43.416Z"
   },
   {
    "duration": 385,
    "start_time": "2021-10-11T16:49:43.427Z"
   },
   {
    "duration": 482,
    "start_time": "2021-10-11T16:49:43.814Z"
   },
   {
    "duration": 209,
    "start_time": "2021-10-11T16:49:44.299Z"
   },
   {
    "duration": 383,
    "start_time": "2021-10-11T16:49:44.510Z"
   },
   {
    "duration": 6,
    "start_time": "2021-10-11T16:49:44.895Z"
   },
   {
    "duration": 418,
    "start_time": "2021-10-11T16:49:44.903Z"
   },
   {
    "duration": 492,
    "start_time": "2021-10-11T16:49:45.323Z"
   },
   {
    "duration": 7,
    "start_time": "2021-10-11T16:49:45.818Z"
   },
   {
    "duration": 239,
    "start_time": "2021-10-11T16:49:45.828Z"
   },
   {
    "duration": 9,
    "start_time": "2021-10-11T16:49:46.070Z"
   },
   {
    "duration": 92,
    "start_time": "2021-10-11T16:49:46.081Z"
   },
   {
    "duration": -89,
    "start_time": "2021-10-11T16:49:46.267Z"
   },
   {
    "duration": -155,
    "start_time": "2021-10-11T16:49:46.335Z"
   },
   {
    "duration": -246,
    "start_time": "2021-10-11T16:49:46.427Z"
   },
   {
    "duration": -281,
    "start_time": "2021-10-11T16:49:46.466Z"
   },
   {
    "duration": -319,
    "start_time": "2021-10-11T16:49:46.506Z"
   },
   {
    "duration": -350,
    "start_time": "2021-10-11T16:49:46.538Z"
   },
   {
    "duration": 14,
    "start_time": "2021-10-11T16:51:48.894Z"
   },
   {
    "duration": 9,
    "start_time": "2021-10-11T16:53:26.739Z"
   },
   {
    "duration": 8,
    "start_time": "2021-10-11T16:56:29.549Z"
   },
   {
    "duration": 8,
    "start_time": "2021-10-11T16:56:37.896Z"
   },
   {
    "duration": 15,
    "start_time": "2021-10-11T16:57:17.018Z"
   },
   {
    "duration": 411,
    "start_time": "2021-10-11T16:57:26.359Z"
   },
   {
    "duration": 317,
    "start_time": "2021-10-11T16:57:45.612Z"
   },
   {
    "duration": 1330,
    "start_time": "2021-10-11T16:57:55.008Z"
   },
   {
    "duration": 60,
    "start_time": "2021-10-11T16:57:56.341Z"
   },
   {
    "duration": 18,
    "start_time": "2021-10-11T16:57:56.404Z"
   },
   {
    "duration": 4,
    "start_time": "2021-10-11T16:57:56.425Z"
   },
   {
    "duration": 16,
    "start_time": "2021-10-11T16:57:56.431Z"
   },
   {
    "duration": 5,
    "start_time": "2021-10-11T16:57:56.449Z"
   },
   {
    "duration": 9,
    "start_time": "2021-10-11T16:57:56.467Z"
   },
   {
    "duration": 13,
    "start_time": "2021-10-11T16:57:56.480Z"
   },
   {
    "duration": 14,
    "start_time": "2021-10-11T16:57:56.496Z"
   },
   {
    "duration": 55,
    "start_time": "2021-10-11T16:57:56.513Z"
   },
   {
    "duration": 16,
    "start_time": "2021-10-11T16:57:56.570Z"
   },
   {
    "duration": 9,
    "start_time": "2021-10-11T16:57:56.588Z"
   },
   {
    "duration": 13,
    "start_time": "2021-10-11T16:57:56.599Z"
   },
   {
    "duration": 14,
    "start_time": "2021-10-11T16:57:56.614Z"
   },
   {
    "duration": 36,
    "start_time": "2021-10-11T16:57:56.631Z"
   },
   {
    "duration": 14,
    "start_time": "2021-10-11T16:57:56.670Z"
   },
   {
    "duration": 6,
    "start_time": "2021-10-11T16:57:56.687Z"
   },
   {
    "duration": 19,
    "start_time": "2021-10-11T16:57:56.696Z"
   },
   {
    "duration": 53,
    "start_time": "2021-10-11T16:57:56.718Z"
   },
   {
    "duration": 371,
    "start_time": "2021-10-11T16:57:56.774Z"
   },
   {
    "duration": 20,
    "start_time": "2021-10-11T16:57:57.148Z"
   },
   {
    "duration": 283,
    "start_time": "2021-10-11T16:57:57.171Z"
   },
   {
    "duration": 42,
    "start_time": "2021-10-11T16:57:57.460Z"
   },
   {
    "duration": 10,
    "start_time": "2021-10-11T16:57:57.505Z"
   },
   {
    "duration": 11,
    "start_time": "2021-10-11T16:57:57.518Z"
   },
   {
    "duration": 5,
    "start_time": "2021-10-11T16:57:57.532Z"
   },
   {
    "duration": 14,
    "start_time": "2021-10-11T16:57:57.568Z"
   },
   {
    "duration": 20,
    "start_time": "2021-10-11T16:57:57.585Z"
   },
   {
    "duration": 392,
    "start_time": "2021-10-11T16:57:57.608Z"
   },
   {
    "duration": 358,
    "start_time": "2021-10-11T16:57:58.003Z"
   },
   {
    "duration": 10,
    "start_time": "2021-10-11T16:57:58.368Z"
   },
   {
    "duration": 439,
    "start_time": "2021-10-11T16:57:58.381Z"
   },
   {
    "duration": 10,
    "start_time": "2021-10-11T16:57:58.823Z"
   },
   {
    "duration": 387,
    "start_time": "2021-10-11T16:57:58.836Z"
   },
   {
    "duration": 477,
    "start_time": "2021-10-11T16:57:59.227Z"
   },
   {
    "duration": 203,
    "start_time": "2021-10-11T16:57:59.707Z"
   },
   {
    "duration": 413,
    "start_time": "2021-10-11T16:57:59.912Z"
   },
   {
    "duration": 7,
    "start_time": "2021-10-11T16:58:00.327Z"
   },
   {
    "duration": 482,
    "start_time": "2021-10-11T16:58:00.336Z"
   },
   {
    "duration": 502,
    "start_time": "2021-10-11T16:58:00.822Z"
   },
   {
    "duration": 6,
    "start_time": "2021-10-11T16:58:01.327Z"
   },
   {
    "duration": 236,
    "start_time": "2021-10-11T16:58:01.335Z"
   },
   {
    "duration": 8,
    "start_time": "2021-10-11T16:58:01.573Z"
   },
   {
    "duration": 22,
    "start_time": "2021-10-11T16:58:01.584Z"
   },
   {
    "duration": 16,
    "start_time": "2021-10-11T16:58:01.609Z"
   },
   {
    "duration": 42,
    "start_time": "2021-10-11T16:58:01.627Z"
   },
   {
    "duration": 15,
    "start_time": "2021-10-11T16:58:01.671Z"
   },
   {
    "duration": 33,
    "start_time": "2021-10-11T16:58:01.689Z"
   },
   {
    "duration": 18,
    "start_time": "2021-10-11T16:58:01.724Z"
   },
   {
    "duration": 31,
    "start_time": "2021-10-11T16:58:01.744Z"
   },
   {
    "duration": 819,
    "start_time": "2021-10-11T17:13:44.751Z"
   },
   {
    "duration": 10,
    "start_time": "2021-10-11T17:14:01.444Z"
   },
   {
    "duration": 13,
    "start_time": "2021-10-11T17:14:23.272Z"
   },
   {
    "duration": 15,
    "start_time": "2021-10-11T17:15:57.615Z"
   },
   {
    "duration": 16,
    "start_time": "2021-10-11T17:16:18.844Z"
   },
   {
    "duration": 15,
    "start_time": "2021-10-11T17:16:26.107Z"
   },
   {
    "duration": 94,
    "start_time": "2021-10-11T17:16:35.304Z"
   },
   {
    "duration": 15,
    "start_time": "2021-10-11T17:16:40.694Z"
   },
   {
    "duration": 17,
    "start_time": "2021-10-11T17:16:45.604Z"
   },
   {
    "duration": 11,
    "start_time": "2021-10-11T17:16:56.409Z"
   },
   {
    "duration": 22,
    "start_time": "2021-10-11T17:17:17.160Z"
   },
   {
    "duration": 14,
    "start_time": "2021-10-11T17:22:35.147Z"
   },
   {
    "duration": 12,
    "start_time": "2021-10-11T17:24:20.524Z"
   },
   {
    "duration": 23,
    "start_time": "2021-10-11T17:25:30.390Z"
   },
   {
    "duration": 1334,
    "start_time": "2021-10-11T17:25:48.617Z"
   },
   {
    "duration": 60,
    "start_time": "2021-10-11T17:25:49.953Z"
   },
   {
    "duration": 15,
    "start_time": "2021-10-11T17:25:50.016Z"
   },
   {
    "duration": 4,
    "start_time": "2021-10-11T17:25:50.034Z"
   },
   {
    "duration": 15,
    "start_time": "2021-10-11T17:25:50.041Z"
   },
   {
    "duration": 5,
    "start_time": "2021-10-11T17:25:50.063Z"
   },
   {
    "duration": 17,
    "start_time": "2021-10-11T17:25:50.070Z"
   },
   {
    "duration": 14,
    "start_time": "2021-10-11T17:25:50.092Z"
   },
   {
    "duration": 15,
    "start_time": "2021-10-11T17:25:50.109Z"
   },
   {
    "duration": 52,
    "start_time": "2021-10-11T17:25:50.126Z"
   },
   {
    "duration": 12,
    "start_time": "2021-10-11T17:25:50.180Z"
   },
   {
    "duration": 17,
    "start_time": "2021-10-11T17:25:50.195Z"
   },
   {
    "duration": 11,
    "start_time": "2021-10-11T17:25:50.214Z"
   },
   {
    "duration": 38,
    "start_time": "2021-10-11T17:25:50.228Z"
   },
   {
    "duration": 7,
    "start_time": "2021-10-11T17:25:50.269Z"
   },
   {
    "duration": 18,
    "start_time": "2021-10-11T17:25:50.278Z"
   },
   {
    "duration": 6,
    "start_time": "2021-10-11T17:25:50.298Z"
   },
   {
    "duration": 19,
    "start_time": "2021-10-11T17:25:50.306Z"
   },
   {
    "duration": 54,
    "start_time": "2021-10-11T17:25:50.327Z"
   },
   {
    "duration": 357,
    "start_time": "2021-10-11T17:25:50.384Z"
   },
   {
    "duration": 24,
    "start_time": "2021-10-11T17:25:50.744Z"
   },
   {
    "duration": 272,
    "start_time": "2021-10-11T17:25:50.771Z"
   },
   {
    "duration": 48,
    "start_time": "2021-10-11T17:25:51.048Z"
   },
   {
    "duration": 9,
    "start_time": "2021-10-11T17:25:51.099Z"
   },
   {
    "duration": 11,
    "start_time": "2021-10-11T17:25:51.111Z"
   },
   {
    "duration": 6,
    "start_time": "2021-10-11T17:25:51.124Z"
   },
   {
    "duration": 44,
    "start_time": "2021-10-11T17:25:51.132Z"
   },
   {
    "duration": 19,
    "start_time": "2021-10-11T17:25:51.179Z"
   },
   {
    "duration": 375,
    "start_time": "2021-10-11T17:25:51.200Z"
   },
   {
    "duration": 384,
    "start_time": "2021-10-11T17:25:51.577Z"
   },
   {
    "duration": 10,
    "start_time": "2021-10-11T17:25:51.967Z"
   },
   {
    "duration": 437,
    "start_time": "2021-10-11T17:25:51.979Z"
   },
   {
    "duration": 9,
    "start_time": "2021-10-11T17:25:52.419Z"
   },
   {
    "duration": 381,
    "start_time": "2021-10-11T17:25:52.430Z"
   },
   {
    "duration": 491,
    "start_time": "2021-10-11T17:25:52.813Z"
   },
   {
    "duration": 201,
    "start_time": "2021-10-11T17:25:53.307Z"
   },
   {
    "duration": 402,
    "start_time": "2021-10-11T17:25:53.510Z"
   },
   {
    "duration": 5,
    "start_time": "2021-10-11T17:25:53.914Z"
   },
   {
    "duration": 479,
    "start_time": "2021-10-11T17:25:53.921Z"
   },
   {
    "duration": 436,
    "start_time": "2021-10-11T17:25:54.402Z"
   },
   {
    "duration": 5,
    "start_time": "2021-10-11T17:25:54.841Z"
   },
   {
    "duration": 238,
    "start_time": "2021-10-11T17:25:54.849Z"
   },
   {
    "duration": 8,
    "start_time": "2021-10-11T17:25:55.089Z"
   },
   {
    "duration": 15,
    "start_time": "2021-10-11T17:25:55.099Z"
   },
   {
    "duration": 17,
    "start_time": "2021-10-11T17:25:55.117Z"
   },
   {
    "duration": 48,
    "start_time": "2021-10-11T17:25:55.136Z"
   },
   {
    "duration": 12,
    "start_time": "2021-10-11T17:25:55.187Z"
   },
   {
    "duration": 13,
    "start_time": "2021-10-11T17:25:55.201Z"
   },
   {
    "duration": 99,
    "start_time": "2021-10-11T17:25:55.217Z"
   },
   {
    "duration": -25,
    "start_time": "2021-10-11T17:25:55.343Z"
   },
   {
    "duration": 22,
    "start_time": "2021-10-11T17:26:20.584Z"
   },
   {
    "duration": 1397,
    "start_time": "2021-10-12T03:46:02.477Z"
   },
   {
    "duration": 70,
    "start_time": "2021-10-12T03:46:03.877Z"
   },
   {
    "duration": 21,
    "start_time": "2021-10-12T03:46:03.950Z"
   },
   {
    "duration": 5,
    "start_time": "2021-10-12T03:46:03.975Z"
   },
   {
    "duration": 18,
    "start_time": "2021-10-12T03:46:03.982Z"
   },
   {
    "duration": 5,
    "start_time": "2021-10-12T03:46:04.002Z"
   },
   {
    "duration": 12,
    "start_time": "2021-10-12T03:46:04.009Z"
   },
   {
    "duration": 50,
    "start_time": "2021-10-12T03:46:04.024Z"
   },
   {
    "duration": 22,
    "start_time": "2021-10-12T03:46:04.077Z"
   },
   {
    "duration": 19,
    "start_time": "2021-10-12T03:46:04.102Z"
   },
   {
    "duration": 36,
    "start_time": "2021-10-12T03:46:04.124Z"
   },
   {
    "duration": 12,
    "start_time": "2021-10-12T03:46:04.165Z"
   },
   {
    "duration": 6,
    "start_time": "2021-10-12T03:46:04.179Z"
   },
   {
    "duration": 16,
    "start_time": "2021-10-12T03:46:04.188Z"
   },
   {
    "duration": 6,
    "start_time": "2021-10-12T03:46:04.207Z"
   },
   {
    "duration": 56,
    "start_time": "2021-10-12T03:46:04.216Z"
   },
   {
    "duration": 7,
    "start_time": "2021-10-12T03:46:04.276Z"
   },
   {
    "duration": 20,
    "start_time": "2021-10-12T03:46:04.286Z"
   },
   {
    "duration": 50,
    "start_time": "2021-10-12T03:46:04.308Z"
   },
   {
    "duration": 366,
    "start_time": "2021-10-12T03:46:04.362Z"
   },
   {
    "duration": 32,
    "start_time": "2021-10-12T03:46:04.730Z"
   },
   {
    "duration": 282,
    "start_time": "2021-10-12T03:46:04.765Z"
   },
   {
    "duration": 48,
    "start_time": "2021-10-12T03:46:05.057Z"
   },
   {
    "duration": 10,
    "start_time": "2021-10-12T03:46:05.108Z"
   },
   {
    "duration": 16,
    "start_time": "2021-10-12T03:46:05.120Z"
   },
   {
    "duration": 21,
    "start_time": "2021-10-12T03:46:05.139Z"
   },
   {
    "duration": 18,
    "start_time": "2021-10-12T03:46:05.164Z"
   },
   {
    "duration": 19,
    "start_time": "2021-10-12T03:46:05.185Z"
   },
   {
    "duration": 406,
    "start_time": "2021-10-12T03:46:05.206Z"
   },
   {
    "duration": 357,
    "start_time": "2021-10-12T03:46:05.614Z"
   },
   {
    "duration": 8,
    "start_time": "2021-10-12T03:46:05.976Z"
   },
   {
    "duration": 435,
    "start_time": "2021-10-12T03:46:05.987Z"
   },
   {
    "duration": 8,
    "start_time": "2021-10-12T03:46:06.425Z"
   },
   {
    "duration": 378,
    "start_time": "2021-10-12T03:46:06.436Z"
   },
   {
    "duration": 486,
    "start_time": "2021-10-12T03:46:06.817Z"
   },
   {
    "duration": 232,
    "start_time": "2021-10-12T03:46:07.307Z"
   },
   {
    "duration": 406,
    "start_time": "2021-10-12T03:46:07.542Z"
   },
   {
    "duration": 11,
    "start_time": "2021-10-12T03:46:07.950Z"
   },
   {
    "duration": 451,
    "start_time": "2021-10-12T03:46:07.965Z"
   },
   {
    "duration": 483,
    "start_time": "2021-10-12T03:46:08.418Z"
   },
   {
    "duration": 6,
    "start_time": "2021-10-12T03:46:08.903Z"
   },
   {
    "duration": 222,
    "start_time": "2021-10-12T03:46:08.912Z"
   },
   {
    "duration": 8,
    "start_time": "2021-10-12T03:46:09.136Z"
   },
   {
    "duration": 18,
    "start_time": "2021-10-12T03:46:09.157Z"
   },
   {
    "duration": 18,
    "start_time": "2021-10-12T03:46:09.177Z"
   },
   {
    "duration": 13,
    "start_time": "2021-10-12T03:46:09.198Z"
   },
   {
    "duration": 54,
    "start_time": "2021-10-12T03:46:09.214Z"
   },
   {
    "duration": 11,
    "start_time": "2021-10-12T03:46:09.273Z"
   },
   {
    "duration": 22,
    "start_time": "2021-10-12T03:46:09.286Z"
   },
   {
    "duration": 6,
    "start_time": "2021-10-12T03:49:21.630Z"
   },
   {
    "duration": 5,
    "start_time": "2021-10-12T03:49:28.112Z"
   },
   {
    "duration": 6,
    "start_time": "2021-10-12T03:49:31.398Z"
   }
  ],
  "kernelspec": {
   "display_name": "Python 3",
   "language": "python",
   "name": "python3"
  },
  "language_info": {
   "codemirror_mode": {
    "name": "ipython",
    "version": 3
   },
   "file_extension": ".py",
   "mimetype": "text/x-python",
   "name": "python",
   "nbconvert_exporter": "python",
   "pygments_lexer": "ipython3",
   "version": "3.8.10"
  },
  "toc": {
   "base_numbering": 1,
   "nav_menu": {},
   "number_sections": true,
   "sideBar": true,
   "skip_h1_title": true,
   "title_cell": "Table of Contents",
   "title_sidebar": "Contents",
   "toc_cell": false,
   "toc_position": {},
   "toc_section_display": true,
   "toc_window_display": false
  }
 },
 "nbformat": 4,
 "nbformat_minor": 2
}
