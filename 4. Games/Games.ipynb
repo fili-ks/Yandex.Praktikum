{
 "cells": [
  {
   "cell_type": "markdown",
   "metadata": {},
   "source": [
    "# Исследование популярности игр"
   ]
  },
  {
   "cell_type": "markdown",
   "metadata": {},
   "source": [
    "# Цель проекта"
   ]
  },
  {
   "cell_type": "markdown",
   "metadata": {},
   "source": [
    "Проанализировать исторические данные о продажах игр, оценки пользователей и экспертов. Необходимо выявить закономерности, определяющие успешность игры. \n",
    "Это позволит сделать ставку на потенциально популярный продукт и спланировать рекламные кампании."
   ]
  },
  {
   "cell_type": "markdown",
   "metadata": {},
   "source": [
    "# Описание проекта"
   ]
  },
  {
   "cell_type": "markdown",
   "metadata": {},
   "source": [
    "Из открытых источников доступны исторические данные о продажах игр, оценки пользователей и экспертов, жанры и платформы (например, Xbox или PlayStation). Вам нужно выявить определяющие успешность игры закономерности. Это позволит сделать ставку на потенциально популярный продукт и спланировать рекламные кампании.\n",
    "Перед вами данные до 2016 года. Представим, что сейчас декабрь 2016 г., и вы планируете кампанию на 2017-й. Нужно отработать принцип работы с данными. Неважно, прогнозируете ли вы продажи на 2017 год по данным 2016-го или же 2027-й — по данным 2026 года. <br>\n",
    "В наборе данных попадается аббревиатура ESRB (Entertainment Software Rating Board) — это ассоциация, определяющая возрастной рейтинг компьютерных игр. ESRB оценивает игровой контент и присваивает ему подходящую возрастную категорию, например, «Для взрослых», «Для детей младшего возраста» или «Для подростков».\n"
   ]
  },
  {
   "cell_type": "markdown",
   "metadata": {},
   "source": [
    "##  Изучение данных "
   ]
  },
  {
   "cell_type": "code",
   "execution_count": 1,
   "metadata": {},
   "outputs": [],
   "source": [
    "import pandas as pd\n",
    "import matplotlib.pyplot as plt \n",
    "import seaborn as sns\n",
    "from scipy import stats as st\n"
   ]
  },
  {
   "cell_type": "code",
   "execution_count": 2,
   "metadata": {
    "scrolled": true
   },
   "outputs": [
    {
     "data": {
      "text/html": [
       "<div>\n",
       "<style scoped>\n",
       "    .dataframe tbody tr th:only-of-type {\n",
       "        vertical-align: middle;\n",
       "    }\n",
       "\n",
       "    .dataframe tbody tr th {\n",
       "        vertical-align: top;\n",
       "    }\n",
       "\n",
       "    .dataframe thead th {\n",
       "        text-align: right;\n",
       "    }\n",
       "</style>\n",
       "<table border=\"1\" class=\"dataframe\">\n",
       "  <thead>\n",
       "    <tr style=\"text-align: right;\">\n",
       "      <th></th>\n",
       "      <th>Name</th>\n",
       "      <th>Platform</th>\n",
       "      <th>Year_of_Release</th>\n",
       "      <th>Genre</th>\n",
       "      <th>NA_sales</th>\n",
       "      <th>EU_sales</th>\n",
       "      <th>JP_sales</th>\n",
       "      <th>Other_sales</th>\n",
       "      <th>Critic_Score</th>\n",
       "      <th>User_Score</th>\n",
       "      <th>Rating</th>\n",
       "    </tr>\n",
       "  </thead>\n",
       "  <tbody>\n",
       "    <tr>\n",
       "      <td>0</td>\n",
       "      <td>Wii Sports</td>\n",
       "      <td>Wii</td>\n",
       "      <td>2006.0</td>\n",
       "      <td>Sports</td>\n",
       "      <td>41.36</td>\n",
       "      <td>28.96</td>\n",
       "      <td>3.77</td>\n",
       "      <td>8.45</td>\n",
       "      <td>76.0</td>\n",
       "      <td>8</td>\n",
       "      <td>E</td>\n",
       "    </tr>\n",
       "    <tr>\n",
       "      <td>1</td>\n",
       "      <td>Super Mario Bros.</td>\n",
       "      <td>NES</td>\n",
       "      <td>1985.0</td>\n",
       "      <td>Platform</td>\n",
       "      <td>29.08</td>\n",
       "      <td>3.58</td>\n",
       "      <td>6.81</td>\n",
       "      <td>0.77</td>\n",
       "      <td>NaN</td>\n",
       "      <td>NaN</td>\n",
       "      <td>NaN</td>\n",
       "    </tr>\n",
       "    <tr>\n",
       "      <td>2</td>\n",
       "      <td>Mario Kart Wii</td>\n",
       "      <td>Wii</td>\n",
       "      <td>2008.0</td>\n",
       "      <td>Racing</td>\n",
       "      <td>15.68</td>\n",
       "      <td>12.76</td>\n",
       "      <td>3.79</td>\n",
       "      <td>3.29</td>\n",
       "      <td>82.0</td>\n",
       "      <td>8.3</td>\n",
       "      <td>E</td>\n",
       "    </tr>\n",
       "    <tr>\n",
       "      <td>3</td>\n",
       "      <td>Wii Sports Resort</td>\n",
       "      <td>Wii</td>\n",
       "      <td>2009.0</td>\n",
       "      <td>Sports</td>\n",
       "      <td>15.61</td>\n",
       "      <td>10.93</td>\n",
       "      <td>3.28</td>\n",
       "      <td>2.95</td>\n",
       "      <td>80.0</td>\n",
       "      <td>8</td>\n",
       "      <td>E</td>\n",
       "    </tr>\n",
       "    <tr>\n",
       "      <td>4</td>\n",
       "      <td>Pokemon Red/Pokemon Blue</td>\n",
       "      <td>GB</td>\n",
       "      <td>1996.0</td>\n",
       "      <td>Role-Playing</td>\n",
       "      <td>11.27</td>\n",
       "      <td>8.89</td>\n",
       "      <td>10.22</td>\n",
       "      <td>1.00</td>\n",
       "      <td>NaN</td>\n",
       "      <td>NaN</td>\n",
       "      <td>NaN</td>\n",
       "    </tr>\n",
       "    <tr>\n",
       "      <td>5</td>\n",
       "      <td>Tetris</td>\n",
       "      <td>GB</td>\n",
       "      <td>1989.0</td>\n",
       "      <td>Puzzle</td>\n",
       "      <td>23.20</td>\n",
       "      <td>2.26</td>\n",
       "      <td>4.22</td>\n",
       "      <td>0.58</td>\n",
       "      <td>NaN</td>\n",
       "      <td>NaN</td>\n",
       "      <td>NaN</td>\n",
       "    </tr>\n",
       "    <tr>\n",
       "      <td>6</td>\n",
       "      <td>New Super Mario Bros.</td>\n",
       "      <td>DS</td>\n",
       "      <td>2006.0</td>\n",
       "      <td>Platform</td>\n",
       "      <td>11.28</td>\n",
       "      <td>9.14</td>\n",
       "      <td>6.50</td>\n",
       "      <td>2.88</td>\n",
       "      <td>89.0</td>\n",
       "      <td>8.5</td>\n",
       "      <td>E</td>\n",
       "    </tr>\n",
       "    <tr>\n",
       "      <td>7</td>\n",
       "      <td>Wii Play</td>\n",
       "      <td>Wii</td>\n",
       "      <td>2006.0</td>\n",
       "      <td>Misc</td>\n",
       "      <td>13.96</td>\n",
       "      <td>9.18</td>\n",
       "      <td>2.93</td>\n",
       "      <td>2.84</td>\n",
       "      <td>58.0</td>\n",
       "      <td>6.6</td>\n",
       "      <td>E</td>\n",
       "    </tr>\n",
       "    <tr>\n",
       "      <td>8</td>\n",
       "      <td>New Super Mario Bros. Wii</td>\n",
       "      <td>Wii</td>\n",
       "      <td>2009.0</td>\n",
       "      <td>Platform</td>\n",
       "      <td>14.44</td>\n",
       "      <td>6.94</td>\n",
       "      <td>4.70</td>\n",
       "      <td>2.24</td>\n",
       "      <td>87.0</td>\n",
       "      <td>8.4</td>\n",
       "      <td>E</td>\n",
       "    </tr>\n",
       "    <tr>\n",
       "      <td>9</td>\n",
       "      <td>Duck Hunt</td>\n",
       "      <td>NES</td>\n",
       "      <td>1984.0</td>\n",
       "      <td>Shooter</td>\n",
       "      <td>26.93</td>\n",
       "      <td>0.63</td>\n",
       "      <td>0.28</td>\n",
       "      <td>0.47</td>\n",
       "      <td>NaN</td>\n",
       "      <td>NaN</td>\n",
       "      <td>NaN</td>\n",
       "    </tr>\n",
       "  </tbody>\n",
       "</table>\n",
       "</div>"
      ],
      "text/plain": [
       "                        Name Platform  Year_of_Release         Genre  \\\n",
       "0                 Wii Sports      Wii           2006.0        Sports   \n",
       "1          Super Mario Bros.      NES           1985.0      Platform   \n",
       "2             Mario Kart Wii      Wii           2008.0        Racing   \n",
       "3          Wii Sports Resort      Wii           2009.0        Sports   \n",
       "4   Pokemon Red/Pokemon Blue       GB           1996.0  Role-Playing   \n",
       "5                     Tetris       GB           1989.0        Puzzle   \n",
       "6      New Super Mario Bros.       DS           2006.0      Platform   \n",
       "7                   Wii Play      Wii           2006.0          Misc   \n",
       "8  New Super Mario Bros. Wii      Wii           2009.0      Platform   \n",
       "9                  Duck Hunt      NES           1984.0       Shooter   \n",
       "\n",
       "   NA_sales  EU_sales  JP_sales  Other_sales  Critic_Score User_Score Rating  \n",
       "0     41.36     28.96      3.77         8.45          76.0          8      E  \n",
       "1     29.08      3.58      6.81         0.77           NaN        NaN    NaN  \n",
       "2     15.68     12.76      3.79         3.29          82.0        8.3      E  \n",
       "3     15.61     10.93      3.28         2.95          80.0          8      E  \n",
       "4     11.27      8.89     10.22         1.00           NaN        NaN    NaN  \n",
       "5     23.20      2.26      4.22         0.58           NaN        NaN    NaN  \n",
       "6     11.28      9.14      6.50         2.88          89.0        8.5      E  \n",
       "7     13.96      9.18      2.93         2.84          58.0        6.6      E  \n",
       "8     14.44      6.94      4.70         2.24          87.0        8.4      E  \n",
       "9     26.93      0.63      0.28         0.47           NaN        NaN    NaN  "
      ]
     },
     "execution_count": 2,
     "metadata": {},
     "output_type": "execute_result"
    }
   ],
   "source": [
    "df = pd.read_csv('/datasets/games.csv')\n",
    "df.head(10)"
   ]
  },
  {
   "cell_type": "markdown",
   "metadata": {},
   "source": [
    "### Описание данных:\n",
    "- Name — название игры\n",
    "- Platform — платформа\n",
    "- Year_of_Release — год выпуска\n",
    "- Genre — жанр игры\n",
    "- NA_sales — продажи в Северной Америке (миллионы проданных копий)\n",
    "- EU_sales — продажи в Европе (миллионы проданных копий)\n",
    "- JP_sales — продажи в Японии (миллионы проданных копий)\n",
    "- Other_sales — продажи в других странах (миллионы проданных копий)\n",
    "- Critic_Score — оценка критиков (максимум 100)\n",
    "- User_Score — оценка пользователей (максимум 10)\n",
    "- Rating — рейтинг от организации ESRB (англ. Entertainment Software Rating Board). Эта ассоциация определяет рейтинг компьютерных игр и присваивает им подходящую возрастную категорию."
   ]
  },
  {
   "cell_type": "code",
   "execution_count": 3,
   "metadata": {},
   "outputs": [
    {
     "name": "stdout",
     "output_type": "stream",
     "text": [
      "<class 'pandas.core.frame.DataFrame'>\n",
      "RangeIndex: 16715 entries, 0 to 16714\n",
      "Data columns (total 11 columns):\n",
      "Name               16713 non-null object\n",
      "Platform           16715 non-null object\n",
      "Year_of_Release    16446 non-null float64\n",
      "Genre              16713 non-null object\n",
      "NA_sales           16715 non-null float64\n",
      "EU_sales           16715 non-null float64\n",
      "JP_sales           16715 non-null float64\n",
      "Other_sales        16715 non-null float64\n",
      "Critic_Score       8137 non-null float64\n",
      "User_Score         10014 non-null object\n",
      "Rating             9949 non-null object\n",
      "dtypes: float64(6), object(5)\n",
      "memory usage: 1.4+ MB\n"
     ]
    }
   ],
   "source": [
    "df.info()"
   ]
  },
  {
   "cell_type": "markdown",
   "metadata": {},
   "source": [
    "Датафрейм состоит из 16715 строк и 11 колонок. <br>\n",
    "Есть пропущенные значения в названиях игр, колонке с годом выпуска (тип данных тут float - надо заменить), в жанрах, оценке критиков, оценке пользователей и в колонке с рейтингом от организации ESRB. <br>\n",
    "Также нам известно, что данные могут быть неполными."
   ]
  },
  {
   "cell_type": "markdown",
   "metadata": {},
   "source": [
    "Посмотрим более детально:"
   ]
  },
  {
   "cell_type": "code",
   "execution_count": 4,
   "metadata": {},
   "outputs": [
    {
     "data": {
      "text/plain": [
       "count                           16713\n",
       "unique                          11559\n",
       "top       Need for Speed: Most Wanted\n",
       "freq                               12\n",
       "Name: Name, dtype: object"
      ]
     },
     "execution_count": 4,
     "metadata": {},
     "output_type": "execute_result"
    }
   ],
   "source": [
    "df['Name'].describe()"
   ]
  },
  {
   "cell_type": "markdown",
   "metadata": {},
   "source": [
    "Уникальных названий игр меньше, чем всего строк - это могут быть дубликаты строк или данные об одной и той же игре разного года выпуска. \n",
    "Самой популярной игрой является Need for Speed: Most Wanted - эта игра упоминается 12 раз.  <br>\n",
    "Для удобства на этапе предобработки данных надо будет привести все названия к единому регистру."
   ]
  },
  {
   "cell_type": "code",
   "execution_count": 5,
   "metadata": {},
   "outputs": [
    {
     "data": {
      "text/plain": [
       "count     16715\n",
       "unique       31\n",
       "top         PS2\n",
       "freq       2161\n",
       "Name: Platform, dtype: object"
      ]
     },
     "execution_count": 5,
     "metadata": {},
     "output_type": "execute_result"
    }
   ],
   "source": [
    "df['Platform'].describe()"
   ]
  },
  {
   "cell_type": "markdown",
   "metadata": {},
   "source": [
    "Игровых платформ не так уж и много - уникальных значений всего 31. \n",
    "Самой популярной платформой является PS2 - 2161 раз. <br>\n",
    "Также, как и названия игр, названия платформ надо будет привести к единому регистру. "
   ]
  },
  {
   "cell_type": "code",
   "execution_count": 6,
   "metadata": {},
   "outputs": [
    {
     "data": {
      "text/html": [
       "<div>\n",
       "<style scoped>\n",
       "    .dataframe tbody tr th:only-of-type {\n",
       "        vertical-align: middle;\n",
       "    }\n",
       "\n",
       "    .dataframe tbody tr th {\n",
       "        vertical-align: top;\n",
       "    }\n",
       "\n",
       "    .dataframe thead th {\n",
       "        text-align: right;\n",
       "    }\n",
       "</style>\n",
       "<table border=\"1\" class=\"dataframe\">\n",
       "  <thead>\n",
       "    <tr style=\"text-align: right;\">\n",
       "      <th></th>\n",
       "      <th>Year_of_Release</th>\n",
       "    </tr>\n",
       "  </thead>\n",
       "  <tbody>\n",
       "    <tr>\n",
       "      <td>max</td>\n",
       "      <td>2016.0</td>\n",
       "    </tr>\n",
       "    <tr>\n",
       "      <td>min</td>\n",
       "      <td>1980.0</td>\n",
       "    </tr>\n",
       "  </tbody>\n",
       "</table>\n",
       "</div>"
      ],
      "text/plain": [
       "     Year_of_Release\n",
       "max           2016.0\n",
       "min           1980.0"
      ]
     },
     "execution_count": 6,
     "metadata": {},
     "output_type": "execute_result"
    }
   ],
   "source": [
    "df.agg({'Year_of_Release':['max','min']})"
   ]
  },
  {
   "cell_type": "markdown",
   "metadata": {},
   "source": [
    "Самая старая игры была выпущена в 1980! А вот самая новенькая - в 2016. "
   ]
  },
  {
   "cell_type": "code",
   "execution_count": 7,
   "metadata": {},
   "outputs": [
    {
     "data": {
      "text/plain": [
       "count      16713\n",
       "unique        12\n",
       "top       Action\n",
       "freq        3369\n",
       "Name: Genre, dtype: object"
      ]
     },
     "execution_count": 7,
     "metadata": {},
     "output_type": "execute_result"
    }
   ],
   "source": [
    "df['Genre'].describe()\n",
    "# df['Genre'].unique()"
   ]
  },
  {
   "cell_type": "markdown",
   "metadata": {},
   "source": [
    "Уникальных жанров не много - всего 12. <br>\n",
    "Самым популярным жанром является Action - он упоминается 3369 раз. <br>\n",
    "Необходимо привести названия к единому регистру."
   ]
  },
  {
   "cell_type": "code",
   "execution_count": 8,
   "metadata": {
    "scrolled": true
   },
   "outputs": [
    {
     "data": {
      "text/plain": [
       "count    16715.000000\n",
       "mean         0.263377\n",
       "std          0.813604\n",
       "min          0.000000\n",
       "25%          0.000000\n",
       "50%          0.080000\n",
       "75%          0.240000\n",
       "max         41.360000\n",
       "Name: NA_sales, dtype: float64"
      ]
     },
     "execution_count": 8,
     "metadata": {},
     "output_type": "execute_result"
    }
   ],
   "source": [
    "df['NA_sales'].describe()"
   ]
  },
  {
   "cell_type": "markdown",
   "metadata": {},
   "source": [
    "Рекорд Северной Америки - 41 миллион копий. И игра, которую чаще всего продавали:"
   ]
  },
  {
   "cell_type": "code",
   "execution_count": 9,
   "metadata": {},
   "outputs": [
    {
     "data": {
      "text/plain": [
       "0    Wii Sports\n",
       "Name: Name, dtype: object"
      ]
     },
     "execution_count": 9,
     "metadata": {},
     "output_type": "execute_result"
    }
   ],
   "source": [
    "df[df['NA_sales'] == df['NA_sales'].max()]['Name']"
   ]
  },
  {
   "cell_type": "markdown",
   "metadata": {},
   "source": [
    "Wii Sports! Это та самая игра, где у человечков смешные руки. 41 миллион копий!"
   ]
  },
  {
   "cell_type": "code",
   "execution_count": 10,
   "metadata": {
    "scrolled": false
   },
   "outputs": [
    {
     "data": {
      "text/plain": [
       "count    16715.000000\n",
       "mean         0.145060\n",
       "std          0.503339\n",
       "min          0.000000\n",
       "25%          0.000000\n",
       "50%          0.020000\n",
       "75%          0.110000\n",
       "max         28.960000\n",
       "Name: EU_sales, dtype: float64"
      ]
     },
     "execution_count": 10,
     "metadata": {},
     "output_type": "execute_result"
    }
   ],
   "source": [
    "df['EU_sales'].describe()"
   ]
  },
  {
   "cell_type": "markdown",
   "metadata": {},
   "source": [
    "В Европе рекорд чуть пониже - почти 29 миллионов копий. "
   ]
  },
  {
   "cell_type": "code",
   "execution_count": 11,
   "metadata": {},
   "outputs": [
    {
     "data": {
      "text/plain": [
       "0    Wii Sports\n",
       "Name: Name, dtype: object"
      ]
     },
     "execution_count": 11,
     "metadata": {},
     "output_type": "execute_result"
    }
   ],
   "source": [
    "df[df['EU_sales'] == df['EU_sales'].max()]['Name']"
   ]
  },
  {
   "cell_type": "markdown",
   "metadata": {},
   "source": [
    "В Европе первенство тоже за  Wii Sports. "
   ]
  },
  {
   "cell_type": "code",
   "execution_count": 12,
   "metadata": {
    "scrolled": true
   },
   "outputs": [
    {
     "data": {
      "text/plain": [
       "count    16715.000000\n",
       "mean         0.077617\n",
       "std          0.308853\n",
       "min          0.000000\n",
       "25%          0.000000\n",
       "50%          0.000000\n",
       "75%          0.040000\n",
       "max         10.220000\n",
       "Name: JP_sales, dtype: float64"
      ]
     },
     "execution_count": 12,
     "metadata": {},
     "output_type": "execute_result"
    }
   ],
   "source": [
    "df['JP_sales'].describe()"
   ]
  },
  {
   "cell_type": "markdown",
   "metadata": {},
   "source": [
    "В Японии - 10 миллионов. Проверим и тут бестселлер:"
   ]
  },
  {
   "cell_type": "code",
   "execution_count": 13,
   "metadata": {},
   "outputs": [
    {
     "data": {
      "text/plain": [
       "4    Pokemon Red/Pokemon Blue\n",
       "Name: Name, dtype: object"
      ]
     },
     "execution_count": 13,
     "metadata": {},
     "output_type": "execute_result"
    }
   ],
   "source": [
    "df[df['JP_sales'] == df['JP_sales'].max()]['Name']"
   ]
  },
  {
   "cell_type": "markdown",
   "metadata": {},
   "source": [
    "а тут в топе - Покемоны! "
   ]
  },
  {
   "cell_type": "code",
   "execution_count": 14,
   "metadata": {},
   "outputs": [
    {
     "data": {
      "text/plain": [
       "count    16715.000000\n",
       "mean         0.047342\n",
       "std          0.186731\n",
       "min          0.000000\n",
       "25%          0.000000\n",
       "50%          0.010000\n",
       "75%          0.030000\n",
       "max         10.570000\n",
       "Name: Other_sales, dtype: float64"
      ]
     },
     "execution_count": 14,
     "metadata": {},
     "output_type": "execute_result"
    }
   ],
   "source": [
    "df['Other_sales'].describe()"
   ]
  },
  {
   "cell_type": "code",
   "execution_count": 15,
   "metadata": {},
   "outputs": [
    {
     "data": {
      "text/plain": [
       "17    Grand Theft Auto: San Andreas\n",
       "Name: Name, dtype: object"
      ]
     },
     "execution_count": 15,
     "metadata": {},
     "output_type": "execute_result"
    }
   ],
   "source": [
    "df[df['Other_sales'] == df['Other_sales'].max()]['Name']"
   ]
  },
  {
   "cell_type": "markdown",
   "metadata": {},
   "source": [
    "А в других странах чаще покупали ГТА - было продано 10 с половиной миллионов копий."
   ]
  },
  {
   "cell_type": "code",
   "execution_count": 16,
   "metadata": {},
   "outputs": [
    {
     "data": {
      "text/plain": [
       "count    8137.000000\n",
       "mean       68.967679\n",
       "std        13.938165\n",
       "min        13.000000\n",
       "25%        60.000000\n",
       "50%        71.000000\n",
       "75%        79.000000\n",
       "max        98.000000\n",
       "Name: Critic_Score, dtype: float64"
      ]
     },
     "execution_count": 16,
     "metadata": {},
     "output_type": "execute_result"
    }
   ],
   "source": [
    "df['Critic_Score'].describe()"
   ]
  },
  {
   "cell_type": "markdown",
   "metadata": {},
   "source": [
    "В среднем критики оценивают игры почти 69 баллов (ну, это больше половины - неплохо), самая низкая оценка - 13 баллов, а самая высокая близка к идеалу - 98 баллов."
   ]
  },
  {
   "cell_type": "code",
   "execution_count": 17,
   "metadata": {},
   "outputs": [
    {
     "data": {
      "text/html": [
       "<div>\n",
       "<style scoped>\n",
       "    .dataframe tbody tr th:only-of-type {\n",
       "        vertical-align: middle;\n",
       "    }\n",
       "\n",
       "    .dataframe tbody tr th {\n",
       "        vertical-align: top;\n",
       "    }\n",
       "\n",
       "    .dataframe thead th {\n",
       "        text-align: right;\n",
       "    }\n",
       "</style>\n",
       "<table border=\"1\" class=\"dataframe\">\n",
       "  <thead>\n",
       "    <tr style=\"text-align: right;\">\n",
       "      <th></th>\n",
       "      <th>Name</th>\n",
       "      <th>Critic_Score</th>\n",
       "    </tr>\n",
       "  </thead>\n",
       "  <tbody>\n",
       "    <tr>\n",
       "      <td>51</td>\n",
       "      <td>Grand Theft Auto IV</td>\n",
       "      <td>98.0</td>\n",
       "    </tr>\n",
       "    <tr>\n",
       "      <td>57</td>\n",
       "      <td>Grand Theft Auto IV</td>\n",
       "      <td>98.0</td>\n",
       "    </tr>\n",
       "    <tr>\n",
       "      <td>227</td>\n",
       "      <td>Tony Hawk's Pro Skater 2</td>\n",
       "      <td>98.0</td>\n",
       "    </tr>\n",
       "    <tr>\n",
       "      <td>5350</td>\n",
       "      <td>SoulCalibur</td>\n",
       "      <td>98.0</td>\n",
       "    </tr>\n",
       "    <tr>\n",
       "      <td>13689</td>\n",
       "      <td>Ride to Hell</td>\n",
       "      <td>13.0</td>\n",
       "    </tr>\n",
       "  </tbody>\n",
       "</table>\n",
       "</div>"
      ],
      "text/plain": [
       "                           Name  Critic_Score\n",
       "51          Grand Theft Auto IV          98.0\n",
       "57          Grand Theft Auto IV          98.0\n",
       "227    Tony Hawk's Pro Skater 2          98.0\n",
       "5350                SoulCalibur          98.0\n",
       "13689              Ride to Hell          13.0"
      ]
     },
     "execution_count": 17,
     "metadata": {},
     "output_type": "execute_result"
    }
   ],
   "source": [
    "df[(df['Critic_Score'] == df['Critic_Score'].max())|(df['Critic_Score'] == df['Critic_Score'].min())][['Name', 'Critic_Score']]"
   ]
  },
  {
   "cell_type": "markdown",
   "metadata": {},
   "source": [
    "Критики высоко оценили Grand Theft Auto IV, Tony Hawk's Pro Skater 2 и SoulCalibur. А вот Ride to Hell удостоился всего 13 баллов. "
   ]
  },
  {
   "cell_type": "code",
   "execution_count": 18,
   "metadata": {},
   "outputs": [
    {
     "data": {
      "text/plain": [
       "count     10014\n",
       "unique       96\n",
       "top         tbd\n",
       "freq       2424\n",
       "Name: User_Score, dtype: object"
      ]
     },
     "execution_count": 18,
     "metadata": {},
     "output_type": "execute_result"
    }
   ],
   "source": [
    "df['User_Score'].describe()"
   ]
  },
  {
   "cell_type": "markdown",
   "metadata": {},
   "source": [
    "Так, тут чаще всего встречается tbd (to be determined), что переводится как \"подлежит уточнению\". Это может быть связано с всплеском активности - как положительных, так и отрицательных оценок. <br>\n",
    "Уберем из выборки эти строки:"
   ]
  },
  {
   "cell_type": "code",
   "execution_count": 19,
   "metadata": {},
   "outputs": [
    {
     "data": {
      "text/plain": [
       "count     7590\n",
       "unique      95\n",
       "top        7.8\n",
       "freq       324\n",
       "Name: User_Score, dtype: object"
      ]
     },
     "execution_count": 19,
     "metadata": {},
     "output_type": "execute_result"
    }
   ],
   "source": [
    "df[df['User_Score'] != 'tbd']['User_Score'].describe()"
   ]
  },
  {
   "cell_type": "markdown",
   "metadata": {},
   "source": [
    "Так как тип данных тут object, то максимальное и минимальное значения посмотреть пока не удастя - проверим это чуть дальше. <br>\n",
    "Пока можно сказать, что чаще всего пользователи ставят 7,8 баллов. "
   ]
  },
  {
   "cell_type": "code",
   "execution_count": 20,
   "metadata": {},
   "outputs": [
    {
     "data": {
      "text/plain": [
       "count     9949\n",
       "unique       8\n",
       "top          E\n",
       "freq      3990\n",
       "Name: Rating, dtype: object"
      ]
     },
     "execution_count": 20,
     "metadata": {},
     "output_type": "execute_result"
    }
   ],
   "source": [
    "df['Rating'].describe()"
   ]
  },
  {
   "cell_type": "markdown",
   "metadata": {},
   "source": [
    "Популярнее всего рейтинг Е ((«Everyone») — «Для всех»). \n",
    "Посмотрим, как распредились игры по остальным рейтингам:"
   ]
  },
  {
   "cell_type": "code",
   "execution_count": 21,
   "metadata": {},
   "outputs": [
    {
     "data": {
      "text/plain": [
       "Rating\n",
       "E       3990\n",
       "T       2961\n",
       "M       1563\n",
       "E10+    1420\n",
       "EC         8\n",
       "RP         3\n",
       "K-A        3\n",
       "AO         1\n",
       "Name: Name, dtype: int64"
      ]
     },
     "execution_count": 21,
     "metadata": {},
     "output_type": "execute_result"
    }
   ],
   "source": [
    "df.groupby('Rating')['Name'].count().sort_values(ascending = False)"
   ]
  },
  {
   "cell_type": "markdown",
   "metadata": {},
   "source": [
    "На втором месте по популярности - рейтинг Т ((«Teen») — «Подросткам»:), дальше идет М ((«Mature») — «Для взрослых»), также в топе E10+ («Everyone 10 and older») — «Для всех от 10 лет и старше».  <br>\n",
    "Описание остальных:<br>\n",
    "EC - («Early childhood») — «Для детей младшего возраста» <br>\n",
    "RP - («Early childhood») — «Для детей младшего возраста»<br>\n",
    "K-A - Kids to Adults <br>\n",
    "AO -  («Adults Only 18+») — «Только для взрослых» <br>\n"
   ]
  },
  {
   "cell_type": "markdown",
   "metadata": {},
   "source": [
    "#### Вывод"
   ]
  },
  {
   "cell_type": "markdown",
   "metadata": {},
   "source": [
    "Провели предварительный обзор данных:<br>\n",
    " -  В некоторых из колонок есть пропущенные значения\n",
    " -  Названия игр, платформ и жанров необходимо привести к единому регистру\n",
    " -  Изменить тип данных в колонке с годом выпуска - сейчас там float.\n",
    " -  Изучить подробнее оценки пользователей - например, там есть пропущенные значения и значения tbd.<br>\n",
    " \n",
    "Изучили данные: <br>\n",
    "- Самой популярной игрой, копии которой продали в количестве 41 млн, является Wii Sports (в топе по продажам в Северной Америке (41 млн копий) и в Европе (28 млн). В Японии предпочли играть в Pokemon Red/Blue (было продано 10 млн копий этой игры), в других странах чаще покупали ГТА. <br>\n",
    "- ГТА также высоко оценили критики - она получила рекордные 98 баллов. 98 баллов также получили Tony Hawk's Pro Skater 2 и SoulCalibur. \n",
    "- Самый низкий рейтинг критиков получила игра Ride to Hell.<br>\n",
    "- Самым популярным жанром является Action, а самым популярным рейтингом - рейтинг E ((«Everyone») — «Для всех»). "
   ]
  },
  {
   "cell_type": "markdown",
   "metadata": {},
   "source": [
    "## Предобработка данных"
   ]
  },
  {
   "cell_type": "markdown",
   "metadata": {},
   "source": [
    "Начннем по порядку. Столбец Name. Надо было привести названия к единому регистру и при возможности заполнить пропущенные строки или (хотя бы посмотреть, что нет)"
   ]
  },
  {
   "cell_type": "code",
   "execution_count": 22,
   "metadata": {
    "scrolled": true
   },
   "outputs": [],
   "source": [
    "df['Name'] = df['Name'].str.lower()"
   ]
  },
  {
   "cell_type": "code",
   "execution_count": 23,
   "metadata": {},
   "outputs": [
    {
     "data": {
      "text/plain": [
       "0                           wii sports\n",
       "1                    super mario bros.\n",
       "2                       mario kart wii\n",
       "3                    wii sports resort\n",
       "4             pokemon red/pokemon blue\n",
       "                     ...              \n",
       "16710    samurai warriors: sanada maru\n",
       "16711                 lma manager 2007\n",
       "16712          haitaka no psychedelica\n",
       "16713                 spirits & spells\n",
       "16714              winning post 8 2016\n",
       "Name: Name, Length: 16715, dtype: object"
      ]
     },
     "execution_count": 23,
     "metadata": {},
     "output_type": "execute_result"
    }
   ],
   "source": [
    "df['Name']"
   ]
  },
  {
   "cell_type": "code",
   "execution_count": 24,
   "metadata": {},
   "outputs": [
    {
     "data": {
      "text/html": [
       "<div>\n",
       "<style scoped>\n",
       "    .dataframe tbody tr th:only-of-type {\n",
       "        vertical-align: middle;\n",
       "    }\n",
       "\n",
       "    .dataframe tbody tr th {\n",
       "        vertical-align: top;\n",
       "    }\n",
       "\n",
       "    .dataframe thead th {\n",
       "        text-align: right;\n",
       "    }\n",
       "</style>\n",
       "<table border=\"1\" class=\"dataframe\">\n",
       "  <thead>\n",
       "    <tr style=\"text-align: right;\">\n",
       "      <th></th>\n",
       "      <th>Name</th>\n",
       "      <th>Platform</th>\n",
       "      <th>Year_of_Release</th>\n",
       "      <th>Genre</th>\n",
       "      <th>NA_sales</th>\n",
       "      <th>EU_sales</th>\n",
       "      <th>JP_sales</th>\n",
       "      <th>Other_sales</th>\n",
       "      <th>Critic_Score</th>\n",
       "      <th>User_Score</th>\n",
       "      <th>Rating</th>\n",
       "    </tr>\n",
       "  </thead>\n",
       "  <tbody>\n",
       "    <tr>\n",
       "      <td>659</td>\n",
       "      <td>NaN</td>\n",
       "      <td>GEN</td>\n",
       "      <td>1993.0</td>\n",
       "      <td>NaN</td>\n",
       "      <td>1.78</td>\n",
       "      <td>0.53</td>\n",
       "      <td>0.00</td>\n",
       "      <td>0.08</td>\n",
       "      <td>NaN</td>\n",
       "      <td>NaN</td>\n",
       "      <td>NaN</td>\n",
       "    </tr>\n",
       "    <tr>\n",
       "      <td>14244</td>\n",
       "      <td>NaN</td>\n",
       "      <td>GEN</td>\n",
       "      <td>1993.0</td>\n",
       "      <td>NaN</td>\n",
       "      <td>0.00</td>\n",
       "      <td>0.00</td>\n",
       "      <td>0.03</td>\n",
       "      <td>0.00</td>\n",
       "      <td>NaN</td>\n",
       "      <td>NaN</td>\n",
       "      <td>NaN</td>\n",
       "    </tr>\n",
       "  </tbody>\n",
       "</table>\n",
       "</div>"
      ],
      "text/plain": [
       "      Name Platform  Year_of_Release Genre  NA_sales  EU_sales  JP_sales  \\\n",
       "659    NaN      GEN           1993.0   NaN      1.78      0.53      0.00   \n",
       "14244  NaN      GEN           1993.0   NaN      0.00      0.00      0.03   \n",
       "\n",
       "       Other_sales  Critic_Score User_Score Rating  \n",
       "659           0.08           NaN        NaN    NaN  \n",
       "14244         0.00           NaN        NaN    NaN  "
      ]
     },
     "execution_count": 24,
     "metadata": {},
     "output_type": "execute_result"
    }
   ],
   "source": [
    "df[df['Name'].isna()]"
   ]
  },
  {
   "cell_type": "markdown",
   "metadata": {},
   "source": [
    "Тут, к сожалению, слишком мало данных - известна только платформа и продажи - определить название по этим данным не получится. Думаю, две строки можно удалить:"
   ]
  },
  {
   "cell_type": "code",
   "execution_count": 25,
   "metadata": {},
   "outputs": [],
   "source": [
    "df = df[~df['Name'].isna()]"
   ]
  },
  {
   "cell_type": "markdown",
   "metadata": {},
   "source": [
    "Посмотрим, изменилось ли количество уникальных значений и самая популярная игра:"
   ]
  },
  {
   "cell_type": "code",
   "execution_count": 26,
   "metadata": {},
   "outputs": [
    {
     "data": {
      "text/plain": [
       "count                           16713\n",
       "unique                          11559\n",
       "top       need for speed: most wanted\n",
       "freq                               12\n",
       "Name: Name, dtype: object"
      ]
     },
     "execution_count": 26,
     "metadata": {},
     "output_type": "execute_result"
    }
   ],
   "source": [
    "df['Name'].describe()"
   ]
  },
  {
   "cell_type": "markdown",
   "metadata": {},
   "source": [
    "Нет, в топе все еще NFS. Количество уникальных названий тоже не изменилось."
   ]
  },
  {
   "cell_type": "code",
   "execution_count": 27,
   "metadata": {},
   "outputs": [],
   "source": [
    "df['Platform'] = df['Platform'].str.lower()"
   ]
  },
  {
   "cell_type": "code",
   "execution_count": 28,
   "metadata": {
    "scrolled": true
   },
   "outputs": [
    {
     "data": {
      "text/plain": [
       "array(['wii', 'nes', 'gb', 'ds', 'x360', 'ps3', 'ps2', 'snes', 'gba',\n",
       "       'ps4', '3ds', 'n64', 'ps', 'xb', 'pc', '2600', 'psp', 'xone',\n",
       "       'wiiu', 'gc', 'gen', 'dc', 'psv', 'sat', 'scd', 'ws', 'ng', 'tg16',\n",
       "       '3do', 'gg', 'pcfx'], dtype=object)"
      ]
     },
     "execution_count": 28,
     "metadata": {},
     "output_type": "execute_result"
    }
   ],
   "source": [
    "df['Platform'].unique()"
   ]
  },
  {
   "cell_type": "markdown",
   "metadata": {},
   "source": [
    "Кажется, тут всё в норме - странные названия платформ есть, но гугл про них знает."
   ]
  },
  {
   "cell_type": "markdown",
   "metadata": {},
   "source": [
    "Надо привести год к удобному формату:"
   ]
  },
  {
   "cell_type": "code",
   "execution_count": 29,
   "metadata": {},
   "outputs": [
    {
     "data": {
      "text/html": [
       "<div>\n",
       "<style scoped>\n",
       "    .dataframe tbody tr th:only-of-type {\n",
       "        vertical-align: middle;\n",
       "    }\n",
       "\n",
       "    .dataframe tbody tr th {\n",
       "        vertical-align: top;\n",
       "    }\n",
       "\n",
       "    .dataframe thead th {\n",
       "        text-align: right;\n",
       "    }\n",
       "</style>\n",
       "<table border=\"1\" class=\"dataframe\">\n",
       "  <thead>\n",
       "    <tr style=\"text-align: right;\">\n",
       "      <th></th>\n",
       "      <th>Name</th>\n",
       "      <th>Platform</th>\n",
       "      <th>Year_of_Release</th>\n",
       "      <th>Genre</th>\n",
       "      <th>NA_sales</th>\n",
       "      <th>EU_sales</th>\n",
       "      <th>JP_sales</th>\n",
       "      <th>Other_sales</th>\n",
       "      <th>Critic_Score</th>\n",
       "      <th>User_Score</th>\n",
       "      <th>Rating</th>\n",
       "    </tr>\n",
       "  </thead>\n",
       "  <tbody>\n",
       "    <tr>\n",
       "      <td>183</td>\n",
       "      <td>madden nfl 2004</td>\n",
       "      <td>ps2</td>\n",
       "      <td>NaN</td>\n",
       "      <td>Sports</td>\n",
       "      <td>4.26</td>\n",
       "      <td>0.26</td>\n",
       "      <td>0.01</td>\n",
       "      <td>0.71</td>\n",
       "      <td>94.0</td>\n",
       "      <td>8.5</td>\n",
       "      <td>E</td>\n",
       "    </tr>\n",
       "    <tr>\n",
       "      <td>377</td>\n",
       "      <td>fifa soccer 2004</td>\n",
       "      <td>ps2</td>\n",
       "      <td>NaN</td>\n",
       "      <td>Sports</td>\n",
       "      <td>0.59</td>\n",
       "      <td>2.36</td>\n",
       "      <td>0.04</td>\n",
       "      <td>0.51</td>\n",
       "      <td>84.0</td>\n",
       "      <td>6.4</td>\n",
       "      <td>E</td>\n",
       "    </tr>\n",
       "    <tr>\n",
       "      <td>456</td>\n",
       "      <td>lego batman: the videogame</td>\n",
       "      <td>wii</td>\n",
       "      <td>NaN</td>\n",
       "      <td>Action</td>\n",
       "      <td>1.80</td>\n",
       "      <td>0.97</td>\n",
       "      <td>0.00</td>\n",
       "      <td>0.29</td>\n",
       "      <td>74.0</td>\n",
       "      <td>7.9</td>\n",
       "      <td>E10+</td>\n",
       "    </tr>\n",
       "    <tr>\n",
       "      <td>475</td>\n",
       "      <td>wwe smackdown vs. raw 2006</td>\n",
       "      <td>ps2</td>\n",
       "      <td>NaN</td>\n",
       "      <td>Fighting</td>\n",
       "      <td>1.57</td>\n",
       "      <td>1.02</td>\n",
       "      <td>0.00</td>\n",
       "      <td>0.41</td>\n",
       "      <td>NaN</td>\n",
       "      <td>NaN</td>\n",
       "      <td>NaN</td>\n",
       "    </tr>\n",
       "    <tr>\n",
       "      <td>609</td>\n",
       "      <td>space invaders</td>\n",
       "      <td>2600</td>\n",
       "      <td>NaN</td>\n",
       "      <td>Shooter</td>\n",
       "      <td>2.36</td>\n",
       "      <td>0.14</td>\n",
       "      <td>0.00</td>\n",
       "      <td>0.03</td>\n",
       "      <td>NaN</td>\n",
       "      <td>NaN</td>\n",
       "      <td>NaN</td>\n",
       "    </tr>\n",
       "    <tr>\n",
       "      <td>...</td>\n",
       "      <td>...</td>\n",
       "      <td>...</td>\n",
       "      <td>...</td>\n",
       "      <td>...</td>\n",
       "      <td>...</td>\n",
       "      <td>...</td>\n",
       "      <td>...</td>\n",
       "      <td>...</td>\n",
       "      <td>...</td>\n",
       "      <td>...</td>\n",
       "      <td>...</td>\n",
       "    </tr>\n",
       "    <tr>\n",
       "      <td>16373</td>\n",
       "      <td>pdc world championship darts 2008</td>\n",
       "      <td>psp</td>\n",
       "      <td>NaN</td>\n",
       "      <td>Sports</td>\n",
       "      <td>0.01</td>\n",
       "      <td>0.00</td>\n",
       "      <td>0.00</td>\n",
       "      <td>0.00</td>\n",
       "      <td>43.0</td>\n",
       "      <td>tbd</td>\n",
       "      <td>E10+</td>\n",
       "    </tr>\n",
       "    <tr>\n",
       "      <td>16405</td>\n",
       "      <td>freaky flyers</td>\n",
       "      <td>gc</td>\n",
       "      <td>NaN</td>\n",
       "      <td>Racing</td>\n",
       "      <td>0.01</td>\n",
       "      <td>0.00</td>\n",
       "      <td>0.00</td>\n",
       "      <td>0.00</td>\n",
       "      <td>69.0</td>\n",
       "      <td>6.5</td>\n",
       "      <td>T</td>\n",
       "    </tr>\n",
       "    <tr>\n",
       "      <td>16448</td>\n",
       "      <td>inversion</td>\n",
       "      <td>pc</td>\n",
       "      <td>NaN</td>\n",
       "      <td>Shooter</td>\n",
       "      <td>0.01</td>\n",
       "      <td>0.00</td>\n",
       "      <td>0.00</td>\n",
       "      <td>0.00</td>\n",
       "      <td>59.0</td>\n",
       "      <td>6.7</td>\n",
       "      <td>M</td>\n",
       "    </tr>\n",
       "    <tr>\n",
       "      <td>16458</td>\n",
       "      <td>hakuouki: shinsengumi kitan</td>\n",
       "      <td>ps3</td>\n",
       "      <td>NaN</td>\n",
       "      <td>Adventure</td>\n",
       "      <td>0.01</td>\n",
       "      <td>0.00</td>\n",
       "      <td>0.00</td>\n",
       "      <td>0.00</td>\n",
       "      <td>NaN</td>\n",
       "      <td>NaN</td>\n",
       "      <td>NaN</td>\n",
       "    </tr>\n",
       "    <tr>\n",
       "      <td>16522</td>\n",
       "      <td>virtua quest</td>\n",
       "      <td>gc</td>\n",
       "      <td>NaN</td>\n",
       "      <td>Role-Playing</td>\n",
       "      <td>0.01</td>\n",
       "      <td>0.00</td>\n",
       "      <td>0.00</td>\n",
       "      <td>0.00</td>\n",
       "      <td>55.0</td>\n",
       "      <td>5.5</td>\n",
       "      <td>T</td>\n",
       "    </tr>\n",
       "  </tbody>\n",
       "</table>\n",
       "<p>269 rows × 11 columns</p>\n",
       "</div>"
      ],
      "text/plain": [
       "                                    Name Platform  Year_of_Release  \\\n",
       "183                      madden nfl 2004      ps2              NaN   \n",
       "377                     fifa soccer 2004      ps2              NaN   \n",
       "456           lego batman: the videogame      wii              NaN   \n",
       "475           wwe smackdown vs. raw 2006      ps2              NaN   \n",
       "609                       space invaders     2600              NaN   \n",
       "...                                  ...      ...              ...   \n",
       "16373  pdc world championship darts 2008      psp              NaN   \n",
       "16405                      freaky flyers       gc              NaN   \n",
       "16448                          inversion       pc              NaN   \n",
       "16458        hakuouki: shinsengumi kitan      ps3              NaN   \n",
       "16522                       virtua quest       gc              NaN   \n",
       "\n",
       "              Genre  NA_sales  EU_sales  JP_sales  Other_sales  Critic_Score  \\\n",
       "183          Sports      4.26      0.26      0.01         0.71          94.0   \n",
       "377          Sports      0.59      2.36      0.04         0.51          84.0   \n",
       "456          Action      1.80      0.97      0.00         0.29          74.0   \n",
       "475        Fighting      1.57      1.02      0.00         0.41           NaN   \n",
       "609         Shooter      2.36      0.14      0.00         0.03           NaN   \n",
       "...             ...       ...       ...       ...          ...           ...   \n",
       "16373        Sports      0.01      0.00      0.00         0.00          43.0   \n",
       "16405        Racing      0.01      0.00      0.00         0.00          69.0   \n",
       "16448       Shooter      0.01      0.00      0.00         0.00          59.0   \n",
       "16458     Adventure      0.01      0.00      0.00         0.00           NaN   \n",
       "16522  Role-Playing      0.01      0.00      0.00         0.00          55.0   \n",
       "\n",
       "      User_Score Rating  \n",
       "183          8.5      E  \n",
       "377          6.4      E  \n",
       "456          7.9   E10+  \n",
       "475          NaN    NaN  \n",
       "609          NaN    NaN  \n",
       "...          ...    ...  \n",
       "16373        tbd   E10+  \n",
       "16405        6.5      T  \n",
       "16448        6.7      M  \n",
       "16458        NaN    NaN  \n",
       "16522        5.5      T  \n",
       "\n",
       "[269 rows x 11 columns]"
      ]
     },
     "execution_count": 29,
     "metadata": {},
     "output_type": "execute_result"
    }
   ],
   "source": [
    "df[df['Year_of_Release'].isna()]"
   ]
  },
  {
   "cell_type": "code",
   "execution_count": 30,
   "metadata": {},
   "outputs": [
    {
     "data": {
      "text/plain": [
       "0.016095255190570215"
      ]
     },
     "execution_count": 30,
     "metadata": {},
     "output_type": "execute_result"
    }
   ],
   "source": [
    "df['Year_of_Release'].isna().mean()"
   ]
  },
  {
   "cell_type": "markdown",
   "metadata": {},
   "source": [
    "Всего 1,6%. Не думаю, что стоит тратить время и выяснять, в каком году вышла та или иная игра. В некоторых названиях есть год, но не факт, что он соответствует году релиза игры. <br>\n",
    "Так что избавляемся от пропусков:"
   ]
  },
  {
   "cell_type": "code",
   "execution_count": 31,
   "metadata": {},
   "outputs": [],
   "source": [
    "df = df[~df['Year_of_Release'].isna()]"
   ]
  },
  {
   "cell_type": "code",
   "execution_count": 32,
   "metadata": {},
   "outputs": [],
   "source": [
    "df['Year_of_Release'] = df['Year_of_Release'].astype('int')"
   ]
  },
  {
   "cell_type": "code",
   "execution_count": 33,
   "metadata": {},
   "outputs": [
    {
     "data": {
      "text/plain": [
       "0        2006\n",
       "1        1985\n",
       "2        2008\n",
       "3        2009\n",
       "4        1996\n",
       "         ... \n",
       "16710    2016\n",
       "16711    2006\n",
       "16712    2016\n",
       "16713    2003\n",
       "16714    2016\n",
       "Name: Year_of_Release, Length: 16444, dtype: int64"
      ]
     },
     "execution_count": 33,
     "metadata": {},
     "output_type": "execute_result"
    }
   ],
   "source": [
    "df['Year_of_Release']"
   ]
  },
  {
   "cell_type": "markdown",
   "metadata": {},
   "source": [
    "Отлично! <br>\n",
    "Двигаемся дальше."
   ]
  },
  {
   "cell_type": "code",
   "execution_count": 34,
   "metadata": {},
   "outputs": [],
   "source": [
    "# df[df['Genre'].isna()]\n",
    "df['Genre'] = df['Genre'].str.lower()"
   ]
  },
  {
   "cell_type": "code",
   "execution_count": 35,
   "metadata": {},
   "outputs": [
    {
     "data": {
      "text/plain": [
       "array(['sports', 'platform', 'racing', 'role-playing', 'puzzle', 'misc',\n",
       "       'shooter', 'simulation', 'action', 'fighting', 'adventure',\n",
       "       'strategy'], dtype=object)"
      ]
     },
     "execution_count": 35,
     "metadata": {},
     "output_type": "execute_result"
    }
   ],
   "source": [
    "df['Genre'].unique()"
   ]
  },
  {
   "cell_type": "markdown",
   "metadata": {},
   "source": [
    "Тут все в порядке. "
   ]
  },
  {
   "cell_type": "markdown",
   "metadata": {},
   "source": [
    "С продажами все было в порядке - пропущенных значений там не было, тип данных был правильный. <br>\n",
    "Посмотрим пропущенные значения в оценках:"
   ]
  },
  {
   "cell_type": "markdown",
   "metadata": {},
   "source": [
    "Начнем с оценок критиков:"
   ]
  },
  {
   "cell_type": "code",
   "execution_count": 36,
   "metadata": {},
   "outputs": [
    {
     "data": {
      "text/html": [
       "<div>\n",
       "<style scoped>\n",
       "    .dataframe tbody tr th:only-of-type {\n",
       "        vertical-align: middle;\n",
       "    }\n",
       "\n",
       "    .dataframe tbody tr th {\n",
       "        vertical-align: top;\n",
       "    }\n",
       "\n",
       "    .dataframe thead th {\n",
       "        text-align: right;\n",
       "    }\n",
       "</style>\n",
       "<table border=\"1\" class=\"dataframe\">\n",
       "  <thead>\n",
       "    <tr style=\"text-align: right;\">\n",
       "      <th></th>\n",
       "      <th>Name</th>\n",
       "      <th>Platform</th>\n",
       "      <th>Year_of_Release</th>\n",
       "      <th>Genre</th>\n",
       "      <th>NA_sales</th>\n",
       "      <th>EU_sales</th>\n",
       "      <th>JP_sales</th>\n",
       "      <th>Other_sales</th>\n",
       "      <th>Critic_Score</th>\n",
       "      <th>User_Score</th>\n",
       "      <th>Rating</th>\n",
       "    </tr>\n",
       "  </thead>\n",
       "  <tbody>\n",
       "    <tr>\n",
       "      <td>1</td>\n",
       "      <td>super mario bros.</td>\n",
       "      <td>nes</td>\n",
       "      <td>1985</td>\n",
       "      <td>platform</td>\n",
       "      <td>29.08</td>\n",
       "      <td>3.58</td>\n",
       "      <td>6.81</td>\n",
       "      <td>0.77</td>\n",
       "      <td>NaN</td>\n",
       "      <td>NaN</td>\n",
       "      <td>NaN</td>\n",
       "    </tr>\n",
       "    <tr>\n",
       "      <td>4</td>\n",
       "      <td>pokemon red/pokemon blue</td>\n",
       "      <td>gb</td>\n",
       "      <td>1996</td>\n",
       "      <td>role-playing</td>\n",
       "      <td>11.27</td>\n",
       "      <td>8.89</td>\n",
       "      <td>10.22</td>\n",
       "      <td>1.00</td>\n",
       "      <td>NaN</td>\n",
       "      <td>NaN</td>\n",
       "      <td>NaN</td>\n",
       "    </tr>\n",
       "    <tr>\n",
       "      <td>5</td>\n",
       "      <td>tetris</td>\n",
       "      <td>gb</td>\n",
       "      <td>1989</td>\n",
       "      <td>puzzle</td>\n",
       "      <td>23.20</td>\n",
       "      <td>2.26</td>\n",
       "      <td>4.22</td>\n",
       "      <td>0.58</td>\n",
       "      <td>NaN</td>\n",
       "      <td>NaN</td>\n",
       "      <td>NaN</td>\n",
       "    </tr>\n",
       "    <tr>\n",
       "      <td>9</td>\n",
       "      <td>duck hunt</td>\n",
       "      <td>nes</td>\n",
       "      <td>1984</td>\n",
       "      <td>shooter</td>\n",
       "      <td>26.93</td>\n",
       "      <td>0.63</td>\n",
       "      <td>0.28</td>\n",
       "      <td>0.47</td>\n",
       "      <td>NaN</td>\n",
       "      <td>NaN</td>\n",
       "      <td>NaN</td>\n",
       "    </tr>\n",
       "    <tr>\n",
       "      <td>10</td>\n",
       "      <td>nintendogs</td>\n",
       "      <td>ds</td>\n",
       "      <td>2005</td>\n",
       "      <td>simulation</td>\n",
       "      <td>9.05</td>\n",
       "      <td>10.95</td>\n",
       "      <td>1.93</td>\n",
       "      <td>2.74</td>\n",
       "      <td>NaN</td>\n",
       "      <td>NaN</td>\n",
       "      <td>NaN</td>\n",
       "    </tr>\n",
       "    <tr>\n",
       "      <td>...</td>\n",
       "      <td>...</td>\n",
       "      <td>...</td>\n",
       "      <td>...</td>\n",
       "      <td>...</td>\n",
       "      <td>...</td>\n",
       "      <td>...</td>\n",
       "      <td>...</td>\n",
       "      <td>...</td>\n",
       "      <td>...</td>\n",
       "      <td>...</td>\n",
       "      <td>...</td>\n",
       "    </tr>\n",
       "    <tr>\n",
       "      <td>16710</td>\n",
       "      <td>samurai warriors: sanada maru</td>\n",
       "      <td>ps3</td>\n",
       "      <td>2016</td>\n",
       "      <td>action</td>\n",
       "      <td>0.00</td>\n",
       "      <td>0.00</td>\n",
       "      <td>0.01</td>\n",
       "      <td>0.00</td>\n",
       "      <td>NaN</td>\n",
       "      <td>NaN</td>\n",
       "      <td>NaN</td>\n",
       "    </tr>\n",
       "    <tr>\n",
       "      <td>16711</td>\n",
       "      <td>lma manager 2007</td>\n",
       "      <td>x360</td>\n",
       "      <td>2006</td>\n",
       "      <td>sports</td>\n",
       "      <td>0.00</td>\n",
       "      <td>0.01</td>\n",
       "      <td>0.00</td>\n",
       "      <td>0.00</td>\n",
       "      <td>NaN</td>\n",
       "      <td>NaN</td>\n",
       "      <td>NaN</td>\n",
       "    </tr>\n",
       "    <tr>\n",
       "      <td>16712</td>\n",
       "      <td>haitaka no psychedelica</td>\n",
       "      <td>psv</td>\n",
       "      <td>2016</td>\n",
       "      <td>adventure</td>\n",
       "      <td>0.00</td>\n",
       "      <td>0.00</td>\n",
       "      <td>0.01</td>\n",
       "      <td>0.00</td>\n",
       "      <td>NaN</td>\n",
       "      <td>NaN</td>\n",
       "      <td>NaN</td>\n",
       "    </tr>\n",
       "    <tr>\n",
       "      <td>16713</td>\n",
       "      <td>spirits &amp; spells</td>\n",
       "      <td>gba</td>\n",
       "      <td>2003</td>\n",
       "      <td>platform</td>\n",
       "      <td>0.01</td>\n",
       "      <td>0.00</td>\n",
       "      <td>0.00</td>\n",
       "      <td>0.00</td>\n",
       "      <td>NaN</td>\n",
       "      <td>NaN</td>\n",
       "      <td>NaN</td>\n",
       "    </tr>\n",
       "    <tr>\n",
       "      <td>16714</td>\n",
       "      <td>winning post 8 2016</td>\n",
       "      <td>psv</td>\n",
       "      <td>2016</td>\n",
       "      <td>simulation</td>\n",
       "      <td>0.00</td>\n",
       "      <td>0.00</td>\n",
       "      <td>0.01</td>\n",
       "      <td>0.00</td>\n",
       "      <td>NaN</td>\n",
       "      <td>NaN</td>\n",
       "      <td>NaN</td>\n",
       "    </tr>\n",
       "  </tbody>\n",
       "</table>\n",
       "<p>8461 rows × 11 columns</p>\n",
       "</div>"
      ],
      "text/plain": [
       "                                Name Platform  Year_of_Release         Genre  \\\n",
       "1                  super mario bros.      nes             1985      platform   \n",
       "4           pokemon red/pokemon blue       gb             1996  role-playing   \n",
       "5                             tetris       gb             1989        puzzle   \n",
       "9                          duck hunt      nes             1984       shooter   \n",
       "10                        nintendogs       ds             2005    simulation   \n",
       "...                              ...      ...              ...           ...   \n",
       "16710  samurai warriors: sanada maru      ps3             2016        action   \n",
       "16711               lma manager 2007     x360             2006        sports   \n",
       "16712        haitaka no psychedelica      psv             2016     adventure   \n",
       "16713               spirits & spells      gba             2003      platform   \n",
       "16714            winning post 8 2016      psv             2016    simulation   \n",
       "\n",
       "       NA_sales  EU_sales  JP_sales  Other_sales  Critic_Score User_Score  \\\n",
       "1         29.08      3.58      6.81         0.77           NaN        NaN   \n",
       "4         11.27      8.89     10.22         1.00           NaN        NaN   \n",
       "5         23.20      2.26      4.22         0.58           NaN        NaN   \n",
       "9         26.93      0.63      0.28         0.47           NaN        NaN   \n",
       "10         9.05     10.95      1.93         2.74           NaN        NaN   \n",
       "...         ...       ...       ...          ...           ...        ...   \n",
       "16710      0.00      0.00      0.01         0.00           NaN        NaN   \n",
       "16711      0.00      0.01      0.00         0.00           NaN        NaN   \n",
       "16712      0.00      0.00      0.01         0.00           NaN        NaN   \n",
       "16713      0.01      0.00      0.00         0.00           NaN        NaN   \n",
       "16714      0.00      0.00      0.01         0.00           NaN        NaN   \n",
       "\n",
       "      Rating  \n",
       "1        NaN  \n",
       "4        NaN  \n",
       "5        NaN  \n",
       "9        NaN  \n",
       "10       NaN  \n",
       "...      ...  \n",
       "16710    NaN  \n",
       "16711    NaN  \n",
       "16712    NaN  \n",
       "16713    NaN  \n",
       "16714    NaN  \n",
       "\n",
       "[8461 rows x 11 columns]"
      ]
     },
     "execution_count": 36,
     "metadata": {},
     "output_type": "execute_result"
    }
   ],
   "source": [
    "df[df['Critic_Score'].isna()]"
   ]
  },
  {
   "cell_type": "markdown",
   "metadata": {},
   "source": [
    "Вряд ли тут что-то можно сделать - даже если будет известно количество проданных копий. Вдруг пользователям игра очень понравилась, а вот критики от неё не в восторге. \n",
    "С оценками пользователей - то же самое. <br>"
   ]
  },
  {
   "cell_type": "markdown",
   "metadata": {},
   "source": [
    "Заменим пропуски в оценкам критиков на условный -1: "
   ]
  },
  {
   "cell_type": "code",
   "execution_count": 37,
   "metadata": {},
   "outputs": [],
   "source": [
    "df['Critic_Score'] = df['Critic_Score'].fillna(-1)"
   ]
  },
  {
   "cell_type": "code",
   "execution_count": 38,
   "metadata": {
    "scrolled": true
   },
   "outputs": [
    {
     "data": {
      "text/html": [
       "<div>\n",
       "<style scoped>\n",
       "    .dataframe tbody tr th:only-of-type {\n",
       "        vertical-align: middle;\n",
       "    }\n",
       "\n",
       "    .dataframe tbody tr th {\n",
       "        vertical-align: top;\n",
       "    }\n",
       "\n",
       "    .dataframe thead th {\n",
       "        text-align: right;\n",
       "    }\n",
       "</style>\n",
       "<table border=\"1\" class=\"dataframe\">\n",
       "  <thead>\n",
       "    <tr style=\"text-align: right;\">\n",
       "      <th></th>\n",
       "      <th>Name</th>\n",
       "      <th>Platform</th>\n",
       "      <th>Year_of_Release</th>\n",
       "      <th>Genre</th>\n",
       "      <th>NA_sales</th>\n",
       "      <th>EU_sales</th>\n",
       "      <th>JP_sales</th>\n",
       "      <th>Other_sales</th>\n",
       "      <th>Critic_Score</th>\n",
       "      <th>User_Score</th>\n",
       "      <th>Rating</th>\n",
       "    </tr>\n",
       "  </thead>\n",
       "  <tbody>\n",
       "    <tr>\n",
       "      <td>1</td>\n",
       "      <td>super mario bros.</td>\n",
       "      <td>nes</td>\n",
       "      <td>1985</td>\n",
       "      <td>platform</td>\n",
       "      <td>29.08</td>\n",
       "      <td>3.58</td>\n",
       "      <td>6.81</td>\n",
       "      <td>0.77</td>\n",
       "      <td>-1.0</td>\n",
       "      <td>NaN</td>\n",
       "      <td>NaN</td>\n",
       "    </tr>\n",
       "    <tr>\n",
       "      <td>4</td>\n",
       "      <td>pokemon red/pokemon blue</td>\n",
       "      <td>gb</td>\n",
       "      <td>1996</td>\n",
       "      <td>role-playing</td>\n",
       "      <td>11.27</td>\n",
       "      <td>8.89</td>\n",
       "      <td>10.22</td>\n",
       "      <td>1.00</td>\n",
       "      <td>-1.0</td>\n",
       "      <td>NaN</td>\n",
       "      <td>NaN</td>\n",
       "    </tr>\n",
       "    <tr>\n",
       "      <td>5</td>\n",
       "      <td>tetris</td>\n",
       "      <td>gb</td>\n",
       "      <td>1989</td>\n",
       "      <td>puzzle</td>\n",
       "      <td>23.20</td>\n",
       "      <td>2.26</td>\n",
       "      <td>4.22</td>\n",
       "      <td>0.58</td>\n",
       "      <td>-1.0</td>\n",
       "      <td>NaN</td>\n",
       "      <td>NaN</td>\n",
       "    </tr>\n",
       "    <tr>\n",
       "      <td>9</td>\n",
       "      <td>duck hunt</td>\n",
       "      <td>nes</td>\n",
       "      <td>1984</td>\n",
       "      <td>shooter</td>\n",
       "      <td>26.93</td>\n",
       "      <td>0.63</td>\n",
       "      <td>0.28</td>\n",
       "      <td>0.47</td>\n",
       "      <td>-1.0</td>\n",
       "      <td>NaN</td>\n",
       "      <td>NaN</td>\n",
       "    </tr>\n",
       "    <tr>\n",
       "      <td>10</td>\n",
       "      <td>nintendogs</td>\n",
       "      <td>ds</td>\n",
       "      <td>2005</td>\n",
       "      <td>simulation</td>\n",
       "      <td>9.05</td>\n",
       "      <td>10.95</td>\n",
       "      <td>1.93</td>\n",
       "      <td>2.74</td>\n",
       "      <td>-1.0</td>\n",
       "      <td>NaN</td>\n",
       "      <td>NaN</td>\n",
       "    </tr>\n",
       "    <tr>\n",
       "      <td>...</td>\n",
       "      <td>...</td>\n",
       "      <td>...</td>\n",
       "      <td>...</td>\n",
       "      <td>...</td>\n",
       "      <td>...</td>\n",
       "      <td>...</td>\n",
       "      <td>...</td>\n",
       "      <td>...</td>\n",
       "      <td>...</td>\n",
       "      <td>...</td>\n",
       "      <td>...</td>\n",
       "    </tr>\n",
       "    <tr>\n",
       "      <td>16710</td>\n",
       "      <td>samurai warriors: sanada maru</td>\n",
       "      <td>ps3</td>\n",
       "      <td>2016</td>\n",
       "      <td>action</td>\n",
       "      <td>0.00</td>\n",
       "      <td>0.00</td>\n",
       "      <td>0.01</td>\n",
       "      <td>0.00</td>\n",
       "      <td>-1.0</td>\n",
       "      <td>NaN</td>\n",
       "      <td>NaN</td>\n",
       "    </tr>\n",
       "    <tr>\n",
       "      <td>16711</td>\n",
       "      <td>lma manager 2007</td>\n",
       "      <td>x360</td>\n",
       "      <td>2006</td>\n",
       "      <td>sports</td>\n",
       "      <td>0.00</td>\n",
       "      <td>0.01</td>\n",
       "      <td>0.00</td>\n",
       "      <td>0.00</td>\n",
       "      <td>-1.0</td>\n",
       "      <td>NaN</td>\n",
       "      <td>NaN</td>\n",
       "    </tr>\n",
       "    <tr>\n",
       "      <td>16712</td>\n",
       "      <td>haitaka no psychedelica</td>\n",
       "      <td>psv</td>\n",
       "      <td>2016</td>\n",
       "      <td>adventure</td>\n",
       "      <td>0.00</td>\n",
       "      <td>0.00</td>\n",
       "      <td>0.01</td>\n",
       "      <td>0.00</td>\n",
       "      <td>-1.0</td>\n",
       "      <td>NaN</td>\n",
       "      <td>NaN</td>\n",
       "    </tr>\n",
       "    <tr>\n",
       "      <td>16713</td>\n",
       "      <td>spirits &amp; spells</td>\n",
       "      <td>gba</td>\n",
       "      <td>2003</td>\n",
       "      <td>platform</td>\n",
       "      <td>0.01</td>\n",
       "      <td>0.00</td>\n",
       "      <td>0.00</td>\n",
       "      <td>0.00</td>\n",
       "      <td>-1.0</td>\n",
       "      <td>NaN</td>\n",
       "      <td>NaN</td>\n",
       "    </tr>\n",
       "    <tr>\n",
       "      <td>16714</td>\n",
       "      <td>winning post 8 2016</td>\n",
       "      <td>psv</td>\n",
       "      <td>2016</td>\n",
       "      <td>simulation</td>\n",
       "      <td>0.00</td>\n",
       "      <td>0.00</td>\n",
       "      <td>0.01</td>\n",
       "      <td>0.00</td>\n",
       "      <td>-1.0</td>\n",
       "      <td>NaN</td>\n",
       "      <td>NaN</td>\n",
       "    </tr>\n",
       "  </tbody>\n",
       "</table>\n",
       "<p>6605 rows × 11 columns</p>\n",
       "</div>"
      ],
      "text/plain": [
       "                                Name Platform  Year_of_Release         Genre  \\\n",
       "1                  super mario bros.      nes             1985      platform   \n",
       "4           pokemon red/pokemon blue       gb             1996  role-playing   \n",
       "5                             tetris       gb             1989        puzzle   \n",
       "9                          duck hunt      nes             1984       shooter   \n",
       "10                        nintendogs       ds             2005    simulation   \n",
       "...                              ...      ...              ...           ...   \n",
       "16710  samurai warriors: sanada maru      ps3             2016        action   \n",
       "16711               lma manager 2007     x360             2006        sports   \n",
       "16712        haitaka no psychedelica      psv             2016     adventure   \n",
       "16713               spirits & spells      gba             2003      platform   \n",
       "16714            winning post 8 2016      psv             2016    simulation   \n",
       "\n",
       "       NA_sales  EU_sales  JP_sales  Other_sales  Critic_Score User_Score  \\\n",
       "1         29.08      3.58      6.81         0.77          -1.0        NaN   \n",
       "4         11.27      8.89     10.22         1.00          -1.0        NaN   \n",
       "5         23.20      2.26      4.22         0.58          -1.0        NaN   \n",
       "9         26.93      0.63      0.28         0.47          -1.0        NaN   \n",
       "10         9.05     10.95      1.93         2.74          -1.0        NaN   \n",
       "...         ...       ...       ...          ...           ...        ...   \n",
       "16710      0.00      0.00      0.01         0.00          -1.0        NaN   \n",
       "16711      0.00      0.01      0.00         0.00          -1.0        NaN   \n",
       "16712      0.00      0.00      0.01         0.00          -1.0        NaN   \n",
       "16713      0.01      0.00      0.00         0.00          -1.0        NaN   \n",
       "16714      0.00      0.00      0.01         0.00          -1.0        NaN   \n",
       "\n",
       "      Rating  \n",
       "1        NaN  \n",
       "4        NaN  \n",
       "5        NaN  \n",
       "9        NaN  \n",
       "10       NaN  \n",
       "...      ...  \n",
       "16710    NaN  \n",
       "16711    NaN  \n",
       "16712    NaN  \n",
       "16713    NaN  \n",
       "16714    NaN  \n",
       "\n",
       "[6605 rows x 11 columns]"
      ]
     },
     "execution_count": 38,
     "metadata": {},
     "output_type": "execute_result"
    }
   ],
   "source": [
    "df[df['User_Score'].isna()]"
   ]
  },
  {
   "cell_type": "markdown",
   "metadata": {},
   "source": [
    "С оценками пользователей поступим так же:"
   ]
  },
  {
   "cell_type": "code",
   "execution_count": 39,
   "metadata": {},
   "outputs": [],
   "source": [
    "df['User_Score'] = df['User_Score'].fillna(-1)"
   ]
  },
  {
   "cell_type": "code",
   "execution_count": 40,
   "metadata": {},
   "outputs": [
    {
     "data": {
      "text/html": [
       "<div>\n",
       "<style scoped>\n",
       "    .dataframe tbody tr th:only-of-type {\n",
       "        vertical-align: middle;\n",
       "    }\n",
       "\n",
       "    .dataframe tbody tr th {\n",
       "        vertical-align: top;\n",
       "    }\n",
       "\n",
       "    .dataframe thead th {\n",
       "        text-align: right;\n",
       "    }\n",
       "</style>\n",
       "<table border=\"1\" class=\"dataframe\">\n",
       "  <thead>\n",
       "    <tr style=\"text-align: right;\">\n",
       "      <th></th>\n",
       "      <th>Name</th>\n",
       "      <th>Platform</th>\n",
       "      <th>Year_of_Release</th>\n",
       "      <th>Genre</th>\n",
       "      <th>NA_sales</th>\n",
       "      <th>EU_sales</th>\n",
       "      <th>JP_sales</th>\n",
       "      <th>Other_sales</th>\n",
       "      <th>Critic_Score</th>\n",
       "      <th>User_Score</th>\n",
       "      <th>Rating</th>\n",
       "    </tr>\n",
       "  </thead>\n",
       "  <tbody>\n",
       "    <tr>\n",
       "      <td>119</td>\n",
       "      <td>zumba fitness</td>\n",
       "      <td>wii</td>\n",
       "      <td>2010</td>\n",
       "      <td>sports</td>\n",
       "      <td>3.45</td>\n",
       "      <td>2.59</td>\n",
       "      <td>0.0</td>\n",
       "      <td>0.66</td>\n",
       "      <td>-1.0</td>\n",
       "      <td>tbd</td>\n",
       "      <td>E</td>\n",
       "    </tr>\n",
       "    <tr>\n",
       "      <td>301</td>\n",
       "      <td>namco museum: 50th anniversary</td>\n",
       "      <td>ps2</td>\n",
       "      <td>2005</td>\n",
       "      <td>misc</td>\n",
       "      <td>2.08</td>\n",
       "      <td>1.35</td>\n",
       "      <td>0.0</td>\n",
       "      <td>0.54</td>\n",
       "      <td>61.0</td>\n",
       "      <td>tbd</td>\n",
       "      <td>E10+</td>\n",
       "    </tr>\n",
       "    <tr>\n",
       "      <td>520</td>\n",
       "      <td>zumba fitness 2</td>\n",
       "      <td>wii</td>\n",
       "      <td>2011</td>\n",
       "      <td>sports</td>\n",
       "      <td>1.51</td>\n",
       "      <td>1.03</td>\n",
       "      <td>0.0</td>\n",
       "      <td>0.27</td>\n",
       "      <td>-1.0</td>\n",
       "      <td>tbd</td>\n",
       "      <td>T</td>\n",
       "    </tr>\n",
       "    <tr>\n",
       "      <td>645</td>\n",
       "      <td>udraw studio</td>\n",
       "      <td>wii</td>\n",
       "      <td>2010</td>\n",
       "      <td>misc</td>\n",
       "      <td>1.65</td>\n",
       "      <td>0.57</td>\n",
       "      <td>0.0</td>\n",
       "      <td>0.20</td>\n",
       "      <td>71.0</td>\n",
       "      <td>tbd</td>\n",
       "      <td>E</td>\n",
       "    </tr>\n",
       "    <tr>\n",
       "      <td>718</td>\n",
       "      <td>just dance kids</td>\n",
       "      <td>wii</td>\n",
       "      <td>2010</td>\n",
       "      <td>misc</td>\n",
       "      <td>1.52</td>\n",
       "      <td>0.54</td>\n",
       "      <td>0.0</td>\n",
       "      <td>0.18</td>\n",
       "      <td>-1.0</td>\n",
       "      <td>tbd</td>\n",
       "      <td>E</td>\n",
       "    </tr>\n",
       "    <tr>\n",
       "      <td>...</td>\n",
       "      <td>...</td>\n",
       "      <td>...</td>\n",
       "      <td>...</td>\n",
       "      <td>...</td>\n",
       "      <td>...</td>\n",
       "      <td>...</td>\n",
       "      <td>...</td>\n",
       "      <td>...</td>\n",
       "      <td>...</td>\n",
       "      <td>...</td>\n",
       "      <td>...</td>\n",
       "    </tr>\n",
       "    <tr>\n",
       "      <td>16695</td>\n",
       "      <td>planet monsters</td>\n",
       "      <td>gba</td>\n",
       "      <td>2001</td>\n",
       "      <td>action</td>\n",
       "      <td>0.01</td>\n",
       "      <td>0.00</td>\n",
       "      <td>0.0</td>\n",
       "      <td>0.00</td>\n",
       "      <td>67.0</td>\n",
       "      <td>tbd</td>\n",
       "      <td>E</td>\n",
       "    </tr>\n",
       "    <tr>\n",
       "      <td>16697</td>\n",
       "      <td>bust-a-move 3000</td>\n",
       "      <td>gc</td>\n",
       "      <td>2003</td>\n",
       "      <td>puzzle</td>\n",
       "      <td>0.01</td>\n",
       "      <td>0.00</td>\n",
       "      <td>0.0</td>\n",
       "      <td>0.00</td>\n",
       "      <td>53.0</td>\n",
       "      <td>tbd</td>\n",
       "      <td>E</td>\n",
       "    </tr>\n",
       "    <tr>\n",
       "      <td>16698</td>\n",
       "      <td>mega brain boost</td>\n",
       "      <td>ds</td>\n",
       "      <td>2008</td>\n",
       "      <td>puzzle</td>\n",
       "      <td>0.01</td>\n",
       "      <td>0.00</td>\n",
       "      <td>0.0</td>\n",
       "      <td>0.00</td>\n",
       "      <td>48.0</td>\n",
       "      <td>tbd</td>\n",
       "      <td>E</td>\n",
       "    </tr>\n",
       "    <tr>\n",
       "      <td>16704</td>\n",
       "      <td>plushees</td>\n",
       "      <td>ds</td>\n",
       "      <td>2008</td>\n",
       "      <td>simulation</td>\n",
       "      <td>0.01</td>\n",
       "      <td>0.00</td>\n",
       "      <td>0.0</td>\n",
       "      <td>0.00</td>\n",
       "      <td>-1.0</td>\n",
       "      <td>tbd</td>\n",
       "      <td>E</td>\n",
       "    </tr>\n",
       "    <tr>\n",
       "      <td>16706</td>\n",
       "      <td>men in black ii: alien escape</td>\n",
       "      <td>gc</td>\n",
       "      <td>2003</td>\n",
       "      <td>shooter</td>\n",
       "      <td>0.01</td>\n",
       "      <td>0.00</td>\n",
       "      <td>0.0</td>\n",
       "      <td>0.00</td>\n",
       "      <td>-1.0</td>\n",
       "      <td>tbd</td>\n",
       "      <td>T</td>\n",
       "    </tr>\n",
       "  </tbody>\n",
       "</table>\n",
       "<p>2376 rows × 11 columns</p>\n",
       "</div>"
      ],
      "text/plain": [
       "                                 Name Platform  Year_of_Release       Genre  \\\n",
       "119                     zumba fitness      wii             2010      sports   \n",
       "301    namco museum: 50th anniversary      ps2             2005        misc   \n",
       "520                   zumba fitness 2      wii             2011      sports   \n",
       "645                      udraw studio      wii             2010        misc   \n",
       "718                   just dance kids      wii             2010        misc   \n",
       "...                               ...      ...              ...         ...   \n",
       "16695                 planet monsters      gba             2001      action   \n",
       "16697                bust-a-move 3000       gc             2003      puzzle   \n",
       "16698                mega brain boost       ds             2008      puzzle   \n",
       "16704                        plushees       ds             2008  simulation   \n",
       "16706   men in black ii: alien escape       gc             2003     shooter   \n",
       "\n",
       "       NA_sales  EU_sales  JP_sales  Other_sales  Critic_Score User_Score  \\\n",
       "119        3.45      2.59       0.0         0.66          -1.0        tbd   \n",
       "301        2.08      1.35       0.0         0.54          61.0        tbd   \n",
       "520        1.51      1.03       0.0         0.27          -1.0        tbd   \n",
       "645        1.65      0.57       0.0         0.20          71.0        tbd   \n",
       "718        1.52      0.54       0.0         0.18          -1.0        tbd   \n",
       "...         ...       ...       ...          ...           ...        ...   \n",
       "16695      0.01      0.00       0.0         0.00          67.0        tbd   \n",
       "16697      0.01      0.00       0.0         0.00          53.0        tbd   \n",
       "16698      0.01      0.00       0.0         0.00          48.0        tbd   \n",
       "16704      0.01      0.00       0.0         0.00          -1.0        tbd   \n",
       "16706      0.01      0.00       0.0         0.00          -1.0        tbd   \n",
       "\n",
       "      Rating  \n",
       "119        E  \n",
       "301     E10+  \n",
       "520        T  \n",
       "645        E  \n",
       "718        E  \n",
       "...      ...  \n",
       "16695      E  \n",
       "16697      E  \n",
       "16698      E  \n",
       "16704      E  \n",
       "16706      T  \n",
       "\n",
       "[2376 rows x 11 columns]"
      ]
     },
     "execution_count": 40,
     "metadata": {},
     "output_type": "execute_result"
    }
   ],
   "source": [
    "df[df['User_Score'] == 'tbd']"
   ]
  },
  {
   "cell_type": "markdown",
   "metadata": {},
   "source": [
    "Как уже было сказано выше, tbd - это всё, что должно быть проверено дополнительно. Заменим эти строки на условный -1 и изменим  тип данных:"
   ]
  },
  {
   "cell_type": "code",
   "execution_count": 41,
   "metadata": {},
   "outputs": [],
   "source": [
    "df['User_Score'] = df['User_Score'].apply(lambda x: -1 if x == 'tbd' else x)\n",
    "df['User_Score'] = pd.to_numeric(df['User_Score'])"
   ]
  },
  {
   "cell_type": "markdown",
   "metadata": {},
   "source": [
    "Теперь можно посмотреть на самую низкую и самую высокую оценку, которую поставили пользователи:"
   ]
  },
  {
   "cell_type": "code",
   "execution_count": 42,
   "metadata": {},
   "outputs": [
    {
     "data": {
      "text/html": [
       "<div>\n",
       "<style scoped>\n",
       "    .dataframe tbody tr th:only-of-type {\n",
       "        vertical-align: middle;\n",
       "    }\n",
       "\n",
       "    .dataframe tbody tr th {\n",
       "        vertical-align: top;\n",
       "    }\n",
       "\n",
       "    .dataframe thead th {\n",
       "        text-align: right;\n",
       "    }\n",
       "</style>\n",
       "<table border=\"1\" class=\"dataframe\">\n",
       "  <thead>\n",
       "    <tr style=\"text-align: right;\">\n",
       "      <th></th>\n",
       "      <th>User_Score</th>\n",
       "      <th>Name</th>\n",
       "    </tr>\n",
       "  </thead>\n",
       "  <tbody>\n",
       "    <tr>\n",
       "      <td>14412</td>\n",
       "      <td>9.7</td>\n",
       "      <td>breath of fire iii</td>\n",
       "    </tr>\n",
       "    <tr>\n",
       "      <td>8975</td>\n",
       "      <td>9.6</td>\n",
       "      <td>boktai: the sun is in your hand</td>\n",
       "    </tr>\n",
       "    <tr>\n",
       "      <td>3417</td>\n",
       "      <td>9.6</td>\n",
       "      <td>harvest moon: friends of mineral town</td>\n",
       "    </tr>\n",
       "    <tr>\n",
       "      <td>10105</td>\n",
       "      <td>9.5</td>\n",
       "      <td>cory in the house</td>\n",
       "    </tr>\n",
       "    <tr>\n",
       "      <td>1645</td>\n",
       "      <td>9.5</td>\n",
       "      <td>golden sun: the lost age</td>\n",
       "    </tr>\n",
       "    <tr>\n",
       "      <td>...</td>\n",
       "      <td>...</td>\n",
       "      <td>...</td>\n",
       "    </tr>\n",
       "    <tr>\n",
       "      <td>13380</td>\n",
       "      <td>0.3</td>\n",
       "      <td>billy the wizard: rocket broomstick racing</td>\n",
       "    </tr>\n",
       "    <tr>\n",
       "      <td>5764</td>\n",
       "      <td>0.3</td>\n",
       "      <td>happy feet</td>\n",
       "    </tr>\n",
       "    <tr>\n",
       "      <td>9970</td>\n",
       "      <td>0.2</td>\n",
       "      <td>madden nfl 17</td>\n",
       "    </tr>\n",
       "    <tr>\n",
       "      <td>13682</td>\n",
       "      <td>0.2</td>\n",
       "      <td>myth makers: trixie in toyland</td>\n",
       "    </tr>\n",
       "    <tr>\n",
       "      <td>2835</td>\n",
       "      <td>0.0</td>\n",
       "      <td>my little pony: pinkie pie's party</td>\n",
       "    </tr>\n",
       "  </tbody>\n",
       "</table>\n",
       "<p>7463 rows × 2 columns</p>\n",
       "</div>"
      ],
      "text/plain": [
       "       User_Score                                        Name\n",
       "14412         9.7                          breath of fire iii\n",
       "8975          9.6             boktai: the sun is in your hand\n",
       "3417          9.6       harvest moon: friends of mineral town\n",
       "10105         9.5                           cory in the house\n",
       "1645          9.5                    golden sun: the lost age\n",
       "...           ...                                         ...\n",
       "13380         0.3  billy the wizard: rocket broomstick racing\n",
       "5764          0.3                                  happy feet\n",
       "9970          0.2                               madden nfl 17\n",
       "13682         0.2              myth makers: trixie in toyland\n",
       "2835          0.0          my little pony: pinkie pie's party\n",
       "\n",
       "[7463 rows x 2 columns]"
      ]
     },
     "execution_count": 42,
     "metadata": {},
     "output_type": "execute_result"
    }
   ],
   "source": [
    "df[['User_Score', 'Name']].query('User_Score != -1').sort_values(by = 'User_Score', ascending = False)"
   ]
  },
  {
   "cell_type": "markdown",
   "metadata": {},
   "source": [
    "Самая высокая оценка у breath of fire iii, а самые низкие - у my little pony: pinkie pie's party,myth makers: trixie in toyland и madden nfl 17.\n",
    " "
   ]
  },
  {
   "cell_type": "code",
   "execution_count": 43,
   "metadata": {},
   "outputs": [
    {
     "data": {
      "text/html": [
       "<div>\n",
       "<style scoped>\n",
       "    .dataframe tbody tr th:only-of-type {\n",
       "        vertical-align: middle;\n",
       "    }\n",
       "\n",
       "    .dataframe tbody tr th {\n",
       "        vertical-align: top;\n",
       "    }\n",
       "\n",
       "    .dataframe thead th {\n",
       "        text-align: right;\n",
       "    }\n",
       "</style>\n",
       "<table border=\"1\" class=\"dataframe\">\n",
       "  <thead>\n",
       "    <tr style=\"text-align: right;\">\n",
       "      <th></th>\n",
       "      <th>Name</th>\n",
       "      <th>Platform</th>\n",
       "      <th>Year_of_Release</th>\n",
       "      <th>Genre</th>\n",
       "      <th>NA_sales</th>\n",
       "      <th>EU_sales</th>\n",
       "      <th>JP_sales</th>\n",
       "      <th>Other_sales</th>\n",
       "      <th>Critic_Score</th>\n",
       "      <th>User_Score</th>\n",
       "      <th>Rating</th>\n",
       "    </tr>\n",
       "  </thead>\n",
       "  <tbody>\n",
       "    <tr>\n",
       "      <td>1</td>\n",
       "      <td>super mario bros.</td>\n",
       "      <td>nes</td>\n",
       "      <td>1985</td>\n",
       "      <td>platform</td>\n",
       "      <td>29.08</td>\n",
       "      <td>3.58</td>\n",
       "      <td>6.81</td>\n",
       "      <td>0.77</td>\n",
       "      <td>-1.0</td>\n",
       "      <td>-1.0</td>\n",
       "      <td>NaN</td>\n",
       "    </tr>\n",
       "    <tr>\n",
       "      <td>4</td>\n",
       "      <td>pokemon red/pokemon blue</td>\n",
       "      <td>gb</td>\n",
       "      <td>1996</td>\n",
       "      <td>role-playing</td>\n",
       "      <td>11.27</td>\n",
       "      <td>8.89</td>\n",
       "      <td>10.22</td>\n",
       "      <td>1.00</td>\n",
       "      <td>-1.0</td>\n",
       "      <td>-1.0</td>\n",
       "      <td>NaN</td>\n",
       "    </tr>\n",
       "    <tr>\n",
       "      <td>5</td>\n",
       "      <td>tetris</td>\n",
       "      <td>gb</td>\n",
       "      <td>1989</td>\n",
       "      <td>puzzle</td>\n",
       "      <td>23.20</td>\n",
       "      <td>2.26</td>\n",
       "      <td>4.22</td>\n",
       "      <td>0.58</td>\n",
       "      <td>-1.0</td>\n",
       "      <td>-1.0</td>\n",
       "      <td>NaN</td>\n",
       "    </tr>\n",
       "    <tr>\n",
       "      <td>9</td>\n",
       "      <td>duck hunt</td>\n",
       "      <td>nes</td>\n",
       "      <td>1984</td>\n",
       "      <td>shooter</td>\n",
       "      <td>26.93</td>\n",
       "      <td>0.63</td>\n",
       "      <td>0.28</td>\n",
       "      <td>0.47</td>\n",
       "      <td>-1.0</td>\n",
       "      <td>-1.0</td>\n",
       "      <td>NaN</td>\n",
       "    </tr>\n",
       "    <tr>\n",
       "      <td>10</td>\n",
       "      <td>nintendogs</td>\n",
       "      <td>ds</td>\n",
       "      <td>2005</td>\n",
       "      <td>simulation</td>\n",
       "      <td>9.05</td>\n",
       "      <td>10.95</td>\n",
       "      <td>1.93</td>\n",
       "      <td>2.74</td>\n",
       "      <td>-1.0</td>\n",
       "      <td>-1.0</td>\n",
       "      <td>NaN</td>\n",
       "    </tr>\n",
       "    <tr>\n",
       "      <td>...</td>\n",
       "      <td>...</td>\n",
       "      <td>...</td>\n",
       "      <td>...</td>\n",
       "      <td>...</td>\n",
       "      <td>...</td>\n",
       "      <td>...</td>\n",
       "      <td>...</td>\n",
       "      <td>...</td>\n",
       "      <td>...</td>\n",
       "      <td>...</td>\n",
       "      <td>...</td>\n",
       "    </tr>\n",
       "    <tr>\n",
       "      <td>16710</td>\n",
       "      <td>samurai warriors: sanada maru</td>\n",
       "      <td>ps3</td>\n",
       "      <td>2016</td>\n",
       "      <td>action</td>\n",
       "      <td>0.00</td>\n",
       "      <td>0.00</td>\n",
       "      <td>0.01</td>\n",
       "      <td>0.00</td>\n",
       "      <td>-1.0</td>\n",
       "      <td>-1.0</td>\n",
       "      <td>NaN</td>\n",
       "    </tr>\n",
       "    <tr>\n",
       "      <td>16711</td>\n",
       "      <td>lma manager 2007</td>\n",
       "      <td>x360</td>\n",
       "      <td>2006</td>\n",
       "      <td>sports</td>\n",
       "      <td>0.00</td>\n",
       "      <td>0.01</td>\n",
       "      <td>0.00</td>\n",
       "      <td>0.00</td>\n",
       "      <td>-1.0</td>\n",
       "      <td>-1.0</td>\n",
       "      <td>NaN</td>\n",
       "    </tr>\n",
       "    <tr>\n",
       "      <td>16712</td>\n",
       "      <td>haitaka no psychedelica</td>\n",
       "      <td>psv</td>\n",
       "      <td>2016</td>\n",
       "      <td>adventure</td>\n",
       "      <td>0.00</td>\n",
       "      <td>0.00</td>\n",
       "      <td>0.01</td>\n",
       "      <td>0.00</td>\n",
       "      <td>-1.0</td>\n",
       "      <td>-1.0</td>\n",
       "      <td>NaN</td>\n",
       "    </tr>\n",
       "    <tr>\n",
       "      <td>16713</td>\n",
       "      <td>spirits &amp; spells</td>\n",
       "      <td>gba</td>\n",
       "      <td>2003</td>\n",
       "      <td>platform</td>\n",
       "      <td>0.01</td>\n",
       "      <td>0.00</td>\n",
       "      <td>0.00</td>\n",
       "      <td>0.00</td>\n",
       "      <td>-1.0</td>\n",
       "      <td>-1.0</td>\n",
       "      <td>NaN</td>\n",
       "    </tr>\n",
       "    <tr>\n",
       "      <td>16714</td>\n",
       "      <td>winning post 8 2016</td>\n",
       "      <td>psv</td>\n",
       "      <td>2016</td>\n",
       "      <td>simulation</td>\n",
       "      <td>0.00</td>\n",
       "      <td>0.00</td>\n",
       "      <td>0.01</td>\n",
       "      <td>0.00</td>\n",
       "      <td>-1.0</td>\n",
       "      <td>-1.0</td>\n",
       "      <td>NaN</td>\n",
       "    </tr>\n",
       "  </tbody>\n",
       "</table>\n",
       "<p>6676 rows × 11 columns</p>\n",
       "</div>"
      ],
      "text/plain": [
       "                                Name Platform  Year_of_Release         Genre  \\\n",
       "1                  super mario bros.      nes             1985      platform   \n",
       "4           pokemon red/pokemon blue       gb             1996  role-playing   \n",
       "5                             tetris       gb             1989        puzzle   \n",
       "9                          duck hunt      nes             1984       shooter   \n",
       "10                        nintendogs       ds             2005    simulation   \n",
       "...                              ...      ...              ...           ...   \n",
       "16710  samurai warriors: sanada maru      ps3             2016        action   \n",
       "16711               lma manager 2007     x360             2006        sports   \n",
       "16712        haitaka no psychedelica      psv             2016     adventure   \n",
       "16713               spirits & spells      gba             2003      platform   \n",
       "16714            winning post 8 2016      psv             2016    simulation   \n",
       "\n",
       "       NA_sales  EU_sales  JP_sales  Other_sales  Critic_Score  User_Score  \\\n",
       "1         29.08      3.58      6.81         0.77          -1.0        -1.0   \n",
       "4         11.27      8.89     10.22         1.00          -1.0        -1.0   \n",
       "5         23.20      2.26      4.22         0.58          -1.0        -1.0   \n",
       "9         26.93      0.63      0.28         0.47          -1.0        -1.0   \n",
       "10         9.05     10.95      1.93         2.74          -1.0        -1.0   \n",
       "...         ...       ...       ...          ...           ...         ...   \n",
       "16710      0.00      0.00      0.01         0.00          -1.0        -1.0   \n",
       "16711      0.00      0.01      0.00         0.00          -1.0        -1.0   \n",
       "16712      0.00      0.00      0.01         0.00          -1.0        -1.0   \n",
       "16713      0.01      0.00      0.00         0.00          -1.0        -1.0   \n",
       "16714      0.00      0.00      0.01         0.00          -1.0        -1.0   \n",
       "\n",
       "      Rating  \n",
       "1        NaN  \n",
       "4        NaN  \n",
       "5        NaN  \n",
       "9        NaN  \n",
       "10       NaN  \n",
       "...      ...  \n",
       "16710    NaN  \n",
       "16711    NaN  \n",
       "16712    NaN  \n",
       "16713    NaN  \n",
       "16714    NaN  \n",
       "\n",
       "[6676 rows x 11 columns]"
      ]
     },
     "execution_count": 43,
     "metadata": {},
     "output_type": "execute_result"
    }
   ],
   "source": [
    "df[df['Rating'].isna()]"
   ]
  },
  {
   "cell_type": "code",
   "execution_count": 44,
   "metadata": {},
   "outputs": [],
   "source": [
    "df['Rating'] = df['Rating'].fillna('unknown')"
   ]
  },
  {
   "cell_type": "markdown",
   "metadata": {},
   "source": [
    "В Рейтинге пропущенные значения заменим на Unknown."
   ]
  },
  {
   "cell_type": "markdown",
   "metadata": {},
   "source": [
    "Добавим столбец с суммарными продажами по всем регионам:"
   ]
  },
  {
   "cell_type": "code",
   "execution_count": 45,
   "metadata": {},
   "outputs": [],
   "source": [
    "df['total_sales'] = df['NA_sales'] + df['EU_sales'] + df['JP_sales'] + df['Other_sales']"
   ]
  },
  {
   "cell_type": "markdown",
   "metadata": {},
   "source": [
    "### Вывод"
   ]
  },
  {
   "cell_type": "markdown",
   "metadata": {},
   "source": [
    "Избавились от пропущенных строк, изменили тип данных, привели названия к единому регистру. Добавили данные по суммарным продажам. <br>\n",
    "\n",
    "\n",
    "Теперь данные можно анализировать, исследовать, строить графики и отчеты."
   ]
  },
  {
   "cell_type": "markdown",
   "metadata": {},
   "source": [
    "## Исследовательский анализ данных"
   ]
  },
  {
   "cell_type": "markdown",
   "metadata": {},
   "source": [
    "Посмотрим, как распределены релизы игр по годам:"
   ]
  },
  {
   "cell_type": "code",
   "execution_count": 46,
   "metadata": {},
   "outputs": [],
   "source": [
    "games_by_years = df.pivot_table(index = 'Year_of_Release', values = 'Name', aggfunc = 'count')"
   ]
  },
  {
   "cell_type": "code",
   "execution_count": 47,
   "metadata": {},
   "outputs": [
    {
     "data": {
      "text/plain": [
       "Text(0.5, 1.0, 'Распределение релизов игр по годам')"
      ]
     },
     "execution_count": 47,
     "metadata": {},
     "output_type": "execute_result"
    },
    {
     "data": {
      "image/png": "[encoded data removed]",
      "text/plain": [
       "<Figure size 432x288 with 1 Axes>"
      ]
     },
     "metadata": {
      "needs_background": "light"
     },
     "output_type": "display_data"
    }
   ],
   "source": [
    "games_by_years.plot()\n",
    "plt.title('Распределение релизов игр по годам')\n"
   ]
  },
  {
   "cell_type": "markdown",
   "metadata": {},
   "source": [
    "Как видим на графике, в 1995 году индустрия игр начала активно развиваться, а уже в 2000 году показала стремительный рост количества выпускаемых игр. <br>\n",
    "Так что данные до 1995 кажутся уже нерелеватными - игр было мало, их тогдашняя популярность вряд ли может появлиять на нынешние продажи - разве что из чувства ностальгии. \n",
    "Оставим в новом датафрейме (старый пока удалять не будем) только игры с датой релиза выше 1995 года:"
   ]
  },
  {
   "cell_type": "code",
   "execution_count": 48,
   "metadata": {},
   "outputs": [
    {
     "name": "stdout",
     "output_type": "stream",
     "text": [
      "<class 'pandas.core.frame.DataFrame'>\n",
      "Int64Index: 15958 entries, 0 to 16714\n",
      "Data columns (total 12 columns):\n",
      "Name               15958 non-null object\n",
      "Platform           15958 non-null object\n",
      "Year_of_Release    15958 non-null int64\n",
      "Genre              15958 non-null object\n",
      "NA_sales           15958 non-null float64\n",
      "EU_sales           15958 non-null float64\n",
      "JP_sales           15958 non-null float64\n",
      "Other_sales        15958 non-null float64\n",
      "Critic_Score       15958 non-null float64\n",
      "User_Score         15958 non-null float64\n",
      "Rating             15958 non-null object\n",
      "total_sales        15958 non-null float64\n",
      "dtypes: float64(7), int64(1), object(4)\n",
      "memory usage: 1.6+ MB\n"
     ]
    }
   ],
   "source": [
    "games = df[df['Year_of_Release'] >= 1995]\n",
    "games.info()"
   ]
  },
  {
   "cell_type": "markdown",
   "metadata": {},
   "source": [
    "Посмотрим на популярность платформ (по сумме прибыли):"
   ]
  },
  {
   "cell_type": "code",
   "execution_count": 49,
   "metadata": {},
   "outputs": [
    {
     "data": {
      "text/html": [
       "<div>\n",
       "<style scoped>\n",
       "    .dataframe tbody tr th:only-of-type {\n",
       "        vertical-align: middle;\n",
       "    }\n",
       "\n",
       "    .dataframe tbody tr th {\n",
       "        vertical-align: top;\n",
       "    }\n",
       "\n",
       "    .dataframe thead th {\n",
       "        text-align: right;\n",
       "    }\n",
       "</style>\n",
       "<table border=\"1\" class=\"dataframe\">\n",
       "  <thead>\n",
       "    <tr style=\"text-align: right;\">\n",
       "      <th></th>\n",
       "      <th>total_sales</th>\n",
       "    </tr>\n",
       "    <tr>\n",
       "      <th>Platform</th>\n",
       "      <th></th>\n",
       "    </tr>\n",
       "  </thead>\n",
       "  <tbody>\n",
       "    <tr>\n",
       "      <td>ps2</td>\n",
       "      <td>1233.56</td>\n",
       "    </tr>\n",
       "    <tr>\n",
       "      <td>x360</td>\n",
       "      <td>961.24</td>\n",
       "    </tr>\n",
       "    <tr>\n",
       "      <td>ps3</td>\n",
       "      <td>931.34</td>\n",
       "    </tr>\n",
       "    <tr>\n",
       "      <td>wii</td>\n",
       "      <td>891.18</td>\n",
       "    </tr>\n",
       "    <tr>\n",
       "      <td>ds</td>\n",
       "      <td>802.76</td>\n",
       "    </tr>\n",
       "    <tr>\n",
       "      <td>ps</td>\n",
       "      <td>721.55</td>\n",
       "    </tr>\n",
       "    <tr>\n",
       "      <td>ps4</td>\n",
       "      <td>314.14</td>\n",
       "    </tr>\n",
       "    <tr>\n",
       "      <td>gba</td>\n",
       "      <td>312.88</td>\n",
       "    </tr>\n",
       "    <tr>\n",
       "      <td>psp</td>\n",
       "      <td>289.53</td>\n",
       "    </tr>\n",
       "    <tr>\n",
       "      <td>3ds</td>\n",
       "      <td>257.81</td>\n",
       "    </tr>\n",
       "    <tr>\n",
       "      <td>xb</td>\n",
       "      <td>251.57</td>\n",
       "    </tr>\n",
       "    <tr>\n",
       "      <td>pc</td>\n",
       "      <td>239.79</td>\n",
       "    </tr>\n",
       "    <tr>\n",
       "      <td>n64</td>\n",
       "      <td>218.01</td>\n",
       "    </tr>\n",
       "    <tr>\n",
       "      <td>gc</td>\n",
       "      <td>196.73</td>\n",
       "    </tr>\n",
       "    <tr>\n",
       "      <td>xone</td>\n",
       "      <td>159.32</td>\n",
       "    </tr>\n",
       "    <tr>\n",
       "      <td>gb</td>\n",
       "      <td>139.90</td>\n",
       "    </tr>\n",
       "    <tr>\n",
       "      <td>wiiu</td>\n",
       "      <td>82.19</td>\n",
       "    </tr>\n",
       "    <tr>\n",
       "      <td>psv</td>\n",
       "      <td>53.81</td>\n",
       "    </tr>\n",
       "    <tr>\n",
       "      <td>snes</td>\n",
       "      <td>49.59</td>\n",
       "    </tr>\n",
       "    <tr>\n",
       "      <td>sat</td>\n",
       "      <td>29.94</td>\n",
       "    </tr>\n",
       "    <tr>\n",
       "      <td>dc</td>\n",
       "      <td>15.95</td>\n",
       "    </tr>\n",
       "    <tr>\n",
       "      <td>ws</td>\n",
       "      <td>1.42</td>\n",
       "    </tr>\n",
       "    <tr>\n",
       "      <td>ng</td>\n",
       "      <td>0.43</td>\n",
       "    </tr>\n",
       "    <tr>\n",
       "      <td>tg16</td>\n",
       "      <td>0.16</td>\n",
       "    </tr>\n",
       "    <tr>\n",
       "      <td>3do</td>\n",
       "      <td>0.08</td>\n",
       "    </tr>\n",
       "    <tr>\n",
       "      <td>pcfx</td>\n",
       "      <td>0.03</td>\n",
       "    </tr>\n",
       "  </tbody>\n",
       "</table>\n",
       "</div>"
      ],
      "text/plain": [
       "          total_sales\n",
       "Platform             \n",
       "ps2           1233.56\n",
       "x360           961.24\n",
       "ps3            931.34\n",
       "wii            891.18\n",
       "ds             802.76\n",
       "ps             721.55\n",
       "ps4            314.14\n",
       "gba            312.88\n",
       "psp            289.53\n",
       "3ds            257.81\n",
       "xb             251.57\n",
       "pc             239.79\n",
       "n64            218.01\n",
       "gc             196.73\n",
       "xone           159.32\n",
       "gb             139.90\n",
       "wiiu            82.19\n",
       "psv             53.81\n",
       "snes            49.59\n",
       "sat             29.94\n",
       "dc              15.95\n",
       "ws               1.42\n",
       "ng               0.43\n",
       "tg16             0.16\n",
       "3do              0.08\n",
       "pcfx             0.03"
      ]
     },
     "execution_count": 49,
     "metadata": {},
     "output_type": "execute_result"
    }
   ],
   "source": [
    "platforms = games.pivot_table(index = 'Platform', values = 'total_sales', aggfunc = 'sum').sort_values(by = 'total_sales', ascending = False)\n",
    "platforms"
   ]
  },
  {
   "cell_type": "markdown",
   "metadata": {},
   "source": [
    "Возьмем первые десять из них и посмотрим распределение по годам:"
   ]
  },
  {
   "cell_type": "code",
   "execution_count": 50,
   "metadata": {},
   "outputs": [
    {
     "data": {
      "text/html": [
       "<div>\n",
       "<style scoped>\n",
       "    .dataframe tbody tr th:only-of-type {\n",
       "        vertical-align: middle;\n",
       "    }\n",
       "\n",
       "    .dataframe tbody tr th {\n",
       "        vertical-align: top;\n",
       "    }\n",
       "\n",
       "    .dataframe thead th {\n",
       "        text-align: right;\n",
       "    }\n",
       "</style>\n",
       "<table border=\"1\" class=\"dataframe\">\n",
       "  <thead>\n",
       "    <tr style=\"text-align: right;\">\n",
       "      <th></th>\n",
       "      <th>Platform</th>\n",
       "      <th>total_sales</th>\n",
       "    </tr>\n",
       "  </thead>\n",
       "  <tbody>\n",
       "    <tr>\n",
       "      <td>0</td>\n",
       "      <td>ps2</td>\n",
       "      <td>1233.56</td>\n",
       "    </tr>\n",
       "    <tr>\n",
       "      <td>1</td>\n",
       "      <td>x360</td>\n",
       "      <td>961.24</td>\n",
       "    </tr>\n",
       "    <tr>\n",
       "      <td>2</td>\n",
       "      <td>ps3</td>\n",
       "      <td>931.34</td>\n",
       "    </tr>\n",
       "    <tr>\n",
       "      <td>3</td>\n",
       "      <td>wii</td>\n",
       "      <td>891.18</td>\n",
       "    </tr>\n",
       "    <tr>\n",
       "      <td>4</td>\n",
       "      <td>ds</td>\n",
       "      <td>802.76</td>\n",
       "    </tr>\n",
       "    <tr>\n",
       "      <td>5</td>\n",
       "      <td>ps</td>\n",
       "      <td>721.55</td>\n",
       "    </tr>\n",
       "    <tr>\n",
       "      <td>6</td>\n",
       "      <td>ps4</td>\n",
       "      <td>314.14</td>\n",
       "    </tr>\n",
       "    <tr>\n",
       "      <td>7</td>\n",
       "      <td>gba</td>\n",
       "      <td>312.88</td>\n",
       "    </tr>\n",
       "    <tr>\n",
       "      <td>8</td>\n",
       "      <td>psp</td>\n",
       "      <td>289.53</td>\n",
       "    </tr>\n",
       "    <tr>\n",
       "      <td>9</td>\n",
       "      <td>3ds</td>\n",
       "      <td>257.81</td>\n",
       "    </tr>\n",
       "  </tbody>\n",
       "</table>\n",
       "</div>"
      ],
      "text/plain": [
       "  Platform  total_sales\n",
       "0      ps2      1233.56\n",
       "1     x360       961.24\n",
       "2      ps3       931.34\n",
       "3      wii       891.18\n",
       "4       ds       802.76\n",
       "5       ps       721.55\n",
       "6      ps4       314.14\n",
       "7      gba       312.88\n",
       "8      psp       289.53\n",
       "9      3ds       257.81"
      ]
     },
     "execution_count": 50,
     "metadata": {},
     "output_type": "execute_result"
    }
   ],
   "source": [
    "popular_platfroms = platforms.head(10).reset_index()\n",
    "popular_platfroms"
   ]
  },
  {
   "cell_type": "code",
   "execution_count": 51,
   "metadata": {},
   "outputs": [
    {
     "data": {
      "text/html": [
       "<div>\n",
       "<style scoped>\n",
       "    .dataframe tbody tr th:only-of-type {\n",
       "        vertical-align: middle;\n",
       "    }\n",
       "\n",
       "    .dataframe tbody tr th {\n",
       "        vertical-align: top;\n",
       "    }\n",
       "\n",
       "    .dataframe thead th {\n",
       "        text-align: right;\n",
       "    }\n",
       "</style>\n",
       "<table border=\"1\" class=\"dataframe\">\n",
       "  <thead>\n",
       "    <tr style=\"text-align: right;\">\n",
       "      <th></th>\n",
       "      <th>Name</th>\n",
       "      <th>Platform</th>\n",
       "      <th>Year_of_Release</th>\n",
       "      <th>Genre</th>\n",
       "      <th>NA_sales</th>\n",
       "      <th>EU_sales</th>\n",
       "      <th>JP_sales</th>\n",
       "      <th>Other_sales</th>\n",
       "      <th>Critic_Score</th>\n",
       "      <th>User_Score</th>\n",
       "      <th>Rating</th>\n",
       "      <th>total_sales</th>\n",
       "    </tr>\n",
       "  </thead>\n",
       "  <tbody>\n",
       "    <tr>\n",
       "      <td>0</td>\n",
       "      <td>wii sports</td>\n",
       "      <td>wii</td>\n",
       "      <td>2006</td>\n",
       "      <td>sports</td>\n",
       "      <td>41.36</td>\n",
       "      <td>28.96</td>\n",
       "      <td>3.77</td>\n",
       "      <td>8.45</td>\n",
       "      <td>76.0</td>\n",
       "      <td>8.0</td>\n",
       "      <td>E</td>\n",
       "      <td>82.54</td>\n",
       "    </tr>\n",
       "    <tr>\n",
       "      <td>2</td>\n",
       "      <td>mario kart wii</td>\n",
       "      <td>wii</td>\n",
       "      <td>2008</td>\n",
       "      <td>racing</td>\n",
       "      <td>15.68</td>\n",
       "      <td>12.76</td>\n",
       "      <td>3.79</td>\n",
       "      <td>3.29</td>\n",
       "      <td>82.0</td>\n",
       "      <td>8.3</td>\n",
       "      <td>E</td>\n",
       "      <td>35.52</td>\n",
       "    </tr>\n",
       "    <tr>\n",
       "      <td>3</td>\n",
       "      <td>wii sports resort</td>\n",
       "      <td>wii</td>\n",
       "      <td>2009</td>\n",
       "      <td>sports</td>\n",
       "      <td>15.61</td>\n",
       "      <td>10.93</td>\n",
       "      <td>3.28</td>\n",
       "      <td>2.95</td>\n",
       "      <td>80.0</td>\n",
       "      <td>8.0</td>\n",
       "      <td>E</td>\n",
       "      <td>32.77</td>\n",
       "    </tr>\n",
       "    <tr>\n",
       "      <td>6</td>\n",
       "      <td>new super mario bros.</td>\n",
       "      <td>ds</td>\n",
       "      <td>2006</td>\n",
       "      <td>platform</td>\n",
       "      <td>11.28</td>\n",
       "      <td>9.14</td>\n",
       "      <td>6.50</td>\n",
       "      <td>2.88</td>\n",
       "      <td>89.0</td>\n",
       "      <td>8.5</td>\n",
       "      <td>E</td>\n",
       "      <td>29.80</td>\n",
       "    </tr>\n",
       "    <tr>\n",
       "      <td>7</td>\n",
       "      <td>wii play</td>\n",
       "      <td>wii</td>\n",
       "      <td>2006</td>\n",
       "      <td>misc</td>\n",
       "      <td>13.96</td>\n",
       "      <td>9.18</td>\n",
       "      <td>2.93</td>\n",
       "      <td>2.84</td>\n",
       "      <td>58.0</td>\n",
       "      <td>6.6</td>\n",
       "      <td>E</td>\n",
       "      <td>28.91</td>\n",
       "    </tr>\n",
       "    <tr>\n",
       "      <td>...</td>\n",
       "      <td>...</td>\n",
       "      <td>...</td>\n",
       "      <td>...</td>\n",
       "      <td>...</td>\n",
       "      <td>...</td>\n",
       "      <td>...</td>\n",
       "      <td>...</td>\n",
       "      <td>...</td>\n",
       "      <td>...</td>\n",
       "      <td>...</td>\n",
       "      <td>...</td>\n",
       "      <td>...</td>\n",
       "    </tr>\n",
       "    <tr>\n",
       "      <td>16708</td>\n",
       "      <td>woody woodpecker in crazy castle 5</td>\n",
       "      <td>gba</td>\n",
       "      <td>2002</td>\n",
       "      <td>platform</td>\n",
       "      <td>0.01</td>\n",
       "      <td>0.00</td>\n",
       "      <td>0.00</td>\n",
       "      <td>0.00</td>\n",
       "      <td>-1.0</td>\n",
       "      <td>-1.0</td>\n",
       "      <td>unknown</td>\n",
       "      <td>0.01</td>\n",
       "    </tr>\n",
       "    <tr>\n",
       "      <td>16709</td>\n",
       "      <td>score international baja 1000: the official game</td>\n",
       "      <td>ps2</td>\n",
       "      <td>2008</td>\n",
       "      <td>racing</td>\n",
       "      <td>0.00</td>\n",
       "      <td>0.00</td>\n",
       "      <td>0.00</td>\n",
       "      <td>0.00</td>\n",
       "      <td>-1.0</td>\n",
       "      <td>-1.0</td>\n",
       "      <td>unknown</td>\n",
       "      <td>0.00</td>\n",
       "    </tr>\n",
       "    <tr>\n",
       "      <td>16710</td>\n",
       "      <td>samurai warriors: sanada maru</td>\n",
       "      <td>ps3</td>\n",
       "      <td>2016</td>\n",
       "      <td>action</td>\n",
       "      <td>0.00</td>\n",
       "      <td>0.00</td>\n",
       "      <td>0.01</td>\n",
       "      <td>0.00</td>\n",
       "      <td>-1.0</td>\n",
       "      <td>-1.0</td>\n",
       "      <td>unknown</td>\n",
       "      <td>0.01</td>\n",
       "    </tr>\n",
       "    <tr>\n",
       "      <td>16711</td>\n",
       "      <td>lma manager 2007</td>\n",
       "      <td>x360</td>\n",
       "      <td>2006</td>\n",
       "      <td>sports</td>\n",
       "      <td>0.00</td>\n",
       "      <td>0.01</td>\n",
       "      <td>0.00</td>\n",
       "      <td>0.00</td>\n",
       "      <td>-1.0</td>\n",
       "      <td>-1.0</td>\n",
       "      <td>unknown</td>\n",
       "      <td>0.01</td>\n",
       "    </tr>\n",
       "    <tr>\n",
       "      <td>16713</td>\n",
       "      <td>spirits &amp; spells</td>\n",
       "      <td>gba</td>\n",
       "      <td>2003</td>\n",
       "      <td>platform</td>\n",
       "      <td>0.01</td>\n",
       "      <td>0.00</td>\n",
       "      <td>0.00</td>\n",
       "      <td>0.00</td>\n",
       "      <td>-1.0</td>\n",
       "      <td>-1.0</td>\n",
       "      <td>unknown</td>\n",
       "      <td>0.01</td>\n",
       "    </tr>\n",
       "  </tbody>\n",
       "</table>\n",
       "<p>12152 rows × 12 columns</p>\n",
       "</div>"
      ],
      "text/plain": [
       "                                                   Name Platform  \\\n",
       "0                                            wii sports      wii   \n",
       "2                                        mario kart wii      wii   \n",
       "3                                     wii sports resort      wii   \n",
       "6                                 new super mario bros.       ds   \n",
       "7                                              wii play      wii   \n",
       "...                                                 ...      ...   \n",
       "16708                woody woodpecker in crazy castle 5      gba   \n",
       "16709  score international baja 1000: the official game      ps2   \n",
       "16710                     samurai warriors: sanada maru      ps3   \n",
       "16711                                  lma manager 2007     x360   \n",
       "16713                                  spirits & spells      gba   \n",
       "\n",
       "       Year_of_Release     Genre  NA_sales  EU_sales  JP_sales  Other_sales  \\\n",
       "0                 2006    sports     41.36     28.96      3.77         8.45   \n",
       "2                 2008    racing     15.68     12.76      3.79         3.29   \n",
       "3                 2009    sports     15.61     10.93      3.28         2.95   \n",
       "6                 2006  platform     11.28      9.14      6.50         2.88   \n",
       "7                 2006      misc     13.96      9.18      2.93         2.84   \n",
       "...                ...       ...       ...       ...       ...          ...   \n",
       "16708             2002  platform      0.01      0.00      0.00         0.00   \n",
       "16709             2008    racing      0.00      0.00      0.00         0.00   \n",
       "16710             2016    action      0.00      0.00      0.01         0.00   \n",
       "16711             2006    sports      0.00      0.01      0.00         0.00   \n",
       "16713             2003  platform      0.01      0.00      0.00         0.00   \n",
       "\n",
       "       Critic_Score  User_Score   Rating  total_sales  \n",
       "0              76.0         8.0        E        82.54  \n",
       "2              82.0         8.3        E        35.52  \n",
       "3              80.0         8.0        E        32.77  \n",
       "6              89.0         8.5        E        29.80  \n",
       "7              58.0         6.6        E        28.91  \n",
       "...             ...         ...      ...          ...  \n",
       "16708          -1.0        -1.0  unknown         0.01  \n",
       "16709          -1.0        -1.0  unknown         0.00  \n",
       "16710          -1.0        -1.0  unknown         0.01  \n",
       "16711          -1.0        -1.0  unknown         0.01  \n",
       "16713          -1.0        -1.0  unknown         0.01  \n",
       "\n",
       "[12152 rows x 12 columns]"
      ]
     },
     "execution_count": 51,
     "metadata": {},
     "output_type": "execute_result"
    }
   ],
   "source": [
    "popular_platfroms_data = games[games['Platform'].isin(popular_platfroms['Platform'])]\n",
    "popular_platfroms_data"
   ]
  },
  {
   "cell_type": "markdown",
   "metadata": {},
   "source": [
    "Построим распределение по годам "
   ]
  },
  {
   "cell_type": "code",
   "execution_count": 52,
   "metadata": {
    "scrolled": true
   },
   "outputs": [
    {
     "data": {
      "text/html": [
       "<div>\n",
       "<style scoped>\n",
       "    .dataframe tbody tr th:only-of-type {\n",
       "        vertical-align: middle;\n",
       "    }\n",
       "\n",
       "    .dataframe tbody tr th {\n",
       "        vertical-align: top;\n",
       "    }\n",
       "\n",
       "    .dataframe thead th {\n",
       "        text-align: right;\n",
       "    }\n",
       "</style>\n",
       "<table border=\"1\" class=\"dataframe\">\n",
       "  <thead>\n",
       "    <tr style=\"text-align: right;\">\n",
       "      <th>Platform</th>\n",
       "      <th>3ds</th>\n",
       "      <th>ds</th>\n",
       "      <th>gba</th>\n",
       "      <th>ps</th>\n",
       "      <th>ps2</th>\n",
       "      <th>ps3</th>\n",
       "      <th>ps4</th>\n",
       "      <th>psp</th>\n",
       "      <th>wii</th>\n",
       "      <th>x360</th>\n",
       "    </tr>\n",
       "    <tr>\n",
       "      <th>Year_of_Release</th>\n",
       "      <th></th>\n",
       "      <th></th>\n",
       "      <th></th>\n",
       "      <th></th>\n",
       "      <th></th>\n",
       "      <th></th>\n",
       "      <th></th>\n",
       "      <th></th>\n",
       "      <th></th>\n",
       "      <th></th>\n",
       "    </tr>\n",
       "  </thead>\n",
       "  <tbody>\n",
       "    <tr>\n",
       "      <td>1995</td>\n",
       "      <td>NaN</td>\n",
       "      <td>NaN</td>\n",
       "      <td>NaN</td>\n",
       "      <td>35.96</td>\n",
       "      <td>NaN</td>\n",
       "      <td>NaN</td>\n",
       "      <td>NaN</td>\n",
       "      <td>NaN</td>\n",
       "      <td>NaN</td>\n",
       "      <td>NaN</td>\n",
       "    </tr>\n",
       "    <tr>\n",
       "      <td>1996</td>\n",
       "      <td>NaN</td>\n",
       "      <td>NaN</td>\n",
       "      <td>NaN</td>\n",
       "      <td>94.70</td>\n",
       "      <td>NaN</td>\n",
       "      <td>NaN</td>\n",
       "      <td>NaN</td>\n",
       "      <td>NaN</td>\n",
       "      <td>NaN</td>\n",
       "      <td>NaN</td>\n",
       "    </tr>\n",
       "    <tr>\n",
       "      <td>1997</td>\n",
       "      <td>NaN</td>\n",
       "      <td>NaN</td>\n",
       "      <td>NaN</td>\n",
       "      <td>136.17</td>\n",
       "      <td>NaN</td>\n",
       "      <td>NaN</td>\n",
       "      <td>NaN</td>\n",
       "      <td>NaN</td>\n",
       "      <td>NaN</td>\n",
       "      <td>NaN</td>\n",
       "    </tr>\n",
       "    <tr>\n",
       "      <td>1998</td>\n",
       "      <td>NaN</td>\n",
       "      <td>NaN</td>\n",
       "      <td>NaN</td>\n",
       "      <td>169.49</td>\n",
       "      <td>NaN</td>\n",
       "      <td>NaN</td>\n",
       "      <td>NaN</td>\n",
       "      <td>NaN</td>\n",
       "      <td>NaN</td>\n",
       "      <td>NaN</td>\n",
       "    </tr>\n",
       "    <tr>\n",
       "      <td>1999</td>\n",
       "      <td>NaN</td>\n",
       "      <td>NaN</td>\n",
       "      <td>NaN</td>\n",
       "      <td>144.53</td>\n",
       "      <td>NaN</td>\n",
       "      <td>NaN</td>\n",
       "      <td>NaN</td>\n",
       "      <td>NaN</td>\n",
       "      <td>NaN</td>\n",
       "      <td>NaN</td>\n",
       "    </tr>\n",
       "    <tr>\n",
       "      <td>2000</td>\n",
       "      <td>NaN</td>\n",
       "      <td>NaN</td>\n",
       "      <td>0.07</td>\n",
       "      <td>96.37</td>\n",
       "      <td>39.17</td>\n",
       "      <td>NaN</td>\n",
       "      <td>NaN</td>\n",
       "      <td>NaN</td>\n",
       "      <td>NaN</td>\n",
       "      <td>NaN</td>\n",
       "    </tr>\n",
       "    <tr>\n",
       "      <td>2001</td>\n",
       "      <td>NaN</td>\n",
       "      <td>NaN</td>\n",
       "      <td>61.53</td>\n",
       "      <td>35.59</td>\n",
       "      <td>166.43</td>\n",
       "      <td>NaN</td>\n",
       "      <td>NaN</td>\n",
       "      <td>NaN</td>\n",
       "      <td>NaN</td>\n",
       "      <td>NaN</td>\n",
       "    </tr>\n",
       "    <tr>\n",
       "      <td>2002</td>\n",
       "      <td>NaN</td>\n",
       "      <td>NaN</td>\n",
       "      <td>74.16</td>\n",
       "      <td>6.67</td>\n",
       "      <td>205.38</td>\n",
       "      <td>NaN</td>\n",
       "      <td>NaN</td>\n",
       "      <td>NaN</td>\n",
       "      <td>NaN</td>\n",
       "      <td>NaN</td>\n",
       "    </tr>\n",
       "    <tr>\n",
       "      <td>2003</td>\n",
       "      <td>NaN</td>\n",
       "      <td>NaN</td>\n",
       "      <td>56.67</td>\n",
       "      <td>2.07</td>\n",
       "      <td>184.31</td>\n",
       "      <td>NaN</td>\n",
       "      <td>NaN</td>\n",
       "      <td>NaN</td>\n",
       "      <td>NaN</td>\n",
       "      <td>NaN</td>\n",
       "    </tr>\n",
       "    <tr>\n",
       "      <td>2004</td>\n",
       "      <td>NaN</td>\n",
       "      <td>17.27</td>\n",
       "      <td>77.91</td>\n",
       "      <td>NaN</td>\n",
       "      <td>211.81</td>\n",
       "      <td>NaN</td>\n",
       "      <td>NaN</td>\n",
       "      <td>7.06</td>\n",
       "      <td>NaN</td>\n",
       "      <td>NaN</td>\n",
       "    </tr>\n",
       "    <tr>\n",
       "      <td>2005</td>\n",
       "      <td>NaN</td>\n",
       "      <td>130.14</td>\n",
       "      <td>33.86</td>\n",
       "      <td>NaN</td>\n",
       "      <td>160.66</td>\n",
       "      <td>NaN</td>\n",
       "      <td>NaN</td>\n",
       "      <td>43.84</td>\n",
       "      <td>NaN</td>\n",
       "      <td>8.25</td>\n",
       "    </tr>\n",
       "    <tr>\n",
       "      <td>2006</td>\n",
       "      <td>NaN</td>\n",
       "      <td>119.81</td>\n",
       "      <td>5.28</td>\n",
       "      <td>NaN</td>\n",
       "      <td>103.42</td>\n",
       "      <td>20.96</td>\n",
       "      <td>NaN</td>\n",
       "      <td>55.32</td>\n",
       "      <td>137.15</td>\n",
       "      <td>51.62</td>\n",
       "    </tr>\n",
       "    <tr>\n",
       "      <td>2007</td>\n",
       "      <td>NaN</td>\n",
       "      <td>146.94</td>\n",
       "      <td>3.40</td>\n",
       "      <td>NaN</td>\n",
       "      <td>75.99</td>\n",
       "      <td>73.19</td>\n",
       "      <td>NaN</td>\n",
       "      <td>46.93</td>\n",
       "      <td>152.77</td>\n",
       "      <td>95.41</td>\n",
       "    </tr>\n",
       "    <tr>\n",
       "      <td>2008</td>\n",
       "      <td>NaN</td>\n",
       "      <td>145.31</td>\n",
       "      <td>NaN</td>\n",
       "      <td>NaN</td>\n",
       "      <td>53.90</td>\n",
       "      <td>118.52</td>\n",
       "      <td>NaN</td>\n",
       "      <td>34.55</td>\n",
       "      <td>171.32</td>\n",
       "      <td>135.26</td>\n",
       "    </tr>\n",
       "    <tr>\n",
       "      <td>2009</td>\n",
       "      <td>NaN</td>\n",
       "      <td>119.54</td>\n",
       "      <td>NaN</td>\n",
       "      <td>NaN</td>\n",
       "      <td>26.40</td>\n",
       "      <td>130.93</td>\n",
       "      <td>NaN</td>\n",
       "      <td>37.78</td>\n",
       "      <td>206.97</td>\n",
       "      <td>120.29</td>\n",
       "    </tr>\n",
       "    <tr>\n",
       "      <td>2010</td>\n",
       "      <td>NaN</td>\n",
       "      <td>85.02</td>\n",
       "      <td>NaN</td>\n",
       "      <td>NaN</td>\n",
       "      <td>5.64</td>\n",
       "      <td>142.17</td>\n",
       "      <td>NaN</td>\n",
       "      <td>35.04</td>\n",
       "      <td>127.95</td>\n",
       "      <td>170.03</td>\n",
       "    </tr>\n",
       "    <tr>\n",
       "      <td>2011</td>\n",
       "      <td>63.20</td>\n",
       "      <td>26.18</td>\n",
       "      <td>NaN</td>\n",
       "      <td>NaN</td>\n",
       "      <td>0.45</td>\n",
       "      <td>156.78</td>\n",
       "      <td>NaN</td>\n",
       "      <td>17.82</td>\n",
       "      <td>59.65</td>\n",
       "      <td>143.84</td>\n",
       "    </tr>\n",
       "    <tr>\n",
       "      <td>2012</td>\n",
       "      <td>51.36</td>\n",
       "      <td>11.01</td>\n",
       "      <td>NaN</td>\n",
       "      <td>NaN</td>\n",
       "      <td>NaN</td>\n",
       "      <td>107.36</td>\n",
       "      <td>NaN</td>\n",
       "      <td>7.69</td>\n",
       "      <td>21.71</td>\n",
       "      <td>99.74</td>\n",
       "    </tr>\n",
       "    <tr>\n",
       "      <td>2013</td>\n",
       "      <td>56.57</td>\n",
       "      <td>1.54</td>\n",
       "      <td>NaN</td>\n",
       "      <td>NaN</td>\n",
       "      <td>NaN</td>\n",
       "      <td>113.25</td>\n",
       "      <td>25.99</td>\n",
       "      <td>3.14</td>\n",
       "      <td>8.59</td>\n",
       "      <td>88.58</td>\n",
       "    </tr>\n",
       "    <tr>\n",
       "      <td>2014</td>\n",
       "      <td>43.76</td>\n",
       "      <td>NaN</td>\n",
       "      <td>NaN</td>\n",
       "      <td>NaN</td>\n",
       "      <td>NaN</td>\n",
       "      <td>47.76</td>\n",
       "      <td>100.00</td>\n",
       "      <td>0.24</td>\n",
       "      <td>3.75</td>\n",
       "      <td>34.74</td>\n",
       "    </tr>\n",
       "    <tr>\n",
       "      <td>2015</td>\n",
       "      <td>27.78</td>\n",
       "      <td>NaN</td>\n",
       "      <td>NaN</td>\n",
       "      <td>NaN</td>\n",
       "      <td>NaN</td>\n",
       "      <td>16.82</td>\n",
       "      <td>118.90</td>\n",
       "      <td>0.12</td>\n",
       "      <td>1.14</td>\n",
       "      <td>11.96</td>\n",
       "    </tr>\n",
       "    <tr>\n",
       "      <td>2016</td>\n",
       "      <td>15.14</td>\n",
       "      <td>NaN</td>\n",
       "      <td>NaN</td>\n",
       "      <td>NaN</td>\n",
       "      <td>NaN</td>\n",
       "      <td>3.60</td>\n",
       "      <td>69.25</td>\n",
       "      <td>NaN</td>\n",
       "      <td>0.18</td>\n",
       "      <td>1.52</td>\n",
       "    </tr>\n",
       "  </tbody>\n",
       "</table>\n",
       "</div>"
      ],
      "text/plain": [
       "Platform           3ds      ds    gba      ps     ps2     ps3     ps4    psp  \\\n",
       "Year_of_Release                                                                \n",
       "1995               NaN     NaN    NaN   35.96     NaN     NaN     NaN    NaN   \n",
       "1996               NaN     NaN    NaN   94.70     NaN     NaN     NaN    NaN   \n",
       "1997               NaN     NaN    NaN  136.17     NaN     NaN     NaN    NaN   \n",
       "1998               NaN     NaN    NaN  169.49     NaN     NaN     NaN    NaN   \n",
       "1999               NaN     NaN    NaN  144.53     NaN     NaN     NaN    NaN   \n",
       "2000               NaN     NaN   0.07   96.37   39.17     NaN     NaN    NaN   \n",
       "2001               NaN     NaN  61.53   35.59  166.43     NaN     NaN    NaN   \n",
       "2002               NaN     NaN  74.16    6.67  205.38     NaN     NaN    NaN   \n",
       "2003               NaN     NaN  56.67    2.07  184.31     NaN     NaN    NaN   \n",
       "2004               NaN   17.27  77.91     NaN  211.81     NaN     NaN   7.06   \n",
       "2005               NaN  130.14  33.86     NaN  160.66     NaN     NaN  43.84   \n",
       "2006               NaN  119.81   5.28     NaN  103.42   20.96     NaN  55.32   \n",
       "2007               NaN  146.94   3.40     NaN   75.99   73.19     NaN  46.93   \n",
       "2008               NaN  145.31    NaN     NaN   53.90  118.52     NaN  34.55   \n",
       "2009               NaN  119.54    NaN     NaN   26.40  130.93     NaN  37.78   \n",
       "2010               NaN   85.02    NaN     NaN    5.64  142.17     NaN  35.04   \n",
       "2011             63.20   26.18    NaN     NaN    0.45  156.78     NaN  17.82   \n",
       "2012             51.36   11.01    NaN     NaN     NaN  107.36     NaN   7.69   \n",
       "2013             56.57    1.54    NaN     NaN     NaN  113.25   25.99   3.14   \n",
       "2014             43.76     NaN    NaN     NaN     NaN   47.76  100.00   0.24   \n",
       "2015             27.78     NaN    NaN     NaN     NaN   16.82  118.90   0.12   \n",
       "2016             15.14     NaN    NaN     NaN     NaN    3.60   69.25    NaN   \n",
       "\n",
       "Platform            wii    x360  \n",
       "Year_of_Release                  \n",
       "1995                NaN     NaN  \n",
       "1996                NaN     NaN  \n",
       "1997                NaN     NaN  \n",
       "1998                NaN     NaN  \n",
       "1999                NaN     NaN  \n",
       "2000                NaN     NaN  \n",
       "2001                NaN     NaN  \n",
       "2002                NaN     NaN  \n",
       "2003                NaN     NaN  \n",
       "2004                NaN     NaN  \n",
       "2005                NaN    8.25  \n",
       "2006             137.15   51.62  \n",
       "2007             152.77   95.41  \n",
       "2008             171.32  135.26  \n",
       "2009             206.97  120.29  \n",
       "2010             127.95  170.03  \n",
       "2011              59.65  143.84  \n",
       "2012              21.71   99.74  \n",
       "2013               8.59   88.58  \n",
       "2014               3.75   34.74  \n",
       "2015               1.14   11.96  \n",
       "2016               0.18    1.52  "
      ]
     },
     "execution_count": 52,
     "metadata": {},
     "output_type": "execute_result"
    }
   ],
   "source": [
    "platforms_by_year = popular_platfroms_data.pivot_table(index = 'Year_of_Release', columns = 'Platform', values = 'total_sales', aggfunc = 'sum')\n",
    "platforms_by_year"
   ]
  },
  {
   "cell_type": "markdown",
   "metadata": {},
   "source": [
    "Nan свидетельствуют о том, что в опреденный год релизов на платформе не было. <br>\n",
    "Интересно, например, как сменяли друг друга версии PS: ps со временем заменили на ps2, ps3, ps4. <br>\n",
    "Относительно новыми являются 3ds, ps4 (первые игры начали продавать в 2011 и в 2013 соответственно). <br>\n",
    "Популярность GBA длилась недолго - с 2000 по 2007. "
   ]
  },
  {
   "cell_type": "markdown",
   "metadata": {},
   "source": [
    "И посмотрим на графике:"
   ]
  },
  {
   "cell_type": "code",
   "execution_count": 53,
   "metadata": {},
   "outputs": [
    {
     "data": {
      "text/plain": [
       "<matplotlib.axes._subplots.AxesSubplot at 0x7fdacf74cfd0>"
      ]
     },
     "execution_count": 53,
     "metadata": {},
     "output_type": "execute_result"
    },
    {
     "data": {
      "image/png": "[encoded data removed]",
      "text/plain": [
       "<Figure size 1080x720 with 1 Axes>"
      ]
     },
     "metadata": {
      "needs_background": "light"
     },
     "output_type": "display_data"
    }
   ],
   "source": [
    "platforms_by_year.plot(kind= 'bar', stacked=True, figsize  = (15, 10))"
   ]
  },
  {
   "cell_type": "code",
   "execution_count": 54,
   "metadata": {
    "scrolled": true
   },
   "outputs": [
    {
     "data": {
      "text/plain": [
       "Text(0.5, 1.0, 'Распределение платформ по годам')"
      ]
     },
     "execution_count": 54,
     "metadata": {},
     "output_type": "execute_result"
    },
    {
     "data": {
      "image/png": "[encoded data removed]",
      "text/plain": [
       "<Figure size 1080x720 with 1 Axes>"
      ]
     },
     "metadata": {
      "needs_background": "light"
     },
     "output_type": "display_data"
    }
   ],
   "source": [
    "platforms_by_year.plot(kind= 'bar', width=2, figsize  = (15, 10))\n",
    "plt.title('Распределение платформ по годам')"
   ]
  },
  {
   "cell_type": "markdown",
   "metadata": {},
   "source": [
    "На данных графиках наглядно заметно, как постепенно исчезали одни платформы и появлялись другие. Интересен также период с 2005 по 2011 - большое разнообразие игровых платформ привело также и к росту продаж в целом. "
   ]
  },
  {
   "cell_type": "markdown",
   "metadata": {},
   "source": [
    "Посмотрим отдельно данные за последние 5 лет:"
   ]
  },
  {
   "cell_type": "code",
   "execution_count": 55,
   "metadata": {},
   "outputs": [
    {
     "data": {
      "text/plain": [
       "Text(0.5, 1.0, 'Распределение продаж по платформам по годам')"
      ]
     },
     "execution_count": 55,
     "metadata": {},
     "output_type": "execute_result"
    },
    {
     "data": {
      "image/png": "[encoded data removed]",
      "text/plain": [
       "<Figure size 1080x720 with 1 Axes>"
      ]
     },
     "metadata": {
      "needs_background": "light"
     },
     "output_type": "display_data"
    }
   ],
   "source": [
    "platforms_by_year.tail(5).plot(kind= 'bar', width=2, figsize  = (15, 10))\n",
    "plt.ylabel('Продажи')\n",
    "plt.title('Распределение продаж по платформам по годам')"
   ]
  },
  {
   "cell_type": "markdown",
   "metadata": {},
   "source": [
    "Самой продаваемой платформой является PlayStation - в 2013 на смену ps3 пришла ps4. Также популярной платформой является XOne. "
   ]
  },
  {
   "cell_type": "markdown",
   "metadata": {},
   "source": [
    "Посмотрим, какая платформа принесла больше всего прибыли за последние 3 года:"
   ]
  },
  {
   "cell_type": "code",
   "execution_count": 56,
   "metadata": {},
   "outputs": [
    {
     "data": {
      "text/html": [
       "<div>\n",
       "<style scoped>\n",
       "    .dataframe tbody tr th:only-of-type {\n",
       "        vertical-align: middle;\n",
       "    }\n",
       "\n",
       "    .dataframe tbody tr th {\n",
       "        vertical-align: top;\n",
       "    }\n",
       "\n",
       "    .dataframe thead th {\n",
       "        text-align: right;\n",
       "    }\n",
       "</style>\n",
       "<table border=\"1\" class=\"dataframe\">\n",
       "  <thead>\n",
       "    <tr style=\"text-align: right;\">\n",
       "      <th></th>\n",
       "      <th>Platform</th>\n",
       "      <th>total_sales</th>\n",
       "    </tr>\n",
       "  </thead>\n",
       "  <tbody>\n",
       "    <tr>\n",
       "      <td>0</td>\n",
       "      <td>ps4</td>\n",
       "      <td>314.14</td>\n",
       "    </tr>\n",
       "    <tr>\n",
       "      <td>1</td>\n",
       "      <td>ps3</td>\n",
       "      <td>181.43</td>\n",
       "    </tr>\n",
       "    <tr>\n",
       "      <td>2</td>\n",
       "      <td>3ds</td>\n",
       "      <td>143.25</td>\n",
       "    </tr>\n",
       "    <tr>\n",
       "      <td>3</td>\n",
       "      <td>x360</td>\n",
       "      <td>136.80</td>\n",
       "    </tr>\n",
       "    <tr>\n",
       "      <td>4</td>\n",
       "      <td>wii</td>\n",
       "      <td>13.66</td>\n",
       "    </tr>\n",
       "    <tr>\n",
       "      <td>5</td>\n",
       "      <td>psp</td>\n",
       "      <td>3.50</td>\n",
       "    </tr>\n",
       "    <tr>\n",
       "      <td>6</td>\n",
       "      <td>ds</td>\n",
       "      <td>1.54</td>\n",
       "    </tr>\n",
       "  </tbody>\n",
       "</table>\n",
       "</div>"
      ],
      "text/plain": [
       "  Platform  total_sales\n",
       "0      ps4       314.14\n",
       "1      ps3       181.43\n",
       "2      3ds       143.25\n",
       "3     x360       136.80\n",
       "4      wii        13.66\n",
       "5      psp         3.50\n",
       "6       ds         1.54"
      ]
     },
     "execution_count": 56,
     "metadata": {},
     "output_type": "execute_result"
    }
   ],
   "source": [
    "top_platforms = popular_platfroms_data.query('Year_of_Release >= 2013').groupby('Platform')['total_sales'].sum().sort_values(ascending = False).reset_index()\n",
    "top_platforms"
   ]
  },
  {
   "cell_type": "code",
   "execution_count": 57,
   "metadata": {
    "scrolled": true
   },
   "outputs": [
    {
     "data": {
      "text/plain": [
       "(0, 2.5)"
      ]
     },
     "execution_count": 57,
     "metadata": {},
     "output_type": "execute_result"
    },
    {
     "data": {
      "image/png": "[encoded data removed]",
      "text/plain": [
       "<Figure size 864x288 with 1 Axes>"
      ]
     },
     "metadata": {
      "needs_background": "light"
     },
     "output_type": "display_data"
    }
   ],
   "source": [
    "games_2013 = games[games['Year_of_Release'] >= 2013]\n",
    "\n",
    "\n",
    "sns.catplot(x=\"Platform\", \n",
    "            y='total_sales', \n",
    "            kind=\"box\", \n",
    "            data=games_2013, \n",
    "            height=4, \n",
    "            aspect=3)\n",
    "plt.ylim(0, 2.5)"
   ]
  },
  {
   "cell_type": "markdown",
   "metadata": {},
   "source": [
    "В топе - ps3, x360, ps4 и 3ds. Т.к. PS4 - это более новая версия PS3, к тройке лидеров добавим x360. "
   ]
  },
  {
   "cell_type": "markdown",
   "metadata": {},
   "source": [
    "Посмотрим, как влияют на продажи оценки критиков и игроков:"
   ]
  },
  {
   "cell_type": "markdown",
   "metadata": {},
   "source": [
    "Возьмем в качестве примера PS4:"
   ]
  },
  {
   "cell_type": "code",
   "execution_count": 58,
   "metadata": {},
   "outputs": [
    {
     "data": {
      "text/html": [
       "<div>\n",
       "<style scoped>\n",
       "    .dataframe tbody tr th:only-of-type {\n",
       "        vertical-align: middle;\n",
       "    }\n",
       "\n",
       "    .dataframe tbody tr th {\n",
       "        vertical-align: top;\n",
       "    }\n",
       "\n",
       "    .dataframe thead th {\n",
       "        text-align: right;\n",
       "    }\n",
       "</style>\n",
       "<table border=\"1\" class=\"dataframe\">\n",
       "  <thead>\n",
       "    <tr style=\"text-align: right;\">\n",
       "      <th></th>\n",
       "      <th>Name</th>\n",
       "      <th>Platform</th>\n",
       "      <th>Year_of_Release</th>\n",
       "      <th>Genre</th>\n",
       "      <th>NA_sales</th>\n",
       "      <th>EU_sales</th>\n",
       "      <th>JP_sales</th>\n",
       "      <th>Other_sales</th>\n",
       "      <th>Critic_Score</th>\n",
       "      <th>User_Score</th>\n",
       "      <th>Rating</th>\n",
       "      <th>total_sales</th>\n",
       "    </tr>\n",
       "  </thead>\n",
       "  <tbody>\n",
       "    <tr>\n",
       "      <td>31</td>\n",
       "      <td>call of duty: black ops 3</td>\n",
       "      <td>ps4</td>\n",
       "      <td>2015</td>\n",
       "      <td>shooter</td>\n",
       "      <td>6.03</td>\n",
       "      <td>5.86</td>\n",
       "      <td>0.36</td>\n",
       "      <td>2.38</td>\n",
       "      <td>-1.0</td>\n",
       "      <td>-1.0</td>\n",
       "      <td>unknown</td>\n",
       "      <td>14.63</td>\n",
       "    </tr>\n",
       "    <tr>\n",
       "      <td>42</td>\n",
       "      <td>grand theft auto v</td>\n",
       "      <td>ps4</td>\n",
       "      <td>2014</td>\n",
       "      <td>action</td>\n",
       "      <td>3.96</td>\n",
       "      <td>6.31</td>\n",
       "      <td>0.38</td>\n",
       "      <td>1.97</td>\n",
       "      <td>97.0</td>\n",
       "      <td>8.3</td>\n",
       "      <td>M</td>\n",
       "      <td>12.62</td>\n",
       "    </tr>\n",
       "    <tr>\n",
       "      <td>77</td>\n",
       "      <td>fifa 16</td>\n",
       "      <td>ps4</td>\n",
       "      <td>2015</td>\n",
       "      <td>sports</td>\n",
       "      <td>1.12</td>\n",
       "      <td>6.12</td>\n",
       "      <td>0.06</td>\n",
       "      <td>1.28</td>\n",
       "      <td>82.0</td>\n",
       "      <td>4.3</td>\n",
       "      <td>E</td>\n",
       "      <td>8.58</td>\n",
       "    </tr>\n",
       "    <tr>\n",
       "      <td>87</td>\n",
       "      <td>star wars battlefront (2015)</td>\n",
       "      <td>ps4</td>\n",
       "      <td>2015</td>\n",
       "      <td>shooter</td>\n",
       "      <td>2.99</td>\n",
       "      <td>3.49</td>\n",
       "      <td>0.22</td>\n",
       "      <td>1.28</td>\n",
       "      <td>-1.0</td>\n",
       "      <td>-1.0</td>\n",
       "      <td>unknown</td>\n",
       "      <td>7.98</td>\n",
       "    </tr>\n",
       "    <tr>\n",
       "      <td>92</td>\n",
       "      <td>call of duty: advanced warfare</td>\n",
       "      <td>ps4</td>\n",
       "      <td>2014</td>\n",
       "      <td>shooter</td>\n",
       "      <td>2.81</td>\n",
       "      <td>3.48</td>\n",
       "      <td>0.14</td>\n",
       "      <td>1.23</td>\n",
       "      <td>83.0</td>\n",
       "      <td>5.7</td>\n",
       "      <td>M</td>\n",
       "      <td>7.66</td>\n",
       "    </tr>\n",
       "    <tr>\n",
       "      <td>...</td>\n",
       "      <td>...</td>\n",
       "      <td>...</td>\n",
       "      <td>...</td>\n",
       "      <td>...</td>\n",
       "      <td>...</td>\n",
       "      <td>...</td>\n",
       "      <td>...</td>\n",
       "      <td>...</td>\n",
       "      <td>...</td>\n",
       "      <td>...</td>\n",
       "      <td>...</td>\n",
       "      <td>...</td>\n",
       "    </tr>\n",
       "    <tr>\n",
       "      <td>16500</td>\n",
       "      <td>root letter</td>\n",
       "      <td>ps4</td>\n",
       "      <td>2016</td>\n",
       "      <td>adventure</td>\n",
       "      <td>0.00</td>\n",
       "      <td>0.00</td>\n",
       "      <td>0.01</td>\n",
       "      <td>0.00</td>\n",
       "      <td>69.0</td>\n",
       "      <td>7.5</td>\n",
       "      <td>unknown</td>\n",
       "      <td>0.01</td>\n",
       "    </tr>\n",
       "    <tr>\n",
       "      <td>16503</td>\n",
       "      <td>shin hayarigami 2</td>\n",
       "      <td>ps4</td>\n",
       "      <td>2016</td>\n",
       "      <td>adventure</td>\n",
       "      <td>0.00</td>\n",
       "      <td>0.00</td>\n",
       "      <td>0.01</td>\n",
       "      <td>0.00</td>\n",
       "      <td>-1.0</td>\n",
       "      <td>-1.0</td>\n",
       "      <td>unknown</td>\n",
       "      <td>0.01</td>\n",
       "    </tr>\n",
       "    <tr>\n",
       "      <td>16526</td>\n",
       "      <td>dungeons 2</td>\n",
       "      <td>ps4</td>\n",
       "      <td>2016</td>\n",
       "      <td>role-playing</td>\n",
       "      <td>0.01</td>\n",
       "      <td>0.00</td>\n",
       "      <td>0.00</td>\n",
       "      <td>0.00</td>\n",
       "      <td>61.0</td>\n",
       "      <td>7.9</td>\n",
       "      <td>T</td>\n",
       "      <td>0.01</td>\n",
       "    </tr>\n",
       "    <tr>\n",
       "      <td>16530</td>\n",
       "      <td>carmageddon: max damage</td>\n",
       "      <td>ps4</td>\n",
       "      <td>2016</td>\n",
       "      <td>action</td>\n",
       "      <td>0.01</td>\n",
       "      <td>0.00</td>\n",
       "      <td>0.00</td>\n",
       "      <td>0.00</td>\n",
       "      <td>51.0</td>\n",
       "      <td>5.5</td>\n",
       "      <td>M</td>\n",
       "      <td>0.01</td>\n",
       "    </tr>\n",
       "    <tr>\n",
       "      <td>16585</td>\n",
       "      <td>farming 2017 - the simulation</td>\n",
       "      <td>ps4</td>\n",
       "      <td>2016</td>\n",
       "      <td>simulation</td>\n",
       "      <td>0.00</td>\n",
       "      <td>0.01</td>\n",
       "      <td>0.00</td>\n",
       "      <td>0.00</td>\n",
       "      <td>-1.0</td>\n",
       "      <td>-1.0</td>\n",
       "      <td>unknown</td>\n",
       "      <td>0.01</td>\n",
       "    </tr>\n",
       "  </tbody>\n",
       "</table>\n",
       "<p>392 rows × 12 columns</p>\n",
       "</div>"
      ],
      "text/plain": [
       "                                 Name Platform  Year_of_Release         Genre  \\\n",
       "31          call of duty: black ops 3      ps4             2015       shooter   \n",
       "42                 grand theft auto v      ps4             2014        action   \n",
       "77                            fifa 16      ps4             2015        sports   \n",
       "87       star wars battlefront (2015)      ps4             2015       shooter   \n",
       "92     call of duty: advanced warfare      ps4             2014       shooter   \n",
       "...                               ...      ...              ...           ...   \n",
       "16500                     root letter      ps4             2016     adventure   \n",
       "16503               shin hayarigami 2      ps4             2016     adventure   \n",
       "16526                      dungeons 2      ps4             2016  role-playing   \n",
       "16530         carmageddon: max damage      ps4             2016        action   \n",
       "16585   farming 2017 - the simulation      ps4             2016    simulation   \n",
       "\n",
       "       NA_sales  EU_sales  JP_sales  Other_sales  Critic_Score  User_Score  \\\n",
       "31         6.03      5.86      0.36         2.38          -1.0        -1.0   \n",
       "42         3.96      6.31      0.38         1.97          97.0         8.3   \n",
       "77         1.12      6.12      0.06         1.28          82.0         4.3   \n",
       "87         2.99      3.49      0.22         1.28          -1.0        -1.0   \n",
       "92         2.81      3.48      0.14         1.23          83.0         5.7   \n",
       "...         ...       ...       ...          ...           ...         ...   \n",
       "16500      0.00      0.00      0.01         0.00          69.0         7.5   \n",
       "16503      0.00      0.00      0.01         0.00          -1.0        -1.0   \n",
       "16526      0.01      0.00      0.00         0.00          61.0         7.9   \n",
       "16530      0.01      0.00      0.00         0.00          51.0         5.5   \n",
       "16585      0.00      0.01      0.00         0.00          -1.0        -1.0   \n",
       "\n",
       "        Rating  total_sales  \n",
       "31     unknown        14.63  \n",
       "42           M        12.62  \n",
       "77           E         8.58  \n",
       "87     unknown         7.98  \n",
       "92           M         7.66  \n",
       "...        ...          ...  \n",
       "16500  unknown         0.01  \n",
       "16503  unknown         0.01  \n",
       "16526        T         0.01  \n",
       "16530        M         0.01  \n",
       "16585  unknown         0.01  \n",
       "\n",
       "[392 rows x 12 columns]"
      ]
     },
     "execution_count": 58,
     "metadata": {},
     "output_type": "execute_result"
    }
   ],
   "source": [
    "ps4 = games[games['Platform'] == 'ps4']\n",
    "ps4"
   ]
  },
  {
   "cell_type": "markdown",
   "metadata": {},
   "source": [
    "Построим диаграмму рассеяния (уберем из выборки значения -1):"
   ]
  },
  {
   "cell_type": "code",
   "execution_count": 59,
   "metadata": {},
   "outputs": [
    {
     "data": {
      "text/plain": [
       "Text(0.5, 1.0, 'Зависимость продаж от оценки критиков')"
      ]
     },
     "execution_count": 59,
     "metadata": {},
     "output_type": "execute_result"
    },
    {
     "data": {
      "image/png": "[encoded data removed]",
      "text/plain": [
       "<Figure size 432x288 with 1 Axes>"
      ]
     },
     "metadata": {
      "needs_background": "light"
     },
     "output_type": "display_data"
    }
   ],
   "source": [
    "ps4_critics_score = ps4.query('Critic_Score != -1')\n",
    "ps4_critics_score.plot(x='Critic_Score', y='total_sales', kind='scatter') \n",
    "plt.title('Зависимость продаж от оценки критиков')"
   ]
  },
  {
   "cell_type": "code",
   "execution_count": 60,
   "metadata": {},
   "outputs": [
    {
     "name": "stdout",
     "output_type": "stream",
     "text": [
      "0.40656790206178095\n"
     ]
    }
   ],
   "source": [
    "print(ps4_critics_score['Critic_Score'].corr(ps4_critics_score['total_sales']))"
   ]
  },
  {
   "cell_type": "markdown",
   "metadata": {},
   "source": [
    "По диаграмме рассеяния видно, что чем выше рейтинг критиков - тем чаще покупают игры. <br>\n",
    "Также интересно выделяется одна точка в верхнем правом углу - самая высокая оценка и рекордные продажи: Grand Theft Auto V. <br>\n",
    "Интересно было бы посмотреть на оценки Call of Duty: black ops 3 - в сумме было продано 14.63 млн копий этой игры. "
   ]
  },
  {
   "cell_type": "code",
   "execution_count": 61,
   "metadata": {},
   "outputs": [
    {
     "data": {
      "text/plain": [
       "Text(0.5, 1.0, 'Зависимость продаж от оценки пользователей')"
      ]
     },
     "execution_count": 61,
     "metadata": {},
     "output_type": "execute_result"
    },
    {
     "data": {
      "image/png": "[encoded data removed]",
      "text/plain": [
       "<Figure size 432x288 with 1 Axes>"
      ]
     },
     "metadata": {
      "needs_background": "light"
     },
     "output_type": "display_data"
    }
   ],
   "source": [
    "ps4_users_score = ps4.query('User_Score != -1')\n",
    "ps4_users_score.plot(x='User_Score', y='total_sales', kind='scatter') \n",
    "plt.title('Зависимость продаж от оценки пользователей')"
   ]
  },
  {
   "cell_type": "markdown",
   "metadata": {},
   "source": [
    "А вот тут зависимость не такая очевидная - да, с ростом оценок растут и продажи, но например, заметны хорошие продажи у игр со средней оценкой - 4-6."
   ]
  },
  {
   "cell_type": "code",
   "execution_count": 62,
   "metadata": {},
   "outputs": [
    {
     "name": "stdout",
     "output_type": "stream",
     "text": [
      "-0.031957110204556424\n"
     ]
    }
   ],
   "source": [
    "print(ps4_users_score['User_Score'].corr(ps4_users_score['total_sales']))"
   ]
  },
  {
   "cell_type": "markdown",
   "metadata": {},
   "source": [
    "Коэффициент корреляции близок к нулю - линейной зависимости между величинами нет."
   ]
  },
  {
   "cell_type": "markdown",
   "metadata": {},
   "source": [
    "Посмотрим популярность жанров:"
   ]
  },
  {
   "cell_type": "code",
   "execution_count": 63,
   "metadata": {},
   "outputs": [
    {
     "data": {
      "text/plain": [
       "Genre\n",
       "action          3222\n",
       "sports          2238\n",
       "misc            1701\n",
       "role-playing    1434\n",
       "adventure       1280\n",
       "shooter         1247\n",
       "racing          1203\n",
       "simulation       842\n",
       "platform         808\n",
       "fighting         792\n",
       "strategy         658\n",
       "puzzle           533\n",
       "Name: Name, dtype: int64"
      ]
     },
     "execution_count": 63,
     "metadata": {},
     "output_type": "execute_result"
    }
   ],
   "source": [
    "games.groupby('Genre')['Name'].count().sort_values(ascending = False)"
   ]
  },
  {
   "cell_type": "code",
   "execution_count": 64,
   "metadata": {},
   "outputs": [
    {
     "data": {
      "text/plain": [
       "Genre\n",
       "action          1645.07\n",
       "sports          1258.33\n",
       "shooter          967.94\n",
       "role-playing     888.47\n",
       "misc             773.67\n",
       "racing           692.41\n",
       "platform         611.83\n",
       "fighting         402.57\n",
       "simulation       379.12\n",
       "adventure        210.25\n",
       "strategy         166.88\n",
       "puzzle           158.37\n",
       "Name: total_sales, dtype: float64"
      ]
     },
     "execution_count": 64,
     "metadata": {},
     "output_type": "execute_result"
    }
   ],
   "source": [
    "games.groupby('Genre')['total_sales'].sum().sort_values(ascending = False)"
   ]
  },
  {
   "cell_type": "code",
   "execution_count": 65,
   "metadata": {},
   "outputs": [
    {
     "data": {
      "text/plain": [
       "<matplotlib.axes._subplots.AxesSubplot at 0x7fdad8024a50>"
      ]
     },
     "execution_count": 65,
     "metadata": {},
     "output_type": "execute_result"
    },
    {
     "data": {
      "image/png": "[encoded data removed]",
      "text/plain": [
       "<Figure size 432x288 with 1 Axes>"
      ]
     },
     "metadata": {},
     "output_type": "display_data"
    }
   ],
   "source": [
    "games.groupby('Genre')['total_sales'].sum().sort_values(ascending = False).plot(kind = 'pie')"
   ]
  },
  {
   "cell_type": "markdown",
   "metadata": {},
   "source": [
    "Самым популярным и прибыльным жанром является Action. На втором месте - Sports. <br>\n",
    "Жанр Misc, хоть и третий по популярности жанр, но по продажам он уступает жанрам Shooter и Role-playing.  <br>\n",
    " А вот меньше всего прибыли принесли игры в жанрах Strategy и Puzzle. (их и выпускают гораздо реже)"
   ]
  },
  {
   "cell_type": "markdown",
   "metadata": {},
   "source": [
    "### Вывод"
   ]
  },
  {
   "cell_type": "markdown",
   "metadata": {},
   "source": [
    "Проверили исследовательский анализ игр: <br>\n",
    "   -  В 2005 году игровая индустрия начала активно развиваться - количество выпускаемых игр начало увеличиваться, стали появляться новые платформы, выросла общее количество проданных копий. У пользователей появился выбор, что, скорее всего, и привело к росту продаж. \n",
    "   - Самыми популярными (и перспективными) игровыми платформами являются PS и XBox.\n",
    "   - По диаграмме рассения определили зависимость продаж от оценки критиков - чем выше оценка, тем больше проданных копий. \n",
    "   - А вот от оценки пользователей продажи зависят не так сильно. Видимо, к критикам прислушиваются чаще.\n",
    "   - Самым популярным и продаваемым жанром является Action. На последнем месте по популярности - Паззлы (есть предположения, что собирать паззлы вживую все-таки интереснее, поэтому их редко покупают в электронном формате). \n"
   ]
  },
  {
   "cell_type": "markdown",
   "metadata": {},
   "source": [
    "## Исследование данных по регионам"
   ]
  },
  {
   "cell_type": "markdown",
   "metadata": {},
   "source": [
    "Посмотрим популярные платформы и жанры в разных регионах:"
   ]
  },
  {
   "cell_type": "code",
   "execution_count": 66,
   "metadata": {},
   "outputs": [],
   "source": [
    "def popular (param, column):\n",
    "    return(games.groupby(param)[column].sum().sort_values(ascending = False).head() ,\n",
    "           games.groupby(param)[column].sum().sort_values(ascending = False).head().plot(kind = 'pie')\n",
    "                     )"
   ]
  },
  {
   "cell_type": "code",
   "execution_count": 67,
   "metadata": {},
   "outputs": [
    {
     "data": {
      "text/plain": [
       "(Platform\n",
       " x360    595.74\n",
       " ps2     572.92\n",
       " wii     486.87\n",
       " ps3     390.13\n",
       " ds      380.31\n",
       " Name: NA_sales, dtype: float64,\n",
       " <matplotlib.axes._subplots.AxesSubplot at 0x7fdacea94d90>)"
      ]
     },
     "execution_count": 67,
     "metadata": {},
     "output_type": "execute_result"
    },
    {
     "data": {
      "image/png": "[encoded data removed]",
      "text/plain": [
       "<Figure size 432x288 with 1 Axes>"
      ]
     },
     "metadata": {},
     "output_type": "display_data"
    }
   ],
   "source": [
    "popular('Platform', 'NA_sales')\n"
   ]
  },
  {
   "cell_type": "markdown",
   "metadata": {},
   "source": [
    "В Северной Америке в топе Xbox, PlayStation, Wii и DS."
   ]
  },
  {
   "cell_type": "code",
   "execution_count": 68,
   "metadata": {
    "scrolled": true
   },
   "outputs": [
    {
     "data": {
      "text/plain": [
       "(Platform\n",
       " ps2     332.63\n",
       " ps3     327.21\n",
       " x360    268.32\n",
       " wii     258.32\n",
       " ps      211.19\n",
       " Name: EU_sales, dtype: float64,\n",
       " <matplotlib.axes._subplots.AxesSubplot at 0x7fdacecfa110>)"
      ]
     },
     "execution_count": 68,
     "metadata": {},
     "output_type": "execute_result"
    },
    {
     "data": {
      "image/png": "[encoded data removed]",
      "text/plain": [
       "<Figure size 432x288 with 1 Axes>"
      ]
     },
     "metadata": {},
     "output_type": "display_data"
    }
   ],
   "source": [
    "popular('Platform', 'EU_sales')"
   ]
  },
  {
   "cell_type": "markdown",
   "metadata": {},
   "source": [
    "В Европе ситуация похожая - в топе PS, X360 и Wii."
   ]
  },
  {
   "cell_type": "code",
   "execution_count": 69,
   "metadata": {},
   "outputs": [
    {
     "data": {
      "text/plain": [
       "(Platform\n",
       " ds     175.00\n",
       " ps2    137.54\n",
       " ps     137.11\n",
       " 3ds    100.62\n",
       " ps3     79.41\n",
       " Name: JP_sales, dtype: float64,\n",
       " <matplotlib.axes._subplots.AxesSubplot at 0x7fdacea17510>)"
      ]
     },
     "execution_count": 69,
     "metadata": {},
     "output_type": "execute_result"
    },
    {
     "data": {
      "image/png": "[encoded data removed]",
      "text/plain": [
       "<Figure size 432x288 with 1 Axes>"
      ]
     },
     "metadata": {},
     "output_type": "display_data"
    }
   ],
   "source": [
    "popular('Platform', 'JP_sales')"
   ]
  },
  {
   "cell_type": "markdown",
   "metadata": {},
   "source": [
    "Интересно, что в Японии на первом месте по популярности - DS. Но PS также в топ-5. "
   ]
  },
  {
   "cell_type": "code",
   "execution_count": 70,
   "metadata": {},
   "outputs": [
    {
     "data": {
      "text/plain": [
       "(Platform\n",
       " ps2     190.47\n",
       " ps3     134.59\n",
       " x360     84.88\n",
       " wii      77.71\n",
       " ds       59.04\n",
       " Name: Other_sales, dtype: float64,\n",
       " <matplotlib.axes._subplots.AxesSubplot at 0x7fdb5b6a8e10>)"
      ]
     },
     "execution_count": 70,
     "metadata": {},
     "output_type": "execute_result"
    },
    {
     "data": {
      "image/png": "[encoded data removed]",
      "text/plain": [
       "<Figure size 432x288 with 1 Axes>"
      ]
     },
     "metadata": {},
     "output_type": "display_data"
    }
   ],
   "source": [
    "popular('Platform', 'Other_sales')"
   ]
  },
  {
   "cell_type": "markdown",
   "metadata": {},
   "source": [
    "Среди популярных платформ - PS, X360, Wii и DS."
   ]
  },
  {
   "cell_type": "markdown",
   "metadata": {},
   "source": [
    "Посмотрим популярные жанры:"
   ]
  },
  {
   "cell_type": "code",
   "execution_count": 71,
   "metadata": {},
   "outputs": [
    {
     "data": {
      "text/plain": [
       "(Genre\n",
       " action     814.11\n",
       " sports     655.07\n",
       " shooter    527.59\n",
       " misc       392.43\n",
       " racing     342.82\n",
       " Name: NA_sales, dtype: float64,\n",
       " <matplotlib.axes._subplots.AxesSubplot at 0x7fdacec1f350>)"
      ]
     },
     "execution_count": 71,
     "metadata": {},
     "output_type": "execute_result"
    },
    {
     "data": {
      "image/png": "[encoded data removed]",
      "text/plain": [
       "<Figure size 432x288 with 1 Axes>"
      ]
     },
     "metadata": {},
     "output_type": "display_data"
    }
   ],
   "source": [
    "popular('Genre', 'NA_sales')"
   ]
  },
  {
   "cell_type": "code",
   "execution_count": 72,
   "metadata": {},
   "outputs": [
    {
     "data": {
      "text/plain": [
       "(Genre\n",
       " action     814.11\n",
       " sports     655.07\n",
       " shooter    527.59\n",
       " misc       392.43\n",
       " racing     342.82\n",
       " Name: NA_sales, dtype: float64,\n",
       " <matplotlib.axes._subplots.AxesSubplot at 0x7fdace9d3390>)"
      ]
     },
     "execution_count": 72,
     "metadata": {},
     "output_type": "execute_result"
    },
    {
     "data": {
      "image/png": "[encoded data removed]",
      "text/plain": [
       "<Figure size 432x288 with 1 Axes>"
      ]
     },
     "metadata": {},
     "output_type": "display_data"
    }
   ],
   "source": [
    "popular('Genre', 'NA_sales')"
   ]
  },
  {
   "cell_type": "markdown",
   "metadata": {},
   "source": [
    "В Северной Америке самым популярным жанром является Action. Дальше идут sports, shooter, misc и замыкает пятерку жанр racing."
   ]
  },
  {
   "cell_type": "code",
   "execution_count": 73,
   "metadata": {},
   "outputs": [
    {
     "data": {
      "text/plain": [
       "(Genre\n",
       " action     503.35\n",
       " sports     367.35\n",
       " shooter    308.23\n",
       " racing     230.32\n",
       " misc       208.88\n",
       " Name: EU_sales, dtype: float64,\n",
       " <matplotlib.axes._subplots.AxesSubplot at 0x7fdacec89710>)"
      ]
     },
     "execution_count": 73,
     "metadata": {},
     "output_type": "execute_result"
    },
    {
     "data": {
      "image/png": "[encoded data removed]",
      "text/plain": [
       "<Figure size 432x288 with 1 Axes>"
      ]
     },
     "metadata": {},
     "output_type": "display_data"
    }
   ],
   "source": [
    "popular('Genre', 'EU_sales')"
   ]
  },
  {
   "cell_type": "markdown",
   "metadata": {},
   "source": [
    "В Европе распределение похожее: на первом месте - action, на втором - sports. 3 и 4 место делят shooter и racing, а вот на 5 - misc."
   ]
  },
  {
   "cell_type": "code",
   "execution_count": 74,
   "metadata": {},
   "outputs": [
    {
     "data": {
      "text/plain": [
       "(Genre\n",
       " role-playing    315.17\n",
       " action          146.46\n",
       " sports          104.31\n",
       " misc             99.51\n",
       " platform         77.05\n",
       " Name: JP_sales, dtype: float64,\n",
       " <matplotlib.axes._subplots.AxesSubplot at 0x7fdacecb6a90>)"
      ]
     },
     "execution_count": 74,
     "metadata": {},
     "output_type": "execute_result"
    },
    {
     "data": {
      "image/png": "[encoded data removed]",
      "text/plain": [
       "<Figure size 432x288 with 1 Axes>"
      ]
     },
     "metadata": {},
     "output_type": "display_data"
    }
   ],
   "source": [
    "popular('Genre', 'JP_sales')"
   ]
  },
  {
   "cell_type": "markdown",
   "metadata": {},
   "source": [
    "А вот в Японии на первом месте - role-playing жанр. С сильным отставанием от первого места идут action, sports, misc и platform. "
   ]
  },
  {
   "cell_type": "markdown",
   "metadata": {},
   "source": [
    "Влияет ли рейтинг ESRB на продажи в отдельном регионе?\n"
   ]
  },
  {
   "cell_type": "markdown",
   "metadata": {},
   "source": [
    "Для начала избавимся от строк с Unknown в Рейтинге:"
   ]
  },
  {
   "cell_type": "code",
   "execution_count": 75,
   "metadata": {},
   "outputs": [],
   "source": [
    "ratings = games[games['Rating'] != 'unknown']"
   ]
  },
  {
   "cell_type": "code",
   "execution_count": 76,
   "metadata": {},
   "outputs": [],
   "source": [
    "def popular_rating (param, column):\n",
    "    return(ratings.groupby(param)[column].sum().sort_values(ascending = False).head(),\n",
    "          ratings.groupby(param)[column].sum().sort_values(ascending = False).plot(x = param, y = column, kind = 'bar'),\n",
    "          plt.ylabel(column))"
   ]
  },
  {
   "cell_type": "code",
   "execution_count": 77,
   "metadata": {},
   "outputs": [
    {
     "data": {
      "text/plain": [
       "(Rating\n",
       " E       1274.24\n",
       " T        747.19\n",
       " M        742.87\n",
       " E10+     345.50\n",
       " K-A        2.56\n",
       " Name: NA_sales, dtype: float64,\n",
       " <matplotlib.axes._subplots.AxesSubplot at 0x7fdace930f90>,\n",
       " Text(0, 0.5, 'NA_sales'))"
      ]
     },
     "execution_count": 77,
     "metadata": {},
     "output_type": "execute_result"
    },
    {
     "data": {
      "image/png": "[encoded data removed]",
      "text/plain": [
       "<Figure size 432x288 with 1 Axes>"
      ]
     },
     "metadata": {
      "needs_background": "light"
     },
     "output_type": "display_data"
    }
   ],
   "source": [
    "popular_rating('Rating', 'NA_sales')"
   ]
  },
  {
   "cell_type": "markdown",
   "metadata": {},
   "source": [
    "В явных фаворитах - игры категории Е (для всех), что неудивительно, конечно. Практически наравне идут категории Т и М. "
   ]
  },
  {
   "cell_type": "markdown",
   "metadata": {},
   "source": [
    "Больше всего прибыли приносят игры рейтинга Е -(«Everyone 10 and older») — \"Для всех от 10 лет и старше\". На втором месте  - T (игры для подростков)."
   ]
  },
  {
   "cell_type": "code",
   "execution_count": 78,
   "metadata": {},
   "outputs": [
    {
     "data": {
      "text/plain": [
       "(Rating\n",
       " E       703.87\n",
       " M       480.00\n",
       " T       420.73\n",
       " E10+    183.33\n",
       " AO        0.61\n",
       " Name: EU_sales, dtype: float64,\n",
       " <matplotlib.axes._subplots.AxesSubplot at 0x7fdace912e10>,\n",
       " Text(0, 0.5, 'EU_sales'))"
      ]
     },
     "execution_count": 78,
     "metadata": {},
     "output_type": "execute_result"
    },
    {
     "data": {
      "image/png": "[encoded data removed]",
      "text/plain": [
       "<Figure size 432x288 with 1 Axes>"
      ]
     },
     "metadata": {
      "needs_background": "light"
     },
     "output_type": "display_data"
    }
   ],
   "source": [
    "popular_rating('Rating', 'EU_sales')"
   ]
  },
  {
   "cell_type": "markdown",
   "metadata": {},
   "source": [
    "Тут то же самое - на первом месте игры \"Для всех от 10 лет\", а вот второе место уже принадлежит играм с рейтингом М - «Для взрослых»), на третьем - T (игры для подростков)."
   ]
  },
  {
   "cell_type": "code",
   "execution_count": 79,
   "metadata": {},
   "outputs": [
    {
     "data": {
      "text/plain": [
       "(Rating\n",
       " E       197.96\n",
       " T       150.17\n",
       " M        63.58\n",
       " E10+     40.20\n",
       " K-A       1.46\n",
       " Name: JP_sales, dtype: float64,\n",
       " <matplotlib.axes._subplots.AxesSubplot at 0x7fdace83b910>,\n",
       " Text(0, 0.5, 'JP_sales'))"
      ]
     },
     "execution_count": 79,
     "metadata": {},
     "output_type": "execute_result"
    },
    {
     "data": {
      "image/png": "[encoded data removed]",
      "text/plain": [
       "<Figure size 432x288 with 1 Axes>"
      ]
     },
     "metadata": {
      "needs_background": "light"
     },
     "output_type": "display_data"
    }
   ],
   "source": [
    "popular_rating('Rating', 'JP_sales')"
   ]
  },
  {
   "cell_type": "markdown",
   "metadata": {},
   "source": [
    "### Вывод"
   ]
  },
  {
   "cell_type": "markdown",
   "metadata": {},
   "source": [
    "В целом популярные жанры в регионах мало чем отличаются - экшены на первом месте, остальные места в топ-5 делят гонки, спортивные игры, шутеры и файтинги. На фоне этого сильно отличаются интересы Японии: там на первом месте игры жанра role-playing.  <br>\n",
    "Популярность платформ в регионах тоже схожа - в топе разные версии PS, X360. А вот в Японии с сильным отрывом идет DS. <br>\n",
    "Самой популярной категорией игр является категория Е, также часто покупают игры с рейтингом T, М и чуть реже- Е10+. В целом ситуация по регионам мало чем отлиается. Очень редко покупают игры с рейтингом К-А, RP, EC и AO.\n",
    "\n"
   ]
  },
  {
   "cell_type": "markdown",
   "metadata": {},
   "source": [
    "## Проверка гипотез"
   ]
  },
  {
   "cell_type": "markdown",
   "metadata": {},
   "source": [
    "Проверим две гипотезы:"
   ]
  },
  {
   "cell_type": "markdown",
   "metadata": {},
   "source": [
    "1. Средние пользовательские рейтинги платформ Xbox One и PC одинаковые;\n",
    "2. Средние пользовательские рейтинги жанров Action (англ. «действие», экшен-игры) и Sports (англ. «спортивные соревнования») разные.\n"
   ]
  },
  {
   "cell_type": "markdown",
   "metadata": {},
   "source": [
    "### Средние пользовательские рейтинги платформ Xbox One и PC одинаковые"
   ]
  },
  {
   "cell_type": "markdown",
   "metadata": {},
   "source": [
    "Сформируем гипотезы:\n",
    "\n",
    "- Нулевая гипотеза H₀: Средние пользовательские рейтинги платформ Xbox One и PC одинаковые;\n",
    "\n",
    "- Альтернативная гипотеза H₁: Средние пользовательские рейтинги платформ Xbox One и PC различаются\n",
    "\n",
    "Уровень значимости - 0.05\n"
   ]
  },
  {
   "cell_type": "code",
   "execution_count": 80,
   "metadata": {},
   "outputs": [],
   "source": [
    "xbox = games[(games['User_Score'] != -1) & (games['Platform'] == 'xone')].User_Score\n",
    "pc = games[(games['User_Score'] != -1) & (games['Platform'] == 'pc')].User_Score\n",
    " \n"
   ]
  },
  {
   "cell_type": "code",
   "execution_count": 81,
   "metadata": {},
   "outputs": [
    {
     "name": "stdout",
     "output_type": "stream",
     "text": [
      "Дисперсия оценок пользователей Xbox: 1.9069968429360695\n",
      "Дисперсия оценок пользователей PC: 2.3231900019831713\n"
     ]
    }
   ],
   "source": [
    "print('Дисперсия оценок пользователей Xbox:', xbox.var(ddof=1))\n",
    "print('Дисперсия оценок пользователей PC:', pc.var(ddof=1))"
   ]
  },
  {
   "cell_type": "markdown",
   "metadata": {},
   "source": [
    "Проверим гипотезы методом (определение уровня значимости критерия Стьюдента) ttest_ind, т.к. дисперсии для выборок различаются, используем аргумент equal_var=False: "
   ]
  },
  {
   "cell_type": "code",
   "execution_count": 82,
   "metadata": {},
   "outputs": [
    {
     "name": "stdout",
     "output_type": "stream",
     "text": [
      "p-значение: 3.442937492775816e-06\n",
      "Отвергаем нулевую гипотезу\n"
     ]
    }
   ],
   "source": [
    "alpha = .05\n",
    "\n",
    "results = st.ttest_ind(xbox, pc, equal_var = False)\n",
    "\n",
    "print('p-значение:', results.pvalue)\n",
    "\n",
    "\n",
    "if (results.pvalue < alpha):\n",
    "    print(\"Отвергаем нулевую гипотезу\")\n",
    "else:\n",
    "    print(\"Не получилось отвергнуть нулевую гипотезу\")"
   ]
  },
  {
   "cell_type": "code",
   "execution_count": 83,
   "metadata": {
    "scrolled": true
   },
   "outputs": [
    {
     "name": "stdout",
     "output_type": "stream",
     "text": [
      "Средняя оценка игр платформы Xbox One 6.52\n",
      "Средняя оценка игр платформы PC 7.07\n"
     ]
    }
   ],
   "source": [
    "print('Средняя оценка игр платформы Xbox One', round(xbox.mean(), 2))\n",
    "print('Средняя оценка игр платформы PC', round(pc.mean(), 2))"
   ]
  },
  {
   "cell_type": "markdown",
   "metadata": {},
   "source": [
    "Различия в средних оценках действительно есть."
   ]
  },
  {
   "cell_type": "markdown",
   "metadata": {},
   "source": [
    "### Средние пользовательские рейтинги жанров Action (англ. «действие», экшен-игры) и Sports (англ. «спортивные соревнования») разные.\n"
   ]
  },
  {
   "cell_type": "markdown",
   "metadata": {},
   "source": [
    "Сформируем гипотезы:\n",
    "\n",
    "- Нулевая гипотеза H₀: Средние пользовательские рейтинги жанров Action и Sports одинаковые;\n",
    "\n",
    "- Альтернативная гипотеза H₁: Средние пользовательские рейтинги жанров Action и Sports различаются\n",
    "\n",
    "Уровень значимости - 0.05\n"
   ]
  },
  {
   "cell_type": "code",
   "execution_count": 84,
   "metadata": {},
   "outputs": [],
   "source": [
    "actions = games[(games['User_Score'] != -1) & (games['Genre'] == 'action')].User_Score\n",
    "sports = games[(games['User_Score'] != -1) & (games['Genre'] == 'sports')].User_Score\n"
   ]
  },
  {
   "cell_type": "code",
   "execution_count": 85,
   "metadata": {},
   "outputs": [
    {
     "name": "stdout",
     "output_type": "stream",
     "text": [
      "Дисперсия оценок пользователей выборки Action: 2.027493768262496\n",
      "Дисперсия оценок пользователей выборки Sports: 2.623055812519272\n"
     ]
    }
   ],
   "source": [
    "print('Дисперсия оценок пользователей выборки Action:', actions.var(ddof=1))\n",
    "print('Дисперсия оценок пользователей выборки Sports:', sports.var(ddof=1))"
   ]
  },
  {
   "cell_type": "markdown",
   "metadata": {},
   "source": [
    "Проверим гипотезы методом (определение уровня значимости критерия Стьюдента) ttest_ind, т.к. дисперсии для выборок различаются, используем аргумент equal_var=False:"
   ]
  },
  {
   "cell_type": "code",
   "execution_count": 86,
   "metadata": {},
   "outputs": [
    {
     "name": "stdout",
     "output_type": "stream",
     "text": [
      "p-значение: 0.07370217419278534\n",
      "Не получилось отвергнуть нулевую гипотезу\n"
     ]
    }
   ],
   "source": [
    "alpha = .05\n",
    "\n",
    "results = st.ttest_ind(actions, sports, equal_var = False)\n",
    "\n",
    "print('p-значение:', results.pvalue)\n",
    "\n",
    "\n",
    "if (results.pvalue < alpha):\n",
    "    print(\"Отвергаем нулевую гипотезу\")\n",
    "else:\n",
    "    print(\"Не получилось отвергнуть нулевую гипотезу\")"
   ]
  },
  {
   "cell_type": "code",
   "execution_count": 87,
   "metadata": {},
   "outputs": [
    {
     "name": "stdout",
     "output_type": "stream",
     "text": [
      "Средняя оценка игр жанра Action 7.06\n",
      "Средняя оценка игр жанра Sports 6.95\n"
     ]
    }
   ],
   "source": [
    "print('Средняя оценка игр жанра Action', round(actions.mean(),2))\n",
    "print('Средняя оценка игр жанра Sports', round(sports.mean(), 2))"
   ]
  },
  {
   "cell_type": "markdown",
   "metadata": {},
   "source": [
    "Средние оценки действительно практически не различаются. "
   ]
  },
  {
   "cell_type": "markdown",
   "metadata": {},
   "source": [
    "### Вывод"
   ]
  },
  {
   "cell_type": "markdown",
   "metadata": {},
   "source": [
    "Проверили две гипотезы методом t-test и сделали следующие выводы: <br>\n",
    "       1. Средние пользовательские рейтинги платформ Xbox One и PC различаются <br>\n",
    "       2. Средние пользовательские рейтинги жанров Action (англ. «действие», экшен-игры) и Sports (англ. «спортивные соревнования») практически не различаются."
   ]
  },
  {
   "cell_type": "markdown",
   "metadata": {},
   "source": [
    "## Общий вывод"
   ]
  },
  {
   "cell_type": "markdown",
   "metadata": {},
   "source": [
    "1. Провели анализ данных и сделали следующие выводы:<br>\n",
    "- Самой популярной игрой, копии которой продали в количестве 41 млн, является Wii Sports (в топе по продажам в Северной Америке (41 млн копий) и в Европе (28 млн). В Японии предпочли играть в Pokemon Red/Blue (было продано 10 млн копий этой игры), в других странах чаще покупали ГТА. <br>\n",
    "- ГТА также высоко оценили критики - она получила рекордные 98 баллов. 98 баллов также получили Tony Hawk's Pro Skater 2 и SoulCalibur. \n",
    "- Самый низкий рейтинг критиков получила игра Ride to Hell.<br>\n",
    "- Пользователи же высоко оценили  Breath of fire III, а самые низкие оценки были поставлены играм My little pony: pinkie pie's party и Myth makers: trixie in toyland и madden nfl 17.<br>\n",
    "- Самым популярным жанром является Action, а самым популярным рейтингом - рейтинг E ((«Everyone») — «Для всех»). \n",
    "2. Провели исследовательский анализ данных: <br>\n",
    "   -  В 2005 году игровая индустрия начала активно развиваться - количество выпускаемых игр начало увеличиваться, стали появляться новые платформы, выросла общее количество проданных копий. У пользователей появился выбор, что, скорее всего, и привело к росту продаж. \n",
    "   - Самыми популярными (и перспективными) игровыми платформами являются PS и XBox.\n",
    "   - По диаграмме рассения определили зависимость продаж от оценки критиков - чем выше оценка, тем больше проданных копий. \n",
    "   - А вот от оценки пользователей продажи зависят не так сильно. Видимо, к критикам прислушиваются чаще.\n",
    "   - Самым популярным и продаваемым жанром является Action. На последнем месте по популярности - Паззлы (есть предположение, что собирать паззлы вживую все-таки интереснее, поэтому их редко покупают в электронном формате).\n",
    "   \n",
    "3. Исследовали популярность жанров и игровых платформ в разных регионах:\n",
    "    - В целом популярные жанры в регионах мало чем отличаются - экшены на первом месте, остальные места в топ-5 делят гонки, спортивные игры, шутеры и файтинги. На фоне этого сильно отличаются интересы Японии: там на первом месте игры жанра role-playing.  <br>\n",
    "    -Популярность платформ в регионах тоже схожа - в топе разные версии PS, X360. А вот в Японии с сильным отрывом идет DS. <br>\n",
    "    - Самой популярной категорией игр является категория Е, также часто покупают игры с рейтингом T, М и чуть реже- Е10+. В целом ситуация по регионам мало чем отлиается. Очень редко покупают игры с рейтингом К-А, RP, EC и AO.\n",
    "\n",
    "4. Проверили две гипотезы методом t-test и сделали следующие выводы: <br>\n",
    "       - Средние пользовательские рейтинги платформ Xbox One и PC различаются \n",
    "       - Средние пользовательские рейтинги жанров Action (англ. «действие», экшен-игры) и Sports (англ. «спортивные соревнования») практически не различаются.\n",
    "       \n",
    "      \n",
    "### На основании проделанной работы и всего вышеперечисленного:\n",
    "Потенциально перспективный и популярный продукт выглядит так:\n",
    "- Платформа: PS4 -самая новая версия PlayStation, которая на протяжении почти 20 лет с самой первой PS была в топе по количеству выпускаемых игр и по продажам, или XBox.\n",
    "- Жанр: Action (является самым популярным и продаваемым жанром во всех регионах, кроме Японии)\n",
    "- Возрастная категория: E (в топе во всех регионах)\n",
    "- Следует также присмотреться к оценкам критиков - их оценки, в отличие от оценок пользователей, оказывают влияние на продажи.\n",
    "\n"
   ]
  }
 ],
 "metadata": {
  "ExecuteTimeLog": [
   {
    "duration": 4,
    "start_time": "2021-08-11T20:06:42.408Z"
   },
   {
    "duration": 3,
    "start_time": "2021-08-11T20:11:04.929Z"
   },
   {
    "duration": 1478,
    "start_time": "2021-08-11T20:11:16.040Z"
   },
   {
    "duration": 42,
    "start_time": "2021-08-11T20:11:44.065Z"
   },
   {
    "duration": 62,
    "start_time": "2021-08-11T20:11:50.580Z"
   },
   {
    "duration": 15,
    "start_time": "2021-08-11T20:16:07.910Z"
   },
   {
    "duration": 18,
    "start_time": "2021-08-11T20:19:49.548Z"
   },
   {
    "duration": 7,
    "start_time": "2021-08-11T20:20:00.909Z"
   },
   {
    "duration": 451,
    "start_time": "2021-08-11T20:20:04.651Z"
   },
   {
    "duration": 17,
    "start_time": "2021-08-11T20:20:16.662Z"
   },
   {
    "duration": 11,
    "start_time": "2021-08-11T20:24:58.061Z"
   },
   {
    "duration": 111,
    "start_time": "2021-08-11T20:28:13.936Z"
   },
   {
    "duration": 12,
    "start_time": "2021-08-11T20:28:32.376Z"
   },
   {
    "duration": 10,
    "start_time": "2021-08-11T20:28:42.675Z"
   },
   {
    "duration": 11,
    "start_time": "2021-08-11T20:28:52.385Z"
   },
   {
    "duration": 333,
    "start_time": "2021-08-11T20:29:06.526Z"
   },
   {
    "duration": 120,
    "start_time": "2021-08-11T20:29:22.190Z"
   },
   {
    "duration": 132,
    "start_time": "2021-08-11T20:29:24.946Z"
   },
   {
    "duration": 125,
    "start_time": "2021-08-11T20:29:31.498Z"
   },
   {
    "duration": 6,
    "start_time": "2021-08-11T20:29:39.358Z"
   },
   {
    "duration": 5,
    "start_time": "2021-08-11T20:29:47.869Z"
   },
   {
    "duration": 8,
    "start_time": "2021-08-11T20:30:59.921Z"
   },
   {
    "duration": 618,
    "start_time": "2021-08-11T20:31:22.665Z"
   },
   {
    "duration": 353,
    "start_time": "2021-08-11T20:32:49.964Z"
   },
   {
    "duration": 23,
    "start_time": "2021-08-11T20:32:57.231Z"
   },
   {
    "duration": 12,
    "start_time": "2021-08-11T20:33:21.695Z"
   },
   {
    "duration": 13,
    "start_time": "2021-08-11T20:36:03.211Z"
   },
   {
    "duration": 169,
    "start_time": "2021-08-11T20:37:58.115Z"
   },
   {
    "duration": 12,
    "start_time": "2021-08-11T20:40:14.894Z"
   },
   {
    "duration": 11,
    "start_time": "2021-08-11T20:40:31.769Z"
   },
   {
    "duration": 11,
    "start_time": "2021-08-11T20:41:48.902Z"
   },
   {
    "duration": 393,
    "start_time": "2021-08-11T20:42:07.875Z"
   },
   {
    "duration": 12,
    "start_time": "2021-08-11T20:42:12.416Z"
   },
   {
    "duration": 12,
    "start_time": "2021-08-11T20:43:08.066Z"
   },
   {
    "duration": 15,
    "start_time": "2021-08-11T20:44:06.234Z"
   },
   {
    "duration": 11,
    "start_time": "2021-08-11T20:44:12.642Z"
   },
   {
    "duration": 109,
    "start_time": "2021-08-11T20:47:05.013Z"
   },
   {
    "duration": 13,
    "start_time": "2021-08-11T20:47:46.495Z"
   },
   {
    "duration": 12,
    "start_time": "2021-08-11T20:48:26.589Z"
   },
   {
    "duration": 8,
    "start_time": "2021-08-11T20:49:25.042Z"
   },
   {
    "duration": 9,
    "start_time": "2021-08-11T20:49:44.801Z"
   },
   {
    "duration": 8,
    "start_time": "2021-08-11T20:49:47.110Z"
   },
   {
    "duration": 8,
    "start_time": "2021-08-11T20:50:20.133Z"
   },
   {
    "duration": 8,
    "start_time": "2021-08-11T20:51:37.342Z"
   },
   {
    "duration": 10,
    "start_time": "2021-08-11T20:51:44.035Z"
   },
   {
    "duration": 8,
    "start_time": "2021-08-11T20:52:15.332Z"
   },
   {
    "duration": 9,
    "start_time": "2021-08-11T20:53:43.441Z"
   },
   {
    "duration": 11,
    "start_time": "2021-08-11T20:54:29.059Z"
   },
   {
    "duration": 9,
    "start_time": "2021-08-11T20:54:42.280Z"
   },
   {
    "duration": 11,
    "start_time": "2021-08-11T20:55:45.332Z"
   },
   {
    "duration": 10,
    "start_time": "2021-08-11T20:58:32.095Z"
   },
   {
    "duration": 9,
    "start_time": "2021-08-11T20:58:39.335Z"
   },
   {
    "duration": 10,
    "start_time": "2021-08-11T20:58:48.686Z"
   },
   {
    "duration": 8041,
    "start_time": "2021-08-11T20:59:14.655Z"
   },
   {
    "duration": 14,
    "start_time": "2021-08-11T20:59:26.557Z"
   },
   {
    "duration": 13,
    "start_time": "2021-08-11T21:01:14.427Z"
   },
   {
    "duration": 126,
    "start_time": "2021-08-11T21:03:16.969Z"
   },
   {
    "duration": 15,
    "start_time": "2021-08-11T21:03:59.592Z"
   },
   {
    "duration": 122,
    "start_time": "2021-08-11T21:06:02.745Z"
   },
   {
    "duration": 13,
    "start_time": "2021-08-11T21:06:25.516Z"
   },
   {
    "duration": 215,
    "start_time": "2021-08-11T21:08:39.522Z"
   },
   {
    "duration": 23,
    "start_time": "2021-08-11T21:08:44.167Z"
   },
   {
    "duration": 12,
    "start_time": "2021-08-11T21:08:57.444Z"
   },
   {
    "duration": 12,
    "start_time": "2021-08-11T21:09:11.990Z"
   },
   {
    "duration": 1509,
    "start_time": "2021-08-15T17:44:06.406Z"
   },
   {
    "duration": 68,
    "start_time": "2021-08-15T17:44:08.941Z"
   },
   {
    "duration": 8,
    "start_time": "2021-08-15T17:48:37.592Z"
   },
   {
    "duration": 7,
    "start_time": "2021-08-15T17:49:00.347Z"
   },
   {
    "duration": 5,
    "start_time": "2021-08-15T17:49:11.859Z"
   },
   {
    "duration": 7,
    "start_time": "2021-08-15T17:49:14.109Z"
   },
   {
    "duration": 65,
    "start_time": "2021-08-15T17:49:30.838Z"
   },
   {
    "duration": 445,
    "start_time": "2021-08-15T17:49:59.844Z"
   },
   {
    "duration": 22,
    "start_time": "2021-08-15T17:50:07.237Z"
   },
   {
    "duration": 7,
    "start_time": "2021-08-15T17:50:10.199Z"
   },
   {
    "duration": 8,
    "start_time": "2021-08-15T17:50:25.507Z"
   },
   {
    "duration": 20,
    "start_time": "2021-08-15T17:50:43.518Z"
   },
   {
    "duration": 94,
    "start_time": "2021-08-15T17:52:55.878Z"
   },
   {
    "duration": 8,
    "start_time": "2021-08-15T17:53:57.048Z"
   },
   {
    "duration": 29,
    "start_time": "2021-08-15T17:54:01.709Z"
   },
   {
    "duration": 20,
    "start_time": "2021-08-15T17:55:49.328Z"
   },
   {
    "duration": 11,
    "start_time": "2021-08-15T17:58:28.470Z"
   },
   {
    "duration": 6,
    "start_time": "2021-08-15T17:59:27.548Z"
   },
   {
    "duration": 299,
    "start_time": "2021-08-15T18:05:40.148Z"
   },
   {
    "duration": 9,
    "start_time": "2021-08-15T18:06:22.868Z"
   },
   {
    "duration": 31,
    "start_time": "2021-08-15T18:06:29.788Z"
   },
   {
    "duration": 6,
    "start_time": "2021-08-15T18:13:08.776Z"
   },
   {
    "duration": 9,
    "start_time": "2021-08-15T18:15:48.517Z"
   },
   {
    "duration": 6,
    "start_time": "2021-08-15T18:15:58.788Z"
   },
   {
    "duration": 12,
    "start_time": "2021-08-15T18:16:20.766Z"
   },
   {
    "duration": 13,
    "start_time": "2021-08-15T18:16:39.058Z"
   },
   {
    "duration": 6,
    "start_time": "2021-08-15T18:16:49.376Z"
   },
   {
    "duration": 6,
    "start_time": "2021-08-15T18:17:20.769Z"
   },
   {
    "duration": 11,
    "start_time": "2021-08-15T18:17:22.715Z"
   },
   {
    "duration": 16,
    "start_time": "2021-08-15T18:18:03.470Z"
   },
   {
    "duration": 8,
    "start_time": "2021-08-15T18:18:20.716Z"
   },
   {
    "duration": 12,
    "start_time": "2021-08-15T18:19:32.718Z"
   },
   {
    "duration": 12,
    "start_time": "2021-08-15T18:23:19.078Z"
   },
   {
    "duration": 8,
    "start_time": "2021-08-15T18:23:53.149Z"
   },
   {
    "duration": 21,
    "start_time": "2021-08-15T18:24:40.790Z"
   },
   {
    "duration": 87,
    "start_time": "2021-08-15T18:29:55.340Z"
   },
   {
    "duration": 28,
    "start_time": "2021-08-15T18:31:04.460Z"
   },
   {
    "duration": 28,
    "start_time": "2021-08-15T18:45:40.570Z"
   },
   {
    "duration": 5,
    "start_time": "2021-08-15T18:46:43.358Z"
   },
   {
    "duration": 282,
    "start_time": "2021-08-15T18:46:58.709Z"
   },
   {
    "duration": 5,
    "start_time": "2021-08-15T18:47:08.208Z"
   },
   {
    "duration": 98,
    "start_time": "2021-08-15T19:07:23.547Z"
   },
   {
    "duration": 88,
    "start_time": "2021-08-15T19:08:06.928Z"
   },
   {
    "duration": 14,
    "start_time": "2021-08-15T19:13:14.468Z"
   },
   {
    "duration": 22,
    "start_time": "2021-08-15T19:13:28.628Z"
   },
   {
    "duration": 8,
    "start_time": "2021-08-15T19:13:45.207Z"
   },
   {
    "duration": 13945,
    "start_time": "2021-08-15T19:16:23.998Z"
   },
   {
    "duration": 13620,
    "start_time": "2021-08-15T19:16:47.636Z"
   },
   {
    "duration": 1294,
    "start_time": "2021-08-15T19:17:18.298Z"
   },
   {
    "duration": 21,
    "start_time": "2021-08-15T19:18:27.347Z"
   },
   {
    "duration": 19,
    "start_time": "2021-08-15T19:18:40.749Z"
   },
   {
    "duration": 386,
    "start_time": "2021-08-15T19:18:53.099Z"
   },
   {
    "duration": 309,
    "start_time": "2021-08-15T19:19:01.747Z"
   },
   {
    "duration": 7,
    "start_time": "2021-08-15T19:36:18.310Z"
   },
   {
    "duration": 18,
    "start_time": "2021-08-15T19:36:26.386Z"
   },
   {
    "duration": 27,
    "start_time": "2021-08-15T19:36:42.746Z"
   },
   {
    "duration": 18,
    "start_time": "2021-08-15T19:37:00.186Z"
   },
   {
    "duration": 291,
    "start_time": "2021-08-15T19:44:53.317Z"
   },
   {
    "duration": 17,
    "start_time": "2021-08-15T19:45:00.033Z"
   },
   {
    "duration": 269,
    "start_time": "2021-08-15T19:45:21.140Z"
   },
   {
    "duration": 28,
    "start_time": "2021-08-15T19:45:33.876Z"
   },
   {
    "duration": 27,
    "start_time": "2021-08-15T19:45:43.488Z"
   },
   {
    "duration": 13,
    "start_time": "2021-08-15T19:45:51.671Z"
   },
   {
    "duration": 13,
    "start_time": "2021-08-15T19:46:37.417Z"
   },
   {
    "duration": 5,
    "start_time": "2021-08-15T19:47:36.038Z"
   },
   {
    "duration": 13,
    "start_time": "2021-08-15T19:47:41.261Z"
   },
   {
    "duration": 4,
    "start_time": "2021-08-15T19:48:41.378Z"
   },
   {
    "duration": 10,
    "start_time": "2021-08-15T20:06:02.519Z"
   },
   {
    "duration": 319,
    "start_time": "2021-08-15T20:06:46.308Z"
   },
   {
    "duration": 32,
    "start_time": "2021-08-15T20:15:46.220Z"
   },
   {
    "duration": 14,
    "start_time": "2021-08-15T20:26:48.602Z"
   },
   {
    "duration": 787,
    "start_time": "2021-08-15T20:27:11.509Z"
   },
   {
    "duration": 11,
    "start_time": "2021-08-15T20:27:17.762Z"
   },
   {
    "duration": 11,
    "start_time": "2021-08-15T20:27:49.323Z"
   },
   {
    "duration": 11,
    "start_time": "2021-08-15T20:28:05.707Z"
   },
   {
    "duration": 10,
    "start_time": "2021-08-15T20:28:25.403Z"
   },
   {
    "duration": 12,
    "start_time": "2021-08-15T20:29:01.588Z"
   },
   {
    "duration": 97,
    "start_time": "2021-08-15T20:29:37.307Z"
   },
   {
    "duration": 14,
    "start_time": "2021-08-15T20:31:23.474Z"
   },
   {
    "duration": 10,
    "start_time": "2021-08-15T20:31:37.713Z"
   },
   {
    "duration": 11,
    "start_time": "2021-08-15T20:31:52.763Z"
   },
   {
    "duration": 10,
    "start_time": "2021-08-15T20:32:09.764Z"
   },
   {
    "duration": 236,
    "start_time": "2021-08-15T20:32:55.396Z"
   },
   {
    "duration": 1486,
    "start_time": "2021-08-16T17:25:48.538Z"
   },
   {
    "duration": 67,
    "start_time": "2021-08-16T17:25:50.889Z"
   },
   {
    "duration": 15,
    "start_time": "2021-08-16T17:25:53.931Z"
   },
   {
    "duration": 13,
    "start_time": "2021-08-16T17:27:07.715Z"
   },
   {
    "duration": 11,
    "start_time": "2021-08-16T17:27:15.100Z"
   },
   {
    "duration": 7,
    "start_time": "2021-08-16T17:27:19.078Z"
   },
   {
    "duration": 498,
    "start_time": "2021-08-16T17:27:23.026Z"
   },
   {
    "duration": 7,
    "start_time": "2021-08-16T17:27:27.220Z"
   },
   {
    "duration": 6,
    "start_time": "2021-08-16T17:27:29.556Z"
   },
   {
    "duration": 8,
    "start_time": "2021-08-16T17:27:31.979Z"
   },
   {
    "duration": 15,
    "start_time": "2021-08-16T17:27:34.709Z"
   },
   {
    "duration": 13,
    "start_time": "2021-08-16T17:27:41.193Z"
   },
   {
    "duration": 6,
    "start_time": "2021-08-16T17:27:44.704Z"
   },
   {
    "duration": 16,
    "start_time": "2021-08-16T17:27:46.153Z"
   },
   {
    "duration": 306,
    "start_time": "2021-08-16T17:27:48.191Z"
   },
   {
    "duration": 338,
    "start_time": "2021-08-16T17:28:14.959Z"
   },
   {
    "duration": 18,
    "start_time": "2021-08-16T17:28:27.717Z"
   },
   {
    "duration": 24,
    "start_time": "2021-08-16T17:28:36.876Z"
   },
   {
    "duration": 344,
    "start_time": "2021-08-16T17:28:56.697Z"
   },
   {
    "duration": 24,
    "start_time": "2021-08-16T17:29:10.477Z"
   },
   {
    "duration": 21,
    "start_time": "2021-08-16T17:29:17.543Z"
   },
   {
    "duration": 311,
    "start_time": "2021-08-16T17:29:28.529Z"
   },
   {
    "duration": 24,
    "start_time": "2021-08-16T17:29:40.245Z"
   },
   {
    "duration": 327,
    "start_time": "2021-08-16T17:29:43.592Z"
   },
   {
    "duration": 23,
    "start_time": "2021-08-16T17:30:03.643Z"
   },
   {
    "duration": 4,
    "start_time": "2021-08-16T17:30:23.514Z"
   },
   {
    "duration": 10448,
    "start_time": "2021-08-16T17:30:27.272Z"
   },
   {
    "duration": 9278,
    "start_time": "2021-08-16T17:30:43.496Z"
   },
   {
    "duration": 22,
    "start_time": "2021-08-16T17:31:51.461Z"
   },
   {
    "duration": 4,
    "start_time": "2021-08-16T17:31:56.196Z"
   },
   {
    "duration": 9,
    "start_time": "2021-08-16T17:32:00.883Z"
   },
   {
    "duration": 14,
    "start_time": "2021-08-16T17:32:12.134Z"
   },
   {
    "duration": 9,
    "start_time": "2021-08-16T17:32:22.827Z"
   },
   {
    "duration": 35,
    "start_time": "2021-08-16T17:32:35.843Z"
   },
   {
    "duration": 21,
    "start_time": "2021-08-16T17:34:37.165Z"
   },
   {
    "duration": 45,
    "start_time": "2021-08-16T17:34:45.168Z"
   },
   {
    "duration": 873,
    "start_time": "2021-08-16T17:45:34.792Z"
   },
   {
    "duration": 22,
    "start_time": "2021-08-16T17:46:00.853Z"
   },
   {
    "duration": 44,
    "start_time": "2021-08-16T17:46:08.660Z"
   },
   {
    "duration": 605,
    "start_time": "2021-08-16T17:46:16.670Z"
   },
   {
    "duration": 415,
    "start_time": "2021-08-16T17:46:27.307Z"
   },
   {
    "duration": 1263,
    "start_time": "2021-08-16T17:46:38.635Z"
   },
   {
    "duration": 713,
    "start_time": "2021-08-16T17:47:01.739Z"
   },
   {
    "duration": 8639,
    "start_time": "2021-08-16T17:47:21.653Z"
   },
   {
    "duration": 647,
    "start_time": "2021-08-16T17:47:41.968Z"
   },
   {
    "duration": 682,
    "start_time": "2021-08-16T17:47:52.418Z"
   },
   {
    "duration": 339,
    "start_time": "2021-08-16T17:48:21.238Z"
   },
   {
    "duration": 404,
    "start_time": "2021-08-16T17:48:30.741Z"
   },
   {
    "duration": 937,
    "start_time": "2021-08-16T17:51:23.941Z"
   },
   {
    "duration": 359,
    "start_time": "2021-08-16T17:51:28.651Z"
   },
   {
    "duration": 360,
    "start_time": "2021-08-16T17:51:37.741Z"
   },
   {
    "duration": 390,
    "start_time": "2021-08-16T18:00:45.367Z"
   },
   {
    "duration": 20,
    "start_time": "2021-08-16T18:00:55.047Z"
   },
   {
    "duration": 21,
    "start_time": "2021-08-16T18:01:01.357Z"
   },
   {
    "duration": 12,
    "start_time": "2021-08-16T18:01:06.549Z"
   },
   {
    "duration": 37,
    "start_time": "2021-08-16T18:01:13.698Z"
   },
   {
    "duration": 39,
    "start_time": "2021-08-16T18:01:28.312Z"
   },
   {
    "duration": 396,
    "start_time": "2021-08-16T18:05:42.925Z"
   },
   {
    "duration": 4,
    "start_time": "2021-08-16T18:13:45.252Z"
   },
   {
    "duration": 342,
    "start_time": "2021-08-16T18:14:06.620Z"
   },
   {
    "duration": 5,
    "start_time": "2021-08-16T18:14:17.024Z"
   },
   {
    "duration": 339,
    "start_time": "2021-08-16T18:14:19.062Z"
   },
   {
    "duration": 9,
    "start_time": "2021-08-16T18:35:17.694Z"
   },
   {
    "duration": 573,
    "start_time": "2021-08-16T18:35:39.255Z"
   },
   {
    "duration": 296,
    "start_time": "2021-08-16T18:36:47.272Z"
   },
   {
    "duration": 351,
    "start_time": "2021-08-16T18:36:53.064Z"
   },
   {
    "duration": 15,
    "start_time": "2021-08-16T18:37:09.717Z"
   },
   {
    "duration": 14,
    "start_time": "2021-08-16T18:37:31.330Z"
   },
   {
    "duration": 525,
    "start_time": "2021-08-16T18:37:33.313Z"
   },
   {
    "duration": 19,
    "start_time": "2021-08-16T18:37:47.218Z"
   },
   {
    "duration": 20,
    "start_time": "2021-08-16T18:39:10.495Z"
   },
   {
    "duration": 21,
    "start_time": "2021-08-16T18:39:31.764Z"
   },
   {
    "duration": 562,
    "start_time": "2021-08-16T18:39:34.177Z"
   },
   {
    "duration": 437,
    "start_time": "2021-08-16T18:39:45.325Z"
   },
   {
    "duration": 349,
    "start_time": "2021-08-16T18:40:09.348Z"
   },
   {
    "duration": 28,
    "start_time": "2021-08-16T18:41:00.330Z"
   },
   {
    "duration": 16,
    "start_time": "2021-08-16T18:43:50.902Z"
   },
   {
    "duration": 8836,
    "start_time": "2021-08-16T18:44:16.651Z"
   },
   {
    "duration": 10056,
    "start_time": "2021-08-16T18:45:15.490Z"
   },
   {
    "duration": 8917,
    "start_time": "2021-08-16T18:45:30.750Z"
   },
   {
    "duration": 412,
    "start_time": "2021-08-16T18:45:54.918Z"
   },
   {
    "duration": 4,
    "start_time": "2021-08-16T18:46:02.323Z"
   },
   {
    "duration": 894,
    "start_time": "2021-08-16T18:46:04.485Z"
   },
   {
    "duration": 14,
    "start_time": "2021-08-16T18:46:08.821Z"
   },
   {
    "duration": 17,
    "start_time": "2021-08-16T18:46:37.332Z"
   },
   {
    "duration": 13,
    "start_time": "2021-08-16T18:46:54.741Z"
   },
   {
    "duration": 30,
    "start_time": "2021-08-16T18:47:21.773Z"
   },
   {
    "duration": 5,
    "start_time": "2021-08-16T18:47:25.365Z"
   },
   {
    "duration": 32,
    "start_time": "2021-08-16T18:47:57.552Z"
   },
   {
    "duration": 7,
    "start_time": "2021-08-16T18:48:16.196Z"
   },
   {
    "duration": 32,
    "start_time": "2021-08-16T18:48:32.571Z"
   },
   {
    "duration": 1398,
    "start_time": "2021-08-16T18:58:21.908Z"
   },
   {
    "duration": 10,
    "start_time": "2021-08-16T18:58:33.561Z"
   },
   {
    "duration": 12,
    "start_time": "2021-08-16T18:58:52.941Z"
   },
   {
    "duration": 18,
    "start_time": "2021-08-16T18:59:07.282Z"
   },
   {
    "duration": 10,
    "start_time": "2021-08-16T19:00:19.265Z"
   },
   {
    "duration": 17,
    "start_time": "2021-08-16T19:00:37.209Z"
   },
   {
    "duration": 691,
    "start_time": "2021-08-16T19:00:49.921Z"
   },
   {
    "duration": 13,
    "start_time": "2021-08-16T19:01:41.654Z"
   },
   {
    "duration": 13,
    "start_time": "2021-08-16T19:01:53.394Z"
   },
   {
    "duration": 12,
    "start_time": "2021-08-16T19:01:56.682Z"
   },
   {
    "duration": 6,
    "start_time": "2021-08-16T19:01:59.136Z"
   },
   {
    "duration": 4,
    "start_time": "2021-08-16T19:02:21.525Z"
   },
   {
    "duration": 58,
    "start_time": "2021-08-16T19:02:23.777Z"
   },
   {
    "duration": 17,
    "start_time": "2021-08-16T19:02:40.169Z"
   },
   {
    "duration": 11,
    "start_time": "2021-08-16T19:02:44.151Z"
   },
   {
    "duration": 14,
    "start_time": "2021-08-16T19:02:48.142Z"
   },
   {
    "duration": 7,
    "start_time": "2021-08-16T19:02:52.414Z"
   },
   {
    "duration": 15,
    "start_time": "2021-08-16T19:02:57.423Z"
   },
   {
    "duration": 7,
    "start_time": "2021-08-16T19:02:58.901Z"
   },
   {
    "duration": 6,
    "start_time": "2021-08-16T19:03:02.938Z"
   },
   {
    "duration": 9,
    "start_time": "2021-08-16T19:03:05.811Z"
   },
   {
    "duration": 6,
    "start_time": "2021-08-16T19:03:08.425Z"
   },
   {
    "duration": 10,
    "start_time": "2021-08-16T19:03:11.003Z"
   },
   {
    "duration": 11,
    "start_time": "2021-08-16T19:03:13.552Z"
   },
   {
    "duration": 6,
    "start_time": "2021-08-16T19:03:15.299Z"
   },
   {
    "duration": 30,
    "start_time": "2021-08-16T19:03:18.913Z"
   },
   {
    "duration": 5,
    "start_time": "2021-08-16T19:03:30.053Z"
   },
   {
    "duration": 12,
    "start_time": "2021-08-16T19:03:33.220Z"
   },
   {
    "duration": 32,
    "start_time": "2021-08-16T19:03:43.057Z"
   },
   {
    "duration": 6,
    "start_time": "2021-08-16T19:03:46.108Z"
   },
   {
    "duration": 31,
    "start_time": "2021-08-16T19:03:48.821Z"
   },
   {
    "duration": 9,
    "start_time": "2021-08-16T19:03:58.471Z"
   },
   {
    "duration": 13,
    "start_time": "2021-08-16T19:04:01.083Z"
   },
   {
    "duration": 11,
    "start_time": "2021-08-16T19:04:07.545Z"
   },
   {
    "duration": 15,
    "start_time": "2021-08-16T19:04:22.039Z"
   },
   {
    "duration": 30,
    "start_time": "2021-08-16T19:04:29.948Z"
   },
   {
    "duration": 6,
    "start_time": "2021-08-16T19:04:51.908Z"
   },
   {
    "duration": 7,
    "start_time": "2021-08-16T19:04:54.257Z"
   },
   {
    "duration": 15,
    "start_time": "2021-08-16T19:04:58.343Z"
   },
   {
    "duration": 336,
    "start_time": "2021-08-16T19:05:01.002Z"
   },
   {
    "duration": 332,
    "start_time": "2021-08-16T19:05:09.197Z"
   },
   {
    "duration": 6,
    "start_time": "2021-08-16T19:05:15.869Z"
   },
   {
    "duration": 333,
    "start_time": "2021-08-16T19:05:20.726Z"
   },
   {
    "duration": 14,
    "start_time": "2021-08-16T19:05:31.042Z"
   },
   {
    "duration": 306,
    "start_time": "2021-08-16T19:05:32.647Z"
   },
   {
    "duration": 15,
    "start_time": "2021-08-16T19:05:35.503Z"
   },
   {
    "duration": 21,
    "start_time": "2021-08-16T19:05:38.185Z"
   },
   {
    "duration": 12,
    "start_time": "2021-08-16T19:05:41.794Z"
   },
   {
    "duration": 40,
    "start_time": "2021-08-16T19:05:44.599Z"
   },
   {
    "duration": 34,
    "start_time": "2021-08-16T19:06:31.001Z"
   },
   {
    "duration": 39,
    "start_time": "2021-08-16T19:06:33.709Z"
   },
   {
    "duration": 393,
    "start_time": "2021-08-16T19:06:37.622Z"
   },
   {
    "duration": 12,
    "start_time": "2021-08-16T19:06:44.943Z"
   },
   {
    "duration": 17,
    "start_time": "2021-08-16T19:06:49.039Z"
   },
   {
    "duration": 16,
    "start_time": "2021-08-16T19:06:51.465Z"
   },
   {
    "duration": 17,
    "start_time": "2021-08-16T19:07:00.954Z"
   },
   {
    "duration": 14,
    "start_time": "2021-08-16T19:07:13.852Z"
   },
   {
    "duration": 16,
    "start_time": "2021-08-16T19:07:25.140Z"
   },
   {
    "duration": 7,
    "start_time": "2021-08-16T19:08:28.657Z"
   },
   {
    "duration": 16,
    "start_time": "2021-08-16T19:11:15.969Z"
   },
   {
    "duration": 7,
    "start_time": "2021-08-16T19:11:29.309Z"
   },
   {
    "duration": 15,
    "start_time": "2021-08-16T19:11:36.750Z"
   },
   {
    "duration": 15,
    "start_time": "2021-08-16T19:11:42.110Z"
   },
   {
    "duration": 17,
    "start_time": "2021-08-16T19:11:53.381Z"
   },
   {
    "duration": 16,
    "start_time": "2021-08-16T19:11:55.602Z"
   },
   {
    "duration": 15,
    "start_time": "2021-08-16T19:11:57.936Z"
   },
   {
    "duration": 7,
    "start_time": "2021-08-16T19:12:00.736Z"
   },
   {
    "duration": 6,
    "start_time": "2021-08-16T19:19:46.712Z"
   },
   {
    "duration": 5,
    "start_time": "2021-08-16T19:20:23.537Z"
   },
   {
    "duration": 7,
    "start_time": "2021-08-16T19:20:26.201Z"
   },
   {
    "duration": 7,
    "start_time": "2021-08-16T19:21:21.800Z"
   },
   {
    "duration": 5,
    "start_time": "2021-08-16T19:21:59.456Z"
   },
   {
    "duration": 6,
    "start_time": "2021-08-16T19:22:13.489Z"
   },
   {
    "duration": 6,
    "start_time": "2021-08-16T19:22:39.206Z"
   },
   {
    "duration": 4,
    "start_time": "2021-08-16T19:34:17.861Z"
   },
   {
    "duration": 10,
    "start_time": "2021-08-16T19:34:35.782Z"
   },
   {
    "duration": 10,
    "start_time": "2021-08-16T19:34:48.816Z"
   },
   {
    "duration": 10,
    "start_time": "2021-08-16T19:35:37.941Z"
   },
   {
    "duration": 11,
    "start_time": "2021-08-16T19:35:41.597Z"
   },
   {
    "duration": 11,
    "start_time": "2021-08-16T19:36:00.713Z"
   },
   {
    "duration": 10,
    "start_time": "2021-08-16T19:36:05.642Z"
   },
   {
    "duration": 11,
    "start_time": "2021-08-16T19:36:21.755Z"
   },
   {
    "duration": 10,
    "start_time": "2021-08-16T19:36:24.958Z"
   },
   {
    "duration": 11,
    "start_time": "2021-08-16T19:49:42.776Z"
   },
   {
    "duration": 10,
    "start_time": "2021-08-16T19:50:57.272Z"
   },
   {
    "duration": 11,
    "start_time": "2021-08-16T20:01:40.235Z"
   },
   {
    "duration": 10,
    "start_time": "2021-08-16T20:04:40.922Z"
   },
   {
    "duration": 11,
    "start_time": "2021-08-16T20:06:02.181Z"
   },
   {
    "duration": 5,
    "start_time": "2021-08-16T20:31:37.190Z"
   },
   {
    "duration": 10,
    "start_time": "2021-08-16T20:31:40.447Z"
   },
   {
    "duration": 10,
    "start_time": "2021-08-16T20:32:35.867Z"
   },
   {
    "duration": 10,
    "start_time": "2021-08-16T20:32:56.976Z"
   },
   {
    "duration": 10,
    "start_time": "2021-08-16T20:32:59.732Z"
   },
   {
    "duration": 10,
    "start_time": "2021-08-16T20:33:06.710Z"
   },
   {
    "duration": 10,
    "start_time": "2021-08-16T20:33:09.853Z"
   },
   {
    "duration": 10,
    "start_time": "2021-08-16T20:33:13.070Z"
   },
   {
    "duration": 10,
    "start_time": "2021-08-16T20:33:15.873Z"
   },
   {
    "duration": 11,
    "start_time": "2021-08-16T20:33:18.969Z"
   },
   {
    "duration": 11,
    "start_time": "2021-08-16T20:33:46.842Z"
   },
   {
    "duration": 11,
    "start_time": "2021-08-16T20:34:36.897Z"
   },
   {
    "duration": 11,
    "start_time": "2021-08-16T20:34:50.486Z"
   },
   {
    "duration": 10,
    "start_time": "2021-08-16T20:35:47.438Z"
   },
   {
    "duration": 5,
    "start_time": "2021-08-16T21:22:52.951Z"
   },
   {
    "duration": 61,
    "start_time": "2021-08-16T21:22:56.099Z"
   },
   {
    "duration": 14,
    "start_time": "2021-08-16T21:23:07.953Z"
   },
   {
    "duration": 11,
    "start_time": "2021-08-16T21:23:14.270Z"
   },
   {
    "duration": 331,
    "start_time": "2021-08-16T21:23:20.336Z"
   },
   {
    "duration": 7,
    "start_time": "2021-08-16T21:23:24.079Z"
   },
   {
    "duration": 7,
    "start_time": "2021-08-16T21:23:26.365Z"
   },
   {
    "duration": 13,
    "start_time": "2021-08-16T21:24:21.793Z"
   },
   {
    "duration": 8,
    "start_time": "2021-08-16T21:24:24.953Z"
   },
   {
    "duration": 31,
    "start_time": "2021-08-16T21:24:36.269Z"
   },
   {
    "duration": 5,
    "start_time": "2021-08-16T21:24:49.034Z"
   },
   {
    "duration": 7,
    "start_time": "2021-08-16T21:25:10.354Z"
   },
   {
    "duration": 33,
    "start_time": "2021-08-16T21:25:12.965Z"
   },
   {
    "duration": 16,
    "start_time": "2021-08-16T21:25:18.311Z"
   },
   {
    "duration": 12,
    "start_time": "2021-08-16T21:25:35.070Z"
   },
   {
    "duration": 31,
    "start_time": "2021-08-16T21:25:37.255Z"
   },
   {
    "duration": 5,
    "start_time": "2021-08-16T21:26:00.542Z"
   },
   {
    "duration": 7,
    "start_time": "2021-08-16T21:26:23.037Z"
   },
   {
    "duration": 19,
    "start_time": "2021-08-16T21:26:58.683Z"
   },
   {
    "duration": 31,
    "start_time": "2021-08-16T21:27:34.992Z"
   },
   {
    "duration": 22,
    "start_time": "2021-08-16T21:27:55.135Z"
   },
   {
    "duration": 11,
    "start_time": "2021-08-16T21:28:00.274Z"
   },
   {
    "duration": 34,
    "start_time": "2021-08-16T21:28:08.982Z"
   },
   {
    "duration": 40,
    "start_time": "2021-08-16T21:28:14.486Z"
   },
   {
    "duration": 314,
    "start_time": "2021-08-16T21:31:08.025Z"
   },
   {
    "duration": 1236,
    "start_time": "2021-08-16T21:31:44.730Z"
   },
   {
    "duration": 7769,
    "start_time": "2021-08-16T21:32:35.132Z"
   },
   {
    "duration": 9382,
    "start_time": "2021-08-16T21:33:07.924Z"
   },
   {
    "duration": 7,
    "start_time": "2021-08-16T21:35:17.763Z"
   },
   {
    "duration": 7,
    "start_time": "2021-08-16T21:35:33.839Z"
   },
   {
    "duration": 7,
    "start_time": "2021-08-16T21:37:58.769Z"
   },
   {
    "duration": 363,
    "start_time": "2021-08-16T21:43:31.188Z"
   },
   {
    "duration": 42,
    "start_time": "2021-08-16T21:43:36.071Z"
   },
   {
    "duration": 42,
    "start_time": "2021-08-16T21:43:49.466Z"
   },
   {
    "duration": 397,
    "start_time": "2021-08-16T21:44:09.868Z"
   },
   {
    "duration": 1151,
    "start_time": "2021-08-16T21:44:21.717Z"
   },
   {
    "duration": 4,
    "start_time": "2021-08-16T21:45:25.106Z"
   },
   {
    "duration": 710,
    "start_time": "2021-08-16T21:46:15.910Z"
   },
   {
    "duration": 8015,
    "start_time": "2021-08-16T21:46:38.198Z"
   },
   {
    "duration": 218,
    "start_time": "2021-08-16T21:47:43.892Z"
   },
   {
    "duration": 35,
    "start_time": "2021-08-16T21:48:16.037Z"
   },
   {
    "duration": 17,
    "start_time": "2021-08-16T21:48:29.335Z"
   },
   {
    "duration": 18,
    "start_time": "2021-08-16T21:48:42.060Z"
   },
   {
    "duration": 25,
    "start_time": "2021-08-16T21:49:21.221Z"
   },
   {
    "duration": 16,
    "start_time": "2021-08-16T21:51:17.580Z"
   },
   {
    "duration": 13,
    "start_time": "2021-08-16T21:52:12.283Z"
   },
   {
    "duration": 349,
    "start_time": "2021-08-16T21:52:17.891Z"
   },
   {
    "duration": 20,
    "start_time": "2021-08-16T21:52:37.185Z"
   },
   {
    "duration": 19,
    "start_time": "2021-08-16T21:52:45.146Z"
   },
   {
    "duration": 4,
    "start_time": "2021-08-16T21:53:05.669Z"
   },
   {
    "duration": 10,
    "start_time": "2021-08-16T21:53:10.997Z"
   },
   {
    "duration": 301,
    "start_time": "2021-08-16T21:53:15.858Z"
   },
   {
    "duration": 636,
    "start_time": "2021-08-16T21:53:26.588Z"
   },
   {
    "duration": 455,
    "start_time": "2021-08-16T21:53:35.953Z"
   },
   {
    "duration": 529,
    "start_time": "2021-08-16T21:53:42.139Z"
   },
   {
    "duration": 477,
    "start_time": "2021-08-16T21:53:45.733Z"
   },
   {
    "duration": 18,
    "start_time": "2021-08-16T21:55:49.412Z"
   },
   {
    "duration": 914,
    "start_time": "2021-08-16T21:57:22.835Z"
   },
   {
    "duration": 103,
    "start_time": "2021-08-16T21:57:42.647Z"
   },
   {
    "duration": 109,
    "start_time": "2021-08-16T21:57:45.354Z"
   },
   {
    "duration": 780,
    "start_time": "2021-08-16T21:57:53.915Z"
   },
   {
    "duration": 859,
    "start_time": "2021-08-16T21:58:39.200Z"
   },
   {
    "duration": 1299,
    "start_time": "2021-08-16T21:59:22.849Z"
   },
   {
    "duration": 843,
    "start_time": "2021-08-16T22:00:41.267Z"
   },
   {
    "duration": 696,
    "start_time": "2021-08-16T22:01:04.147Z"
   },
   {
    "duration": 876,
    "start_time": "2021-08-16T22:01:21.472Z"
   },
   {
    "duration": 843,
    "start_time": "2021-08-16T22:01:33.505Z"
   },
   {
    "duration": 902,
    "start_time": "2021-08-16T22:01:42.518Z"
   },
   {
    "duration": 871,
    "start_time": "2021-08-16T22:02:03.978Z"
   },
   {
    "duration": 850,
    "start_time": "2021-08-16T22:02:09.893Z"
   },
   {
    "duration": 1532,
    "start_time": "2021-08-16T22:02:19.940Z"
   },
   {
    "duration": 753,
    "start_time": "2021-08-16T22:02:27.311Z"
   },
   {
    "duration": 757,
    "start_time": "2021-08-16T22:02:34.079Z"
   },
   {
    "duration": 762,
    "start_time": "2021-08-16T22:03:15.002Z"
   },
   {
    "duration": 9,
    "start_time": "2021-08-16T22:04:59.731Z"
   },
   {
    "duration": 10,
    "start_time": "2021-08-16T22:05:40.377Z"
   },
   {
    "duration": 14,
    "start_time": "2021-08-16T22:07:10.393Z"
   },
   {
    "duration": 13,
    "start_time": "2021-08-16T22:08:04.803Z"
   },
   {
    "duration": 14,
    "start_time": "2021-08-16T22:09:05.683Z"
   },
   {
    "duration": 14,
    "start_time": "2021-08-16T22:09:40.366Z"
   },
   {
    "duration": 14,
    "start_time": "2021-08-16T22:10:01.658Z"
   },
   {
    "duration": 14,
    "start_time": "2021-08-16T22:10:25.088Z"
   },
   {
    "duration": 11,
    "start_time": "2021-08-16T22:12:47.400Z"
   },
   {
    "duration": 5,
    "start_time": "2021-08-16T22:13:04.203Z"
   },
   {
    "duration": 12,
    "start_time": "2021-08-16T22:13:10.541Z"
   },
   {
    "duration": 4,
    "start_time": "2021-08-16T22:13:18.807Z"
   },
   {
    "duration": 11,
    "start_time": "2021-08-16T22:13:21.055Z"
   },
   {
    "duration": 11,
    "start_time": "2021-08-16T22:14:02.360Z"
   },
   {
    "duration": 10,
    "start_time": "2021-08-16T22:15:47.022Z"
   },
   {
    "duration": 10,
    "start_time": "2021-08-16T22:15:53.155Z"
   },
   {
    "duration": 10,
    "start_time": "2021-08-16T22:16:11.384Z"
   },
   {
    "duration": 10,
    "start_time": "2021-08-16T22:16:13.418Z"
   },
   {
    "duration": 1569,
    "start_time": "2021-08-18T18:48:46.978Z"
   },
   {
    "duration": 63,
    "start_time": "2021-08-18T18:48:50.696Z"
   },
   {
    "duration": 14,
    "start_time": "2021-08-18T18:48:54.133Z"
   },
   {
    "duration": 20,
    "start_time": "2021-08-18T18:48:56.948Z"
   },
   {
    "duration": 17,
    "start_time": "2021-08-18T18:49:00.188Z"
   },
   {
    "duration": 10,
    "start_time": "2021-08-18T18:49:02.424Z"
   },
   {
    "duration": 12,
    "start_time": "2021-08-18T18:49:04.200Z"
   },
   {
    "duration": 12,
    "start_time": "2021-08-18T18:49:16.923Z"
   },
   {
    "duration": 10,
    "start_time": "2021-08-18T18:49:21.033Z"
   },
   {
    "duration": 13,
    "start_time": "2021-08-18T18:49:25.356Z"
   },
   {
    "duration": 18,
    "start_time": "2021-08-18T18:50:08.591Z"
   },
   {
    "duration": 11,
    "start_time": "2021-08-18T18:50:22.596Z"
   },
   {
    "duration": 8,
    "start_time": "2021-08-18T18:50:27.424Z"
   },
   {
    "duration": 10,
    "start_time": "2021-08-18T18:50:32.799Z"
   },
   {
    "duration": 9,
    "start_time": "2021-08-18T18:50:39.334Z"
   },
   {
    "duration": 11,
    "start_time": "2021-08-18T18:50:43.597Z"
   },
   {
    "duration": 14,
    "start_time": "2021-08-18T18:50:47.919Z"
   },
   {
    "duration": 12,
    "start_time": "2021-08-18T18:50:52.728Z"
   },
   {
    "duration": 15,
    "start_time": "2021-08-18T18:50:55.619Z"
   },
   {
    "duration": 17,
    "start_time": "2021-08-18T18:51:20.117Z"
   },
   {
    "duration": 12,
    "start_time": "2021-08-18T18:51:26.725Z"
   },
   {
    "duration": 15,
    "start_time": "2021-08-18T18:51:36.693Z"
   },
   {
    "duration": 13,
    "start_time": "2021-08-18T18:52:36.434Z"
   },
   {
    "duration": 7,
    "start_time": "2021-08-18T18:52:39.265Z"
   },
   {
    "duration": 7,
    "start_time": "2021-08-18T18:52:50.752Z"
   },
   {
    "duration": 20,
    "start_time": "2021-08-18T18:53:00.230Z"
   },
   {
    "duration": 7,
    "start_time": "2021-08-18T18:53:06.213Z"
   },
   {
    "duration": 19,
    "start_time": "2021-08-18T18:53:08.138Z"
   },
   {
    "duration": 11,
    "start_time": "2021-08-18T18:53:34.053Z"
   },
   {
    "duration": 7,
    "start_time": "2021-08-18T18:53:35.940Z"
   },
   {
    "duration": 30,
    "start_time": "2021-08-18T18:53:41.250Z"
   },
   {
    "duration": 28,
    "start_time": "2021-08-18T18:53:51.226Z"
   },
   {
    "duration": 6,
    "start_time": "2021-08-18T18:53:53.955Z"
   },
   {
    "duration": 9,
    "start_time": "2021-08-18T18:53:58.781Z"
   },
   {
    "duration": 4,
    "start_time": "2021-08-18T18:54:01.414Z"
   },
   {
    "duration": 7,
    "start_time": "2021-08-18T18:54:04.665Z"
   },
   {
    "duration": 12,
    "start_time": "2021-08-18T18:54:08.627Z"
   },
   {
    "duration": 6,
    "start_time": "2021-08-18T18:54:10.439Z"
   },
   {
    "duration": 28,
    "start_time": "2021-08-18T18:54:16.255Z"
   },
   {
    "duration": 4,
    "start_time": "2021-08-18T18:54:22.841Z"
   },
   {
    "duration": 28,
    "start_time": "2021-08-18T18:54:24.736Z"
   },
   {
    "duration": 6,
    "start_time": "2021-08-18T18:54:46.151Z"
   },
   {
    "duration": 28,
    "start_time": "2021-08-18T18:54:47.706Z"
   },
   {
    "duration": 16,
    "start_time": "2021-08-18T18:54:51.448Z"
   },
   {
    "duration": 30,
    "start_time": "2021-08-18T18:54:53.888Z"
   },
   {
    "duration": 6,
    "start_time": "2021-08-18T18:54:57.367Z"
   },
   {
    "duration": 9,
    "start_time": "2021-08-18T18:56:16.738Z"
   },
   {
    "duration": 129,
    "start_time": "2021-08-18T18:56:46.369Z"
   },
   {
    "duration": 33,
    "start_time": "2021-08-18T18:57:03.025Z"
   },
   {
    "duration": 16,
    "start_time": "2021-08-18T18:57:05.576Z"
   },
   {
    "duration": 348,
    "start_time": "2021-08-18T18:57:33.878Z"
   },
   {
    "duration": 24,
    "start_time": "2021-08-18T18:57:52.243Z"
   },
   {
    "duration": 15,
    "start_time": "2021-08-18T18:59:02.494Z"
   },
   {
    "duration": 15,
    "start_time": "2021-08-18T18:59:16.111Z"
   },
   {
    "duration": 12,
    "start_time": "2021-08-18T18:59:36.500Z"
   },
   {
    "duration": 18,
    "start_time": "2021-08-18T19:00:55.980Z"
   },
   {
    "duration": 12,
    "start_time": "2021-08-18T19:00:59.494Z"
   },
   {
    "duration": 340,
    "start_time": "2021-08-18T19:01:05.153Z"
   },
   {
    "duration": 384,
    "start_time": "2021-08-18T19:01:14.924Z"
   },
   {
    "duration": 18,
    "start_time": "2021-08-18T19:01:46.489Z"
   },
   {
    "duration": 115,
    "start_time": "2021-08-18T19:02:10.837Z"
   },
   {
    "duration": 98,
    "start_time": "2021-08-18T19:02:17.940Z"
   },
   {
    "duration": 47,
    "start_time": "2021-08-18T19:02:21.604Z"
   },
   {
    "duration": 122,
    "start_time": "2021-08-18T19:03:23.406Z"
   },
   {
    "duration": 336,
    "start_time": "2021-08-18T19:03:36.410Z"
   },
   {
    "duration": 36,
    "start_time": "2021-08-18T19:03:46.768Z"
   },
   {
    "duration": 351,
    "start_time": "2021-08-18T19:04:07.356Z"
   },
   {
    "duration": 347,
    "start_time": "2021-08-18T19:04:13.565Z"
   },
   {
    "duration": 356,
    "start_time": "2021-08-18T19:04:18.999Z"
   },
   {
    "duration": 15,
    "start_time": "2021-08-18T19:04:24.800Z"
   },
   {
    "duration": 123,
    "start_time": "2021-08-18T19:05:31.265Z"
   },
   {
    "duration": 18,
    "start_time": "2021-08-18T19:05:37.538Z"
   },
   {
    "duration": 8282,
    "start_time": "2021-08-18T19:05:56.098Z"
   },
   {
    "duration": 120,
    "start_time": "2021-08-18T19:06:06.286Z"
   },
   {
    "duration": 15,
    "start_time": "2021-08-18T19:06:09.387Z"
   },
   {
    "duration": 18,
    "start_time": "2021-08-18T19:06:15.630Z"
   },
   {
    "duration": 348,
    "start_time": "2021-08-18T19:06:37.649Z"
   },
   {
    "duration": 26,
    "start_time": "2021-08-18T19:06:48.185Z"
   },
   {
    "duration": 20,
    "start_time": "2021-08-18T19:06:56.235Z"
   },
   {
    "duration": 23,
    "start_time": "2021-08-18T19:07:02.530Z"
   },
   {
    "duration": 29,
    "start_time": "2021-08-18T19:07:43.348Z"
   },
   {
    "duration": 20,
    "start_time": "2021-08-18T19:07:51.760Z"
   },
   {
    "duration": 16,
    "start_time": "2021-08-18T19:09:15.223Z"
   },
   {
    "duration": 8,
    "start_time": "2021-08-18T19:09:23.244Z"
   },
   {
    "duration": 8,
    "start_time": "2021-08-18T19:09:25.812Z"
   },
   {
    "duration": 21,
    "start_time": "2021-08-18T19:09:42.683Z"
   },
   {
    "duration": 443,
    "start_time": "2021-08-18T19:09:44.285Z"
   },
   {
    "duration": 22,
    "start_time": "2021-08-18T19:09:51.272Z"
   },
   {
    "duration": 21,
    "start_time": "2021-08-18T19:10:04.240Z"
   },
   {
    "duration": 16,
    "start_time": "2021-08-18T19:10:14.299Z"
   },
   {
    "duration": 11,
    "start_time": "2021-08-18T19:10:25.864Z"
   },
   {
    "duration": 418,
    "start_time": "2021-08-18T19:10:33.291Z"
   },
   {
    "duration": 33,
    "start_time": "2021-08-18T19:10:38.041Z"
   },
   {
    "duration": 59,
    "start_time": "2021-08-18T19:10:40.279Z"
   },
   {
    "duration": 17,
    "start_time": "2021-08-18T19:10:54.204Z"
   },
   {
    "duration": 766,
    "start_time": "2021-08-18T19:11:12.588Z"
   },
   {
    "duration": 776,
    "start_time": "2021-08-18T19:11:49.145Z"
   },
   {
    "duration": 6,
    "start_time": "2021-08-18T19:12:19.487Z"
   },
   {
    "duration": 11,
    "start_time": "2021-08-18T19:12:24.603Z"
   },
   {
    "duration": 11,
    "start_time": "2021-08-18T19:12:27.097Z"
   },
   {
    "duration": 12,
    "start_time": "2021-08-18T19:12:32.584Z"
   },
   {
    "duration": 10,
    "start_time": "2021-08-18T19:12:34.856Z"
   },
   {
    "duration": 10,
    "start_time": "2021-08-18T19:12:44.231Z"
   },
   {
    "duration": 14,
    "start_time": "2021-08-18T19:12:52.182Z"
   },
   {
    "duration": 10,
    "start_time": "2021-08-18T19:13:05.683Z"
   },
   {
    "duration": 11,
    "start_time": "2021-08-18T19:13:12.642Z"
   },
   {
    "duration": 123,
    "start_time": "2021-08-18T19:13:34.222Z"
   },
   {
    "duration": 123,
    "start_time": "2021-08-18T19:14:07.312Z"
   },
   {
    "duration": 102,
    "start_time": "2021-08-18T19:14:14.395Z"
   },
   {
    "duration": 4,
    "start_time": "2021-08-18T19:14:23.303Z"
   },
   {
    "duration": 222,
    "start_time": "2021-08-18T19:14:26.520Z"
   },
   {
    "duration": 6,
    "start_time": "2021-08-18T19:14:38.985Z"
   },
   {
    "duration": 138,
    "start_time": "2021-08-18T19:14:42.785Z"
   },
   {
    "duration": 4,
    "start_time": "2021-08-18T19:15:23.835Z"
   },
   {
    "duration": 121,
    "start_time": "2021-08-18T19:15:26.174Z"
   },
   {
    "duration": 5,
    "start_time": "2021-08-18T19:15:39.071Z"
   },
   {
    "duration": 118,
    "start_time": "2021-08-18T19:15:41.248Z"
   },
   {
    "duration": 5,
    "start_time": "2021-08-18T19:15:54.428Z"
   },
   {
    "duration": 125,
    "start_time": "2021-08-18T19:15:57.444Z"
   },
   {
    "duration": 112,
    "start_time": "2021-08-18T19:16:08.341Z"
   },
   {
    "duration": 102,
    "start_time": "2021-08-18T19:16:21.691Z"
   },
   {
    "duration": 4,
    "start_time": "2021-08-18T19:16:30.784Z"
   },
   {
    "duration": 121,
    "start_time": "2021-08-18T19:16:32.984Z"
   },
   {
    "duration": 7,
    "start_time": "2021-08-18T19:18:12.840Z"
   },
   {
    "duration": 747,
    "start_time": "2021-08-18T19:18:16.264Z"
   },
   {
    "duration": 6,
    "start_time": "2021-08-18T19:18:46.298Z"
   },
   {
    "duration": 5,
    "start_time": "2021-08-18T19:18:50.451Z"
   },
   {
    "duration": 705,
    "start_time": "2021-08-18T19:18:52.934Z"
   },
   {
    "duration": 5,
    "start_time": "2021-08-18T19:18:58.678Z"
   },
   {
    "duration": 161,
    "start_time": "2021-08-18T19:19:00.813Z"
   },
   {
    "duration": 159,
    "start_time": "2021-08-18T19:19:19.907Z"
   },
   {
    "duration": 163,
    "start_time": "2021-08-18T19:19:24.362Z"
   },
   {
    "duration": 163,
    "start_time": "2021-08-18T19:19:29.096Z"
   },
   {
    "duration": 130,
    "start_time": "2021-08-18T19:19:38.984Z"
   },
   {
    "duration": 474,
    "start_time": "2021-08-18T19:19:43.708Z"
   },
   {
    "duration": 202,
    "start_time": "2021-08-18T19:19:47.584Z"
   },
   {
    "duration": 120,
    "start_time": "2021-08-18T19:19:50.634Z"
   },
   {
    "duration": 124,
    "start_time": "2021-08-18T19:19:53.388Z"
   },
   {
    "duration": 199,
    "start_time": "2021-08-18T19:19:55.896Z"
   },
   {
    "duration": 8,
    "start_time": "2021-08-18T19:21:44.549Z"
   },
   {
    "duration": 4,
    "start_time": "2021-08-18T19:21:47.298Z"
   },
   {
    "duration": 4,
    "start_time": "2021-08-18T19:24:29.463Z"
   },
   {
    "duration": 1411,
    "start_time": "2021-08-18T19:24:31.957Z"
   },
   {
    "duration": 1282,
    "start_time": "2021-08-18T19:25:45.589Z"
   },
   {
    "duration": 5,
    "start_time": "2021-08-18T19:25:54.716Z"
   },
   {
    "duration": 12,
    "start_time": "2021-08-18T19:25:59.070Z"
   },
   {
    "duration": 409,
    "start_time": "2021-08-18T19:27:13.364Z"
   },
   {
    "duration": 356,
    "start_time": "2021-08-18T19:27:25.002Z"
   },
   {
    "duration": 12,
    "start_time": "2021-08-18T19:27:58.360Z"
   },
   {
    "duration": 5,
    "start_time": "2021-08-18T19:32:10.803Z"
   },
   {
    "duration": 424,
    "start_time": "2021-08-18T19:32:12.853Z"
   },
   {
    "duration": 6,
    "start_time": "2021-08-18T19:32:43.584Z"
   },
   {
    "duration": 315,
    "start_time": "2021-08-18T19:32:45.835Z"
   },
   {
    "duration": 324,
    "start_time": "2021-08-18T19:33:20.214Z"
   },
   {
    "duration": 10,
    "start_time": "2021-08-18T19:33:27.145Z"
   },
   {
    "duration": 215,
    "start_time": "2021-08-18T19:33:41.611Z"
   },
   {
    "duration": 238,
    "start_time": "2021-08-18T19:33:51.788Z"
   },
   {
    "duration": 5,
    "start_time": "2021-08-18T19:33:57.694Z"
   },
   {
    "duration": 273,
    "start_time": "2021-08-18T19:33:59.616Z"
   },
   {
    "duration": 114,
    "start_time": "2021-08-18T19:36:52.107Z"
   },
   {
    "duration": 4,
    "start_time": "2021-08-18T19:36:58.609Z"
   },
   {
    "duration": 244,
    "start_time": "2021-08-18T19:37:01.065Z"
   },
   {
    "duration": 254,
    "start_time": "2021-08-18T19:37:37.606Z"
   },
   {
    "duration": 246,
    "start_time": "2021-08-18T19:37:49.562Z"
   },
   {
    "duration": 238,
    "start_time": "2021-08-18T19:38:00.998Z"
   },
   {
    "duration": 29,
    "start_time": "2021-08-18T19:51:39.134Z"
   },
   {
    "duration": 368,
    "start_time": "2021-08-18T19:51:49.186Z"
   },
   {
    "duration": 28,
    "start_time": "2021-08-18T19:52:34.346Z"
   },
   {
    "duration": 40,
    "start_time": "2021-08-18T19:53:04.399Z"
   },
   {
    "duration": 1973,
    "start_time": "2021-08-18T19:53:43.574Z"
   },
   {
    "duration": 863,
    "start_time": "2021-08-18T19:54:10.315Z"
   },
   {
    "duration": 349,
    "start_time": "2021-08-18T19:54:20.106Z"
   },
   {
    "duration": 126,
    "start_time": "2021-08-18T19:54:31.107Z"
   },
   {
    "duration": 124,
    "start_time": "2021-08-18T19:54:34.532Z"
   },
   {
    "duration": 124,
    "start_time": "2021-08-18T19:54:41.627Z"
   },
   {
    "duration": 1713,
    "start_time": "2021-08-18T19:54:48.698Z"
   },
   {
    "duration": 19,
    "start_time": "2021-08-18T19:55:01.354Z"
   },
   {
    "duration": 29,
    "start_time": "2021-08-18T19:55:06.809Z"
   },
   {
    "duration": 26,
    "start_time": "2021-08-18T19:55:25.940Z"
   },
   {
    "duration": 6722,
    "start_time": "2021-08-18T19:55:34.480Z"
   },
   {
    "duration": 537,
    "start_time": "2021-08-18T19:55:56.088Z"
   },
   {
    "duration": 6000,
    "start_time": "2021-08-18T19:56:23.146Z"
   },
   {
    "duration": 39,
    "start_time": "2021-08-18T19:56:41.326Z"
   },
   {
    "duration": 23,
    "start_time": "2021-08-18T19:59:59.332Z"
   },
   {
    "duration": 36,
    "start_time": "2021-08-18T20:00:03.291Z"
   },
   {
    "duration": 851,
    "start_time": "2021-08-18T20:01:15.226Z"
   },
   {
    "duration": 328,
    "start_time": "2021-08-18T20:01:53.008Z"
   },
   {
    "duration": 327,
    "start_time": "2021-08-18T20:02:07.320Z"
   },
   {
    "duration": 360,
    "start_time": "2021-08-18T20:02:10.314Z"
   },
   {
    "duration": 6,
    "start_time": "2021-08-18T20:03:20.308Z"
   },
   {
    "duration": 5767,
    "start_time": "2021-08-18T20:04:03.172Z"
   },
   {
    "duration": 6062,
    "start_time": "2021-08-18T20:04:42.011Z"
   },
   {
    "duration": 5212,
    "start_time": "2021-08-18T20:04:48.853Z"
   },
   {
    "duration": 1040,
    "start_time": "2021-08-18T20:05:25.501Z"
   },
   {
    "duration": 991,
    "start_time": "2021-08-18T20:05:42.135Z"
   },
   {
    "duration": 1040,
    "start_time": "2021-08-18T20:07:25.953Z"
   },
   {
    "duration": 951,
    "start_time": "2021-08-18T20:09:02.854Z"
   },
   {
    "duration": 1004,
    "start_time": "2021-08-18T20:09:42.080Z"
   },
   {
    "duration": 1122,
    "start_time": "2021-08-18T20:10:28.811Z"
   },
   {
    "duration": 28,
    "start_time": "2021-08-18T20:10:44.411Z"
   },
   {
    "duration": 419,
    "start_time": "2021-08-18T20:10:58.736Z"
   },
   {
    "duration": 17,
    "start_time": "2021-08-18T20:12:07.608Z"
   },
   {
    "duration": 5381,
    "start_time": "2021-08-18T20:13:08.586Z"
   },
   {
    "duration": 16125,
    "start_time": "2021-08-18T20:13:22.572Z"
   },
   {
    "duration": 17028,
    "start_time": "2021-08-18T20:14:10.862Z"
   },
   {
    "duration": 331,
    "start_time": "2021-08-18T20:15:25.217Z"
   },
   {
    "duration": 4549,
    "start_time": "2021-08-18T20:15:49.073Z"
   },
   {
    "duration": 538,
    "start_time": "2021-08-18T20:16:28.182Z"
   },
   {
    "duration": 2023,
    "start_time": "2021-08-18T20:16:39.208Z"
   },
   {
    "duration": 1761,
    "start_time": "2021-08-18T20:16:58.408Z"
   },
   {
    "duration": 103,
    "start_time": "2021-08-18T20:19:10.948Z"
   },
   {
    "duration": 8179,
    "start_time": "2021-08-18T20:19:24.123Z"
   },
   {
    "duration": 9364,
    "start_time": "2021-08-18T20:19:53.316Z"
   },
   {
    "duration": 8392,
    "start_time": "2021-08-18T20:21:01.667Z"
   },
   {
    "duration": 8563,
    "start_time": "2021-08-18T20:21:28.592Z"
   },
   {
    "duration": 9081,
    "start_time": "2021-08-18T20:21:47.638Z"
   },
   {
    "duration": 9209,
    "start_time": "2021-08-18T20:22:09.434Z"
   },
   {
    "duration": 627,
    "start_time": "2021-08-18T20:23:29.302Z"
   },
   {
    "duration": 751,
    "start_time": "2021-08-18T20:23:42.877Z"
   },
   {
    "duration": 834,
    "start_time": "2021-08-18T20:23:54.213Z"
   },
   {
    "duration": 98,
    "start_time": "2021-08-18T20:24:15.835Z"
   },
   {
    "duration": 1236,
    "start_time": "2021-08-18T20:24:22.518Z"
   },
   {
    "duration": 809,
    "start_time": "2021-08-18T20:24:37.120Z"
   },
   {
    "duration": 481,
    "start_time": "2021-08-18T20:24:51.160Z"
   },
   {
    "duration": 5591,
    "start_time": "2021-08-18T20:25:27.664Z"
   },
   {
    "duration": 799,
    "start_time": "2021-08-18T20:27:09.327Z"
   },
   {
    "duration": 303,
    "start_time": "2021-08-18T20:31:50.906Z"
   },
   {
    "duration": 40,
    "start_time": "2021-08-18T20:32:56.622Z"
   },
   {
    "duration": 393,
    "start_time": "2021-08-18T20:33:04.455Z"
   },
   {
    "duration": 1255,
    "start_time": "2021-08-18T20:33:11.169Z"
   },
   {
    "duration": 367,
    "start_time": "2021-08-18T20:33:40.737Z"
   },
   {
    "duration": 626,
    "start_time": "2021-08-18T20:33:54.152Z"
   },
   {
    "duration": 14,
    "start_time": "2021-08-18T20:34:19.366Z"
   },
   {
    "duration": 117,
    "start_time": "2021-08-18T20:34:31.879Z"
   },
   {
    "duration": 8475,
    "start_time": "2021-08-18T20:34:34.935Z"
   },
   {
    "duration": 1319,
    "start_time": "2021-08-18T20:34:57.285Z"
   },
   {
    "duration": 1738,
    "start_time": "2021-08-18T20:35:34.396Z"
   },
   {
    "duration": 1907,
    "start_time": "2021-08-18T20:36:05.941Z"
   },
   {
    "duration": 541,
    "start_time": "2021-08-18T20:36:21.458Z"
   },
   {
    "duration": 807,
    "start_time": "2021-08-18T20:36:51.386Z"
   },
   {
    "duration": 8739,
    "start_time": "2021-08-18T20:37:08.357Z"
   },
   {
    "duration": 1316,
    "start_time": "2021-08-18T20:37:31.509Z"
   },
   {
    "duration": 8358,
    "start_time": "2021-08-18T20:38:48.189Z"
   },
   {
    "duration": 27,
    "start_time": "2021-08-18T20:39:06.577Z"
   },
   {
    "duration": 37,
    "start_time": "2021-08-18T20:39:13.606Z"
   },
   {
    "duration": 1413,
    "start_time": "2021-08-18T20:39:37.556Z"
   },
   {
    "duration": 1455,
    "start_time": "2021-08-18T20:39:45.092Z"
   },
   {
    "duration": 1679,
    "start_time": "2021-08-18T20:39:54.350Z"
   },
   {
    "duration": 1584,
    "start_time": "2021-08-18T20:39:59.387Z"
   },
   {
    "duration": 1381,
    "start_time": "2021-08-18T20:40:10.366Z"
   },
   {
    "duration": 121,
    "start_time": "2021-08-18T20:40:42.416Z"
   },
   {
    "duration": 1746,
    "start_time": "2021-08-18T20:40:45.911Z"
   },
   {
    "duration": 1373,
    "start_time": "2021-08-18T20:42:13.985Z"
   },
   {
    "duration": 1328,
    "start_time": "2021-08-18T20:44:56.503Z"
   },
   {
    "duration": 1180,
    "start_time": "2021-08-18T20:48:58.933Z"
   },
   {
    "duration": 1329,
    "start_time": "2021-08-18T20:49:05.581Z"
   },
   {
    "duration": 1106,
    "start_time": "2021-08-18T20:51:14.742Z"
   },
   {
    "duration": 1253,
    "start_time": "2021-08-18T20:51:19.020Z"
   },
   {
    "duration": 42,
    "start_time": "2021-08-18T20:55:23.833Z"
   },
   {
    "duration": 1359,
    "start_time": "2021-08-18T20:55:29.701Z"
   },
   {
    "duration": 44,
    "start_time": "2021-08-18T20:55:59.500Z"
   },
   {
    "duration": 1237,
    "start_time": "2021-08-18T20:56:02.352Z"
   },
   {
    "duration": 1698,
    "start_time": "2021-08-18T20:56:07.501Z"
   },
   {
    "duration": 8122,
    "start_time": "2021-08-18T20:56:44.709Z"
   },
   {
    "duration": 1261,
    "start_time": "2021-08-18T20:57:02.260Z"
   },
   {
    "duration": 681,
    "start_time": "2021-08-18T21:10:22.379Z"
   },
   {
    "duration": 521,
    "start_time": "2021-08-18T21:10:37.300Z"
   },
   {
    "duration": 491,
    "start_time": "2021-08-18T21:10:43.762Z"
   },
   {
    "duration": 481,
    "start_time": "2021-08-18T21:10:52.008Z"
   },
   {
    "duration": 720,
    "start_time": "2021-08-18T21:11:01.699Z"
   },
   {
    "duration": 653,
    "start_time": "2021-08-18T21:11:33.945Z"
   },
   {
    "duration": 1219,
    "start_time": "2021-08-18T21:12:00.910Z"
   },
   {
    "duration": 1410,
    "start_time": "2021-08-18T21:12:09.661Z"
   },
   {
    "duration": 1286,
    "start_time": "2021-08-18T21:12:51.747Z"
   },
   {
    "duration": 993,
    "start_time": "2021-08-18T21:13:15.631Z"
   },
   {
    "duration": 1023,
    "start_time": "2021-08-18T21:14:17.015Z"
   },
   {
    "duration": 22,
    "start_time": "2021-08-18T21:15:17.344Z"
   },
   {
    "duration": 18,
    "start_time": "2021-08-18T21:22:12.228Z"
   },
   {
    "duration": 743,
    "start_time": "2021-08-18T21:24:09.615Z"
   },
   {
    "duration": 396,
    "start_time": "2021-08-18T21:24:14.206Z"
   },
   {
    "duration": 390,
    "start_time": "2021-08-18T21:24:22.920Z"
   },
   {
    "duration": 2876,
    "start_time": "2021-08-18T21:24:40.203Z"
   },
   {
    "duration": 744,
    "start_time": "2021-08-18T21:24:50.962Z"
   },
   {
    "duration": 750,
    "start_time": "2021-08-18T21:24:58.772Z"
   },
   {
    "duration": 1411,
    "start_time": "2021-08-18T21:25:01.586Z"
   },
   {
    "duration": 8,
    "start_time": "2021-08-18T21:26:31.263Z"
   },
   {
    "duration": 31,
    "start_time": "2021-08-18T21:26:34.030Z"
   },
   {
    "duration": 411,
    "start_time": "2021-08-18T21:29:47.779Z"
   },
   {
    "duration": 435,
    "start_time": "2021-08-18T21:30:12.771Z"
   },
   {
    "duration": 405,
    "start_time": "2021-08-18T21:30:39.301Z"
   },
   {
    "duration": 521,
    "start_time": "2021-08-18T21:31:06.175Z"
   },
   {
    "duration": 11,
    "start_time": "2021-08-18T21:33:19.714Z"
   },
   {
    "duration": 8,
    "start_time": "2021-08-18T21:36:30.127Z"
   },
   {
    "duration": 435,
    "start_time": "2021-08-18T21:36:40.151Z"
   },
   {
    "duration": 507,
    "start_time": "2021-08-18T21:36:46.645Z"
   },
   {
    "duration": 123,
    "start_time": "2021-08-18T21:38:07.421Z"
   },
   {
    "duration": 6,
    "start_time": "2021-08-18T21:38:12.739Z"
   },
   {
    "duration": 376,
    "start_time": "2021-08-18T21:39:18.004Z"
   },
   {
    "duration": 5,
    "start_time": "2021-08-18T21:39:27.671Z"
   },
   {
    "duration": 396,
    "start_time": "2021-08-18T21:43:52.888Z"
   },
   {
    "duration": 364,
    "start_time": "2021-08-18T21:44:23.618Z"
   },
   {
    "duration": 124,
    "start_time": "2021-08-18T21:46:12.962Z"
   },
   {
    "duration": 6,
    "start_time": "2021-08-18T21:46:31.077Z"
   },
   {
    "duration": 5,
    "start_time": "2021-08-18T21:46:35.246Z"
   },
   {
    "duration": 146,
    "start_time": "2021-08-18T21:48:00.411Z"
   },
   {
    "duration": 329,
    "start_time": "2021-08-18T21:50:03.002Z"
   },
   {
    "duration": 1538,
    "start_time": "2021-08-18T21:50:19.203Z"
   },
   {
    "duration": 317,
    "start_time": "2021-08-18T22:00:40.982Z"
   },
   {
    "duration": 10,
    "start_time": "2021-08-18T22:01:19.305Z"
   },
   {
    "duration": 10,
    "start_time": "2021-08-18T22:01:40.693Z"
   },
   {
    "duration": 12,
    "start_time": "2021-08-18T22:03:11.657Z"
   },
   {
    "duration": 155,
    "start_time": "2021-08-18T22:03:20.516Z"
   },
   {
    "duration": 145,
    "start_time": "2021-08-18T22:03:36.964Z"
   },
   {
    "duration": 12,
    "start_time": "2021-08-18T22:03:40.853Z"
   },
   {
    "duration": 354,
    "start_time": "2021-08-18T22:05:47.132Z"
   },
   {
    "duration": 15,
    "start_time": "2021-08-18T22:05:59.808Z"
   },
   {
    "duration": 1568,
    "start_time": "2021-08-18T22:36:34.947Z"
   },
   {
    "duration": 69,
    "start_time": "2021-08-18T22:36:36.517Z"
   },
   {
    "duration": 18,
    "start_time": "2021-08-18T22:36:36.590Z"
   },
   {
    "duration": 18,
    "start_time": "2021-08-18T22:36:36.617Z"
   },
   {
    "duration": 11,
    "start_time": "2021-08-18T22:36:36.638Z"
   },
   {
    "duration": 46,
    "start_time": "2021-08-18T22:36:36.651Z"
   },
   {
    "duration": 12,
    "start_time": "2021-08-18T22:36:36.700Z"
   },
   {
    "duration": 14,
    "start_time": "2021-08-18T22:36:36.714Z"
   },
   {
    "duration": 8,
    "start_time": "2021-08-18T22:36:36.732Z"
   },
   {
    "duration": 11,
    "start_time": "2021-08-18T22:36:36.782Z"
   },
   {
    "duration": 18,
    "start_time": "2021-08-18T22:36:36.796Z"
   },
   {
    "duration": 11,
    "start_time": "2021-08-18T22:36:36.817Z"
   },
   {
    "duration": 7,
    "start_time": "2021-08-18T22:36:36.831Z"
   },
   {
    "duration": 56,
    "start_time": "2021-08-18T22:36:36.840Z"
   },
   {
    "duration": 9,
    "start_time": "2021-08-18T22:36:36.899Z"
   },
   {
    "duration": 14,
    "start_time": "2021-08-18T22:36:36.910Z"
   },
   {
    "duration": 55,
    "start_time": "2021-08-18T22:36:36.927Z"
   },
   {
    "duration": 17,
    "start_time": "2021-08-18T22:36:36.984Z"
   },
   {
    "duration": 15,
    "start_time": "2021-08-18T22:36:37.005Z"
   },
   {
    "duration": 12,
    "start_time": "2021-08-18T22:36:37.022Z"
   },
   {
    "duration": 54,
    "start_time": "2021-08-18T22:36:37.036Z"
   },
   {
    "duration": 14,
    "start_time": "2021-08-18T22:36:37.093Z"
   },
   {
    "duration": 8,
    "start_time": "2021-08-18T22:36:37.109Z"
   },
   {
    "duration": 19,
    "start_time": "2021-08-18T22:36:37.120Z"
   },
   {
    "duration": 45,
    "start_time": "2021-08-18T22:36:37.141Z"
   },
   {
    "duration": 23,
    "start_time": "2021-08-18T22:36:37.189Z"
   },
   {
    "duration": 10,
    "start_time": "2021-08-18T22:36:37.222Z"
   },
   {
    "duration": 6,
    "start_time": "2021-08-18T22:36:37.239Z"
   },
   {
    "duration": 66,
    "start_time": "2021-08-18T22:36:37.247Z"
   },
   {
    "duration": 7,
    "start_time": "2021-08-18T22:36:37.316Z"
   },
   {
    "duration": 8,
    "start_time": "2021-08-18T22:36:37.325Z"
   },
   {
    "duration": 49,
    "start_time": "2021-08-18T22:36:37.335Z"
   },
   {
    "duration": 14,
    "start_time": "2021-08-18T22:36:37.387Z"
   },
   {
    "duration": 12,
    "start_time": "2021-08-18T22:36:37.404Z"
   },
   {
    "duration": 9,
    "start_time": "2021-08-18T22:36:37.418Z"
   },
   {
    "duration": 60,
    "start_time": "2021-08-18T22:36:37.429Z"
   },
   {
    "duration": 6,
    "start_time": "2021-08-18T22:36:37.492Z"
   },
   {
    "duration": 30,
    "start_time": "2021-08-18T22:36:37.501Z"
   },
   {
    "duration": 6,
    "start_time": "2021-08-18T22:36:37.533Z"
   },
   {
    "duration": 64,
    "start_time": "2021-08-18T22:36:37.541Z"
   },
   {
    "duration": 22,
    "start_time": "2021-08-18T22:36:37.608Z"
   },
   {
    "duration": 25,
    "start_time": "2021-08-18T22:36:37.633Z"
   },
   {
    "duration": 57,
    "start_time": "2021-08-18T22:36:37.660Z"
   },
   {
    "duration": 6,
    "start_time": "2021-08-18T22:36:37.720Z"
   },
   {
    "duration": 9,
    "start_time": "2021-08-18T22:36:37.729Z"
   },
   {
    "duration": 61,
    "start_time": "2021-08-18T22:36:37.740Z"
   },
   {
    "duration": 352,
    "start_time": "2021-08-18T22:36:37.803Z"
   },
   {
    "duration": 29,
    "start_time": "2021-08-18T22:36:38.158Z"
   },
   {
    "duration": 28,
    "start_time": "2021-08-18T22:36:38.189Z"
   },
   {
    "duration": 11,
    "start_time": "2021-08-18T22:36:38.219Z"
   },
   {
    "duration": 76,
    "start_time": "2021-08-18T22:36:38.233Z"
   },
   {
    "duration": 38,
    "start_time": "2021-08-18T22:36:38.311Z"
   },
   {
    "duration": 1424,
    "start_time": "2021-08-18T22:36:38.352Z"
   },
   {
    "duration": 1527,
    "start_time": "2021-08-18T22:36:39.783Z"
   },
   {
    "duration": 777,
    "start_time": "2021-08-18T22:36:41.313Z"
   },
   {
    "duration": 21,
    "start_time": "2021-08-18T22:36:42.093Z"
   },
   {
    "duration": 784,
    "start_time": "2021-08-18T22:36:42.116Z"
   },
   {
    "duration": 31,
    "start_time": "2021-08-18T22:36:42.902Z"
   },
   {
    "duration": 476,
    "start_time": "2021-08-18T22:36:42.935Z"
   },
   {
    "duration": 548,
    "start_time": "2021-08-18T22:36:43.414Z"
   },
   {
    "duration": -31,
    "start_time": "2021-08-18T22:36:43.995Z"
   },
   {
    "duration": -46,
    "start_time": "2021-08-18T22:36:44.012Z"
   },
   {
    "duration": -53,
    "start_time": "2021-08-18T22:36:44.020Z"
   },
   {
    "duration": -59,
    "start_time": "2021-08-18T22:36:44.028Z"
   },
   {
    "duration": -64,
    "start_time": "2021-08-18T22:36:44.034Z"
   },
   {
    "duration": -68,
    "start_time": "2021-08-18T22:36:44.040Z"
   },
   {
    "duration": -74,
    "start_time": "2021-08-18T22:36:44.047Z"
   },
   {
    "duration": -77,
    "start_time": "2021-08-18T22:36:44.052Z"
   },
   {
    "duration": -83,
    "start_time": "2021-08-18T22:36:44.059Z"
   },
   {
    "duration": -89,
    "start_time": "2021-08-18T22:36:44.066Z"
   },
   {
    "duration": -94,
    "start_time": "2021-08-18T22:36:44.073Z"
   },
   {
    "duration": -99,
    "start_time": "2021-08-18T22:36:44.079Z"
   },
   {
    "duration": -103,
    "start_time": "2021-08-18T22:36:44.085Z"
   },
   {
    "duration": -107,
    "start_time": "2021-08-18T22:36:44.091Z"
   },
   {
    "duration": -111,
    "start_time": "2021-08-18T22:36:44.097Z"
   },
   {
    "duration": -114,
    "start_time": "2021-08-18T22:36:44.103Z"
   },
   {
    "duration": -127,
    "start_time": "2021-08-18T22:36:44.118Z"
   },
   {
    "duration": -132,
    "start_time": "2021-08-18T22:36:44.125Z"
   },
   {
    "duration": -136,
    "start_time": "2021-08-18T22:36:44.131Z"
   },
   {
    "duration": -140,
    "start_time": "2021-08-18T22:36:44.137Z"
   },
   {
    "duration": -144,
    "start_time": "2021-08-18T22:36:44.143Z"
   },
   {
    "duration": -148,
    "start_time": "2021-08-18T22:36:44.149Z"
   },
   {
    "duration": -152,
    "start_time": "2021-08-18T22:36:44.155Z"
   },
   {
    "duration": -156,
    "start_time": "2021-08-18T22:36:44.161Z"
   },
   {
    "duration": -161,
    "start_time": "2021-08-18T22:36:44.168Z"
   },
   {
    "duration": -164,
    "start_time": "2021-08-18T22:36:44.173Z"
   },
   {
    "duration": -169,
    "start_time": "2021-08-18T22:36:44.179Z"
   },
   {
    "duration": 5,
    "start_time": "2021-08-18T22:37:29.075Z"
   },
   {
    "duration": 1587,
    "start_time": "2021-08-18T22:37:35.146Z"
   },
   {
    "duration": 70,
    "start_time": "2021-08-18T22:37:36.736Z"
   },
   {
    "duration": 14,
    "start_time": "2021-08-18T22:37:36.809Z"
   },
   {
    "duration": 17,
    "start_time": "2021-08-18T22:37:36.826Z"
   },
   {
    "duration": 39,
    "start_time": "2021-08-18T22:37:36.845Z"
   },
   {
    "duration": 13,
    "start_time": "2021-08-18T22:37:36.886Z"
   },
   {
    "duration": 12,
    "start_time": "2021-08-18T22:37:36.903Z"
   },
   {
    "duration": 11,
    "start_time": "2021-08-18T22:37:36.919Z"
   },
   {
    "duration": 49,
    "start_time": "2021-08-18T22:37:36.933Z"
   },
   {
    "duration": 14,
    "start_time": "2021-08-18T22:37:36.986Z"
   },
   {
    "duration": 8,
    "start_time": "2021-08-18T22:37:37.003Z"
   },
   {
    "duration": 11,
    "start_time": "2021-08-18T22:37:37.013Z"
   },
   {
    "duration": 8,
    "start_time": "2021-08-18T22:37:37.026Z"
   },
   {
    "duration": 11,
    "start_time": "2021-08-18T22:37:37.083Z"
   },
   {
    "duration": 10,
    "start_time": "2021-08-18T22:37:37.097Z"
   },
   {
    "duration": 15,
    "start_time": "2021-08-18T22:37:37.110Z"
   },
   {
    "duration": 63,
    "start_time": "2021-08-18T22:37:37.128Z"
   },
   {
    "duration": 13,
    "start_time": "2021-08-18T22:37:37.194Z"
   },
   {
    "duration": 21,
    "start_time": "2021-08-18T22:37:37.210Z"
   },
   {
    "duration": 11,
    "start_time": "2021-08-18T22:37:37.233Z"
   },
   {
    "duration": 41,
    "start_time": "2021-08-18T22:37:37.247Z"
   },
   {
    "duration": 21,
    "start_time": "2021-08-18T22:37:37.291Z"
   },
   {
    "duration": 7,
    "start_time": "2021-08-18T22:37:37.318Z"
   },
   {
    "duration": 56,
    "start_time": "2021-08-18T22:37:37.329Z"
   },
   {
    "duration": 12,
    "start_time": "2021-08-18T22:37:37.389Z"
   },
   {
    "duration": 18,
    "start_time": "2021-08-18T22:37:37.404Z"
   },
   {
    "duration": 10,
    "start_time": "2021-08-18T22:37:37.424Z"
   },
   {
    "duration": 8,
    "start_time": "2021-08-18T22:37:37.436Z"
   },
   {
    "duration": 65,
    "start_time": "2021-08-18T22:37:37.446Z"
   },
   {
    "duration": 6,
    "start_time": "2021-08-18T22:37:37.513Z"
   },
   {
    "duration": 7,
    "start_time": "2021-08-18T22:37:37.522Z"
   },
   {
    "duration": 4,
    "start_time": "2021-08-18T22:37:37.532Z"
   },
   {
    "duration": 25,
    "start_time": "2021-08-18T22:37:37.538Z"
   },
   {
    "duration": 18,
    "start_time": "2021-08-18T22:37:37.584Z"
   },
   {
    "duration": 8,
    "start_time": "2021-08-18T22:37:37.604Z"
   },
   {
    "duration": 27,
    "start_time": "2021-08-18T22:37:37.615Z"
   },
   {
    "duration": 4,
    "start_time": "2021-08-18T22:37:37.644Z"
   },
   {
    "duration": 35,
    "start_time": "2021-08-18T22:37:37.683Z"
   },
   {
    "duration": 6,
    "start_time": "2021-08-18T22:37:37.720Z"
   },
   {
    "duration": 69,
    "start_time": "2021-08-18T22:37:37.729Z"
   },
   {
    "duration": 16,
    "start_time": "2021-08-18T22:37:37.801Z"
   },
   {
    "duration": 31,
    "start_time": "2021-08-18T22:37:37.819Z"
   },
   {
    "duration": 55,
    "start_time": "2021-08-18T22:37:37.852Z"
   },
   {
    "duration": 6,
    "start_time": "2021-08-18T22:37:37.909Z"
   },
   {
    "duration": 9,
    "start_time": "2021-08-18T22:37:37.918Z"
   },
   {
    "duration": 16,
    "start_time": "2021-08-18T22:37:37.929Z"
   },
   {
    "duration": 348,
    "start_time": "2021-08-18T22:37:37.947Z"
   },
   {
    "duration": 23,
    "start_time": "2021-08-18T22:37:38.298Z"
   },
   {
    "duration": 23,
    "start_time": "2021-08-18T22:37:38.324Z"
   },
   {
    "duration": 22,
    "start_time": "2021-08-18T22:37:38.383Z"
   },
   {
    "duration": 32,
    "start_time": "2021-08-18T22:37:38.408Z"
   },
   {
    "duration": 66,
    "start_time": "2021-08-18T22:37:38.443Z"
   },
   {
    "duration": 1332,
    "start_time": "2021-08-18T22:37:38.513Z"
   },
   {
    "duration": 1446,
    "start_time": "2021-08-18T22:37:39.847Z"
   },
   {
    "duration": 721,
    "start_time": "2021-08-18T22:37:41.297Z"
   },
   {
    "duration": 19,
    "start_time": "2021-08-18T22:37:42.021Z"
   },
   {
    "duration": 765,
    "start_time": "2021-08-18T22:37:42.044Z"
   },
   {
    "duration": 32,
    "start_time": "2021-08-18T22:37:42.812Z"
   },
   {
    "duration": 455,
    "start_time": "2021-08-18T22:37:42.847Z"
   },
   {
    "duration": 5,
    "start_time": "2021-08-18T22:37:43.305Z"
   },
   {
    "duration": 401,
    "start_time": "2021-08-18T22:37:43.312Z"
   },
   {
    "duration": 5,
    "start_time": "2021-08-18T22:37:43.716Z"
   },
   {
    "duration": 15,
    "start_time": "2021-08-18T22:37:43.724Z"
   },
   {
    "duration": 48,
    "start_time": "2021-08-18T22:37:43.741Z"
   },
   {
    "duration": 172,
    "start_time": "2021-08-18T22:37:43.792Z"
   },
   {
    "duration": 4,
    "start_time": "2021-08-18T22:37:43.967Z"
   },
   {
    "duration": 144,
    "start_time": "2021-08-18T22:37:43.974Z"
   },
   {
    "duration": 130,
    "start_time": "2021-08-18T22:37:44.126Z"
   },
   {
    "duration": 216,
    "start_time": "2021-08-18T22:37:44.258Z"
   },
   {
    "duration": 142,
    "start_time": "2021-08-18T22:37:44.482Z"
   },
   {
    "duration": 136,
    "start_time": "2021-08-18T22:37:44.627Z"
   },
   {
    "duration": 147,
    "start_time": "2021-08-18T22:37:44.766Z"
   },
   {
    "duration": 137,
    "start_time": "2021-08-18T22:37:44.916Z"
   },
   {
    "duration": 137,
    "start_time": "2021-08-18T22:37:45.055Z"
   },
   {
    "duration": 7,
    "start_time": "2021-08-18T22:37:45.196Z"
   },
   {
    "duration": 8,
    "start_time": "2021-08-18T22:37:45.205Z"
   },
   {
    "duration": 281,
    "start_time": "2021-08-18T22:37:45.215Z"
   },
   {
    "duration": 278,
    "start_time": "2021-08-18T22:37:45.499Z"
   },
   {
    "duration": 286,
    "start_time": "2021-08-18T22:37:45.780Z"
   },
   {
    "duration": 17,
    "start_time": "2021-08-18T22:37:46.068Z"
   },
   {
    "duration": 8,
    "start_time": "2021-08-18T22:37:46.087Z"
   },
   {
    "duration": 18,
    "start_time": "2021-08-18T22:37:46.097Z"
   },
   {
    "duration": 6,
    "start_time": "2021-08-18T22:37:46.118Z"
   },
   {
    "duration": 18,
    "start_time": "2021-08-18T22:37:46.126Z"
   },
   {
    "duration": 37,
    "start_time": "2021-08-18T22:37:46.146Z"
   },
   {
    "duration": 10,
    "start_time": "2021-08-18T22:37:46.186Z"
   },
   {
    "duration": 8,
    "start_time": "2021-08-18T22:37:46.198Z"
   },
   {
    "duration": 1576,
    "start_time": "2021-08-18T22:38:57.469Z"
   },
   {
    "duration": 72,
    "start_time": "2021-08-18T22:38:59.048Z"
   },
   {
    "duration": 15,
    "start_time": "2021-08-18T22:38:59.125Z"
   },
   {
    "duration": 51,
    "start_time": "2021-08-18T22:38:59.142Z"
   },
   {
    "duration": 12,
    "start_time": "2021-08-18T22:38:59.196Z"
   },
   {
    "duration": 19,
    "start_time": "2021-08-18T22:38:59.210Z"
   },
   {
    "duration": 10,
    "start_time": "2021-08-18T22:38:59.233Z"
   },
   {
    "duration": 41,
    "start_time": "2021-08-18T22:38:59.246Z"
   },
   {
    "duration": 13,
    "start_time": "2021-08-18T22:38:59.290Z"
   },
   {
    "duration": 11,
    "start_time": "2021-08-18T22:38:59.306Z"
   },
   {
    "duration": 7,
    "start_time": "2021-08-18T22:38:59.319Z"
   },
   {
    "duration": 9,
    "start_time": "2021-08-18T22:38:59.329Z"
   },
   {
    "duration": 11,
    "start_time": "2021-08-18T22:38:59.393Z"
   },
   {
    "duration": 10,
    "start_time": "2021-08-18T22:38:59.407Z"
   },
   {
    "duration": 9,
    "start_time": "2021-08-18T22:38:59.419Z"
   },
   {
    "duration": 10,
    "start_time": "2021-08-18T22:38:59.431Z"
   },
   {
    "duration": 20,
    "start_time": "2021-08-18T22:38:59.484Z"
   },
   {
    "duration": 12,
    "start_time": "2021-08-18T22:38:59.506Z"
   },
   {
    "duration": 18,
    "start_time": "2021-08-18T22:38:59.520Z"
   },
   {
    "duration": 54,
    "start_time": "2021-08-18T22:38:59.540Z"
   },
   {
    "duration": 10,
    "start_time": "2021-08-18T22:38:59.598Z"
   },
   {
    "duration": 12,
    "start_time": "2021-08-18T22:38:59.614Z"
   },
   {
    "duration": 9,
    "start_time": "2021-08-18T22:38:59.629Z"
   },
   {
    "duration": 53,
    "start_time": "2021-08-18T22:38:59.640Z"
   },
   {
    "duration": 9,
    "start_time": "2021-08-18T22:38:59.696Z"
   },
   {
    "duration": 21,
    "start_time": "2021-08-18T22:38:59.707Z"
   },
   {
    "duration": 12,
    "start_time": "2021-08-18T22:38:59.731Z"
   },
   {
    "duration": 44,
    "start_time": "2021-08-18T22:38:59.745Z"
   },
   {
    "duration": 31,
    "start_time": "2021-08-18T22:38:59.792Z"
   },
   {
    "duration": 6,
    "start_time": "2021-08-18T22:38:59.825Z"
   },
   {
    "duration": 49,
    "start_time": "2021-08-18T22:38:59.834Z"
   },
   {
    "duration": 7,
    "start_time": "2021-08-18T22:38:59.886Z"
   },
   {
    "duration": 10,
    "start_time": "2021-08-18T22:38:59.896Z"
   },
   {
    "duration": 14,
    "start_time": "2021-08-18T22:38:59.909Z"
   },
   {
    "duration": 8,
    "start_time": "2021-08-18T22:38:59.925Z"
   },
   {
    "duration": 77,
    "start_time": "2021-08-18T22:38:59.936Z"
   },
   {
    "duration": 5,
    "start_time": "2021-08-18T22:39:00.015Z"
   },
   {
    "duration": 37,
    "start_time": "2021-08-18T22:39:00.022Z"
   },
   {
    "duration": 24,
    "start_time": "2021-08-18T22:39:00.062Z"
   },
   {
    "duration": 43,
    "start_time": "2021-08-18T22:39:00.090Z"
   },
   {
    "duration": 18,
    "start_time": "2021-08-18T22:39:00.137Z"
   },
   {
    "duration": 53,
    "start_time": "2021-08-18T22:39:00.157Z"
   },
   {
    "duration": 30,
    "start_time": "2021-08-18T22:39:00.213Z"
   },
   {
    "duration": 6,
    "start_time": "2021-08-18T22:39:00.245Z"
   },
   {
    "duration": 29,
    "start_time": "2021-08-18T22:39:00.253Z"
   },
   {
    "duration": 21,
    "start_time": "2021-08-18T22:39:00.285Z"
   },
   {
    "duration": 363,
    "start_time": "2021-08-18T22:39:00.308Z"
   },
   {
    "duration": 28,
    "start_time": "2021-08-18T22:39:00.673Z"
   },
   {
    "duration": 22,
    "start_time": "2021-08-18T22:39:00.704Z"
   },
   {
    "duration": 14,
    "start_time": "2021-08-18T22:39:00.729Z"
   },
   {
    "duration": 69,
    "start_time": "2021-08-18T22:39:00.746Z"
   },
   {
    "duration": 39,
    "start_time": "2021-08-18T22:39:00.818Z"
   },
   {
    "duration": 1460,
    "start_time": "2021-08-18T22:39:00.882Z"
   },
   {
    "duration": 1574,
    "start_time": "2021-08-18T22:39:02.344Z"
   },
   {
    "duration": 726,
    "start_time": "2021-08-18T22:39:03.920Z"
   },
   {
    "duration": 20,
    "start_time": "2021-08-18T22:39:04.648Z"
   },
   {
    "duration": 774,
    "start_time": "2021-08-18T22:39:04.683Z"
   },
   {
    "duration": 46,
    "start_time": "2021-08-18T22:39:05.459Z"
   },
   {
    "duration": 413,
    "start_time": "2021-08-18T22:39:05.507Z"
   },
   {
    "duration": 5,
    "start_time": "2021-08-18T22:39:05.922Z"
   },
   {
    "duration": 420,
    "start_time": "2021-08-18T22:39:05.929Z"
   },
   {
    "duration": 5,
    "start_time": "2021-08-18T22:39:06.351Z"
   },
   {
    "duration": 28,
    "start_time": "2021-08-18T22:39:06.359Z"
   },
   {
    "duration": 13,
    "start_time": "2021-08-18T22:39:06.390Z"
   },
   {
    "duration": 176,
    "start_time": "2021-08-18T22:39:06.406Z"
   },
   {
    "duration": 9,
    "start_time": "2021-08-18T22:39:06.586Z"
   },
   {
    "duration": 142,
    "start_time": "2021-08-18T22:39:06.606Z"
   },
   {
    "duration": 153,
    "start_time": "2021-08-18T22:39:06.752Z"
   },
   {
    "duration": 220,
    "start_time": "2021-08-18T22:39:06.907Z"
   },
   {
    "duration": 129,
    "start_time": "2021-08-18T22:39:07.129Z"
   },
   {
    "duration": 142,
    "start_time": "2021-08-18T22:39:07.260Z"
   },
   {
    "duration": 127,
    "start_time": "2021-08-18T22:39:07.405Z"
   },
   {
    "duration": 135,
    "start_time": "2021-08-18T22:39:07.534Z"
   },
   {
    "duration": 147,
    "start_time": "2021-08-18T22:39:07.683Z"
   },
   {
    "duration": 8,
    "start_time": "2021-08-18T22:39:07.832Z"
   },
   {
    "duration": 5,
    "start_time": "2021-08-18T22:39:07.842Z"
   },
   {
    "duration": 289,
    "start_time": "2021-08-18T22:39:07.849Z"
   },
   {
    "duration": 292,
    "start_time": "2021-08-18T22:39:08.141Z"
   },
   {
    "duration": 279,
    "start_time": "2021-08-18T22:39:08.435Z"
   },
   {
    "duration": 12,
    "start_time": "2021-08-18T22:39:08.716Z"
   },
   {
    "duration": 10,
    "start_time": "2021-08-18T22:39:08.731Z"
   },
   {
    "duration": 613,
    "start_time": "2021-08-18T22:39:08.744Z"
   },
   {
    "duration": -22,
    "start_time": "2021-08-18T22:39:09.381Z"
   },
   {
    "duration": -27,
    "start_time": "2021-08-18T22:39:09.387Z"
   },
   {
    "duration": -32,
    "start_time": "2021-08-18T22:39:09.394Z"
   },
   {
    "duration": -37,
    "start_time": "2021-08-18T22:39:09.400Z"
   },
   {
    "duration": -42,
    "start_time": "2021-08-18T22:39:09.407Z"
   },
   {
    "duration": 1517,
    "start_time": "2021-08-18T22:39:24.384Z"
   },
   {
    "duration": 61,
    "start_time": "2021-08-18T22:39:25.904Z"
   },
   {
    "duration": 26,
    "start_time": "2021-08-18T22:39:25.968Z"
   },
   {
    "duration": 19,
    "start_time": "2021-08-18T22:39:25.998Z"
   },
   {
    "duration": 11,
    "start_time": "2021-08-18T22:39:26.020Z"
   },
   {
    "duration": 13,
    "start_time": "2021-08-18T22:39:26.033Z"
   },
   {
    "duration": 18,
    "start_time": "2021-08-18T22:39:26.084Z"
   },
   {
    "duration": 10,
    "start_time": "2021-08-18T22:39:26.106Z"
   },
   {
    "duration": 8,
    "start_time": "2021-08-18T22:39:26.119Z"
   },
   {
    "duration": 10,
    "start_time": "2021-08-18T22:39:26.129Z"
   },
   {
    "duration": 13,
    "start_time": "2021-08-18T22:39:26.182Z"
   },
   {
    "duration": 11,
    "start_time": "2021-08-18T22:39:26.198Z"
   },
   {
    "duration": 7,
    "start_time": "2021-08-18T22:39:26.212Z"
   },
   {
    "duration": 10,
    "start_time": "2021-08-18T22:39:26.221Z"
   },
   {
    "duration": 53,
    "start_time": "2021-08-18T22:39:26.234Z"
   },
   {
    "duration": 16,
    "start_time": "2021-08-18T22:39:26.290Z"
   },
   {
    "duration": 18,
    "start_time": "2021-08-18T22:39:26.309Z"
   },
   {
    "duration": 11,
    "start_time": "2021-08-18T22:39:26.330Z"
   },
   {
    "duration": 21,
    "start_time": "2021-08-18T22:39:26.384Z"
   },
   {
    "duration": 12,
    "start_time": "2021-08-18T22:39:26.408Z"
   },
   {
    "duration": 12,
    "start_time": "2021-08-18T22:39:26.422Z"
   },
   {
    "duration": 55,
    "start_time": "2021-08-18T22:39:26.436Z"
   },
   {
    "duration": 8,
    "start_time": "2021-08-18T22:39:26.501Z"
   },
   {
    "duration": 18,
    "start_time": "2021-08-18T22:39:26.512Z"
   },
   {
    "duration": 7,
    "start_time": "2021-08-18T22:39:26.533Z"
   },
   {
    "duration": 28,
    "start_time": "2021-08-18T22:39:26.583Z"
   },
   {
    "duration": 12,
    "start_time": "2021-08-18T22:39:26.614Z"
   },
   {
    "duration": 7,
    "start_time": "2021-08-18T22:39:26.628Z"
   },
   {
    "duration": 66,
    "start_time": "2021-08-18T22:39:26.637Z"
   },
   {
    "duration": 9,
    "start_time": "2021-08-18T22:39:26.706Z"
   },
   {
    "duration": 7,
    "start_time": "2021-08-18T22:39:26.717Z"
   },
   {
    "duration": 6,
    "start_time": "2021-08-18T22:39:26.726Z"
   },
   {
    "duration": 53,
    "start_time": "2021-08-18T22:39:26.734Z"
   },
   {
    "duration": 14,
    "start_time": "2021-08-18T22:39:26.790Z"
   },
   {
    "duration": 7,
    "start_time": "2021-08-18T22:39:26.807Z"
   },
   {
    "duration": 29,
    "start_time": "2021-08-18T22:39:26.817Z"
   },
   {
    "duration": 7,
    "start_time": "2021-08-18T22:39:26.882Z"
   },
   {
    "duration": 34,
    "start_time": "2021-08-18T22:39:26.892Z"
   },
   {
    "duration": 6,
    "start_time": "2021-08-18T22:39:26.928Z"
   },
   {
    "duration": 56,
    "start_time": "2021-08-18T22:39:26.936Z"
   },
   {
    "duration": 17,
    "start_time": "2021-08-18T22:39:26.996Z"
   },
   {
    "duration": 25,
    "start_time": "2021-08-18T22:39:27.016Z"
   },
   {
    "duration": 58,
    "start_time": "2021-08-18T22:39:27.044Z"
   },
   {
    "duration": 6,
    "start_time": "2021-08-18T22:39:27.104Z"
   },
   {
    "duration": 8,
    "start_time": "2021-08-18T22:39:27.112Z"
   },
   {
    "duration": 17,
    "start_time": "2021-08-18T22:39:27.123Z"
   },
   {
    "duration": 359,
    "start_time": "2021-08-18T22:39:27.142Z"
   },
   {
    "duration": 16,
    "start_time": "2021-08-18T22:39:27.504Z"
   },
   {
    "duration": 21,
    "start_time": "2021-08-18T22:39:27.523Z"
   },
   {
    "duration": 40,
    "start_time": "2021-08-18T22:39:27.546Z"
   },
   {
    "duration": 35,
    "start_time": "2021-08-18T22:39:27.589Z"
   },
   {
    "duration": 73,
    "start_time": "2021-08-18T22:39:27.627Z"
   },
   {
    "duration": 1427,
    "start_time": "2021-08-18T22:39:27.702Z"
   },
   {
    "duration": 1505,
    "start_time": "2021-08-18T22:39:29.131Z"
   },
   {
    "duration": 725,
    "start_time": "2021-08-18T22:39:30.639Z"
   },
   {
    "duration": 34,
    "start_time": "2021-08-18T22:39:31.367Z"
   },
   {
    "duration": 788,
    "start_time": "2021-08-18T22:39:31.404Z"
   },
   {
    "duration": 34,
    "start_time": "2021-08-18T22:39:32.195Z"
   },
   {
    "duration": 477,
    "start_time": "2021-08-18T22:39:32.232Z"
   },
   {
    "duration": 5,
    "start_time": "2021-08-18T22:39:32.712Z"
   },
   {
    "duration": 418,
    "start_time": "2021-08-18T22:39:32.720Z"
   },
   {
    "duration": 6,
    "start_time": "2021-08-18T22:39:33.140Z"
   },
   {
    "duration": 21,
    "start_time": "2021-08-18T22:39:33.148Z"
   },
   {
    "duration": 14,
    "start_time": "2021-08-18T22:39:33.183Z"
   },
   {
    "duration": 177,
    "start_time": "2021-08-18T22:39:33.200Z"
   },
   {
    "duration": 4,
    "start_time": "2021-08-18T22:39:33.383Z"
   },
   {
    "duration": 143,
    "start_time": "2021-08-18T22:39:33.390Z"
   },
   {
    "duration": 125,
    "start_time": "2021-08-18T22:39:33.540Z"
   },
   {
    "duration": 258,
    "start_time": "2021-08-18T22:39:33.668Z"
   },
   {
    "duration": 132,
    "start_time": "2021-08-18T22:39:33.929Z"
   },
   {
    "duration": 132,
    "start_time": "2021-08-18T22:39:34.063Z"
   },
   {
    "duration": 135,
    "start_time": "2021-08-18T22:39:34.198Z"
   },
   {
    "duration": 146,
    "start_time": "2021-08-18T22:39:34.336Z"
   },
   {
    "duration": 147,
    "start_time": "2021-08-18T22:39:34.485Z"
   },
   {
    "duration": 8,
    "start_time": "2021-08-18T22:39:34.634Z"
   },
   {
    "duration": 5,
    "start_time": "2021-08-18T22:39:34.644Z"
   },
   {
    "duration": 276,
    "start_time": "2021-08-18T22:39:34.652Z"
   },
   {
    "duration": 289,
    "start_time": "2021-08-18T22:39:34.930Z"
   },
   {
    "duration": 297,
    "start_time": "2021-08-18T22:39:35.222Z"
   },
   {
    "duration": 12,
    "start_time": "2021-08-18T22:39:35.521Z"
   },
   {
    "duration": 9,
    "start_time": "2021-08-18T22:39:35.535Z"
   },
   {
    "duration": 10,
    "start_time": "2021-08-18T22:39:35.546Z"
   },
   {
    "duration": 9,
    "start_time": "2021-08-18T22:39:35.583Z"
   },
   {
    "duration": 15,
    "start_time": "2021-08-18T22:39:35.596Z"
   },
   {
    "duration": 7,
    "start_time": "2021-08-18T22:39:35.614Z"
   },
   {
    "duration": 8,
    "start_time": "2021-08-18T22:39:35.623Z"
   },
   {
    "duration": 61,
    "start_time": "2021-08-18T22:39:35.634Z"
   },
   {
    "duration": 1499,
    "start_time": "2021-08-18T22:40:38.332Z"
   },
   {
    "duration": 68,
    "start_time": "2021-08-18T22:40:39.834Z"
   },
   {
    "duration": 14,
    "start_time": "2021-08-18T22:40:39.905Z"
   },
   {
    "duration": 20,
    "start_time": "2021-08-18T22:40:39.922Z"
   },
   {
    "duration": 45,
    "start_time": "2021-08-18T22:40:39.944Z"
   },
   {
    "duration": 12,
    "start_time": "2021-08-18T22:40:39.992Z"
   },
   {
    "duration": 11,
    "start_time": "2021-08-18T22:40:40.007Z"
   },
   {
    "duration": 61,
    "start_time": "2021-08-18T22:40:40.023Z"
   },
   {
    "duration": 9,
    "start_time": "2021-08-18T22:40:40.087Z"
   },
   {
    "duration": 17,
    "start_time": "2021-08-18T22:40:40.098Z"
   },
   {
    "duration": 8,
    "start_time": "2021-08-18T22:40:40.118Z"
   },
   {
    "duration": 13,
    "start_time": "2021-08-18T22:40:40.128Z"
   },
   {
    "duration": 8,
    "start_time": "2021-08-18T22:40:40.184Z"
   },
   {
    "duration": 12,
    "start_time": "2021-08-18T22:40:40.194Z"
   },
   {
    "duration": 8,
    "start_time": "2021-08-18T22:40:40.208Z"
   },
   {
    "duration": 16,
    "start_time": "2021-08-18T22:40:40.218Z"
   },
   {
    "duration": 51,
    "start_time": "2021-08-18T22:40:40.237Z"
   },
   {
    "duration": 12,
    "start_time": "2021-08-18T22:40:40.291Z"
   },
   {
    "duration": 17,
    "start_time": "2021-08-18T22:40:40.306Z"
   },
   {
    "duration": 12,
    "start_time": "2021-08-18T22:40:40.326Z"
   },
   {
    "duration": 12,
    "start_time": "2021-08-18T22:40:40.382Z"
   },
   {
    "duration": 14,
    "start_time": "2021-08-18T22:40:40.396Z"
   },
   {
    "duration": 7,
    "start_time": "2021-08-18T22:40:40.417Z"
   },
   {
    "duration": 21,
    "start_time": "2021-08-18T22:40:40.428Z"
   },
   {
    "duration": 8,
    "start_time": "2021-08-18T22:40:40.483Z"
   },
   {
    "duration": 28,
    "start_time": "2021-08-18T22:40:40.494Z"
   },
   {
    "duration": 11,
    "start_time": "2021-08-18T22:40:40.525Z"
   },
   {
    "duration": 8,
    "start_time": "2021-08-18T22:40:40.539Z"
   },
   {
    "duration": 75,
    "start_time": "2021-08-18T22:40:40.551Z"
   },
   {
    "duration": 9,
    "start_time": "2021-08-18T22:40:40.629Z"
   },
   {
    "duration": 42,
    "start_time": "2021-08-18T22:40:40.641Z"
   },
   {
    "duration": 6,
    "start_time": "2021-08-18T22:40:40.685Z"
   },
   {
    "duration": 11,
    "start_time": "2021-08-18T22:40:40.693Z"
   },
   {
    "duration": 12,
    "start_time": "2021-08-18T22:40:40.706Z"
   },
   {
    "duration": 9,
    "start_time": "2021-08-18T22:40:40.721Z"
   },
   {
    "duration": 73,
    "start_time": "2021-08-18T22:40:40.732Z"
   },
   {
    "duration": 4,
    "start_time": "2021-08-18T22:40:40.807Z"
   },
   {
    "duration": 32,
    "start_time": "2021-08-18T22:40:40.814Z"
   },
   {
    "duration": 35,
    "start_time": "2021-08-18T22:40:40.848Z"
   },
   {
    "duration": 36,
    "start_time": "2021-08-18T22:40:40.886Z"
   },
   {
    "duration": 16,
    "start_time": "2021-08-18T22:40:40.924Z"
   },
   {
    "duration": 64,
    "start_time": "2021-08-18T22:40:40.942Z"
   },
   {
    "duration": 31,
    "start_time": "2021-08-18T22:40:41.009Z"
   },
   {
    "duration": 6,
    "start_time": "2021-08-18T22:40:41.043Z"
   },
   {
    "duration": 36,
    "start_time": "2021-08-18T22:40:41.052Z"
   },
   {
    "duration": 24,
    "start_time": "2021-08-18T22:40:41.092Z"
   },
   {
    "duration": 517,
    "start_time": "2021-08-18T22:40:41.119Z"
   },
   {
    "duration": 26,
    "start_time": "2021-08-18T22:40:41.640Z"
   },
   {
    "duration": 23,
    "start_time": "2021-08-18T22:40:41.683Z"
   },
   {
    "duration": 21,
    "start_time": "2021-08-18T22:40:41.709Z"
   },
   {
    "duration": 55,
    "start_time": "2021-08-18T22:40:41.733Z"
   },
   {
    "duration": 41,
    "start_time": "2021-08-18T22:40:41.790Z"
   },
   {
    "duration": 1349,
    "start_time": "2021-08-18T22:40:41.833Z"
   },
   {
    "duration": 1410,
    "start_time": "2021-08-18T22:40:43.184Z"
   },
   {
    "duration": 712,
    "start_time": "2021-08-18T22:40:44.596Z"
   },
   {
    "duration": 21,
    "start_time": "2021-08-18T22:40:45.311Z"
   },
   {
    "duration": 766,
    "start_time": "2021-08-18T22:40:45.335Z"
   },
   {
    "duration": 33,
    "start_time": "2021-08-18T22:40:46.103Z"
   },
   {
    "duration": 478,
    "start_time": "2021-08-18T22:40:46.138Z"
   },
   {
    "duration": 6,
    "start_time": "2021-08-18T22:40:46.618Z"
   },
   {
    "duration": 455,
    "start_time": "2021-08-18T22:40:46.627Z"
   },
   {
    "duration": 7,
    "start_time": "2021-08-18T22:40:47.084Z"
   },
   {
    "duration": 19,
    "start_time": "2021-08-18T22:40:47.094Z"
   },
   {
    "duration": 10,
    "start_time": "2021-08-18T22:40:47.116Z"
   },
   {
    "duration": 184,
    "start_time": "2021-08-18T22:40:47.129Z"
   },
   {
    "duration": 4,
    "start_time": "2021-08-18T22:40:47.315Z"
   },
   {
    "duration": 138,
    "start_time": "2021-08-18T22:40:47.322Z"
   },
   {
    "duration": 140,
    "start_time": "2021-08-18T22:40:47.467Z"
   },
   {
    "duration": 229,
    "start_time": "2021-08-18T22:40:47.610Z"
   },
   {
    "duration": 122,
    "start_time": "2021-08-18T22:40:47.841Z"
   },
   {
    "duration": 208,
    "start_time": "2021-08-18T22:40:47.966Z"
   },
   {
    "duration": 134,
    "start_time": "2021-08-18T22:40:48.177Z"
   },
   {
    "duration": 136,
    "start_time": "2021-08-18T22:40:48.314Z"
   },
   {
    "duration": 144,
    "start_time": "2021-08-18T22:40:48.453Z"
   },
   {
    "duration": 10,
    "start_time": "2021-08-18T22:40:48.600Z"
   },
   {
    "duration": 5,
    "start_time": "2021-08-18T22:40:48.612Z"
   },
   {
    "duration": 283,
    "start_time": "2021-08-18T22:40:48.620Z"
   },
   {
    "duration": 279,
    "start_time": "2021-08-18T22:40:48.906Z"
   },
   {
    "duration": 265,
    "start_time": "2021-08-18T22:40:49.187Z"
   },
   {
    "duration": 12,
    "start_time": "2021-08-18T22:40:49.455Z"
   },
   {
    "duration": 17,
    "start_time": "2021-08-18T22:40:49.470Z"
   },
   {
    "duration": 11,
    "start_time": "2021-08-18T22:40:49.489Z"
   },
   {
    "duration": 14,
    "start_time": "2021-08-18T22:40:49.503Z"
   },
   {
    "duration": 13,
    "start_time": "2021-08-18T22:40:49.519Z"
   },
   {
    "duration": 7,
    "start_time": "2021-08-18T22:40:49.534Z"
   },
   {
    "duration": 9,
    "start_time": "2021-08-18T22:40:49.582Z"
   },
   {
    "duration": 8,
    "start_time": "2021-08-18T22:40:49.593Z"
   },
   {
    "duration": 58,
    "start_time": "2021-08-19T06:40:21.560Z"
   },
   {
    "duration": 64,
    "start_time": "2021-08-19T06:48:41.887Z"
   }
  ],
  "kernelspec": {
   "display_name": "Python 3",
   "language": "python",
   "name": "python3"
  },
  "language_info": {
   "codemirror_mode": {
    "name": "ipython",
    "version": 3
   },
   "file_extension": ".py",
   "mimetype": "text/x-python",
   "name": "python",
   "nbconvert_exporter": "python",
   "pygments_lexer": "ipython3",
   "version": "3.8.10"
  },
  "toc": {
   "base_numbering": 1,
   "nav_menu": {},
   "number_sections": true,
   "sideBar": true,
   "skip_h1_title": true,
   "title_cell": "Table of Contents",
   "title_sidebar": "Contents",
   "toc_cell": false,
   "toc_position": {},
   "toc_section_display": true,
   "toc_window_display": false
  }
 },
 "nbformat": 4,
 "nbformat_minor": 2
}
