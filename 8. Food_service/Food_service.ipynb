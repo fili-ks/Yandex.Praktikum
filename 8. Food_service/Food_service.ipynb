{
 "cells": [
  {
   "cell_type": "markdown",
   "metadata": {},
   "source": [
    "# Исследование рынка заведений общественного питания в Москве"
   ]
  },
  {
   "cell_type": "markdown",
   "metadata": {},
   "source": [
    "## Описание проекта"
   ]
  },
  {
   "cell_type": "markdown",
   "metadata": {},
   "source": [
    "Необходимо исследовать рынок заведений общественного питания в Москве для открытия нового кафе. Оно оригинальное — гостей должны обслуживать роботы. Проект многообещающий, но дорогой. Инвесторов интересует текущее положение дел на рынке. \n",
    "У нас есть открытые данные о заведениях общественного питания в Москве.\n"
   ]
  },
  {
   "cell_type": "markdown",
   "metadata": {},
   "source": [
    "### Предобработка данных"
   ]
  },
  {
   "cell_type": "code",
   "execution_count": 1,
   "metadata": {},
   "outputs": [],
   "source": [
    "import pandas as pd\n",
    "import matplotlib.pyplot as plt \n",
    "import seaborn as sns\n",
    "from scipy import stats as st\n",
    "import numpy as np\n",
    "import re"
   ]
  },
  {
   "cell_type": "code",
   "execution_count": 2,
   "metadata": {},
   "outputs": [],
   "source": [
    "rest_data = pd.read_csv('/datasets/rest_data.csv')"
   ]
  },
  {
   "cell_type": "code",
   "execution_count": 3,
   "metadata": {},
   "outputs": [
    {
     "data": {
      "text/html": [
       "<div>\n",
       "<style scoped>\n",
       "    .dataframe tbody tr th:only-of-type {\n",
       "        vertical-align: middle;\n",
       "    }\n",
       "\n",
       "    .dataframe tbody tr th {\n",
       "        vertical-align: top;\n",
       "    }\n",
       "\n",
       "    .dataframe thead th {\n",
       "        text-align: right;\n",
       "    }\n",
       "</style>\n",
       "<table border=\"1\" class=\"dataframe\">\n",
       "  <thead>\n",
       "    <tr style=\"text-align: right;\">\n",
       "      <th></th>\n",
       "      <th>id</th>\n",
       "      <th>object_name</th>\n",
       "      <th>chain</th>\n",
       "      <th>object_type</th>\n",
       "      <th>address</th>\n",
       "      <th>number</th>\n",
       "    </tr>\n",
       "  </thead>\n",
       "  <tbody>\n",
       "    <tr>\n",
       "      <td>0</td>\n",
       "      <td>151635</td>\n",
       "      <td>СМЕТАНА</td>\n",
       "      <td>нет</td>\n",
       "      <td>кафе</td>\n",
       "      <td>город Москва, улица Егора Абакумова, дом 9</td>\n",
       "      <td>48</td>\n",
       "    </tr>\n",
       "    <tr>\n",
       "      <td>1</td>\n",
       "      <td>77874</td>\n",
       "      <td>Родник</td>\n",
       "      <td>нет</td>\n",
       "      <td>кафе</td>\n",
       "      <td>город Москва, улица Талалихина, дом 2/1, корпус 1</td>\n",
       "      <td>35</td>\n",
       "    </tr>\n",
       "    <tr>\n",
       "      <td>2</td>\n",
       "      <td>24309</td>\n",
       "      <td>Кафе «Академия»</td>\n",
       "      <td>нет</td>\n",
       "      <td>кафе</td>\n",
       "      <td>город Москва, Абельмановская улица, дом 6</td>\n",
       "      <td>95</td>\n",
       "    </tr>\n",
       "    <tr>\n",
       "      <td>3</td>\n",
       "      <td>21894</td>\n",
       "      <td>ПИЦЦЕТОРИЯ</td>\n",
       "      <td>да</td>\n",
       "      <td>кафе</td>\n",
       "      <td>город Москва, Абрамцевская улица, дом 1</td>\n",
       "      <td>40</td>\n",
       "    </tr>\n",
       "    <tr>\n",
       "      <td>4</td>\n",
       "      <td>119365</td>\n",
       "      <td>Кафе «Вишневая метель»</td>\n",
       "      <td>нет</td>\n",
       "      <td>кафе</td>\n",
       "      <td>город Москва, Абрамцевская улица, дом 9, корпус 1</td>\n",
       "      <td>50</td>\n",
       "    </tr>\n",
       "  </tbody>\n",
       "</table>\n",
       "</div>"
      ],
      "text/plain": [
       "       id             object_name chain object_type  \\\n",
       "0  151635                 СМЕТАНА   нет        кафе   \n",
       "1   77874                  Родник   нет        кафе   \n",
       "2   24309         Кафе «Академия»   нет        кафе   \n",
       "3   21894              ПИЦЦЕТОРИЯ    да        кафе   \n",
       "4  119365  Кафе «Вишневая метель»   нет        кафе   \n",
       "\n",
       "                                             address  number  \n",
       "0         город Москва, улица Егора Абакумова, дом 9      48  \n",
       "1  город Москва, улица Талалихина, дом 2/1, корпус 1      35  \n",
       "2          город Москва, Абельмановская улица, дом 6      95  \n",
       "3            город Москва, Абрамцевская улица, дом 1      40  \n",
       "4  город Москва, Абрамцевская улица, дом 9, корпус 1      50  "
      ]
     },
     "execution_count": 3,
     "metadata": {},
     "output_type": "execute_result"
    }
   ],
   "source": [
    "rest_data.head()"
   ]
  },
  {
   "cell_type": "markdown",
   "metadata": {},
   "source": [
    "В датафрейме rest_data содержится информация о заведениях общественного питания Москвы:\n",
    "- id — идентификатор объекта;\n",
    "- object_name — название объекта общественного питания;\n",
    "- chain — сетевой ресторан;\n",
    "- object_type — тип объекта общественного питания;\n",
    "- address — адрес;\n",
    "- number — количество посадочных мест."
   ]
  },
  {
   "cell_type": "code",
   "execution_count": 4,
   "metadata": {
    "scrolled": false
   },
   "outputs": [
    {
     "name": "stdout",
     "output_type": "stream",
     "text": [
      "<class 'pandas.core.frame.DataFrame'>\n",
      "RangeIndex: 15366 entries, 0 to 15365\n",
      "Data columns (total 6 columns):\n",
      "id             15366 non-null int64\n",
      "object_name    15366 non-null object\n",
      "chain          15366 non-null object\n",
      "object_type    15366 non-null object\n",
      "address        15366 non-null object\n",
      "number         15366 non-null int64\n",
      "dtypes: int64(2), object(4)\n",
      "memory usage: 720.4+ KB\n"
     ]
    }
   ],
   "source": [
    "rest_data.info()"
   ]
  },
  {
   "cell_type": "markdown",
   "metadata": {},
   "source": [
    "Для удобства приведем данные в датафрейме к единому регистру:"
   ]
  },
  {
   "cell_type": "code",
   "execution_count": 5,
   "metadata": {},
   "outputs": [],
   "source": [
    "rest_data['object_name'] = rest_data['object_name'].str.lower()\n",
    "rest_data['address'] = rest_data['address'].str.lower()"
   ]
  },
  {
   "cell_type": "markdown",
   "metadata": {},
   "source": [
    "Проверим данные на дубликаты. Дубликатами будем считать строки, где повторяются данные во всех столбцах, кроме id:"
   ]
  },
  {
   "cell_type": "code",
   "execution_count": 6,
   "metadata": {},
   "outputs": [
    {
     "data": {
      "text/plain": [
       "85"
      ]
     },
     "execution_count": 6,
     "metadata": {},
     "output_type": "execute_result"
    }
   ],
   "source": [
    "rest_data[['object_name', 'chain', 'object_type', 'address', 'number']].duplicated().sum()"
   ]
  },
  {
   "cell_type": "markdown",
   "metadata": {},
   "source": [
    "Всего таких нашлось 85. Избавимся от этих дубликатов:"
   ]
  },
  {
   "cell_type": "code",
   "execution_count": 7,
   "metadata": {},
   "outputs": [
    {
     "data": {
      "text/plain": [
       "0"
      ]
     },
     "execution_count": 7,
     "metadata": {},
     "output_type": "execute_result"
    }
   ],
   "source": [
    "rest_data = rest_data.drop_duplicates(['object_name', 'chain', 'object_type', 'address', 'number'])\n",
    "rest_data[['object_name', 'chain', 'object_type', 'address', 'number']].duplicated().sum()"
   ]
  },
  {
   "cell_type": "markdown",
   "metadata": {},
   "source": [
    "От дубликатов избавились. Посмотрим на данные:\n",
    "    "
   ]
  },
  {
   "cell_type": "code",
   "execution_count": 8,
   "metadata": {},
   "outputs": [
    {
     "data": {
      "text/plain": [
       "chain\n",
       "да      2964\n",
       "нет    12317\n",
       "Name: id, dtype: int64"
      ]
     },
     "execution_count": 8,
     "metadata": {},
     "output_type": "execute_result"
    }
   ],
   "source": [
    "rest_data.groupby('chain')['id'].count()"
   ]
  },
  {
   "cell_type": "markdown",
   "metadata": {},
   "source": [
    "Несетевых заведений в несколько раз больше: сетевых 2964, несетевых 12317."
   ]
  },
  {
   "cell_type": "code",
   "execution_count": 9,
   "metadata": {
    "scrolled": false
   },
   "outputs": [
    {
     "data": {
      "text/plain": [
       "count    15281.000000\n",
       "mean        59.788234\n",
       "std         74.843042\n",
       "min          0.000000\n",
       "25%         14.000000\n",
       "50%         40.000000\n",
       "75%         80.000000\n",
       "max       1700.000000\n",
       "Name: number, dtype: float64"
      ]
     },
     "execution_count": 9,
     "metadata": {},
     "output_type": "execute_result"
    }
   ],
   "source": [
    "rest_data['number'].describe()"
   ]
  },
  {
   "cell_type": "code",
   "execution_count": 10,
   "metadata": {},
   "outputs": [
    {
     "data": {
      "text/html": [
       "<div>\n",
       "<style scoped>\n",
       "    .dataframe tbody tr th:only-of-type {\n",
       "        vertical-align: middle;\n",
       "    }\n",
       "\n",
       "    .dataframe tbody tr th {\n",
       "        vertical-align: top;\n",
       "    }\n",
       "\n",
       "    .dataframe thead th {\n",
       "        text-align: right;\n",
       "    }\n",
       "</style>\n",
       "<table border=\"1\" class=\"dataframe\">\n",
       "  <thead>\n",
       "    <tr style=\"text-align: right;\">\n",
       "      <th></th>\n",
       "      <th>id</th>\n",
       "      <th>object_name</th>\n",
       "      <th>chain</th>\n",
       "      <th>object_type</th>\n",
       "      <th>address</th>\n",
       "      <th>number</th>\n",
       "    </tr>\n",
       "  </thead>\n",
       "  <tbody>\n",
       "    <tr>\n",
       "      <td>12723</td>\n",
       "      <td>199696</td>\n",
       "      <td>arena by soho family</td>\n",
       "      <td>нет</td>\n",
       "      <td>бар</td>\n",
       "      <td>город москва, кутузовский проспект, дом 36, ст...</td>\n",
       "      <td>1700</td>\n",
       "    </tr>\n",
       "    <tr>\n",
       "      <td>8148</td>\n",
       "      <td>80291</td>\n",
       "      <td>банкетный зал шелк</td>\n",
       "      <td>нет</td>\n",
       "      <td>ресторан</td>\n",
       "      <td>город москва, большой саввинский переулок, дом...</td>\n",
       "      <td>1500</td>\n",
       "    </tr>\n",
       "    <tr>\n",
       "      <td>8345</td>\n",
       "      <td>27750</td>\n",
       "      <td>столовая-буфет</td>\n",
       "      <td>нет</td>\n",
       "      <td>столовая</td>\n",
       "      <td>город москва, улица волхонка, дом 15</td>\n",
       "      <td>1400</td>\n",
       "    </tr>\n",
       "    <tr>\n",
       "      <td>9064</td>\n",
       "      <td>19719</td>\n",
       "      <td>комбинат питания «управление академсервис»</td>\n",
       "      <td>нет</td>\n",
       "      <td>столовая</td>\n",
       "      <td>город москва, проспект вернадского, дом 84, ст...</td>\n",
       "      <td>1288</td>\n",
       "    </tr>\n",
       "    <tr>\n",
       "      <td>4480</td>\n",
       "      <td>27024</td>\n",
       "      <td>рум сервис</td>\n",
       "      <td>нет</td>\n",
       "      <td>ресторан</td>\n",
       "      <td>город москва, кутузовский проспект, дом 2/1, с...</td>\n",
       "      <td>1200</td>\n",
       "    </tr>\n",
       "  </tbody>\n",
       "</table>\n",
       "</div>"
      ],
      "text/plain": [
       "           id                                 object_name chain object_type  \\\n",
       "12723  199696                        arena by soho family   нет         бар   \n",
       "8148    80291                          банкетный зал шелк   нет    ресторан   \n",
       "8345    27750                              столовая-буфет   нет    столовая   \n",
       "9064    19719  комбинат питания «управление академсервис»   нет    столовая   \n",
       "4480    27024                                  рум сервис   нет    ресторан   \n",
       "\n",
       "                                                 address  number  \n",
       "12723  город москва, кутузовский проспект, дом 36, ст...    1700  \n",
       "8148   город москва, большой саввинский переулок, дом...    1500  \n",
       "8345                город москва, улица волхонка, дом 15    1400  \n",
       "9064   город москва, проспект вернадского, дом 84, ст...    1288  \n",
       "4480   город москва, кутузовский проспект, дом 2/1, с...    1200  "
      ]
     },
     "execution_count": 10,
     "metadata": {},
     "output_type": "execute_result"
    }
   ],
   "source": [
    "rest_data.sort_values(by = 'number', ascending = False).head()"
   ]
  },
  {
   "cell_type": "markdown",
   "metadata": {},
   "source": [
    "Самое большое место вмещает в себя 1700 посадочных мест, а в среднем - 59."
   ]
  },
  {
   "cell_type": "code",
   "execution_count": 11,
   "metadata": {
    "scrolled": false
   },
   "outputs": [
    {
     "data": {
      "text/plain": [
       "object_type\n",
       "кафе                                 6071\n",
       "столовая                             2584\n",
       "ресторан                             2282\n",
       "предприятие быстрого обслуживания    1897\n",
       "бар                                   855\n",
       "буфет                                 576\n",
       "кафетерий                             395\n",
       "закусочная                            348\n",
       "магазин (отдел кулинарии)             273\n",
       "Name: id, dtype: int64"
      ]
     },
     "execution_count": 11,
     "metadata": {},
     "output_type": "execute_result"
    }
   ],
   "source": [
    "rest_data.groupby('object_type')['id'].count().sort_values(ascending = False)"
   ]
  },
  {
   "cell_type": "markdown",
   "metadata": {},
   "source": [
    "Больше всего - кафе. Их тут 6071. На последнем месте по количеству заведений - отдел кулинарии в магазине - 273."
   ]
  },
  {
   "cell_type": "code",
   "execution_count": 12,
   "metadata": {},
   "outputs": [
    {
     "data": {
      "text/plain": [
       "object_name\n",
       "шоколадница    157\n",
       "kfc            155\n",
       "макдоналдс     150\n",
       "бургер кинг    137\n",
       "теремок         94\n",
       "Name: id, dtype: int64"
      ]
     },
     "execution_count": 12,
     "metadata": {},
     "output_type": "execute_result"
    }
   ],
   "source": [
    "rest_data[rest_data['chain'] == 'да'].groupby('object_name')['id'].count().sort_values(ascending = False).head(5)"
   ]
  },
  {
   "cell_type": "markdown",
   "metadata": {},
   "source": [
    "Из сетевых заведений больше всего точек у Шоколадницы. Также в топе с небольшим отрывом KFC, Макдоналдс, Бургер Кинг и замыкает пятерку лидеров Теремок."
   ]
  },
  {
   "cell_type": "markdown",
   "metadata": {},
   "source": [
    "#### Вывод"
   ]
  },
  {
   "cell_type": "markdown",
   "metadata": {},
   "source": [
    "Провели предварительный анализ данных: \n",
    "- На первом месте по количеству заведений - Шоколадница, также в топ-5 входят KFC, Макдоналдс, Бургер Кинг и замыкает пятерку лидеров Теремок.\n",
    "- По типу заведений на первом месте - кафе, в тройке лидеров также столовые и рестораны. На последнем месте - отделы кулинарии в магазине \n",
    "- Несетевых заведений гораздо меньше, чем сетевых: 12317 и 2964 соответственно \n",
    "- В среднем в заведениях около 59 посадочных мест. Максимальное количество - 1700 - в баре Arena by soho family."
   ]
  },
  {
   "cell_type": "markdown",
   "metadata": {},
   "source": [
    "### Анализ данных"
   ]
  },
  {
   "cell_type": "code",
   "execution_count": 13,
   "metadata": {},
   "outputs": [],
   "source": [
    "def pie_chart(df, column, column_name, aggfunc, title):\n",
    "    df.groupby(column).agg({column_name : aggfunc}).plot(kind = 'pie'\n",
    "                                                              , y = 'id'\n",
    "                                                              , figsize = (8, 10)\n",
    "                                                              , autopct='%1.1f%%'\n",
    "                                                              , legend = None\n",
    "                                                              )\n",
    "    plt.title(title)\n",
    "    plt.ylabel(None);"
   ]
  },
  {
   "cell_type": "markdown",
   "metadata": {},
   "source": [
    "#### Исследуйте соотношение видов объектов общественного питания по количеству. Постройте график."
   ]
  },
  {
   "cell_type": "code",
   "execution_count": 14,
   "metadata": {
    "scrolled": false
   },
   "outputs": [
    {
     "data": {
      "text/plain": [
       "object_type\n",
       "кафе                                 6071\n",
       "столовая                             2584\n",
       "ресторан                             2282\n",
       "предприятие быстрого обслуживания    1897\n",
       "бар                                   855\n",
       "буфет                                 576\n",
       "кафетерий                             395\n",
       "закусочная                            348\n",
       "магазин (отдел кулинарии)             273\n",
       "Name: id, dtype: int64"
      ]
     },
     "execution_count": 14,
     "metadata": {},
     "output_type": "execute_result"
    },
    {
     "data": {
      "image/png": "[encoded data removed]",
      "text/plain": [
       "<Figure size 576x720 with 1 Axes>"
      ]
     },
     "metadata": {},
     "output_type": "display_data"
    }
   ],
   "source": [
    "pie_chart(rest_data, 'object_type', 'id', 'count','Cоотношение видов объектов общественного питания' )\n",
    "rest_data.groupby('object_type')['id'].count().sort_values(ascending = False)"
   ]
  },
  {
   "cell_type": "code",
   "execution_count": 15,
   "metadata": {
    "scrolled": false
   },
   "outputs": [
    {
     "data": {
      "image/png": "[encoded data removed]",
      "text/plain": [
       "<Figure size 432x288 with 1 Axes>"
      ]
     },
     "metadata": {
      "needs_background": "light"
     },
     "output_type": "display_data"
    }
   ],
   "source": [
    "sns.countplot(y = \"object_type\",  data = rest_data, orient = 'h', color = 'blue');"
   ]
  },
  {
   "cell_type": "markdown",
   "metadata": {},
   "source": [
    "С большим отрывом по количеству идут кафе - их 6071, что составляет 39.7%. Практически наравне - столовые (2584, 16.9%) и рестораны (2282, 14.9%). <br>\n",
    "На последнем месте - отдел кулинарии в магазине (273, 1.8%)."
   ]
  },
  {
   "cell_type": "markdown",
   "metadata": {},
   "source": [
    "#### Исследуйте соотношение сетевых и несетевых заведений по количеству. Постройте график."
   ]
  },
  {
   "cell_type": "code",
   "execution_count": 16,
   "metadata": {},
   "outputs": [
    {
     "data": {
      "text/html": [
       "<div>\n",
       "<style scoped>\n",
       "    .dataframe tbody tr th:only-of-type {\n",
       "        vertical-align: middle;\n",
       "    }\n",
       "\n",
       "    .dataframe tbody tr th {\n",
       "        vertical-align: top;\n",
       "    }\n",
       "\n",
       "    .dataframe thead th {\n",
       "        text-align: right;\n",
       "    }\n",
       "</style>\n",
       "<table border=\"1\" class=\"dataframe\">\n",
       "  <thead>\n",
       "    <tr style=\"text-align: right;\">\n",
       "      <th></th>\n",
       "      <th>id</th>\n",
       "    </tr>\n",
       "    <tr>\n",
       "      <th>chain</th>\n",
       "      <th></th>\n",
       "    </tr>\n",
       "  </thead>\n",
       "  <tbody>\n",
       "    <tr>\n",
       "      <td>да</td>\n",
       "      <td>2964</td>\n",
       "    </tr>\n",
       "    <tr>\n",
       "      <td>нет</td>\n",
       "      <td>12317</td>\n",
       "    </tr>\n",
       "  </tbody>\n",
       "</table>\n",
       "</div>"
      ],
      "text/plain": [
       "          id\n",
       "chain       \n",
       "да      2964\n",
       "нет    12317"
      ]
     },
     "execution_count": 16,
     "metadata": {},
     "output_type": "execute_result"
    },
    {
     "data": {
      "image/png": "[encoded data removed]",
      "text/plain": [
       "<Figure size 576x720 with 1 Axes>"
      ]
     },
     "metadata": {},
     "output_type": "display_data"
    }
   ],
   "source": [
    "pie_chart(rest_data, 'chain', 'id', 'nunique', 'Соотношение сетевых и несетевых заведений')\n",
    "rest_data.groupby('chain').agg({'id' : 'nunique'})"
   ]
  },
  {
   "cell_type": "code",
   "execution_count": 17,
   "metadata": {},
   "outputs": [
    {
     "data": {
      "image/png": "[encoded data removed]",
      "text/plain": [
       "<Figure size 432x288 with 1 Axes>"
      ]
     },
     "metadata": {
      "needs_background": "light"
     },
     "output_type": "display_data"
    }
   ],
   "source": [
    "sns.countplot(x = \"chain\",  data = rest_data, color = 'blue');"
   ]
  },
  {
   "cell_type": "markdown",
   "metadata": {},
   "source": [
    "Как видим, несетевых  заведений гораздо больше: <br>\n",
    "    Несетевых заведений 12317, что составляет 80.6% от общего числа заведений общественного питания. "
   ]
  },
  {
   "cell_type": "markdown",
   "metadata": {},
   "source": [
    "#### Для какого вида объекта общественного питания характерно сетевое распространение?"
   ]
  },
  {
   "cell_type": "markdown",
   "metadata": {},
   "source": [
    "Выделим информацию о сетевым заведениях в отдельный датафрейм:"
   ]
  },
  {
   "cell_type": "code",
   "execution_count": 18,
   "metadata": {},
   "outputs": [],
   "source": [
    "chain_yes =  rest_data[rest_data['chain'] == 'да'].reset_index()"
   ]
  },
  {
   "cell_type": "code",
   "execution_count": 19,
   "metadata": {
    "scrolled": false
   },
   "outputs": [
    {
     "data": {
      "text/plain": [
       "object_type\n",
       "кафе                                 1396\n",
       "предприятие быстрого обслуживания     788\n",
       "ресторан                              543\n",
       "магазин (отдел кулинарии)              78\n",
       "закусочная                             56\n",
       "кафетерий                              52\n",
       "бар                                    37\n",
       "буфет                                  11\n",
       "столовая                                3\n",
       "Name: id, dtype: int64"
      ]
     },
     "execution_count": 19,
     "metadata": {},
     "output_type": "execute_result"
    }
   ],
   "source": [
    "chain_yes.groupby('object_type')['id'].count().sort_values(ascending = False)"
   ]
  },
  {
   "cell_type": "code",
   "execution_count": 20,
   "metadata": {
    "scrolled": true
   },
   "outputs": [
    {
     "data": {
      "image/png": "[encoded data removed]",
      "text/plain": [
       "<Figure size 576x720 with 1 Axes>"
      ]
     },
     "metadata": {},
     "output_type": "display_data"
    }
   ],
   "source": [
    "pie_chart(chain_yes, 'object_type', 'id', 'count', 'Распределение типов объектов среди сетевых заведений общественного питания')"
   ]
  },
  {
   "cell_type": "markdown",
   "metadata": {},
   "source": [
    "Среди сетевых заведений больше всего кафе - 1396 (47.1%), предприятий быстрого обслуживания (788, 26.6%) и ресторанов (543, 18.3%)\n"
   ]
  },
  {
   "cell_type": "markdown",
   "metadata": {},
   "source": [
    "Посмотрим, какие типы объектов чаще остальных становятся сетевыми: "
   ]
  },
  {
   "cell_type": "code",
   "execution_count": 21,
   "metadata": {},
   "outputs": [
    {
     "data": {
      "text/html": [
       "<div>\n",
       "<style scoped>\n",
       "    .dataframe tbody tr th:only-of-type {\n",
       "        vertical-align: middle;\n",
       "    }\n",
       "\n",
       "    .dataframe tbody tr th {\n",
       "        vertical-align: top;\n",
       "    }\n",
       "\n",
       "    .dataframe thead th {\n",
       "        text-align: right;\n",
       "    }\n",
       "</style>\n",
       "<table border=\"1\" class=\"dataframe\">\n",
       "  <thead>\n",
       "    <tr style=\"text-align: right;\">\n",
       "      <th>chain</th>\n",
       "      <th>object_type</th>\n",
       "      <th>да</th>\n",
       "      <th>нет</th>\n",
       "    </tr>\n",
       "  </thead>\n",
       "  <tbody>\n",
       "    <tr>\n",
       "      <td>0</td>\n",
       "      <td>бар</td>\n",
       "      <td>37</td>\n",
       "      <td>818</td>\n",
       "    </tr>\n",
       "    <tr>\n",
       "      <td>1</td>\n",
       "      <td>буфет</td>\n",
       "      <td>11</td>\n",
       "      <td>565</td>\n",
       "    </tr>\n",
       "    <tr>\n",
       "      <td>2</td>\n",
       "      <td>закусочная</td>\n",
       "      <td>56</td>\n",
       "      <td>292</td>\n",
       "    </tr>\n",
       "    <tr>\n",
       "      <td>3</td>\n",
       "      <td>кафе</td>\n",
       "      <td>1396</td>\n",
       "      <td>4675</td>\n",
       "    </tr>\n",
       "    <tr>\n",
       "      <td>4</td>\n",
       "      <td>кафетерий</td>\n",
       "      <td>52</td>\n",
       "      <td>343</td>\n",
       "    </tr>\n",
       "    <tr>\n",
       "      <td>5</td>\n",
       "      <td>магазин (отдел кулинарии)</td>\n",
       "      <td>78</td>\n",
       "      <td>195</td>\n",
       "    </tr>\n",
       "    <tr>\n",
       "      <td>6</td>\n",
       "      <td>предприятие быстрого обслуживания</td>\n",
       "      <td>788</td>\n",
       "      <td>1109</td>\n",
       "    </tr>\n",
       "    <tr>\n",
       "      <td>7</td>\n",
       "      <td>ресторан</td>\n",
       "      <td>543</td>\n",
       "      <td>1739</td>\n",
       "    </tr>\n",
       "    <tr>\n",
       "      <td>8</td>\n",
       "      <td>столовая</td>\n",
       "      <td>3</td>\n",
       "      <td>2581</td>\n",
       "    </tr>\n",
       "  </tbody>\n",
       "</table>\n",
       "</div>"
      ],
      "text/plain": [
       "chain                        object_type    да   нет\n",
       "0                                    бар    37   818\n",
       "1                                  буфет    11   565\n",
       "2                             закусочная    56   292\n",
       "3                                   кафе  1396  4675\n",
       "4                              кафетерий    52   343\n",
       "5              магазин (отдел кулинарии)    78   195\n",
       "6      предприятие быстрого обслуживания   788  1109\n",
       "7                               ресторан   543  1739\n",
       "8                               столовая     3  2581"
      ]
     },
     "execution_count": 21,
     "metadata": {},
     "output_type": "execute_result"
    }
   ],
   "source": [
    "chain_pivot = rest_data.pivot_table(index = 'object_type'\n",
    "                                    , columns = 'chain'\n",
    "                                    , values = 'id'\n",
    "                                    , aggfunc = 'count').reset_index()\n",
    "chain_pivot"
   ]
  },
  {
   "cell_type": "markdown",
   "metadata": {},
   "source": [
    "Посчитаем общее количество заведений и процентное соотношение:"
   ]
  },
  {
   "cell_type": "code",
   "execution_count": 22,
   "metadata": {},
   "outputs": [],
   "source": [
    "chain_pivot['sum'] =  chain_pivot['да'] + chain_pivot['нет']\n",
    "chain_pivot['percent'] = (chain_pivot['да'] / chain_pivot['sum']) * 100"
   ]
  },
  {
   "cell_type": "code",
   "execution_count": 23,
   "metadata": {},
   "outputs": [
    {
     "data": {
      "text/html": [
       "<div>\n",
       "<style scoped>\n",
       "    .dataframe tbody tr th:only-of-type {\n",
       "        vertical-align: middle;\n",
       "    }\n",
       "\n",
       "    .dataframe tbody tr th {\n",
       "        vertical-align: top;\n",
       "    }\n",
       "\n",
       "    .dataframe thead th {\n",
       "        text-align: right;\n",
       "    }\n",
       "</style>\n",
       "<table border=\"1\" class=\"dataframe\">\n",
       "  <thead>\n",
       "    <tr style=\"text-align: right;\">\n",
       "      <th>chain</th>\n",
       "      <th>object_type</th>\n",
       "      <th>да</th>\n",
       "      <th>нет</th>\n",
       "      <th>sum</th>\n",
       "      <th>percent</th>\n",
       "    </tr>\n",
       "  </thead>\n",
       "  <tbody>\n",
       "    <tr>\n",
       "      <td>6</td>\n",
       "      <td>предприятие быстрого обслуживания</td>\n",
       "      <td>788</td>\n",
       "      <td>1109</td>\n",
       "      <td>1897</td>\n",
       "      <td>41.539273</td>\n",
       "    </tr>\n",
       "    <tr>\n",
       "      <td>5</td>\n",
       "      <td>магазин (отдел кулинарии)</td>\n",
       "      <td>78</td>\n",
       "      <td>195</td>\n",
       "      <td>273</td>\n",
       "      <td>28.571429</td>\n",
       "    </tr>\n",
       "    <tr>\n",
       "      <td>7</td>\n",
       "      <td>ресторан</td>\n",
       "      <td>543</td>\n",
       "      <td>1739</td>\n",
       "      <td>2282</td>\n",
       "      <td>23.794917</td>\n",
       "    </tr>\n",
       "    <tr>\n",
       "      <td>3</td>\n",
       "      <td>кафе</td>\n",
       "      <td>1396</td>\n",
       "      <td>4675</td>\n",
       "      <td>6071</td>\n",
       "      <td>22.994564</td>\n",
       "    </tr>\n",
       "    <tr>\n",
       "      <td>2</td>\n",
       "      <td>закусочная</td>\n",
       "      <td>56</td>\n",
       "      <td>292</td>\n",
       "      <td>348</td>\n",
       "      <td>16.091954</td>\n",
       "    </tr>\n",
       "    <tr>\n",
       "      <td>4</td>\n",
       "      <td>кафетерий</td>\n",
       "      <td>52</td>\n",
       "      <td>343</td>\n",
       "      <td>395</td>\n",
       "      <td>13.164557</td>\n",
       "    </tr>\n",
       "    <tr>\n",
       "      <td>0</td>\n",
       "      <td>бар</td>\n",
       "      <td>37</td>\n",
       "      <td>818</td>\n",
       "      <td>855</td>\n",
       "      <td>4.327485</td>\n",
       "    </tr>\n",
       "    <tr>\n",
       "      <td>1</td>\n",
       "      <td>буфет</td>\n",
       "      <td>11</td>\n",
       "      <td>565</td>\n",
       "      <td>576</td>\n",
       "      <td>1.909722</td>\n",
       "    </tr>\n",
       "    <tr>\n",
       "      <td>8</td>\n",
       "      <td>столовая</td>\n",
       "      <td>3</td>\n",
       "      <td>2581</td>\n",
       "      <td>2584</td>\n",
       "      <td>0.116099</td>\n",
       "    </tr>\n",
       "  </tbody>\n",
       "</table>\n",
       "</div>"
      ],
      "text/plain": [
       "chain                        object_type    да   нет   sum    percent\n",
       "6      предприятие быстрого обслуживания   788  1109  1897  41.539273\n",
       "5              магазин (отдел кулинарии)    78   195   273  28.571429\n",
       "7                               ресторан   543  1739  2282  23.794917\n",
       "3                                   кафе  1396  4675  6071  22.994564\n",
       "2                             закусочная    56   292   348  16.091954\n",
       "4                              кафетерий    52   343   395  13.164557\n",
       "0                                    бар    37   818   855   4.327485\n",
       "1                                  буфет    11   565   576   1.909722\n",
       "8                               столовая     3  2581  2584   0.116099"
      ]
     },
     "execution_count": 23,
     "metadata": {},
     "output_type": "execute_result"
    }
   ],
   "source": [
    "chain_pivot.sort_values(by = 'percent', ascending = False)"
   ]
  },
  {
   "cell_type": "code",
   "execution_count": 24,
   "metadata": {},
   "outputs": [
    {
     "data": {
      "image/png": "[encoded data removed]",
      "text/plain": [
       "<Figure size 432x288 with 1 Axes>"
      ]
     },
     "metadata": {
      "needs_background": "light"
     },
     "output_type": "display_data"
    }
   ],
   "source": [
    "chain_pivot.sort_values(by = 'percent').plot(x = 'object_type', y = 'percent', kind = 'barh', legend = None)\n",
    "plt.title('Соотношение сетевых и несетевых заведений')\n",
    "plt.xlabel('Процент сетевых заведений')\n",
    "plt.ylabel(None);"
   ]
  },
  {
   "cell_type": "markdown",
   "metadata": {},
   "source": [
    "Из расчетов следует, что предприятия быстрого обслуживания чаще остальных являются сетевыми: среди общего количества 41.5% являются сетевыми. <br>\n",
    "    На втором месте - отделы кулинарии в магазинах (но это, скорее всего, связано с сетевым типом магазинов, здесь 28.5%)<br>\n",
    "    На третьем же месте - рестораны с 23%. <br>\n",
    "Реже остальных - столовые, там нет и 1% сетевого типа заведений: 0.11%. "
   ]
  },
  {
   "cell_type": "markdown",
   "metadata": {},
   "source": [
    "#### Что характерно для сетевых заведений: много заведений с небольшим числом посадочных мест в каждом или мало заведений с большим количеством посадочных мест?"
   ]
  },
  {
   "cell_type": "code",
   "execution_count": 25,
   "metadata": {},
   "outputs": [
    {
     "data": {
      "text/html": [
       "<div>\n",
       "<style scoped>\n",
       "    .dataframe tbody tr th:only-of-type {\n",
       "        vertical-align: middle;\n",
       "    }\n",
       "\n",
       "    .dataframe tbody tr th {\n",
       "        vertical-align: top;\n",
       "    }\n",
       "\n",
       "    .dataframe thead th {\n",
       "        text-align: right;\n",
       "    }\n",
       "</style>\n",
       "<table border=\"1\" class=\"dataframe\">\n",
       "  <thead>\n",
       "    <tr style=\"text-align: right;\">\n",
       "      <th></th>\n",
       "      <th>id</th>\n",
       "      <th>number</th>\n",
       "    </tr>\n",
       "    <tr>\n",
       "      <th>object_name</th>\n",
       "      <th></th>\n",
       "      <th></th>\n",
       "    </tr>\n",
       "  </thead>\n",
       "  <tbody>\n",
       "    <tr>\n",
       "      <td>beverly hills diner</td>\n",
       "      <td>1</td>\n",
       "      <td>88.0</td>\n",
       "    </tr>\n",
       "    <tr>\n",
       "      <td>мимино хинкальная</td>\n",
       "      <td>1</td>\n",
       "      <td>70.0</td>\n",
       "    </tr>\n",
       "    <tr>\n",
       "      <td>милано пицца</td>\n",
       "      <td>1</td>\n",
       "      <td>20.0</td>\n",
       "    </tr>\n",
       "    <tr>\n",
       "      <td>метро к&amp;к</td>\n",
       "      <td>1</td>\n",
       "      <td>80.0</td>\n",
       "    </tr>\n",
       "    <tr>\n",
       "      <td>меленка</td>\n",
       "      <td>1</td>\n",
       "      <td>20.0</td>\n",
       "    </tr>\n",
       "    <tr>\n",
       "      <td>...</td>\n",
       "      <td>...</td>\n",
       "      <td>...</td>\n",
       "    </tr>\n",
       "    <tr>\n",
       "      <td>теремок</td>\n",
       "      <td>94</td>\n",
       "      <td>23.0</td>\n",
       "    </tr>\n",
       "    <tr>\n",
       "      <td>бургер кинг</td>\n",
       "      <td>137</td>\n",
       "      <td>45.0</td>\n",
       "    </tr>\n",
       "    <tr>\n",
       "      <td>макдоналдс</td>\n",
       "      <td>150</td>\n",
       "      <td>77.5</td>\n",
       "    </tr>\n",
       "    <tr>\n",
       "      <td>kfc</td>\n",
       "      <td>155</td>\n",
       "      <td>45.0</td>\n",
       "    </tr>\n",
       "    <tr>\n",
       "      <td>шоколадница</td>\n",
       "      <td>157</td>\n",
       "      <td>50.0</td>\n",
       "    </tr>\n",
       "  </tbody>\n",
       "</table>\n",
       "<p>577 rows × 2 columns</p>\n",
       "</div>"
      ],
      "text/plain": [
       "                      id  number\n",
       "object_name                     \n",
       "beverly hills diner    1    88.0\n",
       "мимино хинкальная      1    70.0\n",
       "милано пицца           1    20.0\n",
       "метро к&к              1    80.0\n",
       "меленка                1    20.0\n",
       "...                  ...     ...\n",
       "теремок               94    23.0\n",
       "бургер кинг          137    45.0\n",
       "макдоналдс           150    77.5\n",
       "kfc                  155    45.0\n",
       "шоколадница          157    50.0\n",
       "\n",
       "[577 rows x 2 columns]"
      ]
     },
     "execution_count": 25,
     "metadata": {},
     "output_type": "execute_result"
    }
   ],
   "source": [
    "chain_yes_pivot = chain_yes.groupby('object_name').agg({'id' : 'nunique'\n",
    "                                                        , 'number' : 'median'}\n",
    "                                                      ).sort_values(by = 'id')\n",
    "chain_yes_pivot"
   ]
  },
  {
   "cell_type": "code",
   "execution_count": 26,
   "metadata": {},
   "outputs": [
    {
     "data": {
      "image/png": "[encoded data removed]",
      "text/plain": [
       "<Figure size 720x360 with 1 Axes>"
      ]
     },
     "metadata": {
      "needs_background": "light"
     },
     "output_type": "display_data"
    }
   ],
   "source": [
    "chain_yes_pivot.plot(y = 'number', x = 'id', kind = 'scatter', figsize = (10                                                                          ,5))\n",
    "plt.title('Распределение количества заведений и медианных значений посадочных мест')\n",
    "plt.xlabel('Количество заведений в сети')\n",
    "plt.ylabel('Медиана количества посадочных мест');"
   ]
  },
  {
   "cell_type": "code",
   "execution_count": 27,
   "metadata": {},
   "outputs": [
    {
     "name": "stdout",
     "output_type": "stream",
     "text": [
      "Перцентили по количеству посадочных мест: [120.   158.85 275.37]\n",
      "Перцентили по количеству точек: [ 8.4 16.4 90. ]\n"
     ]
    }
   ],
   "source": [
    "print('Перцентили по количеству посадочных мест:', np.percentile(chain_yes['number'], [90, 95, 99])) \n",
    "print('Перцентили по количеству точек:', np.percentile(chain_yes_pivot['id'], [90, 95, 99])) "
   ]
  },
  {
   "cell_type": "markdown",
   "metadata": {},
   "source": [
    "Как видим, в 90% сетей не более 120 посадочных мести и не более 8 заведений. То есть можно сделать вывод о том, что для сетевых заведений характерно небольшое количество заведений с большим количеством мест."
   ]
  },
  {
   "cell_type": "markdown",
   "metadata": {},
   "source": [
    "#### Для каждого вида объекта общественного питания опишите среднее количество посадочных мест. Какой вид предоставляет в среднем самое большое количество посадочных мест? Постройте графики."
   ]
  },
  {
   "cell_type": "code",
   "execution_count": 28,
   "metadata": {},
   "outputs": [
    {
     "data": {
      "text/plain": [
       "object_type\n",
       "столовая                             130.337848\n",
       "ресторан                              96.884750\n",
       "буфет                                 51.425347\n",
       "бар                                   43.533333\n",
       "кафе                                  39.785703\n",
       "предприятие быстрого обслуживания     20.808645\n",
       "кафетерий                              9.184810\n",
       "закусочная                             7.847701\n",
       "магазин (отдел кулинарии)              5.589744\n",
       "Name: number, dtype: float64"
      ]
     },
     "execution_count": 28,
     "metadata": {},
     "output_type": "execute_result"
    },
    {
     "data": {
      "image/png": "[encoded data removed]",
      "text/plain": [
       "<Figure size 432x288 with 1 Axes>"
      ]
     },
     "metadata": {
      "needs_background": "light"
     },
     "output_type": "display_data"
    }
   ],
   "source": [
    "data = rest_data.groupby('object_type')['number'].mean().sort_values(ascending = False)\n",
    "data.plot(kind = 'barh')\n",
    "plt.title('Типы заведений и среднее количество мест')\n",
    "plt.ylabel('Тип заведения')\n",
    "plt.xlabel('Среднее количество мест');\n",
    "data\n"
   ]
  },
  {
   "cell_type": "markdown",
   "metadata": {},
   "source": [
    "Больше всего посадочных мест в столовых (в среднем - 130), далее идут рестораны (96 посадочных мест), на третьем - буфеты. Думаю, это связано с тем, за чем люди ходят в эти места: в столовые обычно ходят быстро и недорого пообедать, поэтому плотная расстановка столов в таких местах не будет смущать, а большое количество столов равно большое количество поситетелей. В ресторанах же люди проводят куда больше времени, поэтому расстановка там другая, но, в отличие, например, от кафе, залы там чаще всего гораздо больше по площади.  <br>\n",
    "Меньше всего посадочных мест в отделах кулинарии в магазинах (их там в среднем около 5) - тут это скорее всего связано с тем, что тут люди берут еду либо с собой, либо для быстрого перекуса между покупками. Большое количество столиков тут не нужно."
   ]
  },
  {
   "cell_type": "markdown",
   "metadata": {},
   "source": [
    "####  Выделите в отдельный столбец информацию об улице из столбца address ."
   ]
  },
  {
   "cell_type": "code",
   "execution_count": 29,
   "metadata": {
    "scrolled": false
   },
   "outputs": [
    {
     "data": {
      "text/plain": [
       "0               город москва, улица егора абакумова, дом 9\n",
       "1        город москва, улица талалихина, дом 2/1, корпус 1\n",
       "2                город москва, абельмановская улица, дом 6\n",
       "3                  город москва, абрамцевская улица, дом 1\n",
       "4        город москва, абрамцевская улица, дом 9, корпус 1\n",
       "                               ...                        \n",
       "15361         город москва, 3-й крутицкий переулок, дом 18\n",
       "15362             город москва, улица земляной вал, дом 33\n",
       "15363             город москва, улица земляной вал, дом 33\n",
       "15364    город москва, поселение московский, киевское ш...\n",
       "15365               город москва, ходынский бульвар, дом 4\n",
       "Name: address, Length: 15281, dtype: object"
      ]
     },
     "execution_count": 29,
     "metadata": {},
     "output_type": "execute_result"
    }
   ],
   "source": [
    "rest_data['address']"
   ]
  },
  {
   "cell_type": "code",
   "execution_count": 30,
   "metadata": {},
   "outputs": [
    {
     "data": {
      "text/html": [
       "<div>\n",
       "<style scoped>\n",
       "    .dataframe tbody tr th:only-of-type {\n",
       "        vertical-align: middle;\n",
       "    }\n",
       "\n",
       "    .dataframe tbody tr th {\n",
       "        vertical-align: top;\n",
       "    }\n",
       "\n",
       "    .dataframe thead th {\n",
       "        text-align: right;\n",
       "    }\n",
       "</style>\n",
       "<table border=\"1\" class=\"dataframe\">\n",
       "  <thead>\n",
       "    <tr style=\"text-align: right;\">\n",
       "      <th></th>\n",
       "      <th>id</th>\n",
       "      <th>object_name</th>\n",
       "      <th>chain</th>\n",
       "      <th>object_type</th>\n",
       "      <th>address</th>\n",
       "      <th>number</th>\n",
       "      <th>street</th>\n",
       "    </tr>\n",
       "  </thead>\n",
       "  <tbody>\n",
       "    <tr>\n",
       "      <td>0</td>\n",
       "      <td>151635</td>\n",
       "      <td>сметана</td>\n",
       "      <td>нет</td>\n",
       "      <td>кафе</td>\n",
       "      <td>город москва, улица егора абакумова, дом 9</td>\n",
       "      <td>48</td>\n",
       "      <td>улица егора абакумова</td>\n",
       "    </tr>\n",
       "    <tr>\n",
       "      <td>1</td>\n",
       "      <td>77874</td>\n",
       "      <td>родник</td>\n",
       "      <td>нет</td>\n",
       "      <td>кафе</td>\n",
       "      <td>город москва, улица талалихина, дом 2/1, корпус 1</td>\n",
       "      <td>35</td>\n",
       "      <td>улица талалихина</td>\n",
       "    </tr>\n",
       "    <tr>\n",
       "      <td>2</td>\n",
       "      <td>24309</td>\n",
       "      <td>кафе «академия»</td>\n",
       "      <td>нет</td>\n",
       "      <td>кафе</td>\n",
       "      <td>город москва, абельмановская улица, дом 6</td>\n",
       "      <td>95</td>\n",
       "      <td>абельмановская улица</td>\n",
       "    </tr>\n",
       "    <tr>\n",
       "      <td>3</td>\n",
       "      <td>21894</td>\n",
       "      <td>пиццетория</td>\n",
       "      <td>да</td>\n",
       "      <td>кафе</td>\n",
       "      <td>город москва, абрамцевская улица, дом 1</td>\n",
       "      <td>40</td>\n",
       "      <td>абрамцевская улица</td>\n",
       "    </tr>\n",
       "    <tr>\n",
       "      <td>4</td>\n",
       "      <td>119365</td>\n",
       "      <td>кафе «вишневая метель»</td>\n",
       "      <td>нет</td>\n",
       "      <td>кафе</td>\n",
       "      <td>город москва, абрамцевская улица, дом 9, корпус 1</td>\n",
       "      <td>50</td>\n",
       "      <td>абрамцевская улица</td>\n",
       "    </tr>\n",
       "  </tbody>\n",
       "</table>\n",
       "</div>"
      ],
      "text/plain": [
       "       id             object_name chain object_type  \\\n",
       "0  151635                 сметана   нет        кафе   \n",
       "1   77874                  родник   нет        кафе   \n",
       "2   24309         кафе «академия»   нет        кафе   \n",
       "3   21894              пиццетория    да        кафе   \n",
       "4  119365  кафе «вишневая метель»   нет        кафе   \n",
       "\n",
       "                                             address  number  \\\n",
       "0         город москва, улица егора абакумова, дом 9      48   \n",
       "1  город москва, улица талалихина, дом 2/1, корпус 1      35   \n",
       "2          город москва, абельмановская улица, дом 6      95   \n",
       "3            город москва, абрамцевская улица, дом 1      40   \n",
       "4  город москва, абрамцевская улица, дом 9, корпус 1      50   \n",
       "\n",
       "                  street  \n",
       "0  улица егора абакумова  \n",
       "1       улица талалихина  \n",
       "2   абельмановская улица  \n",
       "3     абрамцевская улица  \n",
       "4     абрамцевская улица  "
      ]
     },
     "execution_count": 30,
     "metadata": {},
     "output_type": "execute_result"
    }
   ],
   "source": [
    "street_types = ['улица', 'ул', 'бульвар', 'проспект', 'переулок', 'шоссе', \n",
    "'проезд', 'набережная', 'площадь', 'аллея', 'линия', 'квартал', 'мост', 'тупик', 'просека', 'село']\n",
    "str_pat = r\".*,\\s*\\b([^,]*?(?:{})\\b[^,]*)[,$]+\".format(\"|\".join(street_types))\n",
    "rest_data['street'] = rest_data['address'].str.extract(str_pat, flags=re.I)\n",
    "rest_data.head()"
   ]
  },
  {
   "cell_type": "markdown",
   "metadata": {},
   "source": [
    "####  Постройте график топ-10 улиц по количеству объектов общественного питания. Воспользуйтесь внешней информацией и ответьте на вопрос — в каких районах Москвы находятся эти улицы?"
   ]
  },
  {
   "cell_type": "code",
   "execution_count": 31,
   "metadata": {
    "scrolled": true
   },
   "outputs": [
    {
     "data": {
      "text/html": [
       "<div>\n",
       "<style scoped>\n",
       "    .dataframe tbody tr th:only-of-type {\n",
       "        vertical-align: middle;\n",
       "    }\n",
       "\n",
       "    .dataframe tbody tr th {\n",
       "        vertical-align: top;\n",
       "    }\n",
       "\n",
       "    .dataframe thead th {\n",
       "        text-align: right;\n",
       "    }\n",
       "</style>\n",
       "<table border=\"1\" class=\"dataframe\">\n",
       "  <thead>\n",
       "    <tr style=\"text-align: right;\">\n",
       "      <th></th>\n",
       "      <th>cnt_id</th>\n",
       "    </tr>\n",
       "    <tr>\n",
       "      <th>street</th>\n",
       "      <th></th>\n",
       "    </tr>\n",
       "  </thead>\n",
       "  <tbody>\n",
       "    <tr>\n",
       "      <td>проспект мира</td>\n",
       "      <td>203</td>\n",
       "    </tr>\n",
       "    <tr>\n",
       "      <td>профсоюзная улица</td>\n",
       "      <td>181</td>\n",
       "    </tr>\n",
       "    <tr>\n",
       "      <td>ленинградский проспект</td>\n",
       "      <td>170</td>\n",
       "    </tr>\n",
       "    <tr>\n",
       "      <td>пресненская набережная</td>\n",
       "      <td>167</td>\n",
       "    </tr>\n",
       "    <tr>\n",
       "      <td>варшавское шоссе</td>\n",
       "      <td>164</td>\n",
       "    </tr>\n",
       "    <tr>\n",
       "      <td>ленинский проспект</td>\n",
       "      <td>147</td>\n",
       "    </tr>\n",
       "    <tr>\n",
       "      <td>проспект вернадского</td>\n",
       "      <td>128</td>\n",
       "    </tr>\n",
       "    <tr>\n",
       "      <td>кутузовский проспект</td>\n",
       "      <td>114</td>\n",
       "    </tr>\n",
       "    <tr>\n",
       "      <td>каширское шоссе</td>\n",
       "      <td>111</td>\n",
       "    </tr>\n",
       "    <tr>\n",
       "      <td>кировоградская улица</td>\n",
       "      <td>108</td>\n",
       "    </tr>\n",
       "  </tbody>\n",
       "</table>\n",
       "</div>"
      ],
      "text/plain": [
       "                        cnt_id\n",
       "street                        \n",
       "проспект мира              203\n",
       "профсоюзная улица          181\n",
       "ленинградский проспект     170\n",
       "пресненская набережная     167\n",
       "варшавское шоссе           164\n",
       "ленинский проспект         147\n",
       "проспект вернадского       128\n",
       "кутузовский проспект       114\n",
       "каширское шоссе            111\n",
       "кировоградская улица       108"
      ]
     },
     "execution_count": 31,
     "metadata": {},
     "output_type": "execute_result"
    },
    {
     "data": {
      "image/png": "[encoded data removed]",
      "text/plain": [
       "<Figure size 432x288 with 1 Axes>"
      ]
     },
     "metadata": {
      "needs_background": "light"
     },
     "output_type": "display_data"
    }
   ],
   "source": [
    "rest_streets = rest_data.groupby('street').agg({'id' : 'nunique'}).sort_values(by = 'id', ascending = False)\n",
    "rest_streets = rest_streets.rename(columns = {'id' : 'cnt_id'})\n",
    "rest_streets.head(10).sort_values(by = 'cnt_id').plot(kind = 'barh', legend = None)\n",
    "plt.title('Топ-10 улиц по количеству объектов общественного питания')\n",
    "plt.xlabel('Количество заведений')\n",
    "plt.ylabel('Улица')\n",
    "# plt.legend(None)\n",
    "rest_streets.head(10)"
   ]
  },
  {
   "cell_type": "markdown",
   "metadata": {},
   "source": [
    "Больше всего заведений общественного питания находится на Проспекте мира, также в тройке лидеров Профсоюзная улица и Ленинградский проспект."
   ]
  },
  {
   "cell_type": "markdown",
   "metadata": {},
   "source": [
    "Загрузим данные об улицах и районах Москвы:"
   ]
  },
  {
   "cell_type": "code",
   "execution_count": 32,
   "metadata": {
    "scrolled": true
   },
   "outputs": [
    {
     "data": {
      "text/html": [
       "<div>\n",
       "<style scoped>\n",
       "    .dataframe tbody tr th:only-of-type {\n",
       "        vertical-align: middle;\n",
       "    }\n",
       "\n",
       "    .dataframe tbody tr th {\n",
       "        vertical-align: top;\n",
       "    }\n",
       "\n",
       "    .dataframe thead th {\n",
       "        text-align: right;\n",
       "    }\n",
       "</style>\n",
       "<table border=\"1\" class=\"dataframe\">\n",
       "  <thead>\n",
       "    <tr style=\"text-align: right;\">\n",
       "      <th></th>\n",
       "      <th>streetname</th>\n",
       "      <th>areaid</th>\n",
       "      <th>okrug</th>\n",
       "      <th>area</th>\n",
       "    </tr>\n",
       "  </thead>\n",
       "  <tbody>\n",
       "    <tr>\n",
       "      <td>0</td>\n",
       "      <td>Выставочный переулок</td>\n",
       "      <td>17</td>\n",
       "      <td>ЦАО</td>\n",
       "      <td>Пресненский район</td>\n",
       "    </tr>\n",
       "    <tr>\n",
       "      <td>1</td>\n",
       "      <td>улица Гашека</td>\n",
       "      <td>17</td>\n",
       "      <td>ЦАО</td>\n",
       "      <td>Пресненский район</td>\n",
       "    </tr>\n",
       "    <tr>\n",
       "      <td>2</td>\n",
       "      <td>Большая Никитская улица</td>\n",
       "      <td>17</td>\n",
       "      <td>ЦАО</td>\n",
       "      <td>Пресненский район</td>\n",
       "    </tr>\n",
       "    <tr>\n",
       "      <td>3</td>\n",
       "      <td>Глубокий переулок</td>\n",
       "      <td>17</td>\n",
       "      <td>ЦАО</td>\n",
       "      <td>Пресненский район</td>\n",
       "    </tr>\n",
       "    <tr>\n",
       "      <td>4</td>\n",
       "      <td>Большой Гнездниковский переулок</td>\n",
       "      <td>17</td>\n",
       "      <td>ЦАО</td>\n",
       "      <td>Пресненский район</td>\n",
       "    </tr>\n",
       "    <tr>\n",
       "      <td>...</td>\n",
       "      <td>...</td>\n",
       "      <td>...</td>\n",
       "      <td>...</td>\n",
       "      <td>...</td>\n",
       "    </tr>\n",
       "    <tr>\n",
       "      <td>4393</td>\n",
       "      <td>Вознесенский проезд</td>\n",
       "      <td>17</td>\n",
       "      <td>ЦАО</td>\n",
       "      <td>Пресненский район</td>\n",
       "    </tr>\n",
       "    <tr>\n",
       "      <td>4394</td>\n",
       "      <td>Волков переулок</td>\n",
       "      <td>17</td>\n",
       "      <td>ЦАО</td>\n",
       "      <td>Пресненский район</td>\n",
       "    </tr>\n",
       "    <tr>\n",
       "      <td>4395</td>\n",
       "      <td>Поварская улица</td>\n",
       "      <td>17</td>\n",
       "      <td>ЦАО</td>\n",
       "      <td>Пресненский район</td>\n",
       "    </tr>\n",
       "    <tr>\n",
       "      <td>4396</td>\n",
       "      <td>Кудринская площадь</td>\n",
       "      <td>17</td>\n",
       "      <td>ЦАО</td>\n",
       "      <td>Пресненский район</td>\n",
       "    </tr>\n",
       "    <tr>\n",
       "      <td>4397</td>\n",
       "      <td>Вспольный переулок</td>\n",
       "      <td>17</td>\n",
       "      <td>ЦАО</td>\n",
       "      <td>Пресненский район</td>\n",
       "    </tr>\n",
       "  </tbody>\n",
       "</table>\n",
       "<p>4398 rows × 4 columns</p>\n",
       "</div>"
      ],
      "text/plain": [
       "                           streetname  areaid okrug               area\n",
       "0                Выставочный переулок      17   ЦАО  Пресненский район\n",
       "1                        улица Гашека      17   ЦАО  Пресненский район\n",
       "2             Большая Никитская улица      17   ЦАО  Пресненский район\n",
       "3                   Глубокий переулок      17   ЦАО  Пресненский район\n",
       "4     Большой Гнездниковский переулок      17   ЦАО  Пресненский район\n",
       "...                               ...     ...   ...                ...\n",
       "4393              Вознесенский проезд      17   ЦАО  Пресненский район\n",
       "4394                  Волков переулок      17   ЦАО  Пресненский район\n",
       "4395                  Поварская улица      17   ЦАО  Пресненский район\n",
       "4396               Кудринская площадь      17   ЦАО  Пресненский район\n",
       "4397               Вспольный переулок      17   ЦАО  Пресненский район\n",
       "\n",
       "[4398 rows x 4 columns]"
      ]
     },
     "execution_count": 32,
     "metadata": {},
     "output_type": "execute_result"
    }
   ],
   "source": [
    "from io import BytesIO \n",
    "import requests \n",
    "spreadsheet_id = '1GyKro_Zg5DOgVl42rMJKrH-6ra2Jcuayj4qTlcuM7JI'\n",
    "file_name = 'https://docs.google.com/spreadsheets/d/{}/export?format=csv'.format(spreadsheet_id) \n",
    "r = requests.get(file_name) \n",
    "districts = pd.read_csv(BytesIO(r.content)) \n",
    "districts \n",
    "\n",
    "# https://docs.google.com/spreadsheets/d/1GyKro_Zg5DOgVl42rMJKrH-6ra2Jcuayj4qTlcuM7JI/edit?usp=sharing\n"
   ]
  },
  {
   "cell_type": "code",
   "execution_count": 33,
   "metadata": {},
   "outputs": [
    {
     "data": {
      "text/html": [
       "<div>\n",
       "<style scoped>\n",
       "    .dataframe tbody tr th:only-of-type {\n",
       "        vertical-align: middle;\n",
       "    }\n",
       "\n",
       "    .dataframe tbody tr th {\n",
       "        vertical-align: top;\n",
       "    }\n",
       "\n",
       "    .dataframe thead th {\n",
       "        text-align: right;\n",
       "    }\n",
       "</style>\n",
       "<table border=\"1\" class=\"dataframe\">\n",
       "  <thead>\n",
       "    <tr style=\"text-align: right;\">\n",
       "      <th></th>\n",
       "      <th>streetname</th>\n",
       "      <th>areaid</th>\n",
       "      <th>okrug</th>\n",
       "      <th>area</th>\n",
       "    </tr>\n",
       "  </thead>\n",
       "  <tbody>\n",
       "    <tr>\n",
       "      <td>0</td>\n",
       "      <td>выставочный переулок</td>\n",
       "      <td>17</td>\n",
       "      <td>ЦАО</td>\n",
       "      <td>Пресненский район</td>\n",
       "    </tr>\n",
       "    <tr>\n",
       "      <td>1</td>\n",
       "      <td>улица гашека</td>\n",
       "      <td>17</td>\n",
       "      <td>ЦАО</td>\n",
       "      <td>Пресненский район</td>\n",
       "    </tr>\n",
       "    <tr>\n",
       "      <td>2</td>\n",
       "      <td>большая никитская улица</td>\n",
       "      <td>17</td>\n",
       "      <td>ЦАО</td>\n",
       "      <td>Пресненский район</td>\n",
       "    </tr>\n",
       "    <tr>\n",
       "      <td>3</td>\n",
       "      <td>глубокий переулок</td>\n",
       "      <td>17</td>\n",
       "      <td>ЦАО</td>\n",
       "      <td>Пресненский район</td>\n",
       "    </tr>\n",
       "    <tr>\n",
       "      <td>4</td>\n",
       "      <td>большой гнездниковский переулок</td>\n",
       "      <td>17</td>\n",
       "      <td>ЦАО</td>\n",
       "      <td>Пресненский район</td>\n",
       "    </tr>\n",
       "    <tr>\n",
       "      <td>...</td>\n",
       "      <td>...</td>\n",
       "      <td>...</td>\n",
       "      <td>...</td>\n",
       "      <td>...</td>\n",
       "    </tr>\n",
       "    <tr>\n",
       "      <td>4393</td>\n",
       "      <td>вознесенский проезд</td>\n",
       "      <td>17</td>\n",
       "      <td>ЦАО</td>\n",
       "      <td>Пресненский район</td>\n",
       "    </tr>\n",
       "    <tr>\n",
       "      <td>4394</td>\n",
       "      <td>волков переулок</td>\n",
       "      <td>17</td>\n",
       "      <td>ЦАО</td>\n",
       "      <td>Пресненский район</td>\n",
       "    </tr>\n",
       "    <tr>\n",
       "      <td>4395</td>\n",
       "      <td>поварская улица</td>\n",
       "      <td>17</td>\n",
       "      <td>ЦАО</td>\n",
       "      <td>Пресненский район</td>\n",
       "    </tr>\n",
       "    <tr>\n",
       "      <td>4396</td>\n",
       "      <td>кудринская площадь</td>\n",
       "      <td>17</td>\n",
       "      <td>ЦАО</td>\n",
       "      <td>Пресненский район</td>\n",
       "    </tr>\n",
       "    <tr>\n",
       "      <td>4397</td>\n",
       "      <td>вспольный переулок</td>\n",
       "      <td>17</td>\n",
       "      <td>ЦАО</td>\n",
       "      <td>Пресненский район</td>\n",
       "    </tr>\n",
       "  </tbody>\n",
       "</table>\n",
       "<p>4398 rows × 4 columns</p>\n",
       "</div>"
      ],
      "text/plain": [
       "                           streetname  areaid okrug               area\n",
       "0                выставочный переулок      17   ЦАО  Пресненский район\n",
       "1                        улица гашека      17   ЦАО  Пресненский район\n",
       "2             большая никитская улица      17   ЦАО  Пресненский район\n",
       "3                   глубокий переулок      17   ЦАО  Пресненский район\n",
       "4     большой гнездниковский переулок      17   ЦАО  Пресненский район\n",
       "...                               ...     ...   ...                ...\n",
       "4393              вознесенский проезд      17   ЦАО  Пресненский район\n",
       "4394                  волков переулок      17   ЦАО  Пресненский район\n",
       "4395                  поварская улица      17   ЦАО  Пресненский район\n",
       "4396               кудринская площадь      17   ЦАО  Пресненский район\n",
       "4397               вспольный переулок      17   ЦАО  Пресненский район\n",
       "\n",
       "[4398 rows x 4 columns]"
      ]
     },
     "execution_count": 33,
     "metadata": {},
     "output_type": "execute_result"
    }
   ],
   "source": [
    "districts['streetname'] = districts['streetname'].str.lower()\n",
    "districts"
   ]
  },
  {
   "cell_type": "code",
   "execution_count": 34,
   "metadata": {},
   "outputs": [
    {
     "data": {
      "text/html": [
       "<div>\n",
       "<style scoped>\n",
       "    .dataframe tbody tr th:only-of-type {\n",
       "        vertical-align: middle;\n",
       "    }\n",
       "\n",
       "    .dataframe tbody tr th {\n",
       "        vertical-align: top;\n",
       "    }\n",
       "\n",
       "    .dataframe thead th {\n",
       "        text-align: right;\n",
       "    }\n",
       "</style>\n",
       "<table border=\"1\" class=\"dataframe\">\n",
       "  <thead>\n",
       "    <tr style=\"text-align: right;\">\n",
       "      <th></th>\n",
       "      <th>cnt_id</th>\n",
       "    </tr>\n",
       "    <tr>\n",
       "      <th>street</th>\n",
       "      <th></th>\n",
       "    </tr>\n",
       "  </thead>\n",
       "  <tbody>\n",
       "    <tr>\n",
       "      <td>проспект мира</td>\n",
       "      <td>203</td>\n",
       "    </tr>\n",
       "    <tr>\n",
       "      <td>профсоюзная улица</td>\n",
       "      <td>181</td>\n",
       "    </tr>\n",
       "    <tr>\n",
       "      <td>ленинградский проспект</td>\n",
       "      <td>170</td>\n",
       "    </tr>\n",
       "    <tr>\n",
       "      <td>пресненская набережная</td>\n",
       "      <td>167</td>\n",
       "    </tr>\n",
       "    <tr>\n",
       "      <td>варшавское шоссе</td>\n",
       "      <td>164</td>\n",
       "    </tr>\n",
       "    <tr>\n",
       "      <td>ленинский проспект</td>\n",
       "      <td>147</td>\n",
       "    </tr>\n",
       "    <tr>\n",
       "      <td>проспект вернадского</td>\n",
       "      <td>128</td>\n",
       "    </tr>\n",
       "    <tr>\n",
       "      <td>кутузовский проспект</td>\n",
       "      <td>114</td>\n",
       "    </tr>\n",
       "    <tr>\n",
       "      <td>каширское шоссе</td>\n",
       "      <td>111</td>\n",
       "    </tr>\n",
       "    <tr>\n",
       "      <td>кировоградская улица</td>\n",
       "      <td>108</td>\n",
       "    </tr>\n",
       "  </tbody>\n",
       "</table>\n",
       "</div>"
      ],
      "text/plain": [
       "                        cnt_id\n",
       "street                        \n",
       "проспект мира              203\n",
       "профсоюзная улица          181\n",
       "ленинградский проспект     170\n",
       "пресненская набережная     167\n",
       "варшавское шоссе           164\n",
       "ленинский проспект         147\n",
       "проспект вернадского       128\n",
       "кутузовский проспект       114\n",
       "каширское шоссе            111\n",
       "кировоградская улица       108"
      ]
     },
     "execution_count": 34,
     "metadata": {},
     "output_type": "execute_result"
    }
   ],
   "source": [
    "top_10_streets = rest_streets.head(10)\n",
    "top_10_streets"
   ]
  },
  {
   "cell_type": "code",
   "execution_count": 35,
   "metadata": {},
   "outputs": [
    {
     "data": {
      "text/html": [
       "<div>\n",
       "<style scoped>\n",
       "    .dataframe tbody tr th:only-of-type {\n",
       "        vertical-align: middle;\n",
       "    }\n",
       "\n",
       "    .dataframe tbody tr th {\n",
       "        vertical-align: top;\n",
       "    }\n",
       "\n",
       "    .dataframe thead th {\n",
       "        text-align: right;\n",
       "    }\n",
       "</style>\n",
       "<table border=\"1\" class=\"dataframe\">\n",
       "  <thead>\n",
       "    <tr style=\"text-align: right;\">\n",
       "      <th></th>\n",
       "      <th>cnt_id</th>\n",
       "      <th>streetname</th>\n",
       "      <th>areaid</th>\n",
       "      <th>okrug</th>\n",
       "      <th>area</th>\n",
       "    </tr>\n",
       "  </thead>\n",
       "  <tbody>\n",
       "    <tr>\n",
       "      <td>0</td>\n",
       "      <td>203</td>\n",
       "      <td>проспект мира</td>\n",
       "      <td>70</td>\n",
       "      <td>СВАО</td>\n",
       "      <td>Алексеевский район</td>\n",
       "    </tr>\n",
       "    <tr>\n",
       "      <td>1</td>\n",
       "      <td>203</td>\n",
       "      <td>проспект мира</td>\n",
       "      <td>86</td>\n",
       "      <td>СВАО</td>\n",
       "      <td>Ярославский Район</td>\n",
       "    </tr>\n",
       "    <tr>\n",
       "      <td>2</td>\n",
       "      <td>203</td>\n",
       "      <td>проспект мира</td>\n",
       "      <td>78</td>\n",
       "      <td>СВАО</td>\n",
       "      <td>Район Марьина роща</td>\n",
       "    </tr>\n",
       "    <tr>\n",
       "      <td>3</td>\n",
       "      <td>203</td>\n",
       "      <td>проспект мира</td>\n",
       "      <td>79</td>\n",
       "      <td>СВАО</td>\n",
       "      <td>Останкинский район</td>\n",
       "    </tr>\n",
       "    <tr>\n",
       "      <td>4</td>\n",
       "      <td>203</td>\n",
       "      <td>проспект мира</td>\n",
       "      <td>81</td>\n",
       "      <td>СВАО</td>\n",
       "      <td>Район Ростокино</td>\n",
       "    </tr>\n",
       "    <tr>\n",
       "      <td>5</td>\n",
       "      <td>203</td>\n",
       "      <td>проспект мира</td>\n",
       "      <td>82</td>\n",
       "      <td>СВАО</td>\n",
       "      <td>Район Свиблово</td>\n",
       "    </tr>\n",
       "    <tr>\n",
       "      <td>6</td>\n",
       "      <td>203</td>\n",
       "      <td>проспект мира</td>\n",
       "      <td>16</td>\n",
       "      <td>ЦАО</td>\n",
       "      <td>Мещанский район</td>\n",
       "    </tr>\n",
       "    <tr>\n",
       "      <td>7</td>\n",
       "      <td>181</td>\n",
       "      <td>профсоюзная улица</td>\n",
       "      <td>123</td>\n",
       "      <td>ЮЗАО</td>\n",
       "      <td>Академический район</td>\n",
       "    </tr>\n",
       "    <tr>\n",
       "      <td>8</td>\n",
       "      <td>181</td>\n",
       "      <td>профсоюзная улица</td>\n",
       "      <td>132</td>\n",
       "      <td>ЮЗАО</td>\n",
       "      <td>Район Черемушки</td>\n",
       "    </tr>\n",
       "    <tr>\n",
       "      <td>9</td>\n",
       "      <td>181</td>\n",
       "      <td>профсоюзная улица</td>\n",
       "      <td>134</td>\n",
       "      <td>ЮЗАО</td>\n",
       "      <td>Район Ясенево</td>\n",
       "    </tr>\n",
       "    <tr>\n",
       "      <td>10</td>\n",
       "      <td>181</td>\n",
       "      <td>профсоюзная улица</td>\n",
       "      <td>126</td>\n",
       "      <td>ЮЗАО</td>\n",
       "      <td>Район Коньково</td>\n",
       "    </tr>\n",
       "    <tr>\n",
       "      <td>11</td>\n",
       "      <td>181</td>\n",
       "      <td>профсоюзная улица</td>\n",
       "      <td>129</td>\n",
       "      <td>ЮЗАО</td>\n",
       "      <td>Обручевский район</td>\n",
       "    </tr>\n",
       "    <tr>\n",
       "      <td>12</td>\n",
       "      <td>181</td>\n",
       "      <td>профсоюзная улица</td>\n",
       "      <td>131</td>\n",
       "      <td>ЮЗАО</td>\n",
       "      <td>Район Теплый Стан</td>\n",
       "    </tr>\n",
       "    <tr>\n",
       "      <td>13</td>\n",
       "      <td>170</td>\n",
       "      <td>ленинградский проспект</td>\n",
       "      <td>54</td>\n",
       "      <td>САО</td>\n",
       "      <td>Район Аэропорт</td>\n",
       "    </tr>\n",
       "    <tr>\n",
       "      <td>14</td>\n",
       "      <td>170</td>\n",
       "      <td>ленинградский проспект</td>\n",
       "      <td>55</td>\n",
       "      <td>САО</td>\n",
       "      <td>Район Беговой</td>\n",
       "    </tr>\n",
       "    <tr>\n",
       "      <td>15</td>\n",
       "      <td>170</td>\n",
       "      <td>ленинградский проспект</td>\n",
       "      <td>69</td>\n",
       "      <td>САО</td>\n",
       "      <td>Хорошевский район</td>\n",
       "    </tr>\n",
       "    <tr>\n",
       "      <td>16</td>\n",
       "      <td>170</td>\n",
       "      <td>ленинградский проспект</td>\n",
       "      <td>66</td>\n",
       "      <td>САО</td>\n",
       "      <td>Район Сокол</td>\n",
       "    </tr>\n",
       "    <tr>\n",
       "      <td>17</td>\n",
       "      <td>167</td>\n",
       "      <td>пресненская набережная</td>\n",
       "      <td>17</td>\n",
       "      <td>ЦАО</td>\n",
       "      <td>Пресненский район</td>\n",
       "    </tr>\n",
       "    <tr>\n",
       "      <td>18</td>\n",
       "      <td>164</td>\n",
       "      <td>варшавское шоссе</td>\n",
       "      <td>109</td>\n",
       "      <td>ЮАО</td>\n",
       "      <td>Район Чертаново Центральное</td>\n",
       "    </tr>\n",
       "    <tr>\n",
       "      <td>19</td>\n",
       "      <td>164</td>\n",
       "      <td>варшавское шоссе</td>\n",
       "      <td>108</td>\n",
       "      <td>ЮАО</td>\n",
       "      <td>Район Чертаново Северное</td>\n",
       "    </tr>\n",
       "    <tr>\n",
       "      <td>20</td>\n",
       "      <td>164</td>\n",
       "      <td>варшавское шоссе</td>\n",
       "      <td>110</td>\n",
       "      <td>ЮАО</td>\n",
       "      <td>Район Чертаново Южное</td>\n",
       "    </tr>\n",
       "    <tr>\n",
       "      <td>21</td>\n",
       "      <td>164</td>\n",
       "      <td>варшавское шоссе</td>\n",
       "      <td>99</td>\n",
       "      <td>ЮАО</td>\n",
       "      <td>Донской район</td>\n",
       "    </tr>\n",
       "    <tr>\n",
       "      <td>22</td>\n",
       "      <td>164</td>\n",
       "      <td>варшавское шоссе</td>\n",
       "      <td>102</td>\n",
       "      <td>ЮАО</td>\n",
       "      <td>Район Нагатино-Садовники</td>\n",
       "    </tr>\n",
       "    <tr>\n",
       "      <td>23</td>\n",
       "      <td>164</td>\n",
       "      <td>варшавское шоссе</td>\n",
       "      <td>104</td>\n",
       "      <td>ЮАО</td>\n",
       "      <td>Нагорный район</td>\n",
       "    </tr>\n",
       "    <tr>\n",
       "      <td>24</td>\n",
       "      <td>164</td>\n",
       "      <td>варшавское шоссе</td>\n",
       "      <td>130</td>\n",
       "      <td>ЮЗАО</td>\n",
       "      <td>Район Северное Бутово</td>\n",
       "    </tr>\n",
       "    <tr>\n",
       "      <td>25</td>\n",
       "      <td>164</td>\n",
       "      <td>варшавское шоссе</td>\n",
       "      <td>133</td>\n",
       "      <td>ЮЗАО</td>\n",
       "      <td>Район Южное Бутово</td>\n",
       "    </tr>\n",
       "    <tr>\n",
       "      <td>26</td>\n",
       "      <td>147</td>\n",
       "      <td>ленинский проспект</td>\n",
       "      <td>44</td>\n",
       "      <td>ЗАО</td>\n",
       "      <td>Район Проспект Вернадского</td>\n",
       "    </tr>\n",
       "    <tr>\n",
       "      <td>27</td>\n",
       "      <td>147</td>\n",
       "      <td>ленинский проспект</td>\n",
       "      <td>47</td>\n",
       "      <td>ЗАО</td>\n",
       "      <td>Район Тропарево-Никулино</td>\n",
       "    </tr>\n",
       "    <tr>\n",
       "      <td>28</td>\n",
       "      <td>147</td>\n",
       "      <td>ленинский проспект</td>\n",
       "      <td>99</td>\n",
       "      <td>ЮАО</td>\n",
       "      <td>Донской район</td>\n",
       "    </tr>\n",
       "    <tr>\n",
       "      <td>29</td>\n",
       "      <td>147</td>\n",
       "      <td>ленинский проспект</td>\n",
       "      <td>124</td>\n",
       "      <td>ЮЗАО</td>\n",
       "      <td>Район Гагаринский</td>\n",
       "    </tr>\n",
       "    <tr>\n",
       "      <td>30</td>\n",
       "      <td>147</td>\n",
       "      <td>ленинский проспект</td>\n",
       "      <td>128</td>\n",
       "      <td>ЮЗАО</td>\n",
       "      <td>Ломоносовский район</td>\n",
       "    </tr>\n",
       "    <tr>\n",
       "      <td>31</td>\n",
       "      <td>147</td>\n",
       "      <td>ленинский проспект</td>\n",
       "      <td>129</td>\n",
       "      <td>ЮЗАО</td>\n",
       "      <td>Обручевский район</td>\n",
       "    </tr>\n",
       "    <tr>\n",
       "      <td>32</td>\n",
       "      <td>147</td>\n",
       "      <td>ленинский проспект</td>\n",
       "      <td>131</td>\n",
       "      <td>ЮЗАО</td>\n",
       "      <td>Район Теплый Стан</td>\n",
       "    </tr>\n",
       "    <tr>\n",
       "      <td>33</td>\n",
       "      <td>147</td>\n",
       "      <td>ленинский проспект</td>\n",
       "      <td>21</td>\n",
       "      <td>ЦАО</td>\n",
       "      <td>Район Якиманка</td>\n",
       "    </tr>\n",
       "    <tr>\n",
       "      <td>34</td>\n",
       "      <td>128</td>\n",
       "      <td>проспект вернадского</td>\n",
       "      <td>44</td>\n",
       "      <td>ЗАО</td>\n",
       "      <td>Район Проспект Вернадского</td>\n",
       "    </tr>\n",
       "    <tr>\n",
       "      <td>35</td>\n",
       "      <td>128</td>\n",
       "      <td>проспект вернадского</td>\n",
       "      <td>45</td>\n",
       "      <td>ЗАО</td>\n",
       "      <td>Район Раменки</td>\n",
       "    </tr>\n",
       "    <tr>\n",
       "      <td>36</td>\n",
       "      <td>128</td>\n",
       "      <td>проспект вернадского</td>\n",
       "      <td>47</td>\n",
       "      <td>ЗАО</td>\n",
       "      <td>Район Тропарево-Никулино</td>\n",
       "    </tr>\n",
       "    <tr>\n",
       "      <td>37</td>\n",
       "      <td>128</td>\n",
       "      <td>проспект вернадского</td>\n",
       "      <td>124</td>\n",
       "      <td>ЮЗАО</td>\n",
       "      <td>Район Гагаринский</td>\n",
       "    </tr>\n",
       "    <tr>\n",
       "      <td>38</td>\n",
       "      <td>128</td>\n",
       "      <td>проспект вернадского</td>\n",
       "      <td>128</td>\n",
       "      <td>ЮЗАО</td>\n",
       "      <td>Ломоносовский район</td>\n",
       "    </tr>\n",
       "    <tr>\n",
       "      <td>39</td>\n",
       "      <td>114</td>\n",
       "      <td>кутузовский проспект</td>\n",
       "      <td>38</td>\n",
       "      <td>ЗАО</td>\n",
       "      <td>Район Дорогомилово</td>\n",
       "    </tr>\n",
       "    <tr>\n",
       "      <td>40</td>\n",
       "      <td>114</td>\n",
       "      <td>кутузовский проспект</td>\n",
       "      <td>49</td>\n",
       "      <td>ЗАО</td>\n",
       "      <td>Район Фили-Давыдково</td>\n",
       "    </tr>\n",
       "    <tr>\n",
       "      <td>41</td>\n",
       "      <td>111</td>\n",
       "      <td>каширское шоссе</td>\n",
       "      <td>101</td>\n",
       "      <td>ЮАО</td>\n",
       "      <td>Район Москворечье-Сабурово</td>\n",
       "    </tr>\n",
       "    <tr>\n",
       "      <td>42</td>\n",
       "      <td>111</td>\n",
       "      <td>каширское шоссе</td>\n",
       "      <td>102</td>\n",
       "      <td>ЮАО</td>\n",
       "      <td>Район Нагатино-Садовники</td>\n",
       "    </tr>\n",
       "    <tr>\n",
       "      <td>43</td>\n",
       "      <td>111</td>\n",
       "      <td>каширское шоссе</td>\n",
       "      <td>106</td>\n",
       "      <td>ЮАО</td>\n",
       "      <td>Район Орехово-Борисово Южное</td>\n",
       "    </tr>\n",
       "    <tr>\n",
       "      <td>44</td>\n",
       "      <td>111</td>\n",
       "      <td>каширское шоссе</td>\n",
       "      <td>105</td>\n",
       "      <td>ЮАО</td>\n",
       "      <td>Район Орехово-Борисово Северное</td>\n",
       "    </tr>\n",
       "    <tr>\n",
       "      <td>45</td>\n",
       "      <td>108</td>\n",
       "      <td>кировоградская улица</td>\n",
       "      <td>109</td>\n",
       "      <td>ЮАО</td>\n",
       "      <td>Район Чертаново Центральное</td>\n",
       "    </tr>\n",
       "    <tr>\n",
       "      <td>46</td>\n",
       "      <td>108</td>\n",
       "      <td>кировоградская улица</td>\n",
       "      <td>108</td>\n",
       "      <td>ЮАО</td>\n",
       "      <td>Район Чертаново Северное</td>\n",
       "    </tr>\n",
       "    <tr>\n",
       "      <td>47</td>\n",
       "      <td>108</td>\n",
       "      <td>кировоградская улица</td>\n",
       "      <td>110</td>\n",
       "      <td>ЮАО</td>\n",
       "      <td>Район Чертаново Южное</td>\n",
       "    </tr>\n",
       "  </tbody>\n",
       "</table>\n",
       "</div>"
      ],
      "text/plain": [
       "    cnt_id              streetname  areaid okrug  \\\n",
       "0      203           проспект мира      70  СВАО   \n",
       "1      203           проспект мира      86  СВАО   \n",
       "2      203           проспект мира      78  СВАО   \n",
       "3      203           проспект мира      79  СВАО   \n",
       "4      203           проспект мира      81  СВАО   \n",
       "5      203           проспект мира      82  СВАО   \n",
       "6      203           проспект мира      16   ЦАО   \n",
       "7      181       профсоюзная улица     123  ЮЗАО   \n",
       "8      181       профсоюзная улица     132  ЮЗАО   \n",
       "9      181       профсоюзная улица     134  ЮЗАО   \n",
       "10     181       профсоюзная улица     126  ЮЗАО   \n",
       "11     181       профсоюзная улица     129  ЮЗАО   \n",
       "12     181       профсоюзная улица     131  ЮЗАО   \n",
       "13     170  ленинградский проспект      54   САО   \n",
       "14     170  ленинградский проспект      55   САО   \n",
       "15     170  ленинградский проспект      69   САО   \n",
       "16     170  ленинградский проспект      66   САО   \n",
       "17     167  пресненская набережная      17   ЦАО   \n",
       "18     164        варшавское шоссе     109   ЮАО   \n",
       "19     164        варшавское шоссе     108   ЮАО   \n",
       "20     164        варшавское шоссе     110   ЮАО   \n",
       "21     164        варшавское шоссе      99   ЮАО   \n",
       "22     164        варшавское шоссе     102   ЮАО   \n",
       "23     164        варшавское шоссе     104   ЮАО   \n",
       "24     164        варшавское шоссе     130  ЮЗАО   \n",
       "25     164        варшавское шоссе     133  ЮЗАО   \n",
       "26     147      ленинский проспект      44   ЗАО   \n",
       "27     147      ленинский проспект      47   ЗАО   \n",
       "28     147      ленинский проспект      99   ЮАО   \n",
       "29     147      ленинский проспект     124  ЮЗАО   \n",
       "30     147      ленинский проспект     128  ЮЗАО   \n",
       "31     147      ленинский проспект     129  ЮЗАО   \n",
       "32     147      ленинский проспект     131  ЮЗАО   \n",
       "33     147      ленинский проспект      21   ЦАО   \n",
       "34     128    проспект вернадского      44   ЗАО   \n",
       "35     128    проспект вернадского      45   ЗАО   \n",
       "36     128    проспект вернадского      47   ЗАО   \n",
       "37     128    проспект вернадского     124  ЮЗАО   \n",
       "38     128    проспект вернадского     128  ЮЗАО   \n",
       "39     114    кутузовский проспект      38   ЗАО   \n",
       "40     114    кутузовский проспект      49   ЗАО   \n",
       "41     111         каширское шоссе     101   ЮАО   \n",
       "42     111         каширское шоссе     102   ЮАО   \n",
       "43     111         каширское шоссе     106   ЮАО   \n",
       "44     111         каширское шоссе     105   ЮАО   \n",
       "45     108    кировоградская улица     109   ЮАО   \n",
       "46     108    кировоградская улица     108   ЮАО   \n",
       "47     108    кировоградская улица     110   ЮАО   \n",
       "\n",
       "                               area  \n",
       "0                Алексеевский район  \n",
       "1                 Ярославский Район  \n",
       "2                Район Марьина роща  \n",
       "3                Останкинский район  \n",
       "4                   Район Ростокино  \n",
       "5                    Район Свиблово  \n",
       "6                   Мещанский район  \n",
       "7               Академический район  \n",
       "8                   Район Черемушки  \n",
       "9                     Район Ясенево  \n",
       "10                   Район Коньково  \n",
       "11                Обручевский район  \n",
       "12                Район Теплый Стан  \n",
       "13                   Район Аэропорт  \n",
       "14                    Район Беговой  \n",
       "15                Хорошевский район  \n",
       "16                      Район Сокол  \n",
       "17                Пресненский район  \n",
       "18      Район Чертаново Центральное  \n",
       "19         Район Чертаново Северное  \n",
       "20            Район Чертаново Южное  \n",
       "21                    Донской район  \n",
       "22         Район Нагатино-Садовники  \n",
       "23                   Нагорный район  \n",
       "24            Район Северное Бутово  \n",
       "25               Район Южное Бутово  \n",
       "26       Район Проспект Вернадского  \n",
       "27         Район Тропарево-Никулино  \n",
       "28                    Донской район  \n",
       "29                Район Гагаринский  \n",
       "30              Ломоносовский район  \n",
       "31                Обручевский район  \n",
       "32                Район Теплый Стан  \n",
       "33                   Район Якиманка  \n",
       "34       Район Проспект Вернадского  \n",
       "35                    Район Раменки  \n",
       "36         Район Тропарево-Никулино  \n",
       "37                Район Гагаринский  \n",
       "38              Ломоносовский район  \n",
       "39               Район Дорогомилово  \n",
       "40             Район Фили-Давыдково  \n",
       "41       Район Москворечье-Сабурово  \n",
       "42         Район Нагатино-Садовники  \n",
       "43     Район Орехово-Борисово Южное  \n",
       "44  Район Орехово-Борисово Северное  \n",
       "45      Район Чертаново Центральное  \n",
       "46         Район Чертаново Северное  \n",
       "47            Район Чертаново Южное  "
      ]
     },
     "execution_count": 35,
     "metadata": {},
     "output_type": "execute_result"
    }
   ],
   "source": [
    "districts_top = top_10_streets.merge(districts\n",
    "                                     , left_on = 'street'\n",
    "                                     , right_on = 'streetname')\n",
    "districts_top"
   ]
  },
  {
   "cell_type": "code",
   "execution_count": 36,
   "metadata": {},
   "outputs": [],
   "source": [
    "districts_top = districts_top[['streetname', 'area']]"
   ]
  },
  {
   "cell_type": "code",
   "execution_count": 37,
   "metadata": {},
   "outputs": [
    {
     "data": {
      "text/html": [
       "<div>\n",
       "<style scoped>\n",
       "    .dataframe tbody tr th:only-of-type {\n",
       "        vertical-align: middle;\n",
       "    }\n",
       "\n",
       "    .dataframe tbody tr th {\n",
       "        vertical-align: top;\n",
       "    }\n",
       "\n",
       "    .dataframe thead th {\n",
       "        text-align: right;\n",
       "    }\n",
       "</style>\n",
       "<table border=\"1\" class=\"dataframe\">\n",
       "  <thead>\n",
       "    <tr style=\"text-align: right;\">\n",
       "      <th></th>\n",
       "      <th>streetname</th>\n",
       "      <th>area</th>\n",
       "    </tr>\n",
       "  </thead>\n",
       "  <tbody>\n",
       "    <tr>\n",
       "      <td>0</td>\n",
       "      <td>проспект мира</td>\n",
       "      <td>Алексеевский район</td>\n",
       "    </tr>\n",
       "    <tr>\n",
       "      <td>1</td>\n",
       "      <td>проспект мира</td>\n",
       "      <td>Ярославский Район</td>\n",
       "    </tr>\n",
       "    <tr>\n",
       "      <td>2</td>\n",
       "      <td>проспект мира</td>\n",
       "      <td>Район Марьина роща</td>\n",
       "    </tr>\n",
       "    <tr>\n",
       "      <td>3</td>\n",
       "      <td>проспект мира</td>\n",
       "      <td>Останкинский район</td>\n",
       "    </tr>\n",
       "    <tr>\n",
       "      <td>4</td>\n",
       "      <td>проспект мира</td>\n",
       "      <td>Район Ростокино</td>\n",
       "    </tr>\n",
       "    <tr>\n",
       "      <td>5</td>\n",
       "      <td>проспект мира</td>\n",
       "      <td>Район Свиблово</td>\n",
       "    </tr>\n",
       "    <tr>\n",
       "      <td>6</td>\n",
       "      <td>проспект мира</td>\n",
       "      <td>Мещанский район</td>\n",
       "    </tr>\n",
       "    <tr>\n",
       "      <td>7</td>\n",
       "      <td>профсоюзная улица</td>\n",
       "      <td>Академический район</td>\n",
       "    </tr>\n",
       "    <tr>\n",
       "      <td>8</td>\n",
       "      <td>профсоюзная улица</td>\n",
       "      <td>Район Черемушки</td>\n",
       "    </tr>\n",
       "    <tr>\n",
       "      <td>9</td>\n",
       "      <td>профсоюзная улица</td>\n",
       "      <td>Район Ясенево</td>\n",
       "    </tr>\n",
       "    <tr>\n",
       "      <td>10</td>\n",
       "      <td>профсоюзная улица</td>\n",
       "      <td>Район Коньково</td>\n",
       "    </tr>\n",
       "    <tr>\n",
       "      <td>11</td>\n",
       "      <td>профсоюзная улица</td>\n",
       "      <td>Обручевский район</td>\n",
       "    </tr>\n",
       "    <tr>\n",
       "      <td>12</td>\n",
       "      <td>профсоюзная улица</td>\n",
       "      <td>Район Теплый Стан</td>\n",
       "    </tr>\n",
       "    <tr>\n",
       "      <td>13</td>\n",
       "      <td>ленинградский проспект</td>\n",
       "      <td>Район Аэропорт</td>\n",
       "    </tr>\n",
       "    <tr>\n",
       "      <td>14</td>\n",
       "      <td>ленинградский проспект</td>\n",
       "      <td>Район Беговой</td>\n",
       "    </tr>\n",
       "    <tr>\n",
       "      <td>15</td>\n",
       "      <td>ленинградский проспект</td>\n",
       "      <td>Хорошевский район</td>\n",
       "    </tr>\n",
       "    <tr>\n",
       "      <td>16</td>\n",
       "      <td>ленинградский проспект</td>\n",
       "      <td>Район Сокол</td>\n",
       "    </tr>\n",
       "    <tr>\n",
       "      <td>17</td>\n",
       "      <td>пресненская набережная</td>\n",
       "      <td>Пресненский район</td>\n",
       "    </tr>\n",
       "    <tr>\n",
       "      <td>18</td>\n",
       "      <td>варшавское шоссе</td>\n",
       "      <td>Район Чертаново Центральное</td>\n",
       "    </tr>\n",
       "    <tr>\n",
       "      <td>19</td>\n",
       "      <td>варшавское шоссе</td>\n",
       "      <td>Район Чертаново Северное</td>\n",
       "    </tr>\n",
       "    <tr>\n",
       "      <td>20</td>\n",
       "      <td>варшавское шоссе</td>\n",
       "      <td>Район Чертаново Южное</td>\n",
       "    </tr>\n",
       "    <tr>\n",
       "      <td>21</td>\n",
       "      <td>варшавское шоссе</td>\n",
       "      <td>Донской район</td>\n",
       "    </tr>\n",
       "    <tr>\n",
       "      <td>22</td>\n",
       "      <td>варшавское шоссе</td>\n",
       "      <td>Район Нагатино-Садовники</td>\n",
       "    </tr>\n",
       "    <tr>\n",
       "      <td>23</td>\n",
       "      <td>варшавское шоссе</td>\n",
       "      <td>Нагорный район</td>\n",
       "    </tr>\n",
       "    <tr>\n",
       "      <td>24</td>\n",
       "      <td>варшавское шоссе</td>\n",
       "      <td>Район Северное Бутово</td>\n",
       "    </tr>\n",
       "    <tr>\n",
       "      <td>25</td>\n",
       "      <td>варшавское шоссе</td>\n",
       "      <td>Район Южное Бутово</td>\n",
       "    </tr>\n",
       "    <tr>\n",
       "      <td>26</td>\n",
       "      <td>ленинский проспект</td>\n",
       "      <td>Район Проспект Вернадского</td>\n",
       "    </tr>\n",
       "    <tr>\n",
       "      <td>27</td>\n",
       "      <td>ленинский проспект</td>\n",
       "      <td>Район Тропарево-Никулино</td>\n",
       "    </tr>\n",
       "    <tr>\n",
       "      <td>28</td>\n",
       "      <td>ленинский проспект</td>\n",
       "      <td>Донской район</td>\n",
       "    </tr>\n",
       "    <tr>\n",
       "      <td>29</td>\n",
       "      <td>ленинский проспект</td>\n",
       "      <td>Район Гагаринский</td>\n",
       "    </tr>\n",
       "    <tr>\n",
       "      <td>30</td>\n",
       "      <td>ленинский проспект</td>\n",
       "      <td>Ломоносовский район</td>\n",
       "    </tr>\n",
       "    <tr>\n",
       "      <td>31</td>\n",
       "      <td>ленинский проспект</td>\n",
       "      <td>Обручевский район</td>\n",
       "    </tr>\n",
       "    <tr>\n",
       "      <td>32</td>\n",
       "      <td>ленинский проспект</td>\n",
       "      <td>Район Теплый Стан</td>\n",
       "    </tr>\n",
       "    <tr>\n",
       "      <td>33</td>\n",
       "      <td>ленинский проспект</td>\n",
       "      <td>Район Якиманка</td>\n",
       "    </tr>\n",
       "    <tr>\n",
       "      <td>34</td>\n",
       "      <td>проспект вернадского</td>\n",
       "      <td>Район Проспект Вернадского</td>\n",
       "    </tr>\n",
       "    <tr>\n",
       "      <td>35</td>\n",
       "      <td>проспект вернадского</td>\n",
       "      <td>Район Раменки</td>\n",
       "    </tr>\n",
       "    <tr>\n",
       "      <td>36</td>\n",
       "      <td>проспект вернадского</td>\n",
       "      <td>Район Тропарево-Никулино</td>\n",
       "    </tr>\n",
       "    <tr>\n",
       "      <td>37</td>\n",
       "      <td>проспект вернадского</td>\n",
       "      <td>Район Гагаринский</td>\n",
       "    </tr>\n",
       "    <tr>\n",
       "      <td>38</td>\n",
       "      <td>проспект вернадского</td>\n",
       "      <td>Ломоносовский район</td>\n",
       "    </tr>\n",
       "    <tr>\n",
       "      <td>39</td>\n",
       "      <td>кутузовский проспект</td>\n",
       "      <td>Район Дорогомилово</td>\n",
       "    </tr>\n",
       "    <tr>\n",
       "      <td>40</td>\n",
       "      <td>кутузовский проспект</td>\n",
       "      <td>Район Фили-Давыдково</td>\n",
       "    </tr>\n",
       "    <tr>\n",
       "      <td>41</td>\n",
       "      <td>каширское шоссе</td>\n",
       "      <td>Район Москворечье-Сабурово</td>\n",
       "    </tr>\n",
       "    <tr>\n",
       "      <td>42</td>\n",
       "      <td>каширское шоссе</td>\n",
       "      <td>Район Нагатино-Садовники</td>\n",
       "    </tr>\n",
       "    <tr>\n",
       "      <td>43</td>\n",
       "      <td>каширское шоссе</td>\n",
       "      <td>Район Орехово-Борисово Южное</td>\n",
       "    </tr>\n",
       "    <tr>\n",
       "      <td>44</td>\n",
       "      <td>каширское шоссе</td>\n",
       "      <td>Район Орехово-Борисово Северное</td>\n",
       "    </tr>\n",
       "    <tr>\n",
       "      <td>45</td>\n",
       "      <td>кировоградская улица</td>\n",
       "      <td>Район Чертаново Центральное</td>\n",
       "    </tr>\n",
       "    <tr>\n",
       "      <td>46</td>\n",
       "      <td>кировоградская улица</td>\n",
       "      <td>Район Чертаново Северное</td>\n",
       "    </tr>\n",
       "    <tr>\n",
       "      <td>47</td>\n",
       "      <td>кировоградская улица</td>\n",
       "      <td>Район Чертаново Южное</td>\n",
       "    </tr>\n",
       "  </tbody>\n",
       "</table>\n",
       "</div>"
      ],
      "text/plain": [
       "                streetname                             area\n",
       "0            проспект мира               Алексеевский район\n",
       "1            проспект мира                Ярославский Район\n",
       "2            проспект мира               Район Марьина роща\n",
       "3            проспект мира               Останкинский район\n",
       "4            проспект мира                  Район Ростокино\n",
       "5            проспект мира                   Район Свиблово\n",
       "6            проспект мира                  Мещанский район\n",
       "7        профсоюзная улица              Академический район\n",
       "8        профсоюзная улица                  Район Черемушки\n",
       "9        профсоюзная улица                    Район Ясенево\n",
       "10       профсоюзная улица                   Район Коньково\n",
       "11       профсоюзная улица                Обручевский район\n",
       "12       профсоюзная улица                Район Теплый Стан\n",
       "13  ленинградский проспект                   Район Аэропорт\n",
       "14  ленинградский проспект                    Район Беговой\n",
       "15  ленинградский проспект                Хорошевский район\n",
       "16  ленинградский проспект                      Район Сокол\n",
       "17  пресненская набережная                Пресненский район\n",
       "18        варшавское шоссе      Район Чертаново Центральное\n",
       "19        варшавское шоссе         Район Чертаново Северное\n",
       "20        варшавское шоссе            Район Чертаново Южное\n",
       "21        варшавское шоссе                    Донской район\n",
       "22        варшавское шоссе         Район Нагатино-Садовники\n",
       "23        варшавское шоссе                   Нагорный район\n",
       "24        варшавское шоссе            Район Северное Бутово\n",
       "25        варшавское шоссе               Район Южное Бутово\n",
       "26      ленинский проспект       Район Проспект Вернадского\n",
       "27      ленинский проспект         Район Тропарево-Никулино\n",
       "28      ленинский проспект                    Донской район\n",
       "29      ленинский проспект                Район Гагаринский\n",
       "30      ленинский проспект              Ломоносовский район\n",
       "31      ленинский проспект                Обручевский район\n",
       "32      ленинский проспект                Район Теплый Стан\n",
       "33      ленинский проспект                   Район Якиманка\n",
       "34    проспект вернадского       Район Проспект Вернадского\n",
       "35    проспект вернадского                    Район Раменки\n",
       "36    проспект вернадского         Район Тропарево-Никулино\n",
       "37    проспект вернадского                Район Гагаринский\n",
       "38    проспект вернадского              Ломоносовский район\n",
       "39    кутузовский проспект               Район Дорогомилово\n",
       "40    кутузовский проспект             Район Фили-Давыдково\n",
       "41         каширское шоссе       Район Москворечье-Сабурово\n",
       "42         каширское шоссе         Район Нагатино-Садовники\n",
       "43         каширское шоссе     Район Орехово-Борисово Южное\n",
       "44         каширское шоссе  Район Орехово-Борисово Северное\n",
       "45    кировоградская улица      Район Чертаново Центральное\n",
       "46    кировоградская улица         Район Чертаново Северное\n",
       "47    кировоградская улица            Район Чертаново Южное"
      ]
     },
     "execution_count": 37,
     "metadata": {},
     "output_type": "execute_result"
    }
   ],
   "source": [
    "districts_top"
   ]
  },
  {
   "cell_type": "markdown",
   "metadata": {},
   "source": [
    "Список районов, в которых находятся эти улицы:"
   ]
  },
  {
   "cell_type": "code",
   "execution_count": 38,
   "metadata": {
    "scrolled": true
   },
   "outputs": [
    {
     "name": "stdout",
     "output_type": "stream",
     "text": [
      "- Академический район\n",
      "- Алексеевский район\n",
      "- Донской район\n",
      "- Ломоносовский район\n",
      "- Мещанский район\n",
      "- Нагорный район\n",
      "- Обручевский район\n",
      "- Останкинский район\n",
      "- Пресненский район\n",
      "- Район Аэропорт\n",
      "- Район Беговой\n",
      "- Район Гагаринский\n",
      "- Район Дорогомилово\n",
      "- Район Коньково\n",
      "- Район Марьина роща\n",
      "- Район Москворечье-Сабурово\n",
      "- Район Нагатино-Садовники\n",
      "- Район Орехово-Борисово Северное\n",
      "- Район Орехово-Борисово Южное\n",
      "- Район Проспект Вернадского\n",
      "- Район Раменки\n",
      "- Район Ростокино\n",
      "- Район Свиблово\n",
      "- Район Северное Бутово\n",
      "- Район Сокол\n",
      "- Район Теплый Стан\n",
      "- Район Тропарево-Никулино\n",
      "- Район Фили-Давыдково\n",
      "- Район Черемушки\n",
      "- Район Чертаново Северное\n",
      "- Район Чертаново Центральное\n",
      "- Район Чертаново Южное\n",
      "- Район Южное Бутово\n",
      "- Район Якиманка\n",
      "- Район Ясенево\n",
      "- Хорошевский район\n",
      "- Ярославский Район\n"
     ]
    }
   ],
   "source": [
    "for area in districts_top['area'].sort_values().unique():\n",
    "    print('-', area)"
   ]
  },
  {
   "cell_type": "markdown",
   "metadata": {},
   "source": [
    "#### Найдите число улиц с одним объектом общественного питания. Воспользуйтесь внешней информацией и ответьте на вопрос — в каких районах Москвы находятся эти улицы?"
   ]
  },
  {
   "cell_type": "code",
   "execution_count": 39,
   "metadata": {},
   "outputs": [
    {
     "data": {
      "text/html": [
       "<div>\n",
       "<style scoped>\n",
       "    .dataframe tbody tr th:only-of-type {\n",
       "        vertical-align: middle;\n",
       "    }\n",
       "\n",
       "    .dataframe tbody tr th {\n",
       "        vertical-align: top;\n",
       "    }\n",
       "\n",
       "    .dataframe thead th {\n",
       "        text-align: right;\n",
       "    }\n",
       "</style>\n",
       "<table border=\"1\" class=\"dataframe\">\n",
       "  <thead>\n",
       "    <tr style=\"text-align: right;\">\n",
       "      <th></th>\n",
       "      <th>cnt_id</th>\n",
       "    </tr>\n",
       "    <tr>\n",
       "      <th>street</th>\n",
       "      <th></th>\n",
       "    </tr>\n",
       "  </thead>\n",
       "  <tbody>\n",
       "    <tr>\n",
       "      <td>щёлковский проезд</td>\n",
       "      <td>1</td>\n",
       "    </tr>\n",
       "    <tr>\n",
       "      <td>улица медиков</td>\n",
       "      <td>1</td>\n",
       "    </tr>\n",
       "    <tr>\n",
       "      <td>улица медведева</td>\n",
       "      <td>1</td>\n",
       "    </tr>\n",
       "    <tr>\n",
       "      <td>улица клочкова</td>\n",
       "      <td>1</td>\n",
       "    </tr>\n",
       "    <tr>\n",
       "      <td>электрический переулок</td>\n",
       "      <td>1</td>\n",
       "    </tr>\n",
       "    <tr>\n",
       "      <td>...</td>\n",
       "      <td>...</td>\n",
       "    </tr>\n",
       "    <tr>\n",
       "      <td>новорублёвская улица</td>\n",
       "      <td>1</td>\n",
       "    </tr>\n",
       "    <tr>\n",
       "      <td>новосибирская улица</td>\n",
       "      <td>1</td>\n",
       "    </tr>\n",
       "    <tr>\n",
       "      <td>новохорошёвский проезд</td>\n",
       "      <td>1</td>\n",
       "    </tr>\n",
       "    <tr>\n",
       "      <td>норильская улица</td>\n",
       "      <td>1</td>\n",
       "    </tr>\n",
       "    <tr>\n",
       "      <td>яхромская улица</td>\n",
       "      <td>1</td>\n",
       "    </tr>\n",
       "  </tbody>\n",
       "</table>\n",
       "<p>553 rows × 1 columns</p>\n",
       "</div>"
      ],
      "text/plain": [
       "                        cnt_id\n",
       "street                        \n",
       "щёлковский проезд            1\n",
       "улица медиков                1\n",
       "улица медведева              1\n",
       "улица клочкова               1\n",
       "электрический переулок       1\n",
       "...                        ...\n",
       "новорублёвская улица         1\n",
       "новосибирская улица          1\n",
       "новохорошёвский проезд       1\n",
       "норильская улица             1\n",
       "яхромская улица              1\n",
       "\n",
       "[553 rows x 1 columns]"
      ]
     },
     "execution_count": 39,
     "metadata": {},
     "output_type": "execute_result"
    }
   ],
   "source": [
    "streets_1_rest = rest_streets.query('cnt_id == 1')\n",
    "streets_1_rest"
   ]
  },
  {
   "cell_type": "markdown",
   "metadata": {},
   "source": [
    "Всего таких улиц - 553. Посмотрим, в каких районах они находятся:"
   ]
  },
  {
   "cell_type": "code",
   "execution_count": 40,
   "metadata": {
    "scrolled": false
   },
   "outputs": [
    {
     "data": {
      "text/html": [
       "<div>\n",
       "<style scoped>\n",
       "    .dataframe tbody tr th:only-of-type {\n",
       "        vertical-align: middle;\n",
       "    }\n",
       "\n",
       "    .dataframe tbody tr th {\n",
       "        vertical-align: top;\n",
       "    }\n",
       "\n",
       "    .dataframe thead th {\n",
       "        text-align: right;\n",
       "    }\n",
       "</style>\n",
       "<table border=\"1\" class=\"dataframe\">\n",
       "  <thead>\n",
       "    <tr style=\"text-align: right;\">\n",
       "      <th></th>\n",
       "      <th>cnt_id</th>\n",
       "      <th>streetname</th>\n",
       "      <th>areaid</th>\n",
       "      <th>okrug</th>\n",
       "      <th>area</th>\n",
       "    </tr>\n",
       "  </thead>\n",
       "  <tbody>\n",
       "    <tr>\n",
       "      <td>0</td>\n",
       "      <td>1</td>\n",
       "      <td>щёлковский проезд</td>\n",
       "      <td>35</td>\n",
       "      <td>ВАО</td>\n",
       "      <td>Район Северное Измайлово</td>\n",
       "    </tr>\n",
       "    <tr>\n",
       "      <td>1</td>\n",
       "      <td>1</td>\n",
       "      <td>улица медиков</td>\n",
       "      <td>107</td>\n",
       "      <td>ЮАО</td>\n",
       "      <td>Район Царицыно</td>\n",
       "    </tr>\n",
       "    <tr>\n",
       "      <td>2</td>\n",
       "      <td>1</td>\n",
       "      <td>улица медведева</td>\n",
       "      <td>28</td>\n",
       "      <td>ВАО</td>\n",
       "      <td>Район Косино-Ухтомский</td>\n",
       "    </tr>\n",
       "    <tr>\n",
       "      <td>3</td>\n",
       "      <td>1</td>\n",
       "      <td>улица клочкова</td>\n",
       "      <td>49</td>\n",
       "      <td>ЗАО</td>\n",
       "      <td>Район Фили-Давыдково</td>\n",
       "    </tr>\n",
       "    <tr>\n",
       "      <td>4</td>\n",
       "      <td>1</td>\n",
       "      <td>электрический переулок</td>\n",
       "      <td>17</td>\n",
       "      <td>ЦАО</td>\n",
       "      <td>Пресненский район</td>\n",
       "    </tr>\n",
       "    <tr>\n",
       "      <td>...</td>\n",
       "      <td>...</td>\n",
       "      <td>...</td>\n",
       "      <td>...</td>\n",
       "      <td>...</td>\n",
       "      <td>...</td>\n",
       "    </tr>\n",
       "    <tr>\n",
       "      <td>559</td>\n",
       "      <td>1</td>\n",
       "      <td>новопресненский переулок</td>\n",
       "      <td>17</td>\n",
       "      <td>ЦАО</td>\n",
       "      <td>Пресненский район</td>\n",
       "    </tr>\n",
       "    <tr>\n",
       "      <td>560</td>\n",
       "      <td>1</td>\n",
       "      <td>новорублёвская улица</td>\n",
       "      <td>40</td>\n",
       "      <td>ЗАО</td>\n",
       "      <td>Район Кунцево</td>\n",
       "    </tr>\n",
       "    <tr>\n",
       "      <td>561</td>\n",
       "      <td>1</td>\n",
       "      <td>новосибирская улица</td>\n",
       "      <td>25</td>\n",
       "      <td>ВАО</td>\n",
       "      <td>Район Гольяново</td>\n",
       "    </tr>\n",
       "    <tr>\n",
       "      <td>562</td>\n",
       "      <td>1</td>\n",
       "      <td>норильская улица</td>\n",
       "      <td>76</td>\n",
       "      <td>СВАО</td>\n",
       "      <td>Лосиноостровский район</td>\n",
       "    </tr>\n",
       "    <tr>\n",
       "      <td>563</td>\n",
       "      <td>1</td>\n",
       "      <td>яхромская улица</td>\n",
       "      <td>60</td>\n",
       "      <td>САО</td>\n",
       "      <td>Дмитровский район</td>\n",
       "    </tr>\n",
       "  </tbody>\n",
       "</table>\n",
       "<p>564 rows × 5 columns</p>\n",
       "</div>"
      ],
      "text/plain": [
       "     cnt_id                streetname  areaid okrug                      area\n",
       "0         1         щёлковский проезд      35   ВАО  Район Северное Измайлово\n",
       "1         1             улица медиков     107   ЮАО            Район Царицыно\n",
       "2         1           улица медведева      28   ВАО    Район Косино-Ухтомский\n",
       "3         1            улица клочкова      49   ЗАО      Район Фили-Давыдково\n",
       "4         1    электрический переулок      17   ЦАО         Пресненский район\n",
       "..      ...                       ...     ...   ...                       ...\n",
       "559       1  новопресненский переулок      17   ЦАО         Пресненский район\n",
       "560       1      новорублёвская улица      40   ЗАО             Район Кунцево\n",
       "561       1       новосибирская улица      25   ВАО           Район Гольяново\n",
       "562       1          норильская улица      76  СВАО    Лосиноостровский район\n",
       "563       1           яхромская улица      60   САО         Дмитровский район\n",
       "\n",
       "[564 rows x 5 columns]"
      ]
     },
     "execution_count": 40,
     "metadata": {},
     "output_type": "execute_result"
    }
   ],
   "source": [
    "districts_1_rest = streets_1_rest.merge(districts\n",
    "                                     , left_on = 'street'\n",
    "                                     , right_on = 'streetname')\n",
    "districts_1_rest"
   ]
  },
  {
   "cell_type": "code",
   "execution_count": 41,
   "metadata": {
    "scrolled": true
   },
   "outputs": [
    {
     "name": "stdout",
     "output_type": "stream",
     "text": [
      "- Алексеевский район\n",
      "- Алтуфьевский район\n",
      "- Бабушкинский район\n",
      "- Басманный район\n",
      "- Бескудниковский Район\n",
      "- Бутырский район\n",
      "- Войковский Район\n",
      "- Головинский район\n",
      "- Даниловский район\n",
      "- Дмитровский район\n",
      "- Донской район\n",
      "- Красносельский район\n",
      "- Лосиноостровский район\n",
      "- Мещанский район\n",
      "- Можайский Район\n",
      "- Молжаниновский район\n",
      "- Нагорный район\n",
      "- Нижегородский район\n",
      "- Обручевский район\n",
      "- Останкинский район\n",
      "- Панфиловский район\n",
      "- Пресненский район\n",
      "- Район Арбат\n",
      "- Район Аэропорт\n",
      "- Район Беговой\n",
      "- Район Бирюлево Восточное\n",
      "- Район Богородское\n",
      "- Район Внуково\n",
      "- Район Восточное Измайлово\n",
      "- Район Восточный\n",
      "- Район Выхино-Жулебино\n",
      "- Район Гагаринский\n",
      "- Район Гольяново\n",
      "- Район Дорогомилово\n",
      "- Район Замоскворечье\n",
      "- Район Западное Дегунино\n",
      "- Район Зюзино\n",
      "- Район Ивановское\n",
      "- Район Измайлово\n",
      "- Район Коньково\n",
      "- Район Коптево\n",
      "- Район Косино-Ухтомский\n",
      "- Район Котловка\n",
      "- Район Крюково\n",
      "- Район Кузьминки\n",
      "- Район Кунцево\n",
      "- Район Куркино\n",
      "- Район Левобережный\n",
      "- Район Лефортово\n",
      "- Район Люблино\n",
      "- Район Марфино\n",
      "- Район Марьина роща\n",
      "- Район Марьино\n",
      "- Район Матушкино-Савелки\n",
      "- Район Метрогородок\n",
      "- Район Митино\n",
      "- Район Москворечье-Сабурово\n",
      "- Район Ново-Переделкино\n",
      "- Район Новогиреево\n",
      "- Район Отрадное\n",
      "- Район Очаково-Матвеевское\n",
      "- Район Перово\n",
      "- Район Печатники\n",
      "- Район Покровское-Стрешнево\n",
      "- Район Преображенское\n",
      "- Район Раменки\n",
      "- Район Ростокино\n",
      "- Район Свиблово\n",
      "- Район Северное Бутово\n",
      "- Район Северное Измайлово\n",
      "- Район Северное Медведково\n",
      "- Район Северный\n",
      "- Район Сокол\n",
      "- Район Соколиная Гора\n",
      "- Район Сокольники\n",
      "- Район Солнцево\n",
      "- Район Строгино\n",
      "- Район Текстильщики\n",
      "- Район Филевский Парк\n",
      "- Район Фили-Давыдково\n",
      "- Район Хамовники\n",
      "- Район Хорошево-Мневники\n",
      "- Район Царицыно\n",
      "- Район Черемушки\n",
      "- Район Чертаново Северное\n",
      "- Район Чертаново Южное\n",
      "- Район Щукино\n",
      "- Район Южное Бутово\n",
      "- Район Южное Медведково\n",
      "- Район Южное Тушино\n",
      "- Район Якиманка\n",
      "- Район Ясенево\n",
      "- Рязанский район\n",
      "- Савеловский район\n",
      "- Таганский район\n",
      "- Тверской район\n",
      "- Тимирязевский Район\n",
      "- Хорошевский район\n",
      "- Южнопортовый Район\n",
      "- Ярославский Район\n"
     ]
    }
   ],
   "source": [
    "for area in districts_1_rest['area'].sort_values().unique():\n",
    "    print('-', area)"
   ]
  },
  {
   "cell_type": "code",
   "execution_count": 42,
   "metadata": {},
   "outputs": [
    {
     "data": {
      "text/html": [
       "<div>\n",
       "<style scoped>\n",
       "    .dataframe tbody tr th:only-of-type {\n",
       "        vertical-align: middle;\n",
       "    }\n",
       "\n",
       "    .dataframe tbody tr th {\n",
       "        vertical-align: top;\n",
       "    }\n",
       "\n",
       "    .dataframe thead th {\n",
       "        text-align: right;\n",
       "    }\n",
       "</style>\n",
       "<table border=\"1\" class=\"dataframe\">\n",
       "  <thead>\n",
       "    <tr style=\"text-align: right;\">\n",
       "      <th></th>\n",
       "      <th>streetname</th>\n",
       "    </tr>\n",
       "    <tr>\n",
       "      <th>area</th>\n",
       "      <th></th>\n",
       "    </tr>\n",
       "  </thead>\n",
       "  <tbody>\n",
       "    <tr>\n",
       "      <td>Таганский район</td>\n",
       "      <td>27</td>\n",
       "    </tr>\n",
       "    <tr>\n",
       "      <td>Район Хамовники</td>\n",
       "      <td>26</td>\n",
       "    </tr>\n",
       "    <tr>\n",
       "      <td>Басманный район</td>\n",
       "      <td>25</td>\n",
       "    </tr>\n",
       "    <tr>\n",
       "      <td>Тверской район</td>\n",
       "      <td>20</td>\n",
       "    </tr>\n",
       "    <tr>\n",
       "      <td>Пресненский район</td>\n",
       "      <td>19</td>\n",
       "    </tr>\n",
       "    <tr>\n",
       "      <td>...</td>\n",
       "      <td>...</td>\n",
       "    </tr>\n",
       "    <tr>\n",
       "      <td>Алтуфьевский район</td>\n",
       "      <td>1</td>\n",
       "    </tr>\n",
       "    <tr>\n",
       "      <td>Район Марьино</td>\n",
       "      <td>1</td>\n",
       "    </tr>\n",
       "    <tr>\n",
       "      <td>Район Метрогородок</td>\n",
       "      <td>1</td>\n",
       "    </tr>\n",
       "    <tr>\n",
       "      <td>Район Москворечье-Сабурово</td>\n",
       "      <td>1</td>\n",
       "    </tr>\n",
       "    <tr>\n",
       "      <td>Район Марфино</td>\n",
       "      <td>1</td>\n",
       "    </tr>\n",
       "  </tbody>\n",
       "</table>\n",
       "<p>100 rows × 1 columns</p>\n",
       "</div>"
      ],
      "text/plain": [
       "                            streetname\n",
       "area                                  \n",
       "Таганский район                     27\n",
       "Район Хамовники                     26\n",
       "Басманный район                     25\n",
       "Тверской район                      20\n",
       "Пресненский район                   19\n",
       "...                                ...\n",
       "Алтуфьевский район                   1\n",
       "Район Марьино                        1\n",
       "Район Метрогородок                   1\n",
       "Район Москворечье-Сабурово           1\n",
       "Район Марфино                        1\n",
       "\n",
       "[100 rows x 1 columns]"
      ]
     },
     "execution_count": 42,
     "metadata": {},
     "output_type": "execute_result"
    }
   ],
   "source": [
    "districts_1_rest.groupby('area').agg({'streetname' : 'nunique'}).sort_values(by = 'streetname', ascending = False)\n"
   ]
  },
  {
   "cell_type": "markdown",
   "metadata": {},
   "source": [
    "Больше всего таких улиц в Таганском районе (27), Хамовниках (26) и в Басманном районе (25). Скорее всего, это связано с более плотной застройкой, и как следствие большим количеством небольших улиц и переулков. "
   ]
  },
  {
   "cell_type": "markdown",
   "metadata": {},
   "source": [
    "Посмотрим, в каких районах есть улицы с самым большим количеством заведений и с самым маленьким:"
   ]
  },
  {
   "cell_type": "code",
   "execution_count": 43,
   "metadata": {},
   "outputs": [
    {
     "name": "stdout",
     "output_type": "stream",
     "text": [
      "- Алексеевский район\n",
      "- Донской район\n",
      "- Мещанский район\n",
      "- Нагорный район\n",
      "- Обручевский район\n",
      "- Останкинский район\n",
      "- Пресненский район\n",
      "- Район Аэропорт\n",
      "- Район Беговой\n",
      "- Район Гагаринский\n",
      "- Район Дорогомилово\n",
      "- Район Коньково\n",
      "- Район Марьина роща\n",
      "- Район Москворечье-Сабурово\n",
      "- Район Раменки\n",
      "- Район Ростокино\n",
      "- Район Свиблово\n",
      "- Район Северное Бутово\n",
      "- Район Сокол\n",
      "- Район Фили-Давыдково\n",
      "- Район Черемушки\n",
      "- Район Чертаново Северное\n",
      "- Район Чертаново Южное\n",
      "- Район Южное Бутово\n",
      "- Район Якиманка\n",
      "- Район Ясенево\n",
      "- Хорошевский район\n",
      "- Ярославский Район\n"
     ]
    }
   ],
   "source": [
    "districs_both = districts_top[districts_top['area'].isin(districts_1_rest['area'])]\n",
    "for area in districs_both['area'].sort_values().unique():\n",
    "    print('-', area)"
   ]
  },
  {
   "cell_type": "markdown",
   "metadata": {},
   "source": [
    "Думаю, по этим данным можно сделать предположение о том, какой район может быть перспективным в плане открытия нового кафе: \n",
    "- тут есть улицы и с большим количеством заведений. Будем считать, что это популярные для отдыхающих места, что скорее всего говорит о том, что район хороший: не какая-нибудь промзона с одним-единственным кафе \"для-своих\". Но и из-за этого здесь слишком высокая конкуренция, арендная плата и тд\n",
    "- и улицы, где есть всего одно заведение общественного питания. То есть, есть возможность открыть заведение на не самой популярной улице, но в одном из самых популярных районов. \n"
   ]
  },
  {
   "cell_type": "markdown",
   "metadata": {},
   "source": [
    "####  Посмотрите на распределение количества посадочных мест для улиц с большим количеством объектов общественного питания. Какие закономерности можно выявить?"
   ]
  },
  {
   "cell_type": "code",
   "execution_count": 44,
   "metadata": {},
   "outputs": [
    {
     "data": {
      "text/html": [
       "<div>\n",
       "<style scoped>\n",
       "    .dataframe tbody tr th:only-of-type {\n",
       "        vertical-align: middle;\n",
       "    }\n",
       "\n",
       "    .dataframe tbody tr th {\n",
       "        vertical-align: top;\n",
       "    }\n",
       "\n",
       "    .dataframe thead th {\n",
       "        text-align: right;\n",
       "    }\n",
       "</style>\n",
       "<table border=\"1\" class=\"dataframe\">\n",
       "  <thead>\n",
       "    <tr style=\"text-align: right;\">\n",
       "      <th></th>\n",
       "      <th>id</th>\n",
       "      <th>object_name</th>\n",
       "      <th>chain</th>\n",
       "      <th>object_type</th>\n",
       "      <th>address</th>\n",
       "      <th>number</th>\n",
       "      <th>street</th>\n",
       "    </tr>\n",
       "  </thead>\n",
       "  <tbody>\n",
       "    <tr>\n",
       "      <td>151</td>\n",
       "      <td>155973</td>\n",
       "      <td>кафе «андерсон»</td>\n",
       "      <td>да</td>\n",
       "      <td>кафе</td>\n",
       "      <td>город москва, варшавское шоссе, дом 2</td>\n",
       "      <td>150</td>\n",
       "      <td>варшавское шоссе</td>\n",
       "    </tr>\n",
       "    <tr>\n",
       "      <td>152</td>\n",
       "      <td>23618</td>\n",
       "      <td>кафе «subway»</td>\n",
       "      <td>да</td>\n",
       "      <td>кафе</td>\n",
       "      <td>город москва, варшавское шоссе, дом 7, корпус 1</td>\n",
       "      <td>36</td>\n",
       "      <td>варшавское шоссе</td>\n",
       "    </tr>\n",
       "    <tr>\n",
       "      <td>153</td>\n",
       "      <td>155852</td>\n",
       "      <td>кафе «ламаджо»</td>\n",
       "      <td>нет</td>\n",
       "      <td>кафе</td>\n",
       "      <td>город москва, варшавское шоссе, дом 29</td>\n",
       "      <td>30</td>\n",
       "      <td>варшавское шоссе</td>\n",
       "    </tr>\n",
       "    <tr>\n",
       "      <td>154</td>\n",
       "      <td>152556</td>\n",
       "      <td>шаурма в пите</td>\n",
       "      <td>нет</td>\n",
       "      <td>предприятие быстрого обслуживания</td>\n",
       "      <td>город москва, варшавское шоссе, дом 72, корпус 2</td>\n",
       "      <td>0</td>\n",
       "      <td>варшавское шоссе</td>\n",
       "    </tr>\n",
       "    <tr>\n",
       "      <td>155</td>\n",
       "      <td>120658</td>\n",
       "      <td>выпечка</td>\n",
       "      <td>нет</td>\n",
       "      <td>кафетерий</td>\n",
       "      <td>город москва, варшавское шоссе, дом 100</td>\n",
       "      <td>2</td>\n",
       "      <td>варшавское шоссе</td>\n",
       "    </tr>\n",
       "    <tr>\n",
       "      <td>...</td>\n",
       "      <td>...</td>\n",
       "      <td>...</td>\n",
       "      <td>...</td>\n",
       "      <td>...</td>\n",
       "      <td>...</td>\n",
       "      <td>...</td>\n",
       "      <td>...</td>\n",
       "    </tr>\n",
       "    <tr>\n",
       "      <td>15308</td>\n",
       "      <td>213629</td>\n",
       "      <td>додо пицца</td>\n",
       "      <td>да</td>\n",
       "      <td>кафе</td>\n",
       "      <td>город москва, пресненская набережная, дом 12</td>\n",
       "      <td>25</td>\n",
       "      <td>пресненская набережная</td>\n",
       "    </tr>\n",
       "    <tr>\n",
       "      <td>15325</td>\n",
       "      <td>198436</td>\n",
       "      <td>милти</td>\n",
       "      <td>да</td>\n",
       "      <td>предприятие быстрого обслуживания</td>\n",
       "      <td>город москва, ленинградский проспект, дом 80, ...</td>\n",
       "      <td>0</td>\n",
       "      <td>ленинградский проспект</td>\n",
       "    </tr>\n",
       "    <tr>\n",
       "      <td>15347</td>\n",
       "      <td>222491</td>\n",
       "      <td>кальянная «мята lounge»</td>\n",
       "      <td>да</td>\n",
       "      <td>кафе</td>\n",
       "      <td>город москва, профсоюзная улица, дом 142, корп...</td>\n",
       "      <td>40</td>\n",
       "      <td>профсоюзная улица</td>\n",
       "    </tr>\n",
       "    <tr>\n",
       "      <td>15350</td>\n",
       "      <td>213061</td>\n",
       "      <td>мята</td>\n",
       "      <td>да</td>\n",
       "      <td>кафетерий</td>\n",
       "      <td>город москва, каширское шоссе, дом 96, корпус 1</td>\n",
       "      <td>35</td>\n",
       "      <td>каширское шоссе</td>\n",
       "    </tr>\n",
       "    <tr>\n",
       "      <td>15358</td>\n",
       "      <td>213724</td>\n",
       "      <td>шоколадница</td>\n",
       "      <td>да</td>\n",
       "      <td>кафе</td>\n",
       "      <td>город москва, варшавское шоссе, дом 87б</td>\n",
       "      <td>54</td>\n",
       "      <td>варшавское шоссе</td>\n",
       "    </tr>\n",
       "  </tbody>\n",
       "</table>\n",
       "<p>1493 rows × 7 columns</p>\n",
       "</div>"
      ],
      "text/plain": [
       "           id              object_name chain  \\\n",
       "151    155973          кафе «андерсон»    да   \n",
       "152     23618            кафе «subway»    да   \n",
       "153    155852           кафе «ламаджо»   нет   \n",
       "154    152556            шаурма в пите   нет   \n",
       "155    120658                  выпечка   нет   \n",
       "...       ...                      ...   ...   \n",
       "15308  213629               додо пицца    да   \n",
       "15325  198436                    милти    да   \n",
       "15347  222491  кальянная «мята lounge»    да   \n",
       "15350  213061                     мята    да   \n",
       "15358  213724              шоколадница    да   \n",
       "\n",
       "                             object_type  \\\n",
       "151                                 кафе   \n",
       "152                                 кафе   \n",
       "153                                 кафе   \n",
       "154    предприятие быстрого обслуживания   \n",
       "155                            кафетерий   \n",
       "...                                  ...   \n",
       "15308                               кафе   \n",
       "15325  предприятие быстрого обслуживания   \n",
       "15347                               кафе   \n",
       "15350                          кафетерий   \n",
       "15358                               кафе   \n",
       "\n",
       "                                                 address  number  \\\n",
       "151                город москва, варшавское шоссе, дом 2     150   \n",
       "152      город москва, варшавское шоссе, дом 7, корпус 1      36   \n",
       "153               город москва, варшавское шоссе, дом 29      30   \n",
       "154     город москва, варшавское шоссе, дом 72, корпус 2       0   \n",
       "155              город москва, варшавское шоссе, дом 100       2   \n",
       "...                                                  ...     ...   \n",
       "15308       город москва, пресненская набережная, дом 12      25   \n",
       "15325  город москва, ленинградский проспект, дом 80, ...       0   \n",
       "15347  город москва, профсоюзная улица, дом 142, корп...      40   \n",
       "15350    город москва, каширское шоссе, дом 96, корпус 1      35   \n",
       "15358            город москва, варшавское шоссе, дом 87б      54   \n",
       "\n",
       "                       street  \n",
       "151          варшавское шоссе  \n",
       "152          варшавское шоссе  \n",
       "153          варшавское шоссе  \n",
       "154          варшавское шоссе  \n",
       "155          варшавское шоссе  \n",
       "...                       ...  \n",
       "15308  пресненская набережная  \n",
       "15325  ленинградский проспект  \n",
       "15347       профсоюзная улица  \n",
       "15350         каширское шоссе  \n",
       "15358        варшавское шоссе  \n",
       "\n",
       "[1493 rows x 7 columns]"
      ]
     },
     "execution_count": 44,
     "metadata": {},
     "output_type": "execute_result"
    }
   ],
   "source": [
    "top_10_data = rest_data[rest_data['street'].isin(top_10_streets.reset_index()['street'])]\n",
    "top_10_data"
   ]
  },
  {
   "cell_type": "code",
   "execution_count": 45,
   "metadata": {
    "scrolled": true
   },
   "outputs": [
    {
     "data": {
      "image/png": "[encoded data removed]",
      "text/plain": [
       "<Figure size 432x288 with 1 Axes>"
      ]
     },
     "metadata": {
      "needs_background": "light"
     },
     "output_type": "display_data"
    }
   ],
   "source": [
    "top_10_data.groupby('street')['number'].median().sort_values().plot(kind = 'barh')\n",
    "plt.title('Медианные значения количества мест для улиц с большим количеством объектов общественного питания')\n",
    "plt.ylabel(None)\n",
    "plt.xlabel('Медианное значение количества мест');"
   ]
  },
  {
   "cell_type": "code",
   "execution_count": 46,
   "metadata": {
    "scrolled": false
   },
   "outputs": [
    {
     "data": {
      "text/plain": [
       "street\n",
       "проспект мира             48\n",
       "ленинский проспект        45\n",
       "проспект вернадского      40\n",
       "ленинградский проспект    40\n",
       "кутузовский проспект      40\n",
       "пресненская набережная    30\n",
       "кировоградская улица      30\n",
       "варшавское шоссе          30\n",
       "каширское шоссе           25\n",
       "профсоюзная улица         24\n",
       "Name: number, dtype: int64"
      ]
     },
     "execution_count": 46,
     "metadata": {},
     "output_type": "execute_result"
    }
   ],
   "source": [
    "top_10_data.groupby('street')['number'].median().sort_values(ascending = False)"
   ]
  },
  {
   "cell_type": "code",
   "execution_count": 47,
   "metadata": {},
   "outputs": [
    {
     "data": {
      "text/html": [
       "<div>\n",
       "<style scoped>\n",
       "    .dataframe tbody tr th:only-of-type {\n",
       "        vertical-align: middle;\n",
       "    }\n",
       "\n",
       "    .dataframe tbody tr th {\n",
       "        vertical-align: top;\n",
       "    }\n",
       "\n",
       "    .dataframe thead th {\n",
       "        text-align: right;\n",
       "    }\n",
       "</style>\n",
       "<table border=\"1\" class=\"dataframe\">\n",
       "  <thead>\n",
       "    <tr style=\"text-align: right;\">\n",
       "      <th></th>\n",
       "      <th>count</th>\n",
       "      <th>mean</th>\n",
       "      <th>std</th>\n",
       "      <th>min</th>\n",
       "      <th>25%</th>\n",
       "      <th>50%</th>\n",
       "      <th>75%</th>\n",
       "      <th>max</th>\n",
       "    </tr>\n",
       "    <tr>\n",
       "      <th>street</th>\n",
       "      <th></th>\n",
       "      <th></th>\n",
       "      <th></th>\n",
       "      <th></th>\n",
       "      <th></th>\n",
       "      <th></th>\n",
       "      <th></th>\n",
       "      <th></th>\n",
       "    </tr>\n",
       "  </thead>\n",
       "  <tbody>\n",
       "    <tr>\n",
       "      <td>варшавское шоссе</td>\n",
       "      <td>164.0</td>\n",
       "      <td>52.475610</td>\n",
       "      <td>74.530387</td>\n",
       "      <td>0.0</td>\n",
       "      <td>8.0</td>\n",
       "      <td>30.0</td>\n",
       "      <td>64.25</td>\n",
       "      <td>500.0</td>\n",
       "    </tr>\n",
       "    <tr>\n",
       "      <td>каширское шоссе</td>\n",
       "      <td>111.0</td>\n",
       "      <td>55.504505</td>\n",
       "      <td>87.962376</td>\n",
       "      <td>0.0</td>\n",
       "      <td>7.0</td>\n",
       "      <td>25.0</td>\n",
       "      <td>77.50</td>\n",
       "      <td>680.0</td>\n",
       "    </tr>\n",
       "    <tr>\n",
       "      <td>кировоградская улица</td>\n",
       "      <td>108.0</td>\n",
       "      <td>59.787037</td>\n",
       "      <td>79.480327</td>\n",
       "      <td>0.0</td>\n",
       "      <td>6.0</td>\n",
       "      <td>30.0</td>\n",
       "      <td>65.50</td>\n",
       "      <td>300.0</td>\n",
       "    </tr>\n",
       "    <tr>\n",
       "      <td>кутузовский проспект</td>\n",
       "      <td>114.0</td>\n",
       "      <td>85.061404</td>\n",
       "      <td>194.464196</td>\n",
       "      <td>0.0</td>\n",
       "      <td>20.0</td>\n",
       "      <td>40.0</td>\n",
       "      <td>96.00</td>\n",
       "      <td>1700.0</td>\n",
       "    </tr>\n",
       "    <tr>\n",
       "      <td>ленинградский проспект</td>\n",
       "      <td>170.0</td>\n",
       "      <td>52.764706</td>\n",
       "      <td>63.361020</td>\n",
       "      <td>0.0</td>\n",
       "      <td>15.0</td>\n",
       "      <td>40.0</td>\n",
       "      <td>70.00</td>\n",
       "      <td>625.0</td>\n",
       "    </tr>\n",
       "    <tr>\n",
       "      <td>ленинский проспект</td>\n",
       "      <td>147.0</td>\n",
       "      <td>63.469388</td>\n",
       "      <td>67.969706</td>\n",
       "      <td>0.0</td>\n",
       "      <td>20.0</td>\n",
       "      <td>45.0</td>\n",
       "      <td>80.00</td>\n",
       "      <td>495.0</td>\n",
       "    </tr>\n",
       "    <tr>\n",
       "      <td>пресненская набережная</td>\n",
       "      <td>167.0</td>\n",
       "      <td>45.844311</td>\n",
       "      <td>65.316834</td>\n",
       "      <td>0.0</td>\n",
       "      <td>8.5</td>\n",
       "      <td>30.0</td>\n",
       "      <td>50.00</td>\n",
       "      <td>478.0</td>\n",
       "    </tr>\n",
       "    <tr>\n",
       "      <td>проспект вернадского</td>\n",
       "      <td>128.0</td>\n",
       "      <td>68.804688</td>\n",
       "      <td>123.295181</td>\n",
       "      <td>0.0</td>\n",
       "      <td>20.0</td>\n",
       "      <td>40.0</td>\n",
       "      <td>80.00</td>\n",
       "      <td>1288.0</td>\n",
       "    </tr>\n",
       "    <tr>\n",
       "      <td>проспект мира</td>\n",
       "      <td>203.0</td>\n",
       "      <td>63.004926</td>\n",
       "      <td>58.952615</td>\n",
       "      <td>0.0</td>\n",
       "      <td>20.0</td>\n",
       "      <td>48.0</td>\n",
       "      <td>90.00</td>\n",
       "      <td>326.0</td>\n",
       "    </tr>\n",
       "    <tr>\n",
       "      <td>профсоюзная улица</td>\n",
       "      <td>181.0</td>\n",
       "      <td>46.668508</td>\n",
       "      <td>56.195201</td>\n",
       "      <td>0.0</td>\n",
       "      <td>5.0</td>\n",
       "      <td>24.0</td>\n",
       "      <td>65.00</td>\n",
       "      <td>240.0</td>\n",
       "    </tr>\n",
       "  </tbody>\n",
       "</table>\n",
       "</div>"
      ],
      "text/plain": [
       "                        count       mean         std  min   25%   50%    75%  \\\n",
       "street                                                                         \n",
       "варшавское шоссе        164.0  52.475610   74.530387  0.0   8.0  30.0  64.25   \n",
       "каширское шоссе         111.0  55.504505   87.962376  0.0   7.0  25.0  77.50   \n",
       "кировоградская улица    108.0  59.787037   79.480327  0.0   6.0  30.0  65.50   \n",
       "кутузовский проспект    114.0  85.061404  194.464196  0.0  20.0  40.0  96.00   \n",
       "ленинградский проспект  170.0  52.764706   63.361020  0.0  15.0  40.0  70.00   \n",
       "ленинский проспект      147.0  63.469388   67.969706  0.0  20.0  45.0  80.00   \n",
       "пресненская набережная  167.0  45.844311   65.316834  0.0   8.5  30.0  50.00   \n",
       "проспект вернадского    128.0  68.804688  123.295181  0.0  20.0  40.0  80.00   \n",
       "проспект мира           203.0  63.004926   58.952615  0.0  20.0  48.0  90.00   \n",
       "профсоюзная улица       181.0  46.668508   56.195201  0.0   5.0  24.0  65.00   \n",
       "\n",
       "                           max  \n",
       "street                          \n",
       "варшавское шоссе         500.0  \n",
       "каширское шоссе          680.0  \n",
       "кировоградская улица     300.0  \n",
       "кутузовский проспект    1700.0  \n",
       "ленинградский проспект   625.0  \n",
       "ленинский проспект       495.0  \n",
       "пресненская набережная   478.0  \n",
       "проспект вернадского    1288.0  \n",
       "проспект мира            326.0  \n",
       "профсоюзная улица        240.0  "
      ]
     },
     "execution_count": 47,
     "metadata": {},
     "output_type": "execute_result"
    }
   ],
   "source": [
    "top_10_data.groupby('street')['number'].describe()"
   ]
  },
  {
   "cell_type": "code",
   "execution_count": 48,
   "metadata": {
    "scrolled": false
   },
   "outputs": [
    {
     "data": {
      "text/plain": [
       "count    10.000000\n",
       "mean     35.200000\n",
       "std       8.430105\n",
       "min      24.000000\n",
       "25%      30.000000\n",
       "50%      35.000000\n",
       "75%      40.000000\n",
       "max      48.000000\n",
       "Name: number, dtype: float64"
      ]
     },
     "execution_count": 48,
     "metadata": {},
     "output_type": "execute_result"
    }
   ],
   "source": [
    "top_10_data.groupby('street')['number'].median().describe()"
   ]
  },
  {
   "cell_type": "markdown",
   "metadata": {},
   "source": [
    "На Проспекте Мира находятся самые большие заведения по медианному значению количества мест. На Профсоюзной же находятся совсем небольшие заведения: медиана количества мест там составляет 24 места.\n",
    "Но в целом на улицах с большим количеством объектов общественного питания завдения не очень большие: медианные значения не превышают 48."
   ]
  },
  {
   "cell_type": "markdown",
   "metadata": {},
   "source": [
    "Посмотрим на распределение количества посадочных мест на этих улицах:"
   ]
  },
  {
   "cell_type": "code",
   "execution_count": 52,
   "metadata": {},
   "outputs": [
    {
     "data": {
      "image/png": "[encoded data removed]",
      "text/plain": [
       "<Figure size 432x288 with 1 Axes>"
      ]
     },
     "metadata": {
      "needs_background": "light"
     },
     "output_type": "display_data"
    }
   ],
   "source": [
    "top_10_data['number'].plot(kind = 'hist', xlim = (0, 350), bins=70)\n",
    "plt.title('Распределение количества посадочных мест')\n",
    "plt.ylabel('Частота')\n",
    "plt.xlabel('Количество мест');"
   ]
  },
  {
   "cell_type": "markdown",
   "metadata": {},
   "source": [
    "Как видим, в большинстве заведений не больше 25 посадочных мест. Ближе к 100-125 частотность понижается.  Интересны небольшие пики на цифрах 150, 200, 300: быть может, это связано с какими-то стандартами по количеству мест. <br>\n",
    "Вообще для расчета оптимального количества посадочных мест существует различные формулы и стандарты. Из интересного: оказывается  количество мест в ресторане, размещаемом выше 16-го этажа, не должно превышать 100 мест (в соответствии с МГСН 4.04-94, информация с mos.ru). Вот! <br>\n",
    "Так что тут скорее всего пики связаны с тем, что в помещении стандартная площадь (200, 300, 500 квадратных метров) --> рассчитанное по формуле количество посадочных мест."
   ]
  },
  {
   "cell_type": "markdown",
   "metadata": {},
   "source": [
    "###  Общий вывод"
   ]
  },
  {
   "cell_type": "markdown",
   "metadata": {},
   "source": [
    "Проанализировали данные:\n",
    "- С большим отрывом по количеству идут кафе - их 6071, что составляет 39.7%. Практически наравне - столовые (2584, 16.9%) и рестораны (2282, 14.9%). На последнем месте - отдел кулинарии в магазине (273, 1.8%).\n",
    "- Среди сетевых заведений больше всего кафе - 1396 (47.1%), предприятий быстрого обслуживания (788, 26.6%) и ресторанов (543, 18.3%)\n",
    "- Из расчетов также следует, что предприятия быстрого обслуживания чаще остальных являются сетевыми: среди общего количества 41.5% являются сетевыми. На втором месте - отделы кулинарии в магазинах (но это, скорее всего, связано с сетевым типом магазинов, здесь 28.5%) На третьем же месте - рестораны с 23%. Реже остальных - столовые, там нет и 1% сетевого типа заведений: 0.11%.\n",
    "- В 90% сетей не более 120 посадочных мести и не более 8 заведений. То есть можно сделать вывод о том, что для сетевых заведений характерно небольшое количество заведений с большим количеством мест.\n",
    "- Больше всего посадочных мест в столовых (в среднем - 130), далее идут рестораны (96 посадочных мест), на третьем - буфеты. Меньше всего посадочных мест в отделах кулинарии в магазинах (их там в среднем около 5)\n",
    "- Больше всего заведений общественного питания находится на Проспекте мира, также в тройке лидеров Профсоюзная улица и Ленинградский проспект.\n",
    "- Количество улиц с одним заведнием общественного питания - 553.\n",
    "- На Проспекте Мира находятся самые большие заведения по медианному значению количества мест. На Профсоюзной же находятся совсем небольшие заведения: медиана количества мест там составляет 24 места.\n",
    "Но в целом на улицах с большим количеством объектов общественного питания завдения не очень большие: медианные значения не превышают 48. \n",
    "- Также был выделен список районов, в которых есть улицы с самым большим количеством заведений и улицы только с одним заведением. По этим данным можно сделать предположение о том, какой район может быть перспективным в плане открытия нового кафе.\n",
    "\n"
   ]
  },
  {
   "cell_type": "markdown",
   "metadata": {},
   "source": [
    "Рекомендации:\n",
    "- По типу заведения: кафе или ресторан. Среди заведений больше всего (и поэтому предполагаем, что популярнее) кафе, столовые и рестораны. Столовая предполагает чаще всего самообслуживание, и фишка в роботах тут скорее всего не сработает. Также такая тематика может подойти предприятиям быстрого обслуживания: в таких заведениях меню обычно стандартизировано, а вместо официантов - кассиры. \n",
    "- По количеству посадочных мест: в 90% случаев в заведениях не больше 120 мест. Так что рекомендуется ориентироваться на это число. Также необходимо понимать, сколько роботов планируется закупить и сколько человек они могут обслужить. И уже из всех этих цифр принимать решение. \n",
    "- По району: - был выделен список районов, в которых есть улицы с самым большим количеством заведений и улицы только с одним заведением:\n",
    "        - Алексеевский район\n",
    "        - Донской район\n",
    "        - Мещанский район\n",
    "        - Нагорный район\n",
    "        - Обручевский район\n",
    "        - Останкинский район\n",
    "        - Пресненский район\n",
    "        - Район Аэропорт\n",
    "        - Район Беговой\n",
    "        - Район Гагаринский\n",
    "        - Район Дорогомилово\n",
    "        - Район Коньково\n",
    "        - Район Марьина роща\n",
    "        - Район Москворечье-Сабурово\n",
    "        - Район Раменки\n",
    "        - Район Ростокино\n",
    "        - Район Свиблово\n",
    "        - Район Северное Бутово\n",
    "        - Район Сокол\n",
    "        - Район Фили-Давыдково\n",
    "        - Район Черемушки\n",
    "        - Район Чертаново Северное\n",
    "        - Район Чертаново Южное\n",
    "        - Район Южное Бутово\n",
    "        - Район Якиманка\n",
    "        - Район Ясенево\n",
    "        - Хорошевский район\n",
    "        - Ярославский Район \n",
    "    По этим данным можно сделать предположение о том, какой район может быть перспективным в плане открытия нового кафе: \n",
    "    - тут есть улицы и с большим количеством заведений. Будем считать, что это популярные для отдыхающих места, что скорее всего говорит о том, что район хороший: не какая-нибудь промзона с одним-единственным кафе \"для-своих\". Но и из-за этого здесь слишком высокая конкуренция, арендная плата и тд\n",
    "    - и улицы, где есть всего одно заведение общественного питания. То есть, есть возможность открыть заведение на не самой популярной улице, но в одном из самых популярных районов. "
   ]
  },
  {
   "cell_type": "markdown",
   "metadata": {},
   "source": [
    "### Презентация"
   ]
  },
  {
   "cell_type": "markdown",
   "metadata": {},
   "source": [
    "Презентация: https://docs.google.com/presentation/d/1-mWPdRXm-tEe3sMiAE1BNVaZF5i1BOgmiPIcIrMDjAo/edit?usp=sharing"
   ]
  }
 ],
 "metadata": {
  "ExecuteTimeLog": [
   {
    "duration": 1553,
    "start_time": "2021-10-14T19:41:12.974Z"
   },
   {
    "duration": 4,
    "start_time": "2021-10-14T19:41:14.946Z"
   },
   {
    "duration": 729,
    "start_time": "2021-10-14T19:41:40.227Z"
   },
   {
    "duration": 134,
    "start_time": "2021-10-14T19:41:51.881Z"
   },
   {
    "duration": 400,
    "start_time": "2021-10-14T19:42:00.717Z"
   },
   {
    "duration": 129,
    "start_time": "2021-10-14T19:42:41.538Z"
   },
   {
    "duration": 1496,
    "start_time": "2021-10-14T19:48:25.723Z"
   },
   {
    "duration": 2791,
    "start_time": "2021-10-14T19:48:27.222Z"
   },
   {
    "duration": -39,
    "start_time": "2021-10-14T19:48:30.057Z"
   },
   {
    "duration": -42,
    "start_time": "2021-10-14T19:48:30.062Z"
   },
   {
    "duration": -45,
    "start_time": "2021-10-14T19:48:30.067Z"
   },
   {
    "duration": -47,
    "start_time": "2021-10-14T19:48:30.071Z"
   },
   {
    "duration": -55,
    "start_time": "2021-10-14T19:48:30.081Z"
   },
   {
    "duration": -56,
    "start_time": "2021-10-14T19:48:30.085Z"
   },
   {
    "duration": -58,
    "start_time": "2021-10-14T19:48:30.089Z"
   },
   {
    "duration": -63,
    "start_time": "2021-10-14T19:48:30.096Z"
   },
   {
    "duration": -65,
    "start_time": "2021-10-14T19:48:30.100Z"
   },
   {
    "duration": -65,
    "start_time": "2021-10-14T19:48:30.103Z"
   },
   {
    "duration": -67,
    "start_time": "2021-10-14T19:48:30.106Z"
   },
   {
    "duration": -68,
    "start_time": "2021-10-14T19:48:30.109Z"
   },
   {
    "duration": -70,
    "start_time": "2021-10-14T19:48:30.113Z"
   },
   {
    "duration": -71,
    "start_time": "2021-10-14T19:48:30.116Z"
   },
   {
    "duration": -72,
    "start_time": "2021-10-14T19:48:30.119Z"
   },
   {
    "duration": -73,
    "start_time": "2021-10-14T19:48:30.122Z"
   },
   {
    "duration": 1489,
    "start_time": "2021-10-14T20:47:50.628Z"
   },
   {
    "duration": 57,
    "start_time": "2021-10-14T20:47:52.120Z"
   },
   {
    "duration": 19,
    "start_time": "2021-10-14T20:47:52.179Z"
   },
   {
    "duration": 14,
    "start_time": "2021-10-14T20:47:52.201Z"
   },
   {
    "duration": 56,
    "start_time": "2021-10-14T20:47:52.218Z"
   },
   {
    "duration": 31,
    "start_time": "2021-10-14T20:47:52.277Z"
   },
   {
    "duration": 64,
    "start_time": "2021-10-14T20:47:52.311Z"
   },
   {
    "duration": 10,
    "start_time": "2021-10-14T20:47:52.380Z"
   },
   {
    "duration": 19,
    "start_time": "2021-10-14T20:47:52.393Z"
   },
   {
    "duration": 44,
    "start_time": "2021-10-14T20:47:52.415Z"
   },
   {
    "duration": 12,
    "start_time": "2021-10-14T20:47:52.462Z"
   },
   {
    "duration": 20,
    "start_time": "2021-10-14T20:47:52.476Z"
   },
   {
    "duration": 494,
    "start_time": "2021-10-14T20:47:52.499Z"
   },
   {
    "duration": 328,
    "start_time": "2021-10-14T20:47:52.996Z"
   },
   {
    "duration": 15,
    "start_time": "2021-10-14T20:47:53.327Z"
   },
   {
    "duration": 698,
    "start_time": "2021-10-14T20:47:53.359Z"
   },
   {
    "duration": 634,
    "start_time": "2021-10-14T20:47:54.061Z"
   },
   {
    "duration": -61,
    "start_time": "2021-10-14T20:47:54.758Z"
   },
   {
    "duration": 477,
    "start_time": "2021-10-14T20:51:53.753Z"
   },
   {
    "duration": 10423,
    "start_time": "2021-10-14T20:54:55.034Z"
   },
   {
    "duration": 28,
    "start_time": "2021-10-14T20:56:11.157Z"
   },
   {
    "duration": 19,
    "start_time": "2021-10-14T20:58:58.156Z"
   },
   {
    "duration": 9,
    "start_time": "2021-10-14T20:59:24.093Z"
   },
   {
    "duration": 15860,
    "start_time": "2021-10-14T20:59:36.491Z"
   },
   {
    "duration": -131,
    "start_time": "2021-10-14T21:00:35.635Z"
   },
   {
    "duration": 13618,
    "start_time": "2021-10-14T21:00:38.052Z"
   },
   {
    "duration": 395,
    "start_time": "2021-10-14T21:01:02.590Z"
   },
   {
    "duration": 10,
    "start_time": "2021-10-14T21:01:59.855Z"
   },
   {
    "duration": 19,
    "start_time": "2021-10-14T21:02:08.139Z"
   },
   {
    "duration": 136,
    "start_time": "2021-10-14T21:02:29.085Z"
   },
   {
    "duration": 21,
    "start_time": "2021-10-14T21:02:34.468Z"
   },
   {
    "duration": 439,
    "start_time": "2021-10-14T21:03:25.526Z"
   },
   {
    "duration": 411,
    "start_time": "2021-10-14T21:05:01.529Z"
   },
   {
    "duration": 363,
    "start_time": "2021-10-14T21:05:37.691Z"
   },
   {
    "duration": 407,
    "start_time": "2021-10-14T21:05:49.452Z"
   },
   {
    "duration": 383,
    "start_time": "2021-10-14T21:05:55.775Z"
   },
   {
    "duration": 514,
    "start_time": "2021-10-14T21:06:14.971Z"
   },
   {
    "duration": 548,
    "start_time": "2021-10-14T21:06:22.055Z"
   },
   {
    "duration": 9,
    "start_time": "2021-10-14T21:07:29.775Z"
   },
   {
    "duration": 6,
    "start_time": "2021-10-14T21:07:57.461Z"
   },
   {
    "duration": 7,
    "start_time": "2021-10-14T21:08:33.733Z"
   },
   {
    "duration": 294,
    "start_time": "2021-10-14T21:09:30.075Z"
   },
   {
    "duration": 284,
    "start_time": "2021-10-14T21:10:04.542Z"
   },
   {
    "duration": 783,
    "start_time": "2021-10-14T21:10:16.529Z"
   },
   {
    "duration": 291,
    "start_time": "2021-10-14T21:10:50.495Z"
   },
   {
    "duration": 8,
    "start_time": "2021-10-14T21:13:23.731Z"
   },
   {
    "duration": 102,
    "start_time": "2021-10-14T21:15:19.987Z"
   },
   {
    "duration": 11666,
    "start_time": "2021-10-14T21:18:53.942Z"
   },
   {
    "duration": 450,
    "start_time": "2021-10-14T21:19:35.064Z"
   },
   {
    "duration": 5,
    "start_time": "2021-10-14T21:19:51.135Z"
   },
   {
    "duration": 272,
    "start_time": "2021-10-14T21:19:57.133Z"
   },
   {
    "duration": 29849,
    "start_time": "2021-10-14T21:21:28.900Z"
   },
   {
    "duration": 398,
    "start_time": "2021-10-14T21:23:00.259Z"
   },
   {
    "duration": 20,
    "start_time": "2021-10-14T21:23:08.753Z"
   },
   {
    "duration": 554,
    "start_time": "2021-10-14T21:23:31.279Z"
   },
   {
    "duration": 374,
    "start_time": "2021-10-14T21:23:37.629Z"
   },
   {
    "duration": 346,
    "start_time": "2021-10-14T21:24:22.341Z"
   },
   {
    "duration": 367,
    "start_time": "2021-10-14T21:25:44.279Z"
   },
   {
    "duration": 459,
    "start_time": "2021-10-14T21:25:50.483Z"
   },
   {
    "duration": 356,
    "start_time": "2021-10-14T21:26:01.094Z"
   },
   {
    "duration": 399,
    "start_time": "2021-10-14T21:26:30.689Z"
   },
   {
    "duration": 344,
    "start_time": "2021-10-14T21:26:36.795Z"
   },
   {
    "duration": 16,
    "start_time": "2021-10-14T21:26:40.015Z"
   },
   {
    "duration": 11,
    "start_time": "2021-10-14T21:26:51.597Z"
   },
   {
    "duration": 160,
    "start_time": "2021-10-14T21:27:30.124Z"
   },
   {
    "duration": 1558,
    "start_time": "2021-10-16T12:09:52.492Z"
   },
   {
    "duration": 56,
    "start_time": "2021-10-16T12:09:54.053Z"
   },
   {
    "duration": 18,
    "start_time": "2021-10-16T12:09:54.113Z"
   },
   {
    "duration": 33,
    "start_time": "2021-10-16T12:09:54.134Z"
   },
   {
    "duration": 42,
    "start_time": "2021-10-16T12:09:54.170Z"
   },
   {
    "duration": 31,
    "start_time": "2021-10-16T12:09:54.215Z"
   },
   {
    "duration": 57,
    "start_time": "2021-10-16T12:09:54.249Z"
   },
   {
    "duration": 13,
    "start_time": "2021-10-16T12:09:54.312Z"
   },
   {
    "duration": 41,
    "start_time": "2021-10-16T12:09:54.329Z"
   },
   {
    "duration": 25,
    "start_time": "2021-10-16T12:09:54.373Z"
   },
   {
    "duration": 12,
    "start_time": "2021-10-16T12:09:54.401Z"
   },
   {
    "duration": 49,
    "start_time": "2021-10-16T12:09:54.415Z"
   },
   {
    "duration": 301,
    "start_time": "2021-10-16T12:09:54.467Z"
   },
   {
    "duration": 228,
    "start_time": "2021-10-16T12:09:54.771Z"
   },
   {
    "duration": 10,
    "start_time": "2021-10-16T12:09:55.001Z"
   },
   {
    "duration": 19,
    "start_time": "2021-10-16T12:09:55.014Z"
   },
   {
    "duration": 413,
    "start_time": "2021-10-16T12:09:55.035Z"
   },
   {
    "duration": 17,
    "start_time": "2021-10-16T12:09:55.451Z"
   },
   {
    "duration": 313,
    "start_time": "2021-10-16T12:09:55.471Z"
   },
   {
    "duration": 8,
    "start_time": "2021-10-16T12:09:55.787Z"
   },
   {
    "duration": 411,
    "start_time": "2021-10-16T12:09:55.798Z"
   },
   {
    "duration": 389,
    "start_time": "2021-10-16T12:09:56.211Z"
   },
   {
    "duration": 12,
    "start_time": "2021-10-16T12:09:56.604Z"
   },
   {
    "duration": 439,
    "start_time": "2021-10-16T12:13:04.672Z"
   },
   {
    "duration": 308,
    "start_time": "2021-10-16T12:13:15.896Z"
   },
   {
    "duration": 107,
    "start_time": "2021-10-16T12:14:19.096Z"
   },
   {
    "duration": 15,
    "start_time": "2021-10-16T12:14:28.930Z"
   },
   {
    "duration": 315,
    "start_time": "2021-10-16T12:15:10.966Z"
   },
   {
    "duration": 232,
    "start_time": "2021-10-16T12:15:24.323Z"
   },
   {
    "duration": 522,
    "start_time": "2021-10-16T12:15:40.135Z"
   },
   {
    "duration": 375,
    "start_time": "2021-10-16T12:15:59.950Z"
   },
   {
    "duration": 396,
    "start_time": "2021-10-16T12:16:59.803Z"
   },
   {
    "duration": 398,
    "start_time": "2021-10-16T12:17:35.368Z"
   },
   {
    "duration": 397,
    "start_time": "2021-10-16T12:17:38.971Z"
   },
   {
    "duration": 444,
    "start_time": "2021-10-16T12:17:46.684Z"
   },
   {
    "duration": 390,
    "start_time": "2021-10-16T12:17:52.648Z"
   },
   {
    "duration": 231,
    "start_time": "2021-10-16T12:18:01.010Z"
   },
   {
    "duration": 293,
    "start_time": "2021-10-16T12:18:06.207Z"
   },
   {
    "duration": 310,
    "start_time": "2021-10-16T12:18:25.915Z"
   },
   {
    "duration": 1098,
    "start_time": "2021-10-16T12:19:10.310Z"
   },
   {
    "duration": 300,
    "start_time": "2021-10-16T12:19:18.246Z"
   },
   {
    "duration": 4,
    "start_time": "2021-10-16T12:20:37.917Z"
   },
   {
    "duration": 383,
    "start_time": "2021-10-16T12:21:00.777Z"
   },
   {
    "duration": 319,
    "start_time": "2021-10-16T12:21:10.777Z"
   },
   {
    "duration": 303,
    "start_time": "2021-10-16T12:21:37.307Z"
   },
   {
    "duration": 336,
    "start_time": "2021-10-16T12:21:41.501Z"
   },
   {
    "duration": 637,
    "start_time": "2021-10-16T12:22:53.728Z"
   },
   {
    "duration": 430,
    "start_time": "2021-10-16T12:23:01.770Z"
   },
   {
    "duration": 5,
    "start_time": "2021-10-16T12:23:07.219Z"
   },
   {
    "duration": 348,
    "start_time": "2021-10-16T12:23:09.152Z"
   },
   {
    "duration": 631,
    "start_time": "2021-10-16T12:23:14.498Z"
   },
   {
    "duration": 4,
    "start_time": "2021-10-16T12:23:22.061Z"
   },
   {
    "duration": 304,
    "start_time": "2021-10-16T12:23:24.004Z"
   },
   {
    "duration": 292,
    "start_time": "2021-10-16T12:24:12.596Z"
   },
   {
    "duration": 5,
    "start_time": "2021-10-16T12:24:26.948Z"
   },
   {
    "duration": 302,
    "start_time": "2021-10-16T12:24:38.984Z"
   },
   {
    "duration": 226,
    "start_time": "2021-10-16T12:25:22.961Z"
   },
   {
    "duration": 5,
    "start_time": "2021-10-16T12:27:19.553Z"
   },
   {
    "duration": 285,
    "start_time": "2021-10-16T12:27:27.956Z"
   },
   {
    "duration": 98,
    "start_time": "2021-10-16T12:27:59.320Z"
   },
   {
    "duration": 280,
    "start_time": "2021-10-16T12:28:06.895Z"
   },
   {
    "duration": 280,
    "start_time": "2021-10-16T13:56:46.947Z"
   },
   {
    "duration": 5,
    "start_time": "2021-10-16T14:06:00.811Z"
   },
   {
    "duration": 308,
    "start_time": "2021-10-16T14:06:28.545Z"
   },
   {
    "duration": 313,
    "start_time": "2021-10-16T14:06:41.923Z"
   },
   {
    "duration": 340,
    "start_time": "2021-10-16T14:06:45.117Z"
   },
   {
    "duration": 342,
    "start_time": "2021-10-16T14:06:55.099Z"
   },
   {
    "duration": 206,
    "start_time": "2021-10-16T14:07:34.046Z"
   },
   {
    "duration": 204,
    "start_time": "2021-10-16T14:07:43.448Z"
   },
   {
    "duration": 194,
    "start_time": "2021-10-16T14:07:46.344Z"
   },
   {
    "duration": 647,
    "start_time": "2021-10-16T14:29:34.344Z"
   },
   {
    "duration": 417,
    "start_time": "2021-10-16T14:29:38.217Z"
   },
   {
    "duration": 397,
    "start_time": "2021-10-16T14:30:17.698Z"
   },
   {
    "duration": 19,
    "start_time": "2021-10-16T14:33:02.195Z"
   },
   {
    "duration": 428,
    "start_time": "2021-10-16T14:33:04.326Z"
   },
   {
    "duration": 19,
    "start_time": "2021-10-16T14:33:10.225Z"
   },
   {
    "duration": 393,
    "start_time": "2021-10-16T14:33:13.277Z"
   },
   {
    "duration": 1497,
    "start_time": "2021-10-16T14:54:02.346Z"
   },
   {
    "duration": 59,
    "start_time": "2021-10-16T14:54:03.846Z"
   },
   {
    "duration": 19,
    "start_time": "2021-10-16T14:54:03.908Z"
   },
   {
    "duration": 42,
    "start_time": "2021-10-16T14:54:03.931Z"
   },
   {
    "duration": 52,
    "start_time": "2021-10-16T14:54:03.976Z"
   },
   {
    "duration": 48,
    "start_time": "2021-10-16T14:54:04.030Z"
   },
   {
    "duration": 40,
    "start_time": "2021-10-16T14:54:04.080Z"
   },
   {
    "duration": 9,
    "start_time": "2021-10-16T14:54:04.124Z"
   },
   {
    "duration": 12,
    "start_time": "2021-10-16T14:54:04.163Z"
   },
   {
    "duration": 18,
    "start_time": "2021-10-16T14:54:04.178Z"
   },
   {
    "duration": 10,
    "start_time": "2021-10-16T14:54:04.199Z"
   },
   {
    "duration": 55,
    "start_time": "2021-10-16T14:54:04.211Z"
   },
   {
    "duration": 99,
    "start_time": "2021-10-16T14:54:04.268Z"
   },
   {
    "duration": -25,
    "start_time": "2021-10-16T14:54:04.395Z"
   },
   {
    "duration": -34,
    "start_time": "2021-10-16T14:54:04.405Z"
   },
   {
    "duration": -38,
    "start_time": "2021-10-16T14:54:04.411Z"
   },
   {
    "duration": -41,
    "start_time": "2021-10-16T14:54:04.415Z"
   },
   {
    "duration": -42,
    "start_time": "2021-10-16T14:54:04.419Z"
   },
   {
    "duration": -44,
    "start_time": "2021-10-16T14:54:04.422Z"
   },
   {
    "duration": -46,
    "start_time": "2021-10-16T14:54:04.425Z"
   },
   {
    "duration": -47,
    "start_time": "2021-10-16T14:54:04.428Z"
   },
   {
    "duration": -49,
    "start_time": "2021-10-16T14:54:04.431Z"
   },
   {
    "duration": -51,
    "start_time": "2021-10-16T14:54:04.434Z"
   },
   {
    "duration": -54,
    "start_time": "2021-10-16T14:54:04.438Z"
   },
   {
    "duration": -55,
    "start_time": "2021-10-16T14:54:04.441Z"
   },
   {
    "duration": -57,
    "start_time": "2021-10-16T14:54:04.444Z"
   },
   {
    "duration": -59,
    "start_time": "2021-10-16T14:54:04.447Z"
   },
   {
    "duration": 4,
    "start_time": "2021-10-16T15:10:13.383Z"
   },
   {
    "duration": 59,
    "start_time": "2021-10-16T15:10:16.346Z"
   },
   {
    "duration": 13,
    "start_time": "2021-10-16T15:10:18.051Z"
   },
   {
    "duration": 14,
    "start_time": "2021-10-16T15:10:22.034Z"
   },
   {
    "duration": 32,
    "start_time": "2021-10-16T15:10:24.813Z"
   },
   {
    "duration": 31,
    "start_time": "2021-10-16T15:10:27.003Z"
   },
   {
    "duration": 40,
    "start_time": "2021-10-16T15:10:28.992Z"
   },
   {
    "duration": 9,
    "start_time": "2021-10-16T15:10:31.158Z"
   },
   {
    "duration": 12,
    "start_time": "2021-10-16T15:10:33.161Z"
   },
   {
    "duration": 18,
    "start_time": "2021-10-16T15:10:35.533Z"
   },
   {
    "duration": 10,
    "start_time": "2021-10-16T15:10:37.747Z"
   },
   {
    "duration": 14,
    "start_time": "2021-10-16T15:10:43.147Z"
   },
   {
    "duration": 119,
    "start_time": "2021-10-16T15:10:47.636Z"
   },
   {
    "duration": 5,
    "start_time": "2021-10-16T15:10:52.872Z"
   },
   {
    "duration": 5,
    "start_time": "2021-10-16T15:11:05.663Z"
   },
   {
    "duration": 291,
    "start_time": "2021-10-16T15:11:11.992Z"
   },
   {
    "duration": 285,
    "start_time": "2021-10-16T15:11:25.946Z"
   },
   {
    "duration": 22,
    "start_time": "2021-10-16T15:12:03.622Z"
   },
   {
    "duration": 9,
    "start_time": "2021-10-16T15:12:10.544Z"
   },
   {
    "duration": 10,
    "start_time": "2021-10-16T15:12:22.198Z"
   },
   {
    "duration": 203,
    "start_time": "2021-10-16T15:46:40.603Z"
   },
   {
    "duration": 196,
    "start_time": "2021-10-16T15:46:48.604Z"
   },
   {
    "duration": 796,
    "start_time": "2021-10-16T15:47:23.050Z"
   },
   {
    "duration": 200,
    "start_time": "2021-10-16T15:53:09.591Z"
   },
   {
    "duration": 14,
    "start_time": "2021-10-16T15:53:42.668Z"
   },
   {
    "duration": 223,
    "start_time": "2021-10-16T15:53:52.689Z"
   },
   {
    "duration": 362,
    "start_time": "2021-10-16T15:54:04.926Z"
   },
   {
    "duration": 12,
    "start_time": "2021-10-16T15:55:59.372Z"
   },
   {
    "duration": 173,
    "start_time": "2021-10-16T15:57:02.758Z"
   },
   {
    "duration": 210,
    "start_time": "2021-10-16T15:57:27.265Z"
   },
   {
    "duration": 382,
    "start_time": "2021-10-16T15:57:32.558Z"
   },
   {
    "duration": 331,
    "start_time": "2021-10-16T15:58:15.638Z"
   },
   {
    "duration": 10,
    "start_time": "2021-10-16T15:58:18.139Z"
   },
   {
    "duration": 11,
    "start_time": "2021-10-16T15:58:20.011Z"
   },
   {
    "duration": 305,
    "start_time": "2021-10-16T15:59:19.217Z"
   },
   {
    "duration": 1263,
    "start_time": "2021-10-16T15:59:38.116Z"
   },
   {
    "duration": 13,
    "start_time": "2021-10-16T15:59:59.696Z"
   },
   {
    "duration": 11,
    "start_time": "2021-10-16T16:00:01.731Z"
   },
   {
    "duration": 1187,
    "start_time": "2021-10-16T16:00:04.320Z"
   },
   {
    "duration": 16,
    "start_time": "2021-10-16T16:00:14.218Z"
   },
   {
    "duration": 11,
    "start_time": "2021-10-16T16:00:16.628Z"
   },
   {
    "duration": 357,
    "start_time": "2021-10-16T16:00:42.379Z"
   },
   {
    "duration": 334,
    "start_time": "2021-10-16T16:01:31.580Z"
   },
   {
    "duration": 310,
    "start_time": "2021-10-16T16:03:35.183Z"
   },
   {
    "duration": 305,
    "start_time": "2021-10-16T16:04:13.591Z"
   },
   {
    "duration": 633,
    "start_time": "2021-10-16T16:04:24.759Z"
   },
   {
    "duration": 332,
    "start_time": "2021-10-16T16:04:32.853Z"
   },
   {
    "duration": 306,
    "start_time": "2021-10-16T16:05:17.859Z"
   },
   {
    "duration": 7,
    "start_time": "2021-10-16T16:05:44.394Z"
   },
   {
    "duration": 672,
    "start_time": "2021-10-16T16:05:47.303Z"
   },
   {
    "duration": 6,
    "start_time": "2021-10-16T16:06:05.876Z"
   },
   {
    "duration": 401,
    "start_time": "2021-10-16T16:06:07.909Z"
   },
   {
    "duration": 220,
    "start_time": "2021-10-16T16:06:23.313Z"
   },
   {
    "duration": 300,
    "start_time": "2021-10-16T16:06:26.962Z"
   },
   {
    "duration": 334,
    "start_time": "2021-10-16T16:06:49.702Z"
   },
   {
    "duration": 360,
    "start_time": "2021-10-16T16:07:49.542Z"
   },
   {
    "duration": 306,
    "start_time": "2021-10-16T16:08:13.340Z"
   },
   {
    "duration": 292,
    "start_time": "2021-10-16T16:08:41.603Z"
   },
   {
    "duration": 290,
    "start_time": "2021-10-16T16:09:03.320Z"
   },
   {
    "duration": 291,
    "start_time": "2021-10-16T16:09:23.900Z"
   },
   {
    "duration": 322,
    "start_time": "2021-10-16T16:09:30.401Z"
   },
   {
    "duration": 6,
    "start_time": "2021-10-16T16:09:42.552Z"
   },
   {
    "duration": 302,
    "start_time": "2021-10-16T16:09:45.744Z"
   },
   {
    "duration": 6,
    "start_time": "2021-10-16T16:10:58.602Z"
   },
   {
    "duration": 656,
    "start_time": "2021-10-16T16:11:01.094Z"
   },
   {
    "duration": 663,
    "start_time": "2021-10-16T16:15:05.007Z"
   },
   {
    "duration": 5,
    "start_time": "2021-10-16T16:15:14.671Z"
   },
   {
    "duration": 312,
    "start_time": "2021-10-16T16:15:17.219Z"
   },
   {
    "duration": 5,
    "start_time": "2021-10-16T16:15:33.548Z"
   },
   {
    "duration": 292,
    "start_time": "2021-10-16T16:15:36.072Z"
   },
   {
    "duration": 440,
    "start_time": "2021-10-16T16:15:51.696Z"
   },
   {
    "duration": 291,
    "start_time": "2021-10-16T16:16:26.740Z"
   },
   {
    "duration": 622,
    "start_time": "2021-10-16T16:16:38.283Z"
   },
   {
    "duration": 288,
    "start_time": "2021-10-16T16:16:50.769Z"
   },
   {
    "duration": 313,
    "start_time": "2021-10-16T16:17:07.559Z"
   },
   {
    "duration": 554,
    "start_time": "2021-10-16T16:17:12.304Z"
   },
   {
    "duration": 290,
    "start_time": "2021-10-16T16:17:20.838Z"
   },
   {
    "duration": 282,
    "start_time": "2021-10-16T16:17:28.682Z"
   },
   {
    "duration": 300,
    "start_time": "2021-10-16T16:17:47.251Z"
   },
   {
    "duration": 10,
    "start_time": "2021-10-16T16:17:52.281Z"
   },
   {
    "duration": 289,
    "start_time": "2021-10-16T16:17:54.318Z"
   },
   {
    "duration": 339,
    "start_time": "2021-10-16T16:35:20.575Z"
   },
   {
    "duration": 17,
    "start_time": "2021-10-16T16:35:47.573Z"
   },
   {
    "duration": 17,
    "start_time": "2021-10-16T16:35:54.783Z"
   },
   {
    "duration": 344,
    "start_time": "2021-10-16T16:37:32.786Z"
   },
   {
    "duration": 355,
    "start_time": "2021-10-16T16:37:48.773Z"
   },
   {
    "duration": 21,
    "start_time": "2021-10-16T16:38:23.617Z"
   },
   {
    "duration": 32,
    "start_time": "2021-10-16T16:38:27.660Z"
   },
   {
    "duration": 29,
    "start_time": "2021-10-16T16:38:45.206Z"
   },
   {
    "duration": 322,
    "start_time": "2021-10-16T16:39:45.159Z"
   },
   {
    "duration": 19,
    "start_time": "2021-10-16T16:40:06.977Z"
   },
   {
    "duration": 12,
    "start_time": "2021-10-16T16:40:49.309Z"
   },
   {
    "duration": 13,
    "start_time": "2021-10-16T16:40:55.927Z"
   },
   {
    "duration": 8,
    "start_time": "2021-10-16T16:41:32.895Z"
   },
   {
    "duration": 19,
    "start_time": "2021-10-16T16:41:37.822Z"
   },
   {
    "duration": 814,
    "start_time": "2021-10-16T16:43:06.092Z"
   },
   {
    "duration": 608,
    "start_time": "2021-10-16T16:43:21.139Z"
   },
   {
    "duration": 7874,
    "start_time": "2021-10-16T16:43:24.323Z"
   },
   {
    "duration": 15,
    "start_time": "2021-10-16T16:43:55.192Z"
   },
   {
    "duration": 31,
    "start_time": "2021-10-16T16:45:00.369Z"
   },
   {
    "duration": 8,
    "start_time": "2021-10-16T16:45:33.428Z"
   },
   {
    "duration": 14,
    "start_time": "2021-10-16T16:45:37.911Z"
   },
   {
    "duration": 10,
    "start_time": "2021-10-16T16:48:46.181Z"
   },
   {
    "duration": 103,
    "start_time": "2021-10-16T16:49:07.029Z"
   },
   {
    "duration": 19,
    "start_time": "2021-10-16T16:49:43.344Z"
   },
   {
    "duration": 416,
    "start_time": "2021-10-16T16:49:46.390Z"
   },
   {
    "duration": 465,
    "start_time": "2021-10-16T16:50:31.222Z"
   },
   {
    "duration": 20,
    "start_time": "2021-10-16T16:55:16.952Z"
   },
   {
    "duration": 20,
    "start_time": "2021-10-16T16:55:30.390Z"
   },
   {
    "duration": 406,
    "start_time": "2021-10-16T16:55:33.156Z"
   },
   {
    "duration": 380,
    "start_time": "2021-10-16T16:55:38.594Z"
   },
   {
    "duration": 10,
    "start_time": "2021-10-16T16:55:50.139Z"
   },
   {
    "duration": 429,
    "start_time": "2021-10-16T16:56:33.806Z"
   },
   {
    "duration": 413,
    "start_time": "2021-10-16T16:59:42.393Z"
   },
   {
    "duration": 551,
    "start_time": "2021-10-16T16:59:46.989Z"
   },
   {
    "duration": 563,
    "start_time": "2021-10-16T17:00:03.844Z"
   },
   {
    "duration": 535,
    "start_time": "2021-10-16T17:00:08.633Z"
   },
   {
    "duration": 594,
    "start_time": "2021-10-16T17:00:13.685Z"
   },
   {
    "duration": 611,
    "start_time": "2021-10-16T17:00:19.751Z"
   },
   {
    "duration": 666,
    "start_time": "2021-10-16T17:01:50.696Z"
   },
   {
    "duration": 8285,
    "start_time": "2021-10-16T17:02:20.457Z"
   },
   {
    "duration": 488,
    "start_time": "2021-10-16T17:02:38.936Z"
   },
   {
    "duration": 529,
    "start_time": "2021-10-16T17:03:44.471Z"
   },
   {
    "duration": 563,
    "start_time": "2021-10-16T17:03:53.104Z"
   },
   {
    "duration": 726,
    "start_time": "2021-10-16T17:04:05.785Z"
   },
   {
    "duration": 664,
    "start_time": "2021-10-16T17:05:38.545Z"
   },
   {
    "duration": 110,
    "start_time": "2021-10-16T17:05:47.530Z"
   },
   {
    "duration": 545,
    "start_time": "2021-10-16T17:05:56.189Z"
   },
   {
    "duration": 617,
    "start_time": "2021-10-16T17:06:12.019Z"
   },
   {
    "duration": 314,
    "start_time": "2021-10-16T17:35:12.995Z"
   },
   {
    "duration": 287,
    "start_time": "2021-10-16T17:36:33.032Z"
   },
   {
    "duration": 99,
    "start_time": "2021-10-16T17:39:03.583Z"
   },
   {
    "duration": 314,
    "start_time": "2021-10-16T17:39:07.208Z"
   },
   {
    "duration": 332,
    "start_time": "2021-10-16T17:39:27.838Z"
   },
   {
    "duration": 344,
    "start_time": "2021-10-16T17:39:35.907Z"
   },
   {
    "duration": 322,
    "start_time": "2021-10-16T17:39:47.706Z"
   },
   {
    "duration": 307,
    "start_time": "2021-10-16T17:39:51.873Z"
   },
   {
    "duration": 7,
    "start_time": "2021-10-16T17:39:59.400Z"
   },
   {
    "duration": 273,
    "start_time": "2021-10-16T17:40:02.183Z"
   },
   {
    "duration": 379,
    "start_time": "2021-10-16T17:40:10.697Z"
   },
   {
    "duration": 15,
    "start_time": "2021-10-16T17:40:22.852Z"
   },
   {
    "duration": 2831,
    "start_time": "2021-10-16T17:54:54.419Z"
   },
   {
    "duration": 2438,
    "start_time": "2021-10-16T17:55:03.912Z"
   },
   {
    "duration": 2210,
    "start_time": "2021-10-16T17:55:41.769Z"
   },
   {
    "duration": 2096,
    "start_time": "2021-10-16T17:55:58.863Z"
   },
   {
    "duration": 2366,
    "start_time": "2021-10-16T17:56:03.628Z"
   },
   {
    "duration": 113,
    "start_time": "2021-10-16T18:00:20.100Z"
   },
   {
    "duration": 2221,
    "start_time": "2021-10-16T18:00:30.006Z"
   },
   {
    "duration": 3240,
    "start_time": "2021-10-16T18:00:39.485Z"
   },
   {
    "duration": 2160,
    "start_time": "2021-10-16T18:00:47.886Z"
   },
   {
    "duration": 2316,
    "start_time": "2021-10-16T18:01:38.427Z"
   },
   {
    "duration": 3881,
    "start_time": "2021-10-16T18:03:09.472Z"
   },
   {
    "duration": 4156,
    "start_time": "2021-10-16T18:03:17.008Z"
   },
   {
    "duration": 328,
    "start_time": "2021-10-16T18:04:41.037Z"
   },
   {
    "duration": 431,
    "start_time": "2021-10-16T18:05:07.474Z"
   },
   {
    "duration": 326,
    "start_time": "2021-10-16T18:05:14.548Z"
   },
   {
    "duration": -33,
    "start_time": "2021-10-16T18:05:31.233Z"
   },
   {
    "duration": 344,
    "start_time": "2021-10-16T18:05:33.471Z"
   },
   {
    "duration": 651,
    "start_time": "2021-10-16T18:06:19.905Z"
   },
   {
    "duration": 20,
    "start_time": "2021-10-16T18:06:36.929Z"
   },
   {
    "duration": 320,
    "start_time": "2021-10-16T18:06:53.881Z"
   },
   {
    "duration": 345,
    "start_time": "2021-10-16T18:07:15.847Z"
   },
   {
    "duration": 358,
    "start_time": "2021-10-16T18:07:43.749Z"
   },
   {
    "duration": 1409,
    "start_time": "2021-10-17T13:41:40.112Z"
   },
   {
    "duration": 53,
    "start_time": "2021-10-17T13:41:41.524Z"
   },
   {
    "duration": 17,
    "start_time": "2021-10-17T13:41:41.580Z"
   },
   {
    "duration": 12,
    "start_time": "2021-10-17T13:41:41.600Z"
   },
   {
    "duration": 27,
    "start_time": "2021-10-17T13:41:41.614Z"
   },
   {
    "duration": 59,
    "start_time": "2021-10-17T13:41:41.644Z"
   },
   {
    "duration": 36,
    "start_time": "2021-10-17T13:41:41.705Z"
   },
   {
    "duration": 9,
    "start_time": "2021-10-17T13:41:41.745Z"
   },
   {
    "duration": 11,
    "start_time": "2021-10-17T13:41:41.783Z"
   },
   {
    "duration": 16,
    "start_time": "2021-10-17T13:41:41.796Z"
   },
   {
    "duration": 9,
    "start_time": "2021-10-17T13:41:41.815Z"
   },
   {
    "duration": 12,
    "start_time": "2021-10-17T13:41:41.826Z"
   },
   {
    "duration": 5,
    "start_time": "2021-10-17T13:41:41.882Z"
   },
   {
    "duration": 297,
    "start_time": "2021-10-17T13:41:41.890Z"
   },
   {
    "duration": 380,
    "start_time": "2021-10-17T13:41:42.190Z"
   },
   {
    "duration": 216,
    "start_time": "2021-10-17T13:41:42.573Z"
   },
   {
    "duration": 198,
    "start_time": "2021-10-17T13:41:42.792Z"
   },
   {
    "duration": 9,
    "start_time": "2021-10-17T13:41:42.992Z"
   },
   {
    "duration": 30,
    "start_time": "2021-10-17T13:41:43.004Z"
   },
   {
    "duration": 282,
    "start_time": "2021-10-17T13:41:43.036Z"
   },
   {
    "duration": 27,
    "start_time": "2021-10-17T13:41:43.321Z"
   },
   {
    "duration": 11,
    "start_time": "2021-10-17T13:41:43.351Z"
   },
   {
    "duration": 12,
    "start_time": "2021-10-17T13:41:43.385Z"
   },
   {
    "duration": 21,
    "start_time": "2021-10-17T13:41:43.400Z"
   },
   {
    "duration": 424,
    "start_time": "2021-10-17T13:41:43.424Z"
   },
   {
    "duration": 7,
    "start_time": "2021-10-17T13:41:43.850Z"
   },
   {
    "duration": 308,
    "start_time": "2021-10-17T13:41:43.860Z"
   },
   {
    "duration": 16,
    "start_time": "2021-10-17T13:41:44.170Z"
   },
   {
    "duration": 340,
    "start_time": "2021-10-17T13:41:44.188Z"
   },
   {
    "duration": 344,
    "start_time": "2021-10-17T13:41:44.531Z"
   },
   {
    "duration": 3698,
    "start_time": "2021-10-17T13:41:44.878Z"
   },
   {
    "duration": -62,
    "start_time": "2021-10-17T13:41:48.642Z"
   },
   {
    "duration": -65,
    "start_time": "2021-10-17T13:41:48.647Z"
   },
   {
    "duration": 5661,
    "start_time": "2021-10-17T13:41:57.982Z"
   },
   {
    "duration": 481,
    "start_time": "2021-10-17T13:43:36.563Z"
   },
   {
    "duration": 88,
    "start_time": "2021-10-17T13:48:48.309Z"
   },
   {
    "duration": 91,
    "start_time": "2021-10-17T13:48:51.158Z"
   },
   {
    "duration": 83,
    "start_time": "2021-10-17T13:50:08.137Z"
   },
   {
    "duration": 82,
    "start_time": "2021-10-17T13:50:18.230Z"
   },
   {
    "duration": 97,
    "start_time": "2021-10-17T13:51:43.187Z"
   },
   {
    "duration": 1376,
    "start_time": "2021-10-17T13:51:52.958Z"
   },
   {
    "duration": 54,
    "start_time": "2021-10-17T13:51:54.337Z"
   },
   {
    "duration": 17,
    "start_time": "2021-10-17T13:51:54.394Z"
   },
   {
    "duration": 12,
    "start_time": "2021-10-17T13:51:54.414Z"
   },
   {
    "duration": 62,
    "start_time": "2021-10-17T13:51:54.429Z"
   },
   {
    "duration": 27,
    "start_time": "2021-10-17T13:51:54.493Z"
   },
   {
    "duration": 36,
    "start_time": "2021-10-17T13:51:54.522Z"
   },
   {
    "duration": 8,
    "start_time": "2021-10-17T13:51:54.583Z"
   },
   {
    "duration": 9,
    "start_time": "2021-10-17T13:51:54.594Z"
   },
   {
    "duration": 15,
    "start_time": "2021-10-17T13:51:54.606Z"
   },
   {
    "duration": 9,
    "start_time": "2021-10-17T13:51:54.624Z"
   },
   {
    "duration": 58,
    "start_time": "2021-10-17T13:51:54.636Z"
   },
   {
    "duration": 5,
    "start_time": "2021-10-17T13:51:54.696Z"
   },
   {
    "duration": 303,
    "start_time": "2021-10-17T13:51:54.703Z"
   },
   {
    "duration": 281,
    "start_time": "2021-10-17T13:51:55.008Z"
   },
   {
    "duration": 229,
    "start_time": "2021-10-17T13:51:55.291Z"
   },
   {
    "duration": 204,
    "start_time": "2021-10-17T13:51:55.523Z"
   },
   {
    "duration": 9,
    "start_time": "2021-10-17T13:51:55.730Z"
   },
   {
    "duration": 16,
    "start_time": "2021-10-17T13:51:55.741Z"
   },
   {
    "duration": 298,
    "start_time": "2021-10-17T13:51:55.760Z"
   },
   {
    "duration": 39,
    "start_time": "2021-10-17T13:51:56.061Z"
   },
   {
    "duration": 12,
    "start_time": "2021-10-17T13:51:56.103Z"
   },
   {
    "duration": 13,
    "start_time": "2021-10-17T13:51:56.120Z"
   },
   {
    "duration": 24,
    "start_time": "2021-10-17T13:51:56.136Z"
   },
   {
    "duration": 454,
    "start_time": "2021-10-17T13:51:56.183Z"
   },
   {
    "duration": 8,
    "start_time": "2021-10-17T13:51:56.640Z"
   },
   {
    "duration": 335,
    "start_time": "2021-10-17T13:51:56.651Z"
   },
   {
    "duration": 7,
    "start_time": "2021-10-17T13:51:56.989Z"
   },
   {
    "duration": 351,
    "start_time": "2021-10-17T13:51:56.999Z"
   },
   {
    "duration": 353,
    "start_time": "2021-10-17T13:51:57.353Z"
   },
   {
    "duration": 106,
    "start_time": "2021-10-17T13:51:57.708Z"
   },
   {
    "duration": -15,
    "start_time": "2021-10-17T13:51:57.832Z"
   },
   {
    "duration": -18,
    "start_time": "2021-10-17T13:51:57.837Z"
   },
   {
    "duration": 98,
    "start_time": "2021-10-17T13:54:34.334Z"
   },
   {
    "duration": 1185,
    "start_time": "2021-10-17T13:55:05.606Z"
   },
   {
    "duration": 464,
    "start_time": "2021-10-17T13:55:49.018Z"
   },
   {
    "duration": 287,
    "start_time": "2021-10-17T13:56:00.761Z"
   },
   {
    "duration": 9,
    "start_time": "2021-10-17T13:56:23.761Z"
   },
   {
    "duration": 9,
    "start_time": "2021-10-17T13:56:29.699Z"
   },
   {
    "duration": 7482,
    "start_time": "2021-10-17T13:57:15.351Z"
   },
   {
    "duration": 933,
    "start_time": "2021-10-17T13:57:30.830Z"
   },
   {
    "duration": 6620,
    "start_time": "2021-10-17T13:57:41.966Z"
   },
   {
    "duration": 7914,
    "start_time": "2021-10-17T13:57:48.942Z"
   },
   {
    "duration": 17,
    "start_time": "2021-10-17T13:57:56.951Z"
   },
   {
    "duration": 11,
    "start_time": "2021-10-17T13:58:07.894Z"
   },
   {
    "duration": 14,
    "start_time": "2021-10-17T13:58:12.860Z"
   },
   {
    "duration": 33,
    "start_time": "2021-10-17T13:58:14.726Z"
   },
   {
    "duration": 10,
    "start_time": "2021-10-17T13:59:22.613Z"
   },
   {
    "duration": 31,
    "start_time": "2021-10-17T13:59:24.984Z"
   },
   {
    "duration": 6,
    "start_time": "2021-10-17T14:00:52.980Z"
   },
   {
    "duration": 365,
    "start_time": "2021-10-17T14:03:24.483Z"
   },
   {
    "duration": 9,
    "start_time": "2021-10-17T14:03:30.028Z"
   },
   {
    "duration": 21,
    "start_time": "2021-10-17T14:03:32.514Z"
   },
   {
    "duration": 91,
    "start_time": "2021-10-17T14:05:28.549Z"
   },
   {
    "duration": 10,
    "start_time": "2021-10-17T14:05:34.192Z"
   },
   {
    "duration": 14,
    "start_time": "2021-10-17T14:05:45.275Z"
   },
   {
    "duration": 9,
    "start_time": "2021-10-17T14:06:11.742Z"
   },
   {
    "duration": 10,
    "start_time": "2021-10-17T14:06:54.034Z"
   },
   {
    "duration": 7417,
    "start_time": "2021-10-17T14:07:54.106Z"
   },
   {
    "duration": 9,
    "start_time": "2021-10-17T14:08:22.452Z"
   },
   {
    "duration": 698,
    "start_time": "2021-10-17T14:09:09.723Z"
   },
   {
    "duration": 94,
    "start_time": "2021-10-17T14:09:18.678Z"
   },
   {
    "duration": 1114,
    "start_time": "2021-10-17T14:09:23.514Z"
   },
   {
    "duration": 100,
    "start_time": "2021-10-17T14:10:00.128Z"
   },
   {
    "duration": 2029,
    "start_time": "2021-10-17T14:10:04.861Z"
   },
   {
    "duration": 101,
    "start_time": "2021-10-17T14:10:20.455Z"
   },
   {
    "duration": 8174,
    "start_time": "2021-10-17T14:10:23.748Z"
   },
   {
    "duration": 13,
    "start_time": "2021-10-17T14:11:22.576Z"
   },
   {
    "duration": 4,
    "start_time": "2021-10-17T14:11:24.978Z"
   },
   {
    "duration": 4,
    "start_time": "2021-10-17T14:11:27.945Z"
   },
   {
    "duration": 395,
    "start_time": "2021-10-17T14:11:42.722Z"
   },
   {
    "duration": 9,
    "start_time": "2021-10-17T14:11:52.125Z"
   },
   {
    "duration": 21,
    "start_time": "2021-10-17T14:11:58.359Z"
   },
   {
    "duration": 6,
    "start_time": "2021-10-17T14:12:17.461Z"
   },
   {
    "duration": 14,
    "start_time": "2021-10-17T14:12:34.217Z"
   },
   {
    "duration": 9,
    "start_time": "2021-10-17T15:06:52.066Z"
   },
   {
    "duration": 91,
    "start_time": "2021-10-17T15:08:28.223Z"
   },
   {
    "duration": 1333,
    "start_time": "2021-10-17T15:08:44.311Z"
   },
   {
    "duration": 12,
    "start_time": "2021-10-17T15:08:54.400Z"
   },
   {
    "duration": 9,
    "start_time": "2021-10-17T15:09:36.827Z"
   },
   {
    "duration": 5,
    "start_time": "2021-10-17T15:09:37.676Z"
   },
   {
    "duration": 8,
    "start_time": "2021-10-17T15:10:16.056Z"
   },
   {
    "duration": 14,
    "start_time": "2021-10-17T15:10:20.527Z"
   },
   {
    "duration": 189,
    "start_time": "2021-10-17T15:11:19.602Z"
   },
   {
    "duration": 344,
    "start_time": "2021-10-17T15:13:04.409Z"
   },
   {
    "duration": 280,
    "start_time": "2021-10-17T15:13:39.993Z"
   },
   {
    "duration": 2011,
    "start_time": "2021-10-17T15:13:46.728Z"
   },
   {
    "duration": 76,
    "start_time": "2021-10-17T15:13:48.743Z"
   },
   {
    "duration": 27,
    "start_time": "2021-10-17T15:13:48.823Z"
   },
   {
    "duration": 38,
    "start_time": "2021-10-17T15:13:48.853Z"
   },
   {
    "duration": 51,
    "start_time": "2021-10-17T15:13:48.894Z"
   },
   {
    "duration": 49,
    "start_time": "2021-10-17T15:13:48.948Z"
   },
   {
    "duration": 40,
    "start_time": "2021-10-17T15:13:48.999Z"
   },
   {
    "duration": 9,
    "start_time": "2021-10-17T15:13:49.043Z"
   },
   {
    "duration": 12,
    "start_time": "2021-10-17T15:13:49.084Z"
   },
   {
    "duration": 18,
    "start_time": "2021-10-17T15:13:49.098Z"
   },
   {
    "duration": 10,
    "start_time": "2021-10-17T15:13:49.119Z"
   },
   {
    "duration": 55,
    "start_time": "2021-10-17T15:13:49.131Z"
   },
   {
    "duration": 5,
    "start_time": "2021-10-17T15:13:49.188Z"
   },
   {
    "duration": 314,
    "start_time": "2021-10-17T15:13:49.196Z"
   },
   {
    "duration": 289,
    "start_time": "2021-10-17T15:13:49.513Z"
   },
   {
    "duration": 232,
    "start_time": "2021-10-17T15:13:49.804Z"
   },
   {
    "duration": 209,
    "start_time": "2021-10-17T15:13:50.038Z"
   },
   {
    "duration": 8,
    "start_time": "2021-10-17T15:13:50.250Z"
   },
   {
    "duration": 33,
    "start_time": "2021-10-17T15:13:50.260Z"
   },
   {
    "duration": 300,
    "start_time": "2021-10-17T15:13:50.296Z"
   },
   {
    "duration": 28,
    "start_time": "2021-10-17T15:13:50.599Z"
   },
   {
    "duration": 13,
    "start_time": "2021-10-17T15:13:50.629Z"
   },
   {
    "duration": 47,
    "start_time": "2021-10-17T15:13:50.647Z"
   },
   {
    "duration": 21,
    "start_time": "2021-10-17T15:13:50.697Z"
   },
   {
    "duration": 524,
    "start_time": "2021-10-17T15:13:50.721Z"
   },
   {
    "duration": 7,
    "start_time": "2021-10-17T15:13:51.248Z"
   },
   {
    "duration": 339,
    "start_time": "2021-10-17T15:13:51.258Z"
   },
   {
    "duration": 8,
    "start_time": "2021-10-17T15:13:51.600Z"
   },
   {
    "duration": 352,
    "start_time": "2021-10-17T15:13:51.610Z"
   },
   {
    "duration": 364,
    "start_time": "2021-10-17T15:13:51.965Z"
   },
   {
    "duration": 993,
    "start_time": "2021-10-17T15:13:52.331Z"
   },
   {
    "duration": 404,
    "start_time": "2021-10-17T15:13:53.326Z"
   },
   {
    "duration": -99,
    "start_time": "2021-10-17T15:13:53.832Z"
   },
   {
    "duration": -109,
    "start_time": "2021-10-17T15:13:53.843Z"
   },
   {
    "duration": -115,
    "start_time": "2021-10-17T15:13:53.850Z"
   },
   {
    "duration": -122,
    "start_time": "2021-10-17T15:13:53.859Z"
   },
   {
    "duration": -125,
    "start_time": "2021-10-17T15:13:53.863Z"
   },
   {
    "duration": 5,
    "start_time": "2021-10-17T15:14:03.396Z"
   },
   {
    "duration": 11,
    "start_time": "2021-10-17T15:14:05.479Z"
   },
   {
    "duration": 262,
    "start_time": "2021-10-17T15:14:07.383Z"
   },
   {
    "duration": 5,
    "start_time": "2021-10-17T15:14:12.930Z"
   },
   {
    "duration": 7,
    "start_time": "2021-10-17T15:14:19.940Z"
   },
   {
    "duration": 13,
    "start_time": "2021-10-17T15:14:41.288Z"
   },
   {
    "duration": 10,
    "start_time": "2021-10-17T15:16:01.131Z"
   },
   {
    "duration": 5,
    "start_time": "2021-10-17T15:16:03.246Z"
   },
   {
    "duration": 13,
    "start_time": "2021-10-17T15:16:05.617Z"
   },
   {
    "duration": 13,
    "start_time": "2021-10-17T15:16:47.113Z"
   },
   {
    "duration": 340,
    "start_time": "2021-10-17T15:16:52.287Z"
   },
   {
    "duration": 18,
    "start_time": "2021-10-17T15:16:56.124Z"
   },
   {
    "duration": 11,
    "start_time": "2021-10-17T15:17:05.256Z"
   },
   {
    "duration": 6,
    "start_time": "2021-10-17T15:17:31.875Z"
   },
   {
    "duration": 9,
    "start_time": "2021-10-17T15:17:40.107Z"
   },
   {
    "duration": 6,
    "start_time": "2021-10-17T15:17:43.416Z"
   },
   {
    "duration": 13,
    "start_time": "2021-10-17T15:17:45.824Z"
   },
   {
    "duration": 14,
    "start_time": "2021-10-17T15:17:52.697Z"
   },
   {
    "duration": 8,
    "start_time": "2021-10-17T15:18:00.503Z"
   },
   {
    "duration": 13,
    "start_time": "2021-10-17T15:18:05.418Z"
   },
   {
    "duration": 8,
    "start_time": "2021-10-17T15:18:10.262Z"
   },
   {
    "duration": 12,
    "start_time": "2021-10-17T15:18:18.516Z"
   },
   {
    "duration": 11,
    "start_time": "2021-10-17T15:18:22.696Z"
   },
   {
    "duration": 18,
    "start_time": "2021-10-17T15:18:28.218Z"
   },
   {
    "duration": 4,
    "start_time": "2021-10-17T15:18:34.119Z"
   },
   {
    "duration": 5,
    "start_time": "2021-10-17T15:18:36.010Z"
   },
   {
    "duration": 12,
    "start_time": "2021-10-17T15:18:37.926Z"
   },
   {
    "duration": 5,
    "start_time": "2021-10-17T15:18:39.904Z"
   },
   {
    "duration": 13,
    "start_time": "2021-10-17T15:18:41.870Z"
   },
   {
    "duration": 1023,
    "start_time": "2021-10-17T15:18:55.719Z"
   },
   {
    "duration": 4,
    "start_time": "2021-10-17T15:18:58.685Z"
   },
   {
    "duration": 16,
    "start_time": "2021-10-17T15:19:06.494Z"
   },
   {
    "duration": 4,
    "start_time": "2021-10-17T15:20:11.674Z"
   },
   {
    "duration": 17,
    "start_time": "2021-10-17T15:20:14.583Z"
   },
   {
    "duration": 1427,
    "start_time": "2021-10-17T15:20:22.688Z"
   },
   {
    "duration": 57,
    "start_time": "2021-10-17T15:20:24.118Z"
   },
   {
    "duration": 16,
    "start_time": "2021-10-17T15:20:24.178Z"
   },
   {
    "duration": 13,
    "start_time": "2021-10-17T15:20:24.197Z"
   },
   {
    "duration": 30,
    "start_time": "2021-10-17T15:20:24.214Z"
   },
   {
    "duration": 56,
    "start_time": "2021-10-17T15:20:24.247Z"
   },
   {
    "duration": 36,
    "start_time": "2021-10-17T15:20:24.306Z"
   },
   {
    "duration": 36,
    "start_time": "2021-10-17T15:20:24.346Z"
   },
   {
    "duration": 15,
    "start_time": "2021-10-17T15:20:24.387Z"
   },
   {
    "duration": 24,
    "start_time": "2021-10-17T15:20:24.406Z"
   },
   {
    "duration": 49,
    "start_time": "2021-10-17T15:20:24.434Z"
   },
   {
    "duration": 19,
    "start_time": "2021-10-17T15:20:24.486Z"
   },
   {
    "duration": 7,
    "start_time": "2021-10-17T15:20:24.508Z"
   },
   {
    "duration": 328,
    "start_time": "2021-10-17T15:20:24.518Z"
   },
   {
    "duration": 287,
    "start_time": "2021-10-17T15:20:24.850Z"
   },
   {
    "duration": 232,
    "start_time": "2021-10-17T15:20:25.140Z"
   },
   {
    "duration": 209,
    "start_time": "2021-10-17T15:20:25.384Z"
   },
   {
    "duration": 8,
    "start_time": "2021-10-17T15:20:25.595Z"
   },
   {
    "duration": 11,
    "start_time": "2021-10-17T15:20:25.606Z"
   },
   {
    "duration": 322,
    "start_time": "2021-10-17T15:20:25.619Z"
   },
   {
    "duration": 44,
    "start_time": "2021-10-17T15:20:25.944Z"
   },
   {
    "duration": 12,
    "start_time": "2021-10-17T15:20:25.991Z"
   },
   {
    "duration": 14,
    "start_time": "2021-10-17T15:20:26.007Z"
   },
   {
    "duration": 20,
    "start_time": "2021-10-17T15:20:26.025Z"
   },
   {
    "duration": 699,
    "start_time": "2021-10-17T15:20:26.048Z"
   },
   {
    "duration": 9,
    "start_time": "2021-10-17T15:20:26.750Z"
   },
   {
    "duration": 354,
    "start_time": "2021-10-17T15:20:26.761Z"
   },
   {
    "duration": 8,
    "start_time": "2021-10-17T15:20:27.118Z"
   },
   {
    "duration": 373,
    "start_time": "2021-10-17T15:20:27.128Z"
   },
   {
    "duration": 370,
    "start_time": "2021-10-17T15:20:27.503Z"
   },
   {
    "duration": 4,
    "start_time": "2021-10-17T15:22:57.276Z"
   },
   {
    "duration": 6,
    "start_time": "2021-10-17T15:22:59.843Z"
   },
   {
    "duration": 1008,
    "start_time": "2021-10-17T15:23:16.997Z"
   },
   {
    "duration": 5,
    "start_time": "2021-10-17T15:23:19.853Z"
   },
   {
    "duration": 16,
    "start_time": "2021-10-17T15:23:20.831Z"
   },
   {
    "duration": 435,
    "start_time": "2021-10-17T15:24:54.327Z"
   },
   {
    "duration": 245,
    "start_time": "2021-10-17T15:24:59.715Z"
   },
   {
    "duration": 5,
    "start_time": "2021-10-17T15:27:17.453Z"
   },
   {
    "duration": 8,
    "start_time": "2021-10-17T15:27:22.122Z"
   },
   {
    "duration": 19,
    "start_time": "2021-10-17T15:27:23.043Z"
   },
   {
    "duration": 4,
    "start_time": "2021-10-17T15:27:25.836Z"
   },
   {
    "duration": 12,
    "start_time": "2021-10-17T15:27:28.334Z"
   },
   {
    "duration": 5,
    "start_time": "2021-10-17T15:27:32.512Z"
   },
   {
    "duration": 14,
    "start_time": "2021-10-17T15:27:35.030Z"
   },
   {
    "duration": 8,
    "start_time": "2021-10-17T15:27:38.115Z"
   },
   {
    "duration": 4,
    "start_time": "2021-10-17T15:28:08.507Z"
   },
   {
    "duration": 25,
    "start_time": "2021-10-17T15:28:10.103Z"
   },
   {
    "duration": 9,
    "start_time": "2021-10-17T15:28:18.336Z"
   },
   {
    "duration": 23,
    "start_time": "2021-10-17T15:28:31.053Z"
   },
   {
    "duration": 25,
    "start_time": "2021-10-17T15:29:17.163Z"
   },
   {
    "duration": 24,
    "start_time": "2021-10-17T15:29:33.526Z"
   },
   {
    "duration": 5,
    "start_time": "2021-10-17T15:29:50.571Z"
   },
   {
    "duration": 12,
    "start_time": "2021-10-17T15:29:51.707Z"
   },
   {
    "duration": 13,
    "start_time": "2021-10-17T15:30:03.953Z"
   },
   {
    "duration": 7,
    "start_time": "2021-10-17T15:30:05.985Z"
   },
   {
    "duration": 7,
    "start_time": "2021-10-17T15:30:13.909Z"
   },
   {
    "duration": 1438,
    "start_time": "2021-10-17T15:30:20.617Z"
   },
   {
    "duration": 57,
    "start_time": "2021-10-17T15:30:22.058Z"
   },
   {
    "duration": 18,
    "start_time": "2021-10-17T15:30:22.118Z"
   },
   {
    "duration": 18,
    "start_time": "2021-10-17T15:30:22.139Z"
   },
   {
    "duration": 30,
    "start_time": "2021-10-17T15:30:22.183Z"
   },
   {
    "duration": 29,
    "start_time": "2021-10-17T15:30:22.216Z"
   },
   {
    "duration": 72,
    "start_time": "2021-10-17T15:30:22.247Z"
   },
   {
    "duration": 10,
    "start_time": "2021-10-17T15:30:22.323Z"
   },
   {
    "duration": 52,
    "start_time": "2021-10-17T15:30:22.336Z"
   },
   {
    "duration": 16,
    "start_time": "2021-10-17T15:30:22.391Z"
   },
   {
    "duration": 8,
    "start_time": "2021-10-17T15:30:22.410Z"
   },
   {
    "duration": 65,
    "start_time": "2021-10-17T15:30:22.421Z"
   },
   {
    "duration": 4,
    "start_time": "2021-10-17T15:30:22.489Z"
   },
   {
    "duration": 398,
    "start_time": "2021-10-17T15:30:22.496Z"
   },
   {
    "duration": 292,
    "start_time": "2021-10-17T15:30:22.896Z"
   },
   {
    "duration": 223,
    "start_time": "2021-10-17T15:30:23.190Z"
   },
   {
    "duration": 210,
    "start_time": "2021-10-17T15:30:23.416Z"
   },
   {
    "duration": 9,
    "start_time": "2021-10-17T15:30:23.629Z"
   },
   {
    "duration": 43,
    "start_time": "2021-10-17T15:30:23.640Z"
   },
   {
    "duration": 306,
    "start_time": "2021-10-17T15:30:23.685Z"
   },
   {
    "duration": 29,
    "start_time": "2021-10-17T15:30:23.993Z"
   },
   {
    "duration": 13,
    "start_time": "2021-10-17T15:30:24.025Z"
   },
   {
    "duration": 52,
    "start_time": "2021-10-17T15:30:24.043Z"
   },
   {
    "duration": 20,
    "start_time": "2021-10-17T15:30:24.098Z"
   },
   {
    "duration": 518,
    "start_time": "2021-10-17T15:30:24.121Z"
   },
   {
    "duration": 7,
    "start_time": "2021-10-17T15:30:24.642Z"
   },
   {
    "duration": 337,
    "start_time": "2021-10-17T15:30:24.652Z"
   },
   {
    "duration": 9,
    "start_time": "2021-10-17T15:30:24.991Z"
   },
   {
    "duration": 360,
    "start_time": "2021-10-17T15:30:25.003Z"
   },
   {
    "duration": 373,
    "start_time": "2021-10-17T15:30:25.366Z"
   },
   {
    "duration": 1089,
    "start_time": "2021-10-17T15:30:25.741Z"
   },
   {
    "duration": 8,
    "start_time": "2021-10-17T15:30:26.833Z"
   },
   {
    "duration": 23,
    "start_time": "2021-10-17T15:30:26.844Z"
   },
   {
    "duration": 20,
    "start_time": "2021-10-17T15:30:26.870Z"
   },
   {
    "duration": 40,
    "start_time": "2021-10-17T15:30:26.893Z"
   },
   {
    "duration": 6,
    "start_time": "2021-10-17T15:30:26.936Z"
   },
   {
    "duration": 49,
    "start_time": "2021-10-17T15:30:26.944Z"
   },
   {
    "duration": 13,
    "start_time": "2021-10-17T15:30:26.995Z"
   },
   {
    "duration": 20,
    "start_time": "2021-10-17T15:30:27.011Z"
   },
   {
    "duration": 17,
    "start_time": "2021-10-17T15:30:27.082Z"
   },
   {
    "duration": 27,
    "start_time": "2021-10-17T15:30:27.102Z"
   },
   {
    "duration": 12,
    "start_time": "2021-10-17T15:30:39.494Z"
   },
   {
    "duration": 20,
    "start_time": "2021-10-17T15:30:41.760Z"
   },
   {
    "duration": 12,
    "start_time": "2021-10-17T15:31:02.906Z"
   },
   {
    "duration": 18,
    "start_time": "2021-10-17T15:31:05.578Z"
   },
   {
    "duration": 11,
    "start_time": "2021-10-17T15:31:13.337Z"
   },
   {
    "duration": 29,
    "start_time": "2021-10-17T15:31:56.545Z"
   },
   {
    "duration": 12,
    "start_time": "2021-10-17T15:32:11.005Z"
   },
   {
    "duration": 19,
    "start_time": "2021-10-17T15:32:16.331Z"
   },
   {
    "duration": 12,
    "start_time": "2021-10-17T15:32:32.135Z"
   },
   {
    "duration": 28,
    "start_time": "2021-10-17T15:33:42.166Z"
   },
   {
    "duration": 7,
    "start_time": "2021-10-17T15:33:58.230Z"
   },
   {
    "duration": 476,
    "start_time": "2021-10-17T16:23:57.142Z"
   },
   {
    "duration": 14,
    "start_time": "2021-10-17T16:25:34.360Z"
   },
   {
    "duration": 13,
    "start_time": "2021-10-17T16:25:38.362Z"
   },
   {
    "duration": 258,
    "start_time": "2021-10-17T16:25:51.860Z"
   },
   {
    "duration": 12,
    "start_time": "2021-10-17T16:25:59.214Z"
   },
   {
    "duration": 6580,
    "start_time": "2021-10-17T16:26:05.392Z"
   },
   {
    "duration": 6906,
    "start_time": "2021-10-17T16:26:23.058Z"
   },
   {
    "duration": 9,
    "start_time": "2021-10-17T16:26:36.064Z"
   },
   {
    "duration": 12,
    "start_time": "2021-10-17T16:26:47.584Z"
   },
   {
    "duration": 11,
    "start_time": "2021-10-17T16:27:02.945Z"
   },
   {
    "duration": 32,
    "start_time": "2021-10-17T16:27:06.745Z"
   },
   {
    "duration": 299,
    "start_time": "2021-10-17T16:27:52.540Z"
   },
   {
    "duration": 410,
    "start_time": "2021-10-17T16:27:59.038Z"
   },
   {
    "duration": 257,
    "start_time": "2021-10-17T16:28:04.455Z"
   },
   {
    "duration": 32134,
    "start_time": "2021-10-17T16:28:38.416Z"
   },
   {
    "duration": 298,
    "start_time": "2021-10-17T16:29:31.418Z"
   },
   {
    "duration": 325,
    "start_time": "2021-10-17T16:29:40.949Z"
   },
   {
    "duration": 298,
    "start_time": "2021-10-17T16:30:21.324Z"
   },
   {
    "duration": 722,
    "start_time": "2021-10-17T16:30:30.481Z"
   },
   {
    "duration": 11,
    "start_time": "2021-10-17T16:31:19.769Z"
   },
   {
    "duration": 256,
    "start_time": "2021-10-17T16:31:28.505Z"
   },
   {
    "duration": 324,
    "start_time": "2021-10-17T16:31:33.872Z"
   },
   {
    "duration": 318,
    "start_time": "2021-10-17T16:31:37.397Z"
   },
   {
    "duration": 489,
    "start_time": "2021-10-17T16:32:06.398Z"
   },
   {
    "duration": 344,
    "start_time": "2021-10-17T16:33:37.021Z"
   },
   {
    "duration": 638,
    "start_time": "2021-10-17T16:33:41.203Z"
   },
   {
    "duration": 365,
    "start_time": "2021-10-17T16:35:19.853Z"
   },
   {
    "duration": 338,
    "start_time": "2021-10-17T16:35:24.918Z"
   },
   {
    "duration": 356,
    "start_time": "2021-10-17T16:35:29.110Z"
   },
   {
    "duration": 330,
    "start_time": "2021-10-17T16:35:32.852Z"
   },
   {
    "duration": 372,
    "start_time": "2021-10-17T16:35:38.861Z"
   },
   {
    "duration": 15,
    "start_time": "2021-10-17T16:36:16.353Z"
   },
   {
    "duration": 56,
    "start_time": "2021-10-17T16:53:48.695Z"
   },
   {
    "duration": 13,
    "start_time": "2021-10-17T16:55:23.993Z"
   },
   {
    "duration": 26,
    "start_time": "2021-10-17T16:58:09.086Z"
   },
   {
    "duration": 239,
    "start_time": "2021-10-17T16:59:34.924Z"
   },
   {
    "duration": 251,
    "start_time": "2021-10-17T16:59:41.736Z"
   },
   {
    "duration": 8,
    "start_time": "2021-10-17T16:59:53.319Z"
   },
   {
    "duration": 9,
    "start_time": "2021-10-17T16:59:57.917Z"
   },
   {
    "duration": 22,
    "start_time": "2021-10-17T17:00:15.574Z"
   },
   {
    "duration": 274,
    "start_time": "2021-10-17T17:00:37.734Z"
   },
   {
    "duration": 7,
    "start_time": "2021-10-17T17:00:41.934Z"
   },
   {
    "duration": 463,
    "start_time": "2021-10-17T17:03:31.607Z"
   },
   {
    "duration": 381,
    "start_time": "2021-10-17T17:03:42.958Z"
   },
   {
    "duration": 281,
    "start_time": "2021-10-17T17:03:47.950Z"
   },
   {
    "duration": 19,
    "start_time": "2021-10-17T17:03:51.781Z"
   },
   {
    "duration": 12,
    "start_time": "2021-10-17T17:05:21.176Z"
   },
   {
    "duration": 12,
    "start_time": "2021-10-17T17:05:43.262Z"
   },
   {
    "duration": 357,
    "start_time": "2021-10-17T17:14:26.001Z"
   },
   {
    "duration": 296,
    "start_time": "2021-10-17T17:14:30.435Z"
   },
   {
    "duration": 275,
    "start_time": "2021-10-17T17:14:37.902Z"
   },
   {
    "duration": 5,
    "start_time": "2021-10-17T17:14:46.574Z"
   },
   {
    "duration": 254,
    "start_time": "2021-10-17T17:14:49.912Z"
   },
   {
    "duration": 12,
    "start_time": "2021-10-17T17:15:02.364Z"
   },
   {
    "duration": 268,
    "start_time": "2021-10-17T17:15:18.964Z"
   },
   {
    "duration": 14,
    "start_time": "2021-10-17T17:15:29.230Z"
   },
   {
    "duration": 7,
    "start_time": "2021-10-17T17:15:44.897Z"
   },
   {
    "duration": 5,
    "start_time": "2021-10-17T17:16:09.910Z"
   },
   {
    "duration": 238,
    "start_time": "2021-10-17T17:16:13.867Z"
   },
   {
    "duration": 14,
    "start_time": "2021-10-17T17:16:21.525Z"
   },
   {
    "duration": 9,
    "start_time": "2021-10-17T17:16:37.823Z"
   },
   {
    "duration": 20,
    "start_time": "2021-10-17T17:23:19.345Z"
   },
   {
    "duration": 1469,
    "start_time": "2021-10-17T17:40:46.256Z"
   },
   {
    "duration": 57,
    "start_time": "2021-10-17T17:40:47.728Z"
   },
   {
    "duration": 17,
    "start_time": "2021-10-17T17:40:47.788Z"
   },
   {
    "duration": 19,
    "start_time": "2021-10-17T17:40:47.809Z"
   },
   {
    "duration": 61,
    "start_time": "2021-10-17T17:40:47.830Z"
   },
   {
    "duration": 28,
    "start_time": "2021-10-17T17:40:47.894Z"
   },
   {
    "duration": 59,
    "start_time": "2021-10-17T17:40:47.925Z"
   },
   {
    "duration": 8,
    "start_time": "2021-10-17T17:40:47.988Z"
   },
   {
    "duration": 12,
    "start_time": "2021-10-17T17:40:47.999Z"
   },
   {
    "duration": 17,
    "start_time": "2021-10-17T17:40:48.013Z"
   },
   {
    "duration": 53,
    "start_time": "2021-10-17T17:40:48.033Z"
   },
   {
    "duration": 13,
    "start_time": "2021-10-17T17:40:48.088Z"
   },
   {
    "duration": 5,
    "start_time": "2021-10-17T17:40:48.103Z"
   },
   {
    "duration": 339,
    "start_time": "2021-10-17T17:40:48.110Z"
   },
   {
    "duration": 287,
    "start_time": "2021-10-17T17:40:48.451Z"
   },
   {
    "duration": 229,
    "start_time": "2021-10-17T17:40:48.740Z"
   },
   {
    "duration": 193,
    "start_time": "2021-10-17T17:40:48.983Z"
   },
   {
    "duration": 8,
    "start_time": "2021-10-17T17:40:49.182Z"
   },
   {
    "duration": 19,
    "start_time": "2021-10-17T17:40:49.192Z"
   },
   {
    "duration": 291,
    "start_time": "2021-10-17T17:40:49.213Z"
   },
   {
    "duration": 29,
    "start_time": "2021-10-17T17:40:49.506Z"
   },
   {
    "duration": 13,
    "start_time": "2021-10-17T17:40:49.537Z"
   },
   {
    "duration": 13,
    "start_time": "2021-10-17T17:40:49.582Z"
   },
   {
    "duration": 20,
    "start_time": "2021-10-17T17:40:49.599Z"
   },
   {
    "duration": 509,
    "start_time": "2021-10-17T17:40:49.622Z"
   },
   {
    "duration": 9,
    "start_time": "2021-10-17T17:40:50.133Z"
   },
   {
    "duration": 318,
    "start_time": "2021-10-17T17:40:50.144Z"
   },
   {
    "duration": 18,
    "start_time": "2021-10-17T17:40:50.464Z"
   },
   {
    "duration": 338,
    "start_time": "2021-10-17T17:40:50.485Z"
   },
   {
    "duration": 366,
    "start_time": "2021-10-17T17:40:50.826Z"
   },
   {
    "duration": 951,
    "start_time": "2021-10-17T17:40:51.194Z"
   },
   {
    "duration": 9,
    "start_time": "2021-10-17T17:40:52.149Z"
   },
   {
    "duration": 19,
    "start_time": "2021-10-17T17:40:52.160Z"
   },
   {
    "duration": 10,
    "start_time": "2021-10-17T17:40:52.181Z"
   },
   {
    "duration": 24,
    "start_time": "2021-10-17T17:40:52.194Z"
   },
   {
    "duration": 6,
    "start_time": "2021-10-17T17:40:52.220Z"
   },
   {
    "duration": 57,
    "start_time": "2021-10-17T17:40:52.227Z"
   },
   {
    "duration": 6,
    "start_time": "2021-10-17T17:40:52.286Z"
   },
   {
    "duration": 18,
    "start_time": "2021-10-17T17:40:52.295Z"
   },
   {
    "duration": 24,
    "start_time": "2021-10-17T17:40:52.315Z"
   },
   {
    "duration": 7,
    "start_time": "2021-10-17T17:40:52.381Z"
   },
   {
    "duration": 16,
    "start_time": "2021-10-17T17:40:52.390Z"
   },
   {
    "duration": 27,
    "start_time": "2021-10-17T17:40:52.408Z"
   },
   {
    "duration": 392,
    "start_time": "2021-10-17T17:40:52.438Z"
   },
   {
    "duration": 67,
    "start_time": "2021-10-17T17:40:52.832Z"
   },
   {
    "duration": 12,
    "start_time": "2021-10-17T17:40:52.902Z"
   },
   {
    "duration": 5,
    "start_time": "2021-10-17T18:53:43.826Z"
   },
   {
    "duration": 283,
    "start_time": "2021-10-17T18:53:45.955Z"
   },
   {
    "duration": 438,
    "start_time": "2021-10-17T19:01:00.702Z"
   },
   {
    "duration": 313,
    "start_time": "2021-10-17T19:01:09.704Z"
   },
   {
    "duration": 235,
    "start_time": "2021-10-17T19:01:24.768Z"
   },
   {
    "duration": 292,
    "start_time": "2021-10-17T19:01:31.002Z"
   },
   {
    "duration": 315,
    "start_time": "2021-10-17T19:01:44.779Z"
   },
   {
    "duration": 263,
    "start_time": "2021-10-17T19:02:12.107Z"
   },
   {
    "duration": 276,
    "start_time": "2021-10-17T19:02:19.385Z"
   },
   {
    "duration": 185,
    "start_time": "2021-10-17T19:02:52.820Z"
   },
   {
    "duration": 94,
    "start_time": "2021-10-17T19:03:11.077Z"
   },
   {
    "duration": 293,
    "start_time": "2021-10-17T19:03:14.918Z"
   },
   {
    "duration": 186,
    "start_time": "2021-10-17T19:03:26.238Z"
   },
   {
    "duration": 1430,
    "start_time": "2021-10-17T19:03:42.391Z"
   },
   {
    "duration": 53,
    "start_time": "2021-10-17T19:03:43.824Z"
   },
   {
    "duration": 16,
    "start_time": "2021-10-17T19:03:43.880Z"
   },
   {
    "duration": 18,
    "start_time": "2021-10-17T19:03:43.898Z"
   },
   {
    "duration": 28,
    "start_time": "2021-10-17T19:03:43.919Z"
   },
   {
    "duration": 29,
    "start_time": "2021-10-17T19:03:43.983Z"
   },
   {
    "duration": 39,
    "start_time": "2021-10-17T19:03:44.014Z"
   },
   {
    "duration": 9,
    "start_time": "2021-10-17T19:03:44.084Z"
   },
   {
    "duration": 10,
    "start_time": "2021-10-17T19:03:44.097Z"
   },
   {
    "duration": 19,
    "start_time": "2021-10-17T19:03:44.109Z"
   },
   {
    "duration": 52,
    "start_time": "2021-10-17T19:03:44.130Z"
   },
   {
    "duration": 13,
    "start_time": "2021-10-17T19:03:44.185Z"
   },
   {
    "duration": 8,
    "start_time": "2021-10-17T19:03:44.200Z"
   },
   {
    "duration": 11,
    "start_time": "2021-10-17T19:03:44.210Z"
   },
   {
    "duration": 330,
    "start_time": "2021-10-17T19:03:44.224Z"
   },
   {
    "duration": 289,
    "start_time": "2021-10-17T19:03:44.557Z"
   },
   {
    "duration": 235,
    "start_time": "2021-10-17T19:03:44.849Z"
   },
   {
    "duration": 202,
    "start_time": "2021-10-17T19:03:45.087Z"
   },
   {
    "duration": 7,
    "start_time": "2021-10-17T19:03:45.292Z"
   },
   {
    "duration": 20,
    "start_time": "2021-10-17T19:03:45.302Z"
   },
   {
    "duration": 291,
    "start_time": "2021-10-17T19:03:45.325Z"
   },
   {
    "duration": 29,
    "start_time": "2021-10-17T19:03:45.618Z"
   },
   {
    "duration": 32,
    "start_time": "2021-10-17T19:03:45.652Z"
   },
   {
    "duration": 12,
    "start_time": "2021-10-17T19:03:45.687Z"
   },
   {
    "duration": 34,
    "start_time": "2021-10-17T19:03:45.701Z"
   },
   {
    "duration": 497,
    "start_time": "2021-10-17T19:03:45.738Z"
   },
   {
    "duration": 9,
    "start_time": "2021-10-17T19:03:46.237Z"
   },
   {
    "duration": 326,
    "start_time": "2021-10-17T19:03:46.249Z"
   },
   {
    "duration": 8,
    "start_time": "2021-10-17T19:03:46.582Z"
   },
   {
    "duration": 352,
    "start_time": "2021-10-17T19:03:46.593Z"
   },
   {
    "duration": 360,
    "start_time": "2021-10-17T19:03:46.947Z"
   },
   {
    "duration": 1267,
    "start_time": "2021-10-17T19:03:47.309Z"
   },
   {
    "duration": 9,
    "start_time": "2021-10-17T19:03:48.580Z"
   },
   {
    "duration": 23,
    "start_time": "2021-10-17T19:03:48.593Z"
   },
   {
    "duration": 15,
    "start_time": "2021-10-17T19:03:48.619Z"
   },
   {
    "duration": 61,
    "start_time": "2021-10-17T19:03:48.636Z"
   },
   {
    "duration": 5,
    "start_time": "2021-10-17T19:03:48.699Z"
   },
   {
    "duration": 30,
    "start_time": "2021-10-17T19:03:48.706Z"
   },
   {
    "duration": 22,
    "start_time": "2021-10-17T19:03:48.739Z"
   },
   {
    "duration": 26,
    "start_time": "2021-10-17T19:03:48.764Z"
   },
   {
    "duration": 25,
    "start_time": "2021-10-17T19:03:48.792Z"
   },
   {
    "duration": 6,
    "start_time": "2021-10-17T19:03:48.820Z"
   },
   {
    "duration": 58,
    "start_time": "2021-10-17T19:03:48.829Z"
   },
   {
    "duration": 26,
    "start_time": "2021-10-17T19:03:48.890Z"
   },
   {
    "duration": 366,
    "start_time": "2021-10-17T19:03:48.919Z"
   },
   {
    "duration": 55,
    "start_time": "2021-10-17T19:03:49.287Z"
   },
   {
    "duration": 45,
    "start_time": "2021-10-17T19:03:49.344Z"
   },
   {
    "duration": 6,
    "start_time": "2021-10-17T19:06:30.984Z"
   },
   {
    "duration": 1109,
    "start_time": "2021-10-17T19:06:33.694Z"
   },
   {
    "duration": 5,
    "start_time": "2021-10-17T19:06:50.869Z"
   },
   {
    "duration": 271,
    "start_time": "2021-10-17T19:06:53.126Z"
   },
   {
    "duration": 4,
    "start_time": "2021-10-17T19:07:03.415Z"
   },
   {
    "duration": 281,
    "start_time": "2021-10-17T19:12:14.335Z"
   },
   {
    "duration": 5,
    "start_time": "2021-10-17T19:17:37.961Z"
   },
   {
    "duration": 292,
    "start_time": "2021-10-17T19:17:42.478Z"
   },
   {
    "duration": 392,
    "start_time": "2021-10-17T19:21:58.440Z"
   },
   {
    "duration": 292,
    "start_time": "2021-10-17T19:22:21.054Z"
   },
   {
    "duration": 282,
    "start_time": "2021-10-17T19:22:24.697Z"
   },
   {
    "duration": 298,
    "start_time": "2021-10-17T19:23:52.836Z"
   },
   {
    "duration": 312,
    "start_time": "2021-10-17T19:24:49.124Z"
   },
   {
    "duration": 313,
    "start_time": "2021-10-17T19:25:11.172Z"
   },
   {
    "duration": 294,
    "start_time": "2021-10-17T19:26:20.004Z"
   },
   {
    "duration": 289,
    "start_time": "2021-10-17T19:35:57.470Z"
   },
   {
    "duration": 358,
    "start_time": "2021-10-17T19:42:00.851Z"
   },
   {
    "duration": 314,
    "start_time": "2021-10-17T19:42:06.676Z"
   },
   {
    "duration": 83,
    "start_time": "2021-10-17T19:42:19.631Z"
   },
   {
    "duration": 83,
    "start_time": "2021-10-17T19:42:32.042Z"
   },
   {
    "duration": 331,
    "start_time": "2021-10-17T19:42:49.347Z"
   },
   {
    "duration": 426,
    "start_time": "2021-10-17T19:42:54.367Z"
   },
   {
    "duration": 317,
    "start_time": "2021-10-17T19:43:10.338Z"
   },
   {
    "duration": 326,
    "start_time": "2021-10-17T19:43:15.539Z"
   },
   {
    "duration": 376,
    "start_time": "2021-10-17T19:43:32.099Z"
   },
   {
    "duration": 320,
    "start_time": "2021-10-17T19:43:37.024Z"
   },
   {
    "duration": 365,
    "start_time": "2021-10-17T19:43:51.192Z"
   },
   {
    "duration": 327,
    "start_time": "2021-10-17T19:43:58.135Z"
   },
   {
    "duration": 325,
    "start_time": "2021-10-17T21:06:55.685Z"
   },
   {
    "duration": 9,
    "start_time": "2021-10-17T21:07:03.182Z"
   },
   {
    "duration": 11,
    "start_time": "2021-10-17T21:07:20.992Z"
   },
   {
    "duration": 284,
    "start_time": "2021-10-17T21:08:45.870Z"
   },
   {
    "duration": 1701,
    "start_time": "2021-10-17T21:27:59.653Z"
   },
   {
    "duration": 61,
    "start_time": "2021-10-17T21:28:01.356Z"
   },
   {
    "duration": 17,
    "start_time": "2021-10-17T21:28:01.420Z"
   },
   {
    "duration": 24,
    "start_time": "2021-10-17T21:28:01.440Z"
   },
   {
    "duration": 32,
    "start_time": "2021-10-17T21:28:01.482Z"
   },
   {
    "duration": 36,
    "start_time": "2021-10-17T21:28:01.516Z"
   },
   {
    "duration": 63,
    "start_time": "2021-10-17T21:28:01.555Z"
   },
   {
    "duration": 9,
    "start_time": "2021-10-17T21:28:01.622Z"
   },
   {
    "duration": 49,
    "start_time": "2021-10-17T21:28:01.635Z"
   },
   {
    "duration": 18,
    "start_time": "2021-10-17T21:28:01.687Z"
   },
   {
    "duration": 11,
    "start_time": "2021-10-17T21:28:01.708Z"
   },
   {
    "duration": 18,
    "start_time": "2021-10-17T21:28:01.721Z"
   },
   {
    "duration": 6,
    "start_time": "2021-10-17T21:28:01.782Z"
   },
   {
    "duration": 310,
    "start_time": "2021-10-17T21:28:01.791Z"
   },
   {
    "duration": 285,
    "start_time": "2021-10-17T21:28:02.104Z"
   },
   {
    "duration": 222,
    "start_time": "2021-10-17T21:28:02.392Z"
   },
   {
    "duration": 208,
    "start_time": "2021-10-17T21:28:02.617Z"
   },
   {
    "duration": 8,
    "start_time": "2021-10-17T21:28:02.828Z"
   },
   {
    "duration": 11,
    "start_time": "2021-10-17T21:28:02.838Z"
   },
   {
    "duration": 312,
    "start_time": "2021-10-17T21:28:02.851Z"
   },
   {
    "duration": 38,
    "start_time": "2021-10-17T21:28:03.166Z"
   },
   {
    "duration": 13,
    "start_time": "2021-10-17T21:28:03.206Z"
   },
   {
    "duration": 14,
    "start_time": "2021-10-17T21:28:03.224Z"
   },
   {
    "duration": 433,
    "start_time": "2021-10-17T21:28:03.241Z"
   },
   {
    "duration": 22,
    "start_time": "2021-10-17T21:28:03.677Z"
   },
   {
    "duration": 450,
    "start_time": "2021-10-17T21:28:03.701Z"
   },
   {
    "duration": 10,
    "start_time": "2021-10-17T21:28:04.155Z"
   },
   {
    "duration": 392,
    "start_time": "2021-10-17T21:28:04.184Z"
   },
   {
    "duration": 9,
    "start_time": "2021-10-17T21:28:04.578Z"
   },
   {
    "duration": 297,
    "start_time": "2021-10-17T21:28:04.590Z"
   },
   {
    "duration": 355,
    "start_time": "2021-10-17T21:28:04.889Z"
   },
   {
    "duration": 1256,
    "start_time": "2021-10-17T21:28:05.247Z"
   },
   {
    "duration": 7,
    "start_time": "2021-10-17T21:28:06.506Z"
   },
   {
    "duration": 19,
    "start_time": "2021-10-17T21:28:06.516Z"
   },
   {
    "duration": 10,
    "start_time": "2021-10-17T21:28:06.538Z"
   },
   {
    "duration": 27,
    "start_time": "2021-10-17T21:28:06.582Z"
   },
   {
    "duration": 8,
    "start_time": "2021-10-17T21:28:06.611Z"
   },
   {
    "duration": 20,
    "start_time": "2021-10-17T21:28:06.622Z"
   },
   {
    "duration": 40,
    "start_time": "2021-10-17T21:28:06.644Z"
   },
   {
    "duration": 19,
    "start_time": "2021-10-17T21:28:06.688Z"
   },
   {
    "duration": 26,
    "start_time": "2021-10-17T21:28:06.710Z"
   },
   {
    "duration": 47,
    "start_time": "2021-10-17T21:28:06.739Z"
   },
   {
    "duration": 19,
    "start_time": "2021-10-17T21:28:06.788Z"
   },
   {
    "duration": 24,
    "start_time": "2021-10-17T21:28:06.809Z"
   },
   {
    "duration": 360,
    "start_time": "2021-10-17T21:28:06.835Z"
   },
   {
    "duration": 10,
    "start_time": "2021-10-17T21:28:07.198Z"
   },
   {
    "duration": 74,
    "start_time": "2021-10-17T21:28:07.210Z"
   },
   {
    "duration": 13,
    "start_time": "2021-10-17T21:28:07.286Z"
   },
   {
    "duration": 5,
    "start_time": "2021-10-17T21:35:46.194Z"
   },
   {
    "duration": 297,
    "start_time": "2021-10-17T21:35:48.868Z"
   },
   {
    "duration": 272,
    "start_time": "2021-10-17T21:35:52.632Z"
   },
   {
    "duration": 217,
    "start_time": "2021-10-17T21:35:58.646Z"
   },
   {
    "duration": 387,
    "start_time": "2021-10-17T21:36:40.924Z"
   },
   {
    "duration": 20,
    "start_time": "2021-10-17T21:37:32.490Z"
   },
   {
    "duration": 37,
    "start_time": "2021-10-17T21:37:53.816Z"
   },
   {
    "duration": 11,
    "start_time": "2021-10-17T21:38:08.428Z"
   },
   {
    "duration": 13,
    "start_time": "2021-10-17T21:38:11.064Z"
   },
   {
    "duration": 1054,
    "start_time": "2021-10-18T05:51:15.385Z"
   },
   {
    "duration": 44,
    "start_time": "2021-10-18T05:51:16.441Z"
   },
   {
    "duration": 11,
    "start_time": "2021-10-18T05:51:16.486Z"
   },
   {
    "duration": 9,
    "start_time": "2021-10-18T05:51:16.499Z"
   },
   {
    "duration": 19,
    "start_time": "2021-10-18T05:51:16.510Z"
   },
   {
    "duration": 21,
    "start_time": "2021-10-18T05:51:16.530Z"
   },
   {
    "duration": 50,
    "start_time": "2021-10-18T05:51:16.553Z"
   },
   {
    "duration": 5,
    "start_time": "2021-10-18T05:51:16.605Z"
   },
   {
    "duration": 8,
    "start_time": "2021-10-18T05:51:16.612Z"
   },
   {
    "duration": 11,
    "start_time": "2021-10-18T05:51:16.621Z"
   },
   {
    "duration": 6,
    "start_time": "2021-10-18T05:51:16.633Z"
   },
   {
    "duration": 9,
    "start_time": "2021-10-18T05:51:16.640Z"
   },
   {
    "duration": 42,
    "start_time": "2021-10-18T05:51:16.650Z"
   },
   {
    "duration": 193,
    "start_time": "2021-10-18T05:51:16.693Z"
   },
   {
    "duration": 180,
    "start_time": "2021-10-18T05:51:16.891Z"
   },
   {
    "duration": 138,
    "start_time": "2021-10-18T05:51:17.072Z"
   },
   {
    "duration": 129,
    "start_time": "2021-10-18T05:51:17.212Z"
   },
   {
    "duration": 7,
    "start_time": "2021-10-18T05:51:17.342Z"
   },
   {
    "duration": 8,
    "start_time": "2021-10-18T05:51:17.350Z"
   },
   {
    "duration": 189,
    "start_time": "2021-10-18T05:51:17.360Z"
   },
   {
    "duration": 17,
    "start_time": "2021-10-18T05:51:17.551Z"
   },
   {
    "duration": 5,
    "start_time": "2021-10-18T05:51:17.570Z"
   },
   {
    "duration": 9,
    "start_time": "2021-10-18T05:51:17.593Z"
   },
   {
    "duration": 201,
    "start_time": "2021-10-18T05:51:17.604Z"
   },
   {
    "duration": 13,
    "start_time": "2021-10-18T05:51:17.806Z"
   },
   {
    "duration": 327,
    "start_time": "2021-10-18T05:51:17.821Z"
   },
   {
    "duration": 5,
    "start_time": "2021-10-18T05:51:18.150Z"
   },
   {
    "duration": 267,
    "start_time": "2021-10-18T05:51:18.157Z"
   },
   {
    "duration": 5,
    "start_time": "2021-10-18T05:51:18.426Z"
   },
   {
    "duration": 191,
    "start_time": "2021-10-18T05:51:18.432Z"
   },
   {
    "duration": 226,
    "start_time": "2021-10-18T05:51:18.624Z"
   },
   {
    "duration": 1202,
    "start_time": "2021-10-18T05:51:18.851Z"
   },
   {
    "duration": 17,
    "start_time": "2021-10-18T05:51:20.055Z"
   },
   {
    "duration": 6,
    "start_time": "2021-10-18T05:51:20.074Z"
   },
   {
    "duration": 19,
    "start_time": "2021-10-18T05:51:20.085Z"
   },
   {
    "duration": 5,
    "start_time": "2021-10-18T05:51:20.106Z"
   },
   {
    "duration": 16,
    "start_time": "2021-10-18T05:51:20.113Z"
   },
   {
    "duration": 12,
    "start_time": "2021-10-18T05:51:20.131Z"
   },
   {
    "duration": 10,
    "start_time": "2021-10-18T05:51:20.145Z"
   },
   {
    "duration": 47,
    "start_time": "2021-10-18T05:51:20.157Z"
   },
   {
    "duration": 24,
    "start_time": "2021-10-18T05:51:20.206Z"
   },
   {
    "duration": 12,
    "start_time": "2021-10-18T05:51:20.232Z"
   },
   {
    "duration": 57,
    "start_time": "2021-10-18T05:51:20.245Z"
   },
   {
    "duration": 227,
    "start_time": "2021-10-18T05:51:20.304Z"
   },
   {
    "duration": 7,
    "start_time": "2021-10-18T05:51:20.533Z"
   },
   {
    "duration": 32,
    "start_time": "2021-10-18T05:51:20.541Z"
   },
   {
    "duration": 24,
    "start_time": "2021-10-18T05:51:20.574Z"
   },
   {
    "duration": 1178,
    "start_time": "2021-10-18T15:30:53.446Z"
   },
   {
    "duration": 46,
    "start_time": "2021-10-18T15:30:54.626Z"
   },
   {
    "duration": 11,
    "start_time": "2021-10-18T15:30:54.674Z"
   },
   {
    "duration": 9,
    "start_time": "2021-10-18T15:30:54.687Z"
   },
   {
    "duration": 20,
    "start_time": "2021-10-18T15:30:54.697Z"
   },
   {
    "duration": 25,
    "start_time": "2021-10-18T15:30:54.718Z"
   },
   {
    "duration": 48,
    "start_time": "2021-10-18T15:30:54.744Z"
   },
   {
    "duration": 6,
    "start_time": "2021-10-18T15:30:54.794Z"
   },
   {
    "duration": 8,
    "start_time": "2021-10-18T15:30:54.802Z"
   },
   {
    "duration": 11,
    "start_time": "2021-10-18T15:30:54.812Z"
   },
   {
    "duration": 6,
    "start_time": "2021-10-18T15:30:54.824Z"
   },
   {
    "duration": 46,
    "start_time": "2021-10-18T15:30:54.831Z"
   },
   {
    "duration": 3,
    "start_time": "2021-10-18T15:30:54.879Z"
   },
   {
    "duration": 204,
    "start_time": "2021-10-18T15:30:54.884Z"
   },
   {
    "duration": 186,
    "start_time": "2021-10-18T15:30:55.090Z"
   },
   {
    "duration": 136,
    "start_time": "2021-10-18T15:30:55.278Z"
   },
   {
    "duration": 123,
    "start_time": "2021-10-18T15:30:55.416Z"
   },
   {
    "duration": 6,
    "start_time": "2021-10-18T15:30:55.541Z"
   },
   {
    "duration": 11,
    "start_time": "2021-10-18T15:30:55.548Z"
   },
   {
    "duration": 188,
    "start_time": "2021-10-18T15:30:55.561Z"
   },
   {
    "duration": 36,
    "start_time": "2021-10-18T15:30:55.751Z"
   },
   {
    "duration": 12,
    "start_time": "2021-10-18T15:30:55.789Z"
   },
   {
    "duration": 14,
    "start_time": "2021-10-18T15:30:55.806Z"
   },
   {
    "duration": 196,
    "start_time": "2021-10-18T15:30:55.822Z"
   },
   {
    "duration": 13,
    "start_time": "2021-10-18T15:30:56.020Z"
   },
   {
    "duration": 482,
    "start_time": "2021-10-18T15:30:56.036Z"
   },
   {
    "duration": 7,
    "start_time": "2021-10-18T15:30:56.520Z"
   },
   {
    "duration": 396,
    "start_time": "2021-10-18T15:30:56.529Z"
   },
   {
    "duration": 5,
    "start_time": "2021-10-18T15:30:56.927Z"
   },
   {
    "duration": 199,
    "start_time": "2021-10-18T15:30:56.934Z"
   },
   {
    "duration": 232,
    "start_time": "2021-10-18T15:30:57.134Z"
   },
   {
    "duration": 1333,
    "start_time": "2021-10-18T15:30:57.377Z"
   },
   {
    "duration": 14,
    "start_time": "2021-10-18T15:30:58.712Z"
   },
   {
    "duration": 6,
    "start_time": "2021-10-18T15:30:58.728Z"
   },
   {
    "duration": 15,
    "start_time": "2021-10-18T15:30:58.736Z"
   },
   {
    "duration": 4,
    "start_time": "2021-10-18T15:30:58.753Z"
   },
   {
    "duration": 25,
    "start_time": "2021-10-18T15:30:58.759Z"
   },
   {
    "duration": 13,
    "start_time": "2021-10-18T15:30:58.786Z"
   },
   {
    "duration": 11,
    "start_time": "2021-10-18T15:30:58.801Z"
   },
   {
    "duration": 16,
    "start_time": "2021-10-18T15:30:58.814Z"
   },
   {
    "duration": 59,
    "start_time": "2021-10-18T15:30:58.832Z"
   },
   {
    "duration": 12,
    "start_time": "2021-10-18T15:30:58.893Z"
   },
   {
    "duration": 18,
    "start_time": "2021-10-18T15:30:58.907Z"
   },
   {
    "duration": 244,
    "start_time": "2021-10-18T15:30:58.927Z"
   },
   {
    "duration": 8,
    "start_time": "2021-10-18T15:30:59.178Z"
   },
   {
    "duration": 33,
    "start_time": "2021-10-18T15:30:59.187Z"
   },
   {
    "duration": 8,
    "start_time": "2021-10-18T15:30:59.222Z"
   },
   {
    "duration": 369,
    "start_time": "2021-10-18T15:33:09.907Z"
   },
   {
    "duration": 180,
    "start_time": "2021-10-18T15:33:19.060Z"
   },
   {
    "duration": 163,
    "start_time": "2021-10-18T15:33:37.533Z"
   },
   {
    "duration": 16,
    "start_time": "2021-10-18T15:34:07.748Z"
   },
   {
    "duration": 177,
    "start_time": "2021-10-18T15:34:20.201Z"
   },
   {
    "duration": 184,
    "start_time": "2021-10-18T15:34:25.658Z"
   },
   {
    "duration": 179,
    "start_time": "2021-10-18T15:35:11.851Z"
   },
   {
    "duration": 225,
    "start_time": "2021-10-18T15:35:16.227Z"
   },
   {
    "duration": 342,
    "start_time": "2021-10-18T15:35:25.170Z"
   },
   {
    "duration": 274,
    "start_time": "2021-10-18T15:42:18.605Z"
   },
   {
    "duration": 234,
    "start_time": "2021-10-18T15:42:23.862Z"
   },
   {
    "duration": 242,
    "start_time": "2021-10-18T15:42:57.269Z"
   },
   {
    "duration": 240,
    "start_time": "2021-10-18T15:43:00.946Z"
   },
   {
    "duration": 105,
    "start_time": "2021-10-18T15:43:48.351Z"
   },
   {
    "duration": 317,
    "start_time": "2021-10-18T15:43:52.705Z"
   },
   {
    "duration": 238,
    "start_time": "2021-10-18T15:44:02.460Z"
   },
   {
    "duration": 254,
    "start_time": "2021-10-18T15:44:11.918Z"
   },
   {
    "duration": 315,
    "start_time": "2021-10-18T15:47:22.388Z"
   },
   {
    "duration": 241,
    "start_time": "2021-10-18T15:47:43.565Z"
   },
   {
    "duration": 263,
    "start_time": "2021-10-18T15:48:14.593Z"
   },
   {
    "duration": 451,
    "start_time": "2021-10-18T15:51:34.111Z"
   },
   {
    "duration": 184,
    "start_time": "2021-10-18T15:54:57.094Z"
   },
   {
    "duration": 24,
    "start_time": "2021-10-18T16:03:00.207Z"
   },
   {
    "duration": 21,
    "start_time": "2021-10-18T16:03:35.708Z"
   },
   {
    "duration": 22,
    "start_time": "2021-10-18T16:03:41.945Z"
   },
   {
    "duration": 22,
    "start_time": "2021-10-18T16:04:13.310Z"
   },
   {
    "duration": 23,
    "start_time": "2021-10-18T16:04:19.926Z"
   },
   {
    "duration": 20,
    "start_time": "2021-10-18T16:04:53.580Z"
   },
   {
    "duration": 23,
    "start_time": "2021-10-18T16:04:59.735Z"
   },
   {
    "duration": 22,
    "start_time": "2021-10-18T16:05:22.149Z"
   },
   {
    "duration": 11,
    "start_time": "2021-10-18T16:05:27.842Z"
   },
   {
    "duration": 11,
    "start_time": "2021-10-18T16:05:34.257Z"
   },
   {
    "duration": 19,
    "start_time": "2021-10-18T16:06:01.874Z"
   },
   {
    "duration": 15,
    "start_time": "2021-10-18T16:06:52.035Z"
   },
   {
    "duration": 25,
    "start_time": "2021-10-18T16:07:15.676Z"
   },
   {
    "duration": 108,
    "start_time": "2021-10-18T16:08:03.189Z"
   },
   {
    "duration": 439,
    "start_time": "2021-10-18T16:08:17.170Z"
   },
   {
    "duration": 16,
    "start_time": "2021-10-18T16:08:29.089Z"
   },
   {
    "duration": 108,
    "start_time": "2021-10-18T16:16:06.221Z"
   },
   {
    "duration": 4,
    "start_time": "2021-10-18T16:19:37.291Z"
   },
   {
    "duration": 888,
    "start_time": "2021-10-18T16:19:39.558Z"
   },
   {
    "duration": 3,
    "start_time": "2021-10-18T16:19:47.337Z"
   },
   {
    "duration": 342,
    "start_time": "2021-10-18T16:19:51.249Z"
   },
   {
    "duration": 3,
    "start_time": "2021-10-18T16:20:31.246Z"
   },
   {
    "duration": 184,
    "start_time": "2021-10-18T16:20:33.281Z"
   },
   {
    "duration": 108,
    "start_time": "2021-10-18T16:22:11.961Z"
   },
   {
    "duration": 120,
    "start_time": "2021-10-18T16:24:16.742Z"
   },
   {
    "duration": 141,
    "start_time": "2021-10-18T16:24:21.397Z"
   },
   {
    "duration": 161,
    "start_time": "2021-10-18T16:24:35.799Z"
   },
   {
    "duration": 407,
    "start_time": "2021-10-18T16:24:44.749Z"
   },
   {
    "duration": 124,
    "start_time": "2021-10-18T16:24:50.106Z"
   },
   {
    "duration": 162,
    "start_time": "2021-10-18T16:24:57.444Z"
   },
   {
    "duration": 138,
    "start_time": "2021-10-18T16:35:26.076Z"
   },
   {
    "duration": 1162,
    "start_time": "2021-10-18T16:36:52.567Z"
   },
   {
    "duration": 45,
    "start_time": "2021-10-18T16:36:53.731Z"
   },
   {
    "duration": 10,
    "start_time": "2021-10-18T16:36:53.778Z"
   },
   {
    "duration": 12,
    "start_time": "2021-10-18T16:36:53.790Z"
   },
   {
    "duration": 21,
    "start_time": "2021-10-18T16:36:53.804Z"
   },
   {
    "duration": 49,
    "start_time": "2021-10-18T16:36:53.827Z"
   },
   {
    "duration": 27,
    "start_time": "2021-10-18T16:36:53.878Z"
   },
   {
    "duration": 7,
    "start_time": "2021-10-18T16:36:53.907Z"
   },
   {
    "duration": 8,
    "start_time": "2021-10-18T16:36:53.916Z"
   },
   {
    "duration": 12,
    "start_time": "2021-10-18T16:36:53.926Z"
   },
   {
    "duration": 44,
    "start_time": "2021-10-18T16:36:53.939Z"
   },
   {
    "duration": 9,
    "start_time": "2021-10-18T16:36:53.985Z"
   },
   {
    "duration": 3,
    "start_time": "2021-10-18T16:36:53.996Z"
   },
   {
    "duration": 207,
    "start_time": "2021-10-18T16:36:54.001Z"
   },
   {
    "duration": 177,
    "start_time": "2021-10-18T16:36:54.210Z"
   },
   {
    "duration": 141,
    "start_time": "2021-10-18T16:36:54.389Z"
   },
   {
    "duration": 124,
    "start_time": "2021-10-18T16:36:54.533Z"
   },
   {
    "duration": 17,
    "start_time": "2021-10-18T16:36:54.659Z"
   },
   {
    "duration": 7,
    "start_time": "2021-10-18T16:36:54.678Z"
   },
   {
    "duration": 186,
    "start_time": "2021-10-18T16:36:54.687Z"
   },
   {
    "duration": 19,
    "start_time": "2021-10-18T16:36:54.874Z"
   },
   {
    "duration": 9,
    "start_time": "2021-10-18T16:36:54.895Z"
   },
   {
    "duration": 10,
    "start_time": "2021-10-18T16:36:54.907Z"
   },
   {
    "duration": 210,
    "start_time": "2021-10-18T16:36:54.919Z"
   },
   {
    "duration": 13,
    "start_time": "2021-10-18T16:36:55.131Z"
   },
   {
    "duration": 384,
    "start_time": "2021-10-18T16:36:55.146Z"
   },
   {
    "duration": 6,
    "start_time": "2021-10-18T16:36:55.532Z"
   },
   {
    "duration": 267,
    "start_time": "2021-10-18T16:36:55.541Z"
   },
   {
    "duration": 6,
    "start_time": "2021-10-18T16:36:55.809Z"
   },
   {
    "duration": 186,
    "start_time": "2021-10-18T16:36:55.816Z"
   },
   {
    "duration": 214,
    "start_time": "2021-10-18T16:36:56.003Z"
   },
   {
    "duration": 1275,
    "start_time": "2021-10-18T16:36:56.219Z"
   },
   {
    "duration": 18,
    "start_time": "2021-10-18T16:36:57.497Z"
   },
   {
    "duration": 8,
    "start_time": "2021-10-18T16:36:57.517Z"
   },
   {
    "duration": 16,
    "start_time": "2021-10-18T16:36:57.527Z"
   },
   {
    "duration": 33,
    "start_time": "2021-10-18T16:36:57.544Z"
   },
   {
    "duration": 14,
    "start_time": "2021-10-18T16:36:57.578Z"
   },
   {
    "duration": 12,
    "start_time": "2021-10-18T16:36:57.593Z"
   },
   {
    "duration": 10,
    "start_time": "2021-10-18T16:36:57.607Z"
   },
   {
    "duration": 19,
    "start_time": "2021-10-18T16:36:57.619Z"
   },
   {
    "duration": 51,
    "start_time": "2021-10-18T16:36:57.640Z"
   },
   {
    "duration": 17,
    "start_time": "2021-10-18T16:36:57.696Z"
   },
   {
    "duration": 11,
    "start_time": "2021-10-18T16:36:57.715Z"
   },
   {
    "duration": 55,
    "start_time": "2021-10-18T16:36:57.729Z"
   },
   {
    "duration": 297,
    "start_time": "2021-10-18T16:36:57.786Z"
   },
   {
    "duration": 9,
    "start_time": "2021-10-18T16:36:58.085Z"
   },
   {
    "duration": 44,
    "start_time": "2021-10-18T16:36:58.096Z"
   },
   {
    "duration": 9,
    "start_time": "2021-10-18T16:36:58.142Z"
   },
   {
    "duration": 273,
    "start_time": "2021-10-18T16:36:58.152Z"
   },
   {
    "duration": 356,
    "start_time": "2021-10-18T16:39:12.338Z"
   },
   {
    "duration": 256,
    "start_time": "2021-10-18T16:39:19.687Z"
   },
   {
    "duration": 278,
    "start_time": "2021-10-18T16:39:24.878Z"
   }
  ],
  "kernelspec": {
   "display_name": "Python 3",
   "language": "python",
   "name": "python3"
  },
  "language_info": {
   "codemirror_mode": {
    "name": "ipython",
    "version": 3
   },
   "file_extension": ".py",
   "mimetype": "text/x-python",
   "name": "python",
   "nbconvert_exporter": "python",
   "pygments_lexer": "ipython3",
   "version": "3.8.10"
  },
  "toc": {
   "base_numbering": 1,
   "nav_menu": {},
   "number_sections": true,
   "sideBar": true,
   "skip_h1_title": true,
   "title_cell": "Table of Contents",
   "title_sidebar": "Contents",
   "toc_cell": false,
   "toc_position": {},
   "toc_section_display": true,
   "toc_window_display": false
  }
 },
 "nbformat": 4,
 "nbformat_minor": 2
}
