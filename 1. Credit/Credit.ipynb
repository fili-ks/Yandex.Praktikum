{
 "cells": [
  {
   "cell_type": "markdown",
   "metadata": {},
   "source": [
    "# Исследование надёжности заёмщиков\n",
    "\n",
    "Заказчик — кредитный отдел банка. Нужно разобраться, влияет ли семейное положение и количество детей клиента на факт погашения кредита в срок. Входные данные от банка — статистика о платёжеспособности клиентов.\n",
    "\n",
    "Результаты исследования будут учтены при построении модели **кредитного скоринга** — специальной системы, которая оценивает способность потенциального заёмщика вернуть кредит банку."
   ]
  },
  {
   "cell_type": "markdown",
   "metadata": {},
   "source": [
    "## Шаг 1. Откройте файл с данными и изучите общую информацию"
   ]
  },
  {
   "cell_type": "code",
   "execution_count": 17,
   "metadata": {
    "scrolled": false
   },
   "outputs": [
    {
     "data": {
      "text/html": [
       "<div>\n",
       "<style scoped>\n",
       "    .dataframe tbody tr th:only-of-type {\n",
       "        vertical-align: middle;\n",
       "    }\n",
       "\n",
       "    .dataframe tbody tr th {\n",
       "        vertical-align: top;\n",
       "    }\n",
       "\n",
       "    .dataframe thead th {\n",
       "        text-align: right;\n",
       "    }\n",
       "</style>\n",
       "<table border=\"1\" class=\"dataframe\">\n",
       "  <thead>\n",
       "    <tr style=\"text-align: right;\">\n",
       "      <th></th>\n",
       "      <th>children</th>\n",
       "      <th>days_employed</th>\n",
       "      <th>dob_years</th>\n",
       "      <th>education</th>\n",
       "      <th>education_id</th>\n",
       "      <th>family_status</th>\n",
       "      <th>family_status_id</th>\n",
       "      <th>gender</th>\n",
       "      <th>income_type</th>\n",
       "      <th>debt</th>\n",
       "      <th>total_income</th>\n",
       "      <th>purpose</th>\n",
       "    </tr>\n",
       "  </thead>\n",
       "  <tbody>\n",
       "    <tr>\n",
       "      <td>0</td>\n",
       "      <td>1</td>\n",
       "      <td>-8437.673028</td>\n",
       "      <td>42</td>\n",
       "      <td>высшее</td>\n",
       "      <td>0</td>\n",
       "      <td>женат / замужем</td>\n",
       "      <td>0</td>\n",
       "      <td>F</td>\n",
       "      <td>сотрудник</td>\n",
       "      <td>0</td>\n",
       "      <td>253875.639453</td>\n",
       "      <td>покупка жилья</td>\n",
       "    </tr>\n",
       "    <tr>\n",
       "      <td>1</td>\n",
       "      <td>1</td>\n",
       "      <td>-4024.803754</td>\n",
       "      <td>36</td>\n",
       "      <td>среднее</td>\n",
       "      <td>1</td>\n",
       "      <td>женат / замужем</td>\n",
       "      <td>0</td>\n",
       "      <td>F</td>\n",
       "      <td>сотрудник</td>\n",
       "      <td>0</td>\n",
       "      <td>112080.014102</td>\n",
       "      <td>приобретение автомобиля</td>\n",
       "    </tr>\n",
       "    <tr>\n",
       "      <td>2</td>\n",
       "      <td>0</td>\n",
       "      <td>-5623.422610</td>\n",
       "      <td>33</td>\n",
       "      <td>Среднее</td>\n",
       "      <td>1</td>\n",
       "      <td>женат / замужем</td>\n",
       "      <td>0</td>\n",
       "      <td>M</td>\n",
       "      <td>сотрудник</td>\n",
       "      <td>0</td>\n",
       "      <td>145885.952297</td>\n",
       "      <td>покупка жилья</td>\n",
       "    </tr>\n",
       "    <tr>\n",
       "      <td>3</td>\n",
       "      <td>3</td>\n",
       "      <td>-4124.747207</td>\n",
       "      <td>32</td>\n",
       "      <td>среднее</td>\n",
       "      <td>1</td>\n",
       "      <td>женат / замужем</td>\n",
       "      <td>0</td>\n",
       "      <td>M</td>\n",
       "      <td>сотрудник</td>\n",
       "      <td>0</td>\n",
       "      <td>267628.550329</td>\n",
       "      <td>дополнительное образование</td>\n",
       "    </tr>\n",
       "    <tr>\n",
       "      <td>4</td>\n",
       "      <td>0</td>\n",
       "      <td>340266.072047</td>\n",
       "      <td>53</td>\n",
       "      <td>среднее</td>\n",
       "      <td>1</td>\n",
       "      <td>гражданский брак</td>\n",
       "      <td>1</td>\n",
       "      <td>F</td>\n",
       "      <td>пенсионер</td>\n",
       "      <td>0</td>\n",
       "      <td>158616.077870</td>\n",
       "      <td>сыграть свадьбу</td>\n",
       "    </tr>\n",
       "    <tr>\n",
       "      <td>5</td>\n",
       "      <td>0</td>\n",
       "      <td>-926.185831</td>\n",
       "      <td>27</td>\n",
       "      <td>высшее</td>\n",
       "      <td>0</td>\n",
       "      <td>гражданский брак</td>\n",
       "      <td>1</td>\n",
       "      <td>M</td>\n",
       "      <td>компаньон</td>\n",
       "      <td>0</td>\n",
       "      <td>255763.565419</td>\n",
       "      <td>покупка жилья</td>\n",
       "    </tr>\n",
       "    <tr>\n",
       "      <td>6</td>\n",
       "      <td>0</td>\n",
       "      <td>-2879.202052</td>\n",
       "      <td>43</td>\n",
       "      <td>высшее</td>\n",
       "      <td>0</td>\n",
       "      <td>женат / замужем</td>\n",
       "      <td>0</td>\n",
       "      <td>F</td>\n",
       "      <td>компаньон</td>\n",
       "      <td>0</td>\n",
       "      <td>240525.971920</td>\n",
       "      <td>операции с жильем</td>\n",
       "    </tr>\n",
       "    <tr>\n",
       "      <td>7</td>\n",
       "      <td>0</td>\n",
       "      <td>-152.779569</td>\n",
       "      <td>50</td>\n",
       "      <td>СРЕДНЕЕ</td>\n",
       "      <td>1</td>\n",
       "      <td>женат / замужем</td>\n",
       "      <td>0</td>\n",
       "      <td>M</td>\n",
       "      <td>сотрудник</td>\n",
       "      <td>0</td>\n",
       "      <td>135823.934197</td>\n",
       "      <td>образование</td>\n",
       "    </tr>\n",
       "    <tr>\n",
       "      <td>8</td>\n",
       "      <td>2</td>\n",
       "      <td>-6929.865299</td>\n",
       "      <td>35</td>\n",
       "      <td>ВЫСШЕЕ</td>\n",
       "      <td>0</td>\n",
       "      <td>гражданский брак</td>\n",
       "      <td>1</td>\n",
       "      <td>F</td>\n",
       "      <td>сотрудник</td>\n",
       "      <td>0</td>\n",
       "      <td>95856.832424</td>\n",
       "      <td>на проведение свадьбы</td>\n",
       "    </tr>\n",
       "    <tr>\n",
       "      <td>9</td>\n",
       "      <td>0</td>\n",
       "      <td>-2188.756445</td>\n",
       "      <td>41</td>\n",
       "      <td>среднее</td>\n",
       "      <td>1</td>\n",
       "      <td>женат / замужем</td>\n",
       "      <td>0</td>\n",
       "      <td>M</td>\n",
       "      <td>сотрудник</td>\n",
       "      <td>0</td>\n",
       "      <td>144425.938277</td>\n",
       "      <td>покупка жилья для семьи</td>\n",
       "    </tr>\n",
       "  </tbody>\n",
       "</table>\n",
       "</div>"
      ],
      "text/plain": [
       "   children  days_employed  dob_years education  education_id  \\\n",
       "0         1   -8437.673028         42    высшее             0   \n",
       "1         1   -4024.803754         36   среднее             1   \n",
       "2         0   -5623.422610         33   Среднее             1   \n",
       "3         3   -4124.747207         32   среднее             1   \n",
       "4         0  340266.072047         53   среднее             1   \n",
       "5         0    -926.185831         27    высшее             0   \n",
       "6         0   -2879.202052         43    высшее             0   \n",
       "7         0    -152.779569         50   СРЕДНЕЕ             1   \n",
       "8         2   -6929.865299         35    ВЫСШЕЕ             0   \n",
       "9         0   -2188.756445         41   среднее             1   \n",
       "\n",
       "      family_status  family_status_id gender income_type  debt   total_income  \\\n",
       "0   женат / замужем                 0      F   сотрудник     0  253875.639453   \n",
       "1   женат / замужем                 0      F   сотрудник     0  112080.014102   \n",
       "2   женат / замужем                 0      M   сотрудник     0  145885.952297   \n",
       "3   женат / замужем                 0      M   сотрудник     0  267628.550329   \n",
       "4  гражданский брак                 1      F   пенсионер     0  158616.077870   \n",
       "5  гражданский брак                 1      M   компаньон     0  255763.565419   \n",
       "6   женат / замужем                 0      F   компаньон     0  240525.971920   \n",
       "7   женат / замужем                 0      M   сотрудник     0  135823.934197   \n",
       "8  гражданский брак                 1      F   сотрудник     0   95856.832424   \n",
       "9   женат / замужем                 0      M   сотрудник     0  144425.938277   \n",
       "\n",
       "                      purpose  \n",
       "0               покупка жилья  \n",
       "1     приобретение автомобиля  \n",
       "2               покупка жилья  \n",
       "3  дополнительное образование  \n",
       "4             сыграть свадьбу  \n",
       "5               покупка жилья  \n",
       "6           операции с жильем  \n",
       "7                 образование  \n",
       "8       на проведение свадьбы  \n",
       "9     покупка жилья для семьи  "
      ]
     },
     "execution_count": 17,
     "metadata": {},
     "output_type": "execute_result"
    }
   ],
   "source": [
    "import pandas as pd\n",
    "\n",
    "df = pd.read_csv('/datasets/data.csv')\n",
    "\n",
    "df.head(10)"
   ]
  },
  {
   "cell_type": "markdown",
   "metadata": {},
   "source": [
    "Предварительный просмотр данных:\n",
    "1. days_employed - есть отрицательные значения, необходимо будет изучить, есть ли закономерность между отрицательным значением days_employed и какого-либо показателя (для удобства можно будет перевести дни в годы (?) или в целочисленное значение)\n",
    "2. education - данные об образовании записано в разном формате: например, при группировке среднее, Среднее и СРЕДНЕЕ будет считаться по отдельности.\n",
    "3. Можно также total_income перевести в целочисленные значения - на статистику это повлияет вряд ли, а вот визуально будет смотреться лучше."
   ]
  },
  {
   "cell_type": "markdown",
   "metadata": {},
   "source": [
    "Общая информация о данных таблицы df:"
   ]
  },
  {
   "cell_type": "code",
   "execution_count": 18,
   "metadata": {},
   "outputs": [
    {
     "name": "stdout",
     "output_type": "stream",
     "text": [
      "<class 'pandas.core.frame.DataFrame'>\n",
      "RangeIndex: 21525 entries, 0 to 21524\n",
      "Data columns (total 12 columns):\n",
      "children            21525 non-null int64\n",
      "days_employed       19351 non-null float64\n",
      "dob_years           21525 non-null int64\n",
      "education           21525 non-null object\n",
      "education_id        21525 non-null int64\n",
      "family_status       21525 non-null object\n",
      "family_status_id    21525 non-null int64\n",
      "gender              21525 non-null object\n",
      "income_type         21525 non-null object\n",
      "debt                21525 non-null int64\n",
      "total_income        19351 non-null float64\n",
      "purpose             21525 non-null object\n",
      "dtypes: float64(2), int64(5), object(5)\n",
      "memory usage: 2.0+ MB\n"
     ]
    }
   ],
   "source": [
    "df.info()"
   ]
  },
  {
   "cell_type": "markdown",
   "metadata": {},
   "source": [
    "Вывод: Предврарительный вывод по имеющимся данным можно сделать такой:\n",
    "1. days_employed - есть пропущенные значения, + т.к. это поле с количеством дней трудового стажа, так что формат данных должен быть - int\n",
    "2. debt - int? (вообще формат д.б. boolean, но скорее всего это не понадобится)\n",
    "4. total_income - есть пропущенные данные\n",
    "\n",
    "Важные для ответы на вопросы данные:\n",
    "1. Есть ли зависимость между наличием детей и возвратом кредита в срок? children и debt (похоже, достаточно будет добавить флаг есть дети/нет детей)\n",
    "2. Есть ли зависимость между семейным положением и возвратом кредита в срок? family_status и debt\n",
    "3. Есть ли зависимость между уровнем дохода и возвратом кредита в срок? total_income и debt \n",
    "4. Как разные цели кредита влияют на его возврат в срок? purpose и debt\n",
    "\n",
    "В первую очередь необходимо проверить корректность данных в этих 5 столбцах. "
   ]
  },
  {
   "cell_type": "code",
   "execution_count": 19,
   "metadata": {
    "scrolled": true
   },
   "outputs": [
    {
     "data": {
      "text/plain": [
       "Index(['children', 'days_employed', 'dob_years', 'education', 'education_id',\n",
       "       'family_status', 'family_status_id', 'gender', 'income_type', 'debt',\n",
       "       'total_income', 'purpose'],\n",
       "      dtype='object')"
      ]
     },
     "execution_count": 19,
     "metadata": {},
     "output_type": "execute_result"
    }
   ],
   "source": [
    "df.columns"
   ]
  },
  {
   "cell_type": "markdown",
   "metadata": {},
   "source": [
    "Вывод: с названиями столбцов все в порядке"
   ]
  },
  {
   "cell_type": "code",
   "execution_count": 20,
   "metadata": {},
   "outputs": [
    {
     "data": {
      "text/plain": [
       "children               0\n",
       "days_employed       2174\n",
       "dob_years              0\n",
       "education              0\n",
       "education_id           0\n",
       "family_status          0\n",
       "family_status_id       0\n",
       "gender                 0\n",
       "income_type            0\n",
       "debt                   0\n",
       "total_income        2174\n",
       "purpose                0\n",
       "dtype: int64"
      ]
     },
     "execution_count": 20,
     "metadata": {},
     "output_type": "execute_result"
    }
   ],
   "source": [
    "df.isnull().sum()"
   ]
  },
  {
   "cell_type": "markdown",
   "metadata": {},
   "source": [
    "Как видим, в days_employed и total_income действительно есть пропущенные значения (проверить, с чем это может быть связано)"
   ]
  },
  {
   "cell_type": "markdown",
   "metadata": {},
   "source": [
    "**Вывод:** Посмотрели на данные, определили формат данных, какие есть слабые стороны этих данных, что надо исправить и на что лучше обратить внимание."
   ]
  },
  {
   "cell_type": "markdown",
   "metadata": {},
   "source": [
    "## Шаг 2. Предобработка данных"
   ]
  },
  {
   "cell_type": "markdown",
   "metadata": {},
   "source": [
    "### Обработка пропусков"
   ]
  },
  {
   "cell_type": "code",
   "execution_count": 21,
   "metadata": {
    "scrolled": true
   },
   "outputs": [
    {
     "data": {
      "text/html": [
       "<div>\n",
       "<style scoped>\n",
       "    .dataframe tbody tr th:only-of-type {\n",
       "        vertical-align: middle;\n",
       "    }\n",
       "\n",
       "    .dataframe tbody tr th {\n",
       "        vertical-align: top;\n",
       "    }\n",
       "\n",
       "    .dataframe thead th {\n",
       "        text-align: right;\n",
       "    }\n",
       "</style>\n",
       "<table border=\"1\" class=\"dataframe\">\n",
       "  <thead>\n",
       "    <tr style=\"text-align: right;\">\n",
       "      <th></th>\n",
       "      <th>children</th>\n",
       "      <th>days_employed</th>\n",
       "      <th>dob_years</th>\n",
       "      <th>education</th>\n",
       "      <th>education_id</th>\n",
       "      <th>family_status</th>\n",
       "      <th>family_status_id</th>\n",
       "      <th>gender</th>\n",
       "      <th>income_type</th>\n",
       "      <th>debt</th>\n",
       "      <th>total_income</th>\n",
       "      <th>purpose</th>\n",
       "    </tr>\n",
       "  </thead>\n",
       "  <tbody>\n",
       "    <tr>\n",
       "      <td>12</td>\n",
       "      <td>0</td>\n",
       "      <td>NaN</td>\n",
       "      <td>65</td>\n",
       "      <td>среднее</td>\n",
       "      <td>1</td>\n",
       "      <td>гражданский брак</td>\n",
       "      <td>1</td>\n",
       "      <td>M</td>\n",
       "      <td>пенсионер</td>\n",
       "      <td>0</td>\n",
       "      <td>NaN</td>\n",
       "      <td>сыграть свадьбу</td>\n",
       "    </tr>\n",
       "    <tr>\n",
       "      <td>26</td>\n",
       "      <td>0</td>\n",
       "      <td>NaN</td>\n",
       "      <td>41</td>\n",
       "      <td>среднее</td>\n",
       "      <td>1</td>\n",
       "      <td>женат / замужем</td>\n",
       "      <td>0</td>\n",
       "      <td>M</td>\n",
       "      <td>госслужащий</td>\n",
       "      <td>0</td>\n",
       "      <td>NaN</td>\n",
       "      <td>образование</td>\n",
       "    </tr>\n",
       "    <tr>\n",
       "      <td>29</td>\n",
       "      <td>0</td>\n",
       "      <td>NaN</td>\n",
       "      <td>63</td>\n",
       "      <td>среднее</td>\n",
       "      <td>1</td>\n",
       "      <td>Не женат / не замужем</td>\n",
       "      <td>4</td>\n",
       "      <td>F</td>\n",
       "      <td>пенсионер</td>\n",
       "      <td>0</td>\n",
       "      <td>NaN</td>\n",
       "      <td>строительство жилой недвижимости</td>\n",
       "    </tr>\n",
       "    <tr>\n",
       "      <td>41</td>\n",
       "      <td>0</td>\n",
       "      <td>NaN</td>\n",
       "      <td>50</td>\n",
       "      <td>среднее</td>\n",
       "      <td>1</td>\n",
       "      <td>женат / замужем</td>\n",
       "      <td>0</td>\n",
       "      <td>F</td>\n",
       "      <td>госслужащий</td>\n",
       "      <td>0</td>\n",
       "      <td>NaN</td>\n",
       "      <td>сделка с подержанным автомобилем</td>\n",
       "    </tr>\n",
       "    <tr>\n",
       "      <td>55</td>\n",
       "      <td>0</td>\n",
       "      <td>NaN</td>\n",
       "      <td>54</td>\n",
       "      <td>среднее</td>\n",
       "      <td>1</td>\n",
       "      <td>гражданский брак</td>\n",
       "      <td>1</td>\n",
       "      <td>F</td>\n",
       "      <td>пенсионер</td>\n",
       "      <td>1</td>\n",
       "      <td>NaN</td>\n",
       "      <td>сыграть свадьбу</td>\n",
       "    </tr>\n",
       "    <tr>\n",
       "      <td>...</td>\n",
       "      <td>...</td>\n",
       "      <td>...</td>\n",
       "      <td>...</td>\n",
       "      <td>...</td>\n",
       "      <td>...</td>\n",
       "      <td>...</td>\n",
       "      <td>...</td>\n",
       "      <td>...</td>\n",
       "      <td>...</td>\n",
       "      <td>...</td>\n",
       "      <td>...</td>\n",
       "      <td>...</td>\n",
       "    </tr>\n",
       "    <tr>\n",
       "      <td>21489</td>\n",
       "      <td>2</td>\n",
       "      <td>NaN</td>\n",
       "      <td>47</td>\n",
       "      <td>Среднее</td>\n",
       "      <td>1</td>\n",
       "      <td>женат / замужем</td>\n",
       "      <td>0</td>\n",
       "      <td>M</td>\n",
       "      <td>компаньон</td>\n",
       "      <td>0</td>\n",
       "      <td>NaN</td>\n",
       "      <td>сделка с автомобилем</td>\n",
       "    </tr>\n",
       "    <tr>\n",
       "      <td>21495</td>\n",
       "      <td>1</td>\n",
       "      <td>NaN</td>\n",
       "      <td>50</td>\n",
       "      <td>среднее</td>\n",
       "      <td>1</td>\n",
       "      <td>гражданский брак</td>\n",
       "      <td>1</td>\n",
       "      <td>F</td>\n",
       "      <td>сотрудник</td>\n",
       "      <td>0</td>\n",
       "      <td>NaN</td>\n",
       "      <td>свадьба</td>\n",
       "    </tr>\n",
       "    <tr>\n",
       "      <td>21497</td>\n",
       "      <td>0</td>\n",
       "      <td>NaN</td>\n",
       "      <td>48</td>\n",
       "      <td>ВЫСШЕЕ</td>\n",
       "      <td>0</td>\n",
       "      <td>женат / замужем</td>\n",
       "      <td>0</td>\n",
       "      <td>F</td>\n",
       "      <td>компаньон</td>\n",
       "      <td>0</td>\n",
       "      <td>NaN</td>\n",
       "      <td>строительство недвижимости</td>\n",
       "    </tr>\n",
       "    <tr>\n",
       "      <td>21502</td>\n",
       "      <td>1</td>\n",
       "      <td>NaN</td>\n",
       "      <td>42</td>\n",
       "      <td>среднее</td>\n",
       "      <td>1</td>\n",
       "      <td>женат / замужем</td>\n",
       "      <td>0</td>\n",
       "      <td>F</td>\n",
       "      <td>сотрудник</td>\n",
       "      <td>0</td>\n",
       "      <td>NaN</td>\n",
       "      <td>строительство жилой недвижимости</td>\n",
       "    </tr>\n",
       "    <tr>\n",
       "      <td>21510</td>\n",
       "      <td>2</td>\n",
       "      <td>NaN</td>\n",
       "      <td>28</td>\n",
       "      <td>среднее</td>\n",
       "      <td>1</td>\n",
       "      <td>женат / замужем</td>\n",
       "      <td>0</td>\n",
       "      <td>F</td>\n",
       "      <td>сотрудник</td>\n",
       "      <td>0</td>\n",
       "      <td>NaN</td>\n",
       "      <td>приобретение автомобиля</td>\n",
       "    </tr>\n",
       "  </tbody>\n",
       "</table>\n",
       "<p>2174 rows × 12 columns</p>\n",
       "</div>"
      ],
      "text/plain": [
       "       children  days_employed  dob_years education  education_id  \\\n",
       "12            0            NaN         65   среднее             1   \n",
       "26            0            NaN         41   среднее             1   \n",
       "29            0            NaN         63   среднее             1   \n",
       "41            0            NaN         50   среднее             1   \n",
       "55            0            NaN         54   среднее             1   \n",
       "...         ...            ...        ...       ...           ...   \n",
       "21489         2            NaN         47   Среднее             1   \n",
       "21495         1            NaN         50   среднее             1   \n",
       "21497         0            NaN         48    ВЫСШЕЕ             0   \n",
       "21502         1            NaN         42   среднее             1   \n",
       "21510         2            NaN         28   среднее             1   \n",
       "\n",
       "               family_status  family_status_id gender  income_type  debt  \\\n",
       "12          гражданский брак                 1      M    пенсионер     0   \n",
       "26           женат / замужем                 0      M  госслужащий     0   \n",
       "29     Не женат / не замужем                 4      F    пенсионер     0   \n",
       "41           женат / замужем                 0      F  госслужащий     0   \n",
       "55          гражданский брак                 1      F    пенсионер     1   \n",
       "...                      ...               ...    ...          ...   ...   \n",
       "21489        женат / замужем                 0      M    компаньон     0   \n",
       "21495       гражданский брак                 1      F    сотрудник     0   \n",
       "21497        женат / замужем                 0      F    компаньон     0   \n",
       "21502        женат / замужем                 0      F    сотрудник     0   \n",
       "21510        женат / замужем                 0      F    сотрудник     0   \n",
       "\n",
       "       total_income                           purpose  \n",
       "12              NaN                   сыграть свадьбу  \n",
       "26              NaN                       образование  \n",
       "29              NaN  строительство жилой недвижимости  \n",
       "41              NaN  сделка с подержанным автомобилем  \n",
       "55              NaN                   сыграть свадьбу  \n",
       "...             ...                               ...  \n",
       "21489           NaN              сделка с автомобилем  \n",
       "21495           NaN                           свадьба  \n",
       "21497           NaN        строительство недвижимости  \n",
       "21502           NaN  строительство жилой недвижимости  \n",
       "21510           NaN           приобретение автомобиля  \n",
       "\n",
       "[2174 rows x 12 columns]"
      ]
     },
     "execution_count": 21,
     "metadata": {},
     "output_type": "execute_result"
    }
   ],
   "source": [
    "df[df.isna().any(axis=1)]"
   ]
  },
  {
   "cell_type": "markdown",
   "metadata": {},
   "source": [
    "Какой-то очевидной зависимости наличия пропущенных значений нет.\n",
    "Т.к. зависимость дней трудового стажа и возврата средств нас не интересует, то пропущенные данные в \n",
    "days_employed можно заменить на медиану. Для начала необходимо исправить отрицательные значения, т.к. они повлияют на медиану, посмотрим, сколько их:"
   ]
  },
  {
   "cell_type": "code",
   "execution_count": 22,
   "metadata": {
    "scrolled": true
   },
   "outputs": [
    {
     "data": {
      "text/html": [
       "<div>\n",
       "<style scoped>\n",
       "    .dataframe tbody tr th:only-of-type {\n",
       "        vertical-align: middle;\n",
       "    }\n",
       "\n",
       "    .dataframe tbody tr th {\n",
       "        vertical-align: top;\n",
       "    }\n",
       "\n",
       "    .dataframe thead th {\n",
       "        text-align: right;\n",
       "    }\n",
       "</style>\n",
       "<table border=\"1\" class=\"dataframe\">\n",
       "  <thead>\n",
       "    <tr style=\"text-align: right;\">\n",
       "      <th></th>\n",
       "      <th>children</th>\n",
       "      <th>days_employed</th>\n",
       "      <th>dob_years</th>\n",
       "      <th>education</th>\n",
       "      <th>education_id</th>\n",
       "      <th>family_status</th>\n",
       "      <th>family_status_id</th>\n",
       "      <th>gender</th>\n",
       "      <th>income_type</th>\n",
       "      <th>debt</th>\n",
       "      <th>total_income</th>\n",
       "      <th>purpose</th>\n",
       "    </tr>\n",
       "  </thead>\n",
       "  <tbody>\n",
       "    <tr>\n",
       "      <td>0</td>\n",
       "      <td>1</td>\n",
       "      <td>-8437.673028</td>\n",
       "      <td>42</td>\n",
       "      <td>высшее</td>\n",
       "      <td>0</td>\n",
       "      <td>женат / замужем</td>\n",
       "      <td>0</td>\n",
       "      <td>F</td>\n",
       "      <td>сотрудник</td>\n",
       "      <td>0</td>\n",
       "      <td>253875.639453</td>\n",
       "      <td>покупка жилья</td>\n",
       "    </tr>\n",
       "    <tr>\n",
       "      <td>1</td>\n",
       "      <td>1</td>\n",
       "      <td>-4024.803754</td>\n",
       "      <td>36</td>\n",
       "      <td>среднее</td>\n",
       "      <td>1</td>\n",
       "      <td>женат / замужем</td>\n",
       "      <td>0</td>\n",
       "      <td>F</td>\n",
       "      <td>сотрудник</td>\n",
       "      <td>0</td>\n",
       "      <td>112080.014102</td>\n",
       "      <td>приобретение автомобиля</td>\n",
       "    </tr>\n",
       "    <tr>\n",
       "      <td>2</td>\n",
       "      <td>0</td>\n",
       "      <td>-5623.422610</td>\n",
       "      <td>33</td>\n",
       "      <td>Среднее</td>\n",
       "      <td>1</td>\n",
       "      <td>женат / замужем</td>\n",
       "      <td>0</td>\n",
       "      <td>M</td>\n",
       "      <td>сотрудник</td>\n",
       "      <td>0</td>\n",
       "      <td>145885.952297</td>\n",
       "      <td>покупка жилья</td>\n",
       "    </tr>\n",
       "    <tr>\n",
       "      <td>3</td>\n",
       "      <td>3</td>\n",
       "      <td>-4124.747207</td>\n",
       "      <td>32</td>\n",
       "      <td>среднее</td>\n",
       "      <td>1</td>\n",
       "      <td>женат / замужем</td>\n",
       "      <td>0</td>\n",
       "      <td>M</td>\n",
       "      <td>сотрудник</td>\n",
       "      <td>0</td>\n",
       "      <td>267628.550329</td>\n",
       "      <td>дополнительное образование</td>\n",
       "    </tr>\n",
       "    <tr>\n",
       "      <td>5</td>\n",
       "      <td>0</td>\n",
       "      <td>-926.185831</td>\n",
       "      <td>27</td>\n",
       "      <td>высшее</td>\n",
       "      <td>0</td>\n",
       "      <td>гражданский брак</td>\n",
       "      <td>1</td>\n",
       "      <td>M</td>\n",
       "      <td>компаньон</td>\n",
       "      <td>0</td>\n",
       "      <td>255763.565419</td>\n",
       "      <td>покупка жилья</td>\n",
       "    </tr>\n",
       "    <tr>\n",
       "      <td>...</td>\n",
       "      <td>...</td>\n",
       "      <td>...</td>\n",
       "      <td>...</td>\n",
       "      <td>...</td>\n",
       "      <td>...</td>\n",
       "      <td>...</td>\n",
       "      <td>...</td>\n",
       "      <td>...</td>\n",
       "      <td>...</td>\n",
       "      <td>...</td>\n",
       "      <td>...</td>\n",
       "      <td>...</td>\n",
       "    </tr>\n",
       "    <tr>\n",
       "      <td>21519</td>\n",
       "      <td>1</td>\n",
       "      <td>-2351.431934</td>\n",
       "      <td>37</td>\n",
       "      <td>ученая степень</td>\n",
       "      <td>4</td>\n",
       "      <td>в разводе</td>\n",
       "      <td>3</td>\n",
       "      <td>M</td>\n",
       "      <td>сотрудник</td>\n",
       "      <td>0</td>\n",
       "      <td>115949.039788</td>\n",
       "      <td>покупка коммерческой недвижимости</td>\n",
       "    </tr>\n",
       "    <tr>\n",
       "      <td>21520</td>\n",
       "      <td>1</td>\n",
       "      <td>-4529.316663</td>\n",
       "      <td>43</td>\n",
       "      <td>среднее</td>\n",
       "      <td>1</td>\n",
       "      <td>гражданский брак</td>\n",
       "      <td>1</td>\n",
       "      <td>F</td>\n",
       "      <td>компаньон</td>\n",
       "      <td>0</td>\n",
       "      <td>224791.862382</td>\n",
       "      <td>операции с жильем</td>\n",
       "    </tr>\n",
       "    <tr>\n",
       "      <td>21522</td>\n",
       "      <td>1</td>\n",
       "      <td>-2113.346888</td>\n",
       "      <td>38</td>\n",
       "      <td>среднее</td>\n",
       "      <td>1</td>\n",
       "      <td>гражданский брак</td>\n",
       "      <td>1</td>\n",
       "      <td>M</td>\n",
       "      <td>сотрудник</td>\n",
       "      <td>1</td>\n",
       "      <td>89672.561153</td>\n",
       "      <td>недвижимость</td>\n",
       "    </tr>\n",
       "    <tr>\n",
       "      <td>21523</td>\n",
       "      <td>3</td>\n",
       "      <td>-3112.481705</td>\n",
       "      <td>38</td>\n",
       "      <td>среднее</td>\n",
       "      <td>1</td>\n",
       "      <td>женат / замужем</td>\n",
       "      <td>0</td>\n",
       "      <td>M</td>\n",
       "      <td>сотрудник</td>\n",
       "      <td>1</td>\n",
       "      <td>244093.050500</td>\n",
       "      <td>на покупку своего автомобиля</td>\n",
       "    </tr>\n",
       "    <tr>\n",
       "      <td>21524</td>\n",
       "      <td>2</td>\n",
       "      <td>-1984.507589</td>\n",
       "      <td>40</td>\n",
       "      <td>среднее</td>\n",
       "      <td>1</td>\n",
       "      <td>женат / замужем</td>\n",
       "      <td>0</td>\n",
       "      <td>F</td>\n",
       "      <td>сотрудник</td>\n",
       "      <td>0</td>\n",
       "      <td>82047.418899</td>\n",
       "      <td>на покупку автомобиля</td>\n",
       "    </tr>\n",
       "  </tbody>\n",
       "</table>\n",
       "<p>15906 rows × 12 columns</p>\n",
       "</div>"
      ],
      "text/plain": [
       "       children  days_employed  dob_years       education  education_id  \\\n",
       "0             1   -8437.673028         42          высшее             0   \n",
       "1             1   -4024.803754         36         среднее             1   \n",
       "2             0   -5623.422610         33         Среднее             1   \n",
       "3             3   -4124.747207         32         среднее             1   \n",
       "5             0    -926.185831         27          высшее             0   \n",
       "...         ...            ...        ...             ...           ...   \n",
       "21519         1   -2351.431934         37  ученая степень             4   \n",
       "21520         1   -4529.316663         43         среднее             1   \n",
       "21522         1   -2113.346888         38         среднее             1   \n",
       "21523         3   -3112.481705         38         среднее             1   \n",
       "21524         2   -1984.507589         40         среднее             1   \n",
       "\n",
       "          family_status  family_status_id gender income_type  debt  \\\n",
       "0       женат / замужем                 0      F   сотрудник     0   \n",
       "1       женат / замужем                 0      F   сотрудник     0   \n",
       "2       женат / замужем                 0      M   сотрудник     0   \n",
       "3       женат / замужем                 0      M   сотрудник     0   \n",
       "5      гражданский брак                 1      M   компаньон     0   \n",
       "...                 ...               ...    ...         ...   ...   \n",
       "21519         в разводе                 3      M   сотрудник     0   \n",
       "21520  гражданский брак                 1      F   компаньон     0   \n",
       "21522  гражданский брак                 1      M   сотрудник     1   \n",
       "21523   женат / замужем                 0      M   сотрудник     1   \n",
       "21524   женат / замужем                 0      F   сотрудник     0   \n",
       "\n",
       "        total_income                            purpose  \n",
       "0      253875.639453                      покупка жилья  \n",
       "1      112080.014102            приобретение автомобиля  \n",
       "2      145885.952297                      покупка жилья  \n",
       "3      267628.550329         дополнительное образование  \n",
       "5      255763.565419                      покупка жилья  \n",
       "...              ...                                ...  \n",
       "21519  115949.039788  покупка коммерческой недвижимости  \n",
       "21520  224791.862382                  операции с жильем  \n",
       "21522   89672.561153                       недвижимость  \n",
       "21523  244093.050500       на покупку своего автомобиля  \n",
       "21524   82047.418899              на покупку автомобиля  \n",
       "\n",
       "[15906 rows x 12 columns]"
      ]
     },
     "execution_count": 22,
     "metadata": {},
     "output_type": "execute_result"
    }
   ],
   "source": [
    "df[df['days_employed'] < 0]"
   ]
  },
  {
   "cell_type": "code",
   "execution_count": 23,
   "metadata": {
    "scrolled": true
   },
   "outputs": [
    {
     "name": "stdout",
     "output_type": "stream",
     "text": [
      "Отрицательный стаж у 74%\n"
     ]
    }
   ],
   "source": [
    "negative_days = len(df[df['days_employed'] < 0]) / len(df) \n",
    "print('Отрицательный стаж у {:.0%}'.format(negative_days))"
   ]
  },
  {
   "cell_type": "markdown",
   "metadata": {},
   "source": [
    "74% строк с отрицательными значениями не выглядит как случайность. Похоже, что-то не так со сбором данных.  \n",
    "Но т.к. зависимость трудового стажа и возвратом кредита нас сейчас не интересует, заменим отрицательные значения на положительные, а пропущенные - на медиану. "
   ]
  },
  {
   "cell_type": "code",
   "execution_count": 24,
   "metadata": {},
   "outputs": [],
   "source": [
    "df['days_employed'] = df['days_employed'].abs()"
   ]
  },
  {
   "cell_type": "markdown",
   "metadata": {},
   "source": [
    "Проверяем, не осталось ли строк с отрицательным трудовым стажем:"
   ]
  },
  {
   "cell_type": "code",
   "execution_count": 25,
   "metadata": {},
   "outputs": [
    {
     "data": {
      "text/plain": [
       "0"
      ]
     },
     "execution_count": 25,
     "metadata": {},
     "output_type": "execute_result"
    }
   ],
   "source": [
    "len(df[df['days_employed'] < 0])"
   ]
  },
  {
   "cell_type": "markdown",
   "metadata": {},
   "source": [
    "Отлично! Теперь можно считать медиану по типу занятости:"
   ]
  },
  {
   "cell_type": "code",
   "execution_count": 10,
   "metadata": {},
   "outputs": [],
   "source": [
    "# median = df['days_employed'].median()\n",
    "# print(median)\n",
    "\n",
    "# median_day_employed_by_income_type = df.groupby('income_type').agg({'days_employed' : 'median'})\n",
    "# print(median_day_employed_by_income_type)"
   ]
  },
  {
   "cell_type": "markdown",
   "metadata": {},
   "source": [
    "Заменим пропущенные значения на медиану в зависимости от типа занятости:"
   ]
  },
  {
   "cell_type": "code",
   "execution_count": 26,
   "metadata": {},
   "outputs": [
    {
     "data": {
      "text/html": [
       "<div>\n",
       "<style scoped>\n",
       "    .dataframe tbody tr th:only-of-type {\n",
       "        vertical-align: middle;\n",
       "    }\n",
       "\n",
       "    .dataframe tbody tr th {\n",
       "        vertical-align: top;\n",
       "    }\n",
       "\n",
       "    .dataframe thead th {\n",
       "        text-align: right;\n",
       "    }\n",
       "</style>\n",
       "<table border=\"1\" class=\"dataframe\">\n",
       "  <thead>\n",
       "    <tr style=\"text-align: right;\">\n",
       "      <th></th>\n",
       "      <th>children</th>\n",
       "      <th>days_employed</th>\n",
       "      <th>dob_years</th>\n",
       "      <th>education</th>\n",
       "      <th>education_id</th>\n",
       "      <th>family_status</th>\n",
       "      <th>family_status_id</th>\n",
       "      <th>gender</th>\n",
       "      <th>income_type</th>\n",
       "      <th>debt</th>\n",
       "      <th>total_income</th>\n",
       "      <th>purpose</th>\n",
       "    </tr>\n",
       "  </thead>\n",
       "  <tbody>\n",
       "    <tr>\n",
       "      <td>0</td>\n",
       "      <td>1</td>\n",
       "      <td>8437.673028</td>\n",
       "      <td>42</td>\n",
       "      <td>высшее</td>\n",
       "      <td>0</td>\n",
       "      <td>женат / замужем</td>\n",
       "      <td>0</td>\n",
       "      <td>F</td>\n",
       "      <td>сотрудник</td>\n",
       "      <td>0</td>\n",
       "      <td>253875.639453</td>\n",
       "      <td>покупка жилья</td>\n",
       "    </tr>\n",
       "    <tr>\n",
       "      <td>1</td>\n",
       "      <td>1</td>\n",
       "      <td>4024.803754</td>\n",
       "      <td>36</td>\n",
       "      <td>среднее</td>\n",
       "      <td>1</td>\n",
       "      <td>женат / замужем</td>\n",
       "      <td>0</td>\n",
       "      <td>F</td>\n",
       "      <td>сотрудник</td>\n",
       "      <td>0</td>\n",
       "      <td>112080.014102</td>\n",
       "      <td>приобретение автомобиля</td>\n",
       "    </tr>\n",
       "    <tr>\n",
       "      <td>2</td>\n",
       "      <td>0</td>\n",
       "      <td>5623.422610</td>\n",
       "      <td>33</td>\n",
       "      <td>Среднее</td>\n",
       "      <td>1</td>\n",
       "      <td>женат / замужем</td>\n",
       "      <td>0</td>\n",
       "      <td>M</td>\n",
       "      <td>сотрудник</td>\n",
       "      <td>0</td>\n",
       "      <td>145885.952297</td>\n",
       "      <td>покупка жилья</td>\n",
       "    </tr>\n",
       "    <tr>\n",
       "      <td>3</td>\n",
       "      <td>3</td>\n",
       "      <td>4124.747207</td>\n",
       "      <td>32</td>\n",
       "      <td>среднее</td>\n",
       "      <td>1</td>\n",
       "      <td>женат / замужем</td>\n",
       "      <td>0</td>\n",
       "      <td>M</td>\n",
       "      <td>сотрудник</td>\n",
       "      <td>0</td>\n",
       "      <td>267628.550329</td>\n",
       "      <td>дополнительное образование</td>\n",
       "    </tr>\n",
       "    <tr>\n",
       "      <td>4</td>\n",
       "      <td>0</td>\n",
       "      <td>340266.072047</td>\n",
       "      <td>53</td>\n",
       "      <td>среднее</td>\n",
       "      <td>1</td>\n",
       "      <td>гражданский брак</td>\n",
       "      <td>1</td>\n",
       "      <td>F</td>\n",
       "      <td>пенсионер</td>\n",
       "      <td>0</td>\n",
       "      <td>158616.077870</td>\n",
       "      <td>сыграть свадьбу</td>\n",
       "    </tr>\n",
       "    <tr>\n",
       "      <td>...</td>\n",
       "      <td>...</td>\n",
       "      <td>...</td>\n",
       "      <td>...</td>\n",
       "      <td>...</td>\n",
       "      <td>...</td>\n",
       "      <td>...</td>\n",
       "      <td>...</td>\n",
       "      <td>...</td>\n",
       "      <td>...</td>\n",
       "      <td>...</td>\n",
       "      <td>...</td>\n",
       "      <td>...</td>\n",
       "    </tr>\n",
       "    <tr>\n",
       "      <td>21520</td>\n",
       "      <td>1</td>\n",
       "      <td>4529.316663</td>\n",
       "      <td>43</td>\n",
       "      <td>среднее</td>\n",
       "      <td>1</td>\n",
       "      <td>гражданский брак</td>\n",
       "      <td>1</td>\n",
       "      <td>F</td>\n",
       "      <td>компаньон</td>\n",
       "      <td>0</td>\n",
       "      <td>224791.862382</td>\n",
       "      <td>операции с жильем</td>\n",
       "    </tr>\n",
       "    <tr>\n",
       "      <td>21521</td>\n",
       "      <td>0</td>\n",
       "      <td>343937.404131</td>\n",
       "      <td>67</td>\n",
       "      <td>среднее</td>\n",
       "      <td>1</td>\n",
       "      <td>женат / замужем</td>\n",
       "      <td>0</td>\n",
       "      <td>F</td>\n",
       "      <td>пенсионер</td>\n",
       "      <td>0</td>\n",
       "      <td>155999.806512</td>\n",
       "      <td>сделка с автомобилем</td>\n",
       "    </tr>\n",
       "    <tr>\n",
       "      <td>21522</td>\n",
       "      <td>1</td>\n",
       "      <td>2113.346888</td>\n",
       "      <td>38</td>\n",
       "      <td>среднее</td>\n",
       "      <td>1</td>\n",
       "      <td>гражданский брак</td>\n",
       "      <td>1</td>\n",
       "      <td>M</td>\n",
       "      <td>сотрудник</td>\n",
       "      <td>1</td>\n",
       "      <td>89672.561153</td>\n",
       "      <td>недвижимость</td>\n",
       "    </tr>\n",
       "    <tr>\n",
       "      <td>21523</td>\n",
       "      <td>3</td>\n",
       "      <td>3112.481705</td>\n",
       "      <td>38</td>\n",
       "      <td>среднее</td>\n",
       "      <td>1</td>\n",
       "      <td>женат / замужем</td>\n",
       "      <td>0</td>\n",
       "      <td>M</td>\n",
       "      <td>сотрудник</td>\n",
       "      <td>1</td>\n",
       "      <td>244093.050500</td>\n",
       "      <td>на покупку своего автомобиля</td>\n",
       "    </tr>\n",
       "    <tr>\n",
       "      <td>21524</td>\n",
       "      <td>2</td>\n",
       "      <td>1984.507589</td>\n",
       "      <td>40</td>\n",
       "      <td>среднее</td>\n",
       "      <td>1</td>\n",
       "      <td>женат / замужем</td>\n",
       "      <td>0</td>\n",
       "      <td>F</td>\n",
       "      <td>сотрудник</td>\n",
       "      <td>0</td>\n",
       "      <td>82047.418899</td>\n",
       "      <td>на покупку автомобиля</td>\n",
       "    </tr>\n",
       "  </tbody>\n",
       "</table>\n",
       "<p>21525 rows × 12 columns</p>\n",
       "</div>"
      ],
      "text/plain": [
       "       children  days_employed  dob_years education  education_id  \\\n",
       "0             1    8437.673028         42    высшее             0   \n",
       "1             1    4024.803754         36   среднее             1   \n",
       "2             0    5623.422610         33   Среднее             1   \n",
       "3             3    4124.747207         32   среднее             1   \n",
       "4             0  340266.072047         53   среднее             1   \n",
       "...         ...            ...        ...       ...           ...   \n",
       "21520         1    4529.316663         43   среднее             1   \n",
       "21521         0  343937.404131         67   среднее             1   \n",
       "21522         1    2113.346888         38   среднее             1   \n",
       "21523         3    3112.481705         38   среднее             1   \n",
       "21524         2    1984.507589         40   среднее             1   \n",
       "\n",
       "          family_status  family_status_id gender income_type  debt  \\\n",
       "0       женат / замужем                 0      F   сотрудник     0   \n",
       "1       женат / замужем                 0      F   сотрудник     0   \n",
       "2       женат / замужем                 0      M   сотрудник     0   \n",
       "3       женат / замужем                 0      M   сотрудник     0   \n",
       "4      гражданский брак                 1      F   пенсионер     0   \n",
       "...                 ...               ...    ...         ...   ...   \n",
       "21520  гражданский брак                 1      F   компаньон     0   \n",
       "21521   женат / замужем                 0      F   пенсионер     0   \n",
       "21522  гражданский брак                 1      M   сотрудник     1   \n",
       "21523   женат / замужем                 0      M   сотрудник     1   \n",
       "21524   женат / замужем                 0      F   сотрудник     0   \n",
       "\n",
       "        total_income                       purpose  \n",
       "0      253875.639453                 покупка жилья  \n",
       "1      112080.014102       приобретение автомобиля  \n",
       "2      145885.952297                 покупка жилья  \n",
       "3      267628.550329    дополнительное образование  \n",
       "4      158616.077870               сыграть свадьбу  \n",
       "...              ...                           ...  \n",
       "21520  224791.862382             операции с жильем  \n",
       "21521  155999.806512          сделка с автомобилем  \n",
       "21522   89672.561153                  недвижимость  \n",
       "21523  244093.050500  на покупку своего автомобиля  \n",
       "21524   82047.418899         на покупку автомобиля  \n",
       "\n",
       "[21525 rows x 12 columns]"
      ]
     },
     "execution_count": 26,
     "metadata": {},
     "output_type": "execute_result"
    }
   ],
   "source": [
    "df['days_employed'] = df.groupby('income_type')['days_employed'].apply(lambda x: x.fillna(x.median()))\n",
    "df"
   ]
  },
  {
   "cell_type": "markdown",
   "metadata": {},
   "source": [
    "340 тысяч дней - неплохой такой стаж! Посмотрим, сколько это лет:"
   ]
  },
  {
   "cell_type": "code",
   "execution_count": 27,
   "metadata": {
    "scrolled": true
   },
   "outputs": [
    {
     "name": "stdout",
     "output_type": "stream",
     "text": [
      "932.2356164383561\n"
     ]
    }
   ],
   "source": [
    "print(340266 / 365)"
   ]
  },
  {
   "cell_type": "markdown",
   "metadata": {},
   "source": [
    "Вот это да! Давайте посчитаем, сколько таких трудоголиков и кто они:"
   ]
  },
  {
   "cell_type": "code",
   "execution_count": 28,
   "metadata": {},
   "outputs": [
    {
     "name": "stdout",
     "output_type": "stream",
     "text": [
      "3858 человек работали больше 900 лет\n"
     ]
    }
   ],
   "source": [
    "len(df[df['days_employed'] > 300000])\n",
    "print(len(df[df['days_employed'] > 300000]), 'человек работали больше 900 лет')"
   ]
  },
  {
   "cell_type": "code",
   "execution_count": 29,
   "metadata": {},
   "outputs": [
    {
     "data": {
      "text/html": [
       "<div>\n",
       "<style scoped>\n",
       "    .dataframe tbody tr th:only-of-type {\n",
       "        vertical-align: middle;\n",
       "    }\n",
       "\n",
       "    .dataframe tbody tr th {\n",
       "        vertical-align: top;\n",
       "    }\n",
       "\n",
       "    .dataframe thead th {\n",
       "        text-align: right;\n",
       "    }\n",
       "</style>\n",
       "<table border=\"1\" class=\"dataframe\">\n",
       "  <thead>\n",
       "    <tr style=\"text-align: right;\">\n",
       "      <th></th>\n",
       "      <th>children</th>\n",
       "      <th>days_employed</th>\n",
       "      <th>dob_years</th>\n",
       "      <th>education</th>\n",
       "      <th>education_id</th>\n",
       "      <th>family_status</th>\n",
       "      <th>family_status_id</th>\n",
       "      <th>gender</th>\n",
       "      <th>income_type</th>\n",
       "      <th>debt</th>\n",
       "      <th>total_income</th>\n",
       "      <th>purpose</th>\n",
       "    </tr>\n",
       "  </thead>\n",
       "  <tbody>\n",
       "    <tr>\n",
       "      <td>4</td>\n",
       "      <td>0</td>\n",
       "      <td>340266.072047</td>\n",
       "      <td>53</td>\n",
       "      <td>среднее</td>\n",
       "      <td>1</td>\n",
       "      <td>гражданский брак</td>\n",
       "      <td>1</td>\n",
       "      <td>F</td>\n",
       "      <td>пенсионер</td>\n",
       "      <td>0</td>\n",
       "      <td>158616.077870</td>\n",
       "      <td>сыграть свадьбу</td>\n",
       "    </tr>\n",
       "    <tr>\n",
       "      <td>12</td>\n",
       "      <td>0</td>\n",
       "      <td>365213.306266</td>\n",
       "      <td>65</td>\n",
       "      <td>среднее</td>\n",
       "      <td>1</td>\n",
       "      <td>гражданский брак</td>\n",
       "      <td>1</td>\n",
       "      <td>M</td>\n",
       "      <td>пенсионер</td>\n",
       "      <td>0</td>\n",
       "      <td>NaN</td>\n",
       "      <td>сыграть свадьбу</td>\n",
       "    </tr>\n",
       "    <tr>\n",
       "      <td>18</td>\n",
       "      <td>0</td>\n",
       "      <td>400281.136913</td>\n",
       "      <td>53</td>\n",
       "      <td>среднее</td>\n",
       "      <td>1</td>\n",
       "      <td>вдовец / вдова</td>\n",
       "      <td>2</td>\n",
       "      <td>F</td>\n",
       "      <td>пенсионер</td>\n",
       "      <td>0</td>\n",
       "      <td>56823.777243</td>\n",
       "      <td>на покупку подержанного автомобиля</td>\n",
       "    </tr>\n",
       "    <tr>\n",
       "      <td>24</td>\n",
       "      <td>1</td>\n",
       "      <td>338551.952911</td>\n",
       "      <td>57</td>\n",
       "      <td>среднее</td>\n",
       "      <td>1</td>\n",
       "      <td>Не женат / не замужем</td>\n",
       "      <td>4</td>\n",
       "      <td>F</td>\n",
       "      <td>пенсионер</td>\n",
       "      <td>0</td>\n",
       "      <td>290547.235997</td>\n",
       "      <td>операции с коммерческой недвижимостью</td>\n",
       "    </tr>\n",
       "    <tr>\n",
       "      <td>25</td>\n",
       "      <td>0</td>\n",
       "      <td>363548.489348</td>\n",
       "      <td>67</td>\n",
       "      <td>среднее</td>\n",
       "      <td>1</td>\n",
       "      <td>женат / замужем</td>\n",
       "      <td>0</td>\n",
       "      <td>M</td>\n",
       "      <td>пенсионер</td>\n",
       "      <td>0</td>\n",
       "      <td>55112.757732</td>\n",
       "      <td>покупка недвижимости</td>\n",
       "    </tr>\n",
       "  </tbody>\n",
       "</table>\n",
       "</div>"
      ],
      "text/plain": [
       "    children  days_employed  dob_years education  education_id  \\\n",
       "4          0  340266.072047         53   среднее             1   \n",
       "12         0  365213.306266         65   среднее             1   \n",
       "18         0  400281.136913         53   среднее             1   \n",
       "24         1  338551.952911         57   среднее             1   \n",
       "25         0  363548.489348         67   среднее             1   \n",
       "\n",
       "            family_status  family_status_id gender income_type  debt  \\\n",
       "4        гражданский брак                 1      F   пенсионер     0   \n",
       "12       гражданский брак                 1      M   пенсионер     0   \n",
       "18         вдовец / вдова                 2      F   пенсионер     0   \n",
       "24  Не женат / не замужем                 4      F   пенсионер     0   \n",
       "25        женат / замужем                 0      M   пенсионер     0   \n",
       "\n",
       "     total_income                                purpose  \n",
       "4   158616.077870                        сыграть свадьбу  \n",
       "12            NaN                        сыграть свадьбу  \n",
       "18   56823.777243     на покупку подержанного автомобиля  \n",
       "24  290547.235997  операции с коммерческой недвижимостью  \n",
       "25   55112.757732                   покупка недвижимости  "
      ]
     },
     "execution_count": 29,
     "metadata": {},
     "output_type": "execute_result"
    }
   ],
   "source": [
    "df[df['days_employed'] > 300000].head()"
   ]
  },
  {
   "cell_type": "code",
   "execution_count": 30,
   "metadata": {},
   "outputs": [
    {
     "data": {
      "text/plain": [
       "array(['пенсионер', 'безработный'], dtype=object)"
      ]
     },
     "execution_count": 30,
     "metadata": {},
     "output_type": "execute_result"
    }
   ],
   "source": [
    "df[df['days_employed'] > 300000]['income_type'].unique()"
   ]
  },
  {
   "cell_type": "markdown",
   "metadata": {},
   "source": [
    "И такой стаж только у пенсионеров и безработных! Что-то здесь не то. Может, тут считались не дни, а часы?"
   ]
  },
  {
   "cell_type": "code",
   "execution_count": 31,
   "metadata": {},
   "outputs": [
    {
     "name": "stdout",
     "output_type": "stream",
     "text": [
      "39\n"
     ]
    }
   ],
   "source": [
    "print(round(340266 / 24/ 365))"
   ]
  },
  {
   "cell_type": "markdown",
   "metadata": {},
   "source": [
    "Уже похоже на правду. Давайте все-таки заменим эти аномальные значения на более адекватные (переведем часы в дни):"
   ]
  },
  {
   "cell_type": "code",
   "execution_count": 33,
   "metadata": {},
   "outputs": [],
   "source": [
    "df['days_employed'] = df['days_employed'].apply(lambda x: x/24 if x > 300000 else x)\n",
    "# print(df[df['days_employed'] > 300000]['days_employed'])"
   ]
  },
  {
   "cell_type": "markdown",
   "metadata": {},
   "source": [
    "Проверим, сработало ли: "
   ]
  },
  {
   "cell_type": "code",
   "execution_count": 36,
   "metadata": {},
   "outputs": [
    {
     "data": {
      "text/plain": [
       "children            0\n",
       "days_employed       0\n",
       "dob_years           0\n",
       "education           0\n",
       "education_id        0\n",
       "family_status       0\n",
       "family_status_id    0\n",
       "gender              0\n",
       "income_type         0\n",
       "debt                0\n",
       "total_income        0\n",
       "purpose             0\n",
       "dtype: int64"
      ]
     },
     "execution_count": 36,
     "metadata": {},
     "output_type": "execute_result"
    }
   ],
   "source": [
    "df[df['days_employed'] > 300000].count()"
   ]
  },
  {
   "cell_type": "markdown",
   "metadata": {},
   "source": [
    "Чудно! Теперь все у всех хорошо с трудовым стажем:"
   ]
  },
  {
   "cell_type": "code",
   "execution_count": 19,
   "metadata": {
    "scrolled": true
   },
   "outputs": [
    {
     "data": {
      "text/html": [
       "<div>\n",
       "<style scoped>\n",
       "    .dataframe tbody tr th:only-of-type {\n",
       "        vertical-align: middle;\n",
       "    }\n",
       "\n",
       "    .dataframe tbody tr th {\n",
       "        vertical-align: top;\n",
       "    }\n",
       "\n",
       "    .dataframe thead th {\n",
       "        text-align: right;\n",
       "    }\n",
       "</style>\n",
       "<table border=\"1\" class=\"dataframe\">\n",
       "  <thead>\n",
       "    <tr style=\"text-align: right;\">\n",
       "      <th></th>\n",
       "      <th>children</th>\n",
       "      <th>days_employed</th>\n",
       "      <th>dob_years</th>\n",
       "      <th>education</th>\n",
       "      <th>education_id</th>\n",
       "      <th>family_status</th>\n",
       "      <th>family_status_id</th>\n",
       "      <th>gender</th>\n",
       "      <th>income_type</th>\n",
       "      <th>debt</th>\n",
       "      <th>total_income</th>\n",
       "      <th>purpose</th>\n",
       "    </tr>\n",
       "  </thead>\n",
       "  <tbody>\n",
       "    <tr>\n",
       "      <td>0</td>\n",
       "      <td>1</td>\n",
       "      <td>8437.673028</td>\n",
       "      <td>42</td>\n",
       "      <td>высшее</td>\n",
       "      <td>0</td>\n",
       "      <td>женат / замужем</td>\n",
       "      <td>0</td>\n",
       "      <td>F</td>\n",
       "      <td>сотрудник</td>\n",
       "      <td>0</td>\n",
       "      <td>253875.639453</td>\n",
       "      <td>покупка жилья</td>\n",
       "    </tr>\n",
       "    <tr>\n",
       "      <td>1</td>\n",
       "      <td>1</td>\n",
       "      <td>4024.803754</td>\n",
       "      <td>36</td>\n",
       "      <td>среднее</td>\n",
       "      <td>1</td>\n",
       "      <td>женат / замужем</td>\n",
       "      <td>0</td>\n",
       "      <td>F</td>\n",
       "      <td>сотрудник</td>\n",
       "      <td>0</td>\n",
       "      <td>112080.014102</td>\n",
       "      <td>приобретение автомобиля</td>\n",
       "    </tr>\n",
       "    <tr>\n",
       "      <td>2</td>\n",
       "      <td>0</td>\n",
       "      <td>5623.422610</td>\n",
       "      <td>33</td>\n",
       "      <td>Среднее</td>\n",
       "      <td>1</td>\n",
       "      <td>женат / замужем</td>\n",
       "      <td>0</td>\n",
       "      <td>M</td>\n",
       "      <td>сотрудник</td>\n",
       "      <td>0</td>\n",
       "      <td>145885.952297</td>\n",
       "      <td>покупка жилья</td>\n",
       "    </tr>\n",
       "    <tr>\n",
       "      <td>3</td>\n",
       "      <td>3</td>\n",
       "      <td>4124.747207</td>\n",
       "      <td>32</td>\n",
       "      <td>среднее</td>\n",
       "      <td>1</td>\n",
       "      <td>женат / замужем</td>\n",
       "      <td>0</td>\n",
       "      <td>M</td>\n",
       "      <td>сотрудник</td>\n",
       "      <td>0</td>\n",
       "      <td>267628.550329</td>\n",
       "      <td>дополнительное образование</td>\n",
       "    </tr>\n",
       "    <tr>\n",
       "      <td>4</td>\n",
       "      <td>0</td>\n",
       "      <td>14177.753002</td>\n",
       "      <td>53</td>\n",
       "      <td>среднее</td>\n",
       "      <td>1</td>\n",
       "      <td>гражданский брак</td>\n",
       "      <td>1</td>\n",
       "      <td>F</td>\n",
       "      <td>пенсионер</td>\n",
       "      <td>0</td>\n",
       "      <td>158616.077870</td>\n",
       "      <td>сыграть свадьбу</td>\n",
       "    </tr>\n",
       "    <tr>\n",
       "      <td>5</td>\n",
       "      <td>0</td>\n",
       "      <td>926.185831</td>\n",
       "      <td>27</td>\n",
       "      <td>высшее</td>\n",
       "      <td>0</td>\n",
       "      <td>гражданский брак</td>\n",
       "      <td>1</td>\n",
       "      <td>M</td>\n",
       "      <td>компаньон</td>\n",
       "      <td>0</td>\n",
       "      <td>255763.565419</td>\n",
       "      <td>покупка жилья</td>\n",
       "    </tr>\n",
       "    <tr>\n",
       "      <td>6</td>\n",
       "      <td>0</td>\n",
       "      <td>2879.202052</td>\n",
       "      <td>43</td>\n",
       "      <td>высшее</td>\n",
       "      <td>0</td>\n",
       "      <td>женат / замужем</td>\n",
       "      <td>0</td>\n",
       "      <td>F</td>\n",
       "      <td>компаньон</td>\n",
       "      <td>0</td>\n",
       "      <td>240525.971920</td>\n",
       "      <td>операции с жильем</td>\n",
       "    </tr>\n",
       "    <tr>\n",
       "      <td>7</td>\n",
       "      <td>0</td>\n",
       "      <td>152.779569</td>\n",
       "      <td>50</td>\n",
       "      <td>СРЕДНЕЕ</td>\n",
       "      <td>1</td>\n",
       "      <td>женат / замужем</td>\n",
       "      <td>0</td>\n",
       "      <td>M</td>\n",
       "      <td>сотрудник</td>\n",
       "      <td>0</td>\n",
       "      <td>135823.934197</td>\n",
       "      <td>образование</td>\n",
       "    </tr>\n",
       "    <tr>\n",
       "      <td>8</td>\n",
       "      <td>2</td>\n",
       "      <td>6929.865299</td>\n",
       "      <td>35</td>\n",
       "      <td>ВЫСШЕЕ</td>\n",
       "      <td>0</td>\n",
       "      <td>гражданский брак</td>\n",
       "      <td>1</td>\n",
       "      <td>F</td>\n",
       "      <td>сотрудник</td>\n",
       "      <td>0</td>\n",
       "      <td>95856.832424</td>\n",
       "      <td>на проведение свадьбы</td>\n",
       "    </tr>\n",
       "    <tr>\n",
       "      <td>9</td>\n",
       "      <td>0</td>\n",
       "      <td>2188.756445</td>\n",
       "      <td>41</td>\n",
       "      <td>среднее</td>\n",
       "      <td>1</td>\n",
       "      <td>женат / замужем</td>\n",
       "      <td>0</td>\n",
       "      <td>M</td>\n",
       "      <td>сотрудник</td>\n",
       "      <td>0</td>\n",
       "      <td>144425.938277</td>\n",
       "      <td>покупка жилья для семьи</td>\n",
       "    </tr>\n",
       "    <tr>\n",
       "      <td>10</td>\n",
       "      <td>2</td>\n",
       "      <td>4171.483647</td>\n",
       "      <td>36</td>\n",
       "      <td>высшее</td>\n",
       "      <td>0</td>\n",
       "      <td>женат / замужем</td>\n",
       "      <td>0</td>\n",
       "      <td>M</td>\n",
       "      <td>компаньон</td>\n",
       "      <td>0</td>\n",
       "      <td>113943.491460</td>\n",
       "      <td>покупка недвижимости</td>\n",
       "    </tr>\n",
       "    <tr>\n",
       "      <td>11</td>\n",
       "      <td>0</td>\n",
       "      <td>792.701887</td>\n",
       "      <td>40</td>\n",
       "      <td>среднее</td>\n",
       "      <td>1</td>\n",
       "      <td>женат / замужем</td>\n",
       "      <td>0</td>\n",
       "      <td>F</td>\n",
       "      <td>сотрудник</td>\n",
       "      <td>0</td>\n",
       "      <td>77069.234271</td>\n",
       "      <td>покупка коммерческой недвижимости</td>\n",
       "    </tr>\n",
       "    <tr>\n",
       "      <td>12</td>\n",
       "      <td>0</td>\n",
       "      <td>15217.221094</td>\n",
       "      <td>65</td>\n",
       "      <td>среднее</td>\n",
       "      <td>1</td>\n",
       "      <td>гражданский брак</td>\n",
       "      <td>1</td>\n",
       "      <td>M</td>\n",
       "      <td>пенсионер</td>\n",
       "      <td>0</td>\n",
       "      <td>NaN</td>\n",
       "      <td>сыграть свадьбу</td>\n",
       "    </tr>\n",
       "    <tr>\n",
       "      <td>13</td>\n",
       "      <td>0</td>\n",
       "      <td>1846.641941</td>\n",
       "      <td>54</td>\n",
       "      <td>неоконченное высшее</td>\n",
       "      <td>2</td>\n",
       "      <td>женат / замужем</td>\n",
       "      <td>0</td>\n",
       "      <td>F</td>\n",
       "      <td>сотрудник</td>\n",
       "      <td>0</td>\n",
       "      <td>130458.228857</td>\n",
       "      <td>приобретение автомобиля</td>\n",
       "    </tr>\n",
       "    <tr>\n",
       "      <td>14</td>\n",
       "      <td>0</td>\n",
       "      <td>1844.956182</td>\n",
       "      <td>56</td>\n",
       "      <td>высшее</td>\n",
       "      <td>0</td>\n",
       "      <td>гражданский брак</td>\n",
       "      <td>1</td>\n",
       "      <td>F</td>\n",
       "      <td>компаньон</td>\n",
       "      <td>1</td>\n",
       "      <td>165127.911772</td>\n",
       "      <td>покупка жилой недвижимости</td>\n",
       "    </tr>\n",
       "  </tbody>\n",
       "</table>\n",
       "</div>"
      ],
      "text/plain": [
       "    children  days_employed  dob_years            education  education_id  \\\n",
       "0          1    8437.673028         42               высшее             0   \n",
       "1          1    4024.803754         36              среднее             1   \n",
       "2          0    5623.422610         33              Среднее             1   \n",
       "3          3    4124.747207         32              среднее             1   \n",
       "4          0   14177.753002         53              среднее             1   \n",
       "5          0     926.185831         27               высшее             0   \n",
       "6          0    2879.202052         43               высшее             0   \n",
       "7          0     152.779569         50              СРЕДНЕЕ             1   \n",
       "8          2    6929.865299         35               ВЫСШЕЕ             0   \n",
       "9          0    2188.756445         41              среднее             1   \n",
       "10         2    4171.483647         36               высшее             0   \n",
       "11         0     792.701887         40              среднее             1   \n",
       "12         0   15217.221094         65              среднее             1   \n",
       "13         0    1846.641941         54  неоконченное высшее             2   \n",
       "14         0    1844.956182         56               высшее             0   \n",
       "\n",
       "       family_status  family_status_id gender income_type  debt  \\\n",
       "0    женат / замужем                 0      F   сотрудник     0   \n",
       "1    женат / замужем                 0      F   сотрудник     0   \n",
       "2    женат / замужем                 0      M   сотрудник     0   \n",
       "3    женат / замужем                 0      M   сотрудник     0   \n",
       "4   гражданский брак                 1      F   пенсионер     0   \n",
       "5   гражданский брак                 1      M   компаньон     0   \n",
       "6    женат / замужем                 0      F   компаньон     0   \n",
       "7    женат / замужем                 0      M   сотрудник     0   \n",
       "8   гражданский брак                 1      F   сотрудник     0   \n",
       "9    женат / замужем                 0      M   сотрудник     0   \n",
       "10   женат / замужем                 0      M   компаньон     0   \n",
       "11   женат / замужем                 0      F   сотрудник     0   \n",
       "12  гражданский брак                 1      M   пенсионер     0   \n",
       "13   женат / замужем                 0      F   сотрудник     0   \n",
       "14  гражданский брак                 1      F   компаньон     1   \n",
       "\n",
       "     total_income                            purpose  \n",
       "0   253875.639453                      покупка жилья  \n",
       "1   112080.014102            приобретение автомобиля  \n",
       "2   145885.952297                      покупка жилья  \n",
       "3   267628.550329         дополнительное образование  \n",
       "4   158616.077870                    сыграть свадьбу  \n",
       "5   255763.565419                      покупка жилья  \n",
       "6   240525.971920                  операции с жильем  \n",
       "7   135823.934197                        образование  \n",
       "8    95856.832424              на проведение свадьбы  \n",
       "9   144425.938277            покупка жилья для семьи  \n",
       "10  113943.491460               покупка недвижимости  \n",
       "11   77069.234271  покупка коммерческой недвижимости  \n",
       "12            NaN                    сыграть свадьбу  \n",
       "13  130458.228857            приобретение автомобиля  \n",
       "14  165127.911772         покупка жилой недвижимости  "
      ]
     },
     "execution_count": 19,
     "metadata": {},
     "output_type": "execute_result"
    }
   ],
   "source": [
    "df.head(15)"
   ]
  },
  {
   "cell_type": "markdown",
   "metadata": {},
   "source": [
    "15 тысяч дней тоже как-то особенно выделяются, надо проверить, все ли в порядке с данными:"
   ]
  },
  {
   "cell_type": "code",
   "execution_count": 20,
   "metadata": {
    "scrolled": false
   },
   "outputs": [
    {
     "data": {
      "text/plain": [
       "count    21525.000000\n",
       "mean      4600.535795\n",
       "std       5354.354167\n",
       "min         24.141633\n",
       "25%       1025.549623\n",
       "50%       1993.522017\n",
       "75%       5347.024506\n",
       "max      18388.949901\n",
       "Name: days_employed, dtype: float64"
      ]
     },
     "execution_count": 20,
     "metadata": {},
     "output_type": "execute_result"
    }
   ],
   "source": [
    "df['days_employed'].describe()"
   ]
  },
  {
   "cell_type": "markdown",
   "metadata": {},
   "source": [
    "Так, теперь максимальный стаж - 18 тысяч дней. Выглядит внушительно по сравнению с остальными цифрами. Проверим на всякий случай - посчитаем сколько это лет:"
   ]
  },
  {
   "cell_type": "code",
   "execution_count": 37,
   "metadata": {},
   "outputs": [
    {
     "name": "stdout",
     "output_type": "stream",
     "text": [
      "50.38068466027397\n"
     ]
    }
   ],
   "source": [
    "print(18388.949901/365)"
   ]
  },
  {
   "cell_type": "markdown",
   "metadata": {},
   "source": [
    "А, ну всё в порядке! Люди могут работать так много дней. "
   ]
  },
  {
   "cell_type": "code",
   "execution_count": 38,
   "metadata": {},
   "outputs": [
    {
     "name": "stdout",
     "output_type": "stream",
     "text": [
      "<class 'pandas.core.frame.DataFrame'>\n",
      "RangeIndex: 21525 entries, 0 to 21524\n",
      "Data columns (total 12 columns):\n",
      "children            21525 non-null int64\n",
      "days_employed       21525 non-null float64\n",
      "dob_years           21525 non-null int64\n",
      "education           21525 non-null object\n",
      "education_id        21525 non-null int64\n",
      "family_status       21525 non-null object\n",
      "family_status_id    21525 non-null int64\n",
      "gender              21525 non-null object\n",
      "income_type         21525 non-null object\n",
      "debt                21525 non-null int64\n",
      "total_income        19351 non-null float64\n",
      "purpose             21525 non-null object\n",
      "dtypes: float64(2), int64(5), object(5)\n",
      "memory usage: 2.0+ MB\n"
     ]
    }
   ],
   "source": [
    "df.info()"
   ]
  },
  {
   "cell_type": "code",
   "execution_count": 39,
   "metadata": {},
   "outputs": [
    {
     "data": {
      "text/plain": [
       "0"
      ]
     },
     "execution_count": 39,
     "metadata": {},
     "output_type": "execute_result"
    }
   ],
   "source": [
    "df['days_employed'].isna().sum()"
   ]
  },
  {
   "cell_type": "markdown",
   "metadata": {},
   "source": [
    "Отлично! Заменили пропущенные значения на медиану по типу занятости, а аномально большие значения пересчитали. И тоже заменили. Идем дальше.\n",
    "\n",
    "Теперь необходимо детально рассмотреть данные в total_income - вот они нам точно понадобятся. "
   ]
  },
  {
   "cell_type": "code",
   "execution_count": 40,
   "metadata": {},
   "outputs": [
    {
     "data": {
      "text/plain": [
       "2174"
      ]
     },
     "execution_count": 40,
     "metadata": {},
     "output_type": "execute_result"
    }
   ],
   "source": [
    "df['total_income'].isna().sum()"
   ]
  },
  {
   "cell_type": "code",
   "execution_count": 41,
   "metadata": {},
   "outputs": [
    {
     "data": {
      "text/html": [
       "<div>\n",
       "<style scoped>\n",
       "    .dataframe tbody tr th:only-of-type {\n",
       "        vertical-align: middle;\n",
       "    }\n",
       "\n",
       "    .dataframe tbody tr th {\n",
       "        vertical-align: top;\n",
       "    }\n",
       "\n",
       "    .dataframe thead th {\n",
       "        text-align: right;\n",
       "    }\n",
       "</style>\n",
       "<table border=\"1\" class=\"dataframe\">\n",
       "  <thead>\n",
       "    <tr style=\"text-align: right;\">\n",
       "      <th></th>\n",
       "      <th>children</th>\n",
       "      <th>days_employed</th>\n",
       "      <th>dob_years</th>\n",
       "      <th>education</th>\n",
       "      <th>education_id</th>\n",
       "      <th>family_status</th>\n",
       "      <th>family_status_id</th>\n",
       "      <th>gender</th>\n",
       "      <th>income_type</th>\n",
       "      <th>debt</th>\n",
       "      <th>total_income</th>\n",
       "      <th>purpose</th>\n",
       "    </tr>\n",
       "  </thead>\n",
       "  <tbody>\n",
       "    <tr>\n",
       "      <td>12</td>\n",
       "      <td>0</td>\n",
       "      <td>15217.221094</td>\n",
       "      <td>65</td>\n",
       "      <td>среднее</td>\n",
       "      <td>1</td>\n",
       "      <td>гражданский брак</td>\n",
       "      <td>1</td>\n",
       "      <td>M</td>\n",
       "      <td>пенсионер</td>\n",
       "      <td>0</td>\n",
       "      <td>NaN</td>\n",
       "      <td>сыграть свадьбу</td>\n",
       "    </tr>\n",
       "    <tr>\n",
       "      <td>26</td>\n",
       "      <td>0</td>\n",
       "      <td>2689.368353</td>\n",
       "      <td>41</td>\n",
       "      <td>среднее</td>\n",
       "      <td>1</td>\n",
       "      <td>женат / замужем</td>\n",
       "      <td>0</td>\n",
       "      <td>M</td>\n",
       "      <td>госслужащий</td>\n",
       "      <td>0</td>\n",
       "      <td>NaN</td>\n",
       "      <td>образование</td>\n",
       "    </tr>\n",
       "    <tr>\n",
       "      <td>29</td>\n",
       "      <td>0</td>\n",
       "      <td>15217.221094</td>\n",
       "      <td>63</td>\n",
       "      <td>среднее</td>\n",
       "      <td>1</td>\n",
       "      <td>Не женат / не замужем</td>\n",
       "      <td>4</td>\n",
       "      <td>F</td>\n",
       "      <td>пенсионер</td>\n",
       "      <td>0</td>\n",
       "      <td>NaN</td>\n",
       "      <td>строительство жилой недвижимости</td>\n",
       "    </tr>\n",
       "    <tr>\n",
       "      <td>41</td>\n",
       "      <td>0</td>\n",
       "      <td>2689.368353</td>\n",
       "      <td>50</td>\n",
       "      <td>среднее</td>\n",
       "      <td>1</td>\n",
       "      <td>женат / замужем</td>\n",
       "      <td>0</td>\n",
       "      <td>F</td>\n",
       "      <td>госслужащий</td>\n",
       "      <td>0</td>\n",
       "      <td>NaN</td>\n",
       "      <td>сделка с подержанным автомобилем</td>\n",
       "    </tr>\n",
       "    <tr>\n",
       "      <td>55</td>\n",
       "      <td>0</td>\n",
       "      <td>15217.221094</td>\n",
       "      <td>54</td>\n",
       "      <td>среднее</td>\n",
       "      <td>1</td>\n",
       "      <td>гражданский брак</td>\n",
       "      <td>1</td>\n",
       "      <td>F</td>\n",
       "      <td>пенсионер</td>\n",
       "      <td>1</td>\n",
       "      <td>NaN</td>\n",
       "      <td>сыграть свадьбу</td>\n",
       "    </tr>\n",
       "    <tr>\n",
       "      <td>...</td>\n",
       "      <td>...</td>\n",
       "      <td>...</td>\n",
       "      <td>...</td>\n",
       "      <td>...</td>\n",
       "      <td>...</td>\n",
       "      <td>...</td>\n",
       "      <td>...</td>\n",
       "      <td>...</td>\n",
       "      <td>...</td>\n",
       "      <td>...</td>\n",
       "      <td>...</td>\n",
       "      <td>...</td>\n",
       "    </tr>\n",
       "    <tr>\n",
       "      <td>21489</td>\n",
       "      <td>2</td>\n",
       "      <td>1547.382223</td>\n",
       "      <td>47</td>\n",
       "      <td>Среднее</td>\n",
       "      <td>1</td>\n",
       "      <td>женат / замужем</td>\n",
       "      <td>0</td>\n",
       "      <td>M</td>\n",
       "      <td>компаньон</td>\n",
       "      <td>0</td>\n",
       "      <td>NaN</td>\n",
       "      <td>сделка с автомобилем</td>\n",
       "    </tr>\n",
       "    <tr>\n",
       "      <td>21495</td>\n",
       "      <td>1</td>\n",
       "      <td>1574.202821</td>\n",
       "      <td>50</td>\n",
       "      <td>среднее</td>\n",
       "      <td>1</td>\n",
       "      <td>гражданский брак</td>\n",
       "      <td>1</td>\n",
       "      <td>F</td>\n",
       "      <td>сотрудник</td>\n",
       "      <td>0</td>\n",
       "      <td>NaN</td>\n",
       "      <td>свадьба</td>\n",
       "    </tr>\n",
       "    <tr>\n",
       "      <td>21497</td>\n",
       "      <td>0</td>\n",
       "      <td>1547.382223</td>\n",
       "      <td>48</td>\n",
       "      <td>ВЫСШЕЕ</td>\n",
       "      <td>0</td>\n",
       "      <td>женат / замужем</td>\n",
       "      <td>0</td>\n",
       "      <td>F</td>\n",
       "      <td>компаньон</td>\n",
       "      <td>0</td>\n",
       "      <td>NaN</td>\n",
       "      <td>строительство недвижимости</td>\n",
       "    </tr>\n",
       "    <tr>\n",
       "      <td>21502</td>\n",
       "      <td>1</td>\n",
       "      <td>1574.202821</td>\n",
       "      <td>42</td>\n",
       "      <td>среднее</td>\n",
       "      <td>1</td>\n",
       "      <td>женат / замужем</td>\n",
       "      <td>0</td>\n",
       "      <td>F</td>\n",
       "      <td>сотрудник</td>\n",
       "      <td>0</td>\n",
       "      <td>NaN</td>\n",
       "      <td>строительство жилой недвижимости</td>\n",
       "    </tr>\n",
       "    <tr>\n",
       "      <td>21510</td>\n",
       "      <td>2</td>\n",
       "      <td>1574.202821</td>\n",
       "      <td>28</td>\n",
       "      <td>среднее</td>\n",
       "      <td>1</td>\n",
       "      <td>женат / замужем</td>\n",
       "      <td>0</td>\n",
       "      <td>F</td>\n",
       "      <td>сотрудник</td>\n",
       "      <td>0</td>\n",
       "      <td>NaN</td>\n",
       "      <td>приобретение автомобиля</td>\n",
       "    </tr>\n",
       "  </tbody>\n",
       "</table>\n",
       "<p>2174 rows × 12 columns</p>\n",
       "</div>"
      ],
      "text/plain": [
       "       children  days_employed  dob_years education  education_id  \\\n",
       "12            0   15217.221094         65   среднее             1   \n",
       "26            0    2689.368353         41   среднее             1   \n",
       "29            0   15217.221094         63   среднее             1   \n",
       "41            0    2689.368353         50   среднее             1   \n",
       "55            0   15217.221094         54   среднее             1   \n",
       "...         ...            ...        ...       ...           ...   \n",
       "21489         2    1547.382223         47   Среднее             1   \n",
       "21495         1    1574.202821         50   среднее             1   \n",
       "21497         0    1547.382223         48    ВЫСШЕЕ             0   \n",
       "21502         1    1574.202821         42   среднее             1   \n",
       "21510         2    1574.202821         28   среднее             1   \n",
       "\n",
       "               family_status  family_status_id gender  income_type  debt  \\\n",
       "12          гражданский брак                 1      M    пенсионер     0   \n",
       "26           женат / замужем                 0      M  госслужащий     0   \n",
       "29     Не женат / не замужем                 4      F    пенсионер     0   \n",
       "41           женат / замужем                 0      F  госслужащий     0   \n",
       "55          гражданский брак                 1      F    пенсионер     1   \n",
       "...                      ...               ...    ...          ...   ...   \n",
       "21489        женат / замужем                 0      M    компаньон     0   \n",
       "21495       гражданский брак                 1      F    сотрудник     0   \n",
       "21497        женат / замужем                 0      F    компаньон     0   \n",
       "21502        женат / замужем                 0      F    сотрудник     0   \n",
       "21510        женат / замужем                 0      F    сотрудник     0   \n",
       "\n",
       "       total_income                           purpose  \n",
       "12              NaN                   сыграть свадьбу  \n",
       "26              NaN                       образование  \n",
       "29              NaN  строительство жилой недвижимости  \n",
       "41              NaN  сделка с подержанным автомобилем  \n",
       "55              NaN                   сыграть свадьбу  \n",
       "...             ...                               ...  \n",
       "21489           NaN              сделка с автомобилем  \n",
       "21495           NaN                           свадьба  \n",
       "21497           NaN        строительство недвижимости  \n",
       "21502           NaN  строительство жилой недвижимости  \n",
       "21510           NaN           приобретение автомобиля  \n",
       "\n",
       "[2174 rows x 12 columns]"
      ]
     },
     "execution_count": 41,
     "metadata": {},
     "output_type": "execute_result"
    }
   ],
   "source": [
    "df[df['total_income'].isna()]"
   ]
  },
  {
   "cell_type": "code",
   "execution_count": 42,
   "metadata": {},
   "outputs": [
    {
     "name": "stdout",
     "output_type": "stream",
     "text": [
      "Максимальная зарплата 2265604.028722744\n",
      "Минимальная запрлата 20667.26379327158\n",
      "Средняя зарплата 167422.30220817294\n",
      "Медианная зарплата 145017.93753253992\n"
     ]
    }
   ],
   "source": [
    "print('Максимальная зарплата', df['total_income'].max())\n",
    "print('Минимальная запрлата', df['total_income'].min())\n",
    "print('Средняя зарплата', df['total_income'].mean())\n",
    "print('Медианная зарплата', df['total_income'].median())\n",
    "median = df['total_income'].median()"
   ]
  },
  {
   "cell_type": "code",
   "execution_count": 43,
   "metadata": {
    "scrolled": true
   },
   "outputs": [
    {
     "name": "stdout",
     "output_type": "stream",
     "text": [
      "Пропущенных значений 10%\n"
     ]
    }
   ],
   "source": [
    "empty_income = len(df[df['total_income'].isna()]) / len(df) \n",
    "print('Пропущенных значений {:.0%}'.format(empty_income))"
   ]
  },
  {
   "cell_type": "markdown",
   "metadata": {},
   "source": [
    "10 % - это не очень много, можно заменить пропущенные значения на медиану для каждой категории."
   ]
  },
  {
   "cell_type": "code",
   "execution_count": 44,
   "metadata": {
    "scrolled": true
   },
   "outputs": [
    {
     "data": {
      "text/plain": [
       "2174"
      ]
     },
     "execution_count": 44,
     "metadata": {},
     "output_type": "execute_result"
    }
   ],
   "source": [
    "df['total_income'].isna().sum()"
   ]
  },
  {
   "cell_type": "code",
   "execution_count": 46,
   "metadata": {},
   "outputs": [
    {
     "name": "stdout",
     "output_type": "stream",
     "text": [
      "                  total_income\n",
      "income_type                   \n",
      "безработный      131339.751676\n",
      "в декрете         53829.130729\n",
      "госслужащий      150447.935283\n",
      "компаньон        172357.950966\n",
      "пенсионер        118514.486412\n",
      "предприниматель  499163.144947\n",
      "сотрудник        142594.396847\n",
      "студент           98201.625314\n"
     ]
    }
   ],
   "source": [
    "median_by_income_type = df.groupby('income_type').agg({'total_income' : 'median'})\n",
    "print(median_by_income_type)"
   ]
  },
  {
   "cell_type": "markdown",
   "metadata": {},
   "source": [
    "Заменим пропущенные значения медианой в зависимости от типа занятости:"
   ]
  },
  {
   "cell_type": "code",
   "execution_count": 58,
   "metadata": {},
   "outputs": [],
   "source": [
    "for element in df.income_type.unique(): \n",
    "    df.loc[df['income_type'] == element, 'total_income'] = df.loc[df['income_type'] == element, 'total_income'].fillna(median_by_income_type.loc[element, 'total_income'])"
   ]
  },
  {
   "cell_type": "code",
   "execution_count": 59,
   "metadata": {},
   "outputs": [
    {
     "data": {
      "text/plain": [
       "0"
      ]
     },
     "execution_count": 59,
     "metadata": {},
     "output_type": "execute_result"
    }
   ],
   "source": [
    "df['total_income'].isna().sum()"
   ]
  },
  {
   "cell_type": "markdown",
   "metadata": {},
   "source": [
    "Пустых строк больше нет."
   ]
  },
  {
   "cell_type": "code",
   "execution_count": 48,
   "metadata": {
    "scrolled": true
   },
   "outputs": [
    {
     "data": {
      "text/plain": [
       " 0     14149\n",
       " 1      4818\n",
       " 2      2055\n",
       " 3       330\n",
       " 20       76\n",
       "-1        47\n",
       " 4        41\n",
       " 5         9\n",
       "Name: children, dtype: int64"
      ]
     },
     "execution_count": 48,
     "metadata": {},
     "output_type": "execute_result"
    }
   ],
   "source": [
    "df['children'].value_counts()"
   ]
  },
  {
   "cell_type": "markdown",
   "metadata": {},
   "source": [
    "-1 ребенок - это явно ошибка! 20 детей тоже выглядит очень странно: Давайте посмотрим, у кого такие странные показатели рождаемости:"
   ]
  },
  {
   "cell_type": "code",
   "execution_count": 49,
   "metadata": {},
   "outputs": [
    {
     "data": {
      "text/html": [
       "<div>\n",
       "<style scoped>\n",
       "    .dataframe tbody tr th:only-of-type {\n",
       "        vertical-align: middle;\n",
       "    }\n",
       "\n",
       "    .dataframe tbody tr th {\n",
       "        vertical-align: top;\n",
       "    }\n",
       "\n",
       "    .dataframe thead th {\n",
       "        text-align: right;\n",
       "    }\n",
       "</style>\n",
       "<table border=\"1\" class=\"dataframe\">\n",
       "  <thead>\n",
       "    <tr style=\"text-align: right;\">\n",
       "      <th></th>\n",
       "      <th>children</th>\n",
       "      <th>days_employed</th>\n",
       "      <th>dob_years</th>\n",
       "      <th>education</th>\n",
       "      <th>education_id</th>\n",
       "      <th>family_status</th>\n",
       "      <th>family_status_id</th>\n",
       "      <th>gender</th>\n",
       "      <th>income_type</th>\n",
       "      <th>debt</th>\n",
       "      <th>total_income</th>\n",
       "      <th>purpose</th>\n",
       "    </tr>\n",
       "  </thead>\n",
       "  <tbody>\n",
       "    <tr>\n",
       "      <td>291</td>\n",
       "      <td>-1</td>\n",
       "      <td>4417.703588</td>\n",
       "      <td>46</td>\n",
       "      <td>среднее</td>\n",
       "      <td>1</td>\n",
       "      <td>гражданский брак</td>\n",
       "      <td>1</td>\n",
       "      <td>F</td>\n",
       "      <td>сотрудник</td>\n",
       "      <td>0</td>\n",
       "      <td>102816.346412</td>\n",
       "      <td>профильное образование</td>\n",
       "    </tr>\n",
       "    <tr>\n",
       "      <td>606</td>\n",
       "      <td>20</td>\n",
       "      <td>880.221113</td>\n",
       "      <td>21</td>\n",
       "      <td>среднее</td>\n",
       "      <td>1</td>\n",
       "      <td>женат / замужем</td>\n",
       "      <td>0</td>\n",
       "      <td>M</td>\n",
       "      <td>компаньон</td>\n",
       "      <td>0</td>\n",
       "      <td>145334.865002</td>\n",
       "      <td>покупка жилья</td>\n",
       "    </tr>\n",
       "    <tr>\n",
       "      <td>705</td>\n",
       "      <td>-1</td>\n",
       "      <td>902.084528</td>\n",
       "      <td>50</td>\n",
       "      <td>среднее</td>\n",
       "      <td>1</td>\n",
       "      <td>женат / замужем</td>\n",
       "      <td>0</td>\n",
       "      <td>F</td>\n",
       "      <td>госслужащий</td>\n",
       "      <td>0</td>\n",
       "      <td>137882.899271</td>\n",
       "      <td>приобретение автомобиля</td>\n",
       "    </tr>\n",
       "    <tr>\n",
       "      <td>720</td>\n",
       "      <td>20</td>\n",
       "      <td>855.595512</td>\n",
       "      <td>44</td>\n",
       "      <td>среднее</td>\n",
       "      <td>1</td>\n",
       "      <td>женат / замужем</td>\n",
       "      <td>0</td>\n",
       "      <td>F</td>\n",
       "      <td>компаньон</td>\n",
       "      <td>0</td>\n",
       "      <td>112998.738649</td>\n",
       "      <td>покупка недвижимости</td>\n",
       "    </tr>\n",
       "    <tr>\n",
       "      <td>742</td>\n",
       "      <td>-1</td>\n",
       "      <td>3174.456205</td>\n",
       "      <td>57</td>\n",
       "      <td>среднее</td>\n",
       "      <td>1</td>\n",
       "      <td>женат / замужем</td>\n",
       "      <td>0</td>\n",
       "      <td>F</td>\n",
       "      <td>сотрудник</td>\n",
       "      <td>0</td>\n",
       "      <td>64268.044444</td>\n",
       "      <td>дополнительное образование</td>\n",
       "    </tr>\n",
       "    <tr>\n",
       "      <td>...</td>\n",
       "      <td>...</td>\n",
       "      <td>...</td>\n",
       "      <td>...</td>\n",
       "      <td>...</td>\n",
       "      <td>...</td>\n",
       "      <td>...</td>\n",
       "      <td>...</td>\n",
       "      <td>...</td>\n",
       "      <td>...</td>\n",
       "      <td>...</td>\n",
       "      <td>...</td>\n",
       "      <td>...</td>\n",
       "    </tr>\n",
       "    <tr>\n",
       "      <td>21140</td>\n",
       "      <td>-1</td>\n",
       "      <td>1422.668059</td>\n",
       "      <td>44</td>\n",
       "      <td>среднее</td>\n",
       "      <td>1</td>\n",
       "      <td>женат / замужем</td>\n",
       "      <td>0</td>\n",
       "      <td>F</td>\n",
       "      <td>компаньон</td>\n",
       "      <td>0</td>\n",
       "      <td>169562.091999</td>\n",
       "      <td>операции со своей недвижимостью</td>\n",
       "    </tr>\n",
       "    <tr>\n",
       "      <td>21325</td>\n",
       "      <td>20</td>\n",
       "      <td>601.174883</td>\n",
       "      <td>37</td>\n",
       "      <td>среднее</td>\n",
       "      <td>1</td>\n",
       "      <td>женат / замужем</td>\n",
       "      <td>0</td>\n",
       "      <td>F</td>\n",
       "      <td>компаньон</td>\n",
       "      <td>0</td>\n",
       "      <td>102986.065978</td>\n",
       "      <td>профильное образование</td>\n",
       "    </tr>\n",
       "    <tr>\n",
       "      <td>21390</td>\n",
       "      <td>20</td>\n",
       "      <td>1547.382223</td>\n",
       "      <td>53</td>\n",
       "      <td>среднее</td>\n",
       "      <td>1</td>\n",
       "      <td>женат / замужем</td>\n",
       "      <td>0</td>\n",
       "      <td>M</td>\n",
       "      <td>компаньон</td>\n",
       "      <td>0</td>\n",
       "      <td>NaN</td>\n",
       "      <td>покупка жилой недвижимости</td>\n",
       "    </tr>\n",
       "    <tr>\n",
       "      <td>21404</td>\n",
       "      <td>20</td>\n",
       "      <td>494.788448</td>\n",
       "      <td>52</td>\n",
       "      <td>среднее</td>\n",
       "      <td>1</td>\n",
       "      <td>женат / замужем</td>\n",
       "      <td>0</td>\n",
       "      <td>M</td>\n",
       "      <td>компаньон</td>\n",
       "      <td>0</td>\n",
       "      <td>156629.683642</td>\n",
       "      <td>операции со своей недвижимостью</td>\n",
       "    </tr>\n",
       "    <tr>\n",
       "      <td>21491</td>\n",
       "      <td>20</td>\n",
       "      <td>173.954460</td>\n",
       "      <td>27</td>\n",
       "      <td>среднее</td>\n",
       "      <td>1</td>\n",
       "      <td>женат / замужем</td>\n",
       "      <td>0</td>\n",
       "      <td>F</td>\n",
       "      <td>сотрудник</td>\n",
       "      <td>0</td>\n",
       "      <td>155520.899688</td>\n",
       "      <td>на покупку подержанного автомобиля</td>\n",
       "    </tr>\n",
       "  </tbody>\n",
       "</table>\n",
       "<p>123 rows × 12 columns</p>\n",
       "</div>"
      ],
      "text/plain": [
       "       children  days_employed  dob_years education  education_id  \\\n",
       "291          -1    4417.703588         46   среднее             1   \n",
       "606          20     880.221113         21   среднее             1   \n",
       "705          -1     902.084528         50   среднее             1   \n",
       "720          20     855.595512         44   среднее             1   \n",
       "742          -1    3174.456205         57   среднее             1   \n",
       "...         ...            ...        ...       ...           ...   \n",
       "21140        -1    1422.668059         44   среднее             1   \n",
       "21325        20     601.174883         37   среднее             1   \n",
       "21390        20    1547.382223         53   среднее             1   \n",
       "21404        20     494.788448         52   среднее             1   \n",
       "21491        20     173.954460         27   среднее             1   \n",
       "\n",
       "          family_status  family_status_id gender  income_type  debt  \\\n",
       "291    гражданский брак                 1      F    сотрудник     0   \n",
       "606     женат / замужем                 0      M    компаньон     0   \n",
       "705     женат / замужем                 0      F  госслужащий     0   \n",
       "720     женат / замужем                 0      F    компаньон     0   \n",
       "742     женат / замужем                 0      F    сотрудник     0   \n",
       "...                 ...               ...    ...          ...   ...   \n",
       "21140   женат / замужем                 0      F    компаньон     0   \n",
       "21325   женат / замужем                 0      F    компаньон     0   \n",
       "21390   женат / замужем                 0      M    компаньон     0   \n",
       "21404   женат / замужем                 0      M    компаньон     0   \n",
       "21491   женат / замужем                 0      F    сотрудник     0   \n",
       "\n",
       "        total_income                             purpose  \n",
       "291    102816.346412              профильное образование  \n",
       "606    145334.865002                       покупка жилья  \n",
       "705    137882.899271             приобретение автомобиля  \n",
       "720    112998.738649                покупка недвижимости  \n",
       "742     64268.044444          дополнительное образование  \n",
       "...              ...                                 ...  \n",
       "21140  169562.091999     операции со своей недвижимостью  \n",
       "21325  102986.065978              профильное образование  \n",
       "21390            NaN          покупка жилой недвижимости  \n",
       "21404  156629.683642     операции со своей недвижимостью  \n",
       "21491  155520.899688  на покупку подержанного автомобиля  \n",
       "\n",
       "[123 rows x 12 columns]"
      ]
     },
     "execution_count": 49,
     "metadata": {},
     "output_type": "execute_result"
    }
   ],
   "source": [
    "df[(df['children'] < 0) | (df['children'] == 20)]"
   ]
  },
  {
   "cell_type": "markdown",
   "metadata": {},
   "source": [
    "В данном исследовании нам достаточно знать, что там есть хотя бы один ребенок. \n",
    "А вот -1 надо исправлять:"
   ]
  },
  {
   "cell_type": "code",
   "execution_count": 50,
   "metadata": {},
   "outputs": [],
   "source": [
    "df['children'] = df['children'].abs()"
   ]
  },
  {
   "cell_type": "code",
   "execution_count": 51,
   "metadata": {},
   "outputs": [
    {
     "data": {
      "text/plain": [
       "0"
      ]
     },
     "execution_count": 51,
     "metadata": {},
     "output_type": "execute_result"
    }
   ],
   "source": [
    "df[df['children'] < 0]['children'].count()"
   ]
  },
  {
   "cell_type": "markdown",
   "metadata": {},
   "source": [
    "Посмотрим, у какого процента человек 20 детей:"
   ]
  },
  {
   "cell_type": "code",
   "execution_count": 52,
   "metadata": {},
   "outputs": [
    {
     "name": "stdout",
     "output_type": "stream",
     "text": [
      "20 детей у 0.4% человек\n"
     ]
    }
   ],
   "source": [
    "twenty_children = len(df[df['children'] == 20]) / len(df) \n",
    "print('20 детей у {:.1%} человек'.format(twenty_children))"
   ]
  },
  {
   "cell_type": "markdown",
   "metadata": {},
   "source": [
    "0,4% - это, кажется, не очень много. Давайте заменим это значение на 2 - на статистику это не повлияет, т.к. нам достаточно знать, есть ребенок или нет, а это похоже на то, что кто-то случайно нолик поставил - может, хотел скобочку закрыть и не получилось?"
   ]
  },
  {
   "cell_type": "code",
   "execution_count": 53,
   "metadata": {
    "scrolled": true
   },
   "outputs": [
    {
     "data": {
      "text/plain": [
       "children            0\n",
       "days_employed       0\n",
       "dob_years           0\n",
       "education           0\n",
       "education_id        0\n",
       "family_status       0\n",
       "family_status_id    0\n",
       "gender              0\n",
       "income_type         0\n",
       "debt                0\n",
       "total_income        0\n",
       "purpose             0\n",
       "dtype: int64"
      ]
     },
     "execution_count": 53,
     "metadata": {},
     "output_type": "execute_result"
    }
   ],
   "source": [
    "df['children'] = df['children'].apply(lambda x: 2 if x == 20 else x)\n",
    "df[df['children'] == 20].count()"
   ]
  },
  {
   "cell_type": "markdown",
   "metadata": {},
   "source": [
    "Отлично! Можем теперь всех пересчитать."
   ]
  },
  {
   "cell_type": "markdown",
   "metadata": {},
   "source": [
    "Посмотрим, что еще есть интересного:"
   ]
  },
  {
   "cell_type": "code",
   "execution_count": 55,
   "metadata": {},
   "outputs": [
    {
     "data": {
      "text/plain": [
       "count    21525.000000\n",
       "mean        43.293380\n",
       "std         12.574584\n",
       "min          0.000000\n",
       "25%         33.000000\n",
       "50%         42.000000\n",
       "75%         53.000000\n",
       "max         75.000000\n",
       "Name: dob_years, dtype: float64"
      ]
     },
     "execution_count": 55,
     "metadata": {},
     "output_type": "execute_result"
    }
   ],
   "source": [
    "df['dob_years'].describe()"
   ]
  },
  {
   "cell_type": "markdown",
   "metadata": {},
   "source": [
    "Минимальное значение - 0! Что-то тут не так, кажется, младенцам явно нет дела до всяких кредитов (да и как они возвращать их будут - они ж не работают). Посмотрим, сколько таких: "
   ]
  },
  {
   "cell_type": "code",
   "execution_count": 60,
   "metadata": {
    "scrolled": false
   },
   "outputs": [
    {
     "data": {
      "text/plain": [
       "children            101\n",
       "days_employed       101\n",
       "dob_years           101\n",
       "education           101\n",
       "education_id        101\n",
       "family_status       101\n",
       "family_status_id    101\n",
       "gender              101\n",
       "income_type         101\n",
       "debt                101\n",
       "total_income        101\n",
       "purpose             101\n",
       "dtype: int64"
      ]
     },
     "execution_count": 60,
     "metadata": {},
     "output_type": "execute_result"
    }
   ],
   "source": [
    "df[df['dob_years'] == 0].count()"
   ]
  },
  {
   "cell_type": "markdown",
   "metadata": {},
   "source": [
    "101 младенец! Или все-таки нет? Предлагаю заменить на медиану по типу занятости:"
   ]
  },
  {
   "cell_type": "code",
   "execution_count": 57,
   "metadata": {},
   "outputs": [
    {
     "data": {
      "text/html": [
       "<div>\n",
       "<style scoped>\n",
       "    .dataframe tbody tr th:only-of-type {\n",
       "        vertical-align: middle;\n",
       "    }\n",
       "\n",
       "    .dataframe tbody tr th {\n",
       "        vertical-align: top;\n",
       "    }\n",
       "\n",
       "    .dataframe thead th {\n",
       "        text-align: right;\n",
       "    }\n",
       "</style>\n",
       "<table border=\"1\" class=\"dataframe\">\n",
       "  <thead>\n",
       "    <tr style=\"text-align: right;\">\n",
       "      <th></th>\n",
       "      <th>children</th>\n",
       "      <th>days_employed</th>\n",
       "      <th>dob_years</th>\n",
       "      <th>education</th>\n",
       "      <th>education_id</th>\n",
       "      <th>family_status</th>\n",
       "      <th>family_status_id</th>\n",
       "      <th>gender</th>\n",
       "      <th>income_type</th>\n",
       "      <th>debt</th>\n",
       "      <th>total_income</th>\n",
       "      <th>purpose</th>\n",
       "    </tr>\n",
       "  </thead>\n",
       "  <tbody>\n",
       "    <tr>\n",
       "      <td>99</td>\n",
       "      <td>0</td>\n",
       "      <td>14439.234121</td>\n",
       "      <td>0</td>\n",
       "      <td>Среднее</td>\n",
       "      <td>1</td>\n",
       "      <td>женат / замужем</td>\n",
       "      <td>0</td>\n",
       "      <td>F</td>\n",
       "      <td>пенсионер</td>\n",
       "      <td>0</td>\n",
       "      <td>71291.522491</td>\n",
       "      <td>автомобиль</td>\n",
       "    </tr>\n",
       "    <tr>\n",
       "      <td>149</td>\n",
       "      <td>0</td>\n",
       "      <td>2664.273168</td>\n",
       "      <td>0</td>\n",
       "      <td>среднее</td>\n",
       "      <td>1</td>\n",
       "      <td>в разводе</td>\n",
       "      <td>3</td>\n",
       "      <td>F</td>\n",
       "      <td>сотрудник</td>\n",
       "      <td>0</td>\n",
       "      <td>70176.435951</td>\n",
       "      <td>операции с жильем</td>\n",
       "    </tr>\n",
       "    <tr>\n",
       "      <td>270</td>\n",
       "      <td>3</td>\n",
       "      <td>1872.663186</td>\n",
       "      <td>0</td>\n",
       "      <td>среднее</td>\n",
       "      <td>1</td>\n",
       "      <td>женат / замужем</td>\n",
       "      <td>0</td>\n",
       "      <td>F</td>\n",
       "      <td>сотрудник</td>\n",
       "      <td>0</td>\n",
       "      <td>102166.458894</td>\n",
       "      <td>ремонт жилью</td>\n",
       "    </tr>\n",
       "    <tr>\n",
       "      <td>578</td>\n",
       "      <td>0</td>\n",
       "      <td>16577.356876</td>\n",
       "      <td>0</td>\n",
       "      <td>среднее</td>\n",
       "      <td>1</td>\n",
       "      <td>женат / замужем</td>\n",
       "      <td>0</td>\n",
       "      <td>F</td>\n",
       "      <td>пенсионер</td>\n",
       "      <td>0</td>\n",
       "      <td>97620.687042</td>\n",
       "      <td>строительство собственной недвижимости</td>\n",
       "    </tr>\n",
       "    <tr>\n",
       "      <td>1040</td>\n",
       "      <td>0</td>\n",
       "      <td>1158.029561</td>\n",
       "      <td>0</td>\n",
       "      <td>высшее</td>\n",
       "      <td>0</td>\n",
       "      <td>в разводе</td>\n",
       "      <td>3</td>\n",
       "      <td>F</td>\n",
       "      <td>компаньон</td>\n",
       "      <td>0</td>\n",
       "      <td>303994.134987</td>\n",
       "      <td>свой автомобиль</td>\n",
       "    </tr>\n",
       "    <tr>\n",
       "      <td>1149</td>\n",
       "      <td>0</td>\n",
       "      <td>934.654854</td>\n",
       "      <td>0</td>\n",
       "      <td>среднее</td>\n",
       "      <td>1</td>\n",
       "      <td>женат / замужем</td>\n",
       "      <td>0</td>\n",
       "      <td>F</td>\n",
       "      <td>компаньон</td>\n",
       "      <td>0</td>\n",
       "      <td>201852.430096</td>\n",
       "      <td>покупка недвижимости</td>\n",
       "    </tr>\n",
       "    <tr>\n",
       "      <td>1175</td>\n",
       "      <td>0</td>\n",
       "      <td>15453.312833</td>\n",
       "      <td>0</td>\n",
       "      <td>среднее</td>\n",
       "      <td>1</td>\n",
       "      <td>женат / замужем</td>\n",
       "      <td>0</td>\n",
       "      <td>F</td>\n",
       "      <td>пенсионер</td>\n",
       "      <td>0</td>\n",
       "      <td>313949.845188</td>\n",
       "      <td>получение дополнительного образования</td>\n",
       "    </tr>\n",
       "    <tr>\n",
       "      <td>1386</td>\n",
       "      <td>0</td>\n",
       "      <td>5043.219890</td>\n",
       "      <td>0</td>\n",
       "      <td>высшее</td>\n",
       "      <td>0</td>\n",
       "      <td>женат / замужем</td>\n",
       "      <td>0</td>\n",
       "      <td>M</td>\n",
       "      <td>госслужащий</td>\n",
       "      <td>0</td>\n",
       "      <td>240523.618071</td>\n",
       "      <td>сделка с автомобилем</td>\n",
       "    </tr>\n",
       "    <tr>\n",
       "      <td>1890</td>\n",
       "      <td>0</td>\n",
       "      <td>1574.202821</td>\n",
       "      <td>0</td>\n",
       "      <td>высшее</td>\n",
       "      <td>0</td>\n",
       "      <td>Не женат / не замужем</td>\n",
       "      <td>4</td>\n",
       "      <td>F</td>\n",
       "      <td>сотрудник</td>\n",
       "      <td>0</td>\n",
       "      <td>NaN</td>\n",
       "      <td>жилье</td>\n",
       "    </tr>\n",
       "    <tr>\n",
       "      <td>1898</td>\n",
       "      <td>0</td>\n",
       "      <td>15422.689043</td>\n",
       "      <td>0</td>\n",
       "      <td>среднее</td>\n",
       "      <td>1</td>\n",
       "      <td>вдовец / вдова</td>\n",
       "      <td>2</td>\n",
       "      <td>F</td>\n",
       "      <td>пенсионер</td>\n",
       "      <td>0</td>\n",
       "      <td>127400.268338</td>\n",
       "      <td>на покупку автомобиля</td>\n",
       "    </tr>\n",
       "  </tbody>\n",
       "</table>\n",
       "</div>"
      ],
      "text/plain": [
       "      children  days_employed  dob_years education  education_id  \\\n",
       "99           0   14439.234121          0   Среднее             1   \n",
       "149          0    2664.273168          0   среднее             1   \n",
       "270          3    1872.663186          0   среднее             1   \n",
       "578          0   16577.356876          0   среднее             1   \n",
       "1040         0    1158.029561          0    высшее             0   \n",
       "1149         0     934.654854          0   среднее             1   \n",
       "1175         0   15453.312833          0   среднее             1   \n",
       "1386         0    5043.219890          0    высшее             0   \n",
       "1890         0    1574.202821          0    высшее             0   \n",
       "1898         0   15422.689043          0   среднее             1   \n",
       "\n",
       "              family_status  family_status_id gender  income_type  debt  \\\n",
       "99          женат / замужем                 0      F    пенсионер     0   \n",
       "149               в разводе                 3      F    сотрудник     0   \n",
       "270         женат / замужем                 0      F    сотрудник     0   \n",
       "578         женат / замужем                 0      F    пенсионер     0   \n",
       "1040              в разводе                 3      F    компаньон     0   \n",
       "1149        женат / замужем                 0      F    компаньон     0   \n",
       "1175        женат / замужем                 0      F    пенсионер     0   \n",
       "1386        женат / замужем                 0      M  госслужащий     0   \n",
       "1890  Не женат / не замужем                 4      F    сотрудник     0   \n",
       "1898         вдовец / вдова                 2      F    пенсионер     0   \n",
       "\n",
       "       total_income                                 purpose  \n",
       "99     71291.522491                              автомобиль  \n",
       "149    70176.435951                       операции с жильем  \n",
       "270   102166.458894                            ремонт жилью  \n",
       "578    97620.687042  строительство собственной недвижимости  \n",
       "1040  303994.134987                         свой автомобиль  \n",
       "1149  201852.430096                    покупка недвижимости  \n",
       "1175  313949.845188   получение дополнительного образования  \n",
       "1386  240523.618071                    сделка с автомобилем  \n",
       "1890            NaN                                   жилье  \n",
       "1898  127400.268338                   на покупку автомобиля  "
      ]
     },
     "execution_count": 57,
     "metadata": {},
     "output_type": "execute_result"
    }
   ],
   "source": [
    "df[df['dob_years'] == 0].head(10)"
   ]
  },
  {
   "cell_type": "markdown",
   "metadata": {},
   "source": [
    "А на первых строчках debt везде 0, так что есть у них все-таки возможность вернуть кредиты. А я в их годы, эх :)\n",
    "А серьезно, то 0 лет - это что-то явно неправильное. Давайте что-нибудь с этим придумаем."
   ]
  },
  {
   "cell_type": "code",
   "execution_count": 61,
   "metadata": {},
   "outputs": [
    {
     "name": "stdout",
     "output_type": "stream",
     "text": [
      "Возрат - 0 лет у 0.5% человек\n"
     ]
    }
   ],
   "source": [
    "zero_years = len(df[df['dob_years'] == 0]) / len(df) \n",
    "print('Возрат - 0 лет у {:.1%} человек'.format(zero_years))"
   ]
  },
  {
   "cell_type": "markdown",
   "metadata": {},
   "source": [
    "Т.к. таких строк всего 0,5% предлагаю заменить эти значения на медиану:"
   ]
  },
  {
   "cell_type": "code",
   "execution_count": 62,
   "metadata": {},
   "outputs": [],
   "source": [
    "median_dob_years = df['dob_years'].median()"
   ]
  },
  {
   "cell_type": "code",
   "execution_count": 63,
   "metadata": {},
   "outputs": [],
   "source": [
    "df['dob_years'] = df['dob_years'].apply(lambda x: median_dob_years if x == 0 else x)"
   ]
  },
  {
   "cell_type": "markdown",
   "metadata": {},
   "source": [
    "Проверяем:"
   ]
  },
  {
   "cell_type": "code",
   "execution_count": 64,
   "metadata": {},
   "outputs": [
    {
     "data": {
      "text/plain": [
       "children            0\n",
       "days_employed       0\n",
       "dob_years           0\n",
       "education           0\n",
       "education_id        0\n",
       "family_status       0\n",
       "family_status_id    0\n",
       "gender              0\n",
       "income_type         0\n",
       "debt                0\n",
       "total_income        0\n",
       "purpose             0\n",
       "dtype: int64"
      ]
     },
     "execution_count": 64,
     "metadata": {},
     "output_type": "execute_result"
    }
   ],
   "source": [
    "df[df['dob_years'] == 0].count()"
   ]
  },
  {
   "cell_type": "markdown",
   "metadata": {},
   "source": [
    "Посмотрим на тип занятости:"
   ]
  },
  {
   "cell_type": "code",
   "execution_count": 65,
   "metadata": {
    "scrolled": true
   },
   "outputs": [
    {
     "data": {
      "text/plain": [
       "сотрудник          11119\n",
       "компаньон           5085\n",
       "пенсионер           3856\n",
       "госслужащий         1459\n",
       "предприниматель        2\n",
       "безработный            2\n",
       "студент                1\n",
       "в декрете              1\n",
       "Name: income_type, dtype: int64"
      ]
     },
     "execution_count": 65,
     "metadata": {},
     "output_type": "execute_result"
    }
   ],
   "source": [
    "df['income_type'].value_counts()"
   ]
  },
  {
   "cell_type": "markdown",
   "metadata": {},
   "source": [
    "Тут все неплохо, идем дальше:"
   ]
  },
  {
   "cell_type": "code",
   "execution_count": 66,
   "metadata": {},
   "outputs": [
    {
     "data": {
      "text/plain": [
       "F      14236\n",
       "M       7288\n",
       "XNA        1\n",
       "Name: gender, dtype: int64"
      ]
     },
     "execution_count": 66,
     "metadata": {},
     "output_type": "execute_result"
    }
   ],
   "source": [
    "df['gender'].value_counts()"
   ]
  },
  {
   "cell_type": "markdown",
   "metadata": {},
   "source": [
    "XNA - это что такое, интересно? Давайте посмотрим:"
   ]
  },
  {
   "cell_type": "code",
   "execution_count": 47,
   "metadata": {},
   "outputs": [
    {
     "data": {
      "text/html": [
       "<div>\n",
       "<style scoped>\n",
       "    .dataframe tbody tr th:only-of-type {\n",
       "        vertical-align: middle;\n",
       "    }\n",
       "\n",
       "    .dataframe tbody tr th {\n",
       "        vertical-align: top;\n",
       "    }\n",
       "\n",
       "    .dataframe thead th {\n",
       "        text-align: right;\n",
       "    }\n",
       "</style>\n",
       "<table border=\"1\" class=\"dataframe\">\n",
       "  <thead>\n",
       "    <tr style=\"text-align: right;\">\n",
       "      <th></th>\n",
       "      <th>children</th>\n",
       "      <th>days_employed</th>\n",
       "      <th>dob_years</th>\n",
       "      <th>education</th>\n",
       "      <th>education_id</th>\n",
       "      <th>family_status</th>\n",
       "      <th>family_status_id</th>\n",
       "      <th>gender</th>\n",
       "      <th>income_type</th>\n",
       "      <th>debt</th>\n",
       "      <th>total_income</th>\n",
       "      <th>purpose</th>\n",
       "    </tr>\n",
       "  </thead>\n",
       "  <tbody>\n",
       "    <tr>\n",
       "      <td>10701</td>\n",
       "      <td>0</td>\n",
       "      <td>2358.600502</td>\n",
       "      <td>24.0</td>\n",
       "      <td>неоконченное высшее</td>\n",
       "      <td>2</td>\n",
       "      <td>гражданский брак</td>\n",
       "      <td>1</td>\n",
       "      <td>XNA</td>\n",
       "      <td>компаньон</td>\n",
       "      <td>0</td>\n",
       "      <td>203905.157261</td>\n",
       "      <td>покупка недвижимости</td>\n",
       "    </tr>\n",
       "  </tbody>\n",
       "</table>\n",
       "</div>"
      ],
      "text/plain": [
       "       children  days_employed  dob_years            education  education_id  \\\n",
       "10701         0    2358.600502       24.0  неоконченное высшее             2   \n",
       "\n",
       "          family_status  family_status_id gender income_type  debt  \\\n",
       "10701  гражданский брак                 1    XNA   компаньон     0   \n",
       "\n",
       "        total_income               purpose  \n",
       "10701  203905.157261  покупка недвижимости  "
      ]
     },
     "execution_count": 47,
     "metadata": {},
     "output_type": "execute_result"
    }
   ],
   "source": [
    "df[df['gender'] == 'XNA']"
   ]
  },
  {
   "cell_type": "markdown",
   "metadata": {},
   "source": [
    "Строчка всего лишь одна, думаю, её можно удалить. Замена на медиану тут явно не поможет."
   ]
  },
  {
   "cell_type": "code",
   "execution_count": 67,
   "metadata": {},
   "outputs": [],
   "source": [
    "df = df[df['gender'] != 'XNA']"
   ]
  },
  {
   "cell_type": "markdown",
   "metadata": {},
   "source": [
    "Проверяем:"
   ]
  },
  {
   "cell_type": "code",
   "execution_count": 68,
   "metadata": {
    "scrolled": true
   },
   "outputs": [
    {
     "data": {
      "text/plain": [
       "F    14236\n",
       "M     7288\n",
       "Name: gender, dtype: int64"
      ]
     },
     "execution_count": 68,
     "metadata": {},
     "output_type": "execute_result"
    }
   ],
   "source": [
    "df['gender'].value_counts()"
   ]
  },
  {
   "cell_type": "markdown",
   "metadata": {},
   "source": [
    "Чудненько! Двигаемся дальше."
   ]
  },
  {
   "cell_type": "code",
   "execution_count": 69,
   "metadata": {},
   "outputs": [
    {
     "data": {
      "text/plain": [
       "среднее                13750\n",
       "высшее                  4718\n",
       "СРЕДНЕЕ                  772\n",
       "Среднее                  711\n",
       "неоконченное высшее      667\n",
       "ВЫСШЕЕ                   274\n",
       "Высшее                   268\n",
       "начальное                250\n",
       "Неоконченное высшее       47\n",
       "НЕОКОНЧЕННОЕ ВЫСШЕЕ       29\n",
       "НАЧАЛЬНОЕ                 17\n",
       "Начальное                 15\n",
       "ученая степень             4\n",
       "УЧЕНАЯ СТЕПЕНЬ             1\n",
       "Ученая степень             1\n",
       "Name: education, dtype: int64"
      ]
     },
     "execution_count": 69,
     "metadata": {},
     "output_type": "execute_result"
    }
   ],
   "source": [
    "df['education'].value_counts()"
   ]
  },
  {
   "cell_type": "markdown",
   "metadata": {},
   "source": [
    "Приведем все к единому регистру:"
   ]
  },
  {
   "cell_type": "code",
   "execution_count": 70,
   "metadata": {},
   "outputs": [
    {
     "name": "stderr",
     "output_type": "stream",
     "text": [
      "/opt/conda/lib/python3.7/site-packages/ipykernel_launcher.py:1: SettingWithCopyWarning: \n",
      "A value is trying to be set on a copy of a slice from a DataFrame.\n",
      "Try using .loc[row_indexer,col_indexer] = value instead\n",
      "\n",
      "See the caveats in the documentation: http://pandas.pydata.org/pandas-docs/stable/user_guide/indexing.html#returning-a-view-versus-a-copy\n",
      "  \"\"\"Entry point for launching an IPython kernel.\n"
     ]
    }
   ],
   "source": [
    "df['education'] = df['education'].str.lower()"
   ]
  },
  {
   "cell_type": "code",
   "execution_count": 71,
   "metadata": {},
   "outputs": [
    {
     "data": {
      "text/plain": [
       "среднее                15233\n",
       "высшее                  5260\n",
       "неоконченное высшее      743\n",
       "начальное                282\n",
       "ученая степень             6\n",
       "Name: education, dtype: int64"
      ]
     },
     "execution_count": 71,
     "metadata": {},
     "output_type": "execute_result"
    }
   ],
   "source": [
    "df['education'].value_counts()"
   ]
  },
  {
   "cell_type": "markdown",
   "metadata": {},
   "source": [
    "Выглядит прекрасно!"
   ]
  },
  {
   "cell_type": "code",
   "execution_count": 72,
   "metadata": {},
   "outputs": [
    {
     "data": {
      "text/plain": [
       "свадьба                                   797\n",
       "на проведение свадьбы                     777\n",
       "сыграть свадьбу                           774\n",
       "операции с недвижимостью                  676\n",
       "покупка коммерческой недвижимости         664\n",
       "покупка жилья для сдачи                   653\n",
       "операции с жильем                         653\n",
       "операции с коммерческой недвижимостью     651\n",
       "жилье                                     647\n",
       "покупка жилья                             647\n",
       "покупка жилья для семьи                   641\n",
       "строительство собственной недвижимости    635\n",
       "недвижимость                              634\n",
       "операции со своей недвижимостью           630\n",
       "строительство жилой недвижимости          626\n",
       "покупка недвижимости                      623\n",
       "строительство недвижимости                620\n",
       "покупка своего жилья                      620\n",
       "ремонт жилью                              612\n",
       "покупка жилой недвижимости                607\n",
       "на покупку своего автомобиля              505\n",
       "заняться высшим образованием              496\n",
       "автомобиль                                495\n",
       "сделка с подержанным автомобилем          489\n",
       "свой автомобиль                           480\n",
       "на покупку подержанного автомобиля        479\n",
       "автомобили                                478\n",
       "на покупку автомобиля                     472\n",
       "дополнительное образование                462\n",
       "приобретение автомобиля                   462\n",
       "сделка с автомобилем                      455\n",
       "высшее образование                        453\n",
       "образование                               447\n",
       "получение дополнительного образования     447\n",
       "получение образования                     443\n",
       "профильное образование                    436\n",
       "получение высшего образования             426\n",
       "заняться образованием                     412\n",
       "Name: purpose, dtype: int64"
      ]
     },
     "execution_count": 72,
     "metadata": {},
     "output_type": "execute_result"
    }
   ],
   "source": [
    "df['purpose'].value_counts()"
   ]
  },
  {
   "cell_type": "markdown",
   "metadata": {},
   "source": [
    "В топе - свадьба и недвижимость! Дальше - разделим их на несколько категорий."
   ]
  },
  {
   "cell_type": "markdown",
   "metadata": {},
   "source": [
    "**Вывод** : Убрали пропуски (заменили их на медиану), избавились от отрицательных и неадекватно высоких значений, от странных значений тоже избавились.  Теперь во всех столбцах - порядок! "
   ]
  },
  {
   "cell_type": "markdown",
   "metadata": {},
   "source": [
    "### Замена типа данных"
   ]
  },
  {
   "cell_type": "markdown",
   "metadata": {},
   "source": [
    "Заменим, как и планировали, тип данных в поле days_employed и total_income:"
   ]
  },
  {
   "cell_type": "code",
   "execution_count": 73,
   "metadata": {},
   "outputs": [
    {
     "name": "stderr",
     "output_type": "stream",
     "text": [
      "/opt/conda/lib/python3.7/site-packages/ipykernel_launcher.py:1: SettingWithCopyWarning: \n",
      "A value is trying to be set on a copy of a slice from a DataFrame.\n",
      "Try using .loc[row_indexer,col_indexer] = value instead\n",
      "\n",
      "See the caveats in the documentation: http://pandas.pydata.org/pandas-docs/stable/user_guide/indexing.html#returning-a-view-versus-a-copy\n",
      "  \"\"\"Entry point for launching an IPython kernel.\n"
     ]
    }
   ],
   "source": [
    "df['days_employed'] = df['days_employed'].astype('int')"
   ]
  },
  {
   "cell_type": "code",
   "execution_count": 74,
   "metadata": {},
   "outputs": [
    {
     "data": {
      "text/plain": [
       "0     8437\n",
       "1     4024\n",
       "2     5623\n",
       "3     4124\n",
       "4    14177\n",
       "Name: days_employed, dtype: int64"
      ]
     },
     "execution_count": 74,
     "metadata": {},
     "output_type": "execute_result"
    }
   ],
   "source": [
    "df['days_employed'].head()"
   ]
  },
  {
   "cell_type": "markdown",
   "metadata": {},
   "source": [
    "Заменим также total_income (на статистику копейки не повлияют, но глазу будет приятнее):"
   ]
  },
  {
   "cell_type": "code",
   "execution_count": 75,
   "metadata": {},
   "outputs": [
    {
     "name": "stderr",
     "output_type": "stream",
     "text": [
      "/opt/conda/lib/python3.7/site-packages/ipykernel_launcher.py:1: SettingWithCopyWarning: \n",
      "A value is trying to be set on a copy of a slice from a DataFrame.\n",
      "Try using .loc[row_indexer,col_indexer] = value instead\n",
      "\n",
      "See the caveats in the documentation: http://pandas.pydata.org/pandas-docs/stable/user_guide/indexing.html#returning-a-view-versus-a-copy\n",
      "  \"\"\"Entry point for launching an IPython kernel.\n"
     ]
    }
   ],
   "source": [
    "df['total_income'] = df['total_income'].astype('int')"
   ]
  },
  {
   "cell_type": "code",
   "execution_count": 76,
   "metadata": {
    "scrolled": true
   },
   "outputs": [
    {
     "name": "stdout",
     "output_type": "stream",
     "text": [
      "0        253875\n",
      "1        112080\n",
      "2        145885\n",
      "3        267628\n",
      "4        158616\n",
      "          ...  \n",
      "21520    224791\n",
      "21521    155999\n",
      "21522     89672\n",
      "21523    244093\n",
      "21524     82047\n",
      "Name: total_income, Length: 21524, dtype: int64\n"
     ]
    }
   ],
   "source": [
    "print(df['total_income'])"
   ]
  },
  {
   "cell_type": "markdown",
   "metadata": {},
   "source": [
    "Вывод: Заменили тип данных в двух столбцах: трудовой стаж и доход в месяц. Ни там, ни там сотые и десятые доли не играют особой роли. \n",
    "Также нашли ошибку в подсчете трудового стажа у пенсионеров - кажется, там считались часы, а не дни. (исправлено  выше)"
   ]
  },
  {
   "cell_type": "markdown",
   "metadata": {},
   "source": [
    "### Обработка дубликатов"
   ]
  },
  {
   "cell_type": "markdown",
   "metadata": {},
   "source": [
    "Т.к. id клиентов в данных нет, сказать наверняка, дубликат это или же совпадение, нельзя. Но по полному совпадению нескольких столбцов можно сделать предположение. "
   ]
  },
  {
   "cell_type": "markdown",
   "metadata": {},
   "source": [
    "Посчитаем, сколько дубликатов всех показателей:"
   ]
  },
  {
   "cell_type": "code",
   "execution_count": 87,
   "metadata": {},
   "outputs": [
    {
     "data": {
      "text/plain": [
       "72"
      ]
     },
     "execution_count": 87,
     "metadata": {},
     "output_type": "execute_result"
    }
   ],
   "source": [
    "df.duplicated().sum()"
   ]
  },
  {
   "cell_type": "markdown",
   "metadata": {},
   "source": [
    "Строки с полным совпадением данных можно считать дубликатами, от которых лучше будет избавиться:"
   ]
  },
  {
   "cell_type": "code",
   "execution_count": 89,
   "metadata": {},
   "outputs": [],
   "source": [
    "df = df.drop_duplicates().reset_index(drop= True)"
   ]
  },
  {
   "cell_type": "markdown",
   "metadata": {},
   "source": [
    "Проверяем, есть ли дубликаты теперь:"
   ]
  },
  {
   "cell_type": "code",
   "execution_count": 90,
   "metadata": {},
   "outputs": [
    {
     "data": {
      "text/plain": [
       "0"
      ]
     },
     "execution_count": 90,
     "metadata": {},
     "output_type": "execute_result"
    }
   ],
   "source": [
    "df.duplicated().sum()"
   ]
  },
  {
   "cell_type": "markdown",
   "metadata": {},
   "source": [
    "Отлично! Избавились от дубликатов, продолжим."
   ]
  },
  {
   "cell_type": "markdown",
   "metadata": {},
   "source": [
    "Избавились от полных дубликатов строк - использовался reset_index(), чтобы восстановить индексы строк."
   ]
  },
  {
   "cell_type": "markdown",
   "metadata": {},
   "source": [
    "### Лемматизация"
   ]
  },
  {
   "cell_type": "code",
   "execution_count": 91,
   "metadata": {},
   "outputs": [],
   "source": [
    "from pymystem3 import Mystem\n",
    "m = Mystem() "
   ]
  },
  {
   "cell_type": "markdown",
   "metadata": {},
   "source": [
    "Составим список уникальных целей, на осуществление которых люди хотят взять кредит:"
   ]
  },
  {
   "cell_type": "code",
   "execution_count": 92,
   "metadata": {},
   "outputs": [
    {
     "name": "stdout",
     "output_type": "stream",
     "text": [
      "['покупка жилья' 'приобретение автомобиля' 'дополнительное образование'\n",
      " 'сыграть свадьбу' 'операции с жильем' 'образование'\n",
      " 'на проведение свадьбы' 'покупка жилья для семьи' 'покупка недвижимости'\n",
      " 'покупка коммерческой недвижимости' 'покупка жилой недвижимости'\n",
      " 'строительство собственной недвижимости' 'недвижимость'\n",
      " 'строительство недвижимости' 'на покупку подержанного автомобиля'\n",
      " 'на покупку своего автомобиля' 'операции с коммерческой недвижимостью'\n",
      " 'строительство жилой недвижимости' 'жилье'\n",
      " 'операции со своей недвижимостью' 'автомобили' 'заняться образованием'\n",
      " 'сделка с подержанным автомобилем' 'получение образования' 'автомобиль'\n",
      " 'свадьба' 'получение дополнительного образования' 'покупка своего жилья'\n",
      " 'операции с недвижимостью' 'получение высшего образования'\n",
      " 'свой автомобиль' 'сделка с автомобилем' 'профильное образование'\n",
      " 'высшее образование' 'покупка жилья для сдачи' 'на покупку автомобиля'\n",
      " 'ремонт жилью' 'заняться высшим образованием']\n"
     ]
    }
   ],
   "source": [
    "purpose_list = df['purpose'].unique()\n",
    "print(purpose_list)"
   ]
  },
  {
   "cell_type": "code",
   "execution_count": 93,
   "metadata": {
    "scrolled": true
   },
   "outputs": [
    {
     "name": "stdout",
     "output_type": "stream",
     "text": [
      "покупка жилья приобретение автомобиля дополнительное образование сыграть свадьбу операции с жильем образование на проведение свадьбы покупка жилья для семьи покупка недвижимости покупка коммерческой недвижимости покупка жилой недвижимости строительство собственной недвижимости недвижимость строительство недвижимости на покупку подержанного автомобиля на покупку своего автомобиля операции с коммерческой недвижимостью строительство жилой недвижимости жилье операции со своей недвижимостью автомобили заняться образованием сделка с подержанным автомобилем получение образования автомобиль свадьба получение дополнительного образования покупка своего жилья операции с недвижимостью получение высшего образования свой автомобиль сделка с автомобилем профильное образование высшее образование покупка жилья для сдачи на покупку автомобиля ремонт жилью заняться высшим образованием\n"
     ]
    }
   ],
   "source": [
    "purpose_list = ' '.join(purpose_list)\n",
    "print(purpose_list)"
   ]
  },
  {
   "cell_type": "markdown",
   "metadata": {},
   "source": [
    "Приводим слова к их словарной форме (лемме):"
   ]
  },
  {
   "cell_type": "code",
   "execution_count": 94,
   "metadata": {
    "scrolled": true
   },
   "outputs": [
    {
     "name": "stdout",
     "output_type": "stream",
     "text": [
      "['покупка', ' ', 'жилье', ' ', 'приобретение', ' ', 'автомобиль', ' ', 'дополнительный', ' ', 'образование', ' ', 'сыграть', ' ', 'свадьба', ' ', 'операция', ' ', 'с', ' ', 'жилье', ' ', 'образование', ' ', 'на', ' ', 'проведение', ' ', 'свадьба', ' ', 'покупка', ' ', 'жилье', ' ', 'для', ' ', 'семья', ' ', 'покупка', ' ', 'недвижимость', ' ', 'покупка', ' ', 'коммерческий', ' ', 'недвижимость', ' ', 'покупка', ' ', 'жилой', ' ', 'недвижимость', ' ', 'строительство', ' ', 'собственный', ' ', 'недвижимость', ' ', 'недвижимость', ' ', 'строительство', ' ', 'недвижимость', ' ', 'на', ' ', 'покупка', ' ', 'подержать', ' ', 'автомобиль', ' ', 'на', ' ', 'покупка', ' ', 'свой', ' ', 'автомобиль', ' ', 'операция', ' ', 'с', ' ', 'коммерческий', ' ', 'недвижимость', ' ', 'строительство', ' ', 'жилой', ' ', 'недвижимость', ' ', 'жилье', ' ', 'операция', ' ', 'со', ' ', 'свой', ' ', 'недвижимость', ' ', 'автомобиль', ' ', 'заниматься', ' ', 'образование', ' ', 'сделка', ' ', 'с', ' ', 'подержать', ' ', 'автомобиль', ' ', 'получение', ' ', 'образование', ' ', 'автомобиль', ' ', 'свадьба', ' ', 'получение', ' ', 'дополнительный', ' ', 'образование', ' ', 'покупка', ' ', 'свой', ' ', 'жилье', ' ', 'операция', ' ', 'с', ' ', 'недвижимость', ' ', 'получение', ' ', 'высокий', ' ', 'образование', ' ', 'свой', ' ', 'автомобиль', ' ', 'сделка', ' ', 'с', ' ', 'автомобиль', ' ', 'профильный', ' ', 'образование', ' ', 'высокий', ' ', 'образование', ' ', 'покупка', ' ', 'жилье', ' ', 'для', ' ', 'сдача', ' ', 'на', ' ', 'покупка', ' ', 'автомобиль', ' ', 'ремонт', ' ', 'жилье', ' ', 'заниматься', ' ', 'высокий', ' ', 'образование', '\\n']\n"
     ]
    }
   ],
   "source": [
    "lemmas = m.lemmatize(purpose_list)\n",
    "print(lemmas)"
   ]
  },
  {
   "cell_type": "code",
   "execution_count": null,
   "metadata": {},
   "outputs": [],
   "source": [
    "list(filter((' ').__ne__, lemmas))\n",
    "list(filter(lambda a: a != ' ', lemmas))"
   ]
  },
  {
   "cell_type": "code",
   "execution_count": 95,
   "metadata": {},
   "outputs": [
    {
     "name": "stdout",
     "output_type": "stream",
     "text": [
      "['покупка', ' ', 'жилье', ' ', 'приобретение', ' ', 'автомобиль', ' ', 'дополнительный', ' ', 'образование', ' ', 'сыграть', ' ', 'свадьба', ' ', 'операция', ' ', 'с', ' ', 'жилье', ' ', 'образование', ' ', 'на', ' ', 'проведение', ' ', 'свадьба', ' ', 'покупка', ' ', 'жилье', ' ', 'для', ' ', 'семья', ' ', 'покупка', ' ', 'недвижимость', ' ', 'покупка', ' ', 'коммерческий', ' ', 'недвижимость', ' ', 'покупка', ' ', 'жилой', ' ', 'недвижимость', ' ', 'строительство', ' ', 'собственный', ' ', 'недвижимость', ' ', 'недвижимость', ' ', 'строительство', ' ', 'недвижимость', ' ', 'на', ' ', 'покупка', ' ', 'подержать', ' ', 'автомобиль', ' ', 'на', ' ', 'покупка', ' ', 'свой', ' ', 'автомобиль', ' ', 'операция', ' ', 'с', ' ', 'коммерческий', ' ', 'недвижимость', ' ', 'строительство', ' ', 'жилой', ' ', 'недвижимость', ' ', 'жилье', ' ', 'операция', ' ', 'со', ' ', 'свой', ' ', 'недвижимость', ' ', 'автомобиль', ' ', 'заниматься', ' ', 'образование', ' ', 'сделка', ' ', 'с', ' ', 'подержать', ' ', 'автомобиль', ' ', 'получение', ' ', 'образование', ' ', 'автомобиль', ' ', 'свадьба', ' ', 'получение', ' ', 'дополнительный', ' ', 'образование', ' ', 'покупка', ' ', 'свой', ' ', 'жилье', ' ', 'операция', ' ', 'с', ' ', 'недвижимость', ' ', 'получение', ' ', 'высокий', ' ', 'образование', ' ', 'свой', ' ', 'автомобиль', ' ', 'сделка', ' ', 'с', ' ', 'автомобиль', ' ', 'профильный', ' ', 'образование', ' ', 'высокий', ' ', 'образование', ' ', 'покупка', ' ', 'жилье', ' ', 'для', ' ', 'сдача', ' ', 'на', ' ', 'покупка', ' ', 'автомобиль', ' ', 'ремонт', ' ', 'жилье', ' ', 'заниматься', ' ', 'высокий', ' ', 'образование']\n"
     ]
    }
   ],
   "source": [
    "lemmas.remove('\\n')\n",
    "print(lemmas)"
   ]
  },
  {
   "cell_type": "code",
   "execution_count": 99,
   "metadata": {},
   "outputs": [],
   "source": [
    "lemmas = list(filter((' ').__ne__, lemmas))"
   ]
  },
  {
   "cell_type": "markdown",
   "metadata": {},
   "source": [
    "Посчитаем, какие слова чаще всего фигурируют в целях получения кредита. На основе этих данных будем объединять цели в категории"
   ]
  },
  {
   "cell_type": "code",
   "execution_count": 100,
   "metadata": {
    "scrolled": true
   },
   "outputs": [
    {
     "name": "stdout",
     "output_type": "stream",
     "text": [
      "Counter({'покупка': 10, 'недвижимость': 10, 'автомобиль': 9, 'образование': 9, 'жилье': 7, 'с': 5, 'операция': 4, 'на': 4, 'свой': 4, 'свадьба': 3, 'строительство': 3, 'получение': 3, 'высокий': 3, 'дополнительный': 2, 'для': 2, 'коммерческий': 2, 'жилой': 2, 'подержать': 2, 'заниматься': 2, 'сделка': 2, 'приобретение': 1, 'сыграть': 1, 'проведение': 1, 'семья': 1, 'собственный': 1, 'со': 1, 'профильный': 1, 'сдача': 1, 'ремонт': 1})\n"
     ]
    }
   ],
   "source": [
    "from collections import Counter\n",
    "print(Counter(lemmas))"
   ]
  },
  {
   "cell_type": "markdown",
   "metadata": {},
   "source": [
    "    Можно выделить несколько категорий: недвижимость/жилье, автомобиль, образование, свадьба, строительство. В топе также слово \"операция\", посмотрим, что за операции: \n",
    "    "
   ]
  },
  {
   "cell_type": "code",
   "execution_count": 101,
   "metadata": {
    "scrolled": true
   },
   "outputs": [
    {
     "name": "stdout",
     "output_type": "stream",
     "text": [
      "['операции с жильем' 'операции с коммерческой недвижимостью'\n",
      " 'операции со своей недвижимостью' 'операции с недвижимостью']\n"
     ]
    }
   ],
   "source": [
    "list = pd.Series(df['purpose'])\n",
    "# print(list)\n",
    "print(list[list.str.contains('операц')].unique())"
   ]
  },
  {
   "cell_type": "markdown",
   "metadata": {},
   "source": [
    "Как видно, тут слово операция - это не про врачей и больницы, а про недвижимость. Отдельная категория для операций не нужна."
   ]
  },
  {
   "cell_type": "markdown",
   "metadata": {},
   "source": [
    "Првоерим также строительство:"
   ]
  },
  {
   "cell_type": "code",
   "execution_count": 102,
   "metadata": {},
   "outputs": [
    {
     "name": "stdout",
     "output_type": "stream",
     "text": [
      "['строительство собственной недвижимости' 'строительство недвижимости'\n",
      " 'строительство жилой недвижимости']\n"
     ]
    }
   ],
   "source": [
    "list = pd.Series(df['purpose'])\n",
    "# print(list)\n",
    "print(list[list.str.contains('строит')].unique())"
   ]
  },
  {
   "cell_type": "markdown",
   "metadata": {},
   "source": [
    "А строительство относится к недвижимости. Посмотрим, что есть с недвижимостью:"
   ]
  },
  {
   "cell_type": "code",
   "execution_count": 103,
   "metadata": {},
   "outputs": [
    {
     "name": "stdout",
     "output_type": "stream",
     "text": [
      "['покупка недвижимости' 'покупка коммерческой недвижимости'\n",
      " 'покупка жилой недвижимости' 'строительство собственной недвижимости'\n",
      " 'недвижимость' 'строительство недвижимости'\n",
      " 'операции с коммерческой недвижимостью'\n",
      " 'строительство жилой недвижимости' 'операции со своей недвижимостью'\n",
      " 'операции с недвижимостью']\n"
     ]
    }
   ],
   "source": [
    "list = pd.Series(df['purpose'])\n",
    "# print(list)\n",
    "print(list[list.str.contains('недвижим')].unique())"
   ]
  },
  {
   "cell_type": "markdown",
   "metadata": {},
   "source": [
    "А недвижимость - это не всегда про жилую, поэтому будет 5 категорий: жилье, недвижимость, образование, автомобиль, свадьба."
   ]
  },
  {
   "cell_type": "markdown",
   "metadata": {},
   "source": [
    "Посчитали число упоминаний отдельных слов в целях получения кредита, выделали 5 категорий."
   ]
  },
  {
   "cell_type": "markdown",
   "metadata": {},
   "source": [
    "### Категоризация данных"
   ]
  },
  {
   "cell_type": "markdown",
   "metadata": {},
   "source": [
    "Напишем функцию для разделения на категории:"
   ]
  },
  {
   "cell_type": "code",
   "execution_count": 104,
   "metadata": {},
   "outputs": [],
   "source": [
    "def purpose_category(x):\n",
    "    if 'жил' in x:\n",
    "        return 'жилье'\n",
    "    elif 'авто' in x:\n",
    "        return 'автомобиль'\n",
    "    elif 'образов' in x:\n",
    "        return 'образование'\n",
    "    elif 'свадьб' in x:\n",
    "        return 'свадьба'\n",
    "    elif 'недвижим' in x:\n",
    "        return 'недвижимость'\n",
    "    else:\n",
    "        return 'другое'"
   ]
  },
  {
   "cell_type": "markdown",
   "metadata": {},
   "source": [
    "Добавим отдельную колонку с категориями:"
   ]
  },
  {
   "cell_type": "code",
   "execution_count": 105,
   "metadata": {
    "scrolled": false
   },
   "outputs": [
    {
     "data": {
      "text/html": [
       "<div>\n",
       "<style scoped>\n",
       "    .dataframe tbody tr th:only-of-type {\n",
       "        vertical-align: middle;\n",
       "    }\n",
       "\n",
       "    .dataframe tbody tr th {\n",
       "        vertical-align: top;\n",
       "    }\n",
       "\n",
       "    .dataframe thead th {\n",
       "        text-align: right;\n",
       "    }\n",
       "</style>\n",
       "<table border=\"1\" class=\"dataframe\">\n",
       "  <thead>\n",
       "    <tr style=\"text-align: right;\">\n",
       "      <th></th>\n",
       "      <th>children</th>\n",
       "      <th>days_employed</th>\n",
       "      <th>dob_years</th>\n",
       "      <th>education</th>\n",
       "      <th>education_id</th>\n",
       "      <th>family_status</th>\n",
       "      <th>family_status_id</th>\n",
       "      <th>gender</th>\n",
       "      <th>income_type</th>\n",
       "      <th>debt</th>\n",
       "      <th>total_income</th>\n",
       "      <th>purpose</th>\n",
       "      <th>purpose_category</th>\n",
       "    </tr>\n",
       "  </thead>\n",
       "  <tbody>\n",
       "    <tr>\n",
       "      <td>0</td>\n",
       "      <td>1</td>\n",
       "      <td>8437</td>\n",
       "      <td>42.0</td>\n",
       "      <td>высшее</td>\n",
       "      <td>0</td>\n",
       "      <td>женат / замужем</td>\n",
       "      <td>0</td>\n",
       "      <td>F</td>\n",
       "      <td>сотрудник</td>\n",
       "      <td>0</td>\n",
       "      <td>253875</td>\n",
       "      <td>покупка жилья</td>\n",
       "      <td>жилье</td>\n",
       "    </tr>\n",
       "    <tr>\n",
       "      <td>1</td>\n",
       "      <td>1</td>\n",
       "      <td>4024</td>\n",
       "      <td>36.0</td>\n",
       "      <td>среднее</td>\n",
       "      <td>1</td>\n",
       "      <td>женат / замужем</td>\n",
       "      <td>0</td>\n",
       "      <td>F</td>\n",
       "      <td>сотрудник</td>\n",
       "      <td>0</td>\n",
       "      <td>112080</td>\n",
       "      <td>приобретение автомобиля</td>\n",
       "      <td>автомобиль</td>\n",
       "    </tr>\n",
       "    <tr>\n",
       "      <td>2</td>\n",
       "      <td>0</td>\n",
       "      <td>5623</td>\n",
       "      <td>33.0</td>\n",
       "      <td>среднее</td>\n",
       "      <td>1</td>\n",
       "      <td>женат / замужем</td>\n",
       "      <td>0</td>\n",
       "      <td>M</td>\n",
       "      <td>сотрудник</td>\n",
       "      <td>0</td>\n",
       "      <td>145885</td>\n",
       "      <td>покупка жилья</td>\n",
       "      <td>жилье</td>\n",
       "    </tr>\n",
       "    <tr>\n",
       "      <td>3</td>\n",
       "      <td>3</td>\n",
       "      <td>4124</td>\n",
       "      <td>32.0</td>\n",
       "      <td>среднее</td>\n",
       "      <td>1</td>\n",
       "      <td>женат / замужем</td>\n",
       "      <td>0</td>\n",
       "      <td>M</td>\n",
       "      <td>сотрудник</td>\n",
       "      <td>0</td>\n",
       "      <td>267628</td>\n",
       "      <td>дополнительное образование</td>\n",
       "      <td>образование</td>\n",
       "    </tr>\n",
       "    <tr>\n",
       "      <td>4</td>\n",
       "      <td>0</td>\n",
       "      <td>14177</td>\n",
       "      <td>53.0</td>\n",
       "      <td>среднее</td>\n",
       "      <td>1</td>\n",
       "      <td>гражданский брак</td>\n",
       "      <td>1</td>\n",
       "      <td>F</td>\n",
       "      <td>пенсионер</td>\n",
       "      <td>0</td>\n",
       "      <td>158616</td>\n",
       "      <td>сыграть свадьбу</td>\n",
       "      <td>свадьба</td>\n",
       "    </tr>\n",
       "    <tr>\n",
       "      <td>...</td>\n",
       "      <td>...</td>\n",
       "      <td>...</td>\n",
       "      <td>...</td>\n",
       "      <td>...</td>\n",
       "      <td>...</td>\n",
       "      <td>...</td>\n",
       "      <td>...</td>\n",
       "      <td>...</td>\n",
       "      <td>...</td>\n",
       "      <td>...</td>\n",
       "      <td>...</td>\n",
       "      <td>...</td>\n",
       "      <td>...</td>\n",
       "    </tr>\n",
       "    <tr>\n",
       "      <td>21447</td>\n",
       "      <td>1</td>\n",
       "      <td>4529</td>\n",
       "      <td>43.0</td>\n",
       "      <td>среднее</td>\n",
       "      <td>1</td>\n",
       "      <td>гражданский брак</td>\n",
       "      <td>1</td>\n",
       "      <td>F</td>\n",
       "      <td>компаньон</td>\n",
       "      <td>0</td>\n",
       "      <td>224791</td>\n",
       "      <td>операции с жильем</td>\n",
       "      <td>жилье</td>\n",
       "    </tr>\n",
       "    <tr>\n",
       "      <td>21448</td>\n",
       "      <td>0</td>\n",
       "      <td>14330</td>\n",
       "      <td>67.0</td>\n",
       "      <td>среднее</td>\n",
       "      <td>1</td>\n",
       "      <td>женат / замужем</td>\n",
       "      <td>0</td>\n",
       "      <td>F</td>\n",
       "      <td>пенсионер</td>\n",
       "      <td>0</td>\n",
       "      <td>155999</td>\n",
       "      <td>сделка с автомобилем</td>\n",
       "      <td>автомобиль</td>\n",
       "    </tr>\n",
       "    <tr>\n",
       "      <td>21449</td>\n",
       "      <td>1</td>\n",
       "      <td>2113</td>\n",
       "      <td>38.0</td>\n",
       "      <td>среднее</td>\n",
       "      <td>1</td>\n",
       "      <td>гражданский брак</td>\n",
       "      <td>1</td>\n",
       "      <td>M</td>\n",
       "      <td>сотрудник</td>\n",
       "      <td>1</td>\n",
       "      <td>89672</td>\n",
       "      <td>недвижимость</td>\n",
       "      <td>недвижимость</td>\n",
       "    </tr>\n",
       "    <tr>\n",
       "      <td>21450</td>\n",
       "      <td>3</td>\n",
       "      <td>3112</td>\n",
       "      <td>38.0</td>\n",
       "      <td>среднее</td>\n",
       "      <td>1</td>\n",
       "      <td>женат / замужем</td>\n",
       "      <td>0</td>\n",
       "      <td>M</td>\n",
       "      <td>сотрудник</td>\n",
       "      <td>1</td>\n",
       "      <td>244093</td>\n",
       "      <td>на покупку своего автомобиля</td>\n",
       "      <td>автомобиль</td>\n",
       "    </tr>\n",
       "    <tr>\n",
       "      <td>21451</td>\n",
       "      <td>2</td>\n",
       "      <td>1984</td>\n",
       "      <td>40.0</td>\n",
       "      <td>среднее</td>\n",
       "      <td>1</td>\n",
       "      <td>женат / замужем</td>\n",
       "      <td>0</td>\n",
       "      <td>F</td>\n",
       "      <td>сотрудник</td>\n",
       "      <td>0</td>\n",
       "      <td>82047</td>\n",
       "      <td>на покупку автомобиля</td>\n",
       "      <td>автомобиль</td>\n",
       "    </tr>\n",
       "  </tbody>\n",
       "</table>\n",
       "<p>21452 rows × 13 columns</p>\n",
       "</div>"
      ],
      "text/plain": [
       "       children  days_employed  dob_years education  education_id  \\\n",
       "0             1           8437       42.0    высшее             0   \n",
       "1             1           4024       36.0   среднее             1   \n",
       "2             0           5623       33.0   среднее             1   \n",
       "3             3           4124       32.0   среднее             1   \n",
       "4             0          14177       53.0   среднее             1   \n",
       "...         ...            ...        ...       ...           ...   \n",
       "21447         1           4529       43.0   среднее             1   \n",
       "21448         0          14330       67.0   среднее             1   \n",
       "21449         1           2113       38.0   среднее             1   \n",
       "21450         3           3112       38.0   среднее             1   \n",
       "21451         2           1984       40.0   среднее             1   \n",
       "\n",
       "          family_status  family_status_id gender income_type  debt  \\\n",
       "0       женат / замужем                 0      F   сотрудник     0   \n",
       "1       женат / замужем                 0      F   сотрудник     0   \n",
       "2       женат / замужем                 0      M   сотрудник     0   \n",
       "3       женат / замужем                 0      M   сотрудник     0   \n",
       "4      гражданский брак                 1      F   пенсионер     0   \n",
       "...                 ...               ...    ...         ...   ...   \n",
       "21447  гражданский брак                 1      F   компаньон     0   \n",
       "21448   женат / замужем                 0      F   пенсионер     0   \n",
       "21449  гражданский брак                 1      M   сотрудник     1   \n",
       "21450   женат / замужем                 0      M   сотрудник     1   \n",
       "21451   женат / замужем                 0      F   сотрудник     0   \n",
       "\n",
       "       total_income                       purpose purpose_category  \n",
       "0            253875                 покупка жилья            жилье  \n",
       "1            112080       приобретение автомобиля       автомобиль  \n",
       "2            145885                 покупка жилья            жилье  \n",
       "3            267628    дополнительное образование      образование  \n",
       "4            158616               сыграть свадьбу          свадьба  \n",
       "...             ...                           ...              ...  \n",
       "21447        224791             операции с жильем            жилье  \n",
       "21448        155999          сделка с автомобилем       автомобиль  \n",
       "21449         89672                  недвижимость     недвижимость  \n",
       "21450        244093  на покупку своего автомобиля       автомобиль  \n",
       "21451         82047         на покупку автомобиля       автомобиль  \n",
       "\n",
       "[21452 rows x 13 columns]"
      ]
     },
     "execution_count": 105,
     "metadata": {},
     "output_type": "execute_result"
    }
   ],
   "source": [
    "df['purpose_category'] = df['purpose'].apply(lambda x: purpose_category(x))\n",
    "df\n",
    "# df[df['purpose_category'] == 'другое']['purpose_category'].count()"
   ]
  },
  {
   "cell_type": "markdown",
   "metadata": {},
   "source": [
    "Проверим, к какой категории относится \"покупка жилой недвижимости\" и \"покупка коммерческой недвижимости\":"
   ]
  },
  {
   "cell_type": "code",
   "execution_count": 106,
   "metadata": {
    "scrolled": true
   },
   "outputs": [
    {
     "data": {
      "text/html": [
       "<div>\n",
       "<style scoped>\n",
       "    .dataframe tbody tr th:only-of-type {\n",
       "        vertical-align: middle;\n",
       "    }\n",
       "\n",
       "    .dataframe tbody tr th {\n",
       "        vertical-align: top;\n",
       "    }\n",
       "\n",
       "    .dataframe thead th {\n",
       "        text-align: right;\n",
       "    }\n",
       "</style>\n",
       "<table border=\"1\" class=\"dataframe\">\n",
       "  <thead>\n",
       "    <tr style=\"text-align: right;\">\n",
       "      <th></th>\n",
       "      <th>children</th>\n",
       "      <th>days_employed</th>\n",
       "      <th>dob_years</th>\n",
       "      <th>education</th>\n",
       "      <th>education_id</th>\n",
       "      <th>family_status</th>\n",
       "      <th>family_status_id</th>\n",
       "      <th>gender</th>\n",
       "      <th>income_type</th>\n",
       "      <th>debt</th>\n",
       "      <th>total_income</th>\n",
       "      <th>purpose</th>\n",
       "      <th>purpose_category</th>\n",
       "    </tr>\n",
       "  </thead>\n",
       "  <tbody>\n",
       "    <tr>\n",
       "      <td>14</td>\n",
       "      <td>0</td>\n",
       "      <td>1844</td>\n",
       "      <td>56.0</td>\n",
       "      <td>высшее</td>\n",
       "      <td>0</td>\n",
       "      <td>гражданский брак</td>\n",
       "      <td>1</td>\n",
       "      <td>F</td>\n",
       "      <td>компаньон</td>\n",
       "      <td>1</td>\n",
       "      <td>165127</td>\n",
       "      <td>покупка жилой недвижимости</td>\n",
       "      <td>жилье</td>\n",
       "    </tr>\n",
       "    <tr>\n",
       "      <td>96</td>\n",
       "      <td>0</td>\n",
       "      <td>1574</td>\n",
       "      <td>44.0</td>\n",
       "      <td>среднее</td>\n",
       "      <td>1</td>\n",
       "      <td>женат / замужем</td>\n",
       "      <td>0</td>\n",
       "      <td>F</td>\n",
       "      <td>сотрудник</td>\n",
       "      <td>0</td>\n",
       "      <td>142594</td>\n",
       "      <td>покупка жилой недвижимости</td>\n",
       "      <td>жилье</td>\n",
       "    </tr>\n",
       "    <tr>\n",
       "      <td>116</td>\n",
       "      <td>1</td>\n",
       "      <td>540</td>\n",
       "      <td>50.0</td>\n",
       "      <td>среднее</td>\n",
       "      <td>1</td>\n",
       "      <td>женат / замужем</td>\n",
       "      <td>0</td>\n",
       "      <td>M</td>\n",
       "      <td>сотрудник</td>\n",
       "      <td>0</td>\n",
       "      <td>83366</td>\n",
       "      <td>покупка жилой недвижимости</td>\n",
       "      <td>жилье</td>\n",
       "    </tr>\n",
       "    <tr>\n",
       "      <td>134</td>\n",
       "      <td>1</td>\n",
       "      <td>4171</td>\n",
       "      <td>46.0</td>\n",
       "      <td>неоконченное высшее</td>\n",
       "      <td>2</td>\n",
       "      <td>в разводе</td>\n",
       "      <td>3</td>\n",
       "      <td>F</td>\n",
       "      <td>сотрудник</td>\n",
       "      <td>0</td>\n",
       "      <td>166015</td>\n",
       "      <td>покупка жилой недвижимости</td>\n",
       "      <td>жилье</td>\n",
       "    </tr>\n",
       "    <tr>\n",
       "      <td>201</td>\n",
       "      <td>0</td>\n",
       "      <td>6542</td>\n",
       "      <td>39.0</td>\n",
       "      <td>среднее</td>\n",
       "      <td>1</td>\n",
       "      <td>женат / замужем</td>\n",
       "      <td>0</td>\n",
       "      <td>F</td>\n",
       "      <td>компаньон</td>\n",
       "      <td>0</td>\n",
       "      <td>86996</td>\n",
       "      <td>покупка жилой недвижимости</td>\n",
       "      <td>жилье</td>\n",
       "    </tr>\n",
       "    <tr>\n",
       "      <td>...</td>\n",
       "      <td>...</td>\n",
       "      <td>...</td>\n",
       "      <td>...</td>\n",
       "      <td>...</td>\n",
       "      <td>...</td>\n",
       "      <td>...</td>\n",
       "      <td>...</td>\n",
       "      <td>...</td>\n",
       "      <td>...</td>\n",
       "      <td>...</td>\n",
       "      <td>...</td>\n",
       "      <td>...</td>\n",
       "      <td>...</td>\n",
       "    </tr>\n",
       "    <tr>\n",
       "      <td>21300</td>\n",
       "      <td>0</td>\n",
       "      <td>14632</td>\n",
       "      <td>57.0</td>\n",
       "      <td>среднее</td>\n",
       "      <td>1</td>\n",
       "      <td>женат / замужем</td>\n",
       "      <td>0</td>\n",
       "      <td>F</td>\n",
       "      <td>пенсионер</td>\n",
       "      <td>0</td>\n",
       "      <td>134910</td>\n",
       "      <td>покупка жилой недвижимости</td>\n",
       "      <td>жилье</td>\n",
       "    </tr>\n",
       "    <tr>\n",
       "      <td>21318</td>\n",
       "      <td>2</td>\n",
       "      <td>1547</td>\n",
       "      <td>53.0</td>\n",
       "      <td>среднее</td>\n",
       "      <td>1</td>\n",
       "      <td>женат / замужем</td>\n",
       "      <td>0</td>\n",
       "      <td>M</td>\n",
       "      <td>компаньон</td>\n",
       "      <td>0</td>\n",
       "      <td>172357</td>\n",
       "      <td>покупка жилой недвижимости</td>\n",
       "      <td>жилье</td>\n",
       "    </tr>\n",
       "    <tr>\n",
       "      <td>21347</td>\n",
       "      <td>1</td>\n",
       "      <td>108</td>\n",
       "      <td>40.0</td>\n",
       "      <td>среднее</td>\n",
       "      <td>1</td>\n",
       "      <td>женат / замужем</td>\n",
       "      <td>0</td>\n",
       "      <td>M</td>\n",
       "      <td>сотрудник</td>\n",
       "      <td>1</td>\n",
       "      <td>155849</td>\n",
       "      <td>покупка жилой недвижимости</td>\n",
       "      <td>жилье</td>\n",
       "    </tr>\n",
       "    <tr>\n",
       "      <td>21375</td>\n",
       "      <td>0</td>\n",
       "      <td>96</td>\n",
       "      <td>36.0</td>\n",
       "      <td>среднее</td>\n",
       "      <td>1</td>\n",
       "      <td>гражданский брак</td>\n",
       "      <td>1</td>\n",
       "      <td>F</td>\n",
       "      <td>компаньон</td>\n",
       "      <td>0</td>\n",
       "      <td>276254</td>\n",
       "      <td>покупка жилой недвижимости</td>\n",
       "      <td>жилье</td>\n",
       "    </tr>\n",
       "    <tr>\n",
       "      <td>21419</td>\n",
       "      <td>0</td>\n",
       "      <td>1618</td>\n",
       "      <td>54.0</td>\n",
       "      <td>среднее</td>\n",
       "      <td>1</td>\n",
       "      <td>женат / замужем</td>\n",
       "      <td>0</td>\n",
       "      <td>M</td>\n",
       "      <td>компаньон</td>\n",
       "      <td>0</td>\n",
       "      <td>295234</td>\n",
       "      <td>покупка жилой недвижимости</td>\n",
       "      <td>жилье</td>\n",
       "    </tr>\n",
       "  </tbody>\n",
       "</table>\n",
       "<p>606 rows × 13 columns</p>\n",
       "</div>"
      ],
      "text/plain": [
       "       children  days_employed  dob_years            education  education_id  \\\n",
       "14            0           1844       56.0               высшее             0   \n",
       "96            0           1574       44.0              среднее             1   \n",
       "116           1            540       50.0              среднее             1   \n",
       "134           1           4171       46.0  неоконченное высшее             2   \n",
       "201           0           6542       39.0              среднее             1   \n",
       "...         ...            ...        ...                  ...           ...   \n",
       "21300         0          14632       57.0              среднее             1   \n",
       "21318         2           1547       53.0              среднее             1   \n",
       "21347         1            108       40.0              среднее             1   \n",
       "21375         0             96       36.0              среднее             1   \n",
       "21419         0           1618       54.0              среднее             1   \n",
       "\n",
       "          family_status  family_status_id gender income_type  debt  \\\n",
       "14     гражданский брак                 1      F   компаньон     1   \n",
       "96      женат / замужем                 0      F   сотрудник     0   \n",
       "116     женат / замужем                 0      M   сотрудник     0   \n",
       "134           в разводе                 3      F   сотрудник     0   \n",
       "201     женат / замужем                 0      F   компаньон     0   \n",
       "...                 ...               ...    ...         ...   ...   \n",
       "21300   женат / замужем                 0      F   пенсионер     0   \n",
       "21318   женат / замужем                 0      M   компаньон     0   \n",
       "21347   женат / замужем                 0      M   сотрудник     1   \n",
       "21375  гражданский брак                 1      F   компаньон     0   \n",
       "21419   женат / замужем                 0      M   компаньон     0   \n",
       "\n",
       "       total_income                     purpose purpose_category  \n",
       "14           165127  покупка жилой недвижимости            жилье  \n",
       "96           142594  покупка жилой недвижимости            жилье  \n",
       "116           83366  покупка жилой недвижимости            жилье  \n",
       "134          166015  покупка жилой недвижимости            жилье  \n",
       "201           86996  покупка жилой недвижимости            жилье  \n",
       "...             ...                         ...              ...  \n",
       "21300        134910  покупка жилой недвижимости            жилье  \n",
       "21318        172357  покупка жилой недвижимости            жилье  \n",
       "21347        155849  покупка жилой недвижимости            жилье  \n",
       "21375        276254  покупка жилой недвижимости            жилье  \n",
       "21419        295234  покупка жилой недвижимости            жилье  \n",
       "\n",
       "[606 rows x 13 columns]"
      ]
     },
     "execution_count": 106,
     "metadata": {},
     "output_type": "execute_result"
    }
   ],
   "source": [
    "df[df['purpose'] == 'покупка жилой недвижимости']"
   ]
  },
  {
   "cell_type": "code",
   "execution_count": 107,
   "metadata": {},
   "outputs": [
    {
     "data": {
      "text/html": [
       "<div>\n",
       "<style scoped>\n",
       "    .dataframe tbody tr th:only-of-type {\n",
       "        vertical-align: middle;\n",
       "    }\n",
       "\n",
       "    .dataframe tbody tr th {\n",
       "        vertical-align: top;\n",
       "    }\n",
       "\n",
       "    .dataframe thead th {\n",
       "        text-align: right;\n",
       "    }\n",
       "</style>\n",
       "<table border=\"1\" class=\"dataframe\">\n",
       "  <thead>\n",
       "    <tr style=\"text-align: right;\">\n",
       "      <th></th>\n",
       "      <th>children</th>\n",
       "      <th>days_employed</th>\n",
       "      <th>dob_years</th>\n",
       "      <th>education</th>\n",
       "      <th>education_id</th>\n",
       "      <th>family_status</th>\n",
       "      <th>family_status_id</th>\n",
       "      <th>gender</th>\n",
       "      <th>income_type</th>\n",
       "      <th>debt</th>\n",
       "      <th>total_income</th>\n",
       "      <th>purpose</th>\n",
       "      <th>purpose_category</th>\n",
       "    </tr>\n",
       "  </thead>\n",
       "  <tbody>\n",
       "    <tr>\n",
       "      <td>11</td>\n",
       "      <td>0</td>\n",
       "      <td>792</td>\n",
       "      <td>40.0</td>\n",
       "      <td>среднее</td>\n",
       "      <td>1</td>\n",
       "      <td>женат / замужем</td>\n",
       "      <td>0</td>\n",
       "      <td>F</td>\n",
       "      <td>сотрудник</td>\n",
       "      <td>0</td>\n",
       "      <td>77069</td>\n",
       "      <td>покупка коммерческой недвижимости</td>\n",
       "      <td>недвижимость</td>\n",
       "    </tr>\n",
       "    <tr>\n",
       "      <td>70</td>\n",
       "      <td>1</td>\n",
       "      <td>2802</td>\n",
       "      <td>28.0</td>\n",
       "      <td>высшее</td>\n",
       "      <td>0</td>\n",
       "      <td>женат / замужем</td>\n",
       "      <td>0</td>\n",
       "      <td>M</td>\n",
       "      <td>госслужащий</td>\n",
       "      <td>0</td>\n",
       "      <td>207561</td>\n",
       "      <td>покупка коммерческой недвижимости</td>\n",
       "      <td>недвижимость</td>\n",
       "    </tr>\n",
       "    <tr>\n",
       "      <td>119</td>\n",
       "      <td>0</td>\n",
       "      <td>15924</td>\n",
       "      <td>60.0</td>\n",
       "      <td>среднее</td>\n",
       "      <td>1</td>\n",
       "      <td>Не женат / не замужем</td>\n",
       "      <td>4</td>\n",
       "      <td>F</td>\n",
       "      <td>пенсионер</td>\n",
       "      <td>0</td>\n",
       "      <td>31534</td>\n",
       "      <td>покупка коммерческой недвижимости</td>\n",
       "      <td>недвижимость</td>\n",
       "    </tr>\n",
       "    <tr>\n",
       "      <td>140</td>\n",
       "      <td>0</td>\n",
       "      <td>3017</td>\n",
       "      <td>24.0</td>\n",
       "      <td>среднее</td>\n",
       "      <td>1</td>\n",
       "      <td>гражданский брак</td>\n",
       "      <td>1</td>\n",
       "      <td>F</td>\n",
       "      <td>сотрудник</td>\n",
       "      <td>0</td>\n",
       "      <td>102110</td>\n",
       "      <td>покупка коммерческой недвижимости</td>\n",
       "      <td>недвижимость</td>\n",
       "    </tr>\n",
       "    <tr>\n",
       "      <td>173</td>\n",
       "      <td>0</td>\n",
       "      <td>9099</td>\n",
       "      <td>49.0</td>\n",
       "      <td>среднее</td>\n",
       "      <td>1</td>\n",
       "      <td>женат / замужем</td>\n",
       "      <td>0</td>\n",
       "      <td>M</td>\n",
       "      <td>компаньон</td>\n",
       "      <td>0</td>\n",
       "      <td>416461</td>\n",
       "      <td>покупка коммерческой недвижимости</td>\n",
       "      <td>недвижимость</td>\n",
       "    </tr>\n",
       "    <tr>\n",
       "      <td>...</td>\n",
       "      <td>...</td>\n",
       "      <td>...</td>\n",
       "      <td>...</td>\n",
       "      <td>...</td>\n",
       "      <td>...</td>\n",
       "      <td>...</td>\n",
       "      <td>...</td>\n",
       "      <td>...</td>\n",
       "      <td>...</td>\n",
       "      <td>...</td>\n",
       "      <td>...</td>\n",
       "      <td>...</td>\n",
       "      <td>...</td>\n",
       "    </tr>\n",
       "    <tr>\n",
       "      <td>21258</td>\n",
       "      <td>1</td>\n",
       "      <td>1375</td>\n",
       "      <td>23.0</td>\n",
       "      <td>среднее</td>\n",
       "      <td>1</td>\n",
       "      <td>Не женат / не замужем</td>\n",
       "      <td>4</td>\n",
       "      <td>F</td>\n",
       "      <td>сотрудник</td>\n",
       "      <td>0</td>\n",
       "      <td>93200</td>\n",
       "      <td>покупка коммерческой недвижимости</td>\n",
       "      <td>недвижимость</td>\n",
       "    </tr>\n",
       "    <tr>\n",
       "      <td>21336</td>\n",
       "      <td>0</td>\n",
       "      <td>9416</td>\n",
       "      <td>48.0</td>\n",
       "      <td>среднее</td>\n",
       "      <td>1</td>\n",
       "      <td>Не женат / не замужем</td>\n",
       "      <td>4</td>\n",
       "      <td>F</td>\n",
       "      <td>сотрудник</td>\n",
       "      <td>0</td>\n",
       "      <td>219716</td>\n",
       "      <td>покупка коммерческой недвижимости</td>\n",
       "      <td>недвижимость</td>\n",
       "    </tr>\n",
       "    <tr>\n",
       "      <td>21365</td>\n",
       "      <td>0</td>\n",
       "      <td>5435</td>\n",
       "      <td>50.0</td>\n",
       "      <td>среднее</td>\n",
       "      <td>1</td>\n",
       "      <td>женат / замужем</td>\n",
       "      <td>0</td>\n",
       "      <td>M</td>\n",
       "      <td>сотрудник</td>\n",
       "      <td>0</td>\n",
       "      <td>173366</td>\n",
       "      <td>покупка коммерческой недвижимости</td>\n",
       "      <td>недвижимость</td>\n",
       "    </tr>\n",
       "    <tr>\n",
       "      <td>21384</td>\n",
       "      <td>0</td>\n",
       "      <td>448</td>\n",
       "      <td>49.0</td>\n",
       "      <td>среднее</td>\n",
       "      <td>1</td>\n",
       "      <td>женат / замужем</td>\n",
       "      <td>0</td>\n",
       "      <td>F</td>\n",
       "      <td>сотрудник</td>\n",
       "      <td>1</td>\n",
       "      <td>156320</td>\n",
       "      <td>покупка коммерческой недвижимости</td>\n",
       "      <td>недвижимость</td>\n",
       "    </tr>\n",
       "    <tr>\n",
       "      <td>21446</td>\n",
       "      <td>1</td>\n",
       "      <td>2351</td>\n",
       "      <td>37.0</td>\n",
       "      <td>ученая степень</td>\n",
       "      <td>4</td>\n",
       "      <td>в разводе</td>\n",
       "      <td>3</td>\n",
       "      <td>M</td>\n",
       "      <td>сотрудник</td>\n",
       "      <td>0</td>\n",
       "      <td>115949</td>\n",
       "      <td>покупка коммерческой недвижимости</td>\n",
       "      <td>недвижимость</td>\n",
       "    </tr>\n",
       "  </tbody>\n",
       "</table>\n",
       "<p>661 rows × 13 columns</p>\n",
       "</div>"
      ],
      "text/plain": [
       "       children  days_employed  dob_years       education  education_id  \\\n",
       "11            0            792       40.0         среднее             1   \n",
       "70            1           2802       28.0          высшее             0   \n",
       "119           0          15924       60.0         среднее             1   \n",
       "140           0           3017       24.0         среднее             1   \n",
       "173           0           9099       49.0         среднее             1   \n",
       "...         ...            ...        ...             ...           ...   \n",
       "21258         1           1375       23.0         среднее             1   \n",
       "21336         0           9416       48.0         среднее             1   \n",
       "21365         0           5435       50.0         среднее             1   \n",
       "21384         0            448       49.0         среднее             1   \n",
       "21446         1           2351       37.0  ученая степень             4   \n",
       "\n",
       "               family_status  family_status_id gender  income_type  debt  \\\n",
       "11           женат / замужем                 0      F    сотрудник     0   \n",
       "70           женат / замужем                 0      M  госслужащий     0   \n",
       "119    Не женат / не замужем                 4      F    пенсионер     0   \n",
       "140         гражданский брак                 1      F    сотрудник     0   \n",
       "173          женат / замужем                 0      M    компаньон     0   \n",
       "...                      ...               ...    ...          ...   ...   \n",
       "21258  Не женат / не замужем                 4      F    сотрудник     0   \n",
       "21336  Не женат / не замужем                 4      F    сотрудник     0   \n",
       "21365        женат / замужем                 0      M    сотрудник     0   \n",
       "21384        женат / замужем                 0      F    сотрудник     1   \n",
       "21446              в разводе                 3      M    сотрудник     0   \n",
       "\n",
       "       total_income                            purpose purpose_category  \n",
       "11            77069  покупка коммерческой недвижимости     недвижимость  \n",
       "70           207561  покупка коммерческой недвижимости     недвижимость  \n",
       "119           31534  покупка коммерческой недвижимости     недвижимость  \n",
       "140          102110  покупка коммерческой недвижимости     недвижимость  \n",
       "173          416461  покупка коммерческой недвижимости     недвижимость  \n",
       "...             ...                                ...              ...  \n",
       "21258         93200  покупка коммерческой недвижимости     недвижимость  \n",
       "21336        219716  покупка коммерческой недвижимости     недвижимость  \n",
       "21365        173366  покупка коммерческой недвижимости     недвижимость  \n",
       "21384        156320  покупка коммерческой недвижимости     недвижимость  \n",
       "21446        115949  покупка коммерческой недвижимости     недвижимость  \n",
       "\n",
       "[661 rows x 13 columns]"
      ]
     },
     "execution_count": 107,
     "metadata": {},
     "output_type": "execute_result"
    }
   ],
   "source": [
    "df[df['purpose'] == 'покупка коммерческой недвижимости']"
   ]
  },
  {
   "cell_type": "markdown",
   "metadata": {},
   "source": [
    "Цели поделены на категории"
   ]
  },
  {
   "cell_type": "markdown",
   "metadata": {},
   "source": [
    "Добавим столбец есть дети/нет детей:"
   ]
  },
  {
   "cell_type": "code",
   "execution_count": 108,
   "metadata": {},
   "outputs": [],
   "source": [
    "df['have_children'] = df['children'].apply(lambda x: 1 if x > 0 else 0)"
   ]
  },
  {
   "cell_type": "markdown",
   "metadata": {},
   "source": [
    "Проверяем:"
   ]
  },
  {
   "cell_type": "code",
   "execution_count": 109,
   "metadata": {},
   "outputs": [
    {
     "data": {
      "text/html": [
       "<div>\n",
       "<style scoped>\n",
       "    .dataframe tbody tr th:only-of-type {\n",
       "        vertical-align: middle;\n",
       "    }\n",
       "\n",
       "    .dataframe tbody tr th {\n",
       "        vertical-align: top;\n",
       "    }\n",
       "\n",
       "    .dataframe thead th {\n",
       "        text-align: right;\n",
       "    }\n",
       "</style>\n",
       "<table border=\"1\" class=\"dataframe\">\n",
       "  <thead>\n",
       "    <tr style=\"text-align: right;\">\n",
       "      <th></th>\n",
       "      <th>children</th>\n",
       "      <th>days_employed</th>\n",
       "      <th>dob_years</th>\n",
       "      <th>education</th>\n",
       "      <th>education_id</th>\n",
       "      <th>family_status</th>\n",
       "      <th>family_status_id</th>\n",
       "      <th>gender</th>\n",
       "      <th>income_type</th>\n",
       "      <th>debt</th>\n",
       "      <th>total_income</th>\n",
       "      <th>purpose</th>\n",
       "      <th>purpose_category</th>\n",
       "      <th>have_children</th>\n",
       "    </tr>\n",
       "  </thead>\n",
       "  <tbody>\n",
       "    <tr>\n",
       "      <td>0</td>\n",
       "      <td>1</td>\n",
       "      <td>8437</td>\n",
       "      <td>42.0</td>\n",
       "      <td>высшее</td>\n",
       "      <td>0</td>\n",
       "      <td>женат / замужем</td>\n",
       "      <td>0</td>\n",
       "      <td>F</td>\n",
       "      <td>сотрудник</td>\n",
       "      <td>0</td>\n",
       "      <td>253875</td>\n",
       "      <td>покупка жилья</td>\n",
       "      <td>жилье</td>\n",
       "      <td>1</td>\n",
       "    </tr>\n",
       "    <tr>\n",
       "      <td>1</td>\n",
       "      <td>1</td>\n",
       "      <td>4024</td>\n",
       "      <td>36.0</td>\n",
       "      <td>среднее</td>\n",
       "      <td>1</td>\n",
       "      <td>женат / замужем</td>\n",
       "      <td>0</td>\n",
       "      <td>F</td>\n",
       "      <td>сотрудник</td>\n",
       "      <td>0</td>\n",
       "      <td>112080</td>\n",
       "      <td>приобретение автомобиля</td>\n",
       "      <td>автомобиль</td>\n",
       "      <td>1</td>\n",
       "    </tr>\n",
       "    <tr>\n",
       "      <td>2</td>\n",
       "      <td>0</td>\n",
       "      <td>5623</td>\n",
       "      <td>33.0</td>\n",
       "      <td>среднее</td>\n",
       "      <td>1</td>\n",
       "      <td>женат / замужем</td>\n",
       "      <td>0</td>\n",
       "      <td>M</td>\n",
       "      <td>сотрудник</td>\n",
       "      <td>0</td>\n",
       "      <td>145885</td>\n",
       "      <td>покупка жилья</td>\n",
       "      <td>жилье</td>\n",
       "      <td>0</td>\n",
       "    </tr>\n",
       "    <tr>\n",
       "      <td>3</td>\n",
       "      <td>3</td>\n",
       "      <td>4124</td>\n",
       "      <td>32.0</td>\n",
       "      <td>среднее</td>\n",
       "      <td>1</td>\n",
       "      <td>женат / замужем</td>\n",
       "      <td>0</td>\n",
       "      <td>M</td>\n",
       "      <td>сотрудник</td>\n",
       "      <td>0</td>\n",
       "      <td>267628</td>\n",
       "      <td>дополнительное образование</td>\n",
       "      <td>образование</td>\n",
       "      <td>1</td>\n",
       "    </tr>\n",
       "    <tr>\n",
       "      <td>4</td>\n",
       "      <td>0</td>\n",
       "      <td>14177</td>\n",
       "      <td>53.0</td>\n",
       "      <td>среднее</td>\n",
       "      <td>1</td>\n",
       "      <td>гражданский брак</td>\n",
       "      <td>1</td>\n",
       "      <td>F</td>\n",
       "      <td>пенсионер</td>\n",
       "      <td>0</td>\n",
       "      <td>158616</td>\n",
       "      <td>сыграть свадьбу</td>\n",
       "      <td>свадьба</td>\n",
       "      <td>0</td>\n",
       "    </tr>\n",
       "    <tr>\n",
       "      <td>...</td>\n",
       "      <td>...</td>\n",
       "      <td>...</td>\n",
       "      <td>...</td>\n",
       "      <td>...</td>\n",
       "      <td>...</td>\n",
       "      <td>...</td>\n",
       "      <td>...</td>\n",
       "      <td>...</td>\n",
       "      <td>...</td>\n",
       "      <td>...</td>\n",
       "      <td>...</td>\n",
       "      <td>...</td>\n",
       "      <td>...</td>\n",
       "      <td>...</td>\n",
       "    </tr>\n",
       "    <tr>\n",
       "      <td>21447</td>\n",
       "      <td>1</td>\n",
       "      <td>4529</td>\n",
       "      <td>43.0</td>\n",
       "      <td>среднее</td>\n",
       "      <td>1</td>\n",
       "      <td>гражданский брак</td>\n",
       "      <td>1</td>\n",
       "      <td>F</td>\n",
       "      <td>компаньон</td>\n",
       "      <td>0</td>\n",
       "      <td>224791</td>\n",
       "      <td>операции с жильем</td>\n",
       "      <td>жилье</td>\n",
       "      <td>1</td>\n",
       "    </tr>\n",
       "    <tr>\n",
       "      <td>21448</td>\n",
       "      <td>0</td>\n",
       "      <td>14330</td>\n",
       "      <td>67.0</td>\n",
       "      <td>среднее</td>\n",
       "      <td>1</td>\n",
       "      <td>женат / замужем</td>\n",
       "      <td>0</td>\n",
       "      <td>F</td>\n",
       "      <td>пенсионер</td>\n",
       "      <td>0</td>\n",
       "      <td>155999</td>\n",
       "      <td>сделка с автомобилем</td>\n",
       "      <td>автомобиль</td>\n",
       "      <td>0</td>\n",
       "    </tr>\n",
       "    <tr>\n",
       "      <td>21449</td>\n",
       "      <td>1</td>\n",
       "      <td>2113</td>\n",
       "      <td>38.0</td>\n",
       "      <td>среднее</td>\n",
       "      <td>1</td>\n",
       "      <td>гражданский брак</td>\n",
       "      <td>1</td>\n",
       "      <td>M</td>\n",
       "      <td>сотрудник</td>\n",
       "      <td>1</td>\n",
       "      <td>89672</td>\n",
       "      <td>недвижимость</td>\n",
       "      <td>недвижимость</td>\n",
       "      <td>1</td>\n",
       "    </tr>\n",
       "    <tr>\n",
       "      <td>21450</td>\n",
       "      <td>3</td>\n",
       "      <td>3112</td>\n",
       "      <td>38.0</td>\n",
       "      <td>среднее</td>\n",
       "      <td>1</td>\n",
       "      <td>женат / замужем</td>\n",
       "      <td>0</td>\n",
       "      <td>M</td>\n",
       "      <td>сотрудник</td>\n",
       "      <td>1</td>\n",
       "      <td>244093</td>\n",
       "      <td>на покупку своего автомобиля</td>\n",
       "      <td>автомобиль</td>\n",
       "      <td>1</td>\n",
       "    </tr>\n",
       "    <tr>\n",
       "      <td>21451</td>\n",
       "      <td>2</td>\n",
       "      <td>1984</td>\n",
       "      <td>40.0</td>\n",
       "      <td>среднее</td>\n",
       "      <td>1</td>\n",
       "      <td>женат / замужем</td>\n",
       "      <td>0</td>\n",
       "      <td>F</td>\n",
       "      <td>сотрудник</td>\n",
       "      <td>0</td>\n",
       "      <td>82047</td>\n",
       "      <td>на покупку автомобиля</td>\n",
       "      <td>автомобиль</td>\n",
       "      <td>1</td>\n",
       "    </tr>\n",
       "  </tbody>\n",
       "</table>\n",
       "<p>21452 rows × 14 columns</p>\n",
       "</div>"
      ],
      "text/plain": [
       "       children  days_employed  dob_years education  education_id  \\\n",
       "0             1           8437       42.0    высшее             0   \n",
       "1             1           4024       36.0   среднее             1   \n",
       "2             0           5623       33.0   среднее             1   \n",
       "3             3           4124       32.0   среднее             1   \n",
       "4             0          14177       53.0   среднее             1   \n",
       "...         ...            ...        ...       ...           ...   \n",
       "21447         1           4529       43.0   среднее             1   \n",
       "21448         0          14330       67.0   среднее             1   \n",
       "21449         1           2113       38.0   среднее             1   \n",
       "21450         3           3112       38.0   среднее             1   \n",
       "21451         2           1984       40.0   среднее             1   \n",
       "\n",
       "          family_status  family_status_id gender income_type  debt  \\\n",
       "0       женат / замужем                 0      F   сотрудник     0   \n",
       "1       женат / замужем                 0      F   сотрудник     0   \n",
       "2       женат / замужем                 0      M   сотрудник     0   \n",
       "3       женат / замужем                 0      M   сотрудник     0   \n",
       "4      гражданский брак                 1      F   пенсионер     0   \n",
       "...                 ...               ...    ...         ...   ...   \n",
       "21447  гражданский брак                 1      F   компаньон     0   \n",
       "21448   женат / замужем                 0      F   пенсионер     0   \n",
       "21449  гражданский брак                 1      M   сотрудник     1   \n",
       "21450   женат / замужем                 0      M   сотрудник     1   \n",
       "21451   женат / замужем                 0      F   сотрудник     0   \n",
       "\n",
       "       total_income                       purpose purpose_category  \\\n",
       "0            253875                 покупка жилья            жилье   \n",
       "1            112080       приобретение автомобиля       автомобиль   \n",
       "2            145885                 покупка жилья            жилье   \n",
       "3            267628    дополнительное образование      образование   \n",
       "4            158616               сыграть свадьбу          свадьба   \n",
       "...             ...                           ...              ...   \n",
       "21447        224791             операции с жильем            жилье   \n",
       "21448        155999          сделка с автомобилем       автомобиль   \n",
       "21449         89672                  недвижимость     недвижимость   \n",
       "21450        244093  на покупку своего автомобиля       автомобиль   \n",
       "21451         82047         на покупку автомобиля       автомобиль   \n",
       "\n",
       "       have_children  \n",
       "0                  1  \n",
       "1                  1  \n",
       "2                  0  \n",
       "3                  1  \n",
       "4                  0  \n",
       "...              ...  \n",
       "21447              1  \n",
       "21448              0  \n",
       "21449              1  \n",
       "21450              1  \n",
       "21451              1  \n",
       "\n",
       "[21452 rows x 14 columns]"
      ]
     },
     "execution_count": 109,
     "metadata": {},
     "output_type": "execute_result"
    }
   ],
   "source": [
    "df"
   ]
  },
  {
   "cell_type": "markdown",
   "metadata": {},
   "source": [
    "Теперь займемся доходом:"
   ]
  },
  {
   "cell_type": "code",
   "execution_count": 112,
   "metadata": {},
   "outputs": [
    {
     "data": {
      "text/plain": [
       "income_type\n",
       "безработный        131339\n",
       "в декрете           53829\n",
       "госслужащий        150447\n",
       "компаньон          172357\n",
       "пенсионер          118514\n",
       "предприниматель    499163\n",
       "сотрудник          142594\n",
       "студент             98201\n",
       "Name: total_income, dtype: int64"
      ]
     },
     "execution_count": 112,
     "metadata": {},
     "output_type": "execute_result"
    }
   ],
   "source": [
    "df.groupby('income_type')['total_income'].median()"
   ]
  },
  {
   "cell_type": "markdown",
   "metadata": {},
   "source": [
    "Посмотрели на медиану дохода по типу занятости, разделим всех на такие группы: 0 - 100 тысяч, 100 тысяч - 145 тысяч, 145 тыс - 200 тысяч и больше 200 тысяч: (т.е. в первую группу вероятнее всего попадут люди в декрете и студенты, во вторую - безработные, пенсионеры и сотрудники, в третью - госслужащие и компаньоны, и в четвертую - предприниматели)"
   ]
  },
  {
   "cell_type": "code",
   "execution_count": 113,
   "metadata": {},
   "outputs": [],
   "source": [
    "def income_type_group(x):\n",
    "    if x <= 100000:\n",
    "        return \"0 - 100 тысяч\"\n",
    "    elif 100000 < x <= 145000:\n",
    "        return \"100 - 145 тысяч\"\n",
    "    elif 145000 < x <= 200000:\n",
    "        return \"145 - 200 тысяч\"\n",
    "    else: \n",
    "        return \"больше 200 тысяч\""
   ]
  },
  {
   "cell_type": "code",
   "execution_count": 116,
   "metadata": {},
   "outputs": [],
   "source": [
    "df['total_income_group'] = df['total_income'].apply(income_type_group)"
   ]
  },
  {
   "cell_type": "code",
   "execution_count": 117,
   "metadata": {},
   "outputs": [
    {
     "data": {
      "text/html": [
       "<div>\n",
       "<style scoped>\n",
       "    .dataframe tbody tr th:only-of-type {\n",
       "        vertical-align: middle;\n",
       "    }\n",
       "\n",
       "    .dataframe tbody tr th {\n",
       "        vertical-align: top;\n",
       "    }\n",
       "\n",
       "    .dataframe thead th {\n",
       "        text-align: right;\n",
       "    }\n",
       "</style>\n",
       "<table border=\"1\" class=\"dataframe\">\n",
       "  <thead>\n",
       "    <tr style=\"text-align: right;\">\n",
       "      <th></th>\n",
       "      <th>children</th>\n",
       "      <th>days_employed</th>\n",
       "      <th>dob_years</th>\n",
       "      <th>education</th>\n",
       "      <th>education_id</th>\n",
       "      <th>family_status</th>\n",
       "      <th>family_status_id</th>\n",
       "      <th>gender</th>\n",
       "      <th>income_type</th>\n",
       "      <th>debt</th>\n",
       "      <th>total_income</th>\n",
       "      <th>purpose</th>\n",
       "      <th>purpose_category</th>\n",
       "      <th>have_children</th>\n",
       "      <th>total_income_group</th>\n",
       "    </tr>\n",
       "  </thead>\n",
       "  <tbody>\n",
       "    <tr>\n",
       "      <td>0</td>\n",
       "      <td>1</td>\n",
       "      <td>8437</td>\n",
       "      <td>42.0</td>\n",
       "      <td>высшее</td>\n",
       "      <td>0</td>\n",
       "      <td>женат / замужем</td>\n",
       "      <td>0</td>\n",
       "      <td>F</td>\n",
       "      <td>сотрудник</td>\n",
       "      <td>0</td>\n",
       "      <td>253875</td>\n",
       "      <td>покупка жилья</td>\n",
       "      <td>жилье</td>\n",
       "      <td>1</td>\n",
       "      <td>больше 200 тысяч</td>\n",
       "    </tr>\n",
       "    <tr>\n",
       "      <td>1</td>\n",
       "      <td>1</td>\n",
       "      <td>4024</td>\n",
       "      <td>36.0</td>\n",
       "      <td>среднее</td>\n",
       "      <td>1</td>\n",
       "      <td>женат / замужем</td>\n",
       "      <td>0</td>\n",
       "      <td>F</td>\n",
       "      <td>сотрудник</td>\n",
       "      <td>0</td>\n",
       "      <td>112080</td>\n",
       "      <td>приобретение автомобиля</td>\n",
       "      <td>автомобиль</td>\n",
       "      <td>1</td>\n",
       "      <td>100 - 145 тысяч</td>\n",
       "    </tr>\n",
       "    <tr>\n",
       "      <td>2</td>\n",
       "      <td>0</td>\n",
       "      <td>5623</td>\n",
       "      <td>33.0</td>\n",
       "      <td>среднее</td>\n",
       "      <td>1</td>\n",
       "      <td>женат / замужем</td>\n",
       "      <td>0</td>\n",
       "      <td>M</td>\n",
       "      <td>сотрудник</td>\n",
       "      <td>0</td>\n",
       "      <td>145885</td>\n",
       "      <td>покупка жилья</td>\n",
       "      <td>жилье</td>\n",
       "      <td>0</td>\n",
       "      <td>145 - 200 тысяч</td>\n",
       "    </tr>\n",
       "    <tr>\n",
       "      <td>3</td>\n",
       "      <td>3</td>\n",
       "      <td>4124</td>\n",
       "      <td>32.0</td>\n",
       "      <td>среднее</td>\n",
       "      <td>1</td>\n",
       "      <td>женат / замужем</td>\n",
       "      <td>0</td>\n",
       "      <td>M</td>\n",
       "      <td>сотрудник</td>\n",
       "      <td>0</td>\n",
       "      <td>267628</td>\n",
       "      <td>дополнительное образование</td>\n",
       "      <td>образование</td>\n",
       "      <td>1</td>\n",
       "      <td>больше 200 тысяч</td>\n",
       "    </tr>\n",
       "    <tr>\n",
       "      <td>4</td>\n",
       "      <td>0</td>\n",
       "      <td>14177</td>\n",
       "      <td>53.0</td>\n",
       "      <td>среднее</td>\n",
       "      <td>1</td>\n",
       "      <td>гражданский брак</td>\n",
       "      <td>1</td>\n",
       "      <td>F</td>\n",
       "      <td>пенсионер</td>\n",
       "      <td>0</td>\n",
       "      <td>158616</td>\n",
       "      <td>сыграть свадьбу</td>\n",
       "      <td>свадьба</td>\n",
       "      <td>0</td>\n",
       "      <td>145 - 200 тысяч</td>\n",
       "    </tr>\n",
       "    <tr>\n",
       "      <td>...</td>\n",
       "      <td>...</td>\n",
       "      <td>...</td>\n",
       "      <td>...</td>\n",
       "      <td>...</td>\n",
       "      <td>...</td>\n",
       "      <td>...</td>\n",
       "      <td>...</td>\n",
       "      <td>...</td>\n",
       "      <td>...</td>\n",
       "      <td>...</td>\n",
       "      <td>...</td>\n",
       "      <td>...</td>\n",
       "      <td>...</td>\n",
       "      <td>...</td>\n",
       "      <td>...</td>\n",
       "    </tr>\n",
       "    <tr>\n",
       "      <td>21447</td>\n",
       "      <td>1</td>\n",
       "      <td>4529</td>\n",
       "      <td>43.0</td>\n",
       "      <td>среднее</td>\n",
       "      <td>1</td>\n",
       "      <td>гражданский брак</td>\n",
       "      <td>1</td>\n",
       "      <td>F</td>\n",
       "      <td>компаньон</td>\n",
       "      <td>0</td>\n",
       "      <td>224791</td>\n",
       "      <td>операции с жильем</td>\n",
       "      <td>жилье</td>\n",
       "      <td>1</td>\n",
       "      <td>больше 200 тысяч</td>\n",
       "    </tr>\n",
       "    <tr>\n",
       "      <td>21448</td>\n",
       "      <td>0</td>\n",
       "      <td>14330</td>\n",
       "      <td>67.0</td>\n",
       "      <td>среднее</td>\n",
       "      <td>1</td>\n",
       "      <td>женат / замужем</td>\n",
       "      <td>0</td>\n",
       "      <td>F</td>\n",
       "      <td>пенсионер</td>\n",
       "      <td>0</td>\n",
       "      <td>155999</td>\n",
       "      <td>сделка с автомобилем</td>\n",
       "      <td>автомобиль</td>\n",
       "      <td>0</td>\n",
       "      <td>145 - 200 тысяч</td>\n",
       "    </tr>\n",
       "    <tr>\n",
       "      <td>21449</td>\n",
       "      <td>1</td>\n",
       "      <td>2113</td>\n",
       "      <td>38.0</td>\n",
       "      <td>среднее</td>\n",
       "      <td>1</td>\n",
       "      <td>гражданский брак</td>\n",
       "      <td>1</td>\n",
       "      <td>M</td>\n",
       "      <td>сотрудник</td>\n",
       "      <td>1</td>\n",
       "      <td>89672</td>\n",
       "      <td>недвижимость</td>\n",
       "      <td>недвижимость</td>\n",
       "      <td>1</td>\n",
       "      <td>0 - 100 тысяч</td>\n",
       "    </tr>\n",
       "    <tr>\n",
       "      <td>21450</td>\n",
       "      <td>3</td>\n",
       "      <td>3112</td>\n",
       "      <td>38.0</td>\n",
       "      <td>среднее</td>\n",
       "      <td>1</td>\n",
       "      <td>женат / замужем</td>\n",
       "      <td>0</td>\n",
       "      <td>M</td>\n",
       "      <td>сотрудник</td>\n",
       "      <td>1</td>\n",
       "      <td>244093</td>\n",
       "      <td>на покупку своего автомобиля</td>\n",
       "      <td>автомобиль</td>\n",
       "      <td>1</td>\n",
       "      <td>больше 200 тысяч</td>\n",
       "    </tr>\n",
       "    <tr>\n",
       "      <td>21451</td>\n",
       "      <td>2</td>\n",
       "      <td>1984</td>\n",
       "      <td>40.0</td>\n",
       "      <td>среднее</td>\n",
       "      <td>1</td>\n",
       "      <td>женат / замужем</td>\n",
       "      <td>0</td>\n",
       "      <td>F</td>\n",
       "      <td>сотрудник</td>\n",
       "      <td>0</td>\n",
       "      <td>82047</td>\n",
       "      <td>на покупку автомобиля</td>\n",
       "      <td>автомобиль</td>\n",
       "      <td>1</td>\n",
       "      <td>0 - 100 тысяч</td>\n",
       "    </tr>\n",
       "  </tbody>\n",
       "</table>\n",
       "<p>21452 rows × 15 columns</p>\n",
       "</div>"
      ],
      "text/plain": [
       "       children  days_employed  dob_years education  education_id  \\\n",
       "0             1           8437       42.0    высшее             0   \n",
       "1             1           4024       36.0   среднее             1   \n",
       "2             0           5623       33.0   среднее             1   \n",
       "3             3           4124       32.0   среднее             1   \n",
       "4             0          14177       53.0   среднее             1   \n",
       "...         ...            ...        ...       ...           ...   \n",
       "21447         1           4529       43.0   среднее             1   \n",
       "21448         0          14330       67.0   среднее             1   \n",
       "21449         1           2113       38.0   среднее             1   \n",
       "21450         3           3112       38.0   среднее             1   \n",
       "21451         2           1984       40.0   среднее             1   \n",
       "\n",
       "          family_status  family_status_id gender income_type  debt  \\\n",
       "0       женат / замужем                 0      F   сотрудник     0   \n",
       "1       женат / замужем                 0      F   сотрудник     0   \n",
       "2       женат / замужем                 0      M   сотрудник     0   \n",
       "3       женат / замужем                 0      M   сотрудник     0   \n",
       "4      гражданский брак                 1      F   пенсионер     0   \n",
       "...                 ...               ...    ...         ...   ...   \n",
       "21447  гражданский брак                 1      F   компаньон     0   \n",
       "21448   женат / замужем                 0      F   пенсионер     0   \n",
       "21449  гражданский брак                 1      M   сотрудник     1   \n",
       "21450   женат / замужем                 0      M   сотрудник     1   \n",
       "21451   женат / замужем                 0      F   сотрудник     0   \n",
       "\n",
       "       total_income                       purpose purpose_category  \\\n",
       "0            253875                 покупка жилья            жилье   \n",
       "1            112080       приобретение автомобиля       автомобиль   \n",
       "2            145885                 покупка жилья            жилье   \n",
       "3            267628    дополнительное образование      образование   \n",
       "4            158616               сыграть свадьбу          свадьба   \n",
       "...             ...                           ...              ...   \n",
       "21447        224791             операции с жильем            жилье   \n",
       "21448        155999          сделка с автомобилем       автомобиль   \n",
       "21449         89672                  недвижимость     недвижимость   \n",
       "21450        244093  на покупку своего автомобиля       автомобиль   \n",
       "21451         82047         на покупку автомобиля       автомобиль   \n",
       "\n",
       "       have_children total_income_group  \n",
       "0                  1   больше 200 тысяч  \n",
       "1                  1    100 - 145 тысяч  \n",
       "2                  0    145 - 200 тысяч  \n",
       "3                  1   больше 200 тысяч  \n",
       "4                  0    145 - 200 тысяч  \n",
       "...              ...                ...  \n",
       "21447              1   больше 200 тысяч  \n",
       "21448              0    145 - 200 тысяч  \n",
       "21449              1      0 - 100 тысяч  \n",
       "21450              1   больше 200 тысяч  \n",
       "21451              1      0 - 100 тысяч  \n",
       "\n",
       "[21452 rows x 15 columns]"
      ]
     },
     "execution_count": 117,
     "metadata": {},
     "output_type": "execute_result"
    }
   ],
   "source": [
    "df"
   ]
  },
  {
   "cell_type": "markdown",
   "metadata": {},
   "source": [
    "## Шаг 3. Ответьте на вопросы"
   ]
  },
  {
   "cell_type": "markdown",
   "metadata": {},
   "source": [
    "- Есть ли зависимость между наличием детей и возвратом кредита в срок?"
   ]
  },
  {
   "cell_type": "code",
   "execution_count": 118,
   "metadata": {
    "scrolled": true
   },
   "outputs": [
    {
     "name": "stdout",
     "output_type": "stream",
     "text": [
      "Процент задолженности у людей с детьми: 9.2%\n",
      "Процент задолженности у людей без детей: 7.5%\n"
     ]
    }
   ],
   "source": [
    "have_children_debt = df[['have_children', 'debt']][df['have_children'] == 1]\n",
    "havent_children_debt = df[['have_children', 'debt']][df['have_children'] == 0]\n",
    "\n",
    "have_children_have_debt = have_children_debt['debt'].sum()/len(have_children_debt)\n",
    "havent_children_have_debt = havent_children_debt['debt'].sum()/len(havent_children_debt)\n",
    "print('Процент задолженности у людей с детьми: {:.1%}'.format(have_children_have_debt))\n",
    "print('Процент задолженности у людей без детей: {:.1%}'.format(havent_children_have_debt))"
   ]
  },
  {
   "cell_type": "code",
   "execution_count": 120,
   "metadata": {},
   "outputs": [],
   "source": [
    "# 100*df.groupby('have_children')['debt'].mean().round(3)"
   ]
  },
  {
   "cell_type": "markdown",
   "metadata": {},
   "source": [
    "**Вывод**: Казалось бы, люди с детьми должны быть более ответственными, но статистика говорит об обратном: бездетные отдают кредиты чаще."
   ]
  },
  {
   "cell_type": "markdown",
   "metadata": {},
   "source": [
    "- Есть ли зависимость между семейным положением и возвратом кредита в срок?"
   ]
  },
  {
   "cell_type": "code",
   "execution_count": 121,
   "metadata": {
    "scrolled": true
   },
   "outputs": [
    {
     "data": {
      "text/plain": [
       "array(['женат / замужем', 'гражданский брак', 'вдовец / вдова',\n",
       "       'в разводе', 'Не женат / не замужем'], dtype=object)"
      ]
     },
     "execution_count": 121,
     "metadata": {},
     "output_type": "execute_result"
    }
   ],
   "source": [
    "df['family_status'].unique()"
   ]
  },
  {
   "cell_type": "markdown",
   "metadata": {},
   "source": [
    "Так же, как и в предыдущем случае - соберем таблицу из двух колонок:"
   ]
  },
  {
   "cell_type": "code",
   "execution_count": 122,
   "metadata": {
    "scrolled": true
   },
   "outputs": [
    {
     "name": "stdout",
     "output_type": "stream",
     "text": [
      "       debt     family_status\n",
      "0         0   женат / замужем\n",
      "1         0   женат / замужем\n",
      "2         0   женат / замужем\n",
      "3         0   женат / замужем\n",
      "4         0  гражданский брак\n",
      "...     ...               ...\n",
      "21447     0  гражданский брак\n",
      "21448     0   женат / замужем\n",
      "21449     1  гражданский брак\n",
      "21450     1   женат / замужем\n",
      "21451     0   женат / замужем\n",
      "\n",
      "[21452 rows x 2 columns]\n"
     ]
    }
   ],
   "source": [
    "debt_family_status = df[['debt', 'family_status']]\n",
    "print(debt_family_status)"
   ]
  },
  {
   "cell_type": "markdown",
   "metadata": {},
   "source": [
    "Интересно посмотреть про то, как наличие отношений влияет на возврат кредита:"
   ]
  },
  {
   "cell_type": "code",
   "execution_count": 123,
   "metadata": {
    "scrolled": true
   },
   "outputs": [
    {
     "name": "stderr",
     "output_type": "stream",
     "text": [
      "/opt/conda/lib/python3.7/site-packages/ipykernel_launcher.py:7: SettingWithCopyWarning: \n",
      "A value is trying to be set on a copy of a slice from a DataFrame.\n",
      "Try using .loc[row_indexer,col_indexer] = value instead\n",
      "\n",
      "See the caveats in the documentation: http://pandas.pydata.org/pandas-docs/stable/user_guide/indexing.html#returning-a-view-versus-a-copy\n",
      "  import sys\n"
     ]
    }
   ],
   "source": [
    "def relationship_status(x):\n",
    "    if (x == 'женат / замужем') or (x == 'гражданский брак'):\n",
    "        return 1\n",
    "    else:\n",
    "        return 0\n",
    "    \n",
    "debt_family_status['in_relationship'] = debt_family_status['family_status'].apply(lambda x: relationship_status(x))"
   ]
  },
  {
   "cell_type": "code",
   "execution_count": 124,
   "metadata": {
    "scrolled": false
   },
   "outputs": [
    {
     "name": "stdout",
     "output_type": "stream",
     "text": [
      "    debt     family_status  in_relationship\n",
      "0      0   женат / замужем                1\n",
      "1      0   женат / замужем                1\n",
      "2      0   женат / замужем                1\n",
      "3      0   женат / замужем                1\n",
      "4      0  гражданский брак                1\n",
      "5      0  гражданский брак                1\n",
      "6      0   женат / замужем                1\n",
      "7      0   женат / замужем                1\n",
      "8      0  гражданский брак                1\n",
      "9      0   женат / замужем                1\n",
      "10     0   женат / замужем                1\n",
      "11     0   женат / замужем                1\n",
      "12     0  гражданский брак                1\n",
      "13     0   женат / замужем                1\n",
      "14     1  гражданский брак                1\n",
      "15     0   женат / замужем                1\n",
      "16     0   женат / замужем                1\n",
      "17     0  гражданский брак                1\n",
      "18     0    вдовец / вдова                0\n",
      "19     0         в разводе                0\n"
     ]
    }
   ],
   "source": [
    "print(debt_family_status.head(20))"
   ]
  },
  {
   "cell_type": "markdown",
   "metadata": {},
   "source": [
    "Теперь можно посмотреть, влияет ли семейное положение на возврат кредита:"
   ]
  },
  {
   "cell_type": "code",
   "execution_count": 125,
   "metadata": {},
   "outputs": [
    {
     "name": "stdout",
     "output_type": "stream",
     "text": [
      "Процент задолженности у людей в отношениях: 8.0%\n",
      "Процент задолженности у людей без отношений: 8.5%\n"
     ]
    }
   ],
   "source": [
    "in_relationship = debt_family_status[['in_relationship', 'debt']][debt_family_status['in_relationship'] == 1]\n",
    "not_in_relationship = debt_family_status[['in_relationship', 'debt']][debt_family_status['in_relationship'] == 0]\n",
    "\n",
    "in_relationship_have_debt = in_relationship['debt'].sum()/len(in_relationship)\n",
    "not_in_relationship_have_debt = not_in_relationship['debt'].sum()/len(not_in_relationship)\n",
    "print('Процент задолженности у людей в отношениях: {:.1%}'.format(in_relationship_have_debt))\n",
    "print('Процент задолженности у людей без отношений: {:.1%}'.format(not_in_relationship_have_debt))"
   ]
  },
  {
   "cell_type": "markdown",
   "metadata": {},
   "source": [
    "Теперь посчитаем то же самое для каждого семейного статуса:"
   ]
  },
  {
   "cell_type": "code",
   "execution_count": 126,
   "metadata": {},
   "outputs": [
    {
     "name": "stdout",
     "output_type": "stream",
     "text": [
      "debt                       0    1    sum  Процент задолженности %\n",
      "family_status                                                    \n",
      "Не женат / не замужем   2536  274   2810                      9.8\n",
      "в разводе               1110   85   1195                      7.1\n",
      "вдовец / вдова           896   63    959                      6.6\n",
      "гражданский брак        3761  388   4149                      9.4\n",
      "женат / замужем        11408  931  12339                      7.5\n"
     ]
    }
   ],
   "source": [
    "data_pivot_family_status = df.pivot_table(index='family_status', columns='debt', values='family_status_id', aggfunc='count')\n",
    "# print(data_pivot_family_status)\n",
    "data_pivot_family_status['sum'] = data_pivot_family_status[1] + data_pivot_family_status[0]\n",
    "data_pivot_family_status['Процент задолженности %'] = round(data_pivot_family_status[1] / data_pivot_family_status['sum'], 3) * 100\n",
    "\n",
    "print(data_pivot_family_status)\n",
    "\n",
    "\n"
   ]
  },
  {
   "cell_type": "markdown",
   "metadata": {},
   "source": [
    "**Вывод**: Чаще всего кредиты не отдают неженатые и незамужние, а реже - вдовы и вдовцы."
   ]
  },
  {
   "cell_type": "markdown",
   "metadata": {},
   "source": [
    "- Есть ли зависимость между уровнем дохода и возвратом кредита в срок?"
   ]
  },
  {
   "cell_type": "code",
   "execution_count": 127,
   "metadata": {},
   "outputs": [],
   "source": [
    "debt_by_total_income = df[['debt','total_income', 'total_income_group']]"
   ]
  },
  {
   "cell_type": "code",
   "execution_count": 131,
   "metadata": {},
   "outputs": [
    {
     "name": "stdout",
     "output_type": "stream",
     "text": [
      "       debt  total_income total_income_group\n",
      "0         0        253875   больше 200 тысяч\n",
      "1         0        112080    100 - 145 тысяч\n",
      "2         0        145885    145 - 200 тысяч\n",
      "3         0        267628   больше 200 тысяч\n",
      "4         0        158616    145 - 200 тысяч\n",
      "...     ...           ...                ...\n",
      "21447     0        224791   больше 200 тысяч\n",
      "21448     0        155999    145 - 200 тысяч\n",
      "21449     1         89672      0 - 100 тысяч\n",
      "21450     1        244093   больше 200 тысяч\n",
      "21451     0         82047      0 - 100 тысяч\n",
      "\n",
      "[21452 rows x 3 columns]\n"
     ]
    }
   ],
   "source": [
    "print(debt_by_total_income)"
   ]
  },
  {
   "cell_type": "code",
   "execution_count": 132,
   "metadata": {
    "scrolled": true
   },
   "outputs": [
    {
     "name": "stdout",
     "output_type": "stream",
     "text": [
      "debt                   0    1\n",
      "total_income_group           \n",
      "0 - 100 тысяч       4109  354\n",
      "100 - 145 тысяч     6083  583\n",
      "145 - 200 тысяч     4811  446\n",
      "больше 200 тысяч    4708  358\n"
     ]
    }
   ],
   "source": [
    "df_pivot_total_income = debt_by_total_income.pivot_table(index='total_income_group', columns='debt', values='total_income', aggfunc='count')\n",
    "print(df_pivot_total_income)"
   ]
  },
  {
   "cell_type": "code",
   "execution_count": 133,
   "metadata": {},
   "outputs": [
    {
     "name": "stdout",
     "output_type": "stream",
     "text": [
      "debt                   0    1   sum  Процент задолженности %\n",
      "total_income_group                                          \n",
      "0 - 100 тысяч       4109  354  4463                      7.9\n",
      "100 - 145 тысяч     6083  583  6666                      8.7\n",
      "145 - 200 тысяч     4811  446  5257                      8.5\n",
      "больше 200 тысяч    4708  358  5066                      7.1\n"
     ]
    }
   ],
   "source": [
    "df_pivot_total_income['sum'] = df_pivot_total_income[1] + df_pivot_total_income[0]\n",
    "df_pivot_total_income['Процент задолженности %'] = round(df_pivot_total_income[1] / df_pivot_total_income['sum'], 3) * 100\n",
    "\n",
    "print(df_pivot_total_income)"
   ]
  },
  {
   "cell_type": "markdown",
   "metadata": {},
   "source": [
    "**Вывод**: Выходит, что кредит чаще возвращают люди с доходом меньше 100 тысяч и выше 200 тысяч."
   ]
  },
  {
   "cell_type": "markdown",
   "metadata": {},
   "source": [
    "- Как разные цели кредита влияют на его возврат в срок?"
   ]
  },
  {
   "cell_type": "code",
   "execution_count": 134,
   "metadata": {},
   "outputs": [
    {
     "name": "stdout",
     "output_type": "stream",
     "text": [
      "debt                 0    1\n",
      "purpose_category           \n",
      "автомобиль        3903  403\n",
      "жилье             5293  397\n",
      "недвижимость      4735  385\n",
      "образование       3643  370\n",
      "свадьба           2137  186\n"
     ]
    }
   ],
   "source": [
    "df_pivot_purposes = df.pivot_table(index='purpose_category', columns='debt', values='purpose', aggfunc='count')\n",
    "print(df_pivot_purposes)"
   ]
  },
  {
   "cell_type": "code",
   "execution_count": 135,
   "metadata": {},
   "outputs": [
    {
     "name": "stdout",
     "output_type": "stream",
     "text": [
      "debt                 0    1   sum  Процент задолженности %\n",
      "purpose_category                                          \n",
      "автомобиль        3903  403  4306                      9.4\n",
      "жилье             5293  397  5690                      7.0\n",
      "недвижимость      4735  385  5120                      7.5\n",
      "образование       3643  370  4013                      9.2\n",
      "свадьба           2137  186  2323                      8.0\n"
     ]
    }
   ],
   "source": [
    "df_pivot_purposes['sum'] = df_pivot_purposes[1] + df_pivot_purposes[0]\n",
    "df_pivot_purposes['Процент задолженности %'] = round(df_pivot_purposes[1] / df_pivot_purposes['sum'], 3) * 100\n",
    "\n",
    "print(df_pivot_purposes)"
   ]
  },
  {
   "cell_type": "markdown",
   "metadata": {},
   "source": [
    "Реже всего люди выплачивают кредиты, взятые на автомобили и на образование. Чаще возвращают кредиты, взятые на сделки с жильем и недвижимостью."
   ]
  },
  {
   "cell_type": "markdown",
   "metadata": {},
   "source": [
    "## Шаг 4. Общий вывод"
   ]
  },
  {
   "cell_type": "markdown",
   "metadata": {},
   "source": [
    "Идеальный заемщик - бездетный, разведенный человек с доходом больше 200 тысяч, берущий кредит на жилье.\n",
    "\n",
    "Плохой заемщик - человек с детьми, не женат или не замужем, имеющий зарплату 100 - 145 тысяч и берущий кредит на автомобиль. "
   ]
  }
 ],
 "metadata": {
  "ExecuteTimeLog": [
   {
    "duration": 600,
    "start_time": "2021-07-03T18:30:36.054Z"
   },
   {
    "duration": 51,
    "start_time": "2021-07-03T18:30:49.228Z"
   },
   {
    "duration": 272,
    "start_time": "2021-07-03T18:31:36.222Z"
   },
   {
    "duration": 17,
    "start_time": "2021-07-03T18:31:42.762Z"
   },
   {
    "duration": 75,
    "start_time": "2021-07-03T20:12:46.368Z"
   },
   {
    "duration": 17,
    "start_time": "2021-07-03T20:13:18.915Z"
   },
   {
    "duration": 16,
    "start_time": "2021-07-03T20:13:36.394Z"
   },
   {
    "duration": 77,
    "start_time": "2021-07-03T20:21:01.834Z"
   },
   {
    "duration": 5,
    "start_time": "2021-07-03T20:23:14.548Z"
   },
   {
    "duration": 10,
    "start_time": "2021-07-03T21:00:55.749Z"
   },
   {
    "duration": 23,
    "start_time": "2021-07-03T21:09:08.764Z"
   },
   {
    "duration": 233,
    "start_time": "2021-07-03T21:23:12.690Z"
   },
   {
    "duration": 215,
    "start_time": "2021-07-03T21:23:22.102Z"
   },
   {
    "duration": 13,
    "start_time": "2021-07-03T21:23:25.986Z"
   },
   {
    "duration": 11,
    "start_time": "2021-07-03T21:24:25.591Z"
   },
   {
    "duration": 225,
    "start_time": "2021-07-03T21:25:23.025Z"
   },
   {
    "duration": 22,
    "start_time": "2021-07-03T21:25:28.015Z"
   },
   {
    "duration": 212,
    "start_time": "2021-07-03T21:25:39.200Z"
   },
   {
    "duration": 22,
    "start_time": "2021-07-03T21:25:50.357Z"
   },
   {
    "duration": 23,
    "start_time": "2021-07-03T21:32:53.595Z"
   },
   {
    "duration": 212,
    "start_time": "2021-07-03T21:35:16.398Z"
   },
   {
    "duration": 7,
    "start_time": "2021-07-03T21:35:32.868Z"
   },
   {
    "duration": 212,
    "start_time": "2021-07-03T21:36:02.426Z"
   },
   {
    "duration": 6,
    "start_time": "2021-07-03T21:36:11.501Z"
   },
   {
    "duration": 84,
    "start_time": "2021-07-03T21:36:50.559Z"
   },
   {
    "duration": -43,
    "start_time": "2021-07-03T21:37:05.083Z"
   },
   {
    "duration": -70,
    "start_time": "2021-07-03T21:37:26.694Z"
   },
   {
    "duration": 7,
    "start_time": "2021-07-03T21:37:45.815Z"
   },
   {
    "duration": 7,
    "start_time": "2021-07-03T21:38:20.741Z"
   },
   {
    "duration": 11,
    "start_time": "2021-07-03T21:38:43.079Z"
   },
   {
    "duration": 6,
    "start_time": "2021-07-03T21:49:20.095Z"
   },
   {
    "duration": 6,
    "start_time": "2021-07-03T21:49:30.260Z"
   },
   {
    "duration": 8,
    "start_time": "2021-07-03T21:51:33.426Z"
   },
   {
    "duration": 219,
    "start_time": "2021-07-03T21:53:28.982Z"
   },
   {
    "duration": 20,
    "start_time": "2021-07-03T21:53:32.872Z"
   },
   {
    "duration": 10,
    "start_time": "2021-07-03T21:53:56.320Z"
   },
   {
    "duration": 14,
    "start_time": "2021-07-03T21:54:10.424Z"
   },
   {
    "duration": 20,
    "start_time": "2021-07-03T21:54:33.758Z"
   },
   {
    "duration": 7,
    "start_time": "2021-07-03T21:54:39.591Z"
   },
   {
    "duration": 28,
    "start_time": "2021-07-03T21:59:35.304Z"
   },
   {
    "duration": 24,
    "start_time": "2021-07-03T21:59:47.652Z"
   },
   {
    "duration": 15,
    "start_time": "2021-07-03T22:01:45.815Z"
   },
   {
    "duration": 5,
    "start_time": "2021-07-03T22:02:12.094Z"
   },
   {
    "duration": 88,
    "start_time": "2021-07-03T22:02:25.720Z"
   },
   {
    "duration": 80,
    "start_time": "2021-07-03T22:02:51.686Z"
   },
   {
    "duration": 5,
    "start_time": "2021-07-03T22:03:49.419Z"
   },
   {
    "duration": 4,
    "start_time": "2021-07-03T22:04:44.365Z"
   },
   {
    "duration": 4,
    "start_time": "2021-07-03T22:04:45.847Z"
   },
   {
    "duration": 4,
    "start_time": "2021-07-03T22:04:51.798Z"
   },
   {
    "duration": 215,
    "start_time": "2021-07-03T22:05:03.068Z"
   },
   {
    "duration": 239,
    "start_time": "2021-07-03T22:05:09.997Z"
   },
   {
    "duration": 212,
    "start_time": "2021-07-03T22:05:17.027Z"
   },
   {
    "duration": 248,
    "start_time": "2021-07-03T22:05:20.015Z"
   },
   {
    "duration": 210,
    "start_time": "2021-07-03T22:05:36.569Z"
   },
   {
    "duration": 221,
    "start_time": "2021-07-03T22:07:55.303Z"
   },
   {
    "duration": 225,
    "start_time": "2021-07-03T22:08:02.528Z"
   },
   {
    "duration": 7,
    "start_time": "2021-07-03T22:09:37.928Z"
   },
   {
    "duration": 4,
    "start_time": "2021-07-03T22:10:14.274Z"
   },
   {
    "duration": 4,
    "start_time": "2021-07-03T22:11:08.020Z"
   },
   {
    "duration": 5,
    "start_time": "2021-07-03T22:11:16.407Z"
   },
   {
    "duration": 4,
    "start_time": "2021-07-03T22:11:35.409Z"
   },
   {
    "duration": 2745,
    "start_time": "2021-07-03T22:11:38.985Z"
   },
   {
    "duration": -75,
    "start_time": "2021-07-03T22:11:41.807Z"
   },
   {
    "duration": 2852,
    "start_time": "2021-07-03T22:11:50.353Z"
   },
   {
    "duration": -126,
    "start_time": "2021-07-03T22:12:13.937Z"
   },
   {
    "duration": 2822,
    "start_time": "2021-07-03T22:12:21.515Z"
   },
   {
    "duration": 228,
    "start_time": "2021-07-03T22:12:36.376Z"
   },
   {
    "duration": 60,
    "start_time": "2021-07-03T22:12:52.280Z"
   },
   {
    "duration": 11,
    "start_time": "2021-07-03T22:12:55.636Z"
   },
   {
    "duration": 4,
    "start_time": "2021-07-03T22:12:58.620Z"
   },
   {
    "duration": 9,
    "start_time": "2021-07-03T22:13:01.818Z"
   },
   {
    "duration": 23,
    "start_time": "2021-07-03T22:13:05.616Z"
   },
   {
    "duration": 19,
    "start_time": "2021-07-03T22:13:09.576Z"
   },
   {
    "duration": 6,
    "start_time": "2021-07-03T22:13:12.042Z"
   },
   {
    "duration": 25,
    "start_time": "2021-07-03T22:13:17.354Z"
   },
   {
    "duration": 5,
    "start_time": "2021-07-03T22:13:20.299Z"
   },
   {
    "duration": 4,
    "start_time": "2021-07-03T22:13:23.144Z"
   },
   {
    "duration": 228,
    "start_time": "2021-07-03T22:13:30.675Z"
   },
   {
    "duration": 10,
    "start_time": "2021-07-03T22:13:39.601Z"
   },
   {
    "duration": 4,
    "start_time": "2021-07-03T22:13:54.935Z"
   },
   {
    "duration": 10,
    "start_time": "2021-07-03T22:13:57.366Z"
   },
   {
    "duration": 4,
    "start_time": "2021-07-03T22:15:14.371Z"
   },
   {
    "duration": 5,
    "start_time": "2021-07-03T22:18:56.370Z"
   },
   {
    "duration": 20,
    "start_time": "2021-07-03T22:19:26.940Z"
   },
   {
    "duration": 4,
    "start_time": "2021-07-03T22:20:28.511Z"
   },
   {
    "duration": 6,
    "start_time": "2021-07-03T22:22:29.265Z"
   },
   {
    "duration": 20,
    "start_time": "2021-07-03T22:24:08.938Z"
   },
   {
    "duration": 6673,
    "start_time": "2021-07-03T22:34:31.739Z"
   },
   {
    "duration": 5797,
    "start_time": "2021-07-03T22:36:55.219Z"
   },
   {
    "duration": 6323,
    "start_time": "2021-07-03T22:37:19.418Z"
   },
   {
    "duration": 6,
    "start_time": "2021-07-03T22:38:47.007Z"
   },
   {
    "duration": 243,
    "start_time": "2021-07-03T22:39:46.242Z"
   },
   {
    "duration": 554,
    "start_time": "2021-07-04T17:05:33.243Z"
   },
   {
    "duration": 14,
    "start_time": "2021-07-04T17:05:41.333Z"
   },
   {
    "duration": 4,
    "start_time": "2021-07-04T17:05:44.642Z"
   },
   {
    "duration": 9,
    "start_time": "2021-07-04T17:05:47.982Z"
   },
   {
    "duration": 26,
    "start_time": "2021-07-04T17:05:54.080Z"
   },
   {
    "duration": 9,
    "start_time": "2021-07-04T17:06:13.789Z"
   },
   {
    "duration": 28,
    "start_time": "2021-07-04T17:06:30.681Z"
   },
   {
    "duration": 6,
    "start_time": "2021-07-04T17:06:34.118Z"
   },
   {
    "duration": 4,
    "start_time": "2021-07-04T17:06:36.152Z"
   },
   {
    "duration": 3,
    "start_time": "2021-07-04T17:06:38.325Z"
   },
   {
    "duration": 9,
    "start_time": "2021-07-04T17:06:40.284Z"
   },
   {
    "duration": 4,
    "start_time": "2021-07-04T17:06:45.575Z"
   },
   {
    "duration": 95,
    "start_time": "2021-07-04T17:06:53.814Z"
   },
   {
    "duration": 4,
    "start_time": "2021-07-04T17:06:56.929Z"
   },
   {
    "duration": 5,
    "start_time": "2021-07-04T17:07:05.508Z"
   },
   {
    "duration": 27,
    "start_time": "2021-07-04T17:07:12.657Z"
   },
   {
    "duration": 7,
    "start_time": "2021-07-04T17:07:23.589Z"
   },
   {
    "duration": 29,
    "start_time": "2021-07-04T17:07:30.627Z"
   },
   {
    "duration": 5363,
    "start_time": "2021-07-04T17:15:39.000Z"
   },
   {
    "duration": 8,
    "start_time": "2021-07-04T17:19:18.843Z"
   },
   {
    "duration": 7,
    "start_time": "2021-07-04T17:19:37.841Z"
   },
   {
    "duration": 32,
    "start_time": "2021-07-04T17:19:59.061Z"
   },
   {
    "duration": 223,
    "start_time": "2021-07-04T17:21:04.508Z"
   },
   {
    "duration": 236,
    "start_time": "2021-07-04T17:21:07.238Z"
   },
   {
    "duration": 223,
    "start_time": "2021-07-04T17:21:16.960Z"
   },
   {
    "duration": 219,
    "start_time": "2021-07-04T17:21:20.690Z"
   },
   {
    "duration": 219,
    "start_time": "2021-07-04T17:21:47.133Z"
   },
   {
    "duration": 3,
    "start_time": "2021-07-04T17:27:26.512Z"
   },
   {
    "duration": 3,
    "start_time": "2021-07-04T17:27:46.952Z"
   },
   {
    "duration": 3093,
    "start_time": "2021-07-04T17:27:59.162Z"
   },
   {
    "duration": 4,
    "start_time": "2021-07-04T17:28:49.151Z"
   },
   {
    "duration": 12,
    "start_time": "2021-07-04T17:28:56.614Z"
   },
   {
    "duration": 56,
    "start_time": "2021-07-04T17:30:04.691Z"
   },
   {
    "duration": 12,
    "start_time": "2021-07-04T17:30:07.589Z"
   },
   {
    "duration": 5,
    "start_time": "2021-07-04T17:30:10.364Z"
   },
   {
    "duration": 11,
    "start_time": "2021-07-04T17:30:13.028Z"
   },
   {
    "duration": 24,
    "start_time": "2021-07-04T17:30:15.332Z"
   },
   {
    "duration": 20,
    "start_time": "2021-07-04T17:30:18.015Z"
   },
   {
    "duration": 7,
    "start_time": "2021-07-04T17:30:22.612Z"
   },
   {
    "duration": 12,
    "start_time": "2021-07-04T17:30:54.090Z"
   },
   {
    "duration": 5,
    "start_time": "2021-07-04T17:31:10.812Z"
   },
   {
    "duration": 5,
    "start_time": "2021-07-04T17:31:36.914Z"
   },
   {
    "duration": 5,
    "start_time": "2021-07-04T17:31:47.705Z"
   },
   {
    "duration": 5,
    "start_time": "2021-07-04T17:31:50.851Z"
   },
   {
    "duration": 6,
    "start_time": "2021-07-04T17:32:19.303Z"
   },
   {
    "duration": 223,
    "start_time": "2021-07-04T17:32:45.007Z"
   },
   {
    "duration": 4,
    "start_time": "2021-07-04T17:33:03.410Z"
   },
   {
    "duration": 8,
    "start_time": "2021-07-04T17:33:19.166Z"
   },
   {
    "duration": 80,
    "start_time": "2021-07-04T17:33:27.471Z"
   },
   {
    "duration": 77,
    "start_time": "2021-07-04T17:33:39.584Z"
   },
   {
    "duration": 8,
    "start_time": "2021-07-04T17:33:44.045Z"
   },
   {
    "duration": 6,
    "start_time": "2021-07-04T17:33:58.063Z"
   },
   {
    "duration": 4,
    "start_time": "2021-07-04T17:34:01.609Z"
   },
   {
    "duration": 4,
    "start_time": "2021-07-04T17:34:04.129Z"
   },
   {
    "duration": 10,
    "start_time": "2021-07-04T17:34:05.680Z"
   },
   {
    "duration": 4,
    "start_time": "2021-07-04T17:34:08.458Z"
   },
   {
    "duration": 5,
    "start_time": "2021-07-04T17:34:10.843Z"
   },
   {
    "duration": 18,
    "start_time": "2021-07-04T17:34:13.202Z"
   },
   {
    "duration": 6,
    "start_time": "2021-07-04T17:34:18.931Z"
   },
   {
    "duration": 7,
    "start_time": "2021-07-04T17:34:44.849Z"
   },
   {
    "duration": 4,
    "start_time": "2021-07-04T17:35:30.468Z"
   },
   {
    "duration": 78,
    "start_time": "2021-07-04T17:39:57.360Z"
   },
   {
    "duration": 7,
    "start_time": "2021-07-04T17:40:01.491Z"
   },
   {
    "duration": 6,
    "start_time": "2021-07-04T17:40:25.333Z"
   },
   {
    "duration": 6,
    "start_time": "2021-07-04T17:40:39.249Z"
   },
   {
    "duration": 220,
    "start_time": "2021-07-04T17:42:21.437Z"
   },
   {
    "duration": 221,
    "start_time": "2021-07-04T17:42:24.466Z"
   },
   {
    "duration": 228,
    "start_time": "2021-07-04T17:42:38.565Z"
   },
   {
    "duration": 218,
    "start_time": "2021-07-04T17:42:44.124Z"
   },
   {
    "duration": 8,
    "start_time": "2021-07-04T17:42:56.597Z"
   },
   {
    "duration": 224,
    "start_time": "2021-07-04T17:42:58.719Z"
   },
   {
    "duration": 20,
    "start_time": "2021-07-04T17:43:08.011Z"
   },
   {
    "duration": 95,
    "start_time": "2021-07-04T17:43:44.922Z"
   },
   {
    "duration": 7,
    "start_time": "2021-07-04T17:43:51.893Z"
   },
   {
    "duration": 6,
    "start_time": "2021-07-04T17:44:16.406Z"
   },
   {
    "duration": 256,
    "start_time": "2021-07-04T17:46:33.164Z"
   },
   {
    "duration": 213,
    "start_time": "2021-07-04T17:46:48.389Z"
   },
   {
    "duration": 79,
    "start_time": "2021-07-04T17:47:00.389Z"
   },
   {
    "duration": 6,
    "start_time": "2021-07-04T17:47:11.872Z"
   },
   {
    "duration": 235,
    "start_time": "2021-07-04T17:47:55.341Z"
   },
   {
    "duration": 237,
    "start_time": "2021-07-04T17:48:04.269Z"
   },
   {
    "duration": 9,
    "start_time": "2021-07-04T17:48:48.647Z"
   },
   {
    "duration": 74,
    "start_time": "2021-07-04T17:49:51.660Z"
   },
   {
    "duration": 8,
    "start_time": "2021-07-04T17:50:03.071Z"
   },
   {
    "duration": 10,
    "start_time": "2021-07-04T17:50:32.524Z"
   },
   {
    "duration": 9,
    "start_time": "2021-07-04T17:50:42.389Z"
   },
   {
    "duration": 12,
    "start_time": "2021-07-04T17:50:52.676Z"
   },
   {
    "duration": 14,
    "start_time": "2021-07-04T17:51:01.051Z"
   },
   {
    "duration": 12,
    "start_time": "2021-07-04T17:51:36.175Z"
   },
   {
    "duration": 13,
    "start_time": "2021-07-04T17:51:40.977Z"
   },
   {
    "duration": 18,
    "start_time": "2021-07-04T18:08:58.507Z"
   },
   {
    "duration": 268,
    "start_time": "2021-07-04T18:12:29.724Z"
   },
   {
    "duration": 246,
    "start_time": "2021-07-04T18:12:41.747Z"
   },
   {
    "duration": 242,
    "start_time": "2021-07-04T18:18:09.821Z"
   },
   {
    "duration": 244,
    "start_time": "2021-07-04T18:20:00.365Z"
   },
   {
    "duration": 233,
    "start_time": "2021-07-04T18:20:15.829Z"
   },
   {
    "duration": 3235,
    "start_time": "2021-07-04T18:20:57.963Z"
   },
   {
    "duration": 3036,
    "start_time": "2021-07-04T18:21:05.931Z"
   },
   {
    "duration": 5,
    "start_time": "2021-07-04T18:22:28.626Z"
   },
   {
    "duration": 74,
    "start_time": "2021-07-04T18:23:15.593Z"
   },
   {
    "duration": 223,
    "start_time": "2021-07-04T18:23:19.847Z"
   },
   {
    "duration": 233,
    "start_time": "2021-07-04T18:23:26.065Z"
   },
   {
    "duration": 237,
    "start_time": "2021-07-04T18:24:08.861Z"
   },
   {
    "duration": 73,
    "start_time": "2021-07-04T18:24:14.968Z"
   },
   {
    "duration": 16,
    "start_time": "2021-07-04T18:24:18.002Z"
   },
   {
    "duration": 10,
    "start_time": "2021-07-04T18:24:43.404Z"
   },
   {
    "duration": 6092,
    "start_time": "2021-07-04T18:24:59.005Z"
   },
   {
    "duration": 10,
    "start_time": "2021-07-04T18:25:11.574Z"
   },
   {
    "duration": 13,
    "start_time": "2021-07-04T18:25:22.793Z"
   },
   {
    "duration": 8,
    "start_time": "2021-07-04T18:25:39.525Z"
   },
   {
    "duration": 5,
    "start_time": "2021-07-04T18:43:25.584Z"
   },
   {
    "duration": 232,
    "start_time": "2021-07-04T18:43:46.856Z"
   },
   {
    "duration": 235,
    "start_time": "2021-07-04T18:44:01.820Z"
   },
   {
    "duration": 7,
    "start_time": "2021-07-04T18:44:07.954Z"
   },
   {
    "duration": 8,
    "start_time": "2021-07-04T18:44:15.021Z"
   },
   {
    "duration": 10,
    "start_time": "2021-07-04T18:46:42.788Z"
   },
   {
    "duration": 630,
    "start_time": "2021-07-04T18:49:50.879Z"
   },
   {
    "duration": 582,
    "start_time": "2021-07-04T18:50:23.032Z"
   },
   {
    "duration": 1522,
    "start_time": "2021-07-04T18:50:48.746Z"
   },
   {
    "duration": 70,
    "start_time": "2021-07-04T18:50:59.227Z"
   },
   {
    "duration": 1626,
    "start_time": "2021-07-04T18:51:11.214Z"
   },
   {
    "duration": 1596,
    "start_time": "2021-07-04T18:52:07.584Z"
   },
   {
    "duration": 11,
    "start_time": "2021-07-04T18:52:17.797Z"
   },
   {
    "duration": 225,
    "start_time": "2021-07-04T18:53:24.726Z"
   },
   {
    "duration": 39,
    "start_time": "2021-07-04T18:53:43.823Z"
   },
   {
    "duration": 39,
    "start_time": "2021-07-04T18:55:27.171Z"
   },
   {
    "duration": 7,
    "start_time": "2021-07-04T18:59:38.317Z"
   },
   {
    "duration": 11,
    "start_time": "2021-07-04T18:59:50.520Z"
   },
   {
    "duration": 39,
    "start_time": "2021-07-04T19:01:03.287Z"
   },
   {
    "duration": 6,
    "start_time": "2021-07-04T19:01:58.117Z"
   },
   {
    "duration": 7,
    "start_time": "2021-07-04T19:02:05.925Z"
   },
   {
    "duration": 263,
    "start_time": "2021-07-04T19:02:52.585Z"
   },
   {
    "duration": 224,
    "start_time": "2021-07-04T19:03:09.517Z"
   },
   {
    "duration": 232,
    "start_time": "2021-07-04T19:03:10.130Z"
   },
   {
    "duration": 79,
    "start_time": "2021-07-04T19:03:38.295Z"
   },
   {
    "duration": 73,
    "start_time": "2021-07-04T19:04:10.367Z"
   },
   {
    "duration": 7,
    "start_time": "2021-07-04T19:05:02.682Z"
   },
   {
    "duration": 82,
    "start_time": "2021-07-04T19:05:11.008Z"
   },
   {
    "duration": 1538,
    "start_time": "2021-07-04T19:05:18.966Z"
   },
   {
    "duration": 10,
    "start_time": "2021-07-04T19:06:01.411Z"
   },
   {
    "duration": 1597,
    "start_time": "2021-07-04T19:06:05.871Z"
   },
   {
    "duration": 5692,
    "start_time": "2021-07-04T19:07:11.038Z"
   },
   {
    "duration": 1760,
    "start_time": "2021-07-04T19:08:00.050Z"
   },
   {
    "duration": 35,
    "start_time": "2021-07-04T19:08:40.011Z"
   },
   {
    "duration": 7,
    "start_time": "2021-07-04T19:09:28.255Z"
   },
   {
    "duration": 106,
    "start_time": "2021-07-04T19:31:58.252Z"
   },
   {
    "duration": 4,
    "start_time": "2021-07-04T19:32:05.769Z"
   },
   {
    "duration": 8,
    "start_time": "2021-07-04T19:51:29.779Z"
   },
   {
    "duration": 346,
    "start_time": "2021-07-04T19:53:15.329Z"
   },
   {
    "duration": 5,
    "start_time": "2021-07-04T19:53:23.195Z"
   },
   {
    "duration": 9,
    "start_time": "2021-07-04T19:53:25.286Z"
   },
   {
    "duration": 230,
    "start_time": "2021-07-04T19:53:27.040Z"
   },
   {
    "duration": 220,
    "start_time": "2021-07-04T19:54:20.977Z"
   },
   {
    "duration": 109,
    "start_time": "2021-07-04T19:58:05.903Z"
   },
   {
    "duration": 251,
    "start_time": "2021-07-04T19:58:14.804Z"
   },
   {
    "duration": 3,
    "start_time": "2021-07-04T19:58:26.919Z"
   },
   {
    "duration": 3,
    "start_time": "2021-07-04T19:58:34.862Z"
   },
   {
    "duration": 3,
    "start_time": "2021-07-04T19:58:37.704Z"
   },
   {
    "duration": 3,
    "start_time": "2021-07-04T19:58:45.323Z"
   },
   {
    "duration": 5,
    "start_time": "2021-07-04T19:59:08.023Z"
   },
   {
    "duration": 13,
    "start_time": "2021-07-04T19:59:19.338Z"
   },
   {
    "duration": 75,
    "start_time": "2021-07-04T19:59:41.891Z"
   },
   {
    "duration": 10,
    "start_time": "2021-07-04T20:00:01.775Z"
   },
   {
    "duration": 3,
    "start_time": "2021-07-04T20:00:04.082Z"
   },
   {
    "duration": 3,
    "start_time": "2021-07-04T20:00:09.685Z"
   },
   {
    "duration": 6,
    "start_time": "2021-07-04T20:00:13.351Z"
   },
   {
    "duration": 3,
    "start_time": "2021-07-04T20:00:16.062Z"
   },
   {
    "duration": 637,
    "start_time": "2021-07-04T20:00:55.261Z"
   },
   {
    "duration": 232,
    "start_time": "2021-07-04T20:01:10.023Z"
   },
   {
    "duration": 232,
    "start_time": "2021-07-04T20:01:12.379Z"
   },
   {
    "duration": 7,
    "start_time": "2021-07-04T20:01:17.223Z"
   },
   {
    "duration": 4,
    "start_time": "2021-07-04T20:01:45.783Z"
   },
   {
    "duration": 3,
    "start_time": "2021-07-04T20:02:50.754Z"
   },
   {
    "duration": 9,
    "start_time": "2021-07-04T20:02:53.518Z"
   },
   {
    "duration": 3,
    "start_time": "2021-07-04T20:02:55.687Z"
   },
   {
    "duration": 599,
    "start_time": "2021-07-04T20:02:58.235Z"
   },
   {
    "duration": 1852,
    "start_time": "2021-07-06T19:26:44.803Z"
   },
   {
    "duration": 15,
    "start_time": "2021-07-06T19:26:50.716Z"
   },
   {
    "duration": 6,
    "start_time": "2021-07-06T19:26:54.667Z"
   },
   {
    "duration": 13,
    "start_time": "2021-07-06T19:26:56.771Z"
   },
   {
    "duration": 37,
    "start_time": "2021-07-06T19:26:59.800Z"
   },
   {
    "duration": 49,
    "start_time": "2021-07-06T19:27:02.654Z"
   },
   {
    "duration": 9,
    "start_time": "2021-07-06T19:27:05.202Z"
   },
   {
    "duration": 5,
    "start_time": "2021-07-06T19:27:08.194Z"
   },
   {
    "duration": 10,
    "start_time": "2021-07-06T19:27:11.570Z"
   },
   {
    "duration": 7,
    "start_time": "2021-07-06T19:27:14.245Z"
   },
   {
    "duration": 5,
    "start_time": "2021-07-06T19:27:18.974Z"
   },
   {
    "duration": 16,
    "start_time": "2021-07-06T19:27:21.236Z"
   },
   {
    "duration": 6,
    "start_time": "2021-07-06T19:27:24.986Z"
   },
   {
    "duration": 10,
    "start_time": "2021-07-06T19:27:32.483Z"
   },
   {
    "duration": 50,
    "start_time": "2021-07-06T19:27:35.545Z"
   },
   {
    "duration": 13,
    "start_time": "2021-07-06T19:27:42.188Z"
   },
   {
    "duration": 8,
    "start_time": "2021-07-06T19:27:45.871Z"
   },
   {
    "duration": 35,
    "start_time": "2021-07-06T19:27:58.385Z"
   },
   {
    "duration": 15,
    "start_time": "2021-07-06T19:28:01.272Z"
   },
   {
    "duration": 60,
    "start_time": "2021-07-06T19:28:05.224Z"
   },
   {
    "duration": 13,
    "start_time": "2021-07-06T19:28:08.230Z"
   },
   {
    "duration": 8,
    "start_time": "2021-07-06T19:28:21.286Z"
   },
   {
    "duration": 6,
    "start_time": "2021-07-06T19:28:33.170Z"
   },
   {
    "duration": 5,
    "start_time": "2021-07-06T19:28:37.729Z"
   },
   {
    "duration": 6,
    "start_time": "2021-07-06T19:28:50.024Z"
   },
   {
    "duration": 13,
    "start_time": "2021-07-06T19:28:58.817Z"
   },
   {
    "duration": 6,
    "start_time": "2021-07-06T19:29:10.607Z"
   },
   {
    "duration": 80,
    "start_time": "2021-07-06T19:29:16.439Z"
   },
   {
    "duration": 14,
    "start_time": "2021-07-06T19:29:19.134Z"
   },
   {
    "duration": 6,
    "start_time": "2021-07-06T19:29:22.300Z"
   },
   {
    "duration": 14,
    "start_time": "2021-07-06T19:29:24.480Z"
   },
   {
    "duration": 38,
    "start_time": "2021-07-06T19:29:29.093Z"
   },
   {
    "duration": 34,
    "start_time": "2021-07-06T19:29:32.775Z"
   },
   {
    "duration": 10,
    "start_time": "2021-07-06T19:29:35.060Z"
   },
   {
    "duration": 5,
    "start_time": "2021-07-06T19:29:37.634Z"
   },
   {
    "duration": 9,
    "start_time": "2021-07-06T19:29:40.548Z"
   },
   {
    "duration": 7,
    "start_time": "2021-07-06T19:29:42.588Z"
   },
   {
    "duration": 5,
    "start_time": "2021-07-06T19:29:44.958Z"
   },
   {
    "duration": 15,
    "start_time": "2021-07-06T19:29:46.688Z"
   },
   {
    "duration": 8,
    "start_time": "2021-07-06T19:29:49.997Z"
   },
   {
    "duration": 7,
    "start_time": "2021-07-06T19:29:53.745Z"
   },
   {
    "duration": 40,
    "start_time": "2021-07-06T19:29:57.768Z"
   },
   {
    "duration": 12,
    "start_time": "2021-07-06T19:30:05.031Z"
   },
   {
    "duration": 8,
    "start_time": "2021-07-06T19:30:09.127Z"
   },
   {
    "duration": 6,
    "start_time": "2021-07-06T19:30:11.336Z"
   },
   {
    "duration": 11,
    "start_time": "2021-07-06T19:30:14.898Z"
   },
   {
    "duration": 54,
    "start_time": "2021-07-06T19:30:22.211Z"
   },
   {
    "duration": 12,
    "start_time": "2021-07-06T19:30:24.875Z"
   },
   {
    "duration": 6,
    "start_time": "2021-07-06T19:30:35.072Z"
   },
   {
    "duration": 26,
    "start_time": "2021-07-06T19:30:41.165Z"
   },
   {
    "duration": 416,
    "start_time": "2021-07-06T19:32:21.406Z"
   },
   {
    "duration": 15,
    "start_time": "2021-07-06T19:32:31.822Z"
   },
   {
    "duration": 15,
    "start_time": "2021-07-06T19:33:05.778Z"
   },
   {
    "duration": 37,
    "start_time": "2021-07-06T19:33:14.657Z"
   },
   {
    "duration": 16,
    "start_time": "2021-07-06T19:34:10.329Z"
   },
   {
    "duration": 95,
    "start_time": "2021-07-06T19:34:19.768Z"
   },
   {
    "duration": 38,
    "start_time": "2021-07-06T19:34:23.046Z"
   },
   {
    "duration": 5,
    "start_time": "2021-07-06T19:42:55.768Z"
   },
   {
    "duration": 5,
    "start_time": "2021-07-06T19:43:10.604Z"
   },
   {
    "duration": 11,
    "start_time": "2021-07-06T19:43:25.721Z"
   },
   {
    "duration": 8,
    "start_time": "2021-07-06T19:43:41.434Z"
   },
   {
    "duration": 85,
    "start_time": "2021-07-06T19:43:48.135Z"
   },
   {
    "duration": 252,
    "start_time": "2021-07-06T19:43:57.470Z"
   },
   {
    "duration": 11,
    "start_time": "2021-07-06T19:44:02.640Z"
   },
   {
    "duration": 10,
    "start_time": "2021-07-06T19:44:05.479Z"
   },
   {
    "duration": 8,
    "start_time": "2021-07-06T19:44:09.109Z"
   },
   {
    "duration": 299,
    "start_time": "2021-07-06T19:58:00.308Z"
   },
   {
    "duration": 6577,
    "start_time": "2021-07-06T19:59:26.155Z"
   },
   {
    "duration": 276,
    "start_time": "2021-07-06T19:59:44.370Z"
   },
   {
    "duration": 273,
    "start_time": "2021-07-06T20:00:13.780Z"
   },
   {
    "duration": 250,
    "start_time": "2021-07-06T20:00:20.980Z"
   },
   {
    "duration": 265,
    "start_time": "2021-07-06T20:01:45.260Z"
   },
   {
    "duration": 265,
    "start_time": "2021-07-06T20:01:58.434Z"
   },
   {
    "duration": 89,
    "start_time": "2021-07-06T20:24:49.751Z"
   },
   {
    "duration": 87,
    "start_time": "2021-07-06T20:24:59.347Z"
   },
   {
    "duration": 138,
    "start_time": "2021-07-06T20:25:17.801Z"
   },
   {
    "duration": 93,
    "start_time": "2021-07-06T20:25:20.253Z"
   },
   {
    "duration": 96,
    "start_time": "2021-07-06T20:25:50.495Z"
   },
   {
    "duration": 96,
    "start_time": "2021-07-06T20:26:05.023Z"
   },
   {
    "duration": 88,
    "start_time": "2021-07-06T20:26:12.461Z"
   },
   {
    "duration": 79,
    "start_time": "2021-07-06T20:26:23.842Z"
   },
   {
    "duration": 96,
    "start_time": "2021-07-06T20:26:29.814Z"
   },
   {
    "duration": 13,
    "start_time": "2021-07-06T20:27:03.839Z"
   },
   {
    "duration": 38,
    "start_time": "2021-07-06T20:27:15.183Z"
   },
   {
    "duration": 10,
    "start_time": "2021-07-06T20:27:44.517Z"
   },
   {
    "duration": 35,
    "start_time": "2021-07-06T20:27:46.982Z"
   },
   {
    "duration": 16,
    "start_time": "2021-07-06T20:28:00.360Z"
   },
   {
    "duration": 36,
    "start_time": "2021-07-06T20:28:02.930Z"
   },
   {
    "duration": 13,
    "start_time": "2021-07-06T20:30:46.064Z"
   },
   {
    "duration": 10,
    "start_time": "2021-07-06T20:30:53.300Z"
   },
   {
    "duration": 88,
    "start_time": "2021-07-06T20:31:54.532Z"
   },
   {
    "duration": 5,
    "start_time": "2021-07-06T20:32:20.838Z"
   },
   {
    "duration": 6,
    "start_time": "2021-07-06T20:32:34.908Z"
   },
   {
    "duration": 250,
    "start_time": "2021-07-06T20:34:29.756Z"
   },
   {
    "duration": 34,
    "start_time": "2021-07-06T20:34:37.121Z"
   },
   {
    "duration": 13,
    "start_time": "2021-07-06T20:34:43.011Z"
   },
   {
    "duration": 319,
    "start_time": "2021-07-06T20:34:54.688Z"
   },
   {
    "duration": 291,
    "start_time": "2021-07-06T20:34:59.383Z"
   },
   {
    "duration": 492,
    "start_time": "2021-07-06T20:35:09.645Z"
   },
   {
    "duration": 9,
    "start_time": "2021-07-06T20:36:20.944Z"
   },
   {
    "duration": 52,
    "start_time": "2021-07-06T20:36:38.434Z"
   },
   {
    "duration": 5,
    "start_time": "2021-07-06T20:37:33.732Z"
   },
   {
    "duration": 22,
    "start_time": "2021-07-06T20:38:24.872Z"
   },
   {
    "duration": 89,
    "start_time": "2021-07-06T20:39:45.383Z"
   },
   {
    "duration": 21,
    "start_time": "2021-07-06T20:39:53.428Z"
   },
   {
    "duration": 37,
    "start_time": "2021-07-06T20:40:54.759Z"
   },
   {
    "duration": 12,
    "start_time": "2021-07-06T20:41:43.625Z"
   },
   {
    "duration": 9,
    "start_time": "2021-07-06T20:41:52.259Z"
   },
   {
    "duration": 99,
    "start_time": "2021-07-06T20:42:24.955Z"
   },
   {
    "duration": 9,
    "start_time": "2021-07-06T20:42:42.305Z"
   },
   {
    "duration": 9,
    "start_time": "2021-07-06T20:42:49.075Z"
   },
   {
    "duration": 10,
    "start_time": "2021-07-06T20:42:52.102Z"
   },
   {
    "duration": 27,
    "start_time": "2021-07-06T20:44:22.728Z"
   },
   {
    "duration": -22,
    "start_time": "2021-07-06T20:45:44.226Z"
   },
   {
    "duration": 6338,
    "start_time": "2021-07-06T20:45:50.825Z"
   },
   {
    "duration": 7078,
    "start_time": "2021-07-06T20:46:54.769Z"
   },
   {
    "duration": 22,
    "start_time": "2021-07-06T20:47:12.147Z"
   },
   {
    "duration": 17,
    "start_time": "2021-07-06T20:48:24.746Z"
   },
   {
    "duration": 18,
    "start_time": "2021-07-06T20:51:46.058Z"
   },
   {
    "duration": 20,
    "start_time": "2021-07-06T20:52:28.026Z"
   },
   {
    "duration": 19,
    "start_time": "2021-07-06T20:52:39.081Z"
   },
   {
    "duration": 90,
    "start_time": "2021-07-06T20:52:43.142Z"
   },
   {
    "duration": 19,
    "start_time": "2021-07-06T20:52:50.858Z"
   },
   {
    "duration": 8,
    "start_time": "2021-07-06T20:54:01.043Z"
   },
   {
    "duration": 7,
    "start_time": "2021-07-06T20:54:06.700Z"
   },
   {
    "duration": 17,
    "start_time": "2021-07-06T20:54:16.570Z"
   },
   {
    "duration": 16,
    "start_time": "2021-07-06T20:54:21.594Z"
   },
   {
    "duration": 18,
    "start_time": "2021-07-06T20:54:35.192Z"
   },
   {
    "duration": 16,
    "start_time": "2021-07-06T20:54:40.009Z"
   },
   {
    "duration": 18,
    "start_time": "2021-07-06T20:55:06.873Z"
   },
   {
    "duration": 19,
    "start_time": "2021-07-06T20:55:29.394Z"
   },
   {
    "duration": 21,
    "start_time": "2021-07-06T20:55:48.779Z"
   },
   {
    "duration": 22,
    "start_time": "2021-07-06T20:56:04.547Z"
   },
   {
    "duration": 24,
    "start_time": "2021-07-06T20:57:24.106Z"
   },
   {
    "duration": 6,
    "start_time": "2021-07-06T20:57:32.165Z"
   },
   {
    "duration": 9,
    "start_time": "2021-07-06T20:57:42.541Z"
   },
   {
    "duration": 37,
    "start_time": "2021-07-06T20:57:58.547Z"
   },
   {
    "duration": 77,
    "start_time": "2021-07-06T21:01:11.819Z"
   },
   {
    "duration": 33,
    "start_time": "2021-07-06T21:01:36.012Z"
   },
   {
    "duration": 31,
    "start_time": "2021-07-06T21:01:47.464Z"
   },
   {
    "duration": 38,
    "start_time": "2021-07-06T21:01:50.291Z"
   },
   {
    "duration": 8,
    "start_time": "2021-07-06T21:07:39.075Z"
   },
   {
    "duration": 12,
    "start_time": "2021-07-06T21:07:42.153Z"
   },
   {
    "duration": 267,
    "start_time": "2021-07-06T21:07:45.681Z"
   },
   {
    "duration": 4,
    "start_time": "2021-07-06T21:07:59.867Z"
   },
   {
    "duration": 910,
    "start_time": "2021-07-06T21:08:02.603Z"
   },
   {
    "duration": 5,
    "start_time": "2021-07-06T21:08:09.407Z"
   },
   {
    "duration": 11,
    "start_time": "2021-07-06T21:21:07.814Z"
   },
   {
    "duration": 95,
    "start_time": "2021-07-06T21:21:17.457Z"
   },
   {
    "duration": 12,
    "start_time": "2021-07-06T21:21:20.536Z"
   },
   {
    "duration": 8,
    "start_time": "2021-07-06T21:21:34.580Z"
   },
   {
    "duration": 9,
    "start_time": "2021-07-06T21:22:00.992Z"
   },
   {
    "duration": 9,
    "start_time": "2021-07-06T21:22:11.238Z"
   },
   {
    "duration": 13,
    "start_time": "2021-07-06T21:22:54.630Z"
   },
   {
    "duration": 16,
    "start_time": "2021-07-06T21:23:11.745Z"
   },
   {
    "duration": 14,
    "start_time": "2021-07-06T21:23:40.209Z"
   },
   {
    "duration": 17,
    "start_time": "2021-07-06T21:23:46.667Z"
   },
   {
    "duration": 16,
    "start_time": "2021-07-06T21:23:54.641Z"
   },
   {
    "duration": 33,
    "start_time": "2021-07-06T21:24:26.598Z"
   },
   {
    "duration": 30,
    "start_time": "2021-07-06T21:33:18.852Z"
   },
   {
    "duration": 29,
    "start_time": "2021-07-06T21:33:25.615Z"
   },
   {
    "duration": 18,
    "start_time": "2021-07-06T21:33:29.073Z"
   },
   {
    "duration": 16,
    "start_time": "2021-07-06T21:34:32.730Z"
   },
   {
    "duration": 16,
    "start_time": "2021-07-06T21:34:46.326Z"
   },
   {
    "duration": 87,
    "start_time": "2021-07-06T21:35:54.569Z"
   },
   {
    "duration": 19,
    "start_time": "2021-07-06T21:36:04.102Z"
   },
   {
    "duration": 18,
    "start_time": "2021-07-06T21:36:14.108Z"
   },
   {
    "duration": 22,
    "start_time": "2021-07-06T21:37:32.309Z"
   },
   {
    "duration": 19,
    "start_time": "2021-07-06T21:38:23.030Z"
   },
   {
    "duration": 85,
    "start_time": "2021-07-06T21:41:57.342Z"
   },
   {
    "duration": 85,
    "start_time": "2021-07-06T21:42:06.466Z"
   },
   {
    "duration": 21,
    "start_time": "2021-07-06T21:42:16.685Z"
   },
   {
    "duration": 94,
    "start_time": "2021-07-06T21:43:33.936Z"
   },
   {
    "duration": 26,
    "start_time": "2021-07-06T21:43:43.428Z"
   },
   {
    "duration": 22,
    "start_time": "2021-07-06T21:45:15.465Z"
   },
   {
    "duration": 89,
    "start_time": "2021-07-06T21:45:27.621Z"
   },
   {
    "duration": 21,
    "start_time": "2021-07-06T21:45:30.755Z"
   },
   {
    "duration": 84,
    "start_time": "2021-07-06T21:45:59.689Z"
   },
   {
    "duration": 24,
    "start_time": "2021-07-06T21:46:24.854Z"
   },
   {
    "duration": 20,
    "start_time": "2021-07-06T21:46:33.163Z"
   },
   {
    "duration": 21,
    "start_time": "2021-07-06T21:46:37.997Z"
   },
   {
    "duration": 22,
    "start_time": "2021-07-06T21:46:44.284Z"
   },
   {
    "duration": 85,
    "start_time": "2021-07-06T21:50:26.697Z"
   },
   {
    "duration": 14,
    "start_time": "2021-07-06T21:50:34.734Z"
   },
   {
    "duration": 6246,
    "start_time": "2021-07-06T21:51:06.424Z"
   },
   {
    "duration": 16,
    "start_time": "2021-07-06T21:51:30.806Z"
   },
   {
    "duration": 105,
    "start_time": "2021-07-06T21:53:02.797Z"
   },
   {
    "duration": 90,
    "start_time": "2021-07-06T21:53:06.168Z"
   },
   {
    "duration": 82,
    "start_time": "2021-07-06T21:53:11.798Z"
   },
   {
    "duration": 270,
    "start_time": "2021-07-06T21:53:18.632Z"
   },
   {
    "duration": 277,
    "start_time": "2021-07-06T21:53:35.313Z"
   },
   {
    "duration": 274,
    "start_time": "2021-07-06T21:53:41.306Z"
   },
   {
    "duration": 286,
    "start_time": "2021-07-06T21:54:49.620Z"
   },
   {
    "duration": 16,
    "start_time": "2021-07-06T21:55:13.418Z"
   },
   {
    "duration": 21,
    "start_time": "2021-07-06T21:55:46.433Z"
   },
   {
    "duration": 22,
    "start_time": "2021-07-06T21:56:08.886Z"
   },
   {
    "duration": 22,
    "start_time": "2021-07-06T21:56:46.172Z"
   },
   {
    "duration": 3370,
    "start_time": "2021-07-06T22:04:06.569Z"
   },
   {
    "duration": 9,
    "start_time": "2021-07-06T22:06:54.592Z"
   },
   {
    "duration": 8,
    "start_time": "2021-07-06T22:07:09.743Z"
   },
   {
    "duration": 255,
    "start_time": "2021-07-06T22:08:35.181Z"
   },
   {
    "duration": 11,
    "start_time": "2021-07-06T22:08:53.146Z"
   },
   {
    "duration": 11,
    "start_time": "2021-07-06T22:09:54.006Z"
   },
   {
    "duration": 11,
    "start_time": "2021-07-06T22:10:32.149Z"
   },
   {
    "duration": 19,
    "start_time": "2021-07-06T22:11:08.430Z"
   },
   {
    "duration": 20,
    "start_time": "2021-07-06T22:12:02.271Z"
   },
   {
    "duration": 9,
    "start_time": "2021-07-06T22:12:04.925Z"
   },
   {
    "duration": 9,
    "start_time": "2021-07-06T22:12:06.803Z"
   },
   {
    "duration": 7,
    "start_time": "2021-07-06T22:21:58.455Z"
   },
   {
    "duration": 6,
    "start_time": "2021-07-06T22:23:24.354Z"
   },
   {
    "duration": 13,
    "start_time": "2021-07-06T22:23:31.467Z"
   },
   {
    "duration": 258,
    "start_time": "2021-07-06T22:25:40.268Z"
   },
   {
    "duration": 259,
    "start_time": "2021-07-06T22:26:01.933Z"
   },
   {
    "duration": 82,
    "start_time": "2021-07-06T22:27:48.809Z"
   },
   {
    "duration": 90,
    "start_time": "2021-07-06T22:28:41.648Z"
   },
   {
    "duration": 12,
    "start_time": "2021-07-06T22:32:06.740Z"
   },
   {
    "duration": 11,
    "start_time": "2021-07-06T22:33:01.064Z"
   },
   {
    "duration": 1059,
    "start_time": "2021-07-06T22:35:39.174Z"
   },
   {
    "duration": 11,
    "start_time": "2021-07-06T22:35:54.913Z"
   },
   {
    "duration": 281,
    "start_time": "2021-07-06T22:37:41.527Z"
   },
   {
    "duration": 253,
    "start_time": "2021-07-06T22:40:47.325Z"
   },
   {
    "duration": 264,
    "start_time": "2021-07-06T22:41:36.233Z"
   },
   {
    "duration": 13,
    "start_time": "2021-07-06T22:42:15.838Z"
   },
   {
    "duration": 9,
    "start_time": "2021-07-06T22:42:26.510Z"
   },
   {
    "duration": 8,
    "start_time": "2021-07-06T22:42:45.245Z"
   },
   {
    "duration": 8,
    "start_time": "2021-07-06T22:43:03.645Z"
   },
   {
    "duration": 8,
    "start_time": "2021-07-06T22:43:35.266Z"
   },
   {
    "duration": 79,
    "start_time": "2021-07-06T22:44:02.920Z"
   },
   {
    "duration": 9,
    "start_time": "2021-07-06T22:44:12.986Z"
   },
   {
    "duration": 9,
    "start_time": "2021-07-06T22:44:22.355Z"
   },
   {
    "duration": 8,
    "start_time": "2021-07-06T22:44:23.014Z"
   },
   {
    "duration": -155,
    "start_time": "2021-07-06T22:45:38.274Z"
   },
   {
    "duration": 262,
    "start_time": "2021-07-06T22:45:53.353Z"
   },
   {
    "duration": 270,
    "start_time": "2021-07-06T22:46:19.050Z"
   },
   {
    "duration": 259,
    "start_time": "2021-07-06T22:46:40.608Z"
   },
   {
    "duration": 7,
    "start_time": "2021-07-06T22:46:50.298Z"
   },
   {
    "duration": 259,
    "start_time": "2021-07-06T22:47:45.225Z"
   },
   {
    "duration": 277,
    "start_time": "2021-07-06T22:47:52.443Z"
   },
   {
    "duration": 273,
    "start_time": "2021-07-06T22:48:34.582Z"
   },
   {
    "duration": 5,
    "start_time": "2021-07-06T22:48:47.327Z"
   },
   {
    "duration": 31,
    "start_time": "2021-07-06T22:49:00.606Z"
   },
   {
    "duration": 27,
    "start_time": "2021-07-06T22:49:23.206Z"
   },
   {
    "duration": 8,
    "start_time": "2021-07-06T22:49:25.382Z"
   },
   {
    "duration": 6,
    "start_time": "2021-07-06T22:49:30.922Z"
   },
   {
    "duration": 11,
    "start_time": "2021-07-06T22:49:41.590Z"
   },
   {
    "duration": 5,
    "start_time": "2021-07-06T22:52:47.598Z"
   },
   {
    "duration": 32,
    "start_time": "2021-07-06T22:53:26.093Z"
   },
   {
    "duration": 32,
    "start_time": "2021-07-06T22:53:37.752Z"
   },
   {
    "duration": 32,
    "start_time": "2021-07-06T22:54:37.779Z"
   },
   {
    "duration": 14,
    "start_time": "2021-07-06T22:56:35.561Z"
   },
   {
    "duration": 315,
    "start_time": "2021-07-06T22:57:10.061Z"
   },
   {
    "duration": 13,
    "start_time": "2021-07-06T22:57:14.252Z"
   },
   {
    "duration": 9,
    "start_time": "2021-07-06T22:57:20.086Z"
   },
   {
    "duration": 11,
    "start_time": "2021-07-06T23:00:37.872Z"
   },
   {
    "duration": 12,
    "start_time": "2021-07-06T23:01:20.556Z"
   },
   {
    "duration": 5,
    "start_time": "2021-07-06T23:02:20.360Z"
   },
   {
    "duration": 6,
    "start_time": "2021-07-06T23:02:34.672Z"
   },
   {
    "duration": 6,
    "start_time": "2021-07-06T23:03:30.021Z"
   },
   {
    "duration": 11,
    "start_time": "2021-07-06T23:03:38.599Z"
   },
   {
    "duration": 1112,
    "start_time": "2021-07-06T23:04:09.321Z"
   },
   {
    "duration": 1113,
    "start_time": "2021-07-06T23:04:13.287Z"
   },
   {
    "duration": 12,
    "start_time": "2021-07-06T23:04:16.780Z"
   },
   {
    "duration": 9,
    "start_time": "2021-07-06T23:09:51.087Z"
   },
   {
    "duration": 90,
    "start_time": "2021-07-06T23:10:38.231Z"
   },
   {
    "duration": 262,
    "start_time": "2021-07-06T23:10:52.701Z"
   },
   {
    "duration": 16,
    "start_time": "2021-07-06T23:11:08.460Z"
   },
   {
    "duration": 9,
    "start_time": "2021-07-06T23:11:21.299Z"
   },
   {
    "duration": 15,
    "start_time": "2021-07-06T23:11:52.832Z"
   },
   {
    "duration": 12,
    "start_time": "2021-07-06T23:11:54.972Z"
   },
   {
    "duration": 22,
    "start_time": "2021-07-06T23:14:22.106Z"
   },
   {
    "duration": 12,
    "start_time": "2021-07-06T23:14:58.880Z"
   },
   {
    "duration": 922,
    "start_time": "2021-07-07T21:36:42.145Z"
   },
   {
    "duration": 18,
    "start_time": "2021-07-07T21:36:45.845Z"
   },
   {
    "duration": 7,
    "start_time": "2021-07-07T21:36:49.058Z"
   },
   {
    "duration": 14,
    "start_time": "2021-07-07T21:36:52.467Z"
   },
   {
    "duration": 40,
    "start_time": "2021-07-07T21:36:55.360Z"
   },
   {
    "duration": 38,
    "start_time": "2021-07-07T21:36:57.990Z"
   },
   {
    "duration": 9,
    "start_time": "2021-07-07T21:37:01.194Z"
   },
   {
    "duration": 5,
    "start_time": "2021-07-07T21:37:02.992Z"
   },
   {
    "duration": 7,
    "start_time": "2021-07-07T21:37:05.002Z"
   },
   {
    "duration": 6,
    "start_time": "2021-07-07T21:37:07.004Z"
   },
   {
    "duration": 6,
    "start_time": "2021-07-07T21:37:09.222Z"
   },
   {
    "duration": 15,
    "start_time": "2021-07-07T21:37:11.480Z"
   },
   {
    "duration": 7,
    "start_time": "2021-07-07T21:37:14.317Z"
   },
   {
    "duration": 5,
    "start_time": "2021-07-07T21:37:20.028Z"
   },
   {
    "duration": 14,
    "start_time": "2021-07-07T21:37:22.124Z"
   },
   {
    "duration": 7,
    "start_time": "2021-07-07T21:37:24.122Z"
   },
   {
    "duration": 7,
    "start_time": "2021-07-07T21:37:26.671Z"
   },
   {
    "duration": 37,
    "start_time": "2021-07-07T21:37:28.924Z"
   },
   {
    "duration": 11,
    "start_time": "2021-07-07T21:37:31.361Z"
   },
   {
    "duration": 7,
    "start_time": "2021-07-07T21:37:34.509Z"
   },
   {
    "duration": 7,
    "start_time": "2021-07-07T21:37:36.745Z"
   },
   {
    "duration": 12,
    "start_time": "2021-07-07T21:37:39.297Z"
   },
   {
    "duration": 54,
    "start_time": "2021-07-07T21:37:41.428Z"
   },
   {
    "duration": 7,
    "start_time": "2021-07-07T21:37:44.299Z"
   },
   {
    "duration": 8,
    "start_time": "2021-07-07T21:37:46.894Z"
   },
   {
    "duration": 37,
    "start_time": "2021-07-07T21:37:50.712Z"
   },
   {
    "duration": 5,
    "start_time": "2021-07-07T21:37:54.181Z"
   },
   {
    "duration": 9,
    "start_time": "2021-07-07T21:37:55.739Z"
   },
   {
    "duration": 15,
    "start_time": "2021-07-07T21:37:57.929Z"
   },
   {
    "duration": 106,
    "start_time": "2021-07-07T21:38:07.540Z"
   },
   {
    "duration": 179,
    "start_time": "2021-07-07T21:38:12.024Z"
   },
   {
    "duration": 436,
    "start_time": "2021-07-07T21:38:33.126Z"
   },
   {
    "duration": 286,
    "start_time": "2021-07-07T21:38:38.028Z"
   },
   {
    "duration": 10,
    "start_time": "2021-07-07T21:38:44.265Z"
   },
   {
    "duration": 8,
    "start_time": "2021-07-07T21:38:58.591Z"
   },
   {
    "duration": 14,
    "start_time": "2021-07-07T21:39:01.178Z"
   },
   {
    "duration": 36,
    "start_time": "2021-07-07T21:39:03.346Z"
   },
   {
    "duration": 11,
    "start_time": "2021-07-07T21:39:06.532Z"
   },
   {
    "duration": 12,
    "start_time": "2021-07-07T21:39:10.758Z"
   },
   {
    "duration": 5,
    "start_time": "2021-07-07T21:39:18.840Z"
   },
   {
    "duration": 7,
    "start_time": "2021-07-07T21:39:20.674Z"
   },
   {
    "duration": 4,
    "start_time": "2021-07-07T21:39:24.793Z"
   },
   {
    "duration": 11,
    "start_time": "2021-07-07T21:39:27.134Z"
   },
   {
    "duration": 23,
    "start_time": "2021-07-07T21:39:31.976Z"
   },
   {
    "duration": 9,
    "start_time": "2021-07-07T21:39:34.885Z"
   },
   {
    "duration": 5,
    "start_time": "2021-07-07T21:39:38.459Z"
   },
   {
    "duration": 5,
    "start_time": "2021-07-07T21:39:40.628Z"
   },
   {
    "duration": 20,
    "start_time": "2021-07-07T21:39:44.381Z"
   },
   {
    "duration": 32,
    "start_time": "2021-07-07T21:39:52.355Z"
   },
   {
    "duration": 32,
    "start_time": "2021-07-07T21:39:56.898Z"
   },
   {
    "duration": 28,
    "start_time": "2021-07-07T21:39:59.450Z"
   },
   {
    "duration": 13,
    "start_time": "2021-07-07T21:40:03.966Z"
   },
   {
    "duration": 330,
    "start_time": "2021-07-07T21:40:06.804Z"
   },
   {
    "duration": 10,
    "start_time": "2021-07-07T21:40:11.776Z"
   },
   {
    "duration": 4,
    "start_time": "2021-07-07T21:40:16.382Z"
   },
   {
    "duration": 956,
    "start_time": "2021-07-07T21:40:20.810Z"
   },
   {
    "duration": 4,
    "start_time": "2021-07-07T21:40:24.794Z"
   },
   {
    "duration": 21,
    "start_time": "2021-07-07T21:40:30.239Z"
   },
   {
    "duration": 12,
    "start_time": "2021-07-07T21:40:33.898Z"
   },
   {
    "duration": 9,
    "start_time": "2021-07-07T21:40:38.203Z"
   },
   {
    "duration": 8,
    "start_time": "2021-07-07T21:40:44.870Z"
   },
   {
    "duration": 9,
    "start_time": "2021-07-07T21:40:47.043Z"
   },
   {
    "duration": 17,
    "start_time": "2021-07-07T21:40:49.217Z"
   },
   {
    "duration": 8,
    "start_time": "2021-07-07T21:40:54.338Z"
   },
   {
    "duration": 9,
    "start_time": "2021-07-07T21:40:56.794Z"
   },
   {
    "duration": 5,
    "start_time": "2021-07-07T21:41:01.629Z"
   },
   {
    "duration": 41,
    "start_time": "2021-07-07T21:41:03.212Z"
   },
   {
    "duration": 12,
    "start_time": "2021-07-07T21:41:07.436Z"
   },
   {
    "duration": 5,
    "start_time": "2021-07-07T21:41:11.080Z"
   },
   {
    "duration": 15,
    "start_time": "2021-07-07T21:41:16.778Z"
   },
   {
    "duration": 8,
    "start_time": "2021-07-07T21:41:19.429Z"
   },
   {
    "duration": 25,
    "start_time": "2021-07-07T21:41:21.977Z"
   },
   {
    "duration": 13,
    "start_time": "2021-07-07T21:41:24.123Z"
   },
   {
    "duration": 12,
    "start_time": "2021-07-07T21:45:30.980Z"
   },
   {
    "duration": 10,
    "start_time": "2021-07-07T21:50:18.568Z"
   },
   {
    "duration": 4,
    "start_time": "2021-07-07T21:50:24.443Z"
   },
   {
    "duration": 9,
    "start_time": "2021-07-07T21:50:29.322Z"
   },
   {
    "duration": 10,
    "start_time": "2021-07-07T21:50:32.676Z"
   },
   {
    "duration": 5,
    "start_time": "2021-07-07T21:50:35.510Z"
   },
   {
    "duration": 9,
    "start_time": "2021-07-07T21:50:38.895Z"
   },
   {
    "duration": 19,
    "start_time": "2021-07-07T21:50:47.643Z"
   },
   {
    "duration": 12,
    "start_time": "2021-07-07T21:50:57.249Z"
   },
   {
    "duration": 5,
    "start_time": "2021-07-07T21:51:01.159Z"
   },
   {
    "duration": 10,
    "start_time": "2021-07-07T21:51:23.515Z"
   },
   {
    "duration": 5,
    "start_time": "2021-07-07T21:51:25.958Z"
   },
   {
    "duration": 9,
    "start_time": "2021-07-07T21:51:39.529Z"
   },
   {
    "duration": 4,
    "start_time": "2021-07-07T21:51:47.095Z"
   },
   {
    "duration": 216,
    "start_time": "2021-07-08T16:12:27.709Z"
   },
   {
    "duration": 177,
    "start_time": "2021-07-08T16:12:35.747Z"
   },
   {
    "duration": 608,
    "start_time": "2021-07-08T16:12:58.793Z"
   },
   {
    "duration": 11,
    "start_time": "2021-07-08T16:13:02.256Z"
   },
   {
    "duration": 4,
    "start_time": "2021-07-08T16:13:07.630Z"
   },
   {
    "duration": 601,
    "start_time": "2021-07-08T16:13:54.045Z"
   },
   {
    "duration": 10,
    "start_time": "2021-07-08T16:13:54.648Z"
   },
   {
    "duration": 5,
    "start_time": "2021-07-08T16:13:54.663Z"
   },
   {
    "duration": 20,
    "start_time": "2021-07-08T16:13:54.670Z"
   },
   {
    "duration": 25,
    "start_time": "2021-07-08T16:13:54.692Z"
   },
   {
    "duration": 21,
    "start_time": "2021-07-08T16:13:54.719Z"
   },
   {
    "duration": 6,
    "start_time": "2021-07-08T16:13:54.743Z"
   },
   {
    "duration": 4,
    "start_time": "2021-07-08T16:13:54.751Z"
   },
   {
    "duration": 5,
    "start_time": "2021-07-08T16:13:54.785Z"
   },
   {
    "duration": 6,
    "start_time": "2021-07-08T16:13:54.791Z"
   },
   {
    "duration": 7,
    "start_time": "2021-07-08T16:13:54.798Z"
   },
   {
    "duration": 11,
    "start_time": "2021-07-08T16:13:54.807Z"
   },
   {
    "duration": 4,
    "start_time": "2021-07-08T16:13:54.820Z"
   },
   {
    "duration": 5,
    "start_time": "2021-07-08T16:13:54.826Z"
   },
   {
    "duration": 22,
    "start_time": "2021-07-08T16:13:54.832Z"
   },
   {
    "duration": 36,
    "start_time": "2021-07-08T16:13:54.855Z"
   },
   {
    "duration": 5,
    "start_time": "2021-07-08T16:13:54.892Z"
   },
   {
    "duration": 4,
    "start_time": "2021-07-08T16:13:54.899Z"
   },
   {
    "duration": 12,
    "start_time": "2021-07-08T16:13:54.905Z"
   },
   {
    "duration": 67,
    "start_time": "2021-07-08T16:13:54.918Z"
   },
   {
    "duration": 5,
    "start_time": "2021-07-08T16:13:54.986Z"
   },
   {
    "duration": 6,
    "start_time": "2021-07-08T16:13:54.994Z"
   },
   {
    "duration": 23,
    "start_time": "2021-07-08T16:13:55.002Z"
   },
   {
    "duration": 3,
    "start_time": "2021-07-08T16:13:55.026Z"
   },
   {
    "duration": 7,
    "start_time": "2021-07-08T16:13:55.031Z"
   },
   {
    "duration": 10,
    "start_time": "2021-07-08T16:13:55.040Z"
   },
   {
    "duration": 50,
    "start_time": "2021-07-08T16:13:55.052Z"
   },
   {
    "duration": 7,
    "start_time": "2021-07-08T16:13:55.103Z"
   },
   {
    "duration": 8,
    "start_time": "2021-07-08T16:13:55.112Z"
   },
   {
    "duration": 6,
    "start_time": "2021-07-08T16:13:55.122Z"
   },
   {
    "duration": 6,
    "start_time": "2021-07-08T16:13:55.129Z"
   },
   {
    "duration": 3,
    "start_time": "2021-07-08T16:13:55.136Z"
   },
   {
    "duration": 45,
    "start_time": "2021-07-08T16:13:55.141Z"
   },
   {
    "duration": 17,
    "start_time": "2021-07-08T16:13:55.188Z"
   },
   {
    "duration": 7,
    "start_time": "2021-07-08T16:13:55.207Z"
   },
   {
    "duration": 4,
    "start_time": "2021-07-08T16:13:55.216Z"
   },
   {
    "duration": 6,
    "start_time": "2021-07-08T16:13:55.222Z"
   },
   {
    "duration": 13,
    "start_time": "2021-07-08T16:13:55.230Z"
   },
   {
    "duration": 60,
    "start_time": "2021-07-08T16:13:55.245Z"
   },
   {
    "duration": 20,
    "start_time": "2021-07-08T16:13:55.307Z"
   },
   {
    "duration": 18,
    "start_time": "2021-07-08T16:13:55.328Z"
   },
   {
    "duration": 4,
    "start_time": "2021-07-08T16:13:55.348Z"
   },
   {
    "duration": 37,
    "start_time": "2021-07-08T16:13:55.354Z"
   },
   {
    "duration": 3,
    "start_time": "2021-07-08T16:13:55.392Z"
   },
   {
    "duration": 654,
    "start_time": "2021-07-08T16:13:55.396Z"
   },
   {
    "duration": 3,
    "start_time": "2021-07-08T16:13:56.052Z"
   },
   {
    "duration": 29,
    "start_time": "2021-07-08T16:13:56.057Z"
   },
   {
    "duration": 7,
    "start_time": "2021-07-08T16:13:56.087Z"
   },
   {
    "duration": 7,
    "start_time": "2021-07-08T16:13:56.096Z"
   },
   {
    "duration": 6,
    "start_time": "2021-07-08T16:13:56.105Z"
   },
   {
    "duration": 8,
    "start_time": "2021-07-08T16:13:56.113Z"
   },
   {
    "duration": 12,
    "start_time": "2021-07-08T16:13:56.122Z"
   },
   {
    "duration": 6,
    "start_time": "2021-07-08T16:13:56.135Z"
   },
   {
    "duration": 47,
    "start_time": "2021-07-08T16:13:56.143Z"
   },
   {
    "duration": 4,
    "start_time": "2021-07-08T16:13:56.192Z"
   },
   {
    "duration": 26,
    "start_time": "2021-07-08T16:13:56.198Z"
   },
   {
    "duration": 8,
    "start_time": "2021-07-08T16:13:56.226Z"
   },
   {
    "duration": 4,
    "start_time": "2021-07-08T16:13:56.236Z"
   },
   {
    "duration": 13,
    "start_time": "2021-07-08T16:13:56.241Z"
   },
   {
    "duration": 6,
    "start_time": "2021-07-08T16:13:56.285Z"
   },
   {
    "duration": 16,
    "start_time": "2021-07-08T16:13:56.293Z"
   },
   {
    "duration": 8,
    "start_time": "2021-07-08T16:13:56.311Z"
   },
   {
    "duration": 8,
    "start_time": "2021-07-08T16:13:56.321Z"
   },
   {
    "duration": 269,
    "start_time": "2021-07-08T16:17:42.845Z"
   },
   {
    "duration": 8,
    "start_time": "2021-07-08T16:37:14.199Z"
   },
   {
    "duration": 8,
    "start_time": "2021-07-08T16:41:02.933Z"
   },
   {
    "duration": 4,
    "start_time": "2021-07-08T16:41:07.368Z"
   },
   {
    "duration": 641,
    "start_time": "2021-07-08T16:41:12.131Z"
   },
   {
    "duration": 3,
    "start_time": "2021-07-08T16:41:14.545Z"
   },
   {
    "duration": 181,
    "start_time": "2021-07-08T16:41:40.794Z"
   },
   {
    "duration": 187,
    "start_time": "2021-07-08T16:41:47.201Z"
   },
   {
    "duration": 2847,
    "start_time": "2021-07-08T16:43:43.983Z"
   },
   {
    "duration": 2612,
    "start_time": "2021-07-08T16:43:52.461Z"
   },
   {
    "duration": 15,
    "start_time": "2021-07-08T16:44:27.954Z"
   },
   {
    "duration": 12,
    "start_time": "2021-07-08T16:44:42.309Z"
   },
   {
    "duration": 12,
    "start_time": "2021-07-08T16:45:48.227Z"
   },
   {
    "duration": 4,
    "start_time": "2021-07-08T16:46:16.851Z"
   },
   {
    "duration": 7,
    "start_time": "2021-07-08T16:46:28.033Z"
   },
   {
    "duration": 3,
    "start_time": "2021-07-08T16:46:30.483Z"
   },
   {
    "duration": 3,
    "start_time": "2021-07-08T16:53:42.754Z"
   },
   {
    "duration": 176,
    "start_time": "2021-07-08T16:54:23.580Z"
   },
   {
    "duration": 13,
    "start_time": "2021-07-08T16:54:35.027Z"
   },
   {
    "duration": 15,
    "start_time": "2021-07-08T16:55:23.469Z"
   },
   {
    "duration": 16,
    "start_time": "2021-07-08T16:55:44.445Z"
   },
   {
    "duration": 15,
    "start_time": "2021-07-08T16:55:49.014Z"
   },
   {
    "duration": 14,
    "start_time": "2021-07-08T16:56:02.476Z"
   },
   {
    "duration": 75,
    "start_time": "2021-07-08T16:56:54.401Z"
   },
   {
    "duration": 171,
    "start_time": "2021-07-08T17:07:36.228Z"
   },
   {
    "duration": 167,
    "start_time": "2021-07-08T17:07:59.438Z"
   },
   {
    "duration": 175,
    "start_time": "2021-07-08T17:08:15.658Z"
   },
   {
    "duration": 168,
    "start_time": "2021-07-08T17:08:34.322Z"
   },
   {
    "duration": 3,
    "start_time": "2021-07-08T17:09:10.113Z"
   },
   {
    "duration": 58,
    "start_time": "2021-07-08T17:17:16.286Z"
   },
   {
    "duration": 3,
    "start_time": "2021-07-08T17:17:25.422Z"
   },
   {
    "duration": 189,
    "start_time": "2021-07-08T17:17:44.209Z"
   },
   {
    "duration": 188,
    "start_time": "2021-07-08T17:18:46.796Z"
   },
   {
    "duration": 177,
    "start_time": "2021-07-08T17:18:56.470Z"
   },
   {
    "duration": 3,
    "start_time": "2021-07-08T17:19:12.277Z"
   },
   {
    "duration": 14,
    "start_time": "2021-07-08T17:20:04.938Z"
   },
   {
    "duration": 32,
    "start_time": "2021-07-08T17:21:31.801Z"
   },
   {
    "duration": 58,
    "start_time": "2021-07-08T17:22:11.972Z"
   },
   {
    "duration": 28,
    "start_time": "2021-07-08T17:22:22.986Z"
   },
   {
    "duration": 29,
    "start_time": "2021-07-08T17:22:35.902Z"
   },
   {
    "duration": 182,
    "start_time": "2021-07-08T17:23:55.439Z"
   },
   {
    "duration": 25,
    "start_time": "2021-07-08T17:24:21.883Z"
   },
   {
    "duration": 26,
    "start_time": "2021-07-08T17:24:34.779Z"
   },
   {
    "duration": 3,
    "start_time": "2021-07-08T17:27:52.492Z"
   },
   {
    "duration": 176,
    "start_time": "2021-07-08T17:29:38.780Z"
   },
   {
    "duration": 27,
    "start_time": "2021-07-08T17:29:54.169Z"
   },
   {
    "duration": 30,
    "start_time": "2021-07-08T17:30:28.967Z"
   },
   {
    "duration": 32,
    "start_time": "2021-07-08T17:30:59.013Z"
   },
   {
    "duration": 26,
    "start_time": "2021-07-08T17:31:27.379Z"
   },
   {
    "duration": 56,
    "start_time": "2021-07-08T17:34:13.048Z"
   },
   {
    "duration": 340,
    "start_time": "2021-07-08T17:34:29.208Z"
   },
   {
    "duration": 4,
    "start_time": "2021-07-08T17:34:35.854Z"
   },
   {
    "duration": 3,
    "start_time": "2021-07-08T17:36:26.620Z"
   },
   {
    "duration": 4,
    "start_time": "2021-07-08T17:36:50.335Z"
   },
   {
    "duration": 4,
    "start_time": "2021-07-08T17:36:54.821Z"
   },
   {
    "duration": 4,
    "start_time": "2021-07-08T17:38:32.111Z"
   },
   {
    "duration": 646,
    "start_time": "2021-07-08T17:39:07.784Z"
   },
   {
    "duration": 10,
    "start_time": "2021-07-08T17:39:08.432Z"
   },
   {
    "duration": 3,
    "start_time": "2021-07-08T17:39:08.444Z"
   },
   {
    "duration": 9,
    "start_time": "2021-07-08T17:39:08.449Z"
   },
   {
    "duration": 41,
    "start_time": "2021-07-08T17:39:08.459Z"
   },
   {
    "duration": 21,
    "start_time": "2021-07-08T17:39:08.502Z"
   },
   {
    "duration": 7,
    "start_time": "2021-07-08T17:39:08.524Z"
   },
   {
    "duration": 3,
    "start_time": "2021-07-08T17:39:08.533Z"
   },
   {
    "duration": 11,
    "start_time": "2021-07-08T17:39:08.538Z"
   },
   {
    "duration": 5,
    "start_time": "2021-07-08T17:39:08.550Z"
   },
   {
    "duration": 30,
    "start_time": "2021-07-08T17:39:08.557Z"
   },
   {
    "duration": 12,
    "start_time": "2021-07-08T17:39:08.588Z"
   },
   {
    "duration": 4,
    "start_time": "2021-07-08T17:39:08.601Z"
   },
   {
    "duration": 5,
    "start_time": "2021-07-08T17:39:08.607Z"
   },
   {
    "duration": 23,
    "start_time": "2021-07-08T17:39:08.613Z"
   },
   {
    "duration": 8,
    "start_time": "2021-07-08T17:39:08.637Z"
   },
   {
    "duration": 37,
    "start_time": "2021-07-08T17:39:08.647Z"
   },
   {
    "duration": 4,
    "start_time": "2021-07-08T17:39:08.686Z"
   },
   {
    "duration": 10,
    "start_time": "2021-07-08T17:39:08.691Z"
   },
   {
    "duration": 35,
    "start_time": "2021-07-08T17:39:08.703Z"
   },
   {
    "duration": 3,
    "start_time": "2021-07-08T17:39:08.740Z"
   },
   {
    "duration": 15,
    "start_time": "2021-07-08T17:39:08.745Z"
   },
   {
    "duration": 21,
    "start_time": "2021-07-08T17:39:08.785Z"
   },
   {
    "duration": 3,
    "start_time": "2021-07-08T17:39:08.808Z"
   },
   {
    "duration": 10,
    "start_time": "2021-07-08T17:39:08.813Z"
   },
   {
    "duration": 11,
    "start_time": "2021-07-08T17:39:08.825Z"
   },
   {
    "duration": 20,
    "start_time": "2021-07-08T17:39:08.838Z"
   },
   {
    "duration": 28,
    "start_time": "2021-07-08T17:39:08.859Z"
   },
   {
    "duration": 9,
    "start_time": "2021-07-08T17:39:08.889Z"
   },
   {
    "duration": 4,
    "start_time": "2021-07-08T17:39:08.900Z"
   },
   {
    "duration": 5,
    "start_time": "2021-07-08T17:39:08.906Z"
   },
   {
    "duration": 4,
    "start_time": "2021-07-08T17:39:08.912Z"
   },
   {
    "duration": 9,
    "start_time": "2021-07-08T17:39:08.917Z"
   },
   {
    "duration": 59,
    "start_time": "2021-07-08T17:39:08.927Z"
   },
   {
    "duration": 6,
    "start_time": "2021-07-08T17:39:08.987Z"
   },
   {
    "duration": 3,
    "start_time": "2021-07-08T17:39:08.995Z"
   },
   {
    "duration": 5,
    "start_time": "2021-07-08T17:39:09.000Z"
   },
   {
    "duration": 13,
    "start_time": "2021-07-08T17:39:09.006Z"
   },
   {
    "duration": 22,
    "start_time": "2021-07-08T17:39:09.021Z"
   },
   {
    "duration": 58,
    "start_time": "2021-07-08T17:39:09.044Z"
   },
   {
    "duration": 18,
    "start_time": "2021-07-08T17:39:09.104Z"
   },
   {
    "duration": 4,
    "start_time": "2021-07-08T17:39:09.124Z"
   },
   {
    "duration": 8,
    "start_time": "2021-07-08T17:39:09.129Z"
   },
   {
    "duration": 3,
    "start_time": "2021-07-08T17:39:09.138Z"
   },
   {
    "duration": 701,
    "start_time": "2021-07-08T17:39:09.143Z"
   },
   {
    "duration": 3,
    "start_time": "2021-07-08T17:39:09.847Z"
   },
   {
    "duration": 17,
    "start_time": "2021-07-08T17:39:09.852Z"
   },
   {
    "duration": 2,
    "start_time": "2021-07-08T17:39:09.871Z"
   },
   {
    "duration": 2,
    "start_time": "2021-07-08T17:39:09.885Z"
   },
   {
    "duration": 4,
    "start_time": "2021-07-08T17:39:09.888Z"
   },
   {
    "duration": 12,
    "start_time": "2021-07-08T17:39:09.893Z"
   },
   {
    "duration": 20,
    "start_time": "2021-07-08T17:39:09.906Z"
   },
   {
    "duration": 6,
    "start_time": "2021-07-08T17:39:09.928Z"
   },
   {
    "duration": 10,
    "start_time": "2021-07-08T17:39:09.935Z"
   },
   {
    "duration": 14,
    "start_time": "2021-07-08T17:39:09.946Z"
   },
   {
    "duration": 25,
    "start_time": "2021-07-08T17:39:09.961Z"
   },
   {
    "duration": 12,
    "start_time": "2021-07-08T17:39:09.987Z"
   },
   {
    "duration": 13,
    "start_time": "2021-07-08T17:39:10.000Z"
   },
   {
    "duration": 13,
    "start_time": "2021-07-08T17:39:10.014Z"
   },
   {
    "duration": 10,
    "start_time": "2021-07-08T17:39:10.029Z"
   },
   {
    "duration": 28,
    "start_time": "2021-07-08T17:39:10.040Z"
   },
   {
    "duration": 22,
    "start_time": "2021-07-08T17:39:10.070Z"
   },
   {
    "duration": 4,
    "start_time": "2021-07-08T17:39:10.093Z"
   },
   {
    "duration": 13,
    "start_time": "2021-07-08T17:39:10.098Z"
   },
   {
    "duration": 11,
    "start_time": "2021-07-08T17:39:10.112Z"
   },
   {
    "duration": 16,
    "start_time": "2021-07-08T17:39:10.125Z"
   },
   {
    "duration": 8,
    "start_time": "2021-07-08T17:39:10.143Z"
   },
   {
    "duration": 32,
    "start_time": "2021-07-08T17:39:10.155Z"
   },
   {
    "duration": 3,
    "start_time": "2021-07-08T17:40:19.869Z"
   },
   {
    "duration": 910,
    "start_time": "2021-07-08T17:42:17.394Z"
   },
   {
    "duration": 212,
    "start_time": "2021-07-08T17:43:07.778Z"
   },
   {
    "duration": 170,
    "start_time": "2021-07-08T17:43:15.866Z"
   },
   {
    "duration": 642,
    "start_time": "2021-07-08T17:43:24.474Z"
   },
   {
    "duration": 4,
    "start_time": "2021-07-08T17:43:33.425Z"
   },
   {
    "duration": 643,
    "start_time": "2021-07-08T17:43:52.267Z"
   },
   {
    "duration": 26,
    "start_time": "2021-07-08T17:44:46.785Z"
   },
   {
    "duration": 29,
    "start_time": "2021-07-08T17:45:22.825Z"
   },
   {
    "duration": 3,
    "start_time": "2021-07-08T17:45:33.934Z"
   },
   {
    "duration": 67,
    "start_time": "2021-07-08T17:45:40.280Z"
   },
   {
    "duration": 1108,
    "start_time": "2021-07-08T17:45:44.285Z"
   },
   {
    "duration": 29,
    "start_time": "2021-07-08T17:45:57.086Z"
   },
   {
    "duration": 3,
    "start_time": "2021-07-08T17:46:35.722Z"
   },
   {
    "duration": 34,
    "start_time": "2021-07-08T17:46:39.311Z"
   },
   {
    "duration": 2,
    "start_time": "2021-07-08T17:46:47.014Z"
   },
   {
    "duration": 29,
    "start_time": "2021-07-08T17:46:48.838Z"
   },
   {
    "duration": 3,
    "start_time": "2021-07-08T17:48:30.802Z"
   },
   {
    "duration": 27,
    "start_time": "2021-07-08T17:48:33.413Z"
   },
   {
    "duration": 3,
    "start_time": "2021-07-08T17:51:44.817Z"
   },
   {
    "duration": 3,
    "start_time": "2021-07-08T17:55:05.719Z"
   },
   {
    "duration": 28,
    "start_time": "2021-07-08T17:55:25.334Z"
   },
   {
    "duration": 4365,
    "start_time": "2021-07-08T17:56:01.313Z"
   },
   {
    "duration": 10,
    "start_time": "2021-07-08T17:56:22.621Z"
   },
   {
    "duration": 15,
    "start_time": "2021-07-08T17:57:05.667Z"
   },
   {
    "duration": 14,
    "start_time": "2021-07-08T17:57:07.438Z"
   },
   {
    "duration": 30,
    "start_time": "2021-07-08T17:57:09.530Z"
   },
   {
    "duration": 572,
    "start_time": "2021-07-08T18:29:40.847Z"
   },
   {
    "duration": 9,
    "start_time": "2021-07-08T18:29:41.421Z"
   },
   {
    "duration": 4,
    "start_time": "2021-07-08T18:29:41.432Z"
   },
   {
    "duration": 10,
    "start_time": "2021-07-08T18:29:41.437Z"
   },
   {
    "duration": 43,
    "start_time": "2021-07-08T18:29:41.449Z"
   },
   {
    "duration": 19,
    "start_time": "2021-07-08T18:29:41.494Z"
   },
   {
    "duration": 6,
    "start_time": "2021-07-08T18:29:41.515Z"
   },
   {
    "duration": 7,
    "start_time": "2021-07-08T18:29:41.523Z"
   },
   {
    "duration": 11,
    "start_time": "2021-07-08T18:29:41.532Z"
   },
   {
    "duration": 16,
    "start_time": "2021-07-08T18:29:41.544Z"
   },
   {
    "duration": 15,
    "start_time": "2021-07-08T18:29:41.561Z"
   },
   {
    "duration": 11,
    "start_time": "2021-07-08T18:29:41.577Z"
   },
   {
    "duration": 4,
    "start_time": "2021-07-08T18:29:41.589Z"
   },
   {
    "duration": 14,
    "start_time": "2021-07-08T18:29:41.595Z"
   },
   {
    "duration": 27,
    "start_time": "2021-07-08T18:29:41.610Z"
   },
   {
    "duration": 8,
    "start_time": "2021-07-08T18:29:41.639Z"
   },
   {
    "duration": 7,
    "start_time": "2021-07-08T18:29:41.649Z"
   },
   {
    "duration": 28,
    "start_time": "2021-07-08T18:29:41.658Z"
   },
   {
    "duration": 10,
    "start_time": "2021-07-08T18:29:41.688Z"
   },
   {
    "duration": 38,
    "start_time": "2021-07-08T18:29:41.699Z"
   },
   {
    "duration": 5,
    "start_time": "2021-07-08T18:29:41.739Z"
   },
   {
    "duration": 14,
    "start_time": "2021-07-08T18:29:41.746Z"
   },
   {
    "duration": 20,
    "start_time": "2021-07-08T18:29:41.788Z"
   },
   {
    "duration": 3,
    "start_time": "2021-07-08T18:29:41.811Z"
   },
   {
    "duration": 15,
    "start_time": "2021-07-08T18:29:41.816Z"
   },
   {
    "duration": 11,
    "start_time": "2021-07-08T18:29:41.833Z"
   },
   {
    "duration": 41,
    "start_time": "2021-07-08T18:29:41.845Z"
   },
   {
    "duration": 8,
    "start_time": "2021-07-08T18:29:41.887Z"
   },
   {
    "duration": 9,
    "start_time": "2021-07-08T18:29:41.897Z"
   },
   {
    "duration": 4,
    "start_time": "2021-07-08T18:29:41.908Z"
   },
   {
    "duration": 7,
    "start_time": "2021-07-08T18:29:41.913Z"
   },
   {
    "duration": 5,
    "start_time": "2021-07-08T18:29:41.921Z"
   },
   {
    "duration": 9,
    "start_time": "2021-07-08T18:29:41.928Z"
   },
   {
    "duration": 53,
    "start_time": "2021-07-08T18:29:41.938Z"
   },
   {
    "duration": 7,
    "start_time": "2021-07-08T18:29:41.992Z"
   },
   {
    "duration": 4,
    "start_time": "2021-07-08T18:29:42.001Z"
   },
   {
    "duration": 5,
    "start_time": "2021-07-08T18:29:42.006Z"
   },
   {
    "duration": 14,
    "start_time": "2021-07-08T18:29:42.012Z"
   },
   {
    "duration": 22,
    "start_time": "2021-07-08T18:29:42.027Z"
   },
   {
    "duration": 23,
    "start_time": "2021-07-08T18:29:42.085Z"
   },
   {
    "duration": 20,
    "start_time": "2021-07-08T18:29:42.110Z"
   },
   {
    "duration": 5,
    "start_time": "2021-07-08T18:29:42.132Z"
   },
   {
    "duration": 8,
    "start_time": "2021-07-08T18:29:42.139Z"
   },
   {
    "duration": 37,
    "start_time": "2021-07-08T18:29:42.149Z"
   },
   {
    "duration": 658,
    "start_time": "2021-07-08T18:29:42.189Z"
   },
   {
    "duration": 4,
    "start_time": "2021-07-08T18:29:42.849Z"
   },
   {
    "duration": 16,
    "start_time": "2021-07-08T18:29:42.854Z"
   },
   {
    "duration": 15,
    "start_time": "2021-07-08T18:29:42.872Z"
   },
   {
    "duration": 30,
    "start_time": "2021-07-08T18:29:42.888Z"
   },
   {
    "duration": 15,
    "start_time": "2021-07-08T18:29:42.919Z"
   },
   {
    "duration": 5,
    "start_time": "2021-07-08T18:29:42.935Z"
   },
   {
    "duration": 6,
    "start_time": "2021-07-08T18:29:42.942Z"
   },
   {
    "duration": 4,
    "start_time": "2021-07-08T18:29:42.950Z"
   },
   {
    "duration": 32,
    "start_time": "2021-07-08T18:29:42.956Z"
   },
   {
    "duration": 11,
    "start_time": "2021-07-08T18:29:42.990Z"
   },
   {
    "duration": 12,
    "start_time": "2021-07-08T18:29:43.003Z"
   },
   {
    "duration": 9,
    "start_time": "2021-07-08T18:29:43.017Z"
   },
   {
    "duration": 4,
    "start_time": "2021-07-08T18:29:43.027Z"
   },
   {
    "duration": 23,
    "start_time": "2021-07-08T18:29:43.032Z"
   },
   {
    "duration": 36,
    "start_time": "2021-07-08T18:29:43.056Z"
   },
   {
    "duration": 3,
    "start_time": "2021-07-08T18:29:43.094Z"
   },
   {
    "duration": 10,
    "start_time": "2021-07-08T18:29:43.098Z"
   },
   {
    "duration": 8,
    "start_time": "2021-07-08T18:29:43.110Z"
   },
   {
    "duration": 14,
    "start_time": "2021-07-08T18:29:43.119Z"
   },
   {
    "duration": 7,
    "start_time": "2021-07-08T18:29:43.135Z"
   },
   {
    "duration": 41,
    "start_time": "2021-07-08T18:29:43.144Z"
   },
   {
    "duration": 59,
    "start_time": "2021-07-08T19:52:21.042Z"
   },
   {
    "duration": 11,
    "start_time": "2021-07-08T19:52:24.794Z"
   },
   {
    "duration": 4,
    "start_time": "2021-07-08T19:52:28.684Z"
   },
   {
    "duration": 11,
    "start_time": "2021-07-08T19:52:30.617Z"
   },
   {
    "duration": 24,
    "start_time": "2021-07-08T19:52:35.705Z"
   },
   {
    "duration": 22,
    "start_time": "2021-07-08T19:52:42.618Z"
   },
   {
    "duration": 7,
    "start_time": "2021-07-08T19:52:49.000Z"
   },
   {
    "duration": 4,
    "start_time": "2021-07-08T19:52:50.967Z"
   },
   {
    "duration": 5,
    "start_time": "2021-07-08T19:52:53.104Z"
   },
   {
    "duration": 5,
    "start_time": "2021-07-08T19:52:55.357Z"
   },
   {
    "duration": 4,
    "start_time": "2021-07-08T19:52:57.651Z"
   },
   {
    "duration": 10,
    "start_time": "2021-07-08T19:52:59.501Z"
   },
   {
    "duration": 5,
    "start_time": "2021-07-08T19:53:01.937Z"
   },
   {
    "duration": 4,
    "start_time": "2021-07-08T19:53:03.936Z"
   },
   {
    "duration": 22,
    "start_time": "2021-07-08T19:53:05.483Z"
   },
   {
    "duration": 8,
    "start_time": "2021-07-08T19:53:07.873Z"
   },
   {
    "duration": 6,
    "start_time": "2021-07-08T19:53:09.842Z"
   },
   {
    "duration": 5,
    "start_time": "2021-07-08T19:53:11.611Z"
   },
   {
    "duration": 9,
    "start_time": "2021-07-08T19:54:11.652Z"
   },
   {
    "duration": 5,
    "start_time": "2021-07-08T19:54:20.332Z"
   },
   {
    "duration": 4,
    "start_time": "2021-07-08T19:54:22.554Z"
   },
   {
    "duration": 5,
    "start_time": "2021-07-08T19:54:25.309Z"
   },
   {
    "duration": 3,
    "start_time": "2021-07-08T19:54:57.991Z"
   },
   {
    "duration": 6,
    "start_time": "2021-07-08T19:54:59.688Z"
   },
   {
    "duration": 5,
    "start_time": "2021-07-08T19:55:01.683Z"
   },
   {
    "duration": 4,
    "start_time": "2021-07-08T19:55:04.322Z"
   },
   {
    "duration": 10,
    "start_time": "2021-07-08T19:55:06.382Z"
   },
   {
    "duration": 6,
    "start_time": "2021-07-08T19:55:08.314Z"
   },
   {
    "duration": 5,
    "start_time": "2021-07-08T19:55:09.992Z"
   },
   {
    "duration": 21,
    "start_time": "2021-07-08T19:55:11.959Z"
   },
   {
    "duration": 9,
    "start_time": "2021-07-08T19:55:14.277Z"
   },
   {
    "duration": 6,
    "start_time": "2021-07-08T19:55:16.477Z"
   },
   {
    "duration": 6,
    "start_time": "2021-07-08T19:55:42.095Z"
   },
   {
    "duration": 8,
    "start_time": "2021-07-08T19:55:44.217Z"
   },
   {
    "duration": 5,
    "start_time": "2021-07-08T19:55:52.162Z"
   },
   {
    "duration": 38,
    "start_time": "2021-07-08T19:55:54.421Z"
   },
   {
    "duration": 5,
    "start_time": "2021-07-08T19:55:56.473Z"
   },
   {
    "duration": 6,
    "start_time": "2021-07-08T19:55:59.237Z"
   },
   {
    "duration": 22,
    "start_time": "2021-07-08T19:56:01.490Z"
   },
   {
    "duration": 4,
    "start_time": "2021-07-08T19:56:04.907Z"
   },
   {
    "duration": 6,
    "start_time": "2021-07-08T19:56:06.974Z"
   },
   {
    "duration": 10,
    "start_time": "2021-07-08T19:56:09.667Z"
   },
   {
    "duration": 21,
    "start_time": "2021-07-08T19:56:12.029Z"
   },
   {
    "duration": 8,
    "start_time": "2021-07-08T19:56:42.307Z"
   },
   {
    "duration": 5,
    "start_time": "2021-07-08T19:59:21.675Z"
   },
   {
    "duration": 4,
    "start_time": "2021-07-08T19:59:23.562Z"
   },
   {
    "duration": 5,
    "start_time": "2021-07-08T19:59:36.890Z"
   },
   {
    "duration": 4,
    "start_time": "2021-07-08T19:59:40.980Z"
   },
   {
    "duration": 5,
    "start_time": "2021-07-08T19:59:42.774Z"
   },
   {
    "duration": 3,
    "start_time": "2021-07-08T19:59:46.284Z"
   },
   {
    "duration": 8,
    "start_time": "2021-07-08T19:59:49.036Z"
   },
   {
    "duration": 15,
    "start_time": "2021-07-08T19:59:51.967Z"
   },
   {
    "duration": 7,
    "start_time": "2021-07-08T19:59:55.253Z"
   },
   {
    "duration": 4,
    "start_time": "2021-07-08T19:59:57.855Z"
   },
   {
    "duration": 9,
    "start_time": "2021-07-08T20:00:31.100Z"
   },
   {
    "duration": 14,
    "start_time": "2021-07-08T20:00:33.466Z"
   },
   {
    "duration": 7,
    "start_time": "2021-07-08T20:01:20.769Z"
   },
   {
    "duration": 8,
    "start_time": "2021-07-08T20:01:26.659Z"
   },
   {
    "duration": 16,
    "start_time": "2021-07-08T20:01:29.286Z"
   },
   {
    "duration": 7,
    "start_time": "2021-07-08T20:01:32.387Z"
   },
   {
    "duration": 3,
    "start_time": "2021-07-08T20:02:06.823Z"
   },
   {
    "duration": 3,
    "start_time": "2021-07-08T20:03:09.758Z"
   },
   {
    "duration": 4,
    "start_time": "2021-07-08T20:03:11.204Z"
   },
   {
    "duration": 4,
    "start_time": "2021-07-08T20:03:13.196Z"
   },
   {
    "duration": 14,
    "start_time": "2021-07-08T20:10:45.985Z"
   },
   {
    "duration": 19,
    "start_time": "2021-07-08T20:10:50.857Z"
   },
   {
    "duration": 59,
    "start_time": "2021-07-08T20:11:26.350Z"
   },
   {
    "duration": 20,
    "start_time": "2021-07-08T20:11:32.864Z"
   },
   {
    "duration": 18,
    "start_time": "2021-07-08T20:11:44.832Z"
   },
   {
    "duration": 20,
    "start_time": "2021-07-08T20:11:59.034Z"
   },
   {
    "duration": 59,
    "start_time": "2021-07-08T20:12:59.986Z"
   },
   {
    "duration": 8,
    "start_time": "2021-07-08T20:13:09.135Z"
   },
   {
    "duration": 224,
    "start_time": "2021-07-08T20:13:12.847Z"
   },
   {
    "duration": 8,
    "start_time": "2021-07-08T20:13:16.267Z"
   },
   {
    "duration": 190,
    "start_time": "2021-07-08T20:13:19.811Z"
   },
   {
    "duration": 7,
    "start_time": "2021-07-08T20:13:32.624Z"
   },
   {
    "duration": 174,
    "start_time": "2021-07-08T20:13:34.585Z"
   },
   {
    "duration": 164,
    "start_time": "2021-07-08T20:13:44.643Z"
   },
   {
    "duration": 8,
    "start_time": "2021-07-08T20:14:09.494Z"
   },
   {
    "duration": 175,
    "start_time": "2021-07-08T20:14:11.550Z"
   },
   {
    "duration": 7,
    "start_time": "2021-07-08T20:14:22.093Z"
   },
   {
    "duration": 178,
    "start_time": "2021-07-08T20:14:28.886Z"
   },
   {
    "duration": 3,
    "start_time": "2021-07-08T20:14:44.116Z"
   },
   {
    "duration": 8,
    "start_time": "2021-07-08T20:14:45.926Z"
   },
   {
    "duration": 169,
    "start_time": "2021-07-08T20:14:48.440Z"
   },
   {
    "duration": 3,
    "start_time": "2021-07-08T20:14:54.022Z"
   },
   {
    "duration": 7,
    "start_time": "2021-07-08T20:14:56.096Z"
   },
   {
    "duration": 168,
    "start_time": "2021-07-08T20:14:59.643Z"
   },
   {
    "duration": 176,
    "start_time": "2021-07-08T20:15:15.509Z"
   },
   {
    "duration": 32,
    "start_time": "2021-07-08T20:15:23.727Z"
   },
   {
    "duration": 4,
    "start_time": "2021-07-08T20:15:27.339Z"
   },
   {
    "duration": 3,
    "start_time": "2021-07-08T20:15:53.856Z"
   },
   {
    "duration": 29,
    "start_time": "2021-07-08T20:15:56.087Z"
   },
   {
    "duration": 28,
    "start_time": "2021-07-08T20:16:12.443Z"
   },
   {
    "duration": 62,
    "start_time": "2021-07-08T20:18:36.829Z"
   },
   {
    "duration": 16,
    "start_time": "2021-07-08T20:18:48.014Z"
   },
   {
    "duration": 6,
    "start_time": "2021-07-08T20:18:57.028Z"
   },
   {
    "duration": 73,
    "start_time": "2021-07-08T20:19:13.110Z"
   },
   {
    "duration": 6,
    "start_time": "2021-07-08T20:19:18.376Z"
   },
   {
    "duration": 7,
    "start_time": "2021-07-08T20:19:50.509Z"
   },
   {
    "duration": 6,
    "start_time": "2021-07-08T20:19:53.953Z"
   },
   {
    "duration": 6,
    "start_time": "2021-07-08T20:20:55.650Z"
   },
   {
    "duration": 7,
    "start_time": "2021-07-08T20:20:58.070Z"
   },
   {
    "duration": 8,
    "start_time": "2021-07-08T20:21:24.036Z"
   },
   {
    "duration": 10,
    "start_time": "2021-07-08T20:21:57.524Z"
   },
   {
    "duration": 12,
    "start_time": "2021-07-08T20:22:22.859Z"
   },
   {
    "duration": 13,
    "start_time": "2021-07-08T20:23:55.810Z"
   },
   {
    "duration": 12,
    "start_time": "2021-07-08T20:25:00.328Z"
   },
   {
    "duration": 13,
    "start_time": "2021-07-08T20:25:13.266Z"
   },
   {
    "duration": 21,
    "start_time": "2021-07-08T20:25:56.557Z"
   },
   {
    "duration": 13,
    "start_time": "2021-07-08T20:26:17.784Z"
   },
   {
    "duration": 14,
    "start_time": "2021-07-08T20:26:30.093Z"
   },
   {
    "duration": 6,
    "start_time": "2021-07-08T20:26:34.423Z"
   },
   {
    "duration": 13,
    "start_time": "2021-07-08T20:26:44.912Z"
   },
   {
    "duration": 9,
    "start_time": "2021-07-08T20:26:52.649Z"
   },
   {
    "duration": 13,
    "start_time": "2021-07-08T20:26:58.446Z"
   },
   {
    "duration": 4,
    "start_time": "2021-07-08T20:27:58.120Z"
   },
   {
    "duration": 12,
    "start_time": "2021-07-08T20:28:04.489Z"
   },
   {
    "duration": 12,
    "start_time": "2021-07-08T20:28:28.117Z"
   },
   {
    "duration": 8,
    "start_time": "2021-07-08T20:29:06.501Z"
   },
   {
    "duration": 13,
    "start_time": "2021-07-08T20:29:12.107Z"
   },
   {
    "duration": 4,
    "start_time": "2021-07-08T20:30:50.577Z"
   },
   {
    "duration": 13,
    "start_time": "2021-07-08T20:30:59.334Z"
   },
   {
    "duration": 7,
    "start_time": "2021-07-08T20:31:06.136Z"
   },
   {
    "duration": 13,
    "start_time": "2021-07-08T20:31:08.155Z"
   },
   {
    "duration": 6,
    "start_time": "2021-07-08T20:31:12.586Z"
   },
   {
    "duration": 9,
    "start_time": "2021-07-08T20:31:15.741Z"
   },
   {
    "duration": 9,
    "start_time": "2021-07-08T20:31:43.393Z"
   },
   {
    "duration": 4,
    "start_time": "2021-07-08T20:31:46.953Z"
   },
   {
    "duration": 11,
    "start_time": "2021-07-08T20:31:50.229Z"
   },
   {
    "duration": 6,
    "start_time": "2021-07-08T20:31:53.731Z"
   },
   {
    "duration": 14,
    "start_time": "2021-07-08T20:31:56.621Z"
   },
   {
    "duration": 4182,
    "start_time": "2021-07-08T20:35:45.981Z"
   },
   {
    "duration": 5,
    "start_time": "2021-07-08T20:36:13.551Z"
   },
   {
    "duration": 6,
    "start_time": "2021-07-08T20:36:28.308Z"
   },
   {
    "duration": 8,
    "start_time": "2021-07-08T20:36:55.773Z"
   },
   {
    "duration": 7,
    "start_time": "2021-07-08T20:37:56.718Z"
   },
   {
    "duration": 6,
    "start_time": "2021-07-08T20:38:37.312Z"
   },
   {
    "duration": 7,
    "start_time": "2021-07-08T20:38:44.529Z"
   },
   {
    "duration": 60,
    "start_time": "2021-07-08T20:40:25.526Z"
   },
   {
    "duration": 11,
    "start_time": "2021-07-08T20:40:51.905Z"
   },
   {
    "duration": 12,
    "start_time": "2021-07-08T20:42:45.129Z"
   },
   {
    "duration": 13,
    "start_time": "2021-07-08T20:43:00.097Z"
   },
   {
    "duration": 14,
    "start_time": "2021-07-08T20:58:23.953Z"
   },
   {
    "duration": 4461,
    "start_time": "2021-07-08T20:58:56.404Z"
   },
   {
    "duration": 60,
    "start_time": "2021-07-08T20:59:13.987Z"
   },
   {
    "duration": 61,
    "start_time": "2021-07-08T20:59:19.442Z"
   },
   {
    "duration": 11,
    "start_time": "2021-07-08T20:59:25.035Z"
   },
   {
    "duration": 51,
    "start_time": "2021-07-08T20:59:53.479Z"
   },
   {
    "duration": 9,
    "start_time": "2021-07-08T20:59:59.946Z"
   },
   {
    "duration": 10,
    "start_time": "2021-07-08T21:00:23.517Z"
   },
   {
    "duration": 9,
    "start_time": "2021-07-08T21:01:34.787Z"
   },
   {
    "duration": 176,
    "start_time": "2021-07-08T21:03:05.857Z"
   },
   {
    "duration": 9,
    "start_time": "2021-07-08T21:03:40.213Z"
   },
   {
    "duration": 5,
    "start_time": "2021-07-08T21:05:17.354Z"
   },
   {
    "duration": 7,
    "start_time": "2021-07-08T21:05:19.649Z"
   },
   {
    "duration": 13,
    "start_time": "2021-07-08T21:05:24.968Z"
   },
   {
    "duration": 4247,
    "start_time": "2021-07-08T21:07:04.491Z"
   },
   {
    "duration": 13,
    "start_time": "2021-07-08T21:07:22.598Z"
   },
   {
    "duration": 13,
    "start_time": "2021-07-08T21:07:40.681Z"
   },
   {
    "duration": 23,
    "start_time": "2021-07-08T21:07:58.943Z"
   },
   {
    "duration": 15,
    "start_time": "2021-07-08T21:08:08.835Z"
   },
   {
    "duration": 4144,
    "start_time": "2021-07-08T21:08:52.552Z"
   },
   {
    "duration": 4371,
    "start_time": "2021-07-08T21:09:18.790Z"
   },
   {
    "duration": 4045,
    "start_time": "2021-07-08T21:09:42.700Z"
   },
   {
    "duration": -36,
    "start_time": "2021-07-08T21:10:05.912Z"
   },
   {
    "duration": 4113,
    "start_time": "2021-07-08T21:10:54.019Z"
   },
   {
    "duration": 4110,
    "start_time": "2021-07-08T21:11:16.271Z"
   },
   {
    "duration": 24,
    "start_time": "2021-07-08T21:11:37.988Z"
   },
   {
    "duration": 24,
    "start_time": "2021-07-08T21:18:42.786Z"
   },
   {
    "duration": 16,
    "start_time": "2021-07-08T21:19:36.055Z"
   },
   {
    "duration": 15,
    "start_time": "2021-07-08T21:19:44.135Z"
   },
   {
    "duration": 18,
    "start_time": "2021-07-08T21:19:52.312Z"
   },
   {
    "duration": 17,
    "start_time": "2021-07-08T21:20:22.261Z"
   },
   {
    "duration": 17,
    "start_time": "2021-07-08T21:20:33.287Z"
   },
   {
    "duration": 20,
    "start_time": "2021-07-08T21:20:43.424Z"
   },
   {
    "duration": 18,
    "start_time": "2021-07-08T21:20:53.724Z"
   },
   {
    "duration": 183,
    "start_time": "2021-07-08T21:21:04.490Z"
   },
   {
    "duration": 18,
    "start_time": "2021-07-08T21:21:12.117Z"
   },
   {
    "duration": 59,
    "start_time": "2021-07-08T21:21:46.398Z"
   },
   {
    "duration": 19,
    "start_time": "2021-07-08T21:22:11.234Z"
   },
   {
    "duration": 19,
    "start_time": "2021-07-08T21:22:48.694Z"
   },
   {
    "duration": 18,
    "start_time": "2021-07-08T21:23:04.159Z"
   },
   {
    "duration": 19,
    "start_time": "2021-07-08T21:23:13.363Z"
   },
   {
    "duration": 20,
    "start_time": "2021-07-08T21:23:20.910Z"
   },
   {
    "duration": 20,
    "start_time": "2021-07-08T21:23:25.805Z"
   },
   {
    "duration": 19,
    "start_time": "2021-07-08T21:23:32.942Z"
   },
   {
    "duration": 7,
    "start_time": "2021-07-08T21:25:59.303Z"
   },
   {
    "duration": 180,
    "start_time": "2021-07-08T21:28:30.516Z"
   },
   {
    "duration": 206,
    "start_time": "2021-07-08T21:28:58.096Z"
   },
   {
    "duration": 26,
    "start_time": "2021-07-08T21:29:56.897Z"
   },
   {
    "duration": 8,
    "start_time": "2021-07-08T21:30:26.509Z"
   },
   {
    "duration": 25,
    "start_time": "2021-07-08T21:31:29.485Z"
   },
   {
    "duration": 13,
    "start_time": "2021-07-08T21:32:58.152Z"
   },
   {
    "duration": 57,
    "start_time": "2021-07-08T21:35:16.540Z"
   },
   {
    "duration": 61,
    "start_time": "2021-07-08T21:37:04.237Z"
   },
   {
    "duration": 4,
    "start_time": "2021-07-08T21:37:49.955Z"
   },
   {
    "duration": 7,
    "start_time": "2021-07-08T21:37:55.918Z"
   },
   {
    "duration": 12,
    "start_time": "2021-07-08T21:37:59.996Z"
   },
   {
    "duration": 24,
    "start_time": "2021-07-08T21:38:05.480Z"
   },
   {
    "duration": 16,
    "start_time": "2021-07-08T21:38:12.694Z"
   },
   {
    "duration": 4,
    "start_time": "2021-07-08T21:38:15.010Z"
   },
   {
    "duration": 27,
    "start_time": "2021-07-08T21:38:17.121Z"
   },
   {
    "duration": 70,
    "start_time": "2021-07-08T21:40:13.947Z"
   },
   {
    "duration": 171,
    "start_time": "2021-07-08T21:40:22.207Z"
   },
   {
    "duration": 27,
    "start_time": "2021-07-08T21:40:28.770Z"
   },
   {
    "duration": 3,
    "start_time": "2021-07-08T21:40:44.373Z"
   },
   {
    "duration": 27,
    "start_time": "2021-07-08T21:40:46.446Z"
   },
   {
    "duration": 26,
    "start_time": "2021-07-08T21:40:48.987Z"
   },
   {
    "duration": 22,
    "start_time": "2021-07-08T21:41:37.313Z"
   },
   {
    "duration": 56,
    "start_time": "2021-07-08T21:42:36.940Z"
   },
   {
    "duration": 22,
    "start_time": "2021-07-08T21:42:42.008Z"
   },
   {
    "duration": 24,
    "start_time": "2021-07-08T21:42:44.538Z"
   },
   {
    "duration": 21,
    "start_time": "2021-07-08T21:42:57.495Z"
   },
   {
    "duration": 12,
    "start_time": "2021-07-08T21:43:04.085Z"
   },
   {
    "duration": 14,
    "start_time": "2021-07-08T21:43:30.845Z"
   },
   {
    "duration": 13,
    "start_time": "2021-07-08T21:43:33.001Z"
   },
   {
    "duration": 22,
    "start_time": "2021-07-08T21:43:35.384Z"
   },
   {
    "duration": 3,
    "start_time": "2021-07-08T21:43:38.041Z"
   },
   {
    "duration": 26,
    "start_time": "2021-07-08T21:43:40.695Z"
   },
   {
    "duration": 24,
    "start_time": "2021-07-08T21:43:44.097Z"
   },
   {
    "duration": 24,
    "start_time": "2021-07-08T21:43:47.354Z"
   },
   {
    "duration": 25,
    "start_time": "2021-07-08T21:43:58.739Z"
   },
   {
    "duration": 11,
    "start_time": "2021-07-08T21:44:01.236Z"
   },
   {
    "duration": 54,
    "start_time": "2021-07-08T21:45:40.107Z"
   },
   {
    "duration": 11,
    "start_time": "2021-07-08T21:50:42.240Z"
   },
   {
    "duration": 10,
    "start_time": "2021-07-08T21:51:27.013Z"
   },
   {
    "duration": 6,
    "start_time": "2021-07-08T21:51:29.552Z"
   },
   {
    "duration": 7,
    "start_time": "2021-07-08T21:51:41.822Z"
   },
   {
    "duration": 8,
    "start_time": "2021-07-08T21:51:44.725Z"
   },
   {
    "duration": 20,
    "start_time": "2021-07-08T21:51:47.541Z"
   },
   {
    "duration": 9,
    "start_time": "2021-07-08T21:51:49.861Z"
   },
   {
    "duration": 573,
    "start_time": "2021-07-08T21:57:51.543Z"
   },
   {
    "duration": 11,
    "start_time": "2021-07-08T21:57:52.119Z"
   },
   {
    "duration": 4,
    "start_time": "2021-07-08T21:57:52.132Z"
   },
   {
    "duration": 10,
    "start_time": "2021-07-08T21:57:52.138Z"
   },
   {
    "duration": 50,
    "start_time": "2021-07-08T21:57:52.150Z"
   },
   {
    "duration": 21,
    "start_time": "2021-07-08T21:57:52.202Z"
   },
   {
    "duration": 8,
    "start_time": "2021-07-08T21:57:52.225Z"
   },
   {
    "duration": 5,
    "start_time": "2021-07-08T21:57:52.235Z"
   },
   {
    "duration": 16,
    "start_time": "2021-07-08T21:57:52.241Z"
   },
   {
    "duration": 31,
    "start_time": "2021-07-08T21:57:52.259Z"
   },
   {
    "duration": 6,
    "start_time": "2021-07-08T21:57:52.291Z"
   },
   {
    "duration": 23,
    "start_time": "2021-07-08T21:57:52.298Z"
   },
   {
    "duration": 9,
    "start_time": "2021-07-08T21:57:52.323Z"
   },
   {
    "duration": 17,
    "start_time": "2021-07-08T21:57:52.333Z"
   },
   {
    "duration": 41,
    "start_time": "2021-07-08T21:57:52.351Z"
   },
   {
    "duration": 17,
    "start_time": "2021-07-08T21:57:52.394Z"
   },
   {
    "duration": 8,
    "start_time": "2021-07-08T21:57:52.413Z"
   },
   {
    "duration": 6,
    "start_time": "2021-07-08T21:57:52.423Z"
   },
   {
    "duration": 9,
    "start_time": "2021-07-08T21:57:52.430Z"
   },
   {
    "duration": 60,
    "start_time": "2021-07-08T21:57:52.441Z"
   },
   {
    "duration": 5,
    "start_time": "2021-07-08T21:57:52.503Z"
   },
   {
    "duration": 6,
    "start_time": "2021-07-08T21:57:52.512Z"
   },
   {
    "duration": 21,
    "start_time": "2021-07-08T21:57:52.521Z"
   },
   {
    "duration": 4,
    "start_time": "2021-07-08T21:57:52.543Z"
   },
   {
    "duration": 38,
    "start_time": "2021-07-08T21:57:52.548Z"
   },
   {
    "duration": 9,
    "start_time": "2021-07-08T21:57:52.588Z"
   },
   {
    "duration": 23,
    "start_time": "2021-07-08T21:57:52.599Z"
   },
   {
    "duration": 8,
    "start_time": "2021-07-08T21:57:52.624Z"
   },
   {
    "duration": 12,
    "start_time": "2021-07-08T21:57:52.634Z"
   },
   {
    "duration": 37,
    "start_time": "2021-07-08T21:57:52.648Z"
   },
   {
    "duration": 5,
    "start_time": "2021-07-08T21:57:52.687Z"
   },
   {
    "duration": 5,
    "start_time": "2021-07-08T21:57:52.694Z"
   },
   {
    "duration": 10,
    "start_time": "2021-07-08T21:57:52.700Z"
   },
   {
    "duration": 14,
    "start_time": "2021-07-08T21:57:52.712Z"
   },
   {
    "duration": 6,
    "start_time": "2021-07-08T21:57:52.728Z"
   },
   {
    "duration": 4,
    "start_time": "2021-07-08T21:57:52.735Z"
   },
   {
    "duration": 45,
    "start_time": "2021-07-08T21:57:52.741Z"
   },
   {
    "duration": 6,
    "start_time": "2021-07-08T21:57:52.788Z"
   },
   {
    "duration": 15,
    "start_time": "2021-07-08T21:57:52.796Z"
   },
   {
    "duration": 22,
    "start_time": "2021-07-08T21:57:52.812Z"
   },
   {
    "duration": 53,
    "start_time": "2021-07-08T21:57:52.836Z"
   },
   {
    "duration": 18,
    "start_time": "2021-07-08T21:57:52.891Z"
   },
   {
    "duration": 4,
    "start_time": "2021-07-08T21:57:52.911Z"
   },
   {
    "duration": 12,
    "start_time": "2021-07-08T21:57:52.916Z"
   },
   {
    "duration": 8,
    "start_time": "2021-07-08T21:57:52.930Z"
   },
   {
    "duration": 686,
    "start_time": "2021-07-08T21:57:52.940Z"
   },
   {
    "duration": 3,
    "start_time": "2021-07-08T21:57:53.629Z"
   },
   {
    "duration": 19,
    "start_time": "2021-07-08T21:57:53.634Z"
   },
   {
    "duration": 31,
    "start_time": "2021-07-08T21:57:53.654Z"
   },
   {
    "duration": 14,
    "start_time": "2021-07-08T21:57:53.686Z"
   },
   {
    "duration": 8,
    "start_time": "2021-07-08T21:57:53.702Z"
   },
   {
    "duration": 34,
    "start_time": "2021-07-08T21:57:53.712Z"
   },
   {
    "duration": 37,
    "start_time": "2021-07-08T21:57:53.748Z"
   },
   {
    "duration": 22,
    "start_time": "2021-07-08T21:57:53.787Z"
   },
   {
    "duration": 8,
    "start_time": "2021-07-08T21:57:53.811Z"
   },
   {
    "duration": 5,
    "start_time": "2021-07-08T21:57:53.821Z"
   },
   {
    "duration": 14,
    "start_time": "2021-07-08T21:57:53.828Z"
   },
   {
    "duration": 13,
    "start_time": "2021-07-08T21:57:53.844Z"
   },
   {
    "duration": 31,
    "start_time": "2021-07-08T21:57:53.858Z"
   },
   {
    "duration": 19,
    "start_time": "2021-07-08T21:57:53.891Z"
   },
   {
    "duration": 29,
    "start_time": "2021-07-08T21:57:53.912Z"
   },
   {
    "duration": 9,
    "start_time": "2021-07-08T21:57:53.943Z"
   },
   {
    "duration": 5,
    "start_time": "2021-07-08T21:57:53.953Z"
   },
   {
    "duration": 35,
    "start_time": "2021-07-08T21:57:53.959Z"
   },
   {
    "duration": 7,
    "start_time": "2021-07-08T21:57:53.996Z"
   },
   {
    "duration": 17,
    "start_time": "2021-07-08T21:57:54.005Z"
   },
   {
    "duration": 8,
    "start_time": "2021-07-08T21:57:54.028Z"
   },
   {
    "duration": 60,
    "start_time": "2021-07-08T21:57:54.038Z"
   },
   {
    "duration": 8,
    "start_time": "2021-07-08T21:57:54.099Z"
   },
   {
    "duration": 57,
    "start_time": "2021-07-08T22:04:32.421Z"
   },
   {
    "duration": 59,
    "start_time": "2021-07-08T22:08:36.807Z"
   },
   {
    "duration": 60,
    "start_time": "2021-07-08T22:10:38.973Z"
   },
   {
    "duration": 601,
    "start_time": "2021-07-08T22:13:37.622Z"
   },
   {
    "duration": 12,
    "start_time": "2021-07-08T22:13:38.226Z"
   },
   {
    "duration": 6,
    "start_time": "2021-07-08T22:13:38.240Z"
   },
   {
    "duration": 13,
    "start_time": "2021-07-08T22:13:38.254Z"
   },
   {
    "duration": 31,
    "start_time": "2021-07-08T22:13:38.285Z"
   },
   {
    "duration": 30,
    "start_time": "2021-07-08T22:13:38.318Z"
   },
   {
    "duration": 7,
    "start_time": "2021-07-08T22:13:38.350Z"
   },
   {
    "duration": 4,
    "start_time": "2021-07-08T22:13:38.386Z"
   },
   {
    "duration": 7,
    "start_time": "2021-07-08T22:13:38.392Z"
   },
   {
    "duration": 5,
    "start_time": "2021-07-08T22:13:38.401Z"
   },
   {
    "duration": 4,
    "start_time": "2021-07-08T22:13:38.408Z"
   },
   {
    "duration": 11,
    "start_time": "2021-07-08T22:13:38.414Z"
   },
   {
    "duration": 4,
    "start_time": "2021-07-08T22:13:38.427Z"
   },
   {
    "duration": 6,
    "start_time": "2021-07-08T22:13:38.432Z"
   },
   {
    "duration": 58,
    "start_time": "2021-07-08T22:13:38.439Z"
   },
   {
    "duration": 8,
    "start_time": "2021-07-08T22:13:38.499Z"
   },
   {
    "duration": 6,
    "start_time": "2021-07-08T22:13:38.509Z"
   },
   {
    "duration": 5,
    "start_time": "2021-07-08T22:13:38.517Z"
   },
   {
    "duration": 9,
    "start_time": "2021-07-08T22:13:38.523Z"
   },
   {
    "duration": 77,
    "start_time": "2021-07-08T22:13:38.533Z"
   },
   {
    "duration": 4,
    "start_time": "2021-07-08T22:13:38.612Z"
   },
   {
    "duration": 8,
    "start_time": "2021-07-08T22:13:38.617Z"
   },
   {
    "duration": 22,
    "start_time": "2021-07-08T22:13:38.629Z"
   },
   {
    "duration": 3,
    "start_time": "2021-07-08T22:13:38.653Z"
   },
   {
    "duration": 6,
    "start_time": "2021-07-08T22:13:38.685Z"
   },
   {
    "duration": 12,
    "start_time": "2021-07-08T22:13:38.692Z"
   },
   {
    "duration": 22,
    "start_time": "2021-07-08T22:13:38.705Z"
   },
   {
    "duration": 6,
    "start_time": "2021-07-08T22:13:38.729Z"
   },
   {
    "duration": 10,
    "start_time": "2021-07-08T22:13:38.736Z"
   },
   {
    "duration": 5,
    "start_time": "2021-07-08T22:13:38.748Z"
   },
   {
    "duration": 4,
    "start_time": "2021-07-08T22:13:38.785Z"
   },
   {
    "duration": 4,
    "start_time": "2021-07-08T22:13:38.791Z"
   },
   {
    "duration": 15,
    "start_time": "2021-07-08T22:13:38.797Z"
   },
   {
    "duration": 13,
    "start_time": "2021-07-08T22:13:38.814Z"
   },
   {
    "duration": 6,
    "start_time": "2021-07-08T22:13:38.829Z"
   },
   {
    "duration": 3,
    "start_time": "2021-07-08T22:13:38.836Z"
   },
   {
    "duration": 4,
    "start_time": "2021-07-08T22:13:38.885Z"
   },
   {
    "duration": 6,
    "start_time": "2021-07-08T22:13:38.890Z"
   },
   {
    "duration": 14,
    "start_time": "2021-07-08T22:13:38.898Z"
   },
   {
    "duration": 23,
    "start_time": "2021-07-08T22:13:38.914Z"
   },
   {
    "duration": 49,
    "start_time": "2021-07-08T22:13:38.938Z"
   },
   {
    "duration": 19,
    "start_time": "2021-07-08T22:13:38.989Z"
   },
   {
    "duration": 4,
    "start_time": "2021-07-08T22:13:39.009Z"
   },
   {
    "duration": 9,
    "start_time": "2021-07-08T22:13:39.015Z"
   },
   {
    "duration": 3,
    "start_time": "2021-07-08T22:13:39.026Z"
   },
   {
    "duration": 692,
    "start_time": "2021-07-08T22:13:39.030Z"
   },
   {
    "duration": 4,
    "start_time": "2021-07-08T22:13:39.724Z"
   },
   {
    "duration": 17,
    "start_time": "2021-07-08T22:13:39.729Z"
   },
   {
    "duration": 13,
    "start_time": "2021-07-08T22:13:39.748Z"
   },
   {
    "duration": 36,
    "start_time": "2021-07-08T22:13:39.762Z"
   },
   {
    "duration": 6,
    "start_time": "2021-07-08T22:13:39.800Z"
   },
   {
    "duration": 29,
    "start_time": "2021-07-08T22:13:39.807Z"
   },
   {
    "duration": 22,
    "start_time": "2021-07-08T22:13:39.838Z"
   },
   {
    "duration": 22,
    "start_time": "2021-07-08T22:13:39.885Z"
   },
   {
    "duration": 9,
    "start_time": "2021-07-08T22:13:39.909Z"
   },
   {
    "duration": 7,
    "start_time": "2021-07-08T22:13:39.921Z"
   },
   {
    "duration": 8,
    "start_time": "2021-07-08T22:13:39.930Z"
   },
   {
    "duration": 56,
    "start_time": "2021-07-08T22:13:39.940Z"
   },
   {
    "duration": 5,
    "start_time": "2021-07-08T22:13:39.998Z"
   },
   {
    "duration": 11,
    "start_time": "2021-07-08T22:13:40.006Z"
   },
   {
    "duration": 22,
    "start_time": "2021-07-08T22:13:40.019Z"
   },
   {
    "duration": 9,
    "start_time": "2021-07-08T22:13:40.043Z"
   },
   {
    "duration": 4,
    "start_time": "2021-07-08T22:13:40.084Z"
   },
   {
    "duration": 11,
    "start_time": "2021-07-08T22:13:40.090Z"
   },
   {
    "duration": 6,
    "start_time": "2021-07-08T22:13:40.103Z"
   },
   {
    "duration": 16,
    "start_time": "2021-07-08T22:13:40.111Z"
   },
   {
    "duration": 8,
    "start_time": "2021-07-08T22:13:40.129Z"
   },
   {
    "duration": 49,
    "start_time": "2021-07-08T22:13:40.143Z"
   },
   {
    "duration": 8,
    "start_time": "2021-07-08T22:13:40.194Z"
   },
   {
    "duration": 768,
    "start_time": "2021-07-09T05:10:40.775Z"
   },
   {
    "duration": 15,
    "start_time": "2021-07-09T05:10:41.546Z"
   },
   {
    "duration": 5,
    "start_time": "2021-07-09T05:10:41.565Z"
   },
   {
    "duration": 13,
    "start_time": "2021-07-09T05:10:41.573Z"
   },
   {
    "duration": 35,
    "start_time": "2021-07-09T05:10:41.588Z"
   },
   {
    "duration": 61,
    "start_time": "2021-07-09T05:10:41.625Z"
   },
   {
    "duration": 9,
    "start_time": "2021-07-09T05:10:41.688Z"
   },
   {
    "duration": 4,
    "start_time": "2021-07-09T05:10:41.699Z"
   },
   {
    "duration": 8,
    "start_time": "2021-07-09T05:10:41.708Z"
   },
   {
    "duration": 6,
    "start_time": "2021-07-09T05:10:41.756Z"
   },
   {
    "duration": 5,
    "start_time": "2021-07-09T05:10:41.765Z"
   },
   {
    "duration": 18,
    "start_time": "2021-07-09T05:10:41.773Z"
   },
   {
    "duration": 6,
    "start_time": "2021-07-09T05:10:41.793Z"
   },
   {
    "duration": 12,
    "start_time": "2021-07-09T05:10:41.802Z"
   },
   {
    "duration": 67,
    "start_time": "2021-07-09T05:10:41.816Z"
   },
   {
    "duration": 11,
    "start_time": "2021-07-09T05:10:41.886Z"
   },
   {
    "duration": 7,
    "start_time": "2021-07-09T05:10:41.899Z"
   },
   {
    "duration": 49,
    "start_time": "2021-07-09T05:10:41.908Z"
   },
   {
    "duration": 15,
    "start_time": "2021-07-09T05:10:41.960Z"
   },
   {
    "duration": 97,
    "start_time": "2021-07-09T05:10:41.978Z"
   },
   {
    "duration": 6,
    "start_time": "2021-07-09T05:10:42.077Z"
   },
   {
    "duration": 9,
    "start_time": "2021-07-09T05:10:42.086Z"
   },
   {
    "duration": 66,
    "start_time": "2021-07-09T05:10:42.097Z"
   },
   {
    "duration": 4,
    "start_time": "2021-07-09T05:10:42.166Z"
   },
   {
    "duration": 11,
    "start_time": "2021-07-09T05:10:42.173Z"
   },
   {
    "duration": 15,
    "start_time": "2021-07-09T05:10:42.186Z"
   },
   {
    "duration": 68,
    "start_time": "2021-07-09T05:10:42.207Z"
   },
   {
    "duration": 9,
    "start_time": "2021-07-09T05:10:42.278Z"
   },
   {
    "duration": 10,
    "start_time": "2021-07-09T05:10:42.289Z"
   },
   {
    "duration": 6,
    "start_time": "2021-07-09T05:10:42.302Z"
   },
   {
    "duration": 47,
    "start_time": "2021-07-09T05:10:42.310Z"
   },
   {
    "duration": 4,
    "start_time": "2021-07-09T05:10:42.360Z"
   },
   {
    "duration": 12,
    "start_time": "2021-07-09T05:10:42.367Z"
   },
   {
    "duration": 23,
    "start_time": "2021-07-09T05:10:42.381Z"
   },
   {
    "duration": 52,
    "start_time": "2021-07-09T05:10:42.406Z"
   },
   {
    "duration": 5,
    "start_time": "2021-07-09T05:10:42.461Z"
   },
   {
    "duration": 10,
    "start_time": "2021-07-09T05:10:42.469Z"
   },
   {
    "duration": 10,
    "start_time": "2021-07-09T05:10:42.481Z"
   },
   {
    "duration": 27,
    "start_time": "2021-07-09T05:10:42.494Z"
   },
   {
    "duration": 56,
    "start_time": "2021-07-09T05:10:42.524Z"
   },
   {
    "duration": 30,
    "start_time": "2021-07-09T05:10:42.583Z"
   },
   {
    "duration": 52,
    "start_time": "2021-07-09T05:10:42.616Z"
   },
   {
    "duration": 9,
    "start_time": "2021-07-09T05:10:42.670Z"
   },
   {
    "duration": 12,
    "start_time": "2021-07-09T05:10:42.682Z"
   },
   {
    "duration": 5,
    "start_time": "2021-07-09T05:10:42.697Z"
   },
   {
    "duration": 897,
    "start_time": "2021-07-09T05:10:42.705Z"
   },
   {
    "duration": 6,
    "start_time": "2021-07-09T05:10:43.605Z"
   },
   {
    "duration": 51,
    "start_time": "2021-07-09T05:10:43.614Z"
   },
   {
    "duration": 24,
    "start_time": "2021-07-09T05:10:43.668Z"
   },
   {
    "duration": 23,
    "start_time": "2021-07-09T05:10:43.695Z"
   },
   {
    "duration": 36,
    "start_time": "2021-07-09T05:10:43.721Z"
   },
   {
    "duration": 47,
    "start_time": "2021-07-09T05:10:43.760Z"
   },
   {
    "duration": 60,
    "start_time": "2021-07-09T05:10:43.810Z"
   },
   {
    "duration": 35,
    "start_time": "2021-07-09T05:10:43.872Z"
   },
   {
    "duration": 12,
    "start_time": "2021-07-09T05:10:43.909Z"
   },
   {
    "duration": 34,
    "start_time": "2021-07-09T05:10:43.924Z"
   },
   {
    "duration": 9,
    "start_time": "2021-07-09T05:10:43.960Z"
   },
   {
    "duration": 20,
    "start_time": "2021-07-09T05:10:43.972Z"
   },
   {
    "duration": 7,
    "start_time": "2021-07-09T05:10:43.994Z"
   },
   {
    "duration": 53,
    "start_time": "2021-07-09T05:10:44.003Z"
   },
   {
    "duration": 33,
    "start_time": "2021-07-09T05:10:44.058Z"
   },
   {
    "duration": 11,
    "start_time": "2021-07-09T05:10:44.093Z"
   },
   {
    "duration": 7,
    "start_time": "2021-07-09T05:10:44.106Z"
   },
   {
    "duration": 50,
    "start_time": "2021-07-09T05:10:44.115Z"
   },
   {
    "duration": 9,
    "start_time": "2021-07-09T05:10:44.168Z"
   },
   {
    "duration": 30,
    "start_time": "2021-07-09T05:10:44.179Z"
   },
   {
    "duration": 10,
    "start_time": "2021-07-09T05:10:44.212Z"
   },
   {
    "duration": 47,
    "start_time": "2021-07-09T05:10:44.224Z"
   },
   {
    "duration": 10,
    "start_time": "2021-07-09T05:10:44.274Z"
   },
   {
    "duration": 15,
    "start_time": "2021-07-09T05:16:07.759Z"
   },
   {
    "duration": 10,
    "start_time": "2021-07-09T05:36:10.811Z"
   },
   {
    "duration": 9,
    "start_time": "2021-07-09T05:36:19.966Z"
   },
   {
    "duration": 11,
    "start_time": "2021-07-09T05:36:30.323Z"
   },
   {
    "duration": 13,
    "start_time": "2021-07-09T05:42:50.265Z"
   },
   {
    "duration": 13,
    "start_time": "2021-07-09T05:43:14.077Z"
   },
   {
    "duration": 636,
    "start_time": "2021-07-09T05:43:27.471Z"
   },
   {
    "duration": 10,
    "start_time": "2021-07-09T05:43:41.815Z"
   },
   {
    "duration": 11,
    "start_time": "2021-07-09T05:43:57.381Z"
   },
   {
    "duration": 10,
    "start_time": "2021-07-09T05:44:39.338Z"
   },
   {
    "duration": 10,
    "start_time": "2021-07-09T05:45:12.233Z"
   },
   {
    "duration": 12,
    "start_time": "2021-07-09T05:45:24.050Z"
   },
   {
    "duration": 261,
    "start_time": "2021-07-09T05:45:39.162Z"
   },
   {
    "duration": 6,
    "start_time": "2021-07-09T05:45:53.214Z"
   },
   {
    "duration": 33,
    "start_time": "2021-07-09T05:46:12.025Z"
   },
   {
    "duration": 11,
    "start_time": "2021-07-09T05:46:20.625Z"
   },
   {
    "duration": 15,
    "start_time": "2021-07-09T05:46:25.136Z"
   },
   {
    "duration": 17,
    "start_time": "2021-07-09T05:46:59.864Z"
   },
   {
    "duration": 21,
    "start_time": "2021-07-09T05:47:08.013Z"
   },
   {
    "duration": 9468,
    "start_time": "2021-07-09T05:47:48.539Z"
   },
   {
    "duration": 23,
    "start_time": "2021-07-09T05:48:03.420Z"
   },
   {
    "duration": 26,
    "start_time": "2021-07-09T05:48:22.283Z"
   },
   {
    "duration": 15,
    "start_time": "2021-07-09T05:48:43.269Z"
   },
   {
    "duration": 11,
    "start_time": "2021-07-09T05:51:13.627Z"
   },
   {
    "duration": 12,
    "start_time": "2021-07-09T05:51:28.367Z"
   },
   {
    "duration": 17,
    "start_time": "2021-07-09T05:51:34.617Z"
   },
   {
    "duration": 12,
    "start_time": "2021-07-09T05:51:46.687Z"
   },
   {
    "duration": 85,
    "start_time": "2021-07-09T05:52:13.238Z"
   },
   {
    "duration": 22,
    "start_time": "2021-07-09T05:52:22.365Z"
   },
   {
    "duration": 408,
    "start_time": "2021-07-09T20:21:33.432Z"
   },
   {
    "duration": 933,
    "start_time": "2021-07-09T20:21:41.117Z"
   },
   {
    "duration": 23,
    "start_time": "2021-07-09T20:21:44.805Z"
   },
   {
    "duration": 10,
    "start_time": "2021-07-09T20:21:48.218Z"
   },
   {
    "duration": 13,
    "start_time": "2021-07-09T20:21:51.536Z"
   },
   {
    "duration": 40,
    "start_time": "2021-07-09T20:21:56.457Z"
   },
   {
    "duration": 37,
    "start_time": "2021-07-09T20:21:59.520Z"
   },
   {
    "duration": 11,
    "start_time": "2021-07-09T20:22:02.865Z"
   },
   {
    "duration": 5,
    "start_time": "2021-07-09T20:22:06.163Z"
   },
   {
    "duration": 7,
    "start_time": "2021-07-09T20:22:08.786Z"
   },
   {
    "duration": 12,
    "start_time": "2021-07-09T20:22:28.077Z"
   },
   {
    "duration": 421,
    "start_time": "2021-07-09T20:26:08.633Z"
   },
   {
    "duration": 11,
    "start_time": "2021-07-09T20:26:35.834Z"
   },
   {
    "duration": 1002,
    "start_time": "2021-07-09T20:28:09.388Z"
   },
   {
    "duration": 935,
    "start_time": "2021-07-09T20:28:46.184Z"
   },
   {
    "duration": 18,
    "start_time": "2021-07-09T20:29:03.485Z"
   },
   {
    "duration": 37,
    "start_time": "2021-07-09T20:29:57.884Z"
   },
   {
    "duration": 21,
    "start_time": "2021-07-09T20:30:05.903Z"
   },
   {
    "duration": 18,
    "start_time": "2021-07-09T20:30:33.558Z"
   },
   {
    "duration": 18,
    "start_time": "2021-07-09T20:31:07.456Z"
   },
   {
    "duration": 48,
    "start_time": "2021-07-09T20:31:11.327Z"
   },
   {
    "duration": 4,
    "start_time": "2021-07-09T20:37:42.994Z"
   },
   {
    "duration": 18,
    "start_time": "2021-07-09T20:38:03.982Z"
   },
   {
    "duration": 11,
    "start_time": "2021-07-09T20:40:28.543Z"
   },
   {
    "duration": 24,
    "start_time": "2021-07-09T20:40:31.784Z"
   },
   {
    "duration": 11,
    "start_time": "2021-07-09T20:40:52.370Z"
   },
   {
    "duration": 5,
    "start_time": "2021-07-09T20:41:41.525Z"
   },
   {
    "duration": 122,
    "start_time": "2021-07-09T20:43:46.433Z"
   },
   {
    "duration": 1313,
    "start_time": "2021-07-09T20:45:45.097Z"
   },
   {
    "duration": 9,
    "start_time": "2021-07-09T20:46:25.842Z"
   },
   {
    "duration": 14,
    "start_time": "2021-07-09T20:46:41.905Z"
   },
   {
    "duration": 9,
    "start_time": "2021-07-09T20:46:56.645Z"
   },
   {
    "duration": 113,
    "start_time": "2021-07-09T20:47:03.836Z"
   },
   {
    "duration": 8,
    "start_time": "2021-07-09T20:47:12.587Z"
   },
   {
    "duration": 21,
    "start_time": "2021-07-09T20:48:32.355Z"
   },
   {
    "duration": 75,
    "start_time": "2021-07-09T20:49:04.432Z"
   },
   {
    "duration": 17,
    "start_time": "2021-07-09T20:49:07.621Z"
   },
   {
    "duration": 6,
    "start_time": "2021-07-09T20:49:10.390Z"
   },
   {
    "duration": 14,
    "start_time": "2021-07-09T20:49:12.622Z"
   },
   {
    "duration": 59,
    "start_time": "2021-07-09T20:49:15.973Z"
   },
   {
    "duration": 38,
    "start_time": "2021-07-09T20:49:21.964Z"
   },
   {
    "duration": 9,
    "start_time": "2021-07-09T20:49:25.233Z"
   },
   {
    "duration": 5,
    "start_time": "2021-07-09T20:49:27.645Z"
   },
   {
    "duration": 8,
    "start_time": "2021-07-09T20:49:30.645Z"
   },
   {
    "duration": 52,
    "start_time": "2021-07-09T20:49:34.083Z"
   },
   {
    "duration": 4,
    "start_time": "2021-07-09T20:49:39.530Z"
   },
   {
    "duration": 11,
    "start_time": "2021-07-09T20:49:42.733Z"
   },
   {
    "duration": 22,
    "start_time": "2021-07-09T20:49:46.385Z"
   },
   {
    "duration": 13,
    "start_time": "2021-07-09T20:49:49.911Z"
   },
   {
    "duration": 6,
    "start_time": "2021-07-09T20:50:04.316Z"
   },
   {
    "duration": 8,
    "start_time": "2021-07-09T20:50:25.388Z"
   },
   {
    "duration": 24,
    "start_time": "2021-07-09T20:50:50.132Z"
   },
   {
    "duration": 24,
    "start_time": "2021-07-09T20:50:58.391Z"
   },
   {
    "duration": 15,
    "start_time": "2021-07-09T20:51:05.210Z"
   },
   {
    "duration": 23,
    "start_time": "2021-07-09T20:51:20.417Z"
   },
   {
    "duration": 9,
    "start_time": "2021-07-09T20:51:24.030Z"
   },
   {
    "duration": 109,
    "start_time": "2021-07-09T20:52:21.235Z"
   },
   {
    "duration": 8,
    "start_time": "2021-07-09T20:52:27.358Z"
   },
   {
    "duration": 8,
    "start_time": "2021-07-09T20:52:38.849Z"
   },
   {
    "duration": 8,
    "start_time": "2021-07-09T20:52:41.913Z"
   },
   {
    "duration": 342,
    "start_time": "2021-07-09T20:53:19.828Z"
   },
   {
    "duration": 107,
    "start_time": "2021-07-09T20:53:51.677Z"
   },
   {
    "duration": 12,
    "start_time": "2021-07-09T20:54:06.072Z"
   },
   {
    "duration": 12,
    "start_time": "2021-07-09T20:54:13.442Z"
   },
   {
    "duration": 9,
    "start_time": "2021-07-09T20:54:29.411Z"
   },
   {
    "duration": 8,
    "start_time": "2021-07-09T20:54:31.887Z"
   },
   {
    "duration": 21,
    "start_time": "2021-07-09T20:54:34.607Z"
   },
   {
    "duration": 77,
    "start_time": "2021-07-09T20:54:53.710Z"
   },
   {
    "duration": 15,
    "start_time": "2021-07-09T20:54:56.467Z"
   },
   {
    "duration": 5,
    "start_time": "2021-07-09T20:54:59.608Z"
   },
   {
    "duration": 13,
    "start_time": "2021-07-09T20:55:01.345Z"
   },
   {
    "duration": 44,
    "start_time": "2021-07-09T20:55:05.185Z"
   },
   {
    "duration": 35,
    "start_time": "2021-07-09T20:55:08.404Z"
   },
   {
    "duration": 9,
    "start_time": "2021-07-09T20:55:10.738Z"
   },
   {
    "duration": 5,
    "start_time": "2021-07-09T20:55:13.277Z"
   },
   {
    "duration": 7,
    "start_time": "2021-07-09T20:55:24.272Z"
   },
   {
    "duration": 48,
    "start_time": "2021-07-09T20:55:27.841Z"
   },
   {
    "duration": 3,
    "start_time": "2021-07-09T20:55:31.810Z"
   },
   {
    "duration": 4,
    "start_time": "2021-07-09T20:55:35.056Z"
   },
   {
    "duration": 11,
    "start_time": "2021-07-09T20:55:37.320Z"
   },
   {
    "duration": 21,
    "start_time": "2021-07-09T20:55:39.678Z"
   },
   {
    "duration": 10,
    "start_time": "2021-07-09T20:55:42.723Z"
   },
   {
    "duration": 4,
    "start_time": "2021-07-09T20:55:44.668Z"
   },
   {
    "duration": 12,
    "start_time": "2021-07-09T20:56:12.960Z"
   },
   {
    "duration": 9,
    "start_time": "2021-07-09T20:56:15.602Z"
   },
   {
    "duration": 22,
    "start_time": "2021-07-09T20:56:18.364Z"
   },
   {
    "duration": 5,
    "start_time": "2021-07-09T20:57:03.404Z"
   },
   {
    "duration": 111,
    "start_time": "2021-07-09T20:58:05.786Z"
   },
   {
    "duration": 4,
    "start_time": "2021-07-09T20:58:10.067Z"
   },
   {
    "duration": 15,
    "start_time": "2021-07-09T20:58:59.571Z"
   },
   {
    "duration": 6,
    "start_time": "2021-07-09T20:59:04.395Z"
   },
   {
    "duration": 343,
    "start_time": "2021-07-09T21:00:47.945Z"
   },
   {
    "duration": 11,
    "start_time": "2021-07-09T21:01:00.164Z"
   },
   {
    "duration": 5,
    "start_time": "2021-07-09T21:04:26.755Z"
   },
   {
    "duration": 14,
    "start_time": "2021-07-09T21:06:20.046Z"
   },
   {
    "duration": 6,
    "start_time": "2021-07-09T21:06:57.567Z"
   },
   {
    "duration": 33,
    "start_time": "2021-07-09T21:07:20.996Z"
   },
   {
    "duration": 32,
    "start_time": "2021-07-09T21:07:28.480Z"
   },
   {
    "duration": 12,
    "start_time": "2021-07-09T21:07:32.897Z"
   },
   {
    "duration": 12,
    "start_time": "2021-07-09T21:07:57.684Z"
   },
   {
    "duration": 12,
    "start_time": "2021-07-09T21:09:13.390Z"
   },
   {
    "duration": 7,
    "start_time": "2021-07-09T21:09:17.910Z"
   },
   {
    "duration": 6,
    "start_time": "2021-07-09T21:09:20.882Z"
   },
   {
    "duration": 12,
    "start_time": "2021-07-09T21:09:30.945Z"
   },
   {
    "duration": 56,
    "start_time": "2021-07-09T21:09:34.262Z"
   },
   {
    "duration": 6,
    "start_time": "2021-07-09T21:09:38.947Z"
   },
   {
    "duration": 8,
    "start_time": "2021-07-09T21:09:41.781Z"
   },
   {
    "duration": 39,
    "start_time": "2021-07-09T21:09:51.724Z"
   },
   {
    "duration": 5,
    "start_time": "2021-07-09T21:09:57.382Z"
   },
   {
    "duration": 7,
    "start_time": "2021-07-09T21:09:59.955Z"
   },
   {
    "duration": 11,
    "start_time": "2021-07-09T21:10:50.263Z"
   },
   {
    "duration": 107,
    "start_time": "2021-07-09T21:12:17.539Z"
   },
   {
    "duration": 6,
    "start_time": "2021-07-09T21:12:28.746Z"
   },
   {
    "duration": 612,
    "start_time": "2021-07-09T21:13:13.989Z"
   },
   {
    "duration": 513,
    "start_time": "2021-07-09T21:13:29.835Z"
   },
   {
    "duration": 7,
    "start_time": "2021-07-09T21:13:41.470Z"
   },
   {
    "duration": 1122,
    "start_time": "2021-07-09T21:19:22.500Z"
   },
   {
    "duration": 856,
    "start_time": "2021-07-09T21:19:36.446Z"
   },
   {
    "duration": 106,
    "start_time": "2021-07-09T21:19:50.300Z"
   },
   {
    "duration": 15,
    "start_time": "2021-07-09T21:20:17.002Z"
   },
   {
    "duration": 17,
    "start_time": "2021-07-09T21:20:32.235Z"
   },
   {
    "duration": 18,
    "start_time": "2021-07-09T21:20:38.034Z"
   },
   {
    "duration": 33,
    "start_time": "2021-07-09T21:21:07.365Z"
   },
   {
    "duration": 5,
    "start_time": "2021-07-09T21:25:18.790Z"
   },
   {
    "duration": 7,
    "start_time": "2021-07-09T21:25:21.129Z"
   },
   {
    "duration": 5,
    "start_time": "2021-07-09T21:25:40.105Z"
   },
   {
    "duration": 5,
    "start_time": "2021-07-09T21:25:42.143Z"
   },
   {
    "duration": 16,
    "start_time": "2021-07-09T21:26:47.186Z"
   },
   {
    "duration": 34,
    "start_time": "2021-07-09T21:26:51.005Z"
   },
   {
    "duration": 31,
    "start_time": "2021-07-09T21:27:01.327Z"
   },
   {
    "duration": 32,
    "start_time": "2021-07-09T21:27:15.814Z"
   },
   {
    "duration": 32,
    "start_time": "2021-07-09T21:27:23.312Z"
   },
   {
    "duration": 29,
    "start_time": "2021-07-09T21:27:26.952Z"
   },
   {
    "duration": 31,
    "start_time": "2021-07-09T21:29:46.488Z"
   },
   {
    "duration": 8,
    "start_time": "2021-07-09T21:31:54.246Z"
   },
   {
    "duration": 10,
    "start_time": "2021-07-09T21:32:33.304Z"
   },
   {
    "duration": 11,
    "start_time": "2021-07-09T21:34:26.711Z"
   },
   {
    "duration": 112,
    "start_time": "2021-07-09T21:37:30.560Z"
   },
   {
    "duration": 911,
    "start_time": "2021-07-09T21:38:42.707Z"
   },
   {
    "duration": 895,
    "start_time": "2021-07-09T21:39:49.844Z"
   },
   {
    "duration": 8,
    "start_time": "2021-07-09T21:44:22.513Z"
   },
   {
    "duration": 885,
    "start_time": "2021-07-09T21:44:41.535Z"
   },
   {
    "duration": 13,
    "start_time": "2021-07-09T21:45:00.634Z"
   },
   {
    "duration": 15,
    "start_time": "2021-07-09T21:46:05.915Z"
   },
   {
    "duration": 1368,
    "start_time": "2021-07-09T21:46:39.077Z"
   },
   {
    "duration": 119,
    "start_time": "2021-07-09T21:47:19.436Z"
   },
   {
    "duration": 2308,
    "start_time": "2021-07-09T21:47:24.392Z"
   },
   {
    "duration": 75,
    "start_time": "2021-07-09T21:48:00.211Z"
   },
   {
    "duration": 15,
    "start_time": "2021-07-09T21:48:03.701Z"
   },
   {
    "duration": 6,
    "start_time": "2021-07-09T21:48:07.254Z"
   },
   {
    "duration": 13,
    "start_time": "2021-07-09T21:48:09.993Z"
   },
   {
    "duration": 40,
    "start_time": "2021-07-09T21:48:13.315Z"
   },
   {
    "duration": 36,
    "start_time": "2021-07-09T21:48:16.908Z"
   },
   {
    "duration": 9,
    "start_time": "2021-07-09T21:48:20.725Z"
   },
   {
    "duration": 5,
    "start_time": "2021-07-09T21:48:23.442Z"
   },
   {
    "duration": 7,
    "start_time": "2021-07-09T21:48:26.350Z"
   },
   {
    "duration": 43,
    "start_time": "2021-07-09T21:48:33.616Z"
   },
   {
    "duration": 4,
    "start_time": "2021-07-09T21:48:41.654Z"
   },
   {
    "duration": 9,
    "start_time": "2021-07-09T21:48:43.848Z"
   },
   {
    "duration": 20,
    "start_time": "2021-07-09T21:48:45.946Z"
   },
   {
    "duration": 9,
    "start_time": "2021-07-09T21:48:48.377Z"
   },
   {
    "duration": 5,
    "start_time": "2021-07-09T21:48:50.810Z"
   },
   {
    "duration": 14,
    "start_time": "2021-07-09T21:48:52.797Z"
   },
   {
    "duration": 9,
    "start_time": "2021-07-09T21:48:54.802Z"
   },
   {
    "duration": 22,
    "start_time": "2021-07-09T21:48:57.524Z"
   },
   {
    "duration": 10,
    "start_time": "2021-07-09T21:49:08.016Z"
   },
   {
    "duration": 5,
    "start_time": "2021-07-09T21:49:15.899Z"
   },
   {
    "duration": 15,
    "start_time": "2021-07-09T21:49:20.785Z"
   },
   {
    "duration": 6,
    "start_time": "2021-07-09T21:49:23.128Z"
   },
   {
    "duration": 5,
    "start_time": "2021-07-09T21:49:25.113Z"
   },
   {
    "duration": 7,
    "start_time": "2021-07-09T21:49:26.725Z"
   },
   {
    "duration": 34,
    "start_time": "2021-07-09T21:49:28.546Z"
   },
   {
    "duration": 14,
    "start_time": "2021-07-09T21:49:31.713Z"
   },
   {
    "duration": 7,
    "start_time": "2021-07-09T21:49:34.424Z"
   },
   {
    "duration": 6,
    "start_time": "2021-07-09T21:49:37.619Z"
   },
   {
    "duration": 11,
    "start_time": "2021-07-09T21:49:40.027Z"
   },
   {
    "duration": 55,
    "start_time": "2021-07-09T21:49:55.798Z"
   },
   {
    "duration": 7,
    "start_time": "2021-07-09T21:49:59.026Z"
   },
   {
    "duration": 8,
    "start_time": "2021-07-09T21:50:01.802Z"
   },
   {
    "duration": 36,
    "start_time": "2021-07-09T21:50:04.884Z"
   },
   {
    "duration": 5,
    "start_time": "2021-07-09T21:50:07.524Z"
   },
   {
    "duration": 7,
    "start_time": "2021-07-09T21:50:10.280Z"
   },
   {
    "duration": 7,
    "start_time": "2021-07-09T21:50:12.689Z"
   },
   {
    "duration": 22,
    "start_time": "2021-07-09T21:50:14.811Z"
   },
   {
    "duration": 12,
    "start_time": "2021-07-09T21:50:23.177Z"
   },
   {
    "duration": 10,
    "start_time": "2021-07-09T21:50:30.260Z"
   },
   {
    "duration": 8,
    "start_time": "2021-07-09T21:50:42.023Z"
   },
   {
    "duration": 9,
    "start_time": "2021-07-09T21:50:47.101Z"
   },
   {
    "duration": 7,
    "start_time": "2021-07-09T21:51:33.991Z"
   },
   {
    "duration": 5,
    "start_time": "2021-07-09T21:51:44.010Z"
   },
   {
    "duration": 45,
    "start_time": "2021-07-09T21:52:37.870Z"
   },
   {
    "duration": 11,
    "start_time": "2021-07-09T21:52:45.358Z"
   },
   {
    "duration": 36,
    "start_time": "2021-07-09T21:53:02.432Z"
   },
   {
    "duration": 22,
    "start_time": "2021-07-09T21:54:33.004Z"
   },
   {
    "duration": 106,
    "start_time": "2021-07-09T21:55:33.286Z"
   },
   {
    "duration": 10,
    "start_time": "2021-07-09T21:56:29.654Z"
   },
   {
    "duration": 11,
    "start_time": "2021-07-09T21:57:18.907Z"
   },
   {
    "duration": 10,
    "start_time": "2021-07-09T21:57:58.347Z"
   },
   {
    "duration": 18,
    "start_time": "2021-07-09T22:02:11.820Z"
   },
   {
    "duration": 10,
    "start_time": "2021-07-09T22:06:22.658Z"
   },
   {
    "duration": 862,
    "start_time": "2021-07-09T22:06:45.941Z"
   },
   {
    "duration": 4,
    "start_time": "2021-07-09T22:07:13.121Z"
   },
   {
    "duration": 107,
    "start_time": "2021-07-09T22:09:28.839Z"
   },
   {
    "duration": 10,
    "start_time": "2021-07-09T22:10:00.033Z"
   },
   {
    "duration": 31,
    "start_time": "2021-07-09T22:10:06.284Z"
   },
   {
    "duration": 10,
    "start_time": "2021-07-09T22:10:15.565Z"
   },
   {
    "duration": 11,
    "start_time": "2021-07-09T22:11:02.724Z"
   },
   {
    "duration": 7,
    "start_time": "2021-07-09T22:12:33.055Z"
   },
   {
    "duration": 5,
    "start_time": "2021-07-09T22:12:35.796Z"
   },
   {
    "duration": 17,
    "start_time": "2021-07-09T22:12:43.459Z"
   },
   {
    "duration": 12,
    "start_time": "2021-07-09T22:13:10.341Z"
   },
   {
    "duration": 11,
    "start_time": "2021-07-09T22:13:49.196Z"
   },
   {
    "duration": 11,
    "start_time": "2021-07-09T22:14:30.603Z"
   },
   {
    "duration": 36,
    "start_time": "2021-07-09T22:16:42.624Z"
   },
   {
    "duration": 31,
    "start_time": "2021-07-09T22:16:46.187Z"
   },
   {
    "duration": 29,
    "start_time": "2021-07-09T22:16:52.560Z"
   },
   {
    "duration": 10,
    "start_time": "2021-07-09T22:17:02.898Z"
   },
   {
    "duration": 7,
    "start_time": "2021-07-09T22:17:13.320Z"
   },
   {
    "duration": 343,
    "start_time": "2021-07-09T22:17:22.902Z"
   },
   {
    "duration": 4,
    "start_time": "2021-07-09T22:17:38.801Z"
   },
   {
    "duration": 919,
    "start_time": "2021-07-09T22:17:41.555Z"
   },
   {
    "duration": 8,
    "start_time": "2021-07-09T22:17:45.379Z"
   },
   {
    "duration": 4,
    "start_time": "2021-07-09T22:17:48.748Z"
   },
   {
    "duration": 7,
    "start_time": "2021-07-09T22:18:11.797Z"
   },
   {
    "duration": 4,
    "start_time": "2021-07-09T22:18:32.845Z"
   },
   {
    "duration": 8,
    "start_time": "2021-07-09T22:18:35.756Z"
   },
   {
    "duration": 4,
    "start_time": "2021-07-09T22:18:38.935Z"
   },
   {
    "duration": 315,
    "start_time": "2021-07-09T22:23:51.364Z"
   },
   {
    "duration": 168,
    "start_time": "2021-07-09T22:25:41.410Z"
   },
   {
    "duration": 4,
    "start_time": "2021-07-09T22:26:03.598Z"
   },
   {
    "duration": 31,
    "start_time": "2021-07-09T22:26:08.095Z"
   },
   {
    "duration": 7,
    "start_time": "2021-07-09T22:26:10.332Z"
   },
   {
    "duration": 4,
    "start_time": "2021-07-09T22:26:17.033Z"
   },
   {
    "duration": 1034,
    "start_time": "2021-07-09T22:26:32.931Z"
   },
   {
    "duration": 102,
    "start_time": "2021-07-09T22:26:43.576Z"
   },
   {
    "duration": 128,
    "start_time": "2021-07-09T22:26:49.393Z"
   },
   {
    "duration": 31,
    "start_time": "2021-07-09T22:26:54.714Z"
   },
   {
    "duration": 7,
    "start_time": "2021-07-09T22:26:56.774Z"
   },
   {
    "duration": 6,
    "start_time": "2021-07-09T22:26:59.563Z"
   },
   {
    "duration": 307,
    "start_time": "2021-07-09T22:28:03.610Z"
   },
   {
    "duration": 314,
    "start_time": "2021-07-09T22:28:09.560Z"
   },
   {
    "duration": 4,
    "start_time": "2021-07-09T22:28:27.160Z"
   },
   {
    "duration": 4457,
    "start_time": "2021-07-09T22:28:28.892Z"
   },
   {
    "duration": 5,
    "start_time": "2021-07-09T22:29:28.067Z"
   },
   {
    "duration": 4,
    "start_time": "2021-07-09T22:29:35.714Z"
   },
   {
    "duration": 14,
    "start_time": "2021-07-09T22:30:20.535Z"
   },
   {
    "duration": 8,
    "start_time": "2021-07-09T22:30:59.982Z"
   },
   {
    "duration": 4,
    "start_time": "2021-07-09T22:31:13.498Z"
   },
   {
    "duration": 110,
    "start_time": "2021-07-09T22:35:13.606Z"
   },
   {
    "duration": 22,
    "start_time": "2021-07-09T22:37:29.498Z"
   },
   {
    "duration": 26,
    "start_time": "2021-07-09T22:37:32.181Z"
   },
   {
    "duration": 20,
    "start_time": "2021-07-09T22:37:35.626Z"
   },
   {
    "duration": 5,
    "start_time": "2021-07-09T22:37:40.315Z"
   },
   {
    "duration": 45,
    "start_time": "2021-07-09T22:37:42.527Z"
   },
   {
    "duration": 41,
    "start_time": "2021-07-09T22:37:45.691Z"
   },
   {
    "duration": 38,
    "start_time": "2021-07-09T22:37:48.380Z"
   },
   {
    "duration": 17,
    "start_time": "2021-07-09T22:37:52.488Z"
   },
   {
    "duration": 38,
    "start_time": "2021-07-09T22:38:04.386Z"
   },
   {
    "duration": 37,
    "start_time": "2021-07-09T22:38:50.122Z"
   },
   {
    "duration": 12,
    "start_time": "2021-07-09T22:39:35.511Z"
   },
   {
    "duration": 1854,
    "start_time": "2021-07-09T22:40:10.422Z"
   },
   {
    "duration": 1760,
    "start_time": "2021-07-09T22:40:23.840Z"
   },
   {
    "duration": 1607,
    "start_time": "2021-07-09T22:40:55.570Z"
   },
   {
    "duration": 118,
    "start_time": "2021-07-09T22:42:16.168Z"
   },
   {
    "duration": 133,
    "start_time": "2021-07-09T22:42:30.246Z"
   },
   {
    "duration": 117,
    "start_time": "2021-07-09T22:42:38.220Z"
   },
   {
    "duration": 11,
    "start_time": "2021-07-09T22:43:00.806Z"
   },
   {
    "duration": 348,
    "start_time": "2021-07-09T22:48:17.386Z"
   },
   {
    "duration": 5,
    "start_time": "2021-07-09T22:48:33.277Z"
   },
   {
    "duration": 13,
    "start_time": "2021-07-09T22:50:33.189Z"
   },
   {
    "duration": 4,
    "start_time": "2021-07-09T22:55:16.024Z"
   },
   {
    "duration": 14,
    "start_time": "2021-07-09T22:57:23.927Z"
   },
   {
    "duration": 8186,
    "start_time": "2021-07-09T22:57:52.544Z"
   },
   {
    "duration": 41,
    "start_time": "2021-07-09T22:58:07.664Z"
   },
   {
    "duration": 14,
    "start_time": "2021-07-09T22:59:46.222Z"
   },
   {
    "duration": 9,
    "start_time": "2021-07-09T22:59:53.323Z"
   },
   {
    "duration": 22,
    "start_time": "2021-07-09T22:59:55.749Z"
   },
   {
    "duration": 11,
    "start_time": "2021-07-09T22:59:58.060Z"
   },
   {
    "duration": 24,
    "start_time": "2021-07-09T23:00:03.641Z"
   },
   {
    "duration": 11,
    "start_time": "2021-07-09T23:00:05.837Z"
   },
   {
    "duration": 75,
    "start_time": "2021-07-09T23:01:26.906Z"
   },
   {
    "duration": 16,
    "start_time": "2021-07-09T23:01:30.489Z"
   },
   {
    "duration": 6,
    "start_time": "2021-07-09T23:01:34.034Z"
   },
   {
    "duration": 13,
    "start_time": "2021-07-09T23:01:36.401Z"
   },
   {
    "duration": 45,
    "start_time": "2021-07-09T23:01:43.373Z"
   },
   {
    "duration": 35,
    "start_time": "2021-07-09T23:01:46.227Z"
   },
   {
    "duration": 11,
    "start_time": "2021-07-09T23:01:51.265Z"
   },
   {
    "duration": 5,
    "start_time": "2021-07-09T23:01:54.139Z"
   },
   {
    "duration": 8,
    "start_time": "2021-07-09T23:02:02.112Z"
   },
   {
    "duration": 8,
    "start_time": "2021-07-09T23:02:07.540Z"
   },
   {
    "duration": 46,
    "start_time": "2021-07-09T23:02:18.669Z"
   },
   {
    "duration": 45,
    "start_time": "2021-07-09T23:03:04.871Z"
   },
   {
    "duration": 5,
    "start_time": "2021-07-09T23:03:23.137Z"
   },
   {
    "duration": 10,
    "start_time": "2021-07-09T23:03:25.575Z"
   },
   {
    "duration": 19,
    "start_time": "2021-07-09T23:03:27.787Z"
   },
   {
    "duration": 9,
    "start_time": "2021-07-09T23:03:36.766Z"
   },
   {
    "duration": 5,
    "start_time": "2021-07-09T23:03:39.861Z"
   },
   {
    "duration": 13,
    "start_time": "2021-07-09T23:03:43.104Z"
   },
   {
    "duration": 9,
    "start_time": "2021-07-09T23:03:45.843Z"
   },
   {
    "duration": 34,
    "start_time": "2021-07-09T23:03:51.930Z"
   },
   {
    "duration": 14,
    "start_time": "2021-07-09T23:04:00.863Z"
   },
   {
    "duration": 5,
    "start_time": "2021-07-09T23:04:06.258Z"
   },
   {
    "duration": 15,
    "start_time": "2021-07-09T23:04:10.680Z"
   },
   {
    "duration": 7,
    "start_time": "2021-07-09T23:04:13.980Z"
   },
   {
    "duration": 7,
    "start_time": "2021-07-09T23:04:18.072Z"
   },
   {
    "duration": 36,
    "start_time": "2021-07-09T23:04:19.959Z"
   },
   {
    "duration": 12,
    "start_time": "2021-07-09T23:04:23.316Z"
   },
   {
    "duration": 7,
    "start_time": "2021-07-09T23:04:25.946Z"
   },
   {
    "duration": 7,
    "start_time": "2021-07-09T23:04:30.838Z"
   },
   {
    "duration": 12,
    "start_time": "2021-07-09T23:04:33.458Z"
   },
   {
    "duration": 55,
    "start_time": "2021-07-09T23:04:36.347Z"
   },
   {
    "duration": 6,
    "start_time": "2021-07-09T23:04:55.482Z"
   },
   {
    "duration": 9,
    "start_time": "2021-07-09T23:04:57.870Z"
   },
   {
    "duration": 52,
    "start_time": "2021-07-09T23:05:00.982Z"
   },
   {
    "duration": 4,
    "start_time": "2021-07-09T23:05:04.597Z"
   },
   {
    "duration": 9,
    "start_time": "2021-07-09T23:05:06.912Z"
   },
   {
    "duration": 7,
    "start_time": "2021-07-09T23:05:08.726Z"
   },
   {
    "duration": 18,
    "start_time": "2021-07-09T23:05:11.597Z"
   },
   {
    "duration": 12,
    "start_time": "2021-07-09T23:05:27.718Z"
   },
   {
    "duration": 11,
    "start_time": "2021-07-09T23:05:29.833Z"
   },
   {
    "duration": 22,
    "start_time": "2021-07-09T23:05:32.851Z"
   },
   {
    "duration": 10,
    "start_time": "2021-07-09T23:05:36.568Z"
   },
   {
    "duration": 810,
    "start_time": "2021-07-09T23:06:21.938Z"
   },
   {
    "duration": 10,
    "start_time": "2021-07-09T23:06:56.783Z"
   },
   {
    "duration": 10,
    "start_time": "2021-07-09T23:06:59.434Z"
   },
   {
    "duration": 10,
    "start_time": "2021-07-09T23:07:01.780Z"
   },
   {
    "duration": 20,
    "start_time": "2021-07-09T23:07:04.084Z"
   },
   {
    "duration": 9,
    "start_time": "2021-07-09T23:07:07.229Z"
   },
   {
    "duration": 10,
    "start_time": "2021-07-09T23:07:10.489Z"
   },
   {
    "duration": 10,
    "start_time": "2021-07-09T23:07:13.611Z"
   },
   {
    "duration": 7,
    "start_time": "2021-07-09T23:07:17.039Z"
   },
   {
    "duration": 11,
    "start_time": "2021-07-09T23:07:19.855Z"
   },
   {
    "duration": 369,
    "start_time": "2021-07-09T23:08:53.916Z"
   },
   {
    "duration": 367,
    "start_time": "2021-07-09T23:08:59.610Z"
   },
   {
    "duration": 17,
    "start_time": "2021-07-09T23:09:53.237Z"
   },
   {
    "duration": 12,
    "start_time": "2021-07-09T23:09:55.799Z"
   },
   {
    "duration": 10,
    "start_time": "2021-07-09T23:09:59.064Z"
   },
   {
    "duration": 6,
    "start_time": "2021-07-09T23:10:08.933Z"
   },
   {
    "duration": 6,
    "start_time": "2021-07-09T23:10:11.005Z"
   },
   {
    "duration": 5,
    "start_time": "2021-07-09T23:10:30.541Z"
   },
   {
    "duration": 21,
    "start_time": "2021-07-09T23:10:33.029Z"
   },
   {
    "duration": 49,
    "start_time": "2021-07-09T23:10:36.369Z"
   },
   {
    "duration": 32,
    "start_time": "2021-07-09T23:10:39.915Z"
   },
   {
    "duration": 27,
    "start_time": "2021-07-09T23:10:42.867Z"
   },
   {
    "duration": 33,
    "start_time": "2021-07-09T23:10:45.684Z"
   },
   {
    "duration": 28,
    "start_time": "2021-07-09T23:11:12.029Z"
   },
   {
    "duration": 4,
    "start_time": "2021-07-09T23:11:18.415Z"
   },
   {
    "duration": 7,
    "start_time": "2021-07-09T23:11:20.714Z"
   },
   {
    "duration": 5,
    "start_time": "2021-07-09T23:11:23.956Z"
   },
   {
    "duration": 948,
    "start_time": "2021-07-09T23:11:31.224Z"
   },
   {
    "duration": 5,
    "start_time": "2021-07-09T23:11:34.590Z"
   },
   {
    "duration": 23,
    "start_time": "2021-07-09T23:11:43.428Z"
   },
   {
    "duration": 21,
    "start_time": "2021-07-09T23:11:46.210Z"
   },
   {
    "duration": 20,
    "start_time": "2021-07-09T23:11:48.500Z"
   },
   {
    "duration": 5,
    "start_time": "2021-07-09T23:11:50.983Z"
   },
   {
    "duration": 45,
    "start_time": "2021-07-09T23:11:53.255Z"
   },
   {
    "duration": 35,
    "start_time": "2021-07-09T23:11:56.376Z"
   },
   {
    "duration": 33,
    "start_time": "2021-07-09T23:12:01.777Z"
   },
   {
    "duration": 15,
    "start_time": "2021-07-09T23:12:14.907Z"
   },
   {
    "duration": 52,
    "start_time": "2021-07-09T23:12:16.847Z"
   },
   {
    "duration": 13,
    "start_time": "2021-07-09T23:12:20.880Z"
   },
   {
    "duration": 4,
    "start_time": "2021-07-09T23:12:24.060Z"
   },
   {
    "duration": 14,
    "start_time": "2021-07-09T23:12:26.630Z"
   },
   {
    "duration": 61,
    "start_time": "2021-07-09T23:12:28.583Z"
   },
   {
    "duration": 16,
    "start_time": "2021-07-09T23:12:32.486Z"
   },
   {
    "duration": 10,
    "start_time": "2021-07-09T23:12:58.083Z"
   },
   {
    "duration": 120,
    "start_time": "2021-07-09T23:14:06.817Z"
   },
   {
    "duration": 10,
    "start_time": "2021-07-09T23:14:54.661Z"
   },
   {
    "duration": 9,
    "start_time": "2021-07-09T23:14:56.541Z"
   },
   {
    "duration": 19,
    "start_time": "2021-07-09T23:15:03.813Z"
   },
   {
    "duration": 14,
    "start_time": "2021-07-09T23:15:07.324Z"
   },
   {
    "duration": 30,
    "start_time": "2021-07-09T23:15:10.048Z"
   },
   {
    "duration": 5,
    "start_time": "2021-07-09T23:15:17.142Z"
   },
   {
    "duration": 10,
    "start_time": "2021-07-09T23:15:27.556Z"
   },
   {
    "duration": 21,
    "start_time": "2021-07-09T23:15:32.490Z"
   },
   {
    "duration": 12,
    "start_time": "2021-07-09T23:15:34.778Z"
   },
   {
    "duration": 25,
    "start_time": "2021-07-09T23:15:38.952Z"
   },
   {
    "duration": 11,
    "start_time": "2021-07-09T23:15:41.087Z"
   },
   {
    "duration": 12,
    "start_time": "2021-07-09T23:27:43.384Z"
   },
   {
    "duration": 1525,
    "start_time": "2021-07-09T23:28:52.469Z"
   },
   {
    "duration": 1498,
    "start_time": "2021-07-09T23:29:03.149Z"
   },
   {
    "duration": 368,
    "start_time": "2021-07-09T23:30:35.232Z"
   },
   {
    "duration": 11,
    "start_time": "2021-07-09T23:31:02.249Z"
   },
   {
    "duration": 378,
    "start_time": "2021-07-09T23:32:57.553Z"
   },
   {
    "duration": 8,
    "start_time": "2021-07-09T23:33:01.811Z"
   },
   {
    "duration": 5,
    "start_time": "2021-07-09T23:33:04.179Z"
   },
   {
    "duration": 21,
    "start_time": "2021-07-09T23:33:27.083Z"
   },
   {
    "duration": 7,
    "start_time": "2021-07-09T23:35:31.107Z"
   },
   {
    "duration": 4,
    "start_time": "2021-07-09T23:35:54.004Z"
   },
   {
    "duration": 15,
    "start_time": "2021-07-09T23:36:00.409Z"
   },
   {
    "duration": 8,
    "start_time": "2021-07-09T23:36:03.761Z"
   },
   {
    "duration": 79,
    "start_time": "2021-07-09T23:36:31.635Z"
   },
   {
    "duration": 11,
    "start_time": "2021-07-09T23:36:58.096Z"
   },
   {
    "duration": 10,
    "start_time": "2021-07-09T23:37:01.194Z"
   },
   {
    "duration": 22,
    "start_time": "2021-07-09T23:37:07.461Z"
   },
   {
    "duration": 35,
    "start_time": "2021-07-09T23:37:29.082Z"
   },
   {
    "duration": 21,
    "start_time": "2021-07-09T23:37:48.848Z"
   },
   {
    "duration": 12,
    "start_time": "2021-07-09T23:37:54.091Z"
   },
   {
    "duration": 5,
    "start_time": "2021-07-09T23:38:00.374Z"
   },
   {
    "duration": 10,
    "start_time": "2021-07-09T23:38:28.237Z"
   },
   {
    "duration": 14,
    "start_time": "2021-07-09T23:38:35.364Z"
   },
   {
    "duration": 10,
    "start_time": "2021-07-09T23:38:38.398Z"
   },
   {
    "duration": 788,
    "start_time": "2021-07-10T10:07:47.466Z"
   },
   {
    "duration": 928,
    "start_time": "2021-07-10T10:20:32.960Z"
   },
   {
    "duration": 9,
    "start_time": "2021-07-10T10:23:09.278Z"
   },
   {
    "duration": 5,
    "start_time": "2021-07-10T10:23:51.805Z"
   },
   {
    "duration": 15,
    "start_time": "2021-07-10T10:24:30.966Z"
   },
   {
    "duration": 10,
    "start_time": "2021-07-10T10:24:34.970Z"
   },
   {
    "duration": 871,
    "start_time": "2021-07-10T10:30:21.033Z"
   },
   {
    "duration": 15,
    "start_time": "2021-07-10T10:30:21.906Z"
   },
   {
    "duration": 5,
    "start_time": "2021-07-10T10:30:21.927Z"
   },
   {
    "duration": 12,
    "start_time": "2021-07-10T10:30:21.956Z"
   },
   {
    "duration": 37,
    "start_time": "2021-07-10T10:30:21.970Z"
   },
   {
    "duration": 65,
    "start_time": "2021-07-10T10:30:22.009Z"
   },
   {
    "duration": 8,
    "start_time": "2021-07-10T10:30:22.078Z"
   },
   {
    "duration": 5,
    "start_time": "2021-07-10T10:30:22.089Z"
   },
   {
    "duration": 12,
    "start_time": "2021-07-10T10:30:22.096Z"
   },
   {
    "duration": 7,
    "start_time": "2021-07-10T10:30:22.111Z"
   },
   {
    "duration": 78,
    "start_time": "2021-07-10T10:30:22.121Z"
   },
   {
    "duration": 5,
    "start_time": "2021-07-10T10:30:22.201Z"
   },
   {
    "duration": 12,
    "start_time": "2021-07-10T10:30:22.208Z"
   },
   {
    "duration": 48,
    "start_time": "2021-07-10T10:30:22.223Z"
   },
   {
    "duration": 9,
    "start_time": "2021-07-10T10:30:22.273Z"
   },
   {
    "duration": 4,
    "start_time": "2021-07-10T10:30:22.284Z"
   },
   {
    "duration": 12,
    "start_time": "2021-07-10T10:30:22.290Z"
   },
   {
    "duration": 8,
    "start_time": "2021-07-10T10:30:22.304Z"
   },
   {
    "duration": 54,
    "start_time": "2021-07-10T10:30:22.314Z"
   },
   {
    "duration": 12,
    "start_time": "2021-07-10T10:30:22.370Z"
   },
   {
    "duration": 4,
    "start_time": "2021-07-10T10:30:22.384Z"
   },
   {
    "duration": 14,
    "start_time": "2021-07-10T10:30:22.394Z"
   },
   {
    "duration": 48,
    "start_time": "2021-07-10T10:30:22.412Z"
   },
   {
    "duration": 7,
    "start_time": "2021-07-10T10:30:22.462Z"
   },
   {
    "duration": 36,
    "start_time": "2021-07-10T10:30:22.471Z"
   },
   {
    "duration": 10,
    "start_time": "2021-07-10T10:30:22.509Z"
   },
   {
    "duration": 7,
    "start_time": "2021-07-10T10:30:22.557Z"
   },
   {
    "duration": 7,
    "start_time": "2021-07-10T10:30:22.567Z"
   },
   {
    "duration": 14,
    "start_time": "2021-07-10T10:30:22.576Z"
   },
   {
    "duration": 83,
    "start_time": "2021-07-10T10:30:22.592Z"
   },
   {
    "duration": 6,
    "start_time": "2021-07-10T10:30:22.677Z"
   },
   {
    "duration": 9,
    "start_time": "2021-07-10T10:30:22.686Z"
   },
   {
    "duration": 69,
    "start_time": "2021-07-10T10:30:22.697Z"
   },
   {
    "duration": 8,
    "start_time": "2021-07-10T10:30:22.769Z"
   },
   {
    "duration": 14,
    "start_time": "2021-07-10T10:30:22.779Z"
   },
   {
    "duration": 9,
    "start_time": "2021-07-10T10:30:22.795Z"
   },
   {
    "duration": 19,
    "start_time": "2021-07-10T10:30:22.807Z"
   },
   {
    "duration": 12,
    "start_time": "2021-07-10T10:30:22.856Z"
   },
   {
    "duration": 10,
    "start_time": "2021-07-10T10:30:22.870Z"
   },
   {
    "duration": 20,
    "start_time": "2021-07-10T10:30:22.882Z"
   },
   {
    "duration": 16,
    "start_time": "2021-07-10T10:30:22.904Z"
   },
   {
    "duration": 36,
    "start_time": "2021-07-10T10:30:22.923Z"
   },
   {
    "duration": 35,
    "start_time": "2021-07-10T10:30:22.961Z"
   },
   {
    "duration": 14,
    "start_time": "2021-07-10T10:30:22.998Z"
   },
   {
    "duration": 12,
    "start_time": "2021-07-10T10:30:23.015Z"
   },
   {
    "duration": 27,
    "start_time": "2021-07-10T10:30:23.030Z"
   },
   {
    "duration": 26,
    "start_time": "2021-07-10T10:30:23.060Z"
   },
   {
    "duration": 19,
    "start_time": "2021-07-10T10:30:23.089Z"
   },
   {
    "duration": 12,
    "start_time": "2021-07-10T10:30:23.110Z"
   },
   {
    "duration": 34,
    "start_time": "2021-07-10T10:30:23.125Z"
   },
   {
    "duration": 19,
    "start_time": "2021-07-10T10:30:23.162Z"
   },
   {
    "duration": 18,
    "start_time": "2021-07-10T10:30:23.184Z"
   },
   {
    "duration": 10,
    "start_time": "2021-07-10T10:30:23.205Z"
   },
   {
    "duration": 9,
    "start_time": "2021-07-10T10:30:23.218Z"
   },
   {
    "duration": 8,
    "start_time": "2021-07-10T10:30:23.255Z"
   },
   {
    "duration": 9,
    "start_time": "2021-07-10T10:30:23.266Z"
   },
   {
    "duration": 9,
    "start_time": "2021-07-10T10:30:23.278Z"
   },
   {
    "duration": 342,
    "start_time": "2021-07-10T10:30:23.289Z"
   },
   {
    "duration": -1349,
    "start_time": "2021-07-10T10:30:24.984Z"
   },
   {
    "duration": -1355,
    "start_time": "2021-07-10T10:30:24.992Z"
   },
   {
    "duration": -1362,
    "start_time": "2021-07-10T10:30:25.000Z"
   },
   {
    "duration": -1368,
    "start_time": "2021-07-10T10:30:25.008Z"
   },
   {
    "duration": -1374,
    "start_time": "2021-07-10T10:30:25.016Z"
   },
   {
    "duration": -1381,
    "start_time": "2021-07-10T10:30:25.024Z"
   },
   {
    "duration": -1386,
    "start_time": "2021-07-10T10:30:25.031Z"
   },
   {
    "duration": -1393,
    "start_time": "2021-07-10T10:30:25.039Z"
   },
   {
    "duration": -1398,
    "start_time": "2021-07-10T10:30:25.046Z"
   },
   {
    "duration": -1405,
    "start_time": "2021-07-10T10:30:25.054Z"
   },
   {
    "duration": -1410,
    "start_time": "2021-07-10T10:30:25.061Z"
   },
   {
    "duration": -1441,
    "start_time": "2021-07-10T10:30:25.093Z"
   },
   {
    "duration": -1451,
    "start_time": "2021-07-10T10:30:25.105Z"
   },
   {
    "duration": -1458,
    "start_time": "2021-07-10T10:30:25.114Z"
   },
   {
    "duration": -1464,
    "start_time": "2021-07-10T10:30:25.121Z"
   },
   {
    "duration": -1470,
    "start_time": "2021-07-10T10:30:25.129Z"
   },
   {
    "duration": -1476,
    "start_time": "2021-07-10T10:30:25.136Z"
   },
   {
    "duration": -1482,
    "start_time": "2021-07-10T10:30:25.144Z"
   },
   {
    "duration": -1488,
    "start_time": "2021-07-10T10:30:25.151Z"
   },
   {
    "duration": -1494,
    "start_time": "2021-07-10T10:30:25.159Z"
   },
   {
    "duration": -1500,
    "start_time": "2021-07-10T10:30:25.166Z"
   },
   {
    "duration": -1507,
    "start_time": "2021-07-10T10:30:25.174Z"
   },
   {
    "duration": -1512,
    "start_time": "2021-07-10T10:30:25.181Z"
   },
   {
    "duration": -1519,
    "start_time": "2021-07-10T10:30:25.189Z"
   },
   {
    "duration": -1534,
    "start_time": "2021-07-10T10:30:25.206Z"
   },
   {
    "duration": -1546,
    "start_time": "2021-07-10T10:30:25.219Z"
   },
   {
    "duration": -1553,
    "start_time": "2021-07-10T10:30:25.227Z"
   },
   {
    "duration": -1559,
    "start_time": "2021-07-10T10:30:25.235Z"
   },
   {
    "duration": -1564,
    "start_time": "2021-07-10T10:30:25.242Z"
   },
   {
    "duration": -1570,
    "start_time": "2021-07-10T10:30:25.250Z"
   },
   {
    "duration": -1575,
    "start_time": "2021-07-10T10:30:25.257Z"
   },
   {
    "duration": -1581,
    "start_time": "2021-07-10T10:30:25.265Z"
   },
   {
    "duration": -1586,
    "start_time": "2021-07-10T10:30:25.272Z"
   },
   {
    "duration": -1592,
    "start_time": "2021-07-10T10:30:25.280Z"
   },
   {
    "duration": 256,
    "start_time": "2021-07-10T10:45:10.488Z"
   },
   {
    "duration": 8,
    "start_time": "2021-07-10T10:45:15.440Z"
   },
   {
    "duration": 6,
    "start_time": "2021-07-10T10:45:28.045Z"
   },
   {
    "duration": 5,
    "start_time": "2021-07-10T10:45:31.018Z"
   },
   {
    "duration": 849,
    "start_time": "2021-07-10T10:45:34.080Z"
   },
   {
    "duration": 3,
    "start_time": "2021-07-10T10:45:51.958Z"
   },
   {
    "duration": 4,
    "start_time": "2021-07-10T10:45:54.551Z"
   },
   {
    "duration": 252,
    "start_time": "2021-07-10T10:45:58.905Z"
   },
   {
    "duration": 13,
    "start_time": "2021-07-10T10:46:04.241Z"
   },
   {
    "duration": 256,
    "start_time": "2021-07-10T10:46:06.160Z"
   },
   {
    "duration": 238,
    "start_time": "2021-07-10T10:46:09.811Z"
   },
   {
    "duration": 6,
    "start_time": "2021-07-10T10:46:12.167Z"
   },
   {
    "duration": 28,
    "start_time": "2021-07-10T10:46:26.112Z"
   },
   {
    "duration": 7,
    "start_time": "2021-07-10T10:46:27.774Z"
   },
   {
    "duration": 4,
    "start_time": "2021-07-10T10:46:32.257Z"
   },
   {
    "duration": 1105,
    "start_time": "2021-07-10T10:46:35.192Z"
   },
   {
    "duration": 253,
    "start_time": "2021-07-10T10:46:40.600Z"
   },
   {
    "duration": 3,
    "start_time": "2021-07-10T10:46:50.156Z"
   },
   {
    "duration": 4,
    "start_time": "2021-07-10T10:46:52.350Z"
   },
   {
    "duration": 266,
    "start_time": "2021-07-10T10:47:13.793Z"
   },
   {
    "duration": 4,
    "start_time": "2021-07-10T10:47:23.641Z"
   },
   {
    "duration": 7,
    "start_time": "2021-07-10T10:47:39.482Z"
   },
   {
    "duration": 4,
    "start_time": "2021-07-10T10:47:42.222Z"
   },
   {
    "duration": 8,
    "start_time": "2021-07-10T10:47:44.419Z"
   },
   {
    "duration": 239,
    "start_time": "2021-07-10T10:47:48.437Z"
   },
   {
    "duration": 4,
    "start_time": "2021-07-10T10:47:52.111Z"
   },
   {
    "duration": 26,
    "start_time": "2021-07-10T10:48:03.090Z"
   },
   {
    "duration": 8,
    "start_time": "2021-07-10T10:48:05.158Z"
   },
   {
    "duration": 5,
    "start_time": "2021-07-10T10:48:08.470Z"
   },
   {
    "duration": 878,
    "start_time": "2021-07-10T10:48:10.743Z"
   },
   {
    "duration": 253,
    "start_time": "2021-07-10T10:48:24.434Z"
   },
   {
    "duration": 248,
    "start_time": "2021-07-10T10:48:33.796Z"
   },
   {
    "duration": 4,
    "start_time": "2021-07-10T10:48:36.520Z"
   },
   {
    "duration": 5,
    "start_time": "2021-07-10T10:48:38.930Z"
   },
   {
    "duration": 238,
    "start_time": "2021-07-10T10:48:48.589Z"
   },
   {
    "duration": 263,
    "start_time": "2021-07-10T10:49:16.198Z"
   },
   {
    "duration": 90,
    "start_time": "2021-07-10T10:49:21.250Z"
   },
   {
    "duration": 4,
    "start_time": "2021-07-10T10:49:23.692Z"
   },
   {
    "duration": 242,
    "start_time": "2021-07-10T10:49:36.341Z"
   },
   {
    "duration": 3,
    "start_time": "2021-07-10T10:49:42.343Z"
   },
   {
    "duration": 4,
    "start_time": "2021-07-10T10:49:44.717Z"
   },
   {
    "duration": 3,
    "start_time": "2021-07-10T10:49:56.427Z"
   },
   {
    "duration": 248,
    "start_time": "2021-07-10T10:50:02.569Z"
   },
   {
    "duration": 4,
    "start_time": "2021-07-10T10:50:07.089Z"
   },
   {
    "duration": 5,
    "start_time": "2021-07-10T10:50:17.227Z"
   },
   {
    "duration": 9,
    "start_time": "2021-07-10T10:50:19.871Z"
   },
   {
    "duration": 4,
    "start_time": "2021-07-10T10:50:22.291Z"
   },
   {
    "duration": 8,
    "start_time": "2021-07-10T10:50:24.792Z"
   },
   {
    "duration": 3,
    "start_time": "2021-07-10T10:50:29.169Z"
   },
   {
    "duration": 4,
    "start_time": "2021-07-10T10:50:35.511Z"
   },
   {
    "duration": 3,
    "start_time": "2021-07-10T10:50:48.140Z"
   },
   {
    "duration": 4,
    "start_time": "2021-07-10T10:50:50.100Z"
   },
   {
    "duration": 3,
    "start_time": "2021-07-10T10:51:02.572Z"
   },
   {
    "duration": 4,
    "start_time": "2021-07-10T10:51:04.817Z"
   },
   {
    "duration": 3,
    "start_time": "2021-07-10T10:51:51.160Z"
   },
   {
    "duration": 5,
    "start_time": "2021-07-10T10:51:54.268Z"
   },
   {
    "duration": 243,
    "start_time": "2021-07-10T10:51:57.297Z"
   },
   {
    "duration": 4,
    "start_time": "2021-07-10T10:52:07.755Z"
   },
   {
    "duration": 4,
    "start_time": "2021-07-10T10:52:12.461Z"
   },
   {
    "duration": 77,
    "start_time": "2021-07-10T10:53:22.506Z"
   },
   {
    "duration": 257,
    "start_time": "2021-07-10T10:53:30.449Z"
   },
   {
    "duration": 268,
    "start_time": "2021-07-10T10:53:37.927Z"
   },
   {
    "duration": 3,
    "start_time": "2021-07-10T10:53:52.847Z"
   },
   {
    "duration": 4,
    "start_time": "2021-07-10T10:53:55.119Z"
   },
   {
    "duration": 4,
    "start_time": "2021-07-10T10:54:03.550Z"
   },
   {
    "duration": 4,
    "start_time": "2021-07-10T10:56:08.584Z"
   },
   {
    "duration": 252,
    "start_time": "2021-07-10T10:56:26.094Z"
   },
   {
    "duration": 5,
    "start_time": "2021-07-10T10:56:30.983Z"
   },
   {
    "duration": 827,
    "start_time": "2021-07-10T10:56:58.255Z"
   },
   {
    "duration": 14,
    "start_time": "2021-07-10T10:56:59.085Z"
   },
   {
    "duration": 5,
    "start_time": "2021-07-10T10:56:59.102Z"
   },
   {
    "duration": 19,
    "start_time": "2021-07-10T10:56:59.109Z"
   },
   {
    "duration": 62,
    "start_time": "2021-07-10T10:56:59.131Z"
   },
   {
    "duration": 59,
    "start_time": "2021-07-10T10:56:59.196Z"
   },
   {
    "duration": 11,
    "start_time": "2021-07-10T10:56:59.258Z"
   },
   {
    "duration": 5,
    "start_time": "2021-07-10T10:56:59.274Z"
   },
   {
    "duration": 10,
    "start_time": "2021-07-10T10:56:59.282Z"
   },
   {
    "duration": 4,
    "start_time": "2021-07-10T10:56:59.295Z"
   },
   {
    "duration": 89,
    "start_time": "2021-07-10T10:56:59.302Z"
   },
   {
    "duration": 5,
    "start_time": "2021-07-10T10:56:59.394Z"
   },
   {
    "duration": 12,
    "start_time": "2021-07-10T10:56:59.402Z"
   },
   {
    "duration": 54,
    "start_time": "2021-07-10T10:56:59.417Z"
   },
   {
    "duration": 10,
    "start_time": "2021-07-10T10:56:59.474Z"
   },
   {
    "duration": 6,
    "start_time": "2021-07-10T10:56:59.487Z"
   },
   {
    "duration": 14,
    "start_time": "2021-07-10T10:56:59.496Z"
   },
   {
    "duration": 53,
    "start_time": "2021-07-10T10:56:59.512Z"
   },
   {
    "duration": 22,
    "start_time": "2021-07-10T10:56:59.567Z"
   },
   {
    "duration": 13,
    "start_time": "2021-07-10T10:56:59.591Z"
   },
   {
    "duration": 5,
    "start_time": "2021-07-10T10:56:59.607Z"
   },
   {
    "duration": 17,
    "start_time": "2021-07-10T10:56:59.657Z"
   },
   {
    "duration": 5,
    "start_time": "2021-07-10T10:56:59.682Z"
   },
   {
    "duration": 7,
    "start_time": "2021-07-10T10:56:59.693Z"
   },
   {
    "duration": 80,
    "start_time": "2021-07-10T10:56:59.703Z"
   },
   {
    "duration": 11,
    "start_time": "2021-07-10T10:56:59.786Z"
   },
   {
    "duration": 7,
    "start_time": "2021-07-10T10:56:59.800Z"
   },
   {
    "duration": 47,
    "start_time": "2021-07-10T10:56:59.810Z"
   },
   {
    "duration": 10,
    "start_time": "2021-07-10T10:56:59.860Z"
   },
   {
    "duration": 54,
    "start_time": "2021-07-10T10:56:59.873Z"
   },
   {
    "duration": 6,
    "start_time": "2021-07-10T10:56:59.955Z"
   },
   {
    "duration": 8,
    "start_time": "2021-07-10T10:56:59.963Z"
   },
   {
    "duration": 36,
    "start_time": "2021-07-10T10:56:59.973Z"
   },
   {
    "duration": 6,
    "start_time": "2021-07-10T10:57:00.012Z"
   },
   {
    "duration": 42,
    "start_time": "2021-07-10T10:57:00.020Z"
   },
   {
    "duration": 10,
    "start_time": "2021-07-10T10:57:00.064Z"
   },
   {
    "duration": 23,
    "start_time": "2021-07-10T10:57:00.076Z"
   },
   {
    "duration": 10,
    "start_time": "2021-07-10T10:57:00.102Z"
   },
   {
    "duration": 47,
    "start_time": "2021-07-10T10:57:00.114Z"
   },
   {
    "duration": 21,
    "start_time": "2021-07-10T10:57:00.163Z"
   },
   {
    "duration": 11,
    "start_time": "2021-07-10T10:57:00.187Z"
   },
   {
    "duration": 14,
    "start_time": "2021-07-10T10:57:00.200Z"
   },
   {
    "duration": 40,
    "start_time": "2021-07-10T10:57:00.217Z"
   },
   {
    "duration": 9,
    "start_time": "2021-07-10T10:57:00.260Z"
   },
   {
    "duration": 36,
    "start_time": "2021-07-10T10:57:00.271Z"
   },
   {
    "duration": 34,
    "start_time": "2021-07-10T10:57:00.309Z"
   },
   {
    "duration": 50,
    "start_time": "2021-07-10T10:57:00.345Z"
   },
   {
    "duration": 42,
    "start_time": "2021-07-10T10:57:00.398Z"
   },
   {
    "duration": 12,
    "start_time": "2021-07-10T10:57:00.442Z"
   },
   {
    "duration": 24,
    "start_time": "2021-07-10T10:57:00.456Z"
   },
   {
    "duration": 47,
    "start_time": "2021-07-10T10:57:00.482Z"
   },
   {
    "duration": 18,
    "start_time": "2021-07-10T10:57:00.531Z"
   },
   {
    "duration": 31,
    "start_time": "2021-07-10T10:57:00.552Z"
   },
   {
    "duration": 23,
    "start_time": "2021-07-10T10:57:00.585Z"
   },
   {
    "duration": 23,
    "start_time": "2021-07-10T10:57:00.611Z"
   },
   {
    "duration": 19,
    "start_time": "2021-07-10T10:57:00.636Z"
   },
   {
    "duration": 17,
    "start_time": "2021-07-10T10:57:00.657Z"
   },
   {
    "duration": 350,
    "start_time": "2021-07-10T10:57:00.676Z"
   },
   {
    "duration": -2250,
    "start_time": "2021-07-10T10:57:03.279Z"
   },
   {
    "duration": -2256,
    "start_time": "2021-07-10T10:57:03.287Z"
   },
   {
    "duration": -2262,
    "start_time": "2021-07-10T10:57:03.294Z"
   },
   {
    "duration": -2269,
    "start_time": "2021-07-10T10:57:03.302Z"
   },
   {
    "duration": -2275,
    "start_time": "2021-07-10T10:57:03.309Z"
   },
   {
    "duration": -2282,
    "start_time": "2021-07-10T10:57:03.317Z"
   },
   {
    "duration": -2321,
    "start_time": "2021-07-10T10:57:03.358Z"
   },
   {
    "duration": -2330,
    "start_time": "2021-07-10T10:57:03.368Z"
   },
   {
    "duration": -2367,
    "start_time": "2021-07-10T10:57:03.406Z"
   },
   {
    "duration": -2412,
    "start_time": "2021-07-10T10:57:03.452Z"
   },
   {
    "duration": -2452,
    "start_time": "2021-07-10T10:57:03.493Z"
   },
   {
    "duration": -2494,
    "start_time": "2021-07-10T10:57:03.537Z"
   },
   {
    "duration": -2543,
    "start_time": "2021-07-10T10:57:03.587Z"
   },
   {
    "duration": -2552,
    "start_time": "2021-07-10T10:57:03.597Z"
   },
   {
    "duration": -2557,
    "start_time": "2021-07-10T10:57:03.604Z"
   },
   {
    "duration": -2565,
    "start_time": "2021-07-10T10:57:03.613Z"
   },
   {
    "duration": -2570,
    "start_time": "2021-07-10T10:57:03.620Z"
   },
   {
    "duration": -2577,
    "start_time": "2021-07-10T10:57:03.628Z"
   },
   {
    "duration": -2582,
    "start_time": "2021-07-10T10:57:03.635Z"
   },
   {
    "duration": -2589,
    "start_time": "2021-07-10T10:57:03.643Z"
   },
   {
    "duration": -2595,
    "start_time": "2021-07-10T10:57:03.651Z"
   },
   {
    "duration": -2602,
    "start_time": "2021-07-10T10:57:03.659Z"
   },
   {
    "duration": -2608,
    "start_time": "2021-07-10T10:57:03.667Z"
   },
   {
    "duration": -2652,
    "start_time": "2021-07-10T10:57:03.712Z"
   },
   {
    "duration": -2699,
    "start_time": "2021-07-10T10:57:03.761Z"
   },
   {
    "duration": -2741,
    "start_time": "2021-07-10T10:57:03.804Z"
   },
   {
    "duration": -2769,
    "start_time": "2021-07-10T10:57:03.833Z"
   },
   {
    "duration": -2778,
    "start_time": "2021-07-10T10:57:03.844Z"
   },
   {
    "duration": -2785,
    "start_time": "2021-07-10T10:57:03.852Z"
   },
   {
    "duration": -2791,
    "start_time": "2021-07-10T10:57:03.860Z"
   },
   {
    "duration": -2798,
    "start_time": "2021-07-10T10:57:03.868Z"
   },
   {
    "duration": -2804,
    "start_time": "2021-07-10T10:57:03.876Z"
   },
   {
    "duration": -2810,
    "start_time": "2021-07-10T10:57:03.883Z"
   },
   {
    "duration": -2817,
    "start_time": "2021-07-10T10:57:03.891Z"
   },
   {
    "duration": -2822,
    "start_time": "2021-07-10T10:57:03.898Z"
   },
   {
    "duration": -2829,
    "start_time": "2021-07-10T10:57:03.906Z"
   },
   {
    "duration": 285,
    "start_time": "2021-07-10T10:57:37.229Z"
   },
   {
    "duration": 9,
    "start_time": "2021-07-10T10:57:45.209Z"
   },
   {
    "duration": 78,
    "start_time": "2021-07-10T10:58:17.133Z"
   },
   {
    "duration": 4,
    "start_time": "2021-07-10T10:59:29.023Z"
   },
   {
    "duration": 8,
    "start_time": "2021-07-10T10:59:31.696Z"
   },
   {
    "duration": 5,
    "start_time": "2021-07-10T10:59:35.084Z"
   },
   {
    "duration": 900,
    "start_time": "2021-07-10T10:59:37.616Z"
   },
   {
    "duration": 4,
    "start_time": "2021-07-10T10:59:41.839Z"
   },
   {
    "duration": 4,
    "start_time": "2021-07-10T10:59:52.397Z"
   },
   {
    "duration": 5,
    "start_time": "2021-07-10T10:59:54.586Z"
   },
   {
    "duration": 90,
    "start_time": "2021-07-10T11:00:07.505Z"
   },
   {
    "duration": 9,
    "start_time": "2021-07-10T11:00:16.045Z"
   },
   {
    "duration": 91,
    "start_time": "2021-07-10T11:00:18.197Z"
   },
   {
    "duration": 86,
    "start_time": "2021-07-10T11:00:26.014Z"
   },
   {
    "duration": 8,
    "start_time": "2021-07-10T11:00:29.806Z"
   },
   {
    "duration": 4,
    "start_time": "2021-07-10T11:00:34.570Z"
   },
   {
    "duration": 4,
    "start_time": "2021-07-10T11:00:37.037Z"
   },
   {
    "duration": 251,
    "start_time": "2021-07-10T11:01:01.195Z"
   },
   {
    "duration": 8,
    "start_time": "2021-07-10T11:01:13.444Z"
   },
   {
    "duration": 4,
    "start_time": "2021-07-10T11:01:17.832Z"
   },
   {
    "duration": 242,
    "start_time": "2021-07-10T11:01:21.357Z"
   },
   {
    "duration": 4,
    "start_time": "2021-07-10T11:01:22.610Z"
   },
   {
    "duration": 7,
    "start_time": "2021-07-10T11:01:38.462Z"
   },
   {
    "duration": 4,
    "start_time": "2021-07-10T11:01:46.098Z"
   },
   {
    "duration": 813,
    "start_time": "2021-07-10T11:01:52.689Z"
   },
   {
    "duration": 15,
    "start_time": "2021-07-10T11:01:53.505Z"
   },
   {
    "duration": 6,
    "start_time": "2021-07-10T11:01:53.523Z"
   },
   {
    "duration": 13,
    "start_time": "2021-07-10T11:01:53.555Z"
   },
   {
    "duration": 38,
    "start_time": "2021-07-10T11:01:53.571Z"
   },
   {
    "duration": 68,
    "start_time": "2021-07-10T11:01:53.612Z"
   },
   {
    "duration": 11,
    "start_time": "2021-07-10T11:01:53.683Z"
   },
   {
    "duration": 4,
    "start_time": "2021-07-10T11:01:53.698Z"
   },
   {
    "duration": 8,
    "start_time": "2021-07-10T11:01:53.705Z"
   },
   {
    "duration": 41,
    "start_time": "2021-07-10T11:01:53.716Z"
   },
   {
    "duration": 47,
    "start_time": "2021-07-10T11:01:53.759Z"
   },
   {
    "duration": 4,
    "start_time": "2021-07-10T11:01:53.809Z"
   },
   {
    "duration": 14,
    "start_time": "2021-07-10T11:01:53.816Z"
   },
   {
    "duration": 20,
    "start_time": "2021-07-10T11:01:53.857Z"
   },
   {
    "duration": 8,
    "start_time": "2021-07-10T11:01:53.879Z"
   },
   {
    "duration": 5,
    "start_time": "2021-07-10T11:01:53.890Z"
   },
   {
    "duration": 16,
    "start_time": "2021-07-10T11:01:53.898Z"
   },
   {
    "duration": 45,
    "start_time": "2021-07-10T11:01:53.916Z"
   },
   {
    "duration": 25,
    "start_time": "2021-07-10T11:01:53.964Z"
   },
   {
    "duration": 21,
    "start_time": "2021-07-10T11:01:53.992Z"
   },
   {
    "duration": 3,
    "start_time": "2021-07-10T11:01:54.015Z"
   },
   {
    "duration": 38,
    "start_time": "2021-07-10T11:01:54.021Z"
   },
   {
    "duration": 5,
    "start_time": "2021-07-10T11:01:54.065Z"
   },
   {
    "duration": 10,
    "start_time": "2021-07-10T11:01:54.074Z"
   },
   {
    "duration": 35,
    "start_time": "2021-07-10T11:01:54.086Z"
   },
   {
    "duration": 40,
    "start_time": "2021-07-10T11:01:54.123Z"
   },
   {
    "duration": 7,
    "start_time": "2021-07-10T11:01:54.165Z"
   },
   {
    "duration": 9,
    "start_time": "2021-07-10T11:01:54.174Z"
   },
   {
    "duration": 11,
    "start_time": "2021-07-10T11:01:54.186Z"
   },
   {
    "duration": 93,
    "start_time": "2021-07-10T11:01:54.200Z"
   },
   {
    "duration": 5,
    "start_time": "2021-07-10T11:01:54.295Z"
   },
   {
    "duration": 10,
    "start_time": "2021-07-10T11:01:54.303Z"
   },
   {
    "duration": 60,
    "start_time": "2021-07-10T11:01:54.315Z"
   },
   {
    "duration": 4,
    "start_time": "2021-07-10T11:01:54.377Z"
   },
   {
    "duration": 16,
    "start_time": "2021-07-10T11:01:54.383Z"
   },
   {
    "duration": 8,
    "start_time": "2021-07-10T11:01:54.401Z"
   },
   {
    "duration": 46,
    "start_time": "2021-07-10T11:01:54.411Z"
   },
   {
    "duration": 11,
    "start_time": "2021-07-10T11:01:54.459Z"
   },
   {
    "duration": 10,
    "start_time": "2021-07-10T11:01:54.472Z"
   },
   {
    "duration": 20,
    "start_time": "2021-07-10T11:01:54.485Z"
   },
   {
    "duration": 9,
    "start_time": "2021-07-10T11:01:54.508Z"
   },
   {
    "duration": 5,
    "start_time": "2021-07-10T11:01:54.557Z"
   },
   {
    "duration": 18,
    "start_time": "2021-07-10T11:01:54.564Z"
   },
   {
    "duration": 18,
    "start_time": "2021-07-10T11:01:54.584Z"
   },
   {
    "duration": 9,
    "start_time": "2021-07-10T11:01:54.604Z"
   },
   {
    "duration": 40,
    "start_time": "2021-07-10T11:01:54.615Z"
   },
   {
    "duration": 18,
    "start_time": "2021-07-10T11:01:54.657Z"
   },
   {
    "duration": 18,
    "start_time": "2021-07-10T11:01:54.677Z"
   },
   {
    "duration": 10,
    "start_time": "2021-07-10T11:01:54.697Z"
   },
   {
    "duration": 17,
    "start_time": "2021-07-10T11:01:54.709Z"
   },
   {
    "duration": 39,
    "start_time": "2021-07-10T11:01:54.729Z"
   },
   {
    "duration": 14,
    "start_time": "2021-07-10T11:01:54.770Z"
   },
   {
    "duration": 14,
    "start_time": "2021-07-10T11:01:54.786Z"
   },
   {
    "duration": 9,
    "start_time": "2021-07-10T11:01:54.802Z"
   },
   {
    "duration": 7,
    "start_time": "2021-07-10T11:01:54.813Z"
   },
   {
    "duration": 38,
    "start_time": "2021-07-10T11:01:54.822Z"
   },
   {
    "duration": 7,
    "start_time": "2021-07-10T11:01:54.863Z"
   },
   {
    "duration": 356,
    "start_time": "2021-07-10T11:01:54.872Z"
   },
   {
    "duration": -1632,
    "start_time": "2021-07-10T11:01:56.864Z"
   },
   {
    "duration": -1639,
    "start_time": "2021-07-10T11:01:56.872Z"
   },
   {
    "duration": -1645,
    "start_time": "2021-07-10T11:01:56.880Z"
   },
   {
    "duration": -1653,
    "start_time": "2021-07-10T11:01:56.889Z"
   },
   {
    "duration": -1658,
    "start_time": "2021-07-10T11:01:56.896Z"
   },
   {
    "duration": -1665,
    "start_time": "2021-07-10T11:01:56.904Z"
   },
   {
    "duration": -1671,
    "start_time": "2021-07-10T11:01:56.912Z"
   },
   {
    "duration": -1678,
    "start_time": "2021-07-10T11:01:56.920Z"
   },
   {
    "duration": -1697,
    "start_time": "2021-07-10T11:01:56.941Z"
   },
   {
    "duration": -1733,
    "start_time": "2021-07-10T11:01:56.978Z"
   },
   {
    "duration": -1744,
    "start_time": "2021-07-10T11:01:56.990Z"
   },
   {
    "duration": -1752,
    "start_time": "2021-07-10T11:01:57.000Z"
   },
   {
    "duration": -1785,
    "start_time": "2021-07-10T11:01:57.034Z"
   },
   {
    "duration": -1823,
    "start_time": "2021-07-10T11:01:57.073Z"
   },
   {
    "duration": -1847,
    "start_time": "2021-07-10T11:01:57.099Z"
   },
   {
    "duration": -1872,
    "start_time": "2021-07-10T11:01:57.125Z"
   },
   {
    "duration": -1882,
    "start_time": "2021-07-10T11:01:57.136Z"
   },
   {
    "duration": -1892,
    "start_time": "2021-07-10T11:01:57.148Z"
   },
   {
    "duration": -1900,
    "start_time": "2021-07-10T11:01:57.157Z"
   },
   {
    "duration": -1909,
    "start_time": "2021-07-10T11:01:57.167Z"
   },
   {
    "duration": -1915,
    "start_time": "2021-07-10T11:01:57.177Z"
   },
   {
    "duration": -1924,
    "start_time": "2021-07-10T11:01:57.187Z"
   },
   {
    "duration": -1938,
    "start_time": "2021-07-10T11:01:57.203Z"
   },
   {
    "duration": -1945,
    "start_time": "2021-07-10T11:01:57.211Z"
   },
   {
    "duration": -1962,
    "start_time": "2021-07-10T11:01:57.230Z"
   },
   {
    "duration": -1971,
    "start_time": "2021-07-10T11:01:57.240Z"
   },
   {
    "duration": -1977,
    "start_time": "2021-07-10T11:01:57.247Z"
   },
   {
    "duration": -1983,
    "start_time": "2021-07-10T11:01:57.255Z"
   },
   {
    "duration": -1990,
    "start_time": "2021-07-10T11:01:57.263Z"
   },
   {
    "duration": -1996,
    "start_time": "2021-07-10T11:01:57.271Z"
   },
   {
    "duration": -2003,
    "start_time": "2021-07-10T11:01:57.279Z"
   },
   {
    "duration": -2009,
    "start_time": "2021-07-10T11:01:57.287Z"
   },
   {
    "duration": -2016,
    "start_time": "2021-07-10T11:01:57.295Z"
   },
   {
    "duration": -2022,
    "start_time": "2021-07-10T11:01:57.302Z"
   },
   {
    "duration": -2028,
    "start_time": "2021-07-10T11:01:57.310Z"
   },
   {
    "duration": -2035,
    "start_time": "2021-07-10T11:01:57.318Z"
   },
   {
    "duration": 6318,
    "start_time": "2021-07-10T11:03:14.456Z"
   },
   {
    "duration": 9122,
    "start_time": "2021-07-10T11:03:21.550Z"
   },
   {
    "duration": 79,
    "start_time": "2021-07-10T12:33:26.101Z"
   },
   {
    "duration": 21,
    "start_time": "2021-07-10T12:33:29.275Z"
   },
   {
    "duration": 6,
    "start_time": "2021-07-10T12:33:32.300Z"
   },
   {
    "duration": 14,
    "start_time": "2021-07-10T12:33:34.221Z"
   },
   {
    "duration": 39,
    "start_time": "2021-07-10T12:33:37.598Z"
   },
   {
    "duration": 34,
    "start_time": "2021-07-10T12:33:40.134Z"
   },
   {
    "duration": 9,
    "start_time": "2021-07-10T12:33:42.800Z"
   },
   {
    "duration": 5,
    "start_time": "2021-07-10T12:33:45.301Z"
   },
   {
    "duration": 7,
    "start_time": "2021-07-10T12:33:47.796Z"
   },
   {
    "duration": 46,
    "start_time": "2021-07-10T12:33:50.185Z"
   },
   {
    "duration": 5,
    "start_time": "2021-07-10T12:33:53.520Z"
   },
   {
    "duration": 12,
    "start_time": "2021-07-10T12:33:55.599Z"
   },
   {
    "duration": 22,
    "start_time": "2021-07-10T12:33:57.491Z"
   },
   {
    "duration": 9,
    "start_time": "2021-07-10T12:34:00.374Z"
   },
   {
    "duration": 5,
    "start_time": "2021-07-10T12:34:02.540Z"
   },
   {
    "duration": 19,
    "start_time": "2021-07-10T12:34:06.077Z"
   },
   {
    "duration": 17,
    "start_time": "2021-07-10T12:34:08.921Z"
   },
   {
    "duration": 12,
    "start_time": "2021-07-10T12:34:10.999Z"
   },
   {
    "duration": 9,
    "start_time": "2021-07-10T12:34:14.139Z"
   },
   {
    "duration": 9,
    "start_time": "2021-07-10T12:34:20.096Z"
   },
   {
    "duration": 5,
    "start_time": "2021-07-10T12:34:26.555Z"
   },
   {
    "duration": 18,
    "start_time": "2021-07-10T12:34:35.853Z"
   },
   {
    "duration": 7,
    "start_time": "2021-07-10T12:34:38.236Z"
   },
   {
    "duration": 6,
    "start_time": "2021-07-10T12:34:47.536Z"
   },
   {
    "duration": 36,
    "start_time": "2021-07-10T12:34:50.383Z"
   },
   {
    "duration": 13,
    "start_time": "2021-07-10T12:34:53.802Z"
   },
   {
    "duration": 8,
    "start_time": "2021-07-10T12:34:57.770Z"
   },
   {
    "duration": 8,
    "start_time": "2021-07-10T12:35:01.281Z"
   },
   {
    "duration": 12,
    "start_time": "2021-07-10T12:35:03.334Z"
   },
   {
    "duration": 15,
    "start_time": "2021-07-10T12:35:07.081Z"
   },
   {
    "duration": 6,
    "start_time": "2021-07-10T12:35:09.549Z"
   },
   {
    "duration": 10,
    "start_time": "2021-07-10T12:35:13.404Z"
   },
   {
    "duration": 36,
    "start_time": "2021-07-10T12:35:16.789Z"
   },
   {
    "duration": 4,
    "start_time": "2021-07-10T12:35:20.179Z"
   },
   {
    "duration": 9,
    "start_time": "2021-07-10T12:35:21.898Z"
   },
   {
    "duration": 7,
    "start_time": "2021-07-10T12:35:24.086Z"
   },
   {
    "duration": 20,
    "start_time": "2021-07-10T12:35:26.406Z"
   },
   {
    "duration": 11,
    "start_time": "2021-07-10T12:35:32.743Z"
   },
   {
    "duration": 14,
    "start_time": "2021-07-10T12:35:35.019Z"
   },
   {
    "duration": 9,
    "start_time": "2021-07-10T12:35:37.557Z"
   },
   {
    "duration": 25,
    "start_time": "2021-07-10T12:35:52.970Z"
   },
   {
    "duration": 55,
    "start_time": "2021-07-10T12:36:10.526Z"
   },
   {
    "duration": 7,
    "start_time": "2021-07-10T12:36:13.836Z"
   },
   {
    "duration": 11,
    "start_time": "2021-07-10T12:36:24.967Z"
   },
   {
    "duration": 7,
    "start_time": "2021-07-10T12:36:28.566Z"
   },
   {
    "duration": 6,
    "start_time": "2021-07-10T12:36:31.924Z"
   },
   {
    "duration": 15,
    "start_time": "2021-07-10T12:36:34.881Z"
   },
   {
    "duration": 10,
    "start_time": "2021-07-10T12:36:36.840Z"
   },
   {
    "duration": 9,
    "start_time": "2021-07-10T12:36:39.142Z"
   },
   {
    "duration": 11,
    "start_time": "2021-07-10T12:36:43.787Z"
   },
   {
    "duration": 11,
    "start_time": "2021-07-10T12:37:11.134Z"
   },
   {
    "duration": 11,
    "start_time": "2021-07-10T12:37:13.501Z"
   },
   {
    "duration": 11,
    "start_time": "2021-07-10T12:37:15.879Z"
   },
   {
    "duration": 18,
    "start_time": "2021-07-10T12:37:23.510Z"
   },
   {
    "duration": 18,
    "start_time": "2021-07-10T12:37:25.995Z"
   },
   {
    "duration": 12,
    "start_time": "2021-07-10T12:37:31.748Z"
   },
   {
    "duration": 7,
    "start_time": "2021-07-10T12:37:40.290Z"
   },
   {
    "duration": 7,
    "start_time": "2021-07-10T12:37:42.436Z"
   },
   {
    "duration": 9,
    "start_time": "2021-07-10T12:37:46.991Z"
   },
   {
    "duration": 6,
    "start_time": "2021-07-10T12:37:48.921Z"
   },
   {
    "duration": 8033,
    "start_time": "2021-07-10T12:37:52.492Z"
   },
   {
    "duration": 10,
    "start_time": "2021-07-10T12:38:22.388Z"
   },
   {
    "duration": 298,
    "start_time": "2021-07-10T12:38:49.962Z"
   },
   {
    "duration": 39,
    "start_time": "2021-07-10T12:39:52.216Z"
   },
   {
    "duration": 50,
    "start_time": "2021-07-10T12:40:27.149Z"
   },
   {
    "duration": 38,
    "start_time": "2021-07-10T12:40:55.662Z"
   },
   {
    "duration": 51,
    "start_time": "2021-07-10T12:41:19.264Z"
   },
   {
    "duration": 356,
    "start_time": "2021-07-10T12:42:32.798Z"
   },
   {
    "duration": 32,
    "start_time": "2021-07-10T12:44:00.442Z"
   },
   {
    "duration": 10,
    "start_time": "2021-07-10T12:44:05.159Z"
   },
   {
    "duration": 37,
    "start_time": "2021-07-10T12:44:47.629Z"
   },
   {
    "duration": 7669,
    "start_time": "2021-07-10T12:44:52.044Z"
   },
   {
    "duration": 31,
    "start_time": "2021-07-10T12:45:05.525Z"
   },
   {
    "duration": 26,
    "start_time": "2021-07-10T12:45:12.776Z"
   },
   {
    "duration": 10,
    "start_time": "2021-07-10T12:45:25.661Z"
   },
   {
    "duration": 8,
    "start_time": "2021-07-10T12:45:28.016Z"
   },
   {
    "duration": 6,
    "start_time": "2021-07-10T12:45:31.599Z"
   },
   {
    "duration": 1020,
    "start_time": "2021-07-10T12:45:37.565Z"
   },
   {
    "duration": 5,
    "start_time": "2021-07-10T12:46:24.389Z"
   },
   {
    "duration": 5,
    "start_time": "2021-07-10T12:46:37.817Z"
   },
   {
    "duration": 7,
    "start_time": "2021-07-10T12:48:26.761Z"
   },
   {
    "duration": 4,
    "start_time": "2021-07-10T12:48:30.647Z"
   },
   {
    "duration": 4,
    "start_time": "2021-07-10T12:48:38.801Z"
   },
   {
    "duration": 4,
    "start_time": "2021-07-10T12:48:40.859Z"
   },
   {
    "duration": 21,
    "start_time": "2021-07-10T12:49:41.240Z"
   },
   {
    "duration": 30,
    "start_time": "2021-07-10T12:49:43.795Z"
   },
   {
    "duration": 27,
    "start_time": "2021-07-10T12:49:49.104Z"
   },
   {
    "duration": 7,
    "start_time": "2021-07-10T12:49:53.388Z"
   },
   {
    "duration": 46,
    "start_time": "2021-07-10T12:49:55.587Z"
   },
   {
    "duration": 38,
    "start_time": "2021-07-10T12:49:58.645Z"
   },
   {
    "duration": 39,
    "start_time": "2021-07-10T12:50:00.998Z"
   },
   {
    "duration": 15,
    "start_time": "2021-07-10T12:50:03.636Z"
   },
   {
    "duration": 48,
    "start_time": "2021-07-10T12:50:05.895Z"
   },
   {
    "duration": 13,
    "start_time": "2021-07-10T12:50:09.550Z"
   },
   {
    "duration": 10,
    "start_time": "2021-07-10T12:53:20.862Z"
   },
   {
    "duration": 12,
    "start_time": "2021-07-10T12:53:25.727Z"
   },
   {
    "duration": 5,
    "start_time": "2021-07-10T12:55:21.049Z"
   },
   {
    "duration": 15,
    "start_time": "2021-07-10T12:55:23.508Z"
   },
   {
    "duration": 46,
    "start_time": "2021-07-10T12:55:25.269Z"
   },
   {
    "duration": 13,
    "start_time": "2021-07-10T12:58:10.767Z"
   },
   {
    "duration": 37,
    "start_time": "2021-07-10T12:58:12.720Z"
   },
   {
    "duration": 20,
    "start_time": "2021-07-10T12:58:17.303Z"
   },
   {
    "duration": 17,
    "start_time": "2021-07-10T12:58:22.952Z"
   },
   {
    "duration": 3,
    "start_time": "2021-07-10T12:58:56.742Z"
   },
   {
    "duration": 8,
    "start_time": "2021-07-10T12:58:59.219Z"
   },
   {
    "duration": 11,
    "start_time": "2021-07-10T12:59:01.587Z"
   },
   {
    "duration": 18,
    "start_time": "2021-07-10T12:59:03.857Z"
   },
   {
    "duration": 9,
    "start_time": "2021-07-10T12:59:06.778Z"
   },
   {
    "duration": 16,
    "start_time": "2021-07-10T12:59:09.287Z"
   },
   {
    "duration": 30,
    "start_time": "2021-07-10T12:59:11.271Z"
   },
   {
    "duration": 7,
    "start_time": "2021-07-10T12:59:15.494Z"
   },
   {
    "duration": 8,
    "start_time": "2021-07-10T12:59:18.674Z"
   },
   {
    "duration": 25,
    "start_time": "2021-07-10T12:59:21.517Z"
   },
   {
    "duration": 11,
    "start_time": "2021-07-10T12:59:24.465Z"
   },
   {
    "duration": 10,
    "start_time": "2021-07-10T13:00:24.091Z"
   },
   {
    "duration": 27,
    "start_time": "2021-07-10T13:00:26.396Z"
   },
   {
    "duration": 11,
    "start_time": "2021-07-10T13:00:29.320Z"
   },
   {
    "duration": 26,
    "start_time": "2021-07-10T13:00:33.865Z"
   },
   {
    "duration": 11,
    "start_time": "2021-07-10T13:00:35.991Z"
   }
  ],
  "kernelspec": {
   "display_name": "Python 3",
   "language": "python",
   "name": "python3"
  },
  "language_info": {
   "codemirror_mode": {
    "name": "ipython",
    "version": 3
   },
   "file_extension": ".py",
   "mimetype": "text/x-python",
   "name": "python",
   "nbconvert_exporter": "python",
   "pygments_lexer": "ipython3",
   "version": "3.8.10"
  },
  "toc": {
   "base_numbering": 1,
   "nav_menu": {},
   "number_sections": true,
   "sideBar": true,
   "skip_h1_title": true,
   "title_cell": "Table of Contents",
   "title_sidebar": "Contents",
   "toc_cell": false,
   "toc_position": {},
   "toc_section_display": true,
   "toc_window_display": false
  }
 },
 "nbformat": 4,
 "nbformat_minor": 2
}
