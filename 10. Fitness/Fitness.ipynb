{
 "cells": [
  {
   "cell_type": "markdown",
   "metadata": {},
   "source": [
    "# Анализ данных фитнес-центров"
   ]
  },
  {
   "cell_type": "markdown",
   "metadata": {},
   "source": [
    "# Описание проекта"
   ]
  },
  {
   "cell_type": "markdown",
   "metadata": {},
   "source": [
    "Сеть фитнес-центров «Культурист-датасаентист» разрабатывает стратегию взаимодействия с клиентами на основе аналитических данных. <br>\n",
    "Чтобы бороться с оттоком, отдел по работе с клиентами «Культуриста-датасаентиста» перевёл в электронный вид множество клиентских анкет. Задача заключается в проведении анализ и подготке плана действий по удержанию клиентов."
   ]
  },
  {
   "cell_type": "markdown",
   "metadata": {},
   "source": [
    "## Загрузка данных "
   ]
  },
  {
   "cell_type": "code",
   "execution_count": 1,
   "metadata": {},
   "outputs": [],
   "source": [
    "import pandas as pd\n",
    "import seaborn as sns\n",
    "\n",
    "import matplotlib.pyplot as plt\n",
    "import numpy as np\n",
    "\n",
    "from sklearn.model_selection import train_test_split\n",
    "from sklearn.linear_model import LogisticRegression\n",
    "from sklearn.preprocessing import StandardScaler\n",
    "from sklearn.metrics import accuracy_score, precision_score, recall_score, f1_score\n",
    "from scipy.cluster.hierarchy import dendrogram, linkage\n",
    "from sklearn.ensemble import RandomForestClassifier\n",
    "from sklearn.cluster import KMeans"
   ]
  },
  {
   "cell_type": "code",
   "execution_count": 2,
   "metadata": {},
   "outputs": [],
   "source": [
    "df = pd.read_csv('/datasets/gym_churn.csv')"
   ]
  },
  {
   "cell_type": "markdown",
   "metadata": {},
   "source": [
    "«Культурист-датасаентист» предоставил сведения в csv-файлах. Заказчик подготовил данные, которые содержат данные на месяц до оттока и факт оттока на определённый месяц."
   ]
  },
  {
   "cell_type": "code",
   "execution_count": 3,
   "metadata": {},
   "outputs": [
    {
     "data": {
      "text/html": [
       "<div>\n",
       "<style scoped>\n",
       "    .dataframe tbody tr th:only-of-type {\n",
       "        vertical-align: middle;\n",
       "    }\n",
       "\n",
       "    .dataframe tbody tr th {\n",
       "        vertical-align: top;\n",
       "    }\n",
       "\n",
       "    .dataframe thead th {\n",
       "        text-align: right;\n",
       "    }\n",
       "</style>\n",
       "<table border=\"1\" class=\"dataframe\">\n",
       "  <thead>\n",
       "    <tr style=\"text-align: right;\">\n",
       "      <th></th>\n",
       "      <th>gender</th>\n",
       "      <th>Near_Location</th>\n",
       "      <th>Partner</th>\n",
       "      <th>Promo_friends</th>\n",
       "      <th>Phone</th>\n",
       "      <th>Contract_period</th>\n",
       "      <th>Group_visits</th>\n",
       "      <th>Age</th>\n",
       "      <th>Avg_additional_charges_total</th>\n",
       "      <th>Month_to_end_contract</th>\n",
       "      <th>Lifetime</th>\n",
       "      <th>Avg_class_frequency_total</th>\n",
       "      <th>Avg_class_frequency_current_month</th>\n",
       "      <th>Churn</th>\n",
       "    </tr>\n",
       "  </thead>\n",
       "  <tbody>\n",
       "    <tr>\n",
       "      <td>0</td>\n",
       "      <td>1</td>\n",
       "      <td>1</td>\n",
       "      <td>1</td>\n",
       "      <td>1</td>\n",
       "      <td>0</td>\n",
       "      <td>6</td>\n",
       "      <td>1</td>\n",
       "      <td>29</td>\n",
       "      <td>14.227470</td>\n",
       "      <td>5.0</td>\n",
       "      <td>3</td>\n",
       "      <td>0.020398</td>\n",
       "      <td>0.000000</td>\n",
       "      <td>0</td>\n",
       "    </tr>\n",
       "    <tr>\n",
       "      <td>1</td>\n",
       "      <td>0</td>\n",
       "      <td>1</td>\n",
       "      <td>0</td>\n",
       "      <td>0</td>\n",
       "      <td>1</td>\n",
       "      <td>12</td>\n",
       "      <td>1</td>\n",
       "      <td>31</td>\n",
       "      <td>113.202938</td>\n",
       "      <td>12.0</td>\n",
       "      <td>7</td>\n",
       "      <td>1.922936</td>\n",
       "      <td>1.910244</td>\n",
       "      <td>0</td>\n",
       "    </tr>\n",
       "    <tr>\n",
       "      <td>2</td>\n",
       "      <td>0</td>\n",
       "      <td>1</td>\n",
       "      <td>1</td>\n",
       "      <td>0</td>\n",
       "      <td>1</td>\n",
       "      <td>1</td>\n",
       "      <td>0</td>\n",
       "      <td>28</td>\n",
       "      <td>129.448479</td>\n",
       "      <td>1.0</td>\n",
       "      <td>2</td>\n",
       "      <td>1.859098</td>\n",
       "      <td>1.736502</td>\n",
       "      <td>0</td>\n",
       "    </tr>\n",
       "    <tr>\n",
       "      <td>3</td>\n",
       "      <td>0</td>\n",
       "      <td>1</td>\n",
       "      <td>1</td>\n",
       "      <td>1</td>\n",
       "      <td>1</td>\n",
       "      <td>12</td>\n",
       "      <td>1</td>\n",
       "      <td>33</td>\n",
       "      <td>62.669863</td>\n",
       "      <td>12.0</td>\n",
       "      <td>2</td>\n",
       "      <td>3.205633</td>\n",
       "      <td>3.357215</td>\n",
       "      <td>0</td>\n",
       "    </tr>\n",
       "    <tr>\n",
       "      <td>4</td>\n",
       "      <td>1</td>\n",
       "      <td>1</td>\n",
       "      <td>1</td>\n",
       "      <td>1</td>\n",
       "      <td>1</td>\n",
       "      <td>1</td>\n",
       "      <td>0</td>\n",
       "      <td>26</td>\n",
       "      <td>198.362265</td>\n",
       "      <td>1.0</td>\n",
       "      <td>3</td>\n",
       "      <td>1.113884</td>\n",
       "      <td>1.120078</td>\n",
       "      <td>0</td>\n",
       "    </tr>\n",
       "  </tbody>\n",
       "</table>\n",
       "</div>"
      ],
      "text/plain": [
       "   gender  Near_Location  Partner  Promo_friends  Phone  Contract_period  \\\n",
       "0       1              1        1              1      0                6   \n",
       "1       0              1        0              0      1               12   \n",
       "2       0              1        1              0      1                1   \n",
       "3       0              1        1              1      1               12   \n",
       "4       1              1        1              1      1                1   \n",
       "\n",
       "   Group_visits  Age  Avg_additional_charges_total  Month_to_end_contract  \\\n",
       "0             1   29                     14.227470                    5.0   \n",
       "1             1   31                    113.202938                   12.0   \n",
       "2             0   28                    129.448479                    1.0   \n",
       "3             1   33                     62.669863                   12.0   \n",
       "4             0   26                    198.362265                    1.0   \n",
       "\n",
       "   Lifetime  Avg_class_frequency_total  Avg_class_frequency_current_month  \\\n",
       "0         3                   0.020398                           0.000000   \n",
       "1         7                   1.922936                           1.910244   \n",
       "2         2                   1.859098                           1.736502   \n",
       "3         2                   3.205633                           3.357215   \n",
       "4         3                   1.113884                           1.120078   \n",
       "\n",
       "   Churn  \n",
       "0      0  \n",
       "1      0  \n",
       "2      0  \n",
       "3      0  \n",
       "4      0  "
      ]
     },
     "execution_count": 3,
     "metadata": {},
     "output_type": "execute_result"
    }
   ],
   "source": [
    "df.head()"
   ]
  },
  {
   "cell_type": "markdown",
   "metadata": {},
   "source": [
    "Набор данных включает следующие поля:\n",
    "- 'Churn' — факт оттока в текущем месяце;\n",
    "\n",
    "Текущие поля в датасете: <br>\n",
    "Данные клиента за предыдущий до проверки факта оттока месяц:\n",
    "- 'gender' — пол;\n",
    "- 'Near_Location' — проживание или работа в районе, где находится фитнес-центр;\n",
    "- 'Partner' — сотрудник компании-партнёра клуба (сотрудничество с компаниями, чьи сотрудники могут получать скидки на абонемент — в таком случае фитнес-центр хранит информацию о работодателе клиента);\n",
    "- Promo_friends — факт первоначальной записи в рамках акции «приведи друга» (использовал промо-код от знакомого при оплате первого абонемента);\n",
    "- 'Phone' — наличие контактного телефона;\n",
    "- 'Age' — возраст;\n",
    "- 'Lifetime' — время с момента первого обращения в фитнес-центр (в месяцах).\n",
    "\n",
    "Информация на основе журнала посещений, покупок и информация о текущем статусе абонемента клиента:\n",
    "- 'Contract_period' — длительность текущего действующего абонемента (месяц, 3 месяца, 6 месяцев, год);\n",
    "- 'Month_to_end_contract' — срок до окончания текущего действующего абонемента (в месяцах);\n",
    "- 'Group_visits' — факт посещения групповых занятий;\n",
    "- 'Avg_class_frequency_total' — средняя частота посещений в неделю за все время с начала действия абонемента;\n",
    "- 'Avg_class_frequency_current_month' — средняя частота посещений в неделю за предыдущий месяц;\n",
    "- 'Avg_additional_charges_total' — суммарная выручка от других услуг фитнес-центра: кафе, спорт-товары, косметический и массажный салон."
   ]
  },
  {
   "cell_type": "code",
   "execution_count": 4,
   "metadata": {},
   "outputs": [
    {
     "name": "stdout",
     "output_type": "stream",
     "text": [
      "<class 'pandas.core.frame.DataFrame'>\n",
      "RangeIndex: 4000 entries, 0 to 3999\n",
      "Data columns (total 14 columns):\n",
      "gender                               4000 non-null int64\n",
      "Near_Location                        4000 non-null int64\n",
      "Partner                              4000 non-null int64\n",
      "Promo_friends                        4000 non-null int64\n",
      "Phone                                4000 non-null int64\n",
      "Contract_period                      4000 non-null int64\n",
      "Group_visits                         4000 non-null int64\n",
      "Age                                  4000 non-null int64\n",
      "Avg_additional_charges_total         4000 non-null float64\n",
      "Month_to_end_contract                4000 non-null float64\n",
      "Lifetime                             4000 non-null int64\n",
      "Avg_class_frequency_total            4000 non-null float64\n",
      "Avg_class_frequency_current_month    4000 non-null float64\n",
      "Churn                                4000 non-null int64\n",
      "dtypes: float64(4), int64(10)\n",
      "memory usage: 437.6 KB\n"
     ]
    }
   ],
   "source": [
    "df.info()"
   ]
  },
  {
   "cell_type": "markdown",
   "metadata": {},
   "source": [
    "Для удобства приведем все названия колонок к единому формату:"
   ]
  },
  {
   "cell_type": "code",
   "execution_count": 5,
   "metadata": {},
   "outputs": [],
   "source": [
    "df.columns = df.columns.str.lower()"
   ]
  },
  {
   "cell_type": "code",
   "execution_count": 6,
   "metadata": {},
   "outputs": [
    {
     "data": {
      "text/plain": [
       "gender                               0\n",
       "near_location                        0\n",
       "partner                              0\n",
       "promo_friends                        0\n",
       "phone                                0\n",
       "contract_period                      0\n",
       "group_visits                         0\n",
       "age                                  0\n",
       "avg_additional_charges_total         0\n",
       "month_to_end_contract                0\n",
       "lifetime                             0\n",
       "avg_class_frequency_total            0\n",
       "avg_class_frequency_current_month    0\n",
       "churn                                0\n",
       "dtype: int64"
      ]
     },
     "execution_count": 6,
     "metadata": {},
     "output_type": "execute_result"
    }
   ],
   "source": [
    "df.isna().sum()"
   ]
  },
  {
   "cell_type": "markdown",
   "metadata": {},
   "source": [
    "Пропущенных строк в датафрейме нет. "
   ]
  },
  {
   "cell_type": "code",
   "execution_count": 7,
   "metadata": {},
   "outputs": [
    {
     "data": {
      "text/plain": [
       "0"
      ]
     },
     "execution_count": 7,
     "metadata": {},
     "output_type": "execute_result"
    }
   ],
   "source": [
    "df.duplicated().sum()"
   ]
  },
  {
   "cell_type": "markdown",
   "metadata": {},
   "source": [
    "Дубликатов не обнаружено."
   ]
  },
  {
   "cell_type": "markdown",
   "metadata": {},
   "source": [
    "### Вывод"
   ]
  },
  {
   "cell_type": "markdown",
   "metadata": {},
   "source": [
    "Подготовили данные для дальнейшего анализа. \n",
    "Дубликатов, пропущенных значений обнаружено не было. "
   ]
  },
  {
   "cell_type": "markdown",
   "metadata": {},
   "source": [
    "## Исследовательский анализ данных (EDA)"
   ]
  },
  {
   "cell_type": "markdown",
   "metadata": {},
   "source": [
    "Посмотрим на датасет: есть ли в нем отсутствующие признаки, изучим средние значения и стандартные отклонения:"
   ]
  },
  {
   "cell_type": "code",
   "execution_count": 8,
   "metadata": {},
   "outputs": [
    {
     "data": {
      "text/html": [
       "<div>\n",
       "<style scoped>\n",
       "    .dataframe tbody tr th:only-of-type {\n",
       "        vertical-align: middle;\n",
       "    }\n",
       "\n",
       "    .dataframe tbody tr th {\n",
       "        vertical-align: top;\n",
       "    }\n",
       "\n",
       "    .dataframe thead th {\n",
       "        text-align: right;\n",
       "    }\n",
       "</style>\n",
       "<table border=\"1\" class=\"dataframe\">\n",
       "  <thead>\n",
       "    <tr style=\"text-align: right;\">\n",
       "      <th></th>\n",
       "      <th>count</th>\n",
       "      <th>mean</th>\n",
       "      <th>std</th>\n",
       "      <th>min</th>\n",
       "      <th>25%</th>\n",
       "      <th>50%</th>\n",
       "      <th>75%</th>\n",
       "      <th>max</th>\n",
       "    </tr>\n",
       "  </thead>\n",
       "  <tbody>\n",
       "    <tr>\n",
       "      <td>gender</td>\n",
       "      <td>4000.0</td>\n",
       "      <td>0.510250</td>\n",
       "      <td>0.499957</td>\n",
       "      <td>0.000000</td>\n",
       "      <td>0.000000</td>\n",
       "      <td>1.000000</td>\n",
       "      <td>1.000000</td>\n",
       "      <td>1.000000</td>\n",
       "    </tr>\n",
       "    <tr>\n",
       "      <td>near_location</td>\n",
       "      <td>4000.0</td>\n",
       "      <td>0.845250</td>\n",
       "      <td>0.361711</td>\n",
       "      <td>0.000000</td>\n",
       "      <td>1.000000</td>\n",
       "      <td>1.000000</td>\n",
       "      <td>1.000000</td>\n",
       "      <td>1.000000</td>\n",
       "    </tr>\n",
       "    <tr>\n",
       "      <td>partner</td>\n",
       "      <td>4000.0</td>\n",
       "      <td>0.486750</td>\n",
       "      <td>0.499887</td>\n",
       "      <td>0.000000</td>\n",
       "      <td>0.000000</td>\n",
       "      <td>0.000000</td>\n",
       "      <td>1.000000</td>\n",
       "      <td>1.000000</td>\n",
       "    </tr>\n",
       "    <tr>\n",
       "      <td>promo_friends</td>\n",
       "      <td>4000.0</td>\n",
       "      <td>0.308500</td>\n",
       "      <td>0.461932</td>\n",
       "      <td>0.000000</td>\n",
       "      <td>0.000000</td>\n",
       "      <td>0.000000</td>\n",
       "      <td>1.000000</td>\n",
       "      <td>1.000000</td>\n",
       "    </tr>\n",
       "    <tr>\n",
       "      <td>phone</td>\n",
       "      <td>4000.0</td>\n",
       "      <td>0.903500</td>\n",
       "      <td>0.295313</td>\n",
       "      <td>0.000000</td>\n",
       "      <td>1.000000</td>\n",
       "      <td>1.000000</td>\n",
       "      <td>1.000000</td>\n",
       "      <td>1.000000</td>\n",
       "    </tr>\n",
       "    <tr>\n",
       "      <td>contract_period</td>\n",
       "      <td>4000.0</td>\n",
       "      <td>4.681250</td>\n",
       "      <td>4.549706</td>\n",
       "      <td>1.000000</td>\n",
       "      <td>1.000000</td>\n",
       "      <td>1.000000</td>\n",
       "      <td>6.000000</td>\n",
       "      <td>12.000000</td>\n",
       "    </tr>\n",
       "    <tr>\n",
       "      <td>group_visits</td>\n",
       "      <td>4000.0</td>\n",
       "      <td>0.412250</td>\n",
       "      <td>0.492301</td>\n",
       "      <td>0.000000</td>\n",
       "      <td>0.000000</td>\n",
       "      <td>0.000000</td>\n",
       "      <td>1.000000</td>\n",
       "      <td>1.000000</td>\n",
       "    </tr>\n",
       "    <tr>\n",
       "      <td>age</td>\n",
       "      <td>4000.0</td>\n",
       "      <td>29.184250</td>\n",
       "      <td>3.258367</td>\n",
       "      <td>18.000000</td>\n",
       "      <td>27.000000</td>\n",
       "      <td>29.000000</td>\n",
       "      <td>31.000000</td>\n",
       "      <td>41.000000</td>\n",
       "    </tr>\n",
       "    <tr>\n",
       "      <td>avg_additional_charges_total</td>\n",
       "      <td>4000.0</td>\n",
       "      <td>146.943728</td>\n",
       "      <td>96.355602</td>\n",
       "      <td>0.148205</td>\n",
       "      <td>68.868830</td>\n",
       "      <td>136.220159</td>\n",
       "      <td>210.949625</td>\n",
       "      <td>552.590740</td>\n",
       "    </tr>\n",
       "    <tr>\n",
       "      <td>month_to_end_contract</td>\n",
       "      <td>4000.0</td>\n",
       "      <td>4.322750</td>\n",
       "      <td>4.191297</td>\n",
       "      <td>1.000000</td>\n",
       "      <td>1.000000</td>\n",
       "      <td>1.000000</td>\n",
       "      <td>6.000000</td>\n",
       "      <td>12.000000</td>\n",
       "    </tr>\n",
       "    <tr>\n",
       "      <td>lifetime</td>\n",
       "      <td>4000.0</td>\n",
       "      <td>3.724750</td>\n",
       "      <td>3.749267</td>\n",
       "      <td>0.000000</td>\n",
       "      <td>1.000000</td>\n",
       "      <td>3.000000</td>\n",
       "      <td>5.000000</td>\n",
       "      <td>31.000000</td>\n",
       "    </tr>\n",
       "    <tr>\n",
       "      <td>avg_class_frequency_total</td>\n",
       "      <td>4000.0</td>\n",
       "      <td>1.879020</td>\n",
       "      <td>0.972245</td>\n",
       "      <td>0.000000</td>\n",
       "      <td>1.180875</td>\n",
       "      <td>1.832768</td>\n",
       "      <td>2.536078</td>\n",
       "      <td>6.023668</td>\n",
       "    </tr>\n",
       "    <tr>\n",
       "      <td>avg_class_frequency_current_month</td>\n",
       "      <td>4000.0</td>\n",
       "      <td>1.767052</td>\n",
       "      <td>1.052906</td>\n",
       "      <td>0.000000</td>\n",
       "      <td>0.963003</td>\n",
       "      <td>1.719574</td>\n",
       "      <td>2.510336</td>\n",
       "      <td>6.146783</td>\n",
       "    </tr>\n",
       "    <tr>\n",
       "      <td>churn</td>\n",
       "      <td>4000.0</td>\n",
       "      <td>0.265250</td>\n",
       "      <td>0.441521</td>\n",
       "      <td>0.000000</td>\n",
       "      <td>0.000000</td>\n",
       "      <td>0.000000</td>\n",
       "      <td>1.000000</td>\n",
       "      <td>1.000000</td>\n",
       "    </tr>\n",
       "  </tbody>\n",
       "</table>\n",
       "</div>"
      ],
      "text/plain": [
       "                                    count        mean        std        min  \\\n",
       "gender                             4000.0    0.510250   0.499957   0.000000   \n",
       "near_location                      4000.0    0.845250   0.361711   0.000000   \n",
       "partner                            4000.0    0.486750   0.499887   0.000000   \n",
       "promo_friends                      4000.0    0.308500   0.461932   0.000000   \n",
       "phone                              4000.0    0.903500   0.295313   0.000000   \n",
       "contract_period                    4000.0    4.681250   4.549706   1.000000   \n",
       "group_visits                       4000.0    0.412250   0.492301   0.000000   \n",
       "age                                4000.0   29.184250   3.258367  18.000000   \n",
       "avg_additional_charges_total       4000.0  146.943728  96.355602   0.148205   \n",
       "month_to_end_contract              4000.0    4.322750   4.191297   1.000000   \n",
       "lifetime                           4000.0    3.724750   3.749267   0.000000   \n",
       "avg_class_frequency_total          4000.0    1.879020   0.972245   0.000000   \n",
       "avg_class_frequency_current_month  4000.0    1.767052   1.052906   0.000000   \n",
       "churn                              4000.0    0.265250   0.441521   0.000000   \n",
       "\n",
       "                                         25%         50%         75%  \\\n",
       "gender                              0.000000    1.000000    1.000000   \n",
       "near_location                       1.000000    1.000000    1.000000   \n",
       "partner                             0.000000    0.000000    1.000000   \n",
       "promo_friends                       0.000000    0.000000    1.000000   \n",
       "phone                               1.000000    1.000000    1.000000   \n",
       "contract_period                     1.000000    1.000000    6.000000   \n",
       "group_visits                        0.000000    0.000000    1.000000   \n",
       "age                                27.000000   29.000000   31.000000   \n",
       "avg_additional_charges_total       68.868830  136.220159  210.949625   \n",
       "month_to_end_contract               1.000000    1.000000    6.000000   \n",
       "lifetime                            1.000000    3.000000    5.000000   \n",
       "avg_class_frequency_total           1.180875    1.832768    2.536078   \n",
       "avg_class_frequency_current_month   0.963003    1.719574    2.510336   \n",
       "churn                               0.000000    0.000000    1.000000   \n",
       "\n",
       "                                          max  \n",
       "gender                               1.000000  \n",
       "near_location                        1.000000  \n",
       "partner                              1.000000  \n",
       "promo_friends                        1.000000  \n",
       "phone                                1.000000  \n",
       "contract_period                     12.000000  \n",
       "group_visits                         1.000000  \n",
       "age                                 41.000000  \n",
       "avg_additional_charges_total       552.590740  \n",
       "month_to_end_contract               12.000000  \n",
       "lifetime                            31.000000  \n",
       "avg_class_frequency_total            6.023668  \n",
       "avg_class_frequency_current_month    6.146783  \n",
       "churn                                1.000000  "
      ]
     },
     "execution_count": 8,
     "metadata": {},
     "output_type": "execute_result"
    }
   ],
   "source": [
    "df.describe().T"
   ]
  },
  {
   "cell_type": "markdown",
   "metadata": {},
   "source": [
    "Итак, на основании полученной таблицы можно сделать следующие выводы: \n",
    "- Gender: среднее значение 0.51, то есть женщин и мужчин примерно одинаковое количество\n",
    "- Near_location: 0.84, у большинства людей зал расположен рядом с домом\n",
    "- Partner: 0.48, половину посетителей составляют люди из компаний-партнёров\n",
    "- Promo_friends: 0.31, примерно треть посетителей использовали промо-код от знакомого при оплате первого абонемента\n",
    "- Phone: 0.9, у большинства из посетителей есть контактный телефон\n",
    "- Contact_period: средняя длительность текущего действующего абонемента составляет около 5 месяцев (4,68)\n",
    "- Group_visits: в среднем 41% посещают групповые занятия\n",
    "- Age: средний возраст составляет 29 лет. Максимальный - 41 год, минимальный - 18. \n",
    "- Avg_additional_charges_total: Средняя суммарная выручка от других услуг фитнес-центра составляет 146,9. \n",
    "- Month_to_end_contract: Среднее количество месяцев до конца абонемента составляет 4.3 месяца\n",
    "- Lifetime: Среднее время посещения фитнес-клуба - 3.7 месяцев\n",
    "- Avg_class_frequency_total: в среднем (с начала действия абонемента) посетители ходят в зал примерно 2 раза в неделю (1.87)\n",
    "- Avg_class_frequency_current_month: за последний месяц это значение составляет 1.76\n",
    "- Churn: в текущем месяце показатели оттока - 26%."
   ]
  },
  {
   "cell_type": "markdown",
   "metadata": {},
   "source": [
    "Посмотрите на средние значения признаков в двух группах — тех, кто ушел в отток и тех, кто остался:"
   ]
  },
  {
   "cell_type": "code",
   "execution_count": 9,
   "metadata": {
    "scrolled": true
   },
   "outputs": [
    {
     "data": {
      "text/html": [
       "<div>\n",
       "<style scoped>\n",
       "    .dataframe tbody tr th:only-of-type {\n",
       "        vertical-align: middle;\n",
       "    }\n",
       "\n",
       "    .dataframe tbody tr th {\n",
       "        vertical-align: top;\n",
       "    }\n",
       "\n",
       "    .dataframe thead th {\n",
       "        text-align: right;\n",
       "    }\n",
       "</style>\n",
       "<table border=\"1\" class=\"dataframe\">\n",
       "  <thead>\n",
       "    <tr style=\"text-align: right;\">\n",
       "      <th>churn</th>\n",
       "      <th>0</th>\n",
       "      <th>1</th>\n",
       "    </tr>\n",
       "  </thead>\n",
       "  <tbody>\n",
       "    <tr>\n",
       "      <td>gender</td>\n",
       "      <td>0.510037</td>\n",
       "      <td>0.510839</td>\n",
       "    </tr>\n",
       "    <tr>\n",
       "      <td>near_location</td>\n",
       "      <td>0.873086</td>\n",
       "      <td>0.768143</td>\n",
       "    </tr>\n",
       "    <tr>\n",
       "      <td>partner</td>\n",
       "      <td>0.534195</td>\n",
       "      <td>0.355325</td>\n",
       "    </tr>\n",
       "    <tr>\n",
       "      <td>promo_friends</td>\n",
       "      <td>0.353522</td>\n",
       "      <td>0.183789</td>\n",
       "    </tr>\n",
       "    <tr>\n",
       "      <td>phone</td>\n",
       "      <td>0.903709</td>\n",
       "      <td>0.902922</td>\n",
       "    </tr>\n",
       "    <tr>\n",
       "      <td>contract_period</td>\n",
       "      <td>5.747193</td>\n",
       "      <td>1.728558</td>\n",
       "    </tr>\n",
       "    <tr>\n",
       "      <td>group_visits</td>\n",
       "      <td>0.464103</td>\n",
       "      <td>0.268615</td>\n",
       "    </tr>\n",
       "    <tr>\n",
       "      <td>age</td>\n",
       "      <td>29.976523</td>\n",
       "      <td>26.989632</td>\n",
       "    </tr>\n",
       "    <tr>\n",
       "      <td>avg_additional_charges_total</td>\n",
       "      <td>158.445715</td>\n",
       "      <td>115.082899</td>\n",
       "    </tr>\n",
       "    <tr>\n",
       "      <td>month_to_end_contract</td>\n",
       "      <td>5.283089</td>\n",
       "      <td>1.662582</td>\n",
       "    </tr>\n",
       "    <tr>\n",
       "      <td>lifetime</td>\n",
       "      <td>4.711807</td>\n",
       "      <td>0.990575</td>\n",
       "    </tr>\n",
       "    <tr>\n",
       "      <td>avg_class_frequency_total</td>\n",
       "      <td>2.024876</td>\n",
       "      <td>1.474995</td>\n",
       "    </tr>\n",
       "    <tr>\n",
       "      <td>avg_class_frequency_current_month</td>\n",
       "      <td>2.027882</td>\n",
       "      <td>1.044546</td>\n",
       "    </tr>\n",
       "  </tbody>\n",
       "</table>\n",
       "</div>"
      ],
      "text/plain": [
       "churn                                       0           1\n",
       "gender                               0.510037    0.510839\n",
       "near_location                        0.873086    0.768143\n",
       "partner                              0.534195    0.355325\n",
       "promo_friends                        0.353522    0.183789\n",
       "phone                                0.903709    0.902922\n",
       "contract_period                      5.747193    1.728558\n",
       "group_visits                         0.464103    0.268615\n",
       "age                                 29.976523   26.989632\n",
       "avg_additional_charges_total       158.445715  115.082899\n",
       "month_to_end_contract                5.283089    1.662582\n",
       "lifetime                             4.711807    0.990575\n",
       "avg_class_frequency_total            2.024876    1.474995\n",
       "avg_class_frequency_current_month    2.027882    1.044546"
      ]
     },
     "execution_count": 9,
     "metadata": {},
     "output_type": "execute_result"
    }
   ],
   "source": [
    "df.groupby('churn').mean().T"
   ]
  },
  {
   "cell_type": "markdown",
   "metadata": {},
   "source": [
    "Здесь интересна разница в средних значениях:\n",
    "- partner: среди прекративших пользоваться абонементом этот показатель ниже (0.35 против 0.53), скорее всего, партнерские программы дают скидки на абонементы, поэтому их чаще продлевают (или реже прекращают)\n",
    "- promo_friends: разница почти в 2 раза, быть может, это связано со скидками, или с положительными отзывами: вряд ли кто-то будет предлагать промо-код туда, где ему самому не нравится.\n",
    "- contract_period и month_to_end_contract: средняя продолжительность абонементов и среднее количество месяцев до конца действия абонемента. Скорее всего, абонементы на бОльший срок, когда фитнес-клуб понравился.\n",
    "- lifetime: тут почти то же самое, что и с продолжительностью действия абонемента. 4.7 месяцев против 0.99. Выходит, оттока больше среди новичков. \n",
    "- и последний показатель, среднее количество посещений в неделю: За последний месяц среди прекративших этот показатель ниже почти в 2 раза: 2.02 и 1.04. Выходит, чтобы не уйти из зала через месяц, надо ходить туда хотя бы пару раз в неделю!"
   ]
  },
  {
   "cell_type": "markdown",
   "metadata": {},
   "source": [
    "Постройте столбчатые гистограммы и распределения признаков для тех, кто ушёл (отток) и тех, кто остался (не попали в отток);"
   ]
  },
  {
   "cell_type": "code",
   "execution_count": 10,
   "metadata": {
    "scrolled": false
   },
   "outputs": [
    {
     "data": {
      "image/png": "[encoded data removed]",
      "text/plain": [
       "<Figure size 360x360 with 1 Axes>"
      ]
     },
     "metadata": {
      "needs_background": "light"
     },
     "output_type": "display_data"
    },
    {
     "data": {
      "image/png": "[encoded data removed]",
      "text/plain": [
       "<Figure size 360x360 with 1 Axes>"
      ]
     },
     "metadata": {
      "needs_background": "light"
     },
     "output_type": "display_data"
    },
    {
     "data": {
      "image/png": "[encoded data removed]",
      "text/plain": [
       "<Figure size 360x360 with 1 Axes>"
      ]
     },
     "metadata": {
      "needs_background": "light"
     },
     "output_type": "display_data"
    },
    {
     "data": {
      "image/png": "[encoded data removed]",
      "text/plain": [
       "<Figure size 360x360 with 1 Axes>"
      ]
     },
     "metadata": {
      "needs_background": "light"
     },
     "output_type": "display_data"
    },
    {
     "data": {
      "image/png": "[encoded data removed]",
      "text/plain": [
       "<Figure size 360x360 with 1 Axes>"
      ]
     },
     "metadata": {
      "needs_background": "light"
     },
     "output_type": "display_data"
    }
   ],
   "source": [
    "for column in ['gender'\n",
    "               , 'near_location'\n",
    "               , 'partner'\n",
    "               , 'promo_friends'\n",
    "               , 'contract_period'\n",
    "               ]:\n",
    "    plt.figure(figsize=(5, 5))\n",
    "    sns.countplot(x = df[column]\n",
    "                  , hue = 'churn'\n",
    "                  , data = df)\n",
    "    plt.title(column)\n",
    "    plt.show()"
   ]
  },
  {
   "cell_type": "code",
   "execution_count": 11,
   "metadata": {},
   "outputs": [
    {
     "data": {
      "image/png": "[encoded data removed]",
      "text/plain": [
       "<Figure size 360x360 with 1 Axes>"
      ]
     },
     "metadata": {
      "needs_background": "light"
     },
     "output_type": "display_data"
    },
    {
     "data": {
      "image/png": "[encoded data removed]",
      "text/plain": [
       "<Figure size 360x360 with 1 Axes>"
      ]
     },
     "metadata": {
      "needs_background": "light"
     },
     "output_type": "display_data"
    },
    {
     "data": {
      "image/png": "[encoded data removed]",
      "text/plain": [
       "<Figure size 360x360 with 1 Axes>"
      ]
     },
     "metadata": {
      "needs_background": "light"
     },
     "output_type": "display_data"
    },
    {
     "data": {
      "image/png": "[encoded data removed]",
      "text/plain": [
       "<Figure size 360x360 with 1 Axes>"
      ]
     },
     "metadata": {
      "needs_background": "light"
     },
     "output_type": "display_data"
    },
    {
     "data": {
      "image/png": "[encoded data removed]",
      "text/plain": [
       "<Figure size 360x360 with 1 Axes>"
      ]
     },
     "metadata": {
      "needs_background": "light"
     },
     "output_type": "display_data"
    },
    {
     "data": {
      "image/png": "[encoded data removed]",
      "text/plain": [
       "<Figure size 360x360 with 1 Axes>"
      ]
     },
     "metadata": {
      "needs_background": "light"
     },
     "output_type": "display_data"
    }
   ],
   "source": [
    "for column in ['month_to_end_contract'\n",
    "               , 'age'\n",
    "               , 'avg_additional_charges_total'\n",
    "               , 'lifetime'\n",
    "               , 'avg_class_frequency_total'\n",
    "               , 'avg_class_frequency_current_month']:\n",
    "    plt.figure(figsize=(5, 5))\n",
    "    sns.boxplot(x = 'churn'\n",
    "                , y = df[column]\n",
    "                , data = df)\n",
    "    plt.show()"
   ]
  },
  {
   "cell_type": "markdown",
   "metadata": {},
   "source": [
    "Постройте матрицу корреляций и отобразите её."
   ]
  },
  {
   "cell_type": "code",
   "execution_count": 12,
   "metadata": {},
   "outputs": [
    {
     "data": {
      "image/png": "[encoded data removed]",
      "text/plain": [
       "<Figure size 1008x720 with 2 Axes>"
      ]
     },
     "metadata": {
      "needs_background": "light"
     },
     "output_type": "display_data"
    }
   ],
   "source": [
    "cm = df.corr()\n",
    "plt.figure(figsize=(14, 10))\n",
    "sns.heatmap(cm, annot = True, fmt = '0.2f', linewidths=.5, cmap = 'bwr')\n",
    "plt.show()"
   ]
  },
  {
   "cell_type": "markdown",
   "metadata": {},
   "source": [
    "Из матрицы корреляции видно, что на отток практически не влияет гендер (gender) и наличие контактного телефона (phone). <br>\n",
    "Уменьшению оттока способствуют такие признаки, как:\n",
    "- contact_period (бОльший срок действия абонемента)\n",
    "- age (чем выше возраст)\n",
    "- lifetime (чем дольше клиент пользуется услугами фитнес-клуба)\n",
    "- среднее количество походов в неделю (чем оно выше, тем меньше вероятность, что клиент откажется от фитнеса)\n",
    "<br>\n",
    "\n",
    "Также есть мультиколлинеарные признаки: Contract_period / Month_to_end_contract и  Avg_class_frequency_current_month / Avg_class_frequency_total.\n"
   ]
  },
  {
   "cell_type": "markdown",
   "metadata": {},
   "source": [
    "### Вывод"
   ]
  },
  {
   "cell_type": "markdown",
   "metadata": {},
   "source": [
    "Проанализировали данные, построили стролбчатые гистрограммы  и распределения признаков для тех, кто ушёл (отток) и тех, кто остался (не попали в отток); построили матрицу корреляции. \n",
    "\n",
    "Из матрицы корреляции видно, что на отток практически не влияет гендер и наличие контактного телефона.\n",
    "По матрице определили, что уменьшению оттока способствуют такие признаки, как:\n",
    "- contact_period (бОльший срок действия абонемента)\n",
    "- age (чем выше возраст)\n",
    "- lifetime (чем дольше клиент пользуется услугами фитнес-клуба)\n",
    "- среднее количество походов в неделю (чем оно выше, тем меньше вероятность, что клиент откажется от фитнеса)\n",
    "\n",
    "Также в данных есть мультиколлинеарные признаки: Contract_period / Month_to_end_contract и Avg_class_frequency_current_month / Avg_class_frequency_total."
   ]
  },
  {
   "cell_type": "markdown",
   "metadata": {},
   "source": [
    "## Построение модели прогнозирования оттока клиентов"
   ]
  },
  {
   "cell_type": "markdown",
   "metadata": {},
   "source": [
    "Разбейте данные на обучающую и валидационную выборку функцией train_test_split().\n",
    "Обучите модель на train-выборке двумя способами:\n",
    "логистической регрессией, случайным лесом.\n",
    "Оценим метрики accuracy, precision и recall для обеих моделей и сравним по ним модели."
   ]
  },
  {
   "cell_type": "markdown",
   "metadata": {},
   "source": [
    "Постром модель бинарной классификации клиентов, где целевой признак — факт оттока клиента в следующем месяце:"
   ]
  },
  {
   "cell_type": "code",
   "execution_count": 13,
   "metadata": {},
   "outputs": [],
   "source": [
    "X = df.drop('churn', axis = 1)\n",
    "y = df['churn']"
   ]
  },
  {
   "cell_type": "code",
   "execution_count": 14,
   "metadata": {},
   "outputs": [],
   "source": [
    "X_train, X_test, y_train, y_test = train_test_split(X, y, test_size = 0.2, random_state = 0)"
   ]
  },
  {
   "cell_type": "markdown",
   "metadata": {},
   "source": [
    "### Логистическая регрессия"
   ]
  },
  {
   "cell_type": "code",
   "execution_count": 15,
   "metadata": {},
   "outputs": [],
   "source": [
    "model = LogisticRegression()"
   ]
  },
  {
   "cell_type": "code",
   "execution_count": 16,
   "metadata": {},
   "outputs": [
    {
     "name": "stderr",
     "output_type": "stream",
     "text": [
      "/opt/conda/lib/python3.7/site-packages/sklearn/linear_model/logistic.py:432: FutureWarning: Default solver will be changed to 'lbfgs' in 0.22. Specify a solver to silence this warning.\n",
      "  FutureWarning)\n"
     ]
    },
    {
     "data": {
      "text/plain": [
       "LogisticRegression(C=1.0, class_weight=None, dual=False, fit_intercept=True,\n",
       "                   intercept_scaling=1, l1_ratio=None, max_iter=100,\n",
       "                   multi_class='warn', n_jobs=None, penalty='l2',\n",
       "                   random_state=None, solver='warn', tol=0.0001, verbose=0,\n",
       "                   warm_start=False)"
      ]
     },
     "execution_count": 16,
     "metadata": {},
     "output_type": "execute_result"
    }
   ],
   "source": [
    "model.fit(X_train, y_train)"
   ]
  },
  {
   "cell_type": "code",
   "execution_count": 17,
   "metadata": {},
   "outputs": [],
   "source": [
    "predictions = model.predict(X_test)\n",
    "probabilities =  model.predict_proba(X_test)[:,1]"
   ]
  },
  {
   "cell_type": "code",
   "execution_count": 18,
   "metadata": {},
   "outputs": [
    {
     "name": "stdout",
     "output_type": "stream",
     "text": [
      "Accuracy: 0.93\n",
      "Precision: 0.86\n",
      "Recall: 0.83\n",
      "F1: 0.85\n"
     ]
    }
   ],
   "source": [
    "print('Accuracy: {:.2f}'.format(accuracy_score(y_test, predictions)))\n",
    "print('Precision: {:.2f}'.format(precision_score(y_test, predictions)))\n",
    "print('Recall: {:.2f}'.format(recall_score(y_test, predictions)))\n",
    "print('F1: {:.2f}'.format(f1_score(y_test, predictions)))"
   ]
  },
  {
   "cell_type": "markdown",
   "metadata": {},
   "source": [
    "### Случайный лес"
   ]
  },
  {
   "cell_type": "code",
   "execution_count": 19,
   "metadata": {},
   "outputs": [],
   "source": [
    "scaler = StandardScaler()\n",
    "scaler.fit(X_train)\n",
    "X_train_st = scaler.transform(X_train)\n",
    "X_test_st = scaler.transform(X_test)\n",
    "\n",
    "rf_model = RandomForestClassifier(n_estimators = 100, random_state = 0) \n",
    "rf_model.fit(X_train_st, y_train)\n",
    "rf_predictions = rf_model.predict(X_test_st) \n",
    "rf_probabilities = rf_model.predict_proba(X_test_st)[:,1]"
   ]
  },
  {
   "cell_type": "code",
   "execution_count": 20,
   "metadata": {
    "scrolled": true
   },
   "outputs": [
    {
     "name": "stdout",
     "output_type": "stream",
     "text": [
      "Accuracy: 0.92\n",
      "Precision: 0.84\n",
      "Recall: 0.81\n",
      "F1: 0.83\n"
     ]
    }
   ],
   "source": [
    "print('Accuracy: {:.2f}'.format(accuracy_score(y_test, rf_predictions)))\n",
    "print('Precision: {:.2f}'.format(precision_score(y_test, rf_predictions)))\n",
    "print('Recall: {:.2f}'.format(recall_score(y_test, rf_predictions)))\n",
    "print('F1: {:.2f}'.format(f1_score(y_test, rf_predictions)))"
   ]
  },
  {
   "cell_type": "markdown",
   "metadata": {},
   "source": [
    "### Вывод"
   ]
  },
  {
   "cell_type": "markdown",
   "metadata": {},
   "source": [
    "Обучили модель на train-выборке двумя способами: логистической регрессией, случайным лесом. \n",
    "На основании полученных метрик можно сделать вывод о том, что Логистическа регрессиия показывает себя лучше. "
   ]
  },
  {
   "cell_type": "markdown",
   "metadata": {},
   "source": [
    "## Кластеризация клиентов"
   ]
  },
  {
   "cell_type": "markdown",
   "metadata": {},
   "source": [
    "Стандартизируем данные и нарисуем дендрограмму:"
   ]
  },
  {
   "cell_type": "code",
   "execution_count": 21,
   "metadata": {},
   "outputs": [],
   "source": [
    "# обязательная стандартизация данных перед работой с алгоритмами\n",
    "df_sс = df.drop(['churn'], axis=1)\n",
    "df_columns_list = df_sс.columns\n",
    "df_sс = StandardScaler().fit_transform(df_sс)\n",
    "df_sс = pd.DataFrame(df_sс, columns = df_columns_list).astype('float64')"
   ]
  },
  {
   "cell_type": "code",
   "execution_count": 22,
   "metadata": {},
   "outputs": [],
   "source": [
    "linked = linkage(df_sс, method = 'ward')"
   ]
  },
  {
   "cell_type": "code",
   "execution_count": null,
   "metadata": {
    "scrolled": true
   },
   "outputs": [],
   "source": [
    "plt.figure(figsize=(16, 9))  \n",
    "dendrogram(linked, orientation = 'top')\n",
    "plt.title('Кластеризация пользователей')\n",
    "plt.show()"
   ]
  },
  {
   "cell_type": "markdown",
   "metadata": {},
   "source": [
    "Оптимальное число кластеров, которое можно выделить - 5.  "
   ]
  },
  {
   "cell_type": "markdown",
   "metadata": {},
   "source": [
    "Обучим модель кластеризации на основании алгоритма K-Means и спрогнозируем кластеры клиентов. "
   ]
  },
  {
   "cell_type": "code",
   "execution_count": null,
   "metadata": {},
   "outputs": [],
   "source": [
    "km = KMeans(n_clusters = 5, random_state = 0)\n",
    "labels = km.fit_predict(df_sс)\n",
    "df['cluster'] = labels"
   ]
  },
  {
   "cell_type": "code",
   "execution_count": null,
   "metadata": {},
   "outputs": [],
   "source": [
    "df.cluster.value_counts()"
   ]
  },
  {
   "cell_type": "markdown",
   "metadata": {},
   "source": [
    "Посмотрим на средние значения параметров:"
   ]
  },
  {
   "cell_type": "code",
   "execution_count": null,
   "metadata": {},
   "outputs": [],
   "source": [
    "df.groupby('cluster').mean().T"
   ]
  },
  {
   "cell_type": "markdown",
   "metadata": {},
   "source": [
    "Отток 0 и 4 кластеров ниже, чем остальных.\n",
    "Посмотрим на средние значения параметров этих кластеров:\n",
    "- near_location - большинство клиентов проживают вблизи фитнес-клуба.\n",
    "- lifetime - среднее количество месяцев близится к 5 (другие кластеры - около 3)\n",
    "- group_visits - показатели также выше, чем в других кластерах\n",
    "- среднее количество посещений в неделю\n",
    "- расходы на дополнительные услуги также выше\n",
    "\n",
    "На основании этого можно сделать вывод о том, что все эти показатели снижают вероятность оттока клиентов.\n",
    "\n"
   ]
  },
  {
   "cell_type": "markdown",
   "metadata": {},
   "source": [
    "Посмотрим также на распределение этих признаков по кластерам:"
   ]
  },
  {
   "cell_type": "code",
   "execution_count": null,
   "metadata": {},
   "outputs": [],
   "source": [
    "for column in ['gender'\n",
    "               , 'near_location'\n",
    "               , 'partner'\n",
    "               , 'promo_friends'\n",
    "               , 'contract_period'\n",
    "               , 'phone']:\n",
    "    plt.figure(figsize=(5, 5))\n",
    "    sns.countplot(x = df[column]\n",
    "                  , hue = 'cluster'\n",
    "                  , data = df)\n",
    "    plt.title(column)\n",
    "    plt.show()"
   ]
  },
  {
   "cell_type": "code",
   "execution_count": null,
   "metadata": {},
   "outputs": [],
   "source": [
    "for column in ['month_to_end_contract'\n",
    "               , 'age'\n",
    "               , 'avg_additional_charges_total'\n",
    "               , 'lifetime'\n",
    "               , 'avg_class_frequency_total'\n",
    "               , 'avg_class_frequency_current_month']:\n",
    "    plt.figure(figsize=(5, 5))\n",
    "    sns.boxplot(x = 'cluster'\n",
    "                , y = df[column]\n",
    "                , data = df)\n",
    "    plt.show()"
   ]
  },
  {
   "cell_type": "markdown",
   "metadata": {},
   "source": [
    "### Вывод"
   ]
  },
  {
   "cell_type": "markdown",
   "metadata": {},
   "source": [
    "Стандартизировали данные, провели кластеризацию. Было выделено два \"надежных\" кластера (процент оттока там ниже). Проанализировали средние показатели в этих кластерах. "
   ]
  },
  {
   "cell_type": "markdown",
   "metadata": {},
   "source": [
    "## Общий вывод и базовые рекомендации по работе с клиентами"
   ]
  },
  {
   "cell_type": "markdown",
   "metadata": {},
   "source": [
    "Проанализировали данные:\n",
    "- Женщин и мужчин примерно одинаковое количество\n",
    "- У большинства людей зал расположен рядом с домом\n",
    "- Половину посетителей составляют люди из компаний-партнёров\n",
    "- Примерно треть посетителей использовали промо-код от знакомого при оплате первого абонемента\n",
    "- У большинства из посетителей есть контактный телефон\n",
    "- Средняя длительность текущего действующего абонемента составляет около 5 месяцев (4,68)\n",
    "- В среднем 41% посещают групповые занятия\n",
    "- Средний возраст составляет 29 лет. Максимальный - 41 год, минимальный - 18.\n",
    "- Средняя суммарная выручка от других услуг фитнес-центра составляет 146,9.\n",
    "- Среднее количество месяцев до конца абонемента составляет 4.3 месяца\n",
    "- Среднее время посещения фитнес-клуба - 3.7 месяцев\n",
    "- В среднем (с начала действия абонемента) посетители ходят в зал примерно 2 раза в неделю (1.87)\n",
    "- За последний месяц это значение составляет 1.76\n",
    "- В текущем месяце показатели оттока - 26%.\n",
    "\n",
    "На основании полученных данных сделали вывод о том, при увеличении каких признаков уменьшается вероятность оттока:\n",
    "- близость дома к фитнес-клубу\n",
    "- среднее количество месяцев с момента первого обращения в фитнес-центр \n",
    "- посещение групповых занятий\n",
    "- среднее количество посещений в неделю\n",
    "- расходы на дополнительные услуги\n",
    "\n",
    "**Рекомендации по привлечению новых клиентов и удержанию старых:**\n",
    "- проводить рекламные кампании с акцентом на близость фитнеса к дому\n",
    "- предлагать скидки на долгосрочные абонементы, групповые занятия \n",
    "- каким-либо образом поощрять посетителей, которые ходят более двух раз неделю в спортзал (помочь сформировать привычку). Например, доп услугами - на третий раз в неделю дарить бесплатный напиток в кафе. Также это поможет клиенту ознакомиться с услугами, и вполне вероятно, он будет пользоваться ими и за деньги. "
   ]
  }
 ],
 "metadata": {
  "ExecuteTimeLog": [
   {
    "duration": 5,
    "start_time": "2021-11-25T20:05:13.880Z"
   },
   {
    "duration": 811,
    "start_time": "2021-11-25T20:11:00.632Z"
   },
   {
    "duration": 28,
    "start_time": "2021-11-25T20:11:10.549Z"
   },
   {
    "duration": 30,
    "start_time": "2021-11-25T20:11:17.861Z"
   },
   {
    "duration": 104,
    "start_time": "2021-11-25T20:11:59.420Z"
   },
   {
    "duration": 71,
    "start_time": "2021-11-25T20:13:32.221Z"
   },
   {
    "duration": 31,
    "start_time": "2021-11-25T20:14:12.019Z"
   },
   {
    "duration": 365,
    "start_time": "2021-11-27T11:45:36.925Z"
   },
   {
    "duration": 1170,
    "start_time": "2021-11-27T11:45:39.929Z"
   },
   {
    "duration": 22,
    "start_time": "2021-11-27T11:45:44.126Z"
   },
   {
    "duration": 15,
    "start_time": "2021-11-27T11:45:46.978Z"
   },
   {
    "duration": 8,
    "start_time": "2021-11-27T11:48:25.262Z"
   },
   {
    "duration": 3,
    "start_time": "2021-11-27T11:49:54.831Z"
   },
   {
    "duration": 16,
    "start_time": "2021-11-27T11:49:58.580Z"
   },
   {
    "duration": 8,
    "start_time": "2021-11-27T11:50:50.367Z"
   },
   {
    "duration": 10,
    "start_time": "2021-11-27T11:51:01.006Z"
   },
   {
    "duration": 109,
    "start_time": "2021-11-27T11:52:17.293Z"
   },
   {
    "duration": 43,
    "start_time": "2021-11-27T11:52:44.750Z"
   },
   {
    "duration": 42,
    "start_time": "2021-11-27T11:54:23.373Z"
   },
   {
    "duration": 45,
    "start_time": "2021-11-27T11:54:27.774Z"
   },
   {
    "duration": 39,
    "start_time": "2021-11-27T11:54:32.561Z"
   },
   {
    "duration": 15,
    "start_time": "2021-11-27T11:55:23.351Z"
   },
   {
    "duration": 11,
    "start_time": "2021-11-27T11:55:28.262Z"
   },
   {
    "duration": 1157,
    "start_time": "2021-11-27T11:56:03.909Z"
   },
   {
    "duration": 1226,
    "start_time": "2021-11-27T11:57:04.984Z"
   },
   {
    "duration": 4,
    "start_time": "2021-11-27T11:57:52.088Z"
   },
   {
    "duration": 112,
    "start_time": "2021-11-27T11:58:09.973Z"
   },
   {
    "duration": 4,
    "start_time": "2021-11-27T11:58:14.074Z"
   },
   {
    "duration": 7,
    "start_time": "2021-11-27T11:59:43.020Z"
   },
   {
    "duration": 2,
    "start_time": "2021-11-27T11:59:49.487Z"
   },
   {
    "duration": 29,
    "start_time": "2021-11-27T11:59:56.585Z"
   },
   {
    "duration": 17,
    "start_time": "2021-11-27T12:00:09.271Z"
   },
   {
    "duration": 10,
    "start_time": "2021-11-27T12:00:22.270Z"
   },
   {
    "duration": 391,
    "start_time": "2021-11-27T12:00:38.354Z"
   },
   {
    "duration": 11,
    "start_time": "2021-11-27T12:00:47.437Z"
   },
   {
    "duration": 436,
    "start_time": "2021-11-27T18:55:24.518Z"
   },
   {
    "duration": 1571,
    "start_time": "2021-11-27T18:55:31.459Z"
   },
   {
    "duration": 25,
    "start_time": "2021-11-27T18:55:33.033Z"
   },
   {
    "duration": 21,
    "start_time": "2021-11-27T18:55:33.063Z"
   },
   {
    "duration": 11,
    "start_time": "2021-11-27T18:55:33.086Z"
   },
   {
    "duration": 3,
    "start_time": "2021-11-27T18:55:33.100Z"
   },
   {
    "duration": 10,
    "start_time": "2021-11-27T18:55:33.105Z"
   },
   {
    "duration": 50,
    "start_time": "2021-11-27T18:55:33.119Z"
   },
   {
    "duration": 66,
    "start_time": "2021-11-27T18:55:33.173Z"
   },
   {
    "duration": 16,
    "start_time": "2021-11-27T18:55:33.260Z"
   },
   {
    "duration": 1715,
    "start_time": "2021-11-27T18:55:33.278Z"
   },
   {
    "duration": 5,
    "start_time": "2021-11-27T18:55:34.996Z"
   },
   {
    "duration": 14,
    "start_time": "2021-11-27T18:55:35.003Z"
   },
   {
    "duration": 8,
    "start_time": "2021-11-27T18:55:35.020Z"
   },
   {
    "duration": 75,
    "start_time": "2021-11-27T18:55:35.031Z"
   },
   {
    "duration": 59,
    "start_time": "2021-11-27T18:55:35.109Z"
   },
   {
    "duration": 191,
    "start_time": "2021-11-27T18:55:35.171Z"
   },
   {
    "duration": 514,
    "start_time": "2021-11-27T18:55:35.364Z"
   },
   {
    "duration": 13,
    "start_time": "2021-11-27T18:55:35.881Z"
   },
   {
    "duration": 835,
    "start_time": "2021-11-27T18:55:35.896Z"
   },
   {
    "duration": 98103,
    "start_time": "2021-11-27T18:55:36.734Z"
   },
   {
    "duration": 11,
    "start_time": "2021-11-27T18:59:03.588Z"
   },
   {
    "duration": 769,
    "start_time": "2021-11-27T18:59:11.586Z"
   },
   {
    "duration": 136825,
    "start_time": "2021-11-27T18:59:21.564Z"
   },
   {
    "duration": 1681,
    "start_time": "2021-11-27T19:04:07.481Z"
   },
   {
    "duration": 8,
    "start_time": "2021-11-27T19:04:33.906Z"
   },
   {
    "duration": 20,
    "start_time": "2021-11-27T19:04:42.395Z"
   },
   {
    "duration": 1476,
    "start_time": "2021-11-27T19:05:10.566Z"
   },
   {
    "duration": 429,
    "start_time": "2021-11-28T13:51:41.785Z"
   },
   {
    "duration": 1688,
    "start_time": "2021-11-28T13:51:53.143Z"
   },
   {
    "duration": 25,
    "start_time": "2021-11-28T13:51:54.834Z"
   },
   {
    "duration": 21,
    "start_time": "2021-11-28T13:51:54.862Z"
   },
   {
    "duration": 24,
    "start_time": "2021-11-28T13:51:54.886Z"
   },
   {
    "duration": 5,
    "start_time": "2021-11-28T13:51:54.913Z"
   },
   {
    "duration": 13,
    "start_time": "2021-11-28T13:51:54.920Z"
   },
   {
    "duration": 13,
    "start_time": "2021-11-28T13:51:54.935Z"
   },
   {
    "duration": 113,
    "start_time": "2021-11-28T13:51:54.952Z"
   },
   {
    "duration": 35,
    "start_time": "2021-11-28T13:51:55.068Z"
   },
   {
    "duration": 605,
    "start_time": "2021-11-28T13:51:55.106Z"
   },
   {
    "duration": 55,
    "start_time": "2021-11-28T13:51:55.660Z"
   },
   {
    "duration": 52,
    "start_time": "2021-11-28T13:51:55.665Z"
   },
   {
    "duration": 44,
    "start_time": "2021-11-28T13:51:55.675Z"
   },
   {
    "duration": 41,
    "start_time": "2021-11-28T13:51:55.680Z"
   },
   {
    "duration": 40,
    "start_time": "2021-11-28T13:51:55.683Z"
   },
   {
    "duration": 39,
    "start_time": "2021-11-28T13:51:55.686Z"
   },
   {
    "duration": 38,
    "start_time": "2021-11-28T13:51:55.689Z"
   },
   {
    "duration": 38,
    "start_time": "2021-11-28T13:51:55.692Z"
   },
   {
    "duration": 30,
    "start_time": "2021-11-28T13:51:55.702Z"
   },
   {
    "duration": 27,
    "start_time": "2021-11-28T13:51:55.707Z"
   },
   {
    "duration": 26,
    "start_time": "2021-11-28T13:51:55.710Z"
   },
   {
    "duration": 24,
    "start_time": "2021-11-28T13:51:55.714Z"
   },
   {
    "duration": 12,
    "start_time": "2021-11-28T13:51:55.729Z"
   },
   {
    "duration": 6,
    "start_time": "2021-11-28T13:51:55.737Z"
   },
   {
    "duration": 3,
    "start_time": "2021-11-28T13:51:55.742Z"
   },
   {
    "duration": 1,
    "start_time": "2021-11-28T13:51:55.746Z"
   },
   {
    "duration": 1,
    "start_time": "2021-11-28T13:51:55.749Z"
   },
   {
    "duration": 4686,
    "start_time": "2021-11-28T13:52:55.898Z"
   },
   {
    "duration": 633,
    "start_time": "2021-11-28T13:53:52.157Z"
   },
   {
    "duration": 5669,
    "start_time": "2021-11-28T13:55:17.395Z"
   },
   {
    "duration": 1361,
    "start_time": "2021-11-28T13:55:45.090Z"
   },
   {
    "duration": 1419,
    "start_time": "2021-11-28T13:56:08.836Z"
   },
   {
    "duration": 1353,
    "start_time": "2021-11-28T13:56:22.041Z"
   },
   {
    "duration": 1936,
    "start_time": "2021-11-28T13:56:29.447Z"
   },
   {
    "duration": 1611,
    "start_time": "2021-11-28T13:57:46.936Z"
   },
   {
    "duration": 28,
    "start_time": "2021-11-28T13:57:48.550Z"
   },
   {
    "duration": 38,
    "start_time": "2021-11-28T13:57:48.586Z"
   },
   {
    "duration": 12,
    "start_time": "2021-11-28T13:57:48.628Z"
   },
   {
    "duration": 7,
    "start_time": "2021-11-28T13:57:48.643Z"
   },
   {
    "duration": 11,
    "start_time": "2021-11-28T13:57:48.653Z"
   },
   {
    "duration": 18,
    "start_time": "2021-11-28T13:57:48.704Z"
   },
   {
    "duration": 101,
    "start_time": "2021-11-28T13:57:48.726Z"
   },
   {
    "duration": 20,
    "start_time": "2021-11-28T13:57:48.829Z"
   },
   {
    "duration": 5555,
    "start_time": "2021-11-28T13:57:48.852Z"
   },
   {
    "duration": 1444,
    "start_time": "2021-11-28T13:57:54.411Z"
   },
   {
    "duration": 1917,
    "start_time": "2021-11-28T13:57:55.857Z"
   },
   {
    "duration": 6,
    "start_time": "2021-11-28T13:57:57.776Z"
   },
   {
    "duration": 29,
    "start_time": "2021-11-28T13:57:57.784Z"
   },
   {
    "duration": 4,
    "start_time": "2021-11-28T13:57:57.817Z"
   },
   {
    "duration": 52,
    "start_time": "2021-11-28T13:57:57.824Z"
   },
   {
    "duration": 27,
    "start_time": "2021-11-28T13:57:57.878Z"
   },
   {
    "duration": 101,
    "start_time": "2021-11-28T13:57:57.908Z"
   },
   {
    "duration": 656,
    "start_time": "2021-11-28T13:57:58.012Z"
   },
   {
    "duration": 30,
    "start_time": "2021-11-28T13:57:58.671Z"
   },
   {
    "duration": 16,
    "start_time": "2021-11-28T13:57:58.704Z"
   },
   {
    "duration": 829,
    "start_time": "2021-11-28T13:57:58.726Z"
   },
   {
    "duration": 150067,
    "start_time": "2021-11-28T13:57:59.557Z"
   },
   {
    "duration": 1675,
    "start_time": "2021-11-28T14:00:29.626Z"
   },
   {
    "duration": 13,
    "start_time": "2021-11-28T14:00:31.305Z"
   },
   {
    "duration": 24,
    "start_time": "2021-11-28T14:00:31.320Z"
   },
   {
    "duration": 1633,
    "start_time": "2021-11-28T14:00:31.346Z"
   },
   {
    "duration": 1557,
    "start_time": "2021-11-28T14:06:03.967Z"
   },
   {
    "duration": 1738,
    "start_time": "2021-11-28T14:09:09.099Z"
   },
   {
    "duration": 180,
    "start_time": "2021-11-28T14:40:21.213Z"
   },
   {
    "duration": 299,
    "start_time": "2021-11-28T16:51:28.104Z"
   },
   {
    "duration": 1505,
    "start_time": "2021-11-28T17:05:07.763Z"
   },
   {
    "duration": 33,
    "start_time": "2021-11-28T17:05:09.270Z"
   },
   {
    "duration": 19,
    "start_time": "2021-11-28T17:05:09.305Z"
   },
   {
    "duration": 9,
    "start_time": "2021-11-28T17:05:09.326Z"
   },
   {
    "duration": 7,
    "start_time": "2021-11-28T17:05:09.337Z"
   },
   {
    "duration": 8,
    "start_time": "2021-11-28T17:05:09.346Z"
   },
   {
    "duration": 11,
    "start_time": "2021-11-28T17:05:09.356Z"
   },
   {
    "duration": 76,
    "start_time": "2021-11-28T17:05:09.370Z"
   },
   {
    "duration": 10,
    "start_time": "2021-11-28T17:05:09.449Z"
   },
   {
    "duration": 2896,
    "start_time": "2021-11-28T17:05:09.461Z"
   },
   {
    "duration": 828,
    "start_time": "2021-11-28T17:05:12.359Z"
   },
   {
    "duration": 1094,
    "start_time": "2021-11-28T17:05:13.189Z"
   },
   {
    "duration": 4,
    "start_time": "2021-11-28T17:05:14.284Z"
   },
   {
    "duration": 8,
    "start_time": "2021-11-28T17:05:14.290Z"
   },
   {
    "duration": 3,
    "start_time": "2021-11-28T17:05:14.300Z"
   },
   {
    "duration": 48,
    "start_time": "2021-11-28T17:05:14.305Z"
   },
   {
    "duration": 14,
    "start_time": "2021-11-28T17:05:14.355Z"
   },
   {
    "duration": 99,
    "start_time": "2021-11-28T17:05:14.445Z"
   },
   {
    "duration": 534,
    "start_time": "2021-11-28T17:05:14.547Z"
   },
   {
    "duration": 11,
    "start_time": "2021-11-28T17:05:15.083Z"
   },
   {
    "duration": 17,
    "start_time": "2021-11-28T17:05:15.096Z"
   },
   {
    "duration": 770,
    "start_time": "2021-11-28T17:05:15.115Z"
   },
   {
    "duration": 81446,
    "start_time": "2021-11-28T17:05:15.889Z"
   },
   {
    "duration": 1613,
    "start_time": "2021-11-28T17:06:37.338Z"
   },
   {
    "duration": 6,
    "start_time": "2021-11-28T17:06:38.952Z"
   },
   {
    "duration": 25,
    "start_time": "2021-11-28T17:06:38.959Z"
   },
   {
    "duration": 852,
    "start_time": "2021-11-28T17:06:38.985Z"
   },
   {
    "duration": 825,
    "start_time": "2021-11-28T17:43:40.542Z"
   },
   {
    "duration": 4070,
    "start_time": "2021-11-28T17:45:43.816Z"
   },
   {
    "duration": 1246,
    "start_time": "2021-11-28T17:45:59.835Z"
   },
   {
    "duration": 1272,
    "start_time": "2021-11-28T17:46:58.472Z"
   },
   {
    "duration": 85,
    "start_time": "2021-11-28T17:47:31.252Z"
   },
   {
    "duration": 206,
    "start_time": "2021-11-28T17:47:39.058Z"
   },
   {
    "duration": 6,
    "start_time": "2021-11-28T17:47:47.821Z"
   },
   {
    "duration": 843,
    "start_time": "2021-11-28T17:47:56.606Z"
   },
   {
    "duration": 872,
    "start_time": "2021-11-28T17:48:17.774Z"
   },
   {
    "duration": 90,
    "start_time": "2021-11-28T17:48:35.880Z"
   },
   {
    "duration": 1173,
    "start_time": "2021-11-28T18:02:41.137Z"
   },
   {
    "duration": 26,
    "start_time": "2021-11-28T18:02:42.312Z"
   },
   {
    "duration": 14,
    "start_time": "2021-11-28T18:02:42.340Z"
   },
   {
    "duration": 7,
    "start_time": "2021-11-28T18:02:42.356Z"
   },
   {
    "duration": 8,
    "start_time": "2021-11-28T18:02:42.365Z"
   },
   {
    "duration": 8,
    "start_time": "2021-11-28T18:02:42.374Z"
   },
   {
    "duration": 9,
    "start_time": "2021-11-28T18:02:42.383Z"
   },
   {
    "duration": 65,
    "start_time": "2021-11-28T18:02:42.395Z"
   },
   {
    "duration": 10,
    "start_time": "2021-11-28T18:02:42.462Z"
   },
   {
    "duration": 3112,
    "start_time": "2021-11-28T18:02:42.474Z"
   },
   {
    "duration": 793,
    "start_time": "2021-11-28T18:02:45.588Z"
   },
   {
    "duration": 1118,
    "start_time": "2021-11-28T18:02:46.383Z"
   },
   {
    "duration": 4,
    "start_time": "2021-11-28T18:02:47.503Z"
   },
   {
    "duration": 6,
    "start_time": "2021-11-28T18:02:47.509Z"
   },
   {
    "duration": 3,
    "start_time": "2021-11-28T18:02:47.517Z"
   },
   {
    "duration": 44,
    "start_time": "2021-11-28T18:02:47.522Z"
   },
   {
    "duration": 82,
    "start_time": "2021-11-28T18:02:47.569Z"
   },
   {
    "duration": 94,
    "start_time": "2021-11-28T18:02:47.653Z"
   },
   {
    "duration": 481,
    "start_time": "2021-11-28T18:02:47.750Z"
   },
   {
    "duration": 20,
    "start_time": "2021-11-28T18:02:48.234Z"
   },
   {
    "duration": 8,
    "start_time": "2021-11-28T18:02:48.256Z"
   },
   {
    "duration": 561,
    "start_time": "2021-11-28T18:02:48.266Z"
   },
   {
    "duration": 75728,
    "start_time": "2021-11-28T18:02:48.830Z"
   },
   {
    "duration": 1488,
    "start_time": "2021-11-28T18:04:04.560Z"
   },
   {
    "duration": 5,
    "start_time": "2021-11-28T18:04:06.049Z"
   },
   {
    "duration": 22,
    "start_time": "2021-11-28T18:04:06.056Z"
   },
   {
    "duration": 847,
    "start_time": "2021-11-28T18:04:06.079Z"
   },
   {
    "duration": 1355,
    "start_time": "2021-11-28T18:05:46.898Z"
   },
   {
    "duration": 7,
    "start_time": "2021-11-28T18:05:50.759Z"
   },
   {
    "duration": 12,
    "start_time": "2021-11-28T18:05:53.225Z"
   },
   {
    "duration": 1467,
    "start_time": "2021-11-28T18:05:58.885Z"
   },
   {
    "duration": 6,
    "start_time": "2021-11-28T18:06:01.614Z"
   },
   {
    "duration": 1237,
    "start_time": "2021-11-28T18:06:05.307Z"
   },
   {
    "duration": 6,
    "start_time": "2021-11-28T18:06:07.896Z"
   },
   {
    "duration": 1194,
    "start_time": "2021-11-28T18:06:13.920Z"
   },
   {
    "duration": 21,
    "start_time": "2021-11-28T18:06:15.118Z"
   },
   {
    "duration": 13,
    "start_time": "2021-11-28T18:06:15.141Z"
   },
   {
    "duration": 25,
    "start_time": "2021-11-28T18:06:15.155Z"
   },
   {
    "duration": 6,
    "start_time": "2021-11-28T18:06:15.182Z"
   },
   {
    "duration": 16,
    "start_time": "2021-11-28T18:06:15.189Z"
   },
   {
    "duration": 18,
    "start_time": "2021-11-28T18:06:15.207Z"
   },
   {
    "duration": 48,
    "start_time": "2021-11-28T18:06:15.227Z"
   },
   {
    "duration": 9,
    "start_time": "2021-11-28T18:06:15.277Z"
   },
   {
    "duration": 2907,
    "start_time": "2021-11-28T18:06:15.288Z"
   },
   {
    "duration": 781,
    "start_time": "2021-11-28T18:06:18.197Z"
   },
   {
    "duration": 1057,
    "start_time": "2021-11-28T18:06:18.980Z"
   },
   {
    "duration": 5,
    "start_time": "2021-11-28T18:06:20.039Z"
   },
   {
    "duration": 11,
    "start_time": "2021-11-28T18:06:20.046Z"
   },
   {
    "duration": 4,
    "start_time": "2021-11-28T18:06:20.058Z"
   },
   {
    "duration": 31,
    "start_time": "2021-11-28T18:06:20.064Z"
   },
   {
    "duration": 49,
    "start_time": "2021-11-28T18:06:20.097Z"
   },
   {
    "duration": 101,
    "start_time": "2021-11-28T18:06:20.148Z"
   },
   {
    "duration": 416,
    "start_time": "2021-11-28T18:06:20.251Z"
   },
   {
    "duration": 8,
    "start_time": "2021-11-28T18:06:20.669Z"
   },
   {
    "duration": 30,
    "start_time": "2021-11-28T18:06:20.678Z"
   },
   {
    "duration": 544,
    "start_time": "2021-11-28T18:06:20.711Z"
   },
   {
    "duration": 78602,
    "start_time": "2021-11-28T18:06:21.256Z"
   },
   {
    "duration": 1387,
    "start_time": "2021-11-28T18:07:39.859Z"
   },
   {
    "duration": 98,
    "start_time": "2021-11-28T18:07:41.248Z"
   },
   {
    "duration": 13,
    "start_time": "2021-11-28T18:07:41.348Z"
   },
   {
    "duration": 850,
    "start_time": "2021-11-28T18:07:41.363Z"
   },
   {
    "duration": -52,
    "start_time": "2021-11-28T19:26:17.612Z"
   },
   {
    "duration": 974,
    "start_time": "2021-11-28T19:26:18.751Z"
   },
   {
    "duration": 1056,
    "start_time": "2021-11-28T19:26:45.096Z"
   },
   {
    "duration": 1092,
    "start_time": "2021-11-28T19:27:49.989Z"
   },
   {
    "duration": 7257,
    "start_time": "2021-11-28T19:29:07.735Z"
   },
   {
    "duration": 9,
    "start_time": "2021-11-28T19:33:47.489Z"
   },
   {
    "duration": 9,
    "start_time": "2021-11-28T19:33:50.369Z"
   },
   {
    "duration": 84,
    "start_time": "2021-11-28T19:59:07.437Z"
   },
   {
    "duration": 1152,
    "start_time": "2021-11-28T20:35:23.404Z"
   },
   {
    "duration": 22,
    "start_time": "2021-11-28T20:35:24.558Z"
   },
   {
    "duration": 14,
    "start_time": "2021-11-28T20:35:24.582Z"
   },
   {
    "duration": 8,
    "start_time": "2021-11-28T20:35:24.598Z"
   },
   {
    "duration": 2,
    "start_time": "2021-11-28T20:35:24.608Z"
   },
   {
    "duration": 10,
    "start_time": "2021-11-28T20:35:24.612Z"
   },
   {
    "duration": 27,
    "start_time": "2021-11-28T20:35:24.623Z"
   },
   {
    "duration": 40,
    "start_time": "2021-11-28T20:35:24.653Z"
   },
   {
    "duration": 10,
    "start_time": "2021-11-28T20:35:24.695Z"
   },
   {
    "duration": 2840,
    "start_time": "2021-11-28T20:35:24.706Z"
   },
   {
    "duration": 799,
    "start_time": "2021-11-28T20:35:27.547Z"
   },
   {
    "duration": 1068,
    "start_time": "2021-11-28T20:35:28.348Z"
   },
   {
    "duration": 5,
    "start_time": "2021-11-28T20:35:29.418Z"
   },
   {
    "duration": 21,
    "start_time": "2021-11-28T20:35:29.425Z"
   },
   {
    "duration": 21,
    "start_time": "2021-11-28T20:35:29.448Z"
   },
   {
    "duration": 37,
    "start_time": "2021-11-28T20:35:29.471Z"
   },
   {
    "duration": 10,
    "start_time": "2021-11-28T20:35:29.510Z"
   },
   {
    "duration": 129,
    "start_time": "2021-11-28T20:35:29.521Z"
   },
   {
    "duration": 386,
    "start_time": "2021-11-28T20:35:29.653Z"
   },
   {
    "duration": 11,
    "start_time": "2021-11-28T20:35:30.041Z"
   },
   {
    "duration": 26,
    "start_time": "2021-11-28T20:35:30.054Z"
   },
   {
    "duration": 577,
    "start_time": "2021-11-28T20:35:30.082Z"
   },
   {
    "duration": 77725,
    "start_time": "2021-11-28T20:35:30.662Z"
   },
   {
    "duration": 1462,
    "start_time": "2021-11-28T20:36:48.389Z"
   },
   {
    "duration": 93,
    "start_time": "2021-11-28T20:36:49.853Z"
   },
   {
    "duration": 26,
    "start_time": "2021-11-28T20:36:49.948Z"
   },
   {
    "duration": 997,
    "start_time": "2021-11-28T20:36:49.976Z"
   },
   {
    "duration": 1099,
    "start_time": "2021-11-28T20:36:50.975Z"
   },
   {
    "duration": 1598,
    "start_time": "2021-11-29T05:29:52.844Z"
   },
   {
    "duration": 24,
    "start_time": "2021-11-29T05:29:54.445Z"
   },
   {
    "duration": 21,
    "start_time": "2021-11-29T05:29:54.472Z"
   },
   {
    "duration": 11,
    "start_time": "2021-11-29T05:29:54.496Z"
   },
   {
    "duration": 4,
    "start_time": "2021-11-29T05:29:54.509Z"
   },
   {
    "duration": 10,
    "start_time": "2021-11-29T05:29:54.515Z"
   },
   {
    "duration": 45,
    "start_time": "2021-11-29T05:29:54.528Z"
   },
   {
    "duration": 66,
    "start_time": "2021-11-29T05:29:54.577Z"
   },
   {
    "duration": 15,
    "start_time": "2021-11-29T05:29:54.667Z"
   },
   {
    "duration": 5024,
    "start_time": "2021-11-29T05:29:54.684Z"
   },
   {
    "duration": 1350,
    "start_time": "2021-11-29T05:29:59.711Z"
   },
   {
    "duration": 1729,
    "start_time": "2021-11-29T05:30:01.063Z"
   },
   {
    "duration": 5,
    "start_time": "2021-11-29T05:30:02.794Z"
   },
   {
    "duration": 11,
    "start_time": "2021-11-29T05:30:02.801Z"
   },
   {
    "duration": 4,
    "start_time": "2021-11-29T05:30:02.814Z"
   },
   {
    "duration": 84,
    "start_time": "2021-11-29T05:30:02.820Z"
   },
   {
    "duration": 62,
    "start_time": "2021-11-29T05:30:02.907Z"
   },
   {
    "duration": 103,
    "start_time": "2021-11-29T05:30:02.974Z"
   },
   {
    "duration": 541,
    "start_time": "2021-11-29T05:30:03.080Z"
   },
   {
    "duration": 13,
    "start_time": "2021-11-29T05:30:03.624Z"
   },
   {
    "duration": 28,
    "start_time": "2021-11-29T05:30:03.639Z"
   },
   {
    "duration": 816,
    "start_time": "2021-11-29T05:30:03.669Z"
   },
   {
    "duration": 136451,
    "start_time": "2021-11-29T05:30:04.489Z"
   },
   {
    "duration": 1825,
    "start_time": "2021-11-29T05:32:20.943Z"
   },
   {
    "duration": 8,
    "start_time": "2021-11-29T05:32:22.771Z"
   },
   {
    "duration": 23,
    "start_time": "2021-11-29T05:32:22.781Z"
   },
   {
    "duration": 1743,
    "start_time": "2021-11-29T05:32:22.807Z"
   },
   {
    "duration": 1971,
    "start_time": "2021-11-29T05:32:24.553Z"
   },
   {
    "duration": 1638,
    "start_time": "2021-11-29T17:17:53.995Z"
   },
   {
    "duration": 24,
    "start_time": "2021-11-29T17:17:55.636Z"
   },
   {
    "duration": 21,
    "start_time": "2021-11-29T17:17:55.663Z"
   },
   {
    "duration": 10,
    "start_time": "2021-11-29T17:17:55.687Z"
   },
   {
    "duration": 29,
    "start_time": "2021-11-29T17:17:55.700Z"
   },
   {
    "duration": 9,
    "start_time": "2021-11-29T17:17:55.731Z"
   },
   {
    "duration": 15,
    "start_time": "2021-11-29T17:17:55.744Z"
   },
   {
    "duration": 101,
    "start_time": "2021-11-29T17:17:55.764Z"
   },
   {
    "duration": 16,
    "start_time": "2021-11-29T17:17:55.870Z"
   },
   {
    "duration": 5010,
    "start_time": "2021-11-29T17:17:55.889Z"
   },
   {
    "duration": 1611,
    "start_time": "2021-11-29T17:18:00.902Z"
   },
   {
    "duration": 1868,
    "start_time": "2021-11-29T17:18:02.517Z"
   },
   {
    "duration": 5,
    "start_time": "2021-11-29T17:18:04.387Z"
   },
   {
    "duration": 12,
    "start_time": "2021-11-29T17:18:04.395Z"
   },
   {
    "duration": 20,
    "start_time": "2021-11-29T17:18:04.409Z"
   },
   {
    "duration": 53,
    "start_time": "2021-11-29T17:18:04.432Z"
   },
   {
    "duration": 47,
    "start_time": "2021-11-29T17:18:04.488Z"
   },
   {
    "duration": 193,
    "start_time": "2021-11-29T17:18:04.538Z"
   },
   {
    "duration": 512,
    "start_time": "2021-11-29T17:18:04.733Z"
   },
   {
    "duration": 12,
    "start_time": "2021-11-29T17:18:05.247Z"
   },
   {
    "duration": 17,
    "start_time": "2021-11-29T17:18:05.262Z"
   },
   {
    "duration": 886,
    "start_time": "2021-11-29T17:18:05.281Z"
   },
   {
    "duration": 47093,
    "start_time": "2021-11-29T17:18:06.173Z"
   },
   {
    "duration": -123,
    "start_time": "2021-11-29T17:18:53.392Z"
   },
   {
    "duration": -126,
    "start_time": "2021-11-29T17:18:53.397Z"
   },
   {
    "duration": -129,
    "start_time": "2021-11-29T17:18:53.402Z"
   },
   {
    "duration": -132,
    "start_time": "2021-11-29T17:18:53.407Z"
   },
   {
    "duration": -135,
    "start_time": "2021-11-29T17:18:53.411Z"
   },
   {
    "duration": -139,
    "start_time": "2021-11-29T17:18:53.416Z"
   },
   {
    "duration": 2302,
    "start_time": "2021-11-29T17:18:58.207Z"
   },
   {
    "duration": 1706,
    "start_time": "2021-11-29T17:19:11.528Z"
   },
   {
    "duration": 1743,
    "start_time": "2021-11-29T17:19:32.078Z"
   },
   {
    "duration": 1776,
    "start_time": "2021-11-29T17:19:44.153Z"
   },
   {
    "duration": 139586,
    "start_time": "2021-11-29T17:20:34.366Z"
   },
   {
    "duration": 540,
    "start_time": "2021-11-29T17:22:53.955Z"
   },
   {
    "duration": 5390,
    "start_time": "2021-11-29T17:22:55.044Z"
   },
   {
    "duration": 570,
    "start_time": "2021-11-29T17:23:16.904Z"
   },
   {
    "duration": 510,
    "start_time": "2021-11-29T17:23:25.690Z"
   },
   {
    "duration": 5029,
    "start_time": "2021-11-29T17:23:51.968Z"
   },
   {
    "duration": 361792,
    "start_time": "2021-11-29T17:24:24.078Z"
   },
   {
    "duration": 2590,
    "start_time": "2021-11-29T17:30:25.873Z"
   },
   {
    "duration": 1587,
    "start_time": "2021-11-29T17:53:30.238Z"
   },
   {
    "duration": 25,
    "start_time": "2021-11-29T17:53:31.828Z"
   },
   {
    "duration": 22,
    "start_time": "2021-11-29T17:53:31.856Z"
   },
   {
    "duration": 11,
    "start_time": "2021-11-29T17:53:31.880Z"
   },
   {
    "duration": 4,
    "start_time": "2021-11-29T17:53:31.893Z"
   },
   {
    "duration": 36,
    "start_time": "2021-11-29T17:53:31.899Z"
   },
   {
    "duration": 19,
    "start_time": "2021-11-29T17:53:31.937Z"
   },
   {
    "duration": 89,
    "start_time": "2021-11-29T17:53:31.960Z"
   },
   {
    "duration": 15,
    "start_time": "2021-11-29T17:53:32.052Z"
   },
   {
    "duration": 1350,
    "start_time": "2021-11-29T17:53:32.070Z"
   },
   {
    "duration": 1457,
    "start_time": "2021-11-29T17:53:33.422Z"
   },
   {
    "duration": 2023,
    "start_time": "2021-11-29T17:53:34.882Z"
   },
   {
    "duration": 6,
    "start_time": "2021-11-29T17:53:36.908Z"
   },
   {
    "duration": 15,
    "start_time": "2021-11-29T17:53:36.916Z"
   },
   {
    "duration": 5,
    "start_time": "2021-11-29T17:53:36.934Z"
   },
   {
    "duration": 53,
    "start_time": "2021-11-29T17:53:36.942Z"
   },
   {
    "duration": 38,
    "start_time": "2021-11-29T17:53:36.998Z"
   },
   {
    "duration": 105,
    "start_time": "2021-11-29T17:53:37.038Z"
   },
   {
    "duration": 527,
    "start_time": "2021-11-29T17:53:37.230Z"
   },
   {
    "duration": 13,
    "start_time": "2021-11-29T17:53:37.759Z"
   },
   {
    "duration": 11,
    "start_time": "2021-11-29T17:53:37.775Z"
   },
   {
    "duration": 784,
    "start_time": "2021-11-29T17:53:37.789Z"
   },
   {
    "duration": 142673,
    "start_time": "2021-11-29T17:53:38.578Z"
   },
   {
    "duration": 1877,
    "start_time": "2021-11-29T17:56:01.254Z"
   },
   {
    "duration": 8,
    "start_time": "2021-11-29T17:56:03.134Z"
   },
   {
    "duration": 24,
    "start_time": "2021-11-29T17:56:03.144Z"
   },
   {
    "duration": 1788,
    "start_time": "2021-11-29T17:56:03.170Z"
   },
   {
    "duration": 2257,
    "start_time": "2021-11-29T17:56:04.961Z"
   },
   {
    "duration": 1590,
    "start_time": "2021-11-30T04:36:57.748Z"
   },
   {
    "duration": 25,
    "start_time": "2021-11-30T04:36:59.341Z"
   },
   {
    "duration": 25,
    "start_time": "2021-11-30T04:36:59.369Z"
   },
   {
    "duration": 10,
    "start_time": "2021-11-30T04:36:59.397Z"
   },
   {
    "duration": 4,
    "start_time": "2021-11-30T04:36:59.409Z"
   },
   {
    "duration": 8,
    "start_time": "2021-11-30T04:36:59.415Z"
   },
   {
    "duration": 13,
    "start_time": "2021-11-30T04:36:59.426Z"
   },
   {
    "duration": 65,
    "start_time": "2021-11-30T04:36:59.481Z"
   },
   {
    "duration": 35,
    "start_time": "2021-11-30T04:36:59.550Z"
   },
   {
    "duration": 1309,
    "start_time": "2021-11-30T04:36:59.588Z"
   },
   {
    "duration": 1408,
    "start_time": "2021-11-30T04:37:00.899Z"
   },
   {
    "duration": 1735,
    "start_time": "2021-11-30T04:37:02.309Z"
   },
   {
    "duration": 5,
    "start_time": "2021-11-30T04:37:04.046Z"
   },
   {
    "duration": 29,
    "start_time": "2021-11-30T04:37:04.053Z"
   },
   {
    "duration": 3,
    "start_time": "2021-11-30T04:37:04.084Z"
   },
   {
    "duration": 50,
    "start_time": "2021-11-30T04:37:04.089Z"
   },
   {
    "duration": 141,
    "start_time": "2021-11-30T04:37:04.141Z"
   },
   {
    "duration": 102,
    "start_time": "2021-11-30T04:37:04.285Z"
   },
   {
    "duration": 521,
    "start_time": "2021-11-30T04:37:04.390Z"
   },
   {
    "duration": 12,
    "start_time": "2021-11-30T04:37:04.914Z"
   },
   {
    "duration": 11,
    "start_time": "2021-11-30T04:37:04.929Z"
   },
   {
    "duration": 840,
    "start_time": "2021-11-30T04:37:04.943Z"
   }
  ],
  "kernelspec": {
   "display_name": "Python 3",
   "language": "python",
   "name": "python3"
  },
  "language_info": {
   "codemirror_mode": {
    "name": "ipython",
    "version": 3
   },
   "file_extension": ".py",
   "mimetype": "text/x-python",
   "name": "python",
   "nbconvert_exporter": "python",
   "pygments_lexer": "ipython3",
   "version": "3.8.10"
  },
  "toc": {
   "base_numbering": 1,
   "nav_menu": {},
   "number_sections": true,
   "sideBar": true,
   "skip_h1_title": true,
   "title_cell": "Table of Contents",
   "title_sidebar": "Contents",
   "toc_cell": false,
   "toc_position": {},
   "toc_section_display": true,
   "toc_window_display": false
  }
 },
 "nbformat": 4,
 "nbformat_minor": 2
}
